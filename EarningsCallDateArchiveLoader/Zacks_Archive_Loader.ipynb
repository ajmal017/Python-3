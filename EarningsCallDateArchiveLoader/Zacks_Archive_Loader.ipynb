{
 "cells": [
  {
   "cell_type": "code",
   "execution_count": 1,
   "metadata": {
    "collapsed": true
   },
   "outputs": [],
   "source": [
    "import csv\n",
    "import os\n",
    "from pprint import pprint\n",
    "from pymongo import MongoClient\n",
    "from datetime import datetime\n",
    "import logging"
   ]
  },
  {
   "cell_type": "code",
   "execution_count": 2,
   "metadata": {
    "collapsed": true
   },
   "outputs": [],
   "source": [
    "LOG_FILENAME = 'archive_loader.log'\n",
    "logging.basicConfig(filename=LOG_FILENAME,level=logging.DEBUG)\n",
    "\n",
    "relative_root = './DatesArchive/'"
   ]
  },
  {
   "cell_type": "code",
   "execution_count": 3,
   "metadata": {
    "collapsed": true
   },
   "outputs": [],
   "source": [
    "def read_files():\n",
    "    ret_dict = {}\n",
    "    for filename in os.listdir(relative_root):\n",
    "        with open(relative_root + filename, 'r') as file:\n",
    "            reader = csv.reader(file)\n",
    "            dates = list(reader)\n",
    "            ret_dict[filename[:-4]] = dates[2:]\n",
    "    return ret_dict"
   ]
  },
  {
   "cell_type": "code",
   "execution_count": 5,
   "metadata": {
    "collapsed": true
   },
   "outputs": [],
   "source": [
    "def get_collection():\n",
    "    db = MongoClient('localhost', 27017).python_import\n",
    "    return db.zacks_earning_call_dates"
   ]
  },
  {
   "cell_type": "code",
   "execution_count": 6,
   "metadata": {
    "collapsed": true
   },
   "outputs": [],
   "source": [
    "report_date_dict = read_files()\n",
    "zecda = get_collection()\n",
    "for key, value in report_date_dict.items():\n",
    "    previous_report_date = None\n",
    "    for v in value:\n",
    "        try:\n",
    "            date_str = v[0].split('/')\n",
    "            report_date = datetime(int(date_str[2]), int(date_str[0]), int(date_str[1]))\n",
    "            ami_report_date = (report_date.year - 1900)*10000 + report_date.month*100 + report_date.day\n",
    "            zecda.insert_one({\n",
    "                'ticker':key,\n",
    "                'nextReportDate':report_date,\n",
    "                'amiNextReportDate':ami_report_date,\n",
    "                'previousReportDate':previous_report_date\n",
    "            })\n",
    "            previous_report_date = report_date\n",
    "        except Exception:\n",
    "            logging.error('error happened on: ' + key + ' - ' + str(v))\n"
   ]
  }
 ],
 "metadata": {
  "kernelspec": {
   "display_name": "Python 3",
   "language": "python",
   "name": "python3"
  },
  "language_info": {
   "codemirror_mode": {
    "name": "ipython",
    "version": 3
   },
   "file_extension": ".py",
   "mimetype": "text/x-python",
   "name": "python",
   "nbconvert_exporter": "python",
   "pygments_lexer": "ipython3",
   "version": "3.6.0"
  }
 },
 "nbformat": 4,
 "nbformat_minor": 2
}
