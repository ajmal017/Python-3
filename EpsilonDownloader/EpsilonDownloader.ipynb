{
 "cells": [
  {
   "cell_type": "code",
   "execution_count": null,
   "metadata": {
    "collapsed": true
   },
   "outputs": [],
   "source": [
    "from bs4 import BeautifulSoup\n",
    "import requests"
   ]
  },
  {
   "cell_type": "code",
   "execution_count": null,
   "metadata": {
    "collapsed": true
   },
   "outputs": [],
   "source": [
    "def process_page(page_tree):\n",
    "    links = page_tree.select('div.post-items div h2 a')\n",
    "    for link in links:\n",
    "        process_link(link)\n",
    "\n",
    "def process_link(link):\n",
    "    article_url = link['href']\n",
    "    article = requests.get(article_url)\n",
    "    if article.status_code == 200:\n",
    "        print('article opened: ' + article_url)\n",
    "        article_content = BeautifulSoup(article.text, \"lxml\")\n",
    "        try:\n",
    "            pdf_url = ('http://www.salientpartners.com'\n",
    "                       + article_content.find('a', 'icon-pdf')['href'])\n",
    "            pdf = requests.get(pdf_url, stream=True)\n",
    "            save_pdf(pdf)\n",
    "        except Exception:\n",
    "            print('Error happened at: ', article_url)\n",
    "\n",
    "def save_pdf(pdf):\n",
    "    with open(pdf.url.split(\"/\")[-1], 'wb') as output:\n",
    "        output.write(pdf.content)"
   ]
  },
  {
   "cell_type": "code",
   "execution_count": null,
   "metadata": {
    "collapsed": false
   },
   "outputs": [],
   "source": [
    "for year in range(2012, 2018):\n",
    "    for month in range(1, 13):\n",
    "        html = requests.get('http://www.salientpartners.com/epsilon-theory/'\n",
    "                            + str(year) + '/' + str(month))\n",
    "        if html.status_code == 200:\n",
    "            print('archive page opened: ' + html.url)\n",
    "            soup = BeautifulSoup(html.text, \"lxml\")\n",
    "            process_page(soup)"
   ]
  },
  {
   "cell_type": "code",
   "execution_count": null,
   "metadata": {
    "collapsed": true
   },
   "outputs": [],
   "source": []
  }
 ],
 "metadata": {
  "kernelspec": {
   "display_name": "Python 3",
   "language": "python",
   "name": "python3"
  },
  "language_info": {
   "codemirror_mode": {
    "name": "ipython",
    "version": 3
   },
   "file_extension": ".py",
   "mimetype": "text/x-python",
   "name": "python",
   "nbconvert_exporter": "python",
   "pygments_lexer": "ipython3",
   "version": "3.5.2"
  }
 },
 "nbformat": 4,
 "nbformat_minor": 2
}
