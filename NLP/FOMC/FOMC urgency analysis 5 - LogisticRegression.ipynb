{
 "cells": [
  {
   "cell_type": "code",
   "execution_count": 47,
   "metadata": {
    "collapsed": true,
    "deletable": true,
    "editable": true
   },
   "outputs": [],
   "source": [
    "from sklearn.feature_extraction.text import CountVectorizer, TfidfTransformer\n",
    "from sklearn.pipeline import Pipeline\n",
    "from sklearn.linear_model import LogisticRegression\n",
    "from sklearn.model_selection import GridSearchCV\n",
    "from sklearn.metrics import classification_report, confusion_matrix, precision_score"
   ]
  },
  {
   "cell_type": "code",
   "execution_count": 48,
   "metadata": {
    "collapsed": true,
    "deletable": true,
    "editable": true
   },
   "outputs": [],
   "source": [
    "import pandas as pd\n",
    "import numpy as np\n",
    "import matplotlib.pyplot as plt\n",
    "import seaborn as sns\n",
    "%matplotlib inline"
   ]
  },
  {
   "cell_type": "code",
   "execution_count": 49,
   "metadata": {
    "collapsed": true,
    "deletable": true,
    "editable": true
   },
   "outputs": [],
   "source": [
    "from datetime import datetime"
   ]
  },
  {
   "cell_type": "markdown",
   "metadata": {
    "deletable": true,
    "editable": true
   },
   "source": [
    "# Load actors with score"
   ]
  },
  {
   "cell_type": "code",
   "execution_count": 50,
   "metadata": {
    "collapsed": true,
    "deletable": true,
    "editable": true
   },
   "outputs": [],
   "source": [
    "actors = pd.read_csv('fomc_scorecard.csv', sep=\";\", index_col=3, header=0)\n",
    "actors = actors[actors['Score'] != 0]\n",
    "actors.drop('Shifted score', inplace=True, axis=1)"
   ]
  },
  {
   "cell_type": "markdown",
   "metadata": {
    "deletable": true,
    "editable": true
   },
   "source": [
    "# Load articles"
   ]
  },
  {
   "cell_type": "code",
   "execution_count": 51,
   "metadata": {
    "collapsed": true,
    "deletable": true,
    "editable": true
   },
   "outputs": [],
   "source": [
    "from pymongo import MongoClient"
   ]
  },
  {
   "cell_type": "code",
   "execution_count": 52,
   "metadata": {
    "collapsed": true,
    "deletable": true,
    "editable": true
   },
   "outputs": [],
   "source": [
    "client = MongoClient('localhost', 27017)\n",
    "fomc_collection = client.python_import.fomc_articles"
   ]
  },
  {
   "cell_type": "code",
   "execution_count": 53,
   "metadata": {
    "collapsed": false,
    "deletable": true,
    "editable": true
   },
   "outputs": [],
   "source": [
    "fomc_articles = pd.DataFrame(list(fomc_collection.find()))\n",
    "fomc_articles.set_index('_id', inplace=True)"
   ]
  },
  {
   "cell_type": "markdown",
   "metadata": {
    "deletable": true,
    "editable": true
   },
   "source": [
    "# Merge articles and actors score"
   ]
  },
  {
   "cell_type": "code",
   "execution_count": 54,
   "metadata": {
    "collapsed": false,
    "deletable": true,
    "editable": true
   },
   "outputs": [
    {
     "data": {
      "text/html": [
       "<div>\n",
       "<table border=\"1\" class=\"dataframe\">\n",
       "  <thead>\n",
       "    <tr style=\"text-align: right;\">\n",
       "      <th></th>\n",
       "      <th>ParticipantJobTitle</th>\n",
       "      <th>ParticipantLocation</th>\n",
       "      <th>ParticipantName</th>\n",
       "      <th>ParticipantTitleLastName</th>\n",
       "      <th>ParticipantUrl</th>\n",
       "      <th>RemarkDate</th>\n",
       "      <th>RemarkDescription</th>\n",
       "      <th>RemarkType</th>\n",
       "      <th>content</th>\n",
       "      <th>date</th>\n",
       "      <th>url</th>\n",
       "      <th>Name</th>\n",
       "      <th>Score</th>\n",
       "    </tr>\n",
       "    <tr>\n",
       "      <th>_id</th>\n",
       "      <th></th>\n",
       "      <th></th>\n",
       "      <th></th>\n",
       "      <th></th>\n",
       "      <th></th>\n",
       "      <th></th>\n",
       "      <th></th>\n",
       "      <th></th>\n",
       "      <th></th>\n",
       "      <th></th>\n",
       "      <th></th>\n",
       "      <th></th>\n",
       "      <th></th>\n",
       "    </tr>\n",
       "  </thead>\n",
       "  <tbody>\n",
       "    <tr>\n",
       "      <th>58cab2973740f50f2c6fdccb</th>\n",
       "      <td>Pres.</td>\n",
       "      <td>Richmond</td>\n",
       "      <td>Jeffrey Lacker</td>\n",
       "      <td>Pres. Lacker</td>\n",
       "      <td>/fomcspeak/jeffrey-lacker</td>\n",
       "      <td>Dec. 03, 2013</td>\n",
       "      <td>Lacker Testifies on Bankruptcy and Financial I...</td>\n",
       "      <td>Testimony</td>\n",
       "      <td>Good morning. I am honored to speak to the Sub...</td>\n",
       "      <td>2013-12-03 00:00:00</td>\n",
       "      <td>https://www.richmondfed.org/press_room/speeche...</td>\n",
       "      <td>Jeffrey M. Lacker</td>\n",
       "      <td>2</td>\n",
       "    </tr>\n",
       "    <tr>\n",
       "      <th>58cab29e3740f50f2c6fdcce</th>\n",
       "      <td>Pres.</td>\n",
       "      <td>Richmond</td>\n",
       "      <td>Jeffrey Lacker</td>\n",
       "      <td>Pres. Lacker</td>\n",
       "      <td>/fomcspeak/jeffrey-lacker</td>\n",
       "      <td>Apr. 18, 2013 (8:06 AM ET)</td>\n",
       "      <td>Fed's Lacker Would End QE Now</td>\n",
       "      <td>Video Interview</td>\n",
       "      <td>Fed's Lacker Would End QE Now\\n\\t\\t\\t\\t\\n In a...</td>\n",
       "      <td>2013-04-18 08:06:00</td>\n",
       "      <td>http://video.cnbc.com/gallery/?video=3000162414</td>\n",
       "      <td>Jeffrey M. Lacker</td>\n",
       "      <td>2</td>\n",
       "    </tr>\n",
       "  </tbody>\n",
       "</table>\n",
       "</div>"
      ],
      "text/plain": [
       "                         ParticipantJobTitle ParticipantLocation  \\\n",
       "_id                                                                \n",
       "58cab2973740f50f2c6fdccb               Pres.            Richmond   \n",
       "58cab29e3740f50f2c6fdcce               Pres.            Richmond   \n",
       "\n",
       "                         ParticipantName ParticipantTitleLastName  \\\n",
       "_id                                                                 \n",
       "58cab2973740f50f2c6fdccb  Jeffrey Lacker             Pres. Lacker   \n",
       "58cab29e3740f50f2c6fdcce  Jeffrey Lacker             Pres. Lacker   \n",
       "\n",
       "                                     ParticipantUrl  \\\n",
       "_id                                                   \n",
       "58cab2973740f50f2c6fdccb  /fomcspeak/jeffrey-lacker   \n",
       "58cab29e3740f50f2c6fdcce  /fomcspeak/jeffrey-lacker   \n",
       "\n",
       "                                          RemarkDate  \\\n",
       "_id                                                    \n",
       "58cab2973740f50f2c6fdccb               Dec. 03, 2013   \n",
       "58cab29e3740f50f2c6fdcce  Apr. 18, 2013 (8:06 AM ET)   \n",
       "\n",
       "                                                          RemarkDescription  \\\n",
       "_id                                                                           \n",
       "58cab2973740f50f2c6fdccb  Lacker Testifies on Bankruptcy and Financial I...   \n",
       "58cab29e3740f50f2c6fdcce                      Fed's Lacker Would End QE Now   \n",
       "\n",
       "                               RemarkType  \\\n",
       "_id                                         \n",
       "58cab2973740f50f2c6fdccb        Testimony   \n",
       "58cab29e3740f50f2c6fdcce  Video Interview   \n",
       "\n",
       "                                                                    content  \\\n",
       "_id                                                                           \n",
       "58cab2973740f50f2c6fdccb  Good morning. I am honored to speak to the Sub...   \n",
       "58cab29e3740f50f2c6fdcce  Fed's Lacker Would End QE Now\\n\\t\\t\\t\\t\\n In a...   \n",
       "\n",
       "                                        date  \\\n",
       "_id                                            \n",
       "58cab2973740f50f2c6fdccb 2013-12-03 00:00:00   \n",
       "58cab29e3740f50f2c6fdcce 2013-04-18 08:06:00   \n",
       "\n",
       "                                                                        url  \\\n",
       "_id                                                                           \n",
       "58cab2973740f50f2c6fdccb  https://www.richmondfed.org/press_room/speeche...   \n",
       "58cab29e3740f50f2c6fdcce    http://video.cnbc.com/gallery/?video=3000162414   \n",
       "\n",
       "                                       Name  Score  \n",
       "_id                                                 \n",
       "58cab2973740f50f2c6fdccb  Jeffrey M. Lacker      2  \n",
       "58cab29e3740f50f2c6fdcce  Jeffrey M. Lacker      2  "
      ]
     },
     "execution_count": 54,
     "metadata": {},
     "output_type": "execute_result"
    }
   ],
   "source": [
    "fomc_articles_scored = fomc_articles.merge(actors, left_on='ParticipantName', right_index=True)\n",
    "fomc_articles_scored.head(2)"
   ]
  },
  {
   "cell_type": "markdown",
   "metadata": {
    "deletable": true,
    "editable": true
   },
   "source": [
    "# Number of articles in each score class"
   ]
  },
  {
   "cell_type": "code",
   "execution_count": 55,
   "metadata": {
    "collapsed": false,
    "deletable": true,
    "editable": true
   },
   "outputs": [
    {
     "data": {
      "text/plain": [
       "Score\n",
       "-2    148\n",
       "-1    168\n",
       " 1    150\n",
       " 2     72\n",
       "Name: url, dtype: int64"
      ]
     },
     "execution_count": 55,
     "metadata": {},
     "output_type": "execute_result"
    }
   ],
   "source": [
    "fomc_articles_scored.groupby('Score')['url'].count()"
   ]
  },
  {
   "cell_type": "markdown",
   "metadata": {
    "deletable": true,
    "editable": true
   },
   "source": [
    "# Create train data and test data"
   ]
  },
  {
   "cell_type": "code",
   "execution_count": 56,
   "metadata": {
    "collapsed": false,
    "deletable": true,
    "editable": true
   },
   "outputs": [],
   "source": [
    "train_data = fomc_articles_scored[fomc_articles_scored['date'] < datetime(2016, 6, 1)]\n",
    "test_data = fomc_articles_scored[fomc_articles_scored['date'] >= datetime(2016, 6, 1)]"
   ]
  },
  {
   "cell_type": "code",
   "execution_count": 57,
   "metadata": {
    "collapsed": true,
    "deletable": true,
    "editable": true
   },
   "outputs": [],
   "source": [
    "X_train = train_data['content']\n",
    "y_train = train_data['Score']\n",
    "X_test = test_data['content']\n",
    "y_test = test_data['Score']"
   ]
  },
  {
   "cell_type": "markdown",
   "metadata": {
    "deletable": true,
    "editable": true
   },
   "source": [
    "# Tf-Idf and LogisticRegression model"
   ]
  },
  {
   "cell_type": "markdown",
   "metadata": {
    "deletable": true,
    "editable": true
   },
   "source": [
    "### GridSearch on pipeline - it takes 20+ minutes on my machine!!!!!!!\n",
    "###### http://scikit-learn.org/stable/auto_examples/model_selection/grid_search_digits.html"
   ]
  },
  {
   "cell_type": "code",
   "execution_count": 12,
   "metadata": {
    "collapsed": false,
    "deletable": true,
    "editable": true,
    "scrolled": true
   },
   "outputs": [
    {
     "name": "stdout",
     "output_type": "stream",
     "text": [
      "Fitting 5 folds for each of 144 candidates, totalling 720 fits\n"
     ]
    },
    {
     "name": "stderr",
     "output_type": "stream",
     "text": [
      "[Parallel(n_jobs=8)]: Done  16 tasks      | elapsed:   15.7s\n",
      "[Parallel(n_jobs=8)]: Done 112 tasks      | elapsed:  3.1min\n",
      "[Parallel(n_jobs=8)]: Done 272 tasks      | elapsed:  7.0min\n",
      "[Parallel(n_jobs=8)]: Done 496 tasks      | elapsed: 13.6min\n",
      "[Parallel(n_jobs=8)]: Done 720 out of 720 | elapsed: 20.0min finished\n"
     ]
    },
    {
     "data": {
      "text/plain": [
       "GridSearchCV(cv=5, error_score='raise',\n",
       "       estimator=Pipeline(steps=[('bow', CountVectorizer(analyzer='word', binary=False, decode_error='strict',\n",
       "        dtype=<class 'numpy.int64'>, encoding='utf-8', input='content',\n",
       "        lowercase=True, max_df=1.0, max_features=None, min_df=1,\n",
       "        ngram_range=(1, 1), preprocessor=None, stop_words='english',\n",
       "        s...ty='l2', random_state=None, solver='liblinear', tol=0.0001,\n",
       "          verbose=0, warm_start=False))]),\n",
       "       fit_params={}, iid=True, n_jobs=8,\n",
       "       param_grid={'bow__ngram_range': [(1, 1), (1, 2), (1, 3)], 'bow__max_df': array([ 0.1,  0.2,  0.3,  0.4]), 'bow__min_df': [2, 3, 4], 'logreg_model__C': array([ 0.5,  0.8,  1.1,  1.4])},\n",
       "       pre_dispatch='2*n_jobs', refit=True, return_train_score=True,\n",
       "       scoring='precision_macro', verbose=3)"
      ]
     },
     "execution_count": 12,
     "metadata": {},
     "output_type": "execute_result"
    }
   ],
   "source": [
    "pipeline = Pipeline([\n",
    "    ('bow', CountVectorizer(stop_words='english')),\n",
    "    ('tfidf', TfidfTransformer(norm='l2')),\n",
    "    ('logreg_model', LogisticRegression())\n",
    "])\n",
    "#pipeline.fit(X_train, y_train)\n",
    "\n",
    "params = dict(bow__ngram_range=[(1,1), (1,2), (1,3)],\n",
    "              bow__max_df=np.arange(0.1,0.4,0.1),\n",
    "              bow__min_df=[2,3,4],\n",
    "              logreg_model__C=np.arange(0.5, 1.5, 0.3))\n",
    "grid_search = GridSearchCV(pipeline, \n",
    "                           param_grid=params, \n",
    "                           verbose=3, \n",
    "                           scoring='precision_macro', \n",
    "                           n_jobs=8,\n",
    "                           refit=True,\n",
    "                           cv=5)\n",
    "grid_search.fit(X_train, y_train)"
   ]
  },
  {
   "cell_type": "code",
   "execution_count": 13,
   "metadata": {
    "collapsed": false,
    "deletable": true,
    "editable": true
   },
   "outputs": [
    {
     "data": {
      "text/plain": [
       "{'bow__max_df': 0.40000000000000002,\n",
       " 'bow__min_df': 3,\n",
       " 'bow__ngram_range': (1, 2),\n",
       " 'logreg_model__C': 1.1000000000000001}"
      ]
     },
     "execution_count": 13,
     "metadata": {},
     "output_type": "execute_result"
    }
   ],
   "source": [
    "grid_search.best_params_"
   ]
  },
  {
   "cell_type": "code",
   "execution_count": 14,
   "metadata": {
    "collapsed": false,
    "deletable": true,
    "editable": true
   },
   "outputs": [
    {
     "data": {
      "text/plain": [
       "0.85486294717787159"
      ]
     },
     "execution_count": 14,
     "metadata": {},
     "output_type": "execute_result"
    }
   ],
   "source": [
    "grid_search.best_score_"
   ]
  },
  {
   "cell_type": "markdown",
   "metadata": {
    "deletable": true,
    "editable": true
   },
   "source": [
    "### Fitting the model"
   ]
  },
  {
   "cell_type": "code",
   "execution_count": 58,
   "metadata": {
    "collapsed": false,
    "deletable": true,
    "editable": true
   },
   "outputs": [
    {
     "data": {
      "text/plain": [
       "Pipeline(steps=[('bow', CountVectorizer(analyzer='word', binary=False, decode_error='strict',\n",
       "        dtype=<class 'numpy.int64'>, encoding='utf-8', input='content',\n",
       "        lowercase=True, max_df=0.4, max_features=None, min_df=3,\n",
       "        ngram_range=(1, 2), preprocessor=None, stop_words='english',\n",
       "        s...ty='l2', random_state=None, solver='liblinear', tol=0.0001,\n",
       "          verbose=0, warm_start=False))])"
      ]
     },
     "execution_count": 58,
     "metadata": {},
     "output_type": "execute_result"
    }
   ],
   "source": [
    "pipeline = Pipeline([\n",
    "    ('bow', CountVectorizer(stop_words='english', max_df=0.4, min_df=3, ngram_range=(1,2))),\n",
    "    ('tfidf', TfidfTransformer(norm='l2')),\n",
    "    ('bayes_model', LogisticRegression(C=1.1))\n",
    "])\n",
    "pipeline.fit(X_train, y_train)"
   ]
  },
  {
   "cell_type": "code",
   "execution_count": 59,
   "metadata": {
    "collapsed": true,
    "deletable": true,
    "editable": true
   },
   "outputs": [],
   "source": [
    "y_predicted = pipeline.predict(X_test)"
   ]
  },
  {
   "cell_type": "markdown",
   "metadata": {
    "deletable": true,
    "editable": true
   },
   "source": [
    "#### Confusion matrix\n",
    "By definition a confusion matrix :math:`C` is such that :math:`C_{i, j}`\n",
    "is equal to the number of observations known to be in group :math:`i` but\n",
    "predicted to be in group :math:`j`."
   ]
  },
  {
   "cell_type": "code",
   "execution_count": 60,
   "metadata": {
    "collapsed": false,
    "deletable": true,
    "editable": true
   },
   "outputs": [],
   "source": [
    "cm = confusion_matrix(y_test, y_predicted)"
   ]
  },
  {
   "cell_type": "code",
   "execution_count": 61,
   "metadata": {
    "collapsed": false,
    "deletable": true,
    "editable": true
   },
   "outputs": [
    {
     "data": {
      "text/plain": [
       "<matplotlib.axes._subplots.AxesSubplot at 0x1c111f3c048>"
      ]
     },
     "execution_count": 61,
     "metadata": {},
     "output_type": "execute_result"
    },
    {
     "data": {
      "image/png": "[encoded data removed]",
      "text/plain": [
       "<matplotlib.figure.Figure at 0x1c110c5e160>"
      ]
     },
     "metadata": {},
     "output_type": "display_data"
    }
   ],
   "source": [
    "sns.heatmap(cm, cmap='magma', annot=True)"
   ]
  },
  {
   "cell_type": "code",
   "execution_count": 62,
   "metadata": {
    "collapsed": false,
    "deletable": true,
    "editable": true
   },
   "outputs": [
    {
     "name": "stdout",
     "output_type": "stream",
     "text": [
      "             precision    recall  f1-score   support\n",
      "\n",
      "         -2       0.83      1.00      0.91        34\n",
      "         -1       0.95      0.85      0.90        48\n",
      "          1       0.97      0.97      0.97        30\n",
      "          2       1.00      0.78      0.88         9\n",
      "\n",
      "avg / total       0.93      0.92      0.92       121\n",
      "\n"
     ]
    }
   ],
   "source": [
    "cr = classification_report(y_test, y_predicted)\n",
    "print(cr)"
   ]
  },
  {
   "cell_type": "markdown",
   "metadata": {
    "deletable": true,
    "editable": true
   },
   "source": [
    "# Examine false classifications"
   ]
  },
  {
   "cell_type": "code",
   "execution_count": 63,
   "metadata": {
    "collapsed": false,
    "scrolled": false
   },
   "outputs": [
    {
     "name": "stderr",
     "output_type": "stream",
     "text": [
      "C:\\ProgramData\\Anaconda3\\lib\\site-packages\\ipykernel\\__main__.py:1: SettingWithCopyWarning: \n",
      "A value is trying to be set on a copy of a slice from a DataFrame.\n",
      "Try using .loc[row_indexer,col_indexer] = value instead\n",
      "\n",
      "See the caveats in the documentation: http://pandas.pydata.org/pandas-docs/stable/indexing.html#indexing-view-versus-copy\n",
      "  if __name__ == '__main__':\n"
     ]
    }
   ],
   "source": [
    "test_data['Classified Score'] = y_predicted"
   ]
  },
  {
   "cell_type": "code",
   "execution_count": 64,
   "metadata": {
    "collapsed": false
   },
   "outputs": [],
   "source": [
    "false_classifications = test_data[y_test != y_predicted]"
   ]
  },
  {
   "cell_type": "code",
   "execution_count": 65,
   "metadata": {
    "collapsed": false
   },
   "outputs": [
    {
     "name": "stderr",
     "output_type": "stream",
     "text": [
      "C:\\ProgramData\\Anaconda3\\lib\\site-packages\\ipykernel\\__main__.py:1: SettingWithCopyWarning: \n",
      "A value is trying to be set on a copy of a slice from a DataFrame\n",
      "\n",
      "See the caveats in the documentation: http://pandas.pydata.org/pandas-docs/stable/indexing.html#indexing-view-versus-copy\n",
      "  if __name__ == '__main__':\n"
     ]
    }
   ],
   "source": [
    "false_classifications.drop(false_classifications.columns[[0,1,3,4,5,6,7]], axis=1, inplace=True)"
   ]
  },
  {
   "cell_type": "code",
   "execution_count": 67,
   "metadata": {
    "collapsed": false
   },
   "outputs": [
    {
     "data": {
      "text/html": [
       "<div>\n",
       "<table border=\"1\" class=\"dataframe\">\n",
       "  <thead>\n",
       "    <tr style=\"text-align: right;\">\n",
       "      <th></th>\n",
       "      <th>ParticipantName</th>\n",
       "      <th>content</th>\n",
       "      <th>date</th>\n",
       "      <th>url</th>\n",
       "      <th>Name</th>\n",
       "      <th>Score</th>\n",
       "      <th>Classified Score</th>\n",
       "    </tr>\n",
       "    <tr>\n",
       "      <th>_id</th>\n",
       "      <th></th>\n",
       "      <th></th>\n",
       "      <th></th>\n",
       "      <th></th>\n",
       "      <th></th>\n",
       "      <th></th>\n",
       "      <th></th>\n",
       "    </tr>\n",
       "  </thead>\n",
       "  <tbody>\n",
       "    <tr>\n",
       "      <th>58cab4283740f50f2c6fe00d</th>\n",
       "      <td>Jeffrey Lacker</td>\n",
       "      <td>Download MP3\\n Thank you for the invitation to...</td>\n",
       "      <td>2016-09-02 01:00:00</td>\n",
       "      <td>https://www.richmondfed.org/press_room/speeche...</td>\n",
       "      <td>Jeffrey M. Lacker</td>\n",
       "      <td>2</td>\n",
       "      <td>-2</td>\n",
       "    </tr>\n",
       "    <tr>\n",
       "      <th>58cab45e3740f50f2c6fe07e</th>\n",
       "      <td>Jeffrey Lacker</td>\n",
       "      <td>I’d like to thank the organizers for the oppor...</td>\n",
       "      <td>2017-03-03 10:15:00</td>\n",
       "      <td>https://www.richmondfed.org/press_room/speeche...</td>\n",
       "      <td>Jeffrey M. Lacker</td>\n",
       "      <td>2</td>\n",
       "      <td>-1</td>\n",
       "    </tr>\n",
       "    <tr>\n",
       "      <th>58cab42b3740f50f2c6fe014</th>\n",
       "      <td>Janet Yellen</td>\n",
       "      <td></td>\n",
       "      <td>2016-09-21 02:00:00</td>\n",
       "      <td>https://www.federalreserve.gov/monetarypolicy/...</td>\n",
       "      <td>Janet L. Yellen, Chair</td>\n",
       "      <td>-1</td>\n",
       "      <td>-2</td>\n",
       "    </tr>\n",
       "    <tr>\n",
       "      <th>58cab42d3740f50f2c6fe01b</th>\n",
       "      <td>Janet Yellen</td>\n",
       "      <td>Chairman Hensarling, Ranking Member Waters, an...</td>\n",
       "      <td>2016-09-28 10:00:00</td>\n",
       "      <td>https://www.federalreserve.gov/newsevents/test...</td>\n",
       "      <td>Janet L. Yellen, Chair</td>\n",
       "      <td>-1</td>\n",
       "      <td>-2</td>\n",
       "    </tr>\n",
       "    <tr>\n",
       "      <th>58cab43d3740f50f2c6fe057</th>\n",
       "      <td>James Bullard</td>\n",
       "      <td>Strong Banks. Strong Communities. Strong Econo...</td>\n",
       "      <td>2016-09-28 10:15:00</td>\n",
       "      <td>https://www.stlouisfed.org/from-the-president/...</td>\n",
       "      <td>James Bullard</td>\n",
       "      <td>1</td>\n",
       "      <td>-1</td>\n",
       "    </tr>\n",
       "    <tr>\n",
       "      <th>58cab42a3740f50f2c6fe011</th>\n",
       "      <td>Patrick Harker</td>\n",
       "      <td>Transforming Our Economies\\n Transforming  Our...</td>\n",
       "      <td>2016-09-23 12:20:00</td>\n",
       "      <td>https://www.philadelphiafed.org/publications/s...</td>\n",
       "      <td>Patrick Harker</td>\n",
       "      <td>-1</td>\n",
       "      <td>-2</td>\n",
       "    </tr>\n",
       "    <tr>\n",
       "      <th>58cab4303740f50f2c6fe02c</th>\n",
       "      <td>Patrick Harker</td>\n",
       "      <td>A Shot in the Arm: Stimulating the American Wo...</td>\n",
       "      <td>2016-10-13 12:15:00</td>\n",
       "      <td>https://www.philadelphiafed.org/publications/s...</td>\n",
       "      <td>Patrick Harker</td>\n",
       "      <td>-1</td>\n",
       "      <td>-2</td>\n",
       "    </tr>\n",
       "    <tr>\n",
       "      <th>58cab4363740f50f2c6fe044</th>\n",
       "      <td>Patrick Harker</td>\n",
       "      <td>Central Banking and Its Discontents?</td>\n",
       "      <td>2016-11-16 05:30:00</td>\n",
       "      <td>https://www.philadelphiafed.org/publications/s...</td>\n",
       "      <td>Patrick Harker</td>\n",
       "      <td>-1</td>\n",
       "      <td>-2</td>\n",
       "    </tr>\n",
       "    <tr>\n",
       "      <th>58cab45b3740f50f2c6fe064</th>\n",
       "      <td>Patrick Harker</td>\n",
       "      <td>Benjamin Franklin Birthday Celebration</td>\n",
       "      <td>2017-01-13 09:30:00</td>\n",
       "      <td>https://www.philadelphiafed.org/publications/s...</td>\n",
       "      <td>Patrick Harker</td>\n",
       "      <td>-1</td>\n",
       "      <td>-2</td>\n",
       "    </tr>\n",
       "    <tr>\n",
       "      <th>58cab4243740f50f2c6fe004</th>\n",
       "      <td>Robert Kaplan</td>\n",
       "      <td>\\n                    \\t\\t\\t\\t\\t\\t\\t    \\t\\t  ...</td>\n",
       "      <td>2016-08-25 00:00:00</td>\n",
       "      <td>http://www.cnbc.com/2016/08/25/feds-kaplan-cas...</td>\n",
       "      <td>Robert S. Kaplan</td>\n",
       "      <td>-1</td>\n",
       "      <td>1</td>\n",
       "    </tr>\n",
       "  </tbody>\n",
       "</table>\n",
       "</div>"
      ],
      "text/plain": [
       "                         ParticipantName  \\\n",
       "_id                                        \n",
       "58cab4283740f50f2c6fe00d  Jeffrey Lacker   \n",
       "58cab45e3740f50f2c6fe07e  Jeffrey Lacker   \n",
       "58cab42b3740f50f2c6fe014    Janet Yellen   \n",
       "58cab42d3740f50f2c6fe01b    Janet Yellen   \n",
       "58cab43d3740f50f2c6fe057   James Bullard   \n",
       "58cab42a3740f50f2c6fe011  Patrick Harker   \n",
       "58cab4303740f50f2c6fe02c  Patrick Harker   \n",
       "58cab4363740f50f2c6fe044  Patrick Harker   \n",
       "58cab45b3740f50f2c6fe064  Patrick Harker   \n",
       "58cab4243740f50f2c6fe004   Robert Kaplan   \n",
       "\n",
       "                                                                    content  \\\n",
       "_id                                                                           \n",
       "58cab4283740f50f2c6fe00d  Download MP3\\n Thank you for the invitation to...   \n",
       "58cab45e3740f50f2c6fe07e  I’d like to thank the organizers for the oppor...   \n",
       "58cab42b3740f50f2c6fe014                                                      \n",
       "58cab42d3740f50f2c6fe01b  Chairman Hensarling, Ranking Member Waters, an...   \n",
       "58cab43d3740f50f2c6fe057  Strong Banks. Strong Communities. Strong Econo...   \n",
       "58cab42a3740f50f2c6fe011  Transforming Our Economies\\n Transforming  Our...   \n",
       "58cab4303740f50f2c6fe02c  A Shot in the Arm: Stimulating the American Wo...   \n",
       "58cab4363740f50f2c6fe044               Central Banking and Its Discontents?   \n",
       "58cab45b3740f50f2c6fe064             Benjamin Franklin Birthday Celebration   \n",
       "58cab4243740f50f2c6fe004  \\n                    \\t\\t\\t\\t\\t\\t\\t    \\t\\t  ...   \n",
       "\n",
       "                                        date  \\\n",
       "_id                                            \n",
       "58cab4283740f50f2c6fe00d 2016-09-02 01:00:00   \n",
       "58cab45e3740f50f2c6fe07e 2017-03-03 10:15:00   \n",
       "58cab42b3740f50f2c6fe014 2016-09-21 02:00:00   \n",
       "58cab42d3740f50f2c6fe01b 2016-09-28 10:00:00   \n",
       "58cab43d3740f50f2c6fe057 2016-09-28 10:15:00   \n",
       "58cab42a3740f50f2c6fe011 2016-09-23 12:20:00   \n",
       "58cab4303740f50f2c6fe02c 2016-10-13 12:15:00   \n",
       "58cab4363740f50f2c6fe044 2016-11-16 05:30:00   \n",
       "58cab45b3740f50f2c6fe064 2017-01-13 09:30:00   \n",
       "58cab4243740f50f2c6fe004 2016-08-25 00:00:00   \n",
       "\n",
       "                                                                        url  \\\n",
       "_id                                                                           \n",
       "58cab4283740f50f2c6fe00d  https://www.richmondfed.org/press_room/speeche...   \n",
       "58cab45e3740f50f2c6fe07e  https://www.richmondfed.org/press_room/speeche...   \n",
       "58cab42b3740f50f2c6fe014  https://www.federalreserve.gov/monetarypolicy/...   \n",
       "58cab42d3740f50f2c6fe01b  https://www.federalreserve.gov/newsevents/test...   \n",
       "58cab43d3740f50f2c6fe057  https://www.stlouisfed.org/from-the-president/...   \n",
       "58cab42a3740f50f2c6fe011  https://www.philadelphiafed.org/publications/s...   \n",
       "58cab4303740f50f2c6fe02c  https://www.philadelphiafed.org/publications/s...   \n",
       "58cab4363740f50f2c6fe044  https://www.philadelphiafed.org/publications/s...   \n",
       "58cab45b3740f50f2c6fe064  https://www.philadelphiafed.org/publications/s...   \n",
       "58cab4243740f50f2c6fe004  http://www.cnbc.com/2016/08/25/feds-kaplan-cas...   \n",
       "\n",
       "                                            Name  Score  Classified Score  \n",
       "_id                                                                        \n",
       "58cab4283740f50f2c6fe00d       Jeffrey M. Lacker      2                -2  \n",
       "58cab45e3740f50f2c6fe07e       Jeffrey M. Lacker      2                -1  \n",
       "58cab42b3740f50f2c6fe014  Janet L. Yellen, Chair     -1                -2  \n",
       "58cab42d3740f50f2c6fe01b  Janet L. Yellen, Chair     -1                -2  \n",
       "58cab43d3740f50f2c6fe057           James Bullard      1                -1  \n",
       "58cab42a3740f50f2c6fe011          Patrick Harker     -1                -2  \n",
       "58cab4303740f50f2c6fe02c          Patrick Harker     -1                -2  \n",
       "58cab4363740f50f2c6fe044          Patrick Harker     -1                -2  \n",
       "58cab45b3740f50f2c6fe064          Patrick Harker     -1                -2  \n",
       "58cab4243740f50f2c6fe004        Robert S. Kaplan     -1                 1  "
      ]
     },
     "execution_count": 67,
     "metadata": {},
     "output_type": "execute_result"
    }
   ],
   "source": [
    "false_classifications"
   ]
  },
  {
   "cell_type": "code",
   "execution_count": 78,
   "metadata": {
    "collapsed": false
   },
   "outputs": [],
   "source": [
    "for index, row in false_classifications.iterrows():\n",
    "    file_name = '{}__{}__{}__{}'.format(row['ParticipantName'], row['date'].date(), row['Score'], row['Classified Score'])\n",
    "    full_name = './logreg_false_classifications/' + file_name + '.txt'\n",
    "    with open(file=full_name, mode='x', encoding='utf-8') as f:\n",
    "        f.write(row['content'])"
   ]
  }
 ],
 "metadata": {
  "kernelspec": {
   "display_name": "Python 3",
   "language": "python",
   "name": "python3"
  },
  "language_info": {
   "codemirror_mode": {
    "name": "ipython",
    "version": 3
   },
   "file_extension": ".py",
   "mimetype": "text/x-python",
   "name": "python",
   "nbconvert_exporter": "python",
   "pygments_lexer": "ipython3",
   "version": "3.6.0"
  }
 },
 "nbformat": 4,
 "nbformat_minor": 2
}
