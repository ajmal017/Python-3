{
 "cells": [
  {
   "cell_type": "code",
   "execution_count": 1,
   "metadata": {
    "collapsed": true
   },
   "outputs": [],
   "source": [
    "from sklearn.feature_extraction.text import CountVectorizer, TfidfTransformer\n",
    "from sklearn.pipeline import Pipeline\n",
    "from sklearn.linear_model import LogisticRegression\n",
    "from sklearn.model_selection import GridSearchCV\n",
    "from sklearn.metrics import classification_report, confusion_matrix, precision_score"
   ]
  },
  {
   "cell_type": "code",
   "execution_count": 2,
   "metadata": {
    "collapsed": true
   },
   "outputs": [],
   "source": [
    "import pandas as pd\n",
    "import numpy as np\n",
    "import matplotlib.pyplot as plt\n",
    "import seaborn as sns\n",
    "%matplotlib inline"
   ]
  },
  {
   "cell_type": "code",
   "execution_count": 3,
   "metadata": {
    "collapsed": true
   },
   "outputs": [],
   "source": [
    "from datetime import datetime"
   ]
  },
  {
   "cell_type": "markdown",
   "metadata": {},
   "source": [
    "# Load actors with score"
   ]
  },
  {
   "cell_type": "code",
   "execution_count": 4,
   "metadata": {
    "collapsed": true
   },
   "outputs": [],
   "source": [
    "actors = pd.read_csv('fomc_scorecard.csv', sep=\";\", index_col=3, header=0)\n",
    "actors = actors[actors['Score'] != 0]"
   ]
  },
  {
   "cell_type": "markdown",
   "metadata": {},
   "source": [
    "# Load articles"
   ]
  },
  {
   "cell_type": "code",
   "execution_count": 5,
   "metadata": {
    "collapsed": true
   },
   "outputs": [],
   "source": [
    "from pymongo import MongoClient"
   ]
  },
  {
   "cell_type": "code",
   "execution_count": 6,
   "metadata": {
    "collapsed": true
   },
   "outputs": [],
   "source": [
    "client = MongoClient('localhost', 27017)\n",
    "fomc_collection = client.python_import.fomc_articles"
   ]
  },
  {
   "cell_type": "code",
   "execution_count": 7,
   "metadata": {
    "collapsed": false
   },
   "outputs": [],
   "source": [
    "fomc_articles = pd.DataFrame(list(fomc_collection.find()))\n",
    "fomc_articles.set_index('_id', inplace=True)"
   ]
  },
  {
   "cell_type": "markdown",
   "metadata": {},
   "source": [
    "# Merge articles and actors score"
   ]
  },
  {
   "cell_type": "code",
   "execution_count": 8,
   "metadata": {
    "collapsed": false
   },
   "outputs": [
    {
     "data": {
      "text/html": [
       "<div>\n",
       "<table border=\"1\" class=\"dataframe\">\n",
       "  <thead>\n",
       "    <tr style=\"text-align: right;\">\n",
       "      <th></th>\n",
       "      <th>ParticipantJobTitle</th>\n",
       "      <th>ParticipantLocation</th>\n",
       "      <th>ParticipantName</th>\n",
       "      <th>ParticipantTitleLastName</th>\n",
       "      <th>ParticipantUrl</th>\n",
       "      <th>RemarkDate</th>\n",
       "      <th>RemarkDescription</th>\n",
       "      <th>RemarkType</th>\n",
       "      <th>content</th>\n",
       "      <th>date</th>\n",
       "      <th>url</th>\n",
       "      <th>Name</th>\n",
       "      <th>Score</th>\n",
       "      <th>Shifted score</th>\n",
       "    </tr>\n",
       "    <tr>\n",
       "      <th>_id</th>\n",
       "      <th></th>\n",
       "      <th></th>\n",
       "      <th></th>\n",
       "      <th></th>\n",
       "      <th></th>\n",
       "      <th></th>\n",
       "      <th></th>\n",
       "      <th></th>\n",
       "      <th></th>\n",
       "      <th></th>\n",
       "      <th></th>\n",
       "      <th></th>\n",
       "      <th></th>\n",
       "      <th></th>\n",
       "    </tr>\n",
       "  </thead>\n",
       "  <tbody>\n",
       "    <tr>\n",
       "      <th>58cab2973740f50f2c6fdccb</th>\n",
       "      <td>Pres.</td>\n",
       "      <td>Richmond</td>\n",
       "      <td>Jeffrey Lacker</td>\n",
       "      <td>Pres. Lacker</td>\n",
       "      <td>/fomcspeak/jeffrey-lacker</td>\n",
       "      <td>Dec. 03, 2013</td>\n",
       "      <td>Lacker Testifies on Bankruptcy and Financial I...</td>\n",
       "      <td>Testimony</td>\n",
       "      <td>Good morning. I am honored to speak to the Sub...</td>\n",
       "      <td>2013-12-03 00:00:00</td>\n",
       "      <td>https://www.richmondfed.org/press_room/speeche...</td>\n",
       "      <td>Jeffrey M. Lacker</td>\n",
       "      <td>2</td>\n",
       "      <td>4</td>\n",
       "    </tr>\n",
       "    <tr>\n",
       "      <th>58cab29e3740f50f2c6fdcce</th>\n",
       "      <td>Pres.</td>\n",
       "      <td>Richmond</td>\n",
       "      <td>Jeffrey Lacker</td>\n",
       "      <td>Pres. Lacker</td>\n",
       "      <td>/fomcspeak/jeffrey-lacker</td>\n",
       "      <td>Apr. 18, 2013 (8:06 AM ET)</td>\n",
       "      <td>Fed's Lacker Would End QE Now</td>\n",
       "      <td>Video Interview</td>\n",
       "      <td>Fed's Lacker Would End QE Now\\n\\t\\t\\t\\t\\n In a...</td>\n",
       "      <td>2013-04-18 08:06:00</td>\n",
       "      <td>http://video.cnbc.com/gallery/?video=3000162414</td>\n",
       "      <td>Jeffrey M. Lacker</td>\n",
       "      <td>2</td>\n",
       "      <td>4</td>\n",
       "    </tr>\n",
       "  </tbody>\n",
       "</table>\n",
       "</div>"
      ],
      "text/plain": [
       "                         ParticipantJobTitle ParticipantLocation  \\\n",
       "_id                                                                \n",
       "58cab2973740f50f2c6fdccb               Pres.            Richmond   \n",
       "58cab29e3740f50f2c6fdcce               Pres.            Richmond   \n",
       "\n",
       "                         ParticipantName ParticipantTitleLastName  \\\n",
       "_id                                                                 \n",
       "58cab2973740f50f2c6fdccb  Jeffrey Lacker             Pres. Lacker   \n",
       "58cab29e3740f50f2c6fdcce  Jeffrey Lacker             Pres. Lacker   \n",
       "\n",
       "                                     ParticipantUrl  \\\n",
       "_id                                                   \n",
       "58cab2973740f50f2c6fdccb  /fomcspeak/jeffrey-lacker   \n",
       "58cab29e3740f50f2c6fdcce  /fomcspeak/jeffrey-lacker   \n",
       "\n",
       "                                          RemarkDate  \\\n",
       "_id                                                    \n",
       "58cab2973740f50f2c6fdccb               Dec. 03, 2013   \n",
       "58cab29e3740f50f2c6fdcce  Apr. 18, 2013 (8:06 AM ET)   \n",
       "\n",
       "                                                          RemarkDescription  \\\n",
       "_id                                                                           \n",
       "58cab2973740f50f2c6fdccb  Lacker Testifies on Bankruptcy and Financial I...   \n",
       "58cab29e3740f50f2c6fdcce                      Fed's Lacker Would End QE Now   \n",
       "\n",
       "                               RemarkType  \\\n",
       "_id                                         \n",
       "58cab2973740f50f2c6fdccb        Testimony   \n",
       "58cab29e3740f50f2c6fdcce  Video Interview   \n",
       "\n",
       "                                                                    content  \\\n",
       "_id                                                                           \n",
       "58cab2973740f50f2c6fdccb  Good morning. I am honored to speak to the Sub...   \n",
       "58cab29e3740f50f2c6fdcce  Fed's Lacker Would End QE Now\\n\\t\\t\\t\\t\\n In a...   \n",
       "\n",
       "                                        date  \\\n",
       "_id                                            \n",
       "58cab2973740f50f2c6fdccb 2013-12-03 00:00:00   \n",
       "58cab29e3740f50f2c6fdcce 2013-04-18 08:06:00   \n",
       "\n",
       "                                                                        url  \\\n",
       "_id                                                                           \n",
       "58cab2973740f50f2c6fdccb  https://www.richmondfed.org/press_room/speeche...   \n",
       "58cab29e3740f50f2c6fdcce    http://video.cnbc.com/gallery/?video=3000162414   \n",
       "\n",
       "                                       Name  Score  Shifted score  \n",
       "_id                                                                \n",
       "58cab2973740f50f2c6fdccb  Jeffrey M. Lacker      2              4  \n",
       "58cab29e3740f50f2c6fdcce  Jeffrey M. Lacker      2              4  "
      ]
     },
     "execution_count": 8,
     "metadata": {},
     "output_type": "execute_result"
    }
   ],
   "source": [
    "fomc_articles_scored = fomc_articles.merge(actors, left_on='ParticipantName', right_index=True)\n",
    "fomc_articles_scored.head(2)"
   ]
  },
  {
   "cell_type": "markdown",
   "metadata": {},
   "source": [
    "# Number of articles in each score class"
   ]
  },
  {
   "cell_type": "code",
   "execution_count": 9,
   "metadata": {
    "collapsed": false
   },
   "outputs": [
    {
     "data": {
      "text/plain": [
       "Score\n",
       "-2    148\n",
       "-1    168\n",
       " 1    150\n",
       " 2     72\n",
       "Name: url, dtype: int64"
      ]
     },
     "execution_count": 9,
     "metadata": {},
     "output_type": "execute_result"
    }
   ],
   "source": [
    "fomc_articles_scored.groupby('Score')['url'].count()"
   ]
  },
  {
   "cell_type": "markdown",
   "metadata": {},
   "source": [
    "# Create train data and test data"
   ]
  },
  {
   "cell_type": "code",
   "execution_count": 10,
   "metadata": {
    "collapsed": false
   },
   "outputs": [],
   "source": [
    "train_data = fomc_articles_scored[fomc_articles_scored['date'] < datetime(2016, 1, 1)]\n",
    "test_data = fomc_articles_scored[fomc_articles_scored['date'] >= datetime(2016, 1, 1)]"
   ]
  },
  {
   "cell_type": "code",
   "execution_count": null,
   "metadata": {
    "collapsed": true
   },
   "outputs": [],
   "source": [
    "X_train = train_data['content']\n",
    "y_train = train_data['Score']\n",
    "X_test = test_data['content']\n",
    "y_test = test_data['Score']"
   ]
  },
  {
   "cell_type": "markdown",
   "metadata": {},
   "source": [
    "# Tf-Idf and Multinomial Naive-Bayes model"
   ]
  },
  {
   "cell_type": "markdown",
   "metadata": {},
   "source": [
    "### GridSearch on pipeline - it takes 20+ minutes on my machine!!!!!!!\n",
    "###### http://scikit-learn.org/stable/auto_examples/model_selection/grid_search_digits.html"
   ]
  },
  {
   "cell_type": "code",
   "execution_count": null,
   "metadata": {
    "collapsed": false
   },
   "outputs": [
    {
     "name": "stdout",
     "output_type": "stream",
     "text": [
      "Fitting 5 folds for each of 144 candidates, totalling 720 fits\n"
     ]
    },
    {
     "name": "stderr",
     "output_type": "stream",
     "text": [
      "[Parallel(n_jobs=8)]: Done  16 tasks      | elapsed:   15.7s\n",
      "[Parallel(n_jobs=8)]: Done 112 tasks      | elapsed:  3.1min\n"
     ]
    }
   ],
   "source": [
    "pipeline = Pipeline([\n",
    "    ('bow', CountVectorizer(stop_words='english')),\n",
    "    ('tfidf', TfidfTransformer(norm='l2')),\n",
    "    ('logreg_model', LogisticRegression())\n",
    "])\n",
    "#pipeline.fit(X_train, y_train)\n",
    "\n",
    "params = dict(bow__ngram_range=[(1,1), (1,2), (1,3)],\n",
    "              bow__max_df=np.arange(0.1,0.4,0.1),\n",
    "              bow__min_df=[2,3,4],\n",
    "              logreg_model__C=np.arange(0.5, 1.5, 0.3))\n",
    "grid_search = GridSearchCV(pipeline, \n",
    "                           param_grid=params, \n",
    "                           verbose=3, \n",
    "                           scoring='precision_macro', \n",
    "                           n_jobs=8,\n",
    "                           refit=True,\n",
    "                           cv=5)\n",
    "grid_search.fit(X_train, y_train)"
   ]
  },
  {
   "cell_type": "code",
   "execution_count": null,
   "metadata": {
    "collapsed": false
   },
   "outputs": [],
   "source": [
    "grid_search.best_params_"
   ]
  },
  {
   "cell_type": "code",
   "execution_count": null,
   "metadata": {
    "collapsed": false
   },
   "outputs": [],
   "source": [
    "grid_search.best_score_"
   ]
  },
  {
   "cell_type": "markdown",
   "metadata": {},
   "source": [
    "### Fitting the model"
   ]
  },
  {
   "cell_type": "code",
   "execution_count": null,
   "metadata": {
    "collapsed": false
   },
   "outputs": [],
   "source": [
    "pipeline = Pipeline([\n",
    "    ('bow', CountVectorizer(stop_words='english', max_df=0.2, min_df=3, ngram_range=(1,3))),\n",
    "    ('tfidf', TfidfTransformer(norm='l2')),\n",
    "    ('bayes_model', LogisticRegression(C=1))\n",
    "])\n",
    "pipeline.fit(X_train, y_train)"
   ]
  },
  {
   "cell_type": "code",
   "execution_count": null,
   "metadata": {
    "collapsed": true
   },
   "outputs": [],
   "source": [
    "y_predicted = pipeline.predict(X_test)"
   ]
  },
  {
   "cell_type": "markdown",
   "metadata": {},
   "source": [
    "#### Confusion matrix\n",
    "By definition a confusion matrix :math:`C` is such that :math:`C_{i, j}`\n",
    "is equal to the number of observations known to be in group :math:`i` but\n",
    "predicted to be in group :math:`j`."
   ]
  },
  {
   "cell_type": "code",
   "execution_count": null,
   "metadata": {
    "collapsed": false
   },
   "outputs": [],
   "source": [
    "cm = confusion_matrix(y_test, y_predicted)"
   ]
  },
  {
   "cell_type": "code",
   "execution_count": null,
   "metadata": {
    "collapsed": false
   },
   "outputs": [],
   "source": [
    "sns.heatmap(cm, cmap='magma', annot=True)"
   ]
  },
  {
   "cell_type": "code",
   "execution_count": null,
   "metadata": {
    "collapsed": false
   },
   "outputs": [],
   "source": [
    "cr = classification_report(y_test, y_predicted)\n",
    "print(cr)"
   ]
  },
  {
   "cell_type": "markdown",
   "metadata": {},
   "source": [
    "# Playground"
   ]
  },
  {
   "cell_type": "code",
   "execution_count": null,
   "metadata": {
    "collapsed": false
   },
   "outputs": [],
   "source": [
    "sns.countplot(y_test, palette=\"Set1\")"
   ]
  },
  {
   "cell_type": "code",
   "execution_count": null,
   "metadata": {
    "collapsed": false
   },
   "outputs": [],
   "source": [
    "sns.countplot(y_train, palette=\"Set1\")"
   ]
  }
 ],
 "metadata": {
  "kernelspec": {
   "display_name": "Python 3",
   "language": "python",
   "name": "python3"
  },
  "language_info": {
   "codemirror_mode": {
    "name": "ipython",
    "version": 3
   },
   "file_extension": ".py",
   "mimetype": "text/x-python",
   "name": "python",
   "nbconvert_exporter": "python",
   "pygments_lexer": "ipython3",
   "version": "3.6.0"
  }
 },
 "nbformat": 4,
 "nbformat_minor": 2
}
