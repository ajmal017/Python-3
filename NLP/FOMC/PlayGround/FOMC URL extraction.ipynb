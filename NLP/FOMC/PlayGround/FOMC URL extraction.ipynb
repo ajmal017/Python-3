{
 "cells": [
  {
   "cell_type": "code",
   "execution_count": 2,
   "metadata": {
    "collapsed": true
   },
   "outputs": [],
   "source": [
    "import pandas as pd\n",
    "import numpy as np\n",
    "import matplotlib.pyplot as plt\n",
    "import seaborn as sns\n",
    "%matplotlib inline"
   ]
  },
  {
   "cell_type": "code",
   "execution_count": 3,
   "metadata": {
    "collapsed": true
   },
   "outputs": [],
   "source": [
    "from pymongo import MongoClient"
   ]
  },
  {
   "cell_type": "code",
   "execution_count": 4,
   "metadata": {
    "collapsed": true
   },
   "outputs": [],
   "source": [
    "client = MongoClient('localhost', 27017)\n",
    "fomc_collection = client.python_import.fomc_articles_new"
   ]
  },
  {
   "cell_type": "code",
   "execution_count": 5,
   "metadata": {
    "collapsed": false
   },
   "outputs": [
    {
     "data": {
      "text/html": [
       "<div>\n",
       "<table border=\"1\" class=\"dataframe\">\n",
       "  <thead>\n",
       "    <tr style=\"text-align: right;\">\n",
       "      <th></th>\n",
       "      <th>ParticipantJobTitle</th>\n",
       "      <th>ParticipantLocation</th>\n",
       "      <th>ParticipantName</th>\n",
       "      <th>ParticipantTitleLastName</th>\n",
       "      <th>ParticipantUrl</th>\n",
       "      <th>RemarkDate</th>\n",
       "      <th>RemarkDescription</th>\n",
       "      <th>RemarkType</th>\n",
       "      <th>content</th>\n",
       "      <th>date</th>\n",
       "      <th>url</th>\n",
       "    </tr>\n",
       "    <tr>\n",
       "      <th>_id</th>\n",
       "      <th></th>\n",
       "      <th></th>\n",
       "      <th></th>\n",
       "      <th></th>\n",
       "      <th></th>\n",
       "      <th></th>\n",
       "      <th></th>\n",
       "      <th></th>\n",
       "      <th></th>\n",
       "      <th></th>\n",
       "      <th></th>\n",
       "    </tr>\n",
       "  </thead>\n",
       "  <tbody>\n",
       "    <tr>\n",
       "      <th>58c7d5593740f52798100a3c</th>\n",
       "      <td>Pres.</td>\n",
       "      <td>Richmond</td>\n",
       "      <td>Jeffrey Lacker</td>\n",
       "      <td>Pres. Lacker</td>\n",
       "      <td>/fomcspeak/jeffrey-lacker</td>\n",
       "      <td>Dec. 03, 2013</td>\n",
       "      <td>Lacker Testifies on Bankruptcy and Financial I...</td>\n",
       "      <td>Testimony</td>\n",
       "      <td>\\r Careers \\r \\r Conferences &amp; Events \\r Presi...</td>\n",
       "      <td>2013-12-03 00:00:00</td>\n",
       "      <td>https://www.richmondfed.org/press_room/speeche...</td>\n",
       "    </tr>\n",
       "    <tr>\n",
       "      <th>58c7d5593740f52798100a3d</th>\n",
       "      <td>Gov.</td>\n",
       "      <td>Board of Governors</td>\n",
       "      <td>Jerome Powell</td>\n",
       "      <td>Gov. Powell</td>\n",
       "      <td>/fomcspeak/jerome-powell</td>\n",
       "      <td>Oct. 11, 2013 (11:00 AM ET)</td>\n",
       "      <td>Communications Challenges and Quantitative Easing</td>\n",
       "      <td>Panel Discussion</td>\n",
       "      <td>Communications Challenges and Quantitative Eas...</td>\n",
       "      <td>2013-10-11 11:00:00</td>\n",
       "      <td>https://www.federalreserve.gov/newsevents/spee...</td>\n",
       "    </tr>\n",
       "    <tr>\n",
       "      <th>58c7d55a3740f52798100a3e</th>\n",
       "      <td>Pres.</td>\n",
       "      <td>Federal Reserve Bank of Dallas</td>\n",
       "      <td>Richard Fisher</td>\n",
       "      <td>Pres. Fisher</td>\n",
       "      <td>/fomcspeak/pastparticipants/richard-fisher</td>\n",
       "      <td>Aug. 22, 2013</td>\n",
       "      <td>Fed's Fisher: September Is Time to Start Taper</td>\n",
       "      <td>Video Interview</td>\n",
       "      <td>Connecting decision makers to a dynamic networ...</td>\n",
       "      <td>2013-08-22 00:00:00</td>\n",
       "      <td>https://www.bloomberg.com/news/videos/b/dfc53f...</td>\n",
       "    </tr>\n",
       "    <tr>\n",
       "      <th>58c7d55c3740f52798100a3f</th>\n",
       "      <td>Gov.</td>\n",
       "      <td>Board of Governors</td>\n",
       "      <td>Jerome Powell</td>\n",
       "      <td>Gov. Powell</td>\n",
       "      <td>/fomcspeak/jerome-powell</td>\n",
       "      <td>Jul. 02, 2013 (5:45 PM ET)</td>\n",
       "      <td>International Financial Regulatory Reform</td>\n",
       "      <td>Speech</td>\n",
       "      <td>International Financial Regulatory Reform \\n  ...</td>\n",
       "      <td>2013-07-02 05:45:00</td>\n",
       "      <td>https://www.federalreserve.gov/newsevents/spee...</td>\n",
       "    </tr>\n",
       "    <tr>\n",
       "      <th>58c7d55d3740f52798100a40</th>\n",
       "      <td>Pres.</td>\n",
       "      <td>Federal Reserve Bank of Philadelphia</td>\n",
       "      <td>Charles Plosser</td>\n",
       "      <td>Pres. Plosser</td>\n",
       "      <td>/fomcspeak/pastparticipants/charles-plosser</td>\n",
       "      <td>May. 16, 2013</td>\n",
       "      <td>Plosser: Holding MBS Not Good for Fed</td>\n",
       "      <td>Video Interview</td>\n",
       "      <td>Connecting decision makers to a dynamic networ...</td>\n",
       "      <td>2013-05-16 00:00:00</td>\n",
       "      <td>https://www.bloomberg.com/news/videos/b/8df903...</td>\n",
       "    </tr>\n",
       "  </tbody>\n",
       "</table>\n",
       "</div>"
      ],
      "text/plain": [
       "                         ParticipantJobTitle  \\\n",
       "_id                                            \n",
       "58c7d5593740f52798100a3c               Pres.   \n",
       "58c7d5593740f52798100a3d                Gov.   \n",
       "58c7d55a3740f52798100a3e               Pres.   \n",
       "58c7d55c3740f52798100a3f                Gov.   \n",
       "58c7d55d3740f52798100a40               Pres.   \n",
       "\n",
       "                                           ParticipantLocation  \\\n",
       "_id                                                              \n",
       "58c7d5593740f52798100a3c                              Richmond   \n",
       "58c7d5593740f52798100a3d                    Board of Governors   \n",
       "58c7d55a3740f52798100a3e        Federal Reserve Bank of Dallas   \n",
       "58c7d55c3740f52798100a3f                    Board of Governors   \n",
       "58c7d55d3740f52798100a40  Federal Reserve Bank of Philadelphia   \n",
       "\n",
       "                          ParticipantName ParticipantTitleLastName  \\\n",
       "_id                                                                  \n",
       "58c7d5593740f52798100a3c   Jeffrey Lacker             Pres. Lacker   \n",
       "58c7d5593740f52798100a3d    Jerome Powell              Gov. Powell   \n",
       "58c7d55a3740f52798100a3e   Richard Fisher             Pres. Fisher   \n",
       "58c7d55c3740f52798100a3f    Jerome Powell              Gov. Powell   \n",
       "58c7d55d3740f52798100a40  Charles Plosser            Pres. Plosser   \n",
       "\n",
       "                                                       ParticipantUrl  \\\n",
       "_id                                                                     \n",
       "58c7d5593740f52798100a3c                    /fomcspeak/jeffrey-lacker   \n",
       "58c7d5593740f52798100a3d                     /fomcspeak/jerome-powell   \n",
       "58c7d55a3740f52798100a3e   /fomcspeak/pastparticipants/richard-fisher   \n",
       "58c7d55c3740f52798100a3f                     /fomcspeak/jerome-powell   \n",
       "58c7d55d3740f52798100a40  /fomcspeak/pastparticipants/charles-plosser   \n",
       "\n",
       "                                           RemarkDate  \\\n",
       "_id                                                     \n",
       "58c7d5593740f52798100a3c                Dec. 03, 2013   \n",
       "58c7d5593740f52798100a3d  Oct. 11, 2013 (11:00 AM ET)   \n",
       "58c7d55a3740f52798100a3e                Aug. 22, 2013   \n",
       "58c7d55c3740f52798100a3f   Jul. 02, 2013 (5:45 PM ET)   \n",
       "58c7d55d3740f52798100a40                May. 16, 2013   \n",
       "\n",
       "                                                          RemarkDescription  \\\n",
       "_id                                                                           \n",
       "58c7d5593740f52798100a3c  Lacker Testifies on Bankruptcy and Financial I...   \n",
       "58c7d5593740f52798100a3d  Communications Challenges and Quantitative Easing   \n",
       "58c7d55a3740f52798100a3e    Fed's Fisher: September Is Time to Start Taper    \n",
       "58c7d55c3740f52798100a3f          International Financial Regulatory Reform   \n",
       "58c7d55d3740f52798100a40             Plosser: Holding MBS Not Good for Fed    \n",
       "\n",
       "                                RemarkType  \\\n",
       "_id                                          \n",
       "58c7d5593740f52798100a3c         Testimony   \n",
       "58c7d5593740f52798100a3d  Panel Discussion   \n",
       "58c7d55a3740f52798100a3e   Video Interview   \n",
       "58c7d55c3740f52798100a3f            Speech   \n",
       "58c7d55d3740f52798100a40   Video Interview   \n",
       "\n",
       "                                                                    content  \\\n",
       "_id                                                                           \n",
       "58c7d5593740f52798100a3c  \\r Careers \\r \\r Conferences & Events \\r Presi...   \n",
       "58c7d5593740f52798100a3d  Communications Challenges and Quantitative Eas...   \n",
       "58c7d55a3740f52798100a3e  Connecting decision makers to a dynamic networ...   \n",
       "58c7d55c3740f52798100a3f  International Financial Regulatory Reform \\n  ...   \n",
       "58c7d55d3740f52798100a40  Connecting decision makers to a dynamic networ...   \n",
       "\n",
       "                                        date  \\\n",
       "_id                                            \n",
       "58c7d5593740f52798100a3c 2013-12-03 00:00:00   \n",
       "58c7d5593740f52798100a3d 2013-10-11 11:00:00   \n",
       "58c7d55a3740f52798100a3e 2013-08-22 00:00:00   \n",
       "58c7d55c3740f52798100a3f 2013-07-02 05:45:00   \n",
       "58c7d55d3740f52798100a40 2013-05-16 00:00:00   \n",
       "\n",
       "                                                                        url  \n",
       "_id                                                                          \n",
       "58c7d5593740f52798100a3c  https://www.richmondfed.org/press_room/speeche...  \n",
       "58c7d5593740f52798100a3d  https://www.federalreserve.gov/newsevents/spee...  \n",
       "58c7d55a3740f52798100a3e  https://www.bloomberg.com/news/videos/b/dfc53f...  \n",
       "58c7d55c3740f52798100a3f  https://www.federalreserve.gov/newsevents/spee...  \n",
       "58c7d55d3740f52798100a40  https://www.bloomberg.com/news/videos/b/8df903...  "
      ]
     },
     "execution_count": 5,
     "metadata": {},
     "output_type": "execute_result"
    }
   ],
   "source": [
    "fomc_articles = pd.DataFrame(list(fomc_collection.find()))\n",
    "fomc_articles.set_index('_id', inplace=True)\n",
    "fomc_articles.head()"
   ]
  },
  {
   "cell_type": "code",
   "execution_count": 33,
   "metadata": {
    "collapsed": false
   },
   "outputs": [],
   "source": [
    "ret = fomc_articles.url.apply(lambda x: x.strip())"
   ]
  },
  {
   "cell_type": "code",
   "execution_count": 34,
   "metadata": {
    "collapsed": false
   },
   "outputs": [
    {
     "data": {
      "text/plain": [
       "_id\n",
       "58c7d5593740f52798100a3c    https://www.richmondfed.org/press_room/speeche...\n",
       "58c7d5593740f52798100a3d    https://www.federalreserve.gov/newsevents/spee...\n",
       "58c7d55a3740f52798100a3e    https://www.bloomberg.com/news/videos/b/dfc53f...\n",
       "58c7d55c3740f52798100a3f    https://www.federalreserve.gov/newsevents/spee...\n",
       "58c7d55d3740f52798100a40    https://www.bloomberg.com/news/videos/b/8df903...\n",
       "58c7d55d3740f52798100a41    https://www.dallasfed.org/news/speeches/fisher...\n",
       "58c7d55e3740f52798100a42    https://www.federalreserve.gov/newsevents/spee...\n",
       "58c7d55e3740f52798100a43    https://www.federalreserve.gov/newsevents/test...\n",
       "58c7d55f3740f52798100a44    https://www.dallasfed.org/news/speeches/fisher...\n",
       "58c7d5603740f52798100a45    https://www.federalreserve.gov/newsevents/spee...\n",
       "Name: url, dtype: object"
      ]
     },
     "execution_count": 34,
     "metadata": {},
     "output_type": "execute_result"
    }
   ],
   "source": [
    "ret[0:10]"
   ]
  },
  {
   "cell_type": "code",
   "execution_count": 46,
   "metadata": {
    "collapsed": false
   },
   "outputs": [
    {
     "data": {
      "text/plain": [
       "Series([], Name: url, dtype: object)"
      ]
     },
     "execution_count": 46,
     "metadata": {},
     "output_type": "execute_result"
    }
   ],
   "source": [
    "ret[ret.apply(lambda x: x.startswith(\"http\")) == 0]"
   ]
  },
  {
   "cell_type": "code",
   "execution_count": 44,
   "metadata": {
    "collapsed": false
   },
   "outputs": [
    {
     "data": {
      "text/plain": [
       "Series([], Name: url, dtype: object)"
      ]
     },
     "execution_count": 44,
     "metadata": {},
     "output_type": "execute_result"
    }
   ],
   "source": [
    "ret[ret.apply(lambda x: '://' in x) == 0]"
   ]
  },
  {
   "cell_type": "markdown",
   "metadata": {},
   "source": [
    "#### Every url is valid, begins with 'http' and contains '://'"
   ]
  },
  {
   "cell_type": "code",
   "execution_count": 50,
   "metadata": {
    "collapsed": true
   },
   "outputs": [],
   "source": [
    "def find_between( s, first, last ):\n",
    "    try:\n",
    "        start = s.index( first ) + len( first )\n",
    "        end = s.index( last, start )\n",
    "        return s[start:end]\n",
    "    except ValueError:\n",
    "        return \"\""
   ]
  },
  {
   "cell_type": "code",
   "execution_count": 53,
   "metadata": {
    "collapsed": false
   },
   "outputs": [],
   "source": [
    "url_roots = ret.apply(lambda url: find_between(url, '://', '/'))"
   ]
  },
  {
   "cell_type": "code",
   "execution_count": 55,
   "metadata": {
    "collapsed": false
   },
   "outputs": [
    {
     "data": {
      "text/plain": [
       "_id\n",
       "58c7d5593740f52798100a3c       www.richmondfed.org\n",
       "58c7d5593740f52798100a3d    www.federalreserve.gov\n",
       "58c7d55a3740f52798100a3e         www.bloomberg.com\n",
       "58c7d55c3740f52798100a3f    www.federalreserve.gov\n",
       "58c7d55d3740f52798100a40         www.bloomberg.com\n",
       "58c7d55d3740f52798100a41         www.dallasfed.org\n",
       "58c7d55e3740f52798100a42    www.federalreserve.gov\n",
       "58c7d55e3740f52798100a43    www.federalreserve.gov\n",
       "58c7d55f3740f52798100a44         www.dallasfed.org\n",
       "58c7d5603740f52798100a45    www.federalreserve.gov\n",
       "Name: url, dtype: object"
      ]
     },
     "execution_count": 55,
     "metadata": {},
     "output_type": "execute_result"
    }
   ],
   "source": [
    "url_roots[0:10]"
   ]
  },
  {
   "cell_type": "code",
   "execution_count": 69,
   "metadata": {
    "collapsed": false
   },
   "outputs": [
    {
     "name": "stdout",
     "output_type": "stream",
     "text": [
      "['www.richmondfed.org' 'www.federalreserve.gov' 'www.bloomberg.com'\n",
      " 'www.dallasfed.org' 'www.chicagofed.org' 'www.minneapolisfed.org'\n",
      " 'video.cnbc.com' 'www.frbatlanta.org' 'www.bostonfed.org' 'www.frbsf.org'\n",
      " 'www.clevelandfed.org' 'www.philadelphiafed.org' 'www.stlouisfed.org'\n",
      " 'www.c-span.org' 'www.newyorkfed.org' 'www.reuters.com'\n",
      " 'video.foxbusiness.com' 'www.wsj.com' 'www.cnbc.com'\n",
      " 'economix.blogs.nytimes.com' 'www.bnn.ca' 'nbr.com' 'link.brightcove.com'\n",
      " 'www.washingtonpost.com' 'www.phil.frb.org' 'comments.cftc.gov'\n",
      " 'www.econtalk.org' 'clevelandfed.org' 'www.foxbusiness.com'\n",
      " 'www.marketplace.org' 'www.eastbaytimes.com' 'www.marketwatch.com'\n",
      " 'www.sacbee.com' 'video.foxnews.com' 'www.nytimes.com' 'blogs.wsj.com'\n",
      " 'www.mprnews.org' 'www.americanbanker.com' 'www.ft.com'\n",
      " 'www.bizjournals.com' 'www.cfr.org' 'www.dallasnews.com' 'www.npr.org'\n",
      " 'charlierose.com' 'asia.nikkei.com']\n"
     ]
    }
   ],
   "source": [
    "print(url_roots.unique())"
   ]
  },
  {
   "cell_type": "code",
   "execution_count": 70,
   "metadata": {
    "collapsed": false
   },
   "outputs": [
    {
     "name": "stdout",
     "output_type": "stream",
     "text": [
      "{\n",
      "'www.richmondfed.org': 'p',\n",
      "'www.federalreserve.gov': 'p',\n",
      "'www.bloomberg.com': 'p',\n",
      "'www.dallasfed.org': 'p',\n",
      "'www.chicagofed.org': 'p',\n",
      "'www.minneapolisfed.org': 'p',\n",
      "'video.cnbc.com': 'p',\n",
      "'www.frbatlanta.org': 'p',\n",
      "'www.bostonfed.org': 'p',\n",
      "'www.frbsf.org': 'p',\n",
      "'www.clevelandfed.org': 'p',\n",
      "'www.philadelphiafed.org': 'p',\n",
      "'www.stlouisfed.org': 'p',\n",
      "'www.c-span.org': 'p',\n",
      "'www.newyorkfed.org': 'p',\n",
      "'www.reuters.com': 'p',\n",
      "'video.foxbusiness.com': 'p',\n",
      "'www.wsj.com': 'p',\n",
      "'www.cnbc.com': 'p',\n",
      "'economix.blogs.nytimes.com': 'p',\n",
      "'www.bnn.ca': 'p',\n",
      "'nbr.com': 'p',\n",
      "'link.brightcove.com': 'p',\n",
      "'www.washingtonpost.com': 'p',\n",
      "'www.phil.frb.org': 'p',\n",
      "'comments.cftc.gov': 'p',\n",
      "'www.econtalk.org': 'p',\n",
      "'clevelandfed.org': 'p',\n",
      "'www.foxbusiness.com': 'p',\n",
      "'www.marketplace.org': 'p',\n",
      "'www.eastbaytimes.com': 'p',\n",
      "'www.marketwatch.com': 'p',\n",
      "'www.sacbee.com': 'p',\n",
      "'video.foxnews.com': 'p',\n",
      "'www.nytimes.com': 'p',\n",
      "'blogs.wsj.com': 'p',\n",
      "'www.mprnews.org': 'p',\n",
      "'www.americanbanker.com': 'p',\n",
      "'www.ft.com': 'p',\n",
      "'www.bizjournals.com': 'p',\n",
      "'www.cfr.org': 'p',\n",
      "'www.dallasnews.com': 'p',\n",
      "'www.npr.org': 'p',\n",
      "'charlierose.com': 'p',\n",
      "'asia.nikkei.com': 'p',\n",
      "}\n"
     ]
    }
   ],
   "source": [
    "print('{')\n",
    "list(map(lambda x:print(\"'\" + x + \"': 'p',\"),url_roots.unique()))\n",
    "print('}')"
   ]
  },
  {
   "cell_type": "code",
   "execution_count": 71,
   "metadata": {
    "collapsed": false
   },
   "outputs": [
    {
     "data": {
      "text/plain": [
       "45"
      ]
     },
     "execution_count": 71,
     "metadata": {},
     "output_type": "execute_result"
    }
   ],
   "source": [
    "len(url_roots.unique())"
   ]
  },
  {
   "cell_type": "markdown",
   "metadata": {},
   "source": [
    "## There are 45 different URL roots in the FOMC database"
   ]
  },
  {
   "cell_type": "code",
   "execution_count": null,
   "metadata": {
    "collapsed": true
   },
   "outputs": [],
   "source": []
  }
 ],
 "metadata": {
  "kernelspec": {
   "display_name": "Python 3",
   "language": "python",
   "name": "python3"
  },
  "language_info": {
   "codemirror_mode": {
    "name": "ipython",
    "version": 3
   },
   "file_extension": ".py",
   "mimetype": "text/x-python",
   "name": "python",
   "nbconvert_exporter": "python",
   "pygments_lexer": "ipython3",
   "version": "3.6.0"
  }
 },
 "nbformat": 4,
 "nbformat_minor": 2
}
