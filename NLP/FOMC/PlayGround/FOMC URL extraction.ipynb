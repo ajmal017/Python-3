{
 "cells": [
  {
   "cell_type": "code",
   "execution_count": 2,
   "metadata": {
    "collapsed": true
   },
   "outputs": [],
   "source": [
    "import pandas as pd\n",
    "import numpy as np\n",
    "import matplotlib.pyplot as plt\n",
    "import seaborn as sns\n",
    "%matplotlib inline"
   ]
  },
  {
   "cell_type": "code",
   "execution_count": 3,
   "metadata": {
    "collapsed": true
   },
   "outputs": [],
   "source": [
    "from pymongo import MongoClient"
   ]
  },
  {
   "cell_type": "code",
   "execution_count": 4,
   "metadata": {
    "collapsed": true
   },
   "outputs": [],
   "source": [
    "client = MongoClient('localhost', 27017)\n",
    "fomc_collection = client.python_import.fomc_articles_new"
   ]
  },
  {
   "cell_type": "code",
   "execution_count": 115,
   "metadata": {
    "collapsed": false
   },
   "outputs": [
    {
     "data": {
      "text/html": [
       "<div>\n",
       "<table border=\"1\" class=\"dataframe\">\n",
       "  <thead>\n",
       "    <tr style=\"text-align: right;\">\n",
       "      <th></th>\n",
       "      <th>ParticipantJobTitle</th>\n",
       "      <th>ParticipantLocation</th>\n",
       "      <th>ParticipantName</th>\n",
       "      <th>ParticipantTitleLastName</th>\n",
       "      <th>ParticipantUrl</th>\n",
       "      <th>RemarkDate</th>\n",
       "      <th>RemarkDescription</th>\n",
       "      <th>RemarkType</th>\n",
       "      <th>content</th>\n",
       "      <th>date</th>\n",
       "      <th>url</th>\n",
       "    </tr>\n",
       "    <tr>\n",
       "      <th>_id</th>\n",
       "      <th></th>\n",
       "      <th></th>\n",
       "      <th></th>\n",
       "      <th></th>\n",
       "      <th></th>\n",
       "      <th></th>\n",
       "      <th></th>\n",
       "      <th></th>\n",
       "      <th></th>\n",
       "      <th></th>\n",
       "      <th></th>\n",
       "    </tr>\n",
       "  </thead>\n",
       "  <tbody>\n",
       "    <tr>\n",
       "      <th>58c7d5593740f52798100a3c</th>\n",
       "      <td>Pres.</td>\n",
       "      <td>Richmond</td>\n",
       "      <td>Jeffrey Lacker</td>\n",
       "      <td>Pres. Lacker</td>\n",
       "      <td>/fomcspeak/jeffrey-lacker</td>\n",
       "      <td>Dec. 03, 2013</td>\n",
       "      <td>Lacker Testifies on Bankruptcy and Financial I...</td>\n",
       "      <td>Testimony</td>\n",
       "      <td>\\r Careers \\r \\r Conferences &amp; Events \\r Presi...</td>\n",
       "      <td>2013-12-03 00:00:00</td>\n",
       "      <td>https://www.richmondfed.org/press_room/speeche...</td>\n",
       "    </tr>\n",
       "    <tr>\n",
       "      <th>58c7d5593740f52798100a3d</th>\n",
       "      <td>Gov.</td>\n",
       "      <td>Board of Governors</td>\n",
       "      <td>Jerome Powell</td>\n",
       "      <td>Gov. Powell</td>\n",
       "      <td>/fomcspeak/jerome-powell</td>\n",
       "      <td>Oct. 11, 2013 (11:00 AM ET)</td>\n",
       "      <td>Communications Challenges and Quantitative Easing</td>\n",
       "      <td>Panel Discussion</td>\n",
       "      <td>Communications Challenges and Quantitative Eas...</td>\n",
       "      <td>2013-10-11 11:00:00</td>\n",
       "      <td>https://www.federalreserve.gov/newsevents/spee...</td>\n",
       "    </tr>\n",
       "    <tr>\n",
       "      <th>58c7d55c3740f52798100a3f</th>\n",
       "      <td>Gov.</td>\n",
       "      <td>Board of Governors</td>\n",
       "      <td>Jerome Powell</td>\n",
       "      <td>Gov. Powell</td>\n",
       "      <td>/fomcspeak/jerome-powell</td>\n",
       "      <td>Jul. 02, 2013 (5:45 PM ET)</td>\n",
       "      <td>International Financial Regulatory Reform</td>\n",
       "      <td>Speech</td>\n",
       "      <td>International Financial Regulatory Reform \\n  ...</td>\n",
       "      <td>2013-07-02 05:45:00</td>\n",
       "      <td>https://www.federalreserve.gov/newsevents/spee...</td>\n",
       "    </tr>\n",
       "    <tr>\n",
       "      <th>58c7d55d3740f52798100a41</th>\n",
       "      <td>Pres.</td>\n",
       "      <td>Federal Reserve Bank of Dallas</td>\n",
       "      <td>Richard Fisher</td>\n",
       "      <td>Pres. Fisher</td>\n",
       "      <td>/fomcspeak/pastparticipants/richard-fisher</td>\n",
       "      <td>Aug. 22, 2013 (2:00 PM ET)</td>\n",
       "      <td>Placing Manufacturing in Context  (With Refere...</td>\n",
       "      <td>Speech</td>\n",
       "      <td>Your source for information on the Texas econo...</td>\n",
       "      <td>2013-08-22 02:00:00</td>\n",
       "      <td>https://www.dallasfed.org/news/speeches/fisher...</td>\n",
       "    </tr>\n",
       "    <tr>\n",
       "      <th>58c7d55e3740f52798100a42</th>\n",
       "      <td>Chair</td>\n",
       "      <td>Board of Governors</td>\n",
       "      <td>Ben Bernanke</td>\n",
       "      <td>Chair Bernanke</td>\n",
       "      <td>/fomcspeak/pastparticipants/ben-bernanke</td>\n",
       "      <td>Jul. 10, 2013 (4:10 PM ET)</td>\n",
       "      <td>A Century of U.S. Central Banking: Goals, Fram...</td>\n",
       "      <td>Speech</td>\n",
       "      <td>A Century of U.S. Central Banking: Goals, Fram...</td>\n",
       "      <td>2013-07-10 04:10:00</td>\n",
       "      <td>https://www.federalreserve.gov/newsevents/spee...</td>\n",
       "    </tr>\n",
       "  </tbody>\n",
       "</table>\n",
       "</div>"
      ],
      "text/plain": [
       "                         ParticipantJobTitle             ParticipantLocation  \\\n",
       "_id                                                                            \n",
       "58c7d5593740f52798100a3c               Pres.                        Richmond   \n",
       "58c7d5593740f52798100a3d                Gov.              Board of Governors   \n",
       "58c7d55c3740f52798100a3f                Gov.              Board of Governors   \n",
       "58c7d55d3740f52798100a41               Pres.  Federal Reserve Bank of Dallas   \n",
       "58c7d55e3740f52798100a42               Chair              Board of Governors   \n",
       "\n",
       "                         ParticipantName ParticipantTitleLastName  \\\n",
       "_id                                                                 \n",
       "58c7d5593740f52798100a3c  Jeffrey Lacker             Pres. Lacker   \n",
       "58c7d5593740f52798100a3d   Jerome Powell              Gov. Powell   \n",
       "58c7d55c3740f52798100a3f   Jerome Powell              Gov. Powell   \n",
       "58c7d55d3740f52798100a41  Richard Fisher             Pres. Fisher   \n",
       "58c7d55e3740f52798100a42    Ben Bernanke           Chair Bernanke   \n",
       "\n",
       "                                                      ParticipantUrl  \\\n",
       "_id                                                                    \n",
       "58c7d5593740f52798100a3c                   /fomcspeak/jeffrey-lacker   \n",
       "58c7d5593740f52798100a3d                    /fomcspeak/jerome-powell   \n",
       "58c7d55c3740f52798100a3f                    /fomcspeak/jerome-powell   \n",
       "58c7d55d3740f52798100a41  /fomcspeak/pastparticipants/richard-fisher   \n",
       "58c7d55e3740f52798100a42    /fomcspeak/pastparticipants/ben-bernanke   \n",
       "\n",
       "                                           RemarkDate  \\\n",
       "_id                                                     \n",
       "58c7d5593740f52798100a3c                Dec. 03, 2013   \n",
       "58c7d5593740f52798100a3d  Oct. 11, 2013 (11:00 AM ET)   \n",
       "58c7d55c3740f52798100a3f   Jul. 02, 2013 (5:45 PM ET)   \n",
       "58c7d55d3740f52798100a41   Aug. 22, 2013 (2:00 PM ET)   \n",
       "58c7d55e3740f52798100a42   Jul. 10, 2013 (4:10 PM ET)   \n",
       "\n",
       "                                                          RemarkDescription  \\\n",
       "_id                                                                           \n",
       "58c7d5593740f52798100a3c  Lacker Testifies on Bankruptcy and Financial I...   \n",
       "58c7d5593740f52798100a3d  Communications Challenges and Quantitative Easing   \n",
       "58c7d55c3740f52798100a3f          International Financial Regulatory Reform   \n",
       "58c7d55d3740f52798100a41  Placing Manufacturing in Context  (With Refere...   \n",
       "58c7d55e3740f52798100a42  A Century of U.S. Central Banking: Goals, Fram...   \n",
       "\n",
       "                                RemarkType  \\\n",
       "_id                                          \n",
       "58c7d5593740f52798100a3c         Testimony   \n",
       "58c7d5593740f52798100a3d  Panel Discussion   \n",
       "58c7d55c3740f52798100a3f            Speech   \n",
       "58c7d55d3740f52798100a41            Speech   \n",
       "58c7d55e3740f52798100a42            Speech   \n",
       "\n",
       "                                                                    content  \\\n",
       "_id                                                                           \n",
       "58c7d5593740f52798100a3c  \\r Careers \\r \\r Conferences & Events \\r Presi...   \n",
       "58c7d5593740f52798100a3d  Communications Challenges and Quantitative Eas...   \n",
       "58c7d55c3740f52798100a3f  International Financial Regulatory Reform \\n  ...   \n",
       "58c7d55d3740f52798100a41  Your source for information on the Texas econo...   \n",
       "58c7d55e3740f52798100a42  A Century of U.S. Central Banking: Goals, Fram...   \n",
       "\n",
       "                                        date  \\\n",
       "_id                                            \n",
       "58c7d5593740f52798100a3c 2013-12-03 00:00:00   \n",
       "58c7d5593740f52798100a3d 2013-10-11 11:00:00   \n",
       "58c7d55c3740f52798100a3f 2013-07-02 05:45:00   \n",
       "58c7d55d3740f52798100a41 2013-08-22 02:00:00   \n",
       "58c7d55e3740f52798100a42 2013-07-10 04:10:00   \n",
       "\n",
       "                                                                        url  \n",
       "_id                                                                          \n",
       "58c7d5593740f52798100a3c  https://www.richmondfed.org/press_room/speeche...  \n",
       "58c7d5593740f52798100a3d  https://www.federalreserve.gov/newsevents/spee...  \n",
       "58c7d55c3740f52798100a3f  https://www.federalreserve.gov/newsevents/spee...  \n",
       "58c7d55d3740f52798100a41  https://www.dallasfed.org/news/speeches/fisher...  \n",
       "58c7d55e3740f52798100a42  https://www.federalreserve.gov/newsevents/spee...  "
      ]
     },
     "execution_count": 115,
     "metadata": {},
     "output_type": "execute_result"
    }
   ],
   "source": [
    "fomc_articles = pd.DataFrame(list(fomc_collection.find()))\n",
    "fomc_articles.set_index('_id', inplace=True)\n",
    "fomc_articles = fomc_articles[fomc_articles['RemarkType'] != 'Video Interview']\n",
    "fomc_articles = fomc_articles[fomc_articles['RemarkType'] != 'Audio Interview']\n",
    "fomc_articles.head()"
   ]
  },
  {
   "cell_type": "code",
   "execution_count": 116,
   "metadata": {
    "collapsed": false
   },
   "outputs": [],
   "source": [
    "ret = fomc_articles.url.apply(lambda x: x.strip())"
   ]
  },
  {
   "cell_type": "code",
   "execution_count": 117,
   "metadata": {
    "collapsed": false
   },
   "outputs": [
    {
     "data": {
      "text/plain": [
       "_id\n",
       "58c7d5593740f52798100a3c    https://www.richmondfed.org/press_room/speeche...\n",
       "58c7d5593740f52798100a3d    https://www.federalreserve.gov/newsevents/spee...\n",
       "58c7d55c3740f52798100a3f    https://www.federalreserve.gov/newsevents/spee...\n",
       "58c7d55d3740f52798100a41    https://www.dallasfed.org/news/speeches/fisher...\n",
       "58c7d55e3740f52798100a42    https://www.federalreserve.gov/newsevents/spee...\n",
       "58c7d55e3740f52798100a43    https://www.federalreserve.gov/newsevents/test...\n",
       "58c7d55f3740f52798100a44    https://www.dallasfed.org/news/speeches/fisher...\n",
       "58c7d5603740f52798100a45    https://www.federalreserve.gov/newsevents/spee...\n",
       "58c7d5613740f52798100a46    https://www.chicagofed.org/publications/speech...\n",
       "58c7d5623740f52798100a47    https://www.federalreserve.gov/newsevents/spee...\n",
       "Name: url, dtype: object"
      ]
     },
     "execution_count": 117,
     "metadata": {},
     "output_type": "execute_result"
    }
   ],
   "source": [
    "ret[0:10]"
   ]
  },
  {
   "cell_type": "code",
   "execution_count": 118,
   "metadata": {
    "collapsed": false
   },
   "outputs": [
    {
     "data": {
      "text/plain": [
       "Series([], Name: url, dtype: object)"
      ]
     },
     "execution_count": 118,
     "metadata": {},
     "output_type": "execute_result"
    }
   ],
   "source": [
    "ret[ret.apply(lambda x: x.startswith(\"http\")) == 0]"
   ]
  },
  {
   "cell_type": "code",
   "execution_count": 119,
   "metadata": {
    "collapsed": false
   },
   "outputs": [
    {
     "data": {
      "text/plain": [
       "Series([], Name: url, dtype: object)"
      ]
     },
     "execution_count": 119,
     "metadata": {},
     "output_type": "execute_result"
    }
   ],
   "source": [
    "ret[ret.apply(lambda x: '://' in x) == 0]"
   ]
  },
  {
   "cell_type": "markdown",
   "metadata": {},
   "source": [
    "#### Every url is valid, begins with 'http' and contains '://'"
   ]
  },
  {
   "cell_type": "code",
   "execution_count": 120,
   "metadata": {
    "collapsed": true
   },
   "outputs": [],
   "source": [
    "def find_between( s, first, last ):\n",
    "    try:\n",
    "        start = s.index( first ) + len( first )\n",
    "        end = s.index( last, start )\n",
    "        return s[start:end]\n",
    "    except ValueError:\n",
    "        return \"\""
   ]
  },
  {
   "cell_type": "code",
   "execution_count": 121,
   "metadata": {
    "collapsed": false
   },
   "outputs": [],
   "source": [
    "url_roots = ret.apply(lambda url: find_between(url, '://', '/'))"
   ]
  },
  {
   "cell_type": "code",
   "execution_count": 122,
   "metadata": {
    "collapsed": false
   },
   "outputs": [
    {
     "data": {
      "text/plain": [
       "_id\n",
       "58c7d5593740f52798100a3c       www.richmondfed.org\n",
       "58c7d5593740f52798100a3d    www.federalreserve.gov\n",
       "58c7d55c3740f52798100a3f    www.federalreserve.gov\n",
       "58c7d55d3740f52798100a41         www.dallasfed.org\n",
       "58c7d55e3740f52798100a42    www.federalreserve.gov\n",
       "58c7d55e3740f52798100a43    www.federalreserve.gov\n",
       "58c7d55f3740f52798100a44         www.dallasfed.org\n",
       "58c7d5603740f52798100a45    www.federalreserve.gov\n",
       "58c7d5613740f52798100a46        www.chicagofed.org\n",
       "58c7d5623740f52798100a47    www.federalreserve.gov\n",
       "Name: url, dtype: object"
      ]
     },
     "execution_count": 122,
     "metadata": {},
     "output_type": "execute_result"
    }
   ],
   "source": [
    "url_roots[0:10]"
   ]
  },
  {
   "cell_type": "code",
   "execution_count": 123,
   "metadata": {
    "collapsed": true
   },
   "outputs": [],
   "source": [
    "unique_url_roots = url_roots.unique()"
   ]
  },
  {
   "cell_type": "code",
   "execution_count": 124,
   "metadata": {
    "collapsed": false
   },
   "outputs": [
    {
     "name": "stdout",
     "output_type": "stream",
     "text": [
      "['www.richmondfed.org' 'www.federalreserve.gov' 'www.dallasfed.org'\n",
      " 'www.chicagofed.org' 'www.minneapolisfed.org' 'video.cnbc.com'\n",
      " 'www.frbatlanta.org' 'www.bostonfed.org' 'www.frbsf.org'\n",
      " 'www.clevelandfed.org' 'www.philadelphiafed.org' 'www.c-span.org'\n",
      " 'www.newyorkfed.org' 'www.stlouisfed.org' 'www.wsj.com'\n",
      " 'economix.blogs.nytimes.com' 'link.brightcove.com'\n",
      " 'www.washingtonpost.com' 'www.phil.frb.org' 'www.bloomberg.com'\n",
      " 'comments.cftc.gov' 'clevelandfed.org' 'www.eastbaytimes.com'\n",
      " 'www.marketwatch.com' 'www.sacbee.com' 'www.nytimes.com' 'blogs.wsj.com'\n",
      " 'www.mprnews.org' 'www.cnbc.com' 'www.americanbanker.com' 'www.ft.com'\n",
      " 'www.cfr.org' 'www.dallasnews.com' 'asia.nikkei.com']\n"
     ]
    }
   ],
   "source": [
    "print(unique_url_roots)"
   ]
  },
  {
   "cell_type": "code",
   "execution_count": 125,
   "metadata": {
    "collapsed": false
   },
   "outputs": [
    {
     "name": "stdout",
     "output_type": "stream",
     "text": [
      "{\n",
      "'www.richmondfed.org': 'p',\n",
      "'www.federalreserve.gov': 'p',\n",
      "'www.dallasfed.org': 'p',\n",
      "'www.chicagofed.org': 'p',\n",
      "'www.minneapolisfed.org': 'p',\n",
      "'video.cnbc.com': 'p',\n",
      "'www.frbatlanta.org': 'p',\n",
      "'www.bostonfed.org': 'p',\n",
      "'www.frbsf.org': 'p',\n",
      "'www.clevelandfed.org': 'p',\n",
      "'www.philadelphiafed.org': 'p',\n",
      "'www.c-span.org': 'p',\n",
      "'www.newyorkfed.org': 'p',\n",
      "'www.stlouisfed.org': 'p',\n",
      "'www.wsj.com': 'p',\n",
      "'economix.blogs.nytimes.com': 'p',\n",
      "'link.brightcove.com': 'p',\n",
      "'www.washingtonpost.com': 'p',\n",
      "'www.phil.frb.org': 'p',\n",
      "'www.bloomberg.com': 'p',\n",
      "'comments.cftc.gov': 'p',\n",
      "'clevelandfed.org': 'p',\n",
      "'www.eastbaytimes.com': 'p',\n",
      "'www.marketwatch.com': 'p',\n",
      "'www.sacbee.com': 'p',\n",
      "'www.nytimes.com': 'p',\n",
      "'blogs.wsj.com': 'p',\n",
      "'www.mprnews.org': 'p',\n",
      "'www.cnbc.com': 'p',\n",
      "'www.americanbanker.com': 'p',\n",
      "'www.ft.com': 'p',\n",
      "'www.cfr.org': 'p',\n",
      "'www.dallasnews.com': 'p',\n",
      "'asia.nikkei.com': 'p',\n",
      "}\n"
     ]
    }
   ],
   "source": [
    "print('{')\n",
    "list(map(lambda x:print(\"'\" + x + \"': 'p',\"),unique_url_roots))\n",
    "print('}')"
   ]
  },
  {
   "cell_type": "code",
   "execution_count": 126,
   "metadata": {
    "collapsed": false
   },
   "outputs": [
    {
     "data": {
      "text/plain": [
       "34"
      ]
     },
     "execution_count": 126,
     "metadata": {},
     "output_type": "execute_result"
    }
   ],
   "source": [
    "len(unique_url_roots)"
   ]
  },
  {
   "cell_type": "markdown",
   "metadata": {},
   "source": [
    "## There are 45 different URL roots in the FOMC database"
   ]
  },
  {
   "cell_type": "code",
   "execution_count": 127,
   "metadata": {
    "collapsed": false
   },
   "outputs": [
    {
     "name": "stdout",
     "output_type": "stream",
     "text": [
      "https://www.richmondfed.org/press_room/speeches/president_jeff_lacker/2013/lacker_testimony_20131203\n",
      "https://www.federalreserve.gov/newsevents/speech/powell20131011a.htm\n",
      "https://www.dallasfed.org/news/speeches/fisher/2013/fs130822.cfm\n",
      "https://www.chicagofed.org/publications/speeches/2013/02-28-13-cfa-desmoines\n",
      "https://www.minneapolisfed.org/news-and-events/presidents-speeches/improving-the-outlook-with-better-monetary-policy-20130402\n",
      "http://video.cnbc.com/gallery/?play=1&video=3000151204\n",
      "https://www.frbatlanta.org/news/speeches/2013/130114-lockhart.aspx\n",
      "https://www.bostonfed.org/news-and-events/speeches/implications-of-fiscal-austerity-for-us-monetary-policy.aspx?wt.src=rss\n",
      "http://www.frbsf.org/our-district/press/presidents-speeches/williams-speeches/2013/january/williams-monetary-policy-economy-uncertainty/\n",
      "https://www.clevelandfed.org/404.html\n",
      "https://www.philadelphiafed.org/publications/speeches/plosser/2013/01-11-13_new_jersey_economic_leadership_forum\n",
      "https://www.c-span.org/video/?310422-1/richard-fisher-remarks-large-financial-institutions\n",
      "https://www.newyorkfed.org/newsevents/speeches/2013/dud130201.html\n",
      "https://www.stlouisfed.org/Publications/Regional-Economist/January-2013/The-Feds-Latest-BalanceSheet-Policy-What-Constitutes-Substantial-LaborMarket-Improvement\n",
      "https://www.wsj.com/articles/SB10001424127887324128504578344652647097278\n",
      "https://economix.blogs.nytimes.com/2013/04/15/a-chat-with-the-boston-feds-chief/?_r=0\n",
      "http://link.brightcove.com/services/player/bcpid834465221001?bclid=207383342001&bctid=2515940647001\n",
      "https://www.washingtonpost.com/news/wonk/wp/2013/06/21/james-bullard-this-is-why-i-dissented-at-the-fed-meeting-this-week/\n",
      "https://www.phil.frb.org/publications/speeches/plosser/2013/07-12-13_assessing_monetary_policy\n",
      "https://www.bloomberg.com/news/videos/b/e725607b-514d-4257-9119-3da6cd57db22\n",
      "https://comments.cftc.gov/PublicComments/ViewComment.aspx?id=59452&SearchText\n",
      "https://www.clevelandfed.org/404.html\n",
      "http://www.eastbaytimes.com/2014/08/15/qa-john-williams-president-of-the-federal-reserve-in-san-francisco/\n",
      "http://www.marketwatch.com/story/feds-bullard-europe-is-biggest-risk-to-outlook-2014-08-23\n",
      "http://www.sacbee.com/news/business/personal-finance/claudia-buck/article2619205.html\n",
      "https://www.nytimes.com/2014/10/14/upshot/q-and-a-with-loretta-mester-optimism-at-the-fed.html?_r=0&abt=0002&abg=1\n",
      "http://blogs.wsj.com/economics/2014/10/19/a-qa-with-san-francisco-feds-john-williams/\n",
      "http://www.mprnews.org/listen?name=/minnesota/general/features/2014/11/04/kocherlakota_20141104\n",
      "http://www.cnbc.com/2015/10/13/cnbc-exclusive-cnbc-transcript-cnbcs-steve-liesman-sits-down-with-federal-reserve-governor-daniel-tarullo-on-cnbcs-power-lunch-today.html\n",
      "https://www.americanbanker.com/news/ten-questions-for-cleveland-fed-president-loretta-mester\n",
      "https://www.ft.com/content/40cab44e-e463-11e4-a4de-00144feab7de\n",
      "http://www.cfr.org/economics/us-financial-regulation-five-years-after-dodd-frank/p36688\n",
      "http://www.dallasnews.com/opinion/commentary/2016/01/28/point-person-our-qa-with-rob-kaplan-president-and-ceo-of-the-federal-reserve-bank-of-dallas\n",
      "http://asia.nikkei.com/Politics-Economy/Economy/Dallas-Fed-chief-optimistic-on-US-sees-trade-offs-for-Japan?page=2\n"
     ]
    }
   ],
   "source": [
    "for root in unique_url_roots:\n",
    "    for url in ret:\n",
    "        if root in url:\n",
    "            print(url)\n",
    "            break"
   ]
  },
  {
   "cell_type": "markdown",
   "metadata": {},
   "source": [
    "#### Sampling because of 404 :("
   ]
  },
  {
   "cell_type": "code",
   "execution_count": 133,
   "metadata": {
    "collapsed": false
   },
   "outputs": [
    {
     "data": {
      "text/html": [
       "<div>\n",
       "<table border=\"1\" class=\"dataframe\">\n",
       "  <thead>\n",
       "    <tr style=\"text-align: right;\">\n",
       "      <th></th>\n",
       "      <th>ParticipantJobTitle</th>\n",
       "      <th>ParticipantLocation</th>\n",
       "      <th>ParticipantName</th>\n",
       "      <th>ParticipantTitleLastName</th>\n",
       "      <th>ParticipantUrl</th>\n",
       "      <th>RemarkDate</th>\n",
       "      <th>RemarkDescription</th>\n",
       "      <th>RemarkType</th>\n",
       "      <th>content</th>\n",
       "      <th>date</th>\n",
       "      <th>url</th>\n",
       "    </tr>\n",
       "    <tr>\n",
       "      <th>_id</th>\n",
       "      <th></th>\n",
       "      <th></th>\n",
       "      <th></th>\n",
       "      <th></th>\n",
       "      <th></th>\n",
       "      <th></th>\n",
       "      <th></th>\n",
       "      <th></th>\n",
       "      <th></th>\n",
       "      <th></th>\n",
       "      <th></th>\n",
       "    </tr>\n",
       "  </thead>\n",
       "  <tbody>\n",
       "    <tr>\n",
       "      <th>58c7d6183740f52798100c3a</th>\n",
       "      <td>Pres.</td>\n",
       "      <td>Minneapolis</td>\n",
       "      <td>Narayana Kocherlakota</td>\n",
       "      <td>Pres. Kocherlakota</td>\n",
       "      <td>/fomcspeak/pastparticipants/narayana-kocherlakota</td>\n",
       "      <td>Nov. 04, 2014</td>\n",
       "      <td>Cathy Wurzer's full interview with President N...</td>\n",
       "      <td>Radio Interview</td>\n",
       "      <td>Cathy Wurzer's full interview with President N...</td>\n",
       "      <td>2014-11-04</td>\n",
       "      <td>http://www.mprnews.org/listen?name=/minnesota/...</td>\n",
       "    </tr>\n",
       "    <tr>\n",
       "      <th>58c7d63e3740f52798100c80</th>\n",
       "      <td>Pres.</td>\n",
       "      <td>Minneapolis</td>\n",
       "      <td>Narayana Kocherlakota</td>\n",
       "      <td>Pres. Kocherlakota</td>\n",
       "      <td>/fomcspeak/pastparticipants/narayana-kocherlakota</td>\n",
       "      <td>Jun. 02, 2015</td>\n",
       "      <td>Mpls. Federal Reserve head: U.S. economy has u...</td>\n",
       "      <td>Radio Interview</td>\n",
       "      <td>The slow rise in consumer prices shows the U.S...</td>\n",
       "      <td>2015-06-02</td>\n",
       "      <td>http://www.mprnews.org/story/2015/06/02/bcst-f...</td>\n",
       "    </tr>\n",
       "    <tr>\n",
       "      <th>58c7d6423740f52798100c8f</th>\n",
       "      <td>Pres.</td>\n",
       "      <td>Minneapolis</td>\n",
       "      <td>Narayana Kocherlakota</td>\n",
       "      <td>Pres. Kocherlakota</td>\n",
       "      <td>/fomcspeak/pastparticipants/narayana-kocherlakota</td>\n",
       "      <td>Jan. 08, 2015</td>\n",
       "      <td>Minneapolis Fed's Narayana Kocherlakota looks ...</td>\n",
       "      <td>Radio Interview</td>\n",
       "      <td>Minneapolis Federal Reserve Bank president Nar...</td>\n",
       "      <td>2015-01-08</td>\n",
       "      <td>http://www.mprnews.org/story/2015/01/14/mpr_ne...</td>\n",
       "    </tr>\n",
       "    <tr>\n",
       "      <th>58c7d6b63740f52798100e81</th>\n",
       "      <td>Pres.</td>\n",
       "      <td>Minneapolis</td>\n",
       "      <td>Neel Kashkari</td>\n",
       "      <td>Pres. Kashkari</td>\n",
       "      <td>/fomcspeak/neel-kashkari</td>\n",
       "      <td>Nov. 22, 2016</td>\n",
       "      <td>Neel Kashkari explains his ideas for too-big-t...</td>\n",
       "      <td>Radio Interview</td>\n",
       "      <td>Neel Kashkari , president of the Federal Reser...</td>\n",
       "      <td>2016-11-22</td>\n",
       "      <td>https://www.mprnews.org/story/2016/11/22/kashk...</td>\n",
       "    </tr>\n",
       "  </tbody>\n",
       "</table>\n",
       "</div>"
      ],
      "text/plain": [
       "                         ParticipantJobTitle ParticipantLocation  \\\n",
       "_id                                                                \n",
       "58c7d6183740f52798100c3a               Pres.         Minneapolis   \n",
       "58c7d63e3740f52798100c80               Pres.         Minneapolis   \n",
       "58c7d6423740f52798100c8f               Pres.         Minneapolis   \n",
       "58c7d6b63740f52798100e81               Pres.         Minneapolis   \n",
       "\n",
       "                                ParticipantName ParticipantTitleLastName  \\\n",
       "_id                                                                        \n",
       "58c7d6183740f52798100c3a  Narayana Kocherlakota       Pres. Kocherlakota   \n",
       "58c7d63e3740f52798100c80  Narayana Kocherlakota       Pres. Kocherlakota   \n",
       "58c7d6423740f52798100c8f  Narayana Kocherlakota       Pres. Kocherlakota   \n",
       "58c7d6b63740f52798100e81          Neel Kashkari           Pres. Kashkari   \n",
       "\n",
       "                                                             ParticipantUrl  \\\n",
       "_id                                                                           \n",
       "58c7d6183740f52798100c3a  /fomcspeak/pastparticipants/narayana-kocherlakota   \n",
       "58c7d63e3740f52798100c80  /fomcspeak/pastparticipants/narayana-kocherlakota   \n",
       "58c7d6423740f52798100c8f  /fomcspeak/pastparticipants/narayana-kocherlakota   \n",
       "58c7d6b63740f52798100e81                           /fomcspeak/neel-kashkari   \n",
       "\n",
       "                             RemarkDate  \\\n",
       "_id                                       \n",
       "58c7d6183740f52798100c3a  Nov. 04, 2014   \n",
       "58c7d63e3740f52798100c80  Jun. 02, 2015   \n",
       "58c7d6423740f52798100c8f  Jan. 08, 2015   \n",
       "58c7d6b63740f52798100e81  Nov. 22, 2016   \n",
       "\n",
       "                                                          RemarkDescription  \\\n",
       "_id                                                                           \n",
       "58c7d6183740f52798100c3a  Cathy Wurzer's full interview with President N...   \n",
       "58c7d63e3740f52798100c80  Mpls. Federal Reserve head: U.S. economy has u...   \n",
       "58c7d6423740f52798100c8f  Minneapolis Fed's Narayana Kocherlakota looks ...   \n",
       "58c7d6b63740f52798100e81  Neel Kashkari explains his ideas for too-big-t...   \n",
       "\n",
       "                               RemarkType  \\\n",
       "_id                                         \n",
       "58c7d6183740f52798100c3a  Radio Interview   \n",
       "58c7d63e3740f52798100c80  Radio Interview   \n",
       "58c7d6423740f52798100c8f  Radio Interview   \n",
       "58c7d6b63740f52798100e81  Radio Interview   \n",
       "\n",
       "                                                                    content  \\\n",
       "_id                                                                           \n",
       "58c7d6183740f52798100c3a  Cathy Wurzer's full interview with President N...   \n",
       "58c7d63e3740f52798100c80  The slow rise in consumer prices shows the U.S...   \n",
       "58c7d6423740f52798100c8f  Minneapolis Federal Reserve Bank president Nar...   \n",
       "58c7d6b63740f52798100e81  Neel Kashkari , president of the Federal Reser...   \n",
       "\n",
       "                               date  \\\n",
       "_id                                   \n",
       "58c7d6183740f52798100c3a 2014-11-04   \n",
       "58c7d63e3740f52798100c80 2015-06-02   \n",
       "58c7d6423740f52798100c8f 2015-01-08   \n",
       "58c7d6b63740f52798100e81 2016-11-22   \n",
       "\n",
       "                                                                        url  \n",
       "_id                                                                          \n",
       "58c7d6183740f52798100c3a  http://www.mprnews.org/listen?name=/minnesota/...  \n",
       "58c7d63e3740f52798100c80  http://www.mprnews.org/story/2015/06/02/bcst-f...  \n",
       "58c7d6423740f52798100c8f  http://www.mprnews.org/story/2015/01/14/mpr_ne...  \n",
       "58c7d6b63740f52798100e81  https://www.mprnews.org/story/2016/11/22/kashk...  "
      ]
     },
     "execution_count": 133,
     "metadata": {},
     "output_type": "execute_result"
    }
   ],
   "source": [
    "fomc_articles[fomc_articles.url.apply(lambda x: 'mprnews' in x)]"
   ]
  }
 ],
 "metadata": {
  "kernelspec": {
   "display_name": "Python 3",
   "language": "python",
   "name": "python3"
  },
  "language_info": {
   "codemirror_mode": {
    "name": "ipython",
    "version": 3
   },
   "file_extension": ".py",
   "mimetype": "text/x-python",
   "name": "python",
   "nbconvert_exporter": "python",
   "pygments_lexer": "ipython3",
   "version": "3.6.0"
  }
 },
 "nbformat": 4,
 "nbformat_minor": 2
}
