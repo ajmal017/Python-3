{
 "cells": [
  {
   "cell_type": "code",
   "execution_count": 1,
   "metadata": {
    "collapsed": true,
    "deletable": true,
    "editable": true
   },
   "outputs": [],
   "source": [
    "from sklearn.feature_extraction.text import CountVectorizer, TfidfTransformer\n",
    "from sklearn.model_selection import train_test_split\n",
    "from sklearn.pipeline import Pipeline\n",
    "from sklearn.linear_model import LogisticRegression\n",
    "from sklearn.model_selection import GridSearchCV\n",
    "from sklearn.metrics import classification_report, confusion_matrix, precision_score"
   ]
  },
  {
   "cell_type": "code",
   "execution_count": 2,
   "metadata": {
    "collapsed": true,
    "deletable": true,
    "editable": true
   },
   "outputs": [],
   "source": [
    "import pandas as pd\n",
    "import numpy as np\n",
    "import matplotlib.pyplot as plt\n",
    "import seaborn as sns\n",
    "%matplotlib inline"
   ]
  },
  {
   "cell_type": "code",
   "execution_count": 3,
   "metadata": {
    "collapsed": true
   },
   "outputs": [],
   "source": [
    "from pymongo import MongoClient\n",
    "import ystockquote"
   ]
  },
  {
   "cell_type": "code",
   "execution_count": 4,
   "metadata": {
    "collapsed": true,
    "deletable": true,
    "editable": true
   },
   "outputs": [],
   "source": [
    "from datetime import datetime\n",
    "import math"
   ]
  },
  {
   "cell_type": "markdown",
   "metadata": {
    "deletable": true,
    "editable": true
   },
   "source": [
    "# Load transcripts"
   ]
  },
  {
   "cell_type": "code",
   "execution_count": 5,
   "metadata": {
    "collapsed": false,
    "deletable": true,
    "editable": true
   },
   "outputs": [],
   "source": [
    "client = MongoClient('localhost', 27017)\n",
    "earnings_transcript_collection = client.python_import.earnings_transcript"
   ]
  },
  {
   "cell_type": "code",
   "execution_count": 6,
   "metadata": {
    "collapsed": false,
    "deletable": true,
    "editable": true
   },
   "outputs": [],
   "source": [
    "earnings_transcript = pd.DataFrame(list(earnings_transcript_collection.find()))\n",
    "earnings_transcript.drop('_id', axis=1, inplace=True)"
   ]
  },
  {
   "cell_type": "code",
   "execution_count": 7,
   "metadata": {
    "collapsed": false
   },
   "outputs": [
    {
     "data": {
      "text/html": [
       "<div>\n",
       "<table border=\"1\" class=\"dataframe\">\n",
       "  <thead>\n",
       "    <tr style=\"text-align: right;\">\n",
       "      <th></th>\n",
       "      <th>publishDate</th>\n",
       "      <th>qAndAText</th>\n",
       "      <th>rawText</th>\n",
       "      <th>tradingSymbol</th>\n",
       "      <th>url</th>\n",
       "      <th>publishDate_str</th>\n",
       "    </tr>\n",
       "  </thead>\n",
       "  <tbody>\n",
       "    <tr>\n",
       "      <th>0</th>\n",
       "      <td>2016-07-27T01:01:38Z</td>\n",
       "      <td>Operator Your first question will come from Sh...</td>\n",
       "      <td>Apple, Inc. (NASDAQ: AAPL ) Q3 2016 Earnings C...</td>\n",
       "      <td>AAPL</td>\n",
       "      <td>https://seekingalpha.com/article/3991811-apple...</td>\n",
       "      <td>2016-07-27</td>\n",
       "    </tr>\n",
       "  </tbody>\n",
       "</table>\n",
       "</div>"
      ],
      "text/plain": [
       "            publishDate                                          qAndAText  \\\n",
       "0  2016-07-27T01:01:38Z  Operator Your first question will come from Sh...   \n",
       "\n",
       "                                             rawText tradingSymbol  \\\n",
       "0  Apple, Inc. (NASDAQ: AAPL ) Q3 2016 Earnings C...          AAPL   \n",
       "\n",
       "                                                 url publishDate_str  \n",
       "0  https://seekingalpha.com/article/3991811-apple...      2016-07-27  "
      ]
     },
     "execution_count": 7,
     "metadata": {},
     "output_type": "execute_result"
    }
   ],
   "source": [
    "earnings_transcript['publishDate_str'] = earnings_transcript.apply(\n",
    "    lambda row: str(datetime.strptime(row['publishDate'], '%Y-%m-%dT%H:%M:%SZ').date()), \n",
    "    axis=1)\n",
    "earnings_transcript.head(1)"
   ]
  },
  {
   "cell_type": "code",
   "execution_count": 8,
   "metadata": {
    "collapsed": false
   },
   "outputs": [
    {
     "data": {
      "text/html": [
       "<div>\n",
       "<table border=\"1\" class=\"dataframe\">\n",
       "  <thead>\n",
       "    <tr style=\"text-align: right;\">\n",
       "      <th></th>\n",
       "      <th></th>\n",
       "      <th>publishDate</th>\n",
       "      <th>qAndAText</th>\n",
       "      <th>rawText</th>\n",
       "      <th>url</th>\n",
       "    </tr>\n",
       "    <tr>\n",
       "      <th>tradingSymbol</th>\n",
       "      <th>publishDate_str</th>\n",
       "      <th></th>\n",
       "      <th></th>\n",
       "      <th></th>\n",
       "      <th></th>\n",
       "    </tr>\n",
       "  </thead>\n",
       "  <tbody>\n",
       "    <tr>\n",
       "      <th rowspan=\"2\" valign=\"top\">AAPL</th>\n",
       "      <th>2016-07-27</th>\n",
       "      <td>2016-07-27T01:01:38Z</td>\n",
       "      <td>Operator Your first question will come from Sh...</td>\n",
       "      <td>Apple, Inc. (NASDAQ: AAPL ) Q3 2016 Earnings C...</td>\n",
       "      <td>https://seekingalpha.com/article/3991811-apple...</td>\n",
       "    </tr>\n",
       "    <tr>\n",
       "      <th>2012-10-26</th>\n",
       "      <td>2012-10-26T01:33:03Z</td>\n",
       "      <td>Operator (Operator Instructions) Your first qu...</td>\n",
       "      <td>Apple Inc. (NASDAQ: AAPL ) F4Q12 Earnings Call...</td>\n",
       "      <td>https://seekingalpha.com/article/952971-apples...</td>\n",
       "    </tr>\n",
       "  </tbody>\n",
       "</table>\n",
       "</div>"
      ],
      "text/plain": [
       "                                        publishDate  \\\n",
       "tradingSymbol publishDate_str                         \n",
       "AAPL          2016-07-27       2016-07-27T01:01:38Z   \n",
       "              2012-10-26       2012-10-26T01:33:03Z   \n",
       "\n",
       "                                                                       qAndAText  \\\n",
       "tradingSymbol publishDate_str                                                      \n",
       "AAPL          2016-07-27       Operator Your first question will come from Sh...   \n",
       "              2012-10-26       Operator (Operator Instructions) Your first qu...   \n",
       "\n",
       "                                                                         rawText  \\\n",
       "tradingSymbol publishDate_str                                                      \n",
       "AAPL          2016-07-27       Apple, Inc. (NASDAQ: AAPL ) Q3 2016 Earnings C...   \n",
       "              2012-10-26       Apple Inc. (NASDAQ: AAPL ) F4Q12 Earnings Call...   \n",
       "\n",
       "                                                                             url  \n",
       "tradingSymbol publishDate_str                                                     \n",
       "AAPL          2016-07-27       https://seekingalpha.com/article/3991811-apple...  \n",
       "              2012-10-26       https://seekingalpha.com/article/952971-apples...  "
      ]
     },
     "execution_count": 8,
     "metadata": {},
     "output_type": "execute_result"
    }
   ],
   "source": [
    "earnings_transcript.set_index(['tradingSymbol', 'publishDate_str'], inplace=True)\n",
    "earnings_transcript.head(2)"
   ]
  },
  {
   "cell_type": "code",
   "execution_count": 9,
   "metadata": {
    "collapsed": false
   },
   "outputs": [
    {
     "data": {
      "text/html": [
       "<div>\n",
       "<table border=\"1\" class=\"dataframe\">\n",
       "  <thead>\n",
       "    <tr style=\"text-align: right;\">\n",
       "      <th></th>\n",
       "      <th></th>\n",
       "      <th>publishDate</th>\n",
       "      <th>qAndAText</th>\n",
       "      <th>rawText</th>\n",
       "      <th>url</th>\n",
       "    </tr>\n",
       "    <tr>\n",
       "      <th>tradingSymbol</th>\n",
       "      <th>publishDate_str</th>\n",
       "      <th></th>\n",
       "      <th></th>\n",
       "      <th></th>\n",
       "      <th></th>\n",
       "    </tr>\n",
       "  </thead>\n",
       "  <tbody>\n",
       "    <tr>\n",
       "      <th rowspan=\"2\" valign=\"top\">VRML</th>\n",
       "      <th>2013-05-15</th>\n",
       "      <td>2013-05-15T22:20:04Z</td>\n",
       "      <td>Operator [Operator Instructions] Our first que...</td>\n",
       "      <td>Vermillion (NASDAQ: VRML ) Q1 2013 Earnings Ca...</td>\n",
       "      <td>https://seekingalpha.com/article/1438321-vermi...</td>\n",
       "    </tr>\n",
       "    <tr>\n",
       "      <th>2013-08-14</th>\n",
       "      <td>2013-08-14T20:26:56Z</td>\n",
       "      <td></td>\n",
       "      <td>The following audio is from an earnings confer...</td>\n",
       "      <td>https://seekingalpha.com/article/1634312-vermi...</td>\n",
       "    </tr>\n",
       "  </tbody>\n",
       "</table>\n",
       "</div>"
      ],
      "text/plain": [
       "                                        publishDate  \\\n",
       "tradingSymbol publishDate_str                         \n",
       "VRML          2013-05-15       2013-05-15T22:20:04Z   \n",
       "              2013-08-14       2013-08-14T20:26:56Z   \n",
       "\n",
       "                                                                       qAndAText  \\\n",
       "tradingSymbol publishDate_str                                                      \n",
       "VRML          2013-05-15       Operator [Operator Instructions] Our first que...   \n",
       "              2013-08-14                                                           \n",
       "\n",
       "                                                                         rawText  \\\n",
       "tradingSymbol publishDate_str                                                      \n",
       "VRML          2013-05-15       Vermillion (NASDAQ: VRML ) Q1 2013 Earnings Ca...   \n",
       "              2013-08-14       The following audio is from an earnings confer...   \n",
       "\n",
       "                                                                             url  \n",
       "tradingSymbol publishDate_str                                                     \n",
       "VRML          2013-05-15       https://seekingalpha.com/article/1438321-vermi...  \n",
       "              2013-08-14       https://seekingalpha.com/article/1634312-vermi...  "
      ]
     },
     "execution_count": 9,
     "metadata": {},
     "output_type": "execute_result"
    }
   ],
   "source": [
    "earnings_transcript.tail(2)"
   ]
  },
  {
   "cell_type": "markdown",
   "metadata": {},
   "source": [
    "### Load all ticker data for transcripts"
   ]
  },
  {
   "cell_type": "code",
   "execution_count": 10,
   "metadata": {
    "collapsed": false
   },
   "outputs": [
    {
     "data": {
      "text/plain": [
       "Index(['AAPL', 'ADBE', 'AMD', 'BLDP', 'GOOG', 'VRML'], dtype='object', name='tradingSymbol')"
      ]
     },
     "execution_count": 10,
     "metadata": {},
     "output_type": "execute_result"
    }
   ],
   "source": [
    "earnings_transcript.index.levels[0]"
   ]
  },
  {
   "cell_type": "code",
   "execution_count": 11,
   "metadata": {
    "collapsed": true
   },
   "outputs": [],
   "source": [
    "class Applyer:\n",
    "    \n",
    "    label = ''\n",
    "    label_to_check_against = None\n",
    "    \n",
    "    @staticmethod\n",
    "    def label_calc(row):\n",
    "        \n",
    "        val_to_check = 0\n",
    "        if Applyer.label_to_check_against is not None:\n",
    "            val_to_check = row[Applyer.label_to_check_against]\n",
    "        \n",
    "        if math.isnan(row[Applyer.label]) or math.isnan(val_to_check):\n",
    "            return 0\n",
    "\n",
    "        if abs(row[Applyer.label]) > val_to_check:\n",
    "            if row[Applyer.label] < 0:\n",
    "                return -1\n",
    "            else:\n",
    "                return 1\n",
    "        else:\n",
    "            return 0\n",
    "    \n",
    "    @staticmethod\n",
    "    def all_label_calc(df):\n",
    "        df['Std Dev'] = pd.Series(data=df['Close']).rolling(window=20,center=False).std()\n",
    "\n",
    "        df['1day return'] = df['Close'].shift(-1) - df['Close']\n",
    "        df['5day return'] = df['Close'].shift(-5) - df['Close']\n",
    "\n",
    "        Applyer.label_to_check_against = None\n",
    "\n",
    "        Applyer.label = '1day return'\n",
    "        df['1day label'] = df.apply(Applyer.label_calc, axis=1)\n",
    "        Applyer.label = '5day return'\n",
    "        df['5day label'] = df.apply(Applyer.label_calc, axis=1)\n",
    "\n",
    "        Applyer.label_to_check_against = 'Std Dev'\n",
    "\n",
    "        Applyer.label = '1day return'\n",
    "        df['1day significant label'] = df.apply(Applyer.label_calc, axis=1)\n",
    "        Applyer.label = '5day return'\n",
    "        df['5day significant label'] = df.apply(Applyer.label_calc, axis=1)"
   ]
  },
  {
   "cell_type": "code",
   "execution_count": 12,
   "metadata": {
    "collapsed": false
   },
   "outputs": [
    {
     "name": "stdout",
     "output_type": "stream",
     "text": [
      "AAPL ticker has 4339 long list\n",
      "ADBE ticker has 4339 long list\n",
      "AMD ticker has 4339 long list\n",
      "BLDP ticker has 4339 long list\n",
      "GOOG ticker has 3177 long list\n",
      "VRML ticker has 4150 long list\n"
     ]
    }
   ],
   "source": [
    "tickers = earnings_transcript.index.levels[0]\n",
    "all_stocks = None\n",
    "for ticker in tickers:\n",
    "    stocks = ystockquote.get_historical_prices(ticker, '2000-01-01', '2017-12-31')\n",
    "    print('{} ticker has {} long list'.format(ticker, len(stocks)))\n",
    "    df = pd.DataFrame(stocks).transpose()\n",
    "    if 'Adj Close' in df.columns:\n",
    "        df['Close'] = pd.to_numeric(df['Adj Close'], errors='ignore')\n",
    "    elif 'Close' in df.columns:\n",
    "        df['Close'] = pd.to_numeric(df['Close'], errors='ignore')\n",
    "    else:\n",
    "        print('{} is not available'.format(ticker))\n",
    "        continue\n",
    "    df.drop(axis=1, labels=[col for col in df.columns if col not in ['Close']], inplace=True)\n",
    "    indexes = pd.MultiIndex.from_product([[ticker], df.index.values.tolist()], names=['tradingSymbol', 'publishDate_str'])\n",
    "    df.set_index(indexes, inplace=True)\n",
    "    \n",
    "    Applyer.all_label_calc(df)\n",
    "    df.dropna(inplace=True)\n",
    "    \n",
    "    if all_stocks is None:\n",
    "        all_stocks = df\n",
    "    else:\n",
    "        all_stocks = all_stocks.append(df)"
   ]
  },
  {
   "cell_type": "code",
   "execution_count": 13,
   "metadata": {
    "collapsed": false
   },
   "outputs": [
    {
     "data": {
      "text/plain": [
       "24539"
      ]
     },
     "execution_count": 13,
     "metadata": {},
     "output_type": "execute_result"
    }
   ],
   "source": [
    "len(all_stocks)"
   ]
  },
  {
   "cell_type": "code",
   "execution_count": 14,
   "metadata": {
    "collapsed": false
   },
   "outputs": [
    {
     "data": {
      "text/html": [
       "<div>\n",
       "<table border=\"1\" class=\"dataframe\">\n",
       "  <thead>\n",
       "    <tr style=\"text-align: right;\">\n",
       "      <th></th>\n",
       "      <th></th>\n",
       "      <th>Close</th>\n",
       "      <th>Std Dev</th>\n",
       "      <th>1day return</th>\n",
       "      <th>5day return</th>\n",
       "      <th>1day label</th>\n",
       "      <th>5day label</th>\n",
       "      <th>1day significant label</th>\n",
       "      <th>5day significant label</th>\n",
       "    </tr>\n",
       "    <tr>\n",
       "      <th>tradingSymbol</th>\n",
       "      <th>publishDate_str</th>\n",
       "      <th></th>\n",
       "      <th></th>\n",
       "      <th></th>\n",
       "      <th></th>\n",
       "      <th></th>\n",
       "      <th></th>\n",
       "      <th></th>\n",
       "      <th></th>\n",
       "    </tr>\n",
       "  </thead>\n",
       "  <tbody>\n",
       "    <tr>\n",
       "      <th>AMD</th>\n",
       "      <th>2003-07-03</th>\n",
       "      <td>6.710000</td>\n",
       "      <td>0.181323</td>\n",
       "      <td>0.470000</td>\n",
       "      <td>0.490000</td>\n",
       "      <td>1</td>\n",
       "      <td>1</td>\n",
       "      <td>1</td>\n",
       "      <td>1</td>\n",
       "    </tr>\n",
       "    <tr>\n",
       "      <th>AAPL</th>\n",
       "      <th>2015-04-15</th>\n",
       "      <td>121.895703</td>\n",
       "      <td>1.375203</td>\n",
       "      <td>-0.586500</td>\n",
       "      <td>1.769109</td>\n",
       "      <td>-1</td>\n",
       "      <td>1</td>\n",
       "      <td>0</td>\n",
       "      <td>1</td>\n",
       "    </tr>\n",
       "    <tr>\n",
       "      <th rowspan=\"2\" valign=\"top\">VRML</th>\n",
       "      <th>2009-11-25</th>\n",
       "      <td>19.100000</td>\n",
       "      <td>2.893484</td>\n",
       "      <td>1.900000</td>\n",
       "      <td>1.900000</td>\n",
       "      <td>1</td>\n",
       "      <td>1</td>\n",
       "      <td>0</td>\n",
       "      <td>0</td>\n",
       "    </tr>\n",
       "    <tr>\n",
       "      <th>2012-11-20</th>\n",
       "      <td>1.180000</td>\n",
       "      <td>0.052763</td>\n",
       "      <td>0.000000</td>\n",
       "      <td>0.480000</td>\n",
       "      <td>0</td>\n",
       "      <td>1</td>\n",
       "      <td>0</td>\n",
       "      <td>1</td>\n",
       "    </tr>\n",
       "    <tr>\n",
       "      <th>ADBE</th>\n",
       "      <th>2002-02-05</th>\n",
       "      <td>17.274130</td>\n",
       "      <td>0.506549</td>\n",
       "      <td>-0.383206</td>\n",
       "      <td>0.766413</td>\n",
       "      <td>-1</td>\n",
       "      <td>1</td>\n",
       "      <td>0</td>\n",
       "      <td>1</td>\n",
       "    </tr>\n",
       "    <tr>\n",
       "      <th rowspan=\"2\" valign=\"top\">AMD</th>\n",
       "      <th>2006-02-15</th>\n",
       "      <td>40.240002</td>\n",
       "      <td>1.957389</td>\n",
       "      <td>1.500000</td>\n",
       "      <td>0.149997</td>\n",
       "      <td>1</td>\n",
       "      <td>1</td>\n",
       "      <td>0</td>\n",
       "      <td>0</td>\n",
       "    </tr>\n",
       "    <tr>\n",
       "      <th>2012-07-23</th>\n",
       "      <td>4.150000</td>\n",
       "      <td>0.528274</td>\n",
       "      <td>-0.090000</td>\n",
       "      <td>-0.050000</td>\n",
       "      <td>-1</td>\n",
       "      <td>-1</td>\n",
       "      <td>0</td>\n",
       "      <td>0</td>\n",
       "    </tr>\n",
       "    <tr>\n",
       "      <th>VRML</th>\n",
       "      <th>2017-03-16</th>\n",
       "      <td>2.200000</td>\n",
       "      <td>0.240309</td>\n",
       "      <td>0.130000</td>\n",
       "      <td>-0.060000</td>\n",
       "      <td>1</td>\n",
       "      <td>-1</td>\n",
       "      <td>0</td>\n",
       "      <td>0</td>\n",
       "    </tr>\n",
       "    <tr>\n",
       "      <th>AMD</th>\n",
       "      <th>2016-03-28</th>\n",
       "      <td>2.780000</td>\n",
       "      <td>0.243321</td>\n",
       "      <td>0.080000</td>\n",
       "      <td>0.050000</td>\n",
       "      <td>1</td>\n",
       "      <td>1</td>\n",
       "      <td>0</td>\n",
       "      <td>0</td>\n",
       "    </tr>\n",
       "    <tr>\n",
       "      <th>BLDP</th>\n",
       "      <th>2009-09-08</th>\n",
       "      <td>1.750000</td>\n",
       "      <td>0.026926</td>\n",
       "      <td>0.020000</td>\n",
       "      <td>0.160000</td>\n",
       "      <td>1</td>\n",
       "      <td>1</td>\n",
       "      <td>0</td>\n",
       "      <td>1</td>\n",
       "    </tr>\n",
       "    <tr>\n",
       "      <th rowspan=\"2\" valign=\"top\">VRML</th>\n",
       "      <th>2003-03-20</th>\n",
       "      <td>53.000001</td>\n",
       "      <td>3.211394</td>\n",
       "      <td>-0.500000</td>\n",
       "      <td>0.000000</td>\n",
       "      <td>-1</td>\n",
       "      <td>0</td>\n",
       "      <td>0</td>\n",
       "      <td>0</td>\n",
       "    </tr>\n",
       "    <tr>\n",
       "      <th>2009-05-07</th>\n",
       "      <td>0.030000</td>\n",
       "      <td>0.010990</td>\n",
       "      <td>1.170000</td>\n",
       "      <td>0.090000</td>\n",
       "      <td>1</td>\n",
       "      <td>1</td>\n",
       "      <td>1</td>\n",
       "      <td>1</td>\n",
       "    </tr>\n",
       "    <tr>\n",
       "      <th>GOOG</th>\n",
       "      <th>2008-09-23</th>\n",
       "      <td>214.420944</td>\n",
       "      <td>9.832757</td>\n",
       "      <td>2.917095</td>\n",
       "      <td>-14.360664</td>\n",
       "      <td>1</td>\n",
       "      <td>-1</td>\n",
       "      <td>0</td>\n",
       "      <td>-1</td>\n",
       "    </tr>\n",
       "    <tr>\n",
       "      <th>AAPL</th>\n",
       "      <th>2006-05-25</th>\n",
       "      <td>8.334566</td>\n",
       "      <td>0.439123</td>\n",
       "      <td>-0.101057</td>\n",
       "      <td>-0.345924</td>\n",
       "      <td>-1</td>\n",
       "      <td>-1</td>\n",
       "      <td>0</td>\n",
       "      <td>0</td>\n",
       "    </tr>\n",
       "    <tr>\n",
       "      <th>ADBE</th>\n",
       "      <th>2010-02-04</th>\n",
       "      <td>32.240002</td>\n",
       "      <td>1.718616</td>\n",
       "      <td>0.529998</td>\n",
       "      <td>0.399997</td>\n",
       "      <td>1</td>\n",
       "      <td>1</td>\n",
       "      <td>0</td>\n",
       "      <td>0</td>\n",
       "    </tr>\n",
       "    <tr>\n",
       "      <th>VRML</th>\n",
       "      <th>2007-08-27</th>\n",
       "      <td>8.000000</td>\n",
       "      <td>0.690919</td>\n",
       "      <td>0.600001</td>\n",
       "      <td>1.600001</td>\n",
       "      <td>1</td>\n",
       "      <td>1</td>\n",
       "      <td>0</td>\n",
       "      <td>1</td>\n",
       "    </tr>\n",
       "    <tr>\n",
       "      <th>AAPL</th>\n",
       "      <th>2011-08-26</th>\n",
       "      <td>49.696452</td>\n",
       "      <td>1.511348</td>\n",
       "      <td>0.827885</td>\n",
       "      <td>-1.234702</td>\n",
       "      <td>1</td>\n",
       "      <td>-1</td>\n",
       "      <td>0</td>\n",
       "      <td>0</td>\n",
       "    </tr>\n",
       "    <tr>\n",
       "      <th rowspan=\"3\" valign=\"top\">AMD</th>\n",
       "      <th>2005-02-18</th>\n",
       "      <td>16.900000</td>\n",
       "      <td>0.915619</td>\n",
       "      <td>0.100000</td>\n",
       "      <td>0.550001</td>\n",
       "      <td>1</td>\n",
       "      <td>1</td>\n",
       "      <td>0</td>\n",
       "      <td>0</td>\n",
       "    </tr>\n",
       "    <tr>\n",
       "      <th>2013-03-18</th>\n",
       "      <td>2.650000</td>\n",
       "      <td>0.104301</td>\n",
       "      <td>0.020000</td>\n",
       "      <td>-0.140000</td>\n",
       "      <td>1</td>\n",
       "      <td>-1</td>\n",
       "      <td>0</td>\n",
       "      <td>-1</td>\n",
       "    </tr>\n",
       "    <tr>\n",
       "      <th>2007-10-04</th>\n",
       "      <td>13.350000</td>\n",
       "      <td>0.324934</td>\n",
       "      <td>0.280000</td>\n",
       "      <td>0.450000</td>\n",
       "      <td>1</td>\n",
       "      <td>1</td>\n",
       "      <td>0</td>\n",
       "      <td>1</td>\n",
       "    </tr>\n",
       "  </tbody>\n",
       "</table>\n",
       "</div>"
      ],
      "text/plain": [
       "                                    Close   Std Dev  1day return  5day return  \\\n",
       "tradingSymbol publishDate_str                                                   \n",
       "AMD           2003-07-03         6.710000  0.181323     0.470000     0.490000   \n",
       "AAPL          2015-04-15       121.895703  1.375203    -0.586500     1.769109   \n",
       "VRML          2009-11-25        19.100000  2.893484     1.900000     1.900000   \n",
       "              2012-11-20         1.180000  0.052763     0.000000     0.480000   \n",
       "ADBE          2002-02-05        17.274130  0.506549    -0.383206     0.766413   \n",
       "AMD           2006-02-15        40.240002  1.957389     1.500000     0.149997   \n",
       "              2012-07-23         4.150000  0.528274    -0.090000    -0.050000   \n",
       "VRML          2017-03-16         2.200000  0.240309     0.130000    -0.060000   \n",
       "AMD           2016-03-28         2.780000  0.243321     0.080000     0.050000   \n",
       "BLDP          2009-09-08         1.750000  0.026926     0.020000     0.160000   \n",
       "VRML          2003-03-20        53.000001  3.211394    -0.500000     0.000000   \n",
       "              2009-05-07         0.030000  0.010990     1.170000     0.090000   \n",
       "GOOG          2008-09-23       214.420944  9.832757     2.917095   -14.360664   \n",
       "AAPL          2006-05-25         8.334566  0.439123    -0.101057    -0.345924   \n",
       "ADBE          2010-02-04        32.240002  1.718616     0.529998     0.399997   \n",
       "VRML          2007-08-27         8.000000  0.690919     0.600001     1.600001   \n",
       "AAPL          2011-08-26        49.696452  1.511348     0.827885    -1.234702   \n",
       "AMD           2005-02-18        16.900000  0.915619     0.100000     0.550001   \n",
       "              2013-03-18         2.650000  0.104301     0.020000    -0.140000   \n",
       "              2007-10-04        13.350000  0.324934     0.280000     0.450000   \n",
       "\n",
       "                               1day label  5day label  1day significant label  \\\n",
       "tradingSymbol publishDate_str                                                   \n",
       "AMD           2003-07-03                1           1                       1   \n",
       "AAPL          2015-04-15               -1           1                       0   \n",
       "VRML          2009-11-25                1           1                       0   \n",
       "              2012-11-20                0           1                       0   \n",
       "ADBE          2002-02-05               -1           1                       0   \n",
       "AMD           2006-02-15                1           1                       0   \n",
       "              2012-07-23               -1          -1                       0   \n",
       "VRML          2017-03-16                1          -1                       0   \n",
       "AMD           2016-03-28                1           1                       0   \n",
       "BLDP          2009-09-08                1           1                       0   \n",
       "VRML          2003-03-20               -1           0                       0   \n",
       "              2009-05-07                1           1                       1   \n",
       "GOOG          2008-09-23                1          -1                       0   \n",
       "AAPL          2006-05-25               -1          -1                       0   \n",
       "ADBE          2010-02-04                1           1                       0   \n",
       "VRML          2007-08-27                1           1                       0   \n",
       "AAPL          2011-08-26                1          -1                       0   \n",
       "AMD           2005-02-18                1           1                       0   \n",
       "              2013-03-18                1          -1                       0   \n",
       "              2007-10-04                1           1                       0   \n",
       "\n",
       "                               5day significant label  \n",
       "tradingSymbol publishDate_str                          \n",
       "AMD           2003-07-03                            1  \n",
       "AAPL          2015-04-15                            1  \n",
       "VRML          2009-11-25                            0  \n",
       "              2012-11-20                            1  \n",
       "ADBE          2002-02-05                            1  \n",
       "AMD           2006-02-15                            0  \n",
       "              2012-07-23                            0  \n",
       "VRML          2017-03-16                            0  \n",
       "AMD           2016-03-28                            0  \n",
       "BLDP          2009-09-08                            1  \n",
       "VRML          2003-03-20                            0  \n",
       "              2009-05-07                            1  \n",
       "GOOG          2008-09-23                           -1  \n",
       "AAPL          2006-05-25                            0  \n",
       "ADBE          2010-02-04                            0  \n",
       "VRML          2007-08-27                            1  \n",
       "AAPL          2011-08-26                            0  \n",
       "AMD           2005-02-18                            0  \n",
       "              2013-03-18                           -1  \n",
       "              2007-10-04                            1  "
      ]
     },
     "execution_count": 14,
     "metadata": {},
     "output_type": "execute_result"
    }
   ],
   "source": [
    "all_stocks.sample(20)"
   ]
  },
  {
   "cell_type": "markdown",
   "metadata": {
    "deletable": true,
    "editable": true
   },
   "source": [
    "# Merge transcripts with stock data"
   ]
  },
  {
   "cell_type": "code",
   "execution_count": 15,
   "metadata": {
    "collapsed": false,
    "deletable": true,
    "editable": true
   },
   "outputs": [
    {
     "data": {
      "text/html": [
       "<div>\n",
       "<table border=\"1\" class=\"dataframe\">\n",
       "  <thead>\n",
       "    <tr style=\"text-align: right;\">\n",
       "      <th></th>\n",
       "      <th></th>\n",
       "      <th>publishDate</th>\n",
       "      <th>qAndAText</th>\n",
       "      <th>rawText</th>\n",
       "      <th>url</th>\n",
       "      <th>Close</th>\n",
       "      <th>Std Dev</th>\n",
       "      <th>1day return</th>\n",
       "      <th>5day return</th>\n",
       "      <th>1day label</th>\n",
       "      <th>5day label</th>\n",
       "      <th>1day significant label</th>\n",
       "      <th>5day significant label</th>\n",
       "    </tr>\n",
       "    <tr>\n",
       "      <th>tradingSymbol</th>\n",
       "      <th>publishDate_str</th>\n",
       "      <th></th>\n",
       "      <th></th>\n",
       "      <th></th>\n",
       "      <th></th>\n",
       "      <th></th>\n",
       "      <th></th>\n",
       "      <th></th>\n",
       "      <th></th>\n",
       "      <th></th>\n",
       "      <th></th>\n",
       "      <th></th>\n",
       "      <th></th>\n",
       "    </tr>\n",
       "  </thead>\n",
       "  <tbody>\n",
       "    <tr>\n",
       "      <th>GOOG</th>\n",
       "      <th>2012-04-13</th>\n",
       "      <td>2012-04-13T02:10:04Z</td>\n",
       "      <td>Operator [Operator Instructions] And we'll tak...</td>\n",
       "      <td>Google (NASDAQ: GOOG ) Q1 2012 Earnings Call A...</td>\n",
       "      <td>https://seekingalpha.com/article/495351-google...</td>\n",
       "      <td>311.988542</td>\n",
       "      <td>4.533853</td>\n",
       "      <td>-9.255766</td>\n",
       "      <td>-14.255762</td>\n",
       "      <td>-1</td>\n",
       "      <td>-1</td>\n",
       "      <td>-1</td>\n",
       "      <td>-1</td>\n",
       "    </tr>\n",
       "    <tr>\n",
       "      <th>AMD</th>\n",
       "      <th>2011-10-28</th>\n",
       "      <td>2011-10-28T01:10:15Z</td>\n",
       "      <td>Operator [Operator Instructions] Our first que...</td>\n",
       "      <td>Advanced Micro Devices (NASDAQ: AMD ) Q3 2011 ...</td>\n",
       "      <td>https://seekingalpha.com/article/303021-advanc...</td>\n",
       "      <td>5.940000</td>\n",
       "      <td>0.326076</td>\n",
       "      <td>-0.110000</td>\n",
       "      <td>-0.270000</td>\n",
       "      <td>-1</td>\n",
       "      <td>-1</td>\n",
       "      <td>0</td>\n",
       "      <td>0</td>\n",
       "    </tr>\n",
       "    <tr>\n",
       "      <th rowspan=\"2\" valign=\"top\">AAPL</th>\n",
       "      <th>2013-07-23</th>\n",
       "      <td>2013-07-23T23:38:02Z</td>\n",
       "      <td>Operator (Operator Instructions) Your first qu...</td>\n",
       "      <td>Apple Inc. (NASDAQ: AAPL ) F3Q 2013 Earnings C...</td>\n",
       "      <td>https://seekingalpha.com/article/1566012-apple...</td>\n",
       "      <td>55.450012</td>\n",
       "      <td>1.565132</td>\n",
       "      <td>2.848003</td>\n",
       "      <td>4.543307</td>\n",
       "      <td>1</td>\n",
       "      <td>1</td>\n",
       "      <td>1</td>\n",
       "      <td>1</td>\n",
       "    </tr>\n",
       "    <tr>\n",
       "      <th>2005-10-13</th>\n",
       "      <td>2005-10-13T19:00:40Z</td>\n",
       "      <td></td>\n",
       "      <td>Here's the entire text of the prepared remarks...</td>\n",
       "      <td>https://seekingalpha.com/article/3562-apple-co...</td>\n",
       "      <td>6.962530</td>\n",
       "      <td>0.172668</td>\n",
       "      <td>0.033686</td>\n",
       "      <td>0.310944</td>\n",
       "      <td>1</td>\n",
       "      <td>1</td>\n",
       "      <td>0</td>\n",
       "      <td>1</td>\n",
       "    </tr>\n",
       "    <tr>\n",
       "      <th>GOOG</th>\n",
       "      <th>2010-10-28</th>\n",
       "      <td>2010-10-28T17:05:16Z</td>\n",
       "      <td>Operator [Operator Instructions] It looks like...</td>\n",
       "      <td>Motorola (MOT) Q3 2010 Earnings Call October 2...</td>\n",
       "      <td>https://seekingalpha.com/article/233036-motoro...</td>\n",
       "      <td>308.981555</td>\n",
       "      <td>20.184649</td>\n",
       "      <td>-2.437587</td>\n",
       "      <td>2.842168</td>\n",
       "      <td>-1</td>\n",
       "      <td>1</td>\n",
       "      <td>0</td>\n",
       "      <td>0</td>\n",
       "    </tr>\n",
       "    <tr>\n",
       "      <th rowspan=\"3\" valign=\"top\">AAPL</th>\n",
       "      <th>2011-07-20</th>\n",
       "      <td>2011-07-20T01:40:10Z</td>\n",
       "      <td>Operator [Operator Instructions] Your first qu...</td>\n",
       "      <td>Apple (NASDAQ: AAPL ) Q3 2011 Earnings Call Ju...</td>\n",
       "      <td>https://seekingalpha.com/article/280344-apple-...</td>\n",
       "      <td>50.126589</td>\n",
       "      <td>2.279584</td>\n",
       "      <td>0.050531</td>\n",
       "      <td>0.737195</td>\n",
       "      <td>1</td>\n",
       "      <td>1</td>\n",
       "      <td>0</td>\n",
       "      <td>0</td>\n",
       "    </tr>\n",
       "    <tr>\n",
       "      <th>2007-07-26</th>\n",
       "      <td>2007-07-26T02:58:14Z</td>\n",
       "      <td>Operator   (Operator Instructions) First up to...</td>\n",
       "      <td>Apple Inc. (NASDAQ: AAPL )   F3Q07 Earnings Ca...</td>\n",
       "      <td>https://seekingalpha.com/article/42374-apple-f...</td>\n",
       "      <td>18.915695</td>\n",
       "      <td>0.943476</td>\n",
       "      <td>-0.278554</td>\n",
       "      <td>-1.232112</td>\n",
       "      <td>-1</td>\n",
       "      <td>-1</td>\n",
       "      <td>0</td>\n",
       "      <td>-1</td>\n",
       "    </tr>\n",
       "    <tr>\n",
       "      <th>2005-10-13</th>\n",
       "      <td>2005-10-13T19:06:13Z</td>\n",
       "      <td>[Rebecca Runkle of Morgan and Stanley] [Q – Re...</td>\n",
       "      <td>Here’s the entire text of the Q&amp;A from Apple’s...</td>\n",
       "      <td>https://seekingalpha.com/article/3563-apple-co...</td>\n",
       "      <td>6.962530</td>\n",
       "      <td>0.172668</td>\n",
       "      <td>0.033686</td>\n",
       "      <td>0.310944</td>\n",
       "      <td>1</td>\n",
       "      <td>1</td>\n",
       "      <td>0</td>\n",
       "      <td>1</td>\n",
       "    </tr>\n",
       "    <tr>\n",
       "      <th>ADBE</th>\n",
       "      <th>2009-12-16</th>\n",
       "      <td>2009-12-16T02:51:07Z</td>\n",
       "      <td>Operator (Operator Instructions) We will go fi...</td>\n",
       "      <td>Adobe Systems Incorporated (NASDAQ: ADBE ) F4Q...</td>\n",
       "      <td>https://seekingalpha.com/article/178350-adobe-...</td>\n",
       "      <td>37.860001</td>\n",
       "      <td>0.582621</td>\n",
       "      <td>-0.850003</td>\n",
       "      <td>-0.930001</td>\n",
       "      <td>-1</td>\n",
       "      <td>-1</td>\n",
       "      <td>-1</td>\n",
       "      <td>-1</td>\n",
       "    </tr>\n",
       "    <tr>\n",
       "      <th>AMD</th>\n",
       "      <th>2012-07-20</th>\n",
       "      <td>2012-07-20T00:50:02Z</td>\n",
       "      <td>Operator [Operator Instructions] Our first que...</td>\n",
       "      <td>Advanced Micro Devices (NASDAQ: AMD ) Q2 2012 ...</td>\n",
       "      <td>https://seekingalpha.com/article/734631-advanc...</td>\n",
       "      <td>4.220000</td>\n",
       "      <td>0.478813</td>\n",
       "      <td>-0.070000</td>\n",
       "      <td>-0.130000</td>\n",
       "      <td>-1</td>\n",
       "      <td>-1</td>\n",
       "      <td>0</td>\n",
       "      <td>0</td>\n",
       "    </tr>\n",
       "  </tbody>\n",
       "</table>\n",
       "</div>"
      ],
      "text/plain": [
       "                                        publishDate  \\\n",
       "tradingSymbol publishDate_str                         \n",
       "GOOG          2012-04-13       2012-04-13T02:10:04Z   \n",
       "AMD           2011-10-28       2011-10-28T01:10:15Z   \n",
       "AAPL          2013-07-23       2013-07-23T23:38:02Z   \n",
       "              2005-10-13       2005-10-13T19:00:40Z   \n",
       "GOOG          2010-10-28       2010-10-28T17:05:16Z   \n",
       "AAPL          2011-07-20       2011-07-20T01:40:10Z   \n",
       "              2007-07-26       2007-07-26T02:58:14Z   \n",
       "              2005-10-13       2005-10-13T19:06:13Z   \n",
       "ADBE          2009-12-16       2009-12-16T02:51:07Z   \n",
       "AMD           2012-07-20       2012-07-20T00:50:02Z   \n",
       "\n",
       "                                                                       qAndAText  \\\n",
       "tradingSymbol publishDate_str                                                      \n",
       "GOOG          2012-04-13       Operator [Operator Instructions] And we'll tak...   \n",
       "AMD           2011-10-28       Operator [Operator Instructions] Our first que...   \n",
       "AAPL          2013-07-23       Operator (Operator Instructions) Your first qu...   \n",
       "              2005-10-13                                                           \n",
       "GOOG          2010-10-28       Operator [Operator Instructions] It looks like...   \n",
       "AAPL          2011-07-20       Operator [Operator Instructions] Your first qu...   \n",
       "              2007-07-26       Operator   (Operator Instructions) First up to...   \n",
       "              2005-10-13       [Rebecca Runkle of Morgan and Stanley] [Q – Re...   \n",
       "ADBE          2009-12-16       Operator (Operator Instructions) We will go fi...   \n",
       "AMD           2012-07-20       Operator [Operator Instructions] Our first que...   \n",
       "\n",
       "                                                                         rawText  \\\n",
       "tradingSymbol publishDate_str                                                      \n",
       "GOOG          2012-04-13       Google (NASDAQ: GOOG ) Q1 2012 Earnings Call A...   \n",
       "AMD           2011-10-28       Advanced Micro Devices (NASDAQ: AMD ) Q3 2011 ...   \n",
       "AAPL          2013-07-23       Apple Inc. (NASDAQ: AAPL ) F3Q 2013 Earnings C...   \n",
       "              2005-10-13       Here's the entire text of the prepared remarks...   \n",
       "GOOG          2010-10-28       Motorola (MOT) Q3 2010 Earnings Call October 2...   \n",
       "AAPL          2011-07-20       Apple (NASDAQ: AAPL ) Q3 2011 Earnings Call Ju...   \n",
       "              2007-07-26       Apple Inc. (NASDAQ: AAPL )   F3Q07 Earnings Ca...   \n",
       "              2005-10-13       Here’s the entire text of the Q&A from Apple’s...   \n",
       "ADBE          2009-12-16       Adobe Systems Incorporated (NASDAQ: ADBE ) F4Q...   \n",
       "AMD           2012-07-20       Advanced Micro Devices (NASDAQ: AMD ) Q2 2012 ...   \n",
       "\n",
       "                                                                             url  \\\n",
       "tradingSymbol publishDate_str                                                      \n",
       "GOOG          2012-04-13       https://seekingalpha.com/article/495351-google...   \n",
       "AMD           2011-10-28       https://seekingalpha.com/article/303021-advanc...   \n",
       "AAPL          2013-07-23       https://seekingalpha.com/article/1566012-apple...   \n",
       "              2005-10-13       https://seekingalpha.com/article/3562-apple-co...   \n",
       "GOOG          2010-10-28       https://seekingalpha.com/article/233036-motoro...   \n",
       "AAPL          2011-07-20       https://seekingalpha.com/article/280344-apple-...   \n",
       "              2007-07-26       https://seekingalpha.com/article/42374-apple-f...   \n",
       "              2005-10-13       https://seekingalpha.com/article/3563-apple-co...   \n",
       "ADBE          2009-12-16       https://seekingalpha.com/article/178350-adobe-...   \n",
       "AMD           2012-07-20       https://seekingalpha.com/article/734631-advanc...   \n",
       "\n",
       "                                    Close    Std Dev  1day return  \\\n",
       "tradingSymbol publishDate_str                                       \n",
       "GOOG          2012-04-13       311.988542   4.533853    -9.255766   \n",
       "AMD           2011-10-28         5.940000   0.326076    -0.110000   \n",
       "AAPL          2013-07-23        55.450012   1.565132     2.848003   \n",
       "              2005-10-13         6.962530   0.172668     0.033686   \n",
       "GOOG          2010-10-28       308.981555  20.184649    -2.437587   \n",
       "AAPL          2011-07-20        50.126589   2.279584     0.050531   \n",
       "              2007-07-26        18.915695   0.943476    -0.278554   \n",
       "              2005-10-13         6.962530   0.172668     0.033686   \n",
       "ADBE          2009-12-16        37.860001   0.582621    -0.850003   \n",
       "AMD           2012-07-20         4.220000   0.478813    -0.070000   \n",
       "\n",
       "                               5day return  1day label  5day label  \\\n",
       "tradingSymbol publishDate_str                                        \n",
       "GOOG          2012-04-13        -14.255762          -1          -1   \n",
       "AMD           2011-10-28         -0.270000          -1          -1   \n",
       "AAPL          2013-07-23          4.543307           1           1   \n",
       "              2005-10-13          0.310944           1           1   \n",
       "GOOG          2010-10-28          2.842168          -1           1   \n",
       "AAPL          2011-07-20          0.737195           1           1   \n",
       "              2007-07-26         -1.232112          -1          -1   \n",
       "              2005-10-13          0.310944           1           1   \n",
       "ADBE          2009-12-16         -0.930001          -1          -1   \n",
       "AMD           2012-07-20         -0.130000          -1          -1   \n",
       "\n",
       "                               1day significant label  5day significant label  \n",
       "tradingSymbol publishDate_str                                                  \n",
       "GOOG          2012-04-13                           -1                      -1  \n",
       "AMD           2011-10-28                            0                       0  \n",
       "AAPL          2013-07-23                            1                       1  \n",
       "              2005-10-13                            0                       1  \n",
       "GOOG          2010-10-28                            0                       0  \n",
       "AAPL          2011-07-20                            0                       0  \n",
       "              2007-07-26                            0                      -1  \n",
       "              2005-10-13                            0                       1  \n",
       "ADBE          2009-12-16                           -1                      -1  \n",
       "AMD           2012-07-20                            0                       0  "
      ]
     },
     "execution_count": 15,
     "metadata": {},
     "output_type": "execute_result"
    }
   ],
   "source": [
    "earnings_transcript = earnings_transcript.merge(all_stocks, left_index=True, right_index=True)\n",
    "earnings_transcript.sample(10)"
   ]
  },
  {
   "cell_type": "markdown",
   "metadata": {
    "deletable": true,
    "editable": true
   },
   "source": [
    "# Create train data and test data"
   ]
  },
  {
   "cell_type": "code",
   "execution_count": 16,
   "metadata": {
    "collapsed": false,
    "deletable": true,
    "editable": true
   },
   "outputs": [],
   "source": [
    "X = earnings_transcript['rawText']\n",
    "y = earnings_transcript['1day significant label']"
   ]
  },
  {
   "cell_type": "code",
   "execution_count": null,
   "metadata": {
    "collapsed": true,
    "deletable": true,
    "editable": true
   },
   "outputs": [],
   "source": [
    "X_train, X_test, y_train, y_test = train_test_split(X, y, test_size=0.25, random_state=101)"
   ]
  },
  {
   "cell_type": "markdown",
   "metadata": {
    "deletable": true,
    "editable": true
   },
   "source": [
    "# Tf-Idf and LogisticRegression model"
   ]
  },
  {
   "cell_type": "markdown",
   "metadata": {
    "deletable": true,
    "editable": true
   },
   "source": [
    "### GridSearch on pipeline - it takes 20+ minutes on my machine!!!!!!!\n",
    "###### http://scikit-learn.org/stable/auto_examples/model_selection/grid_search_digits.html"
   ]
  },
  {
   "cell_type": "code",
   "execution_count": null,
   "metadata": {
    "collapsed": false,
    "deletable": true,
    "editable": true,
    "scrolled": true
   },
   "outputs": [
    {
     "name": "stdout",
     "output_type": "stream",
     "text": [
      "Fitting 4 folds for each of 120 candidates, totalling 480 fits\n"
     ]
    },
    {
     "name": "stderr",
     "output_type": "stream",
     "text": [
      "[Parallel(n_jobs=4)]: Done  24 tasks      | elapsed:   36.7s\n",
      "[Parallel(n_jobs=4)]: Done 120 tasks      | elapsed:  4.6min\n"
     ]
    }
   ],
   "source": [
    "pipeline = Pipeline([\n",
    "    ('bow', CountVectorizer(stop_words='english')),\n",
    "    ('tfidf', TfidfTransformer(norm='l2')),\n",
    "    ('logreg_model', LogisticRegression())\n",
    "])\n",
    "#pipeline.fit(X_train, y_train)\n",
    "\n",
    "params = dict(bow__ngram_range=[(1,1), (1,2), (1,3)],\n",
    "              bow__max_df=np.arange(0.1,0.6,0.1),\n",
    "              bow__min_df=[1,2],\n",
    "              logreg_model__C=np.arange(0.5, 1.5, 0.3))\n",
    "grid_search = GridSearchCV(pipeline, \n",
    "                           param_grid=params, \n",
    "                           verbose=3, \n",
    "                           scoring='precision_macro', \n",
    "                           n_jobs=4,\n",
    "                           refit=True,\n",
    "                           cv=4)\n",
    "grid_search.fit(X_train, y_train)\n",
    "#grid_search.fit(X, y)"
   ]
  },
  {
   "cell_type": "code",
   "execution_count": null,
   "metadata": {
    "collapsed": false,
    "deletable": true,
    "editable": true
   },
   "outputs": [],
   "source": [
    "grid_search.best_params_"
   ]
  },
  {
   "cell_type": "code",
   "execution_count": null,
   "metadata": {
    "collapsed": false,
    "deletable": true,
    "editable": true
   },
   "outputs": [],
   "source": [
    "grid_search.best_score_"
   ]
  },
  {
   "cell_type": "markdown",
   "metadata": {
    "deletable": true,
    "editable": true
   },
   "source": [
    "### Fitting the model"
   ]
  },
  {
   "cell_type": "code",
   "execution_count": null,
   "metadata": {
    "collapsed": false,
    "deletable": true,
    "editable": true
   },
   "outputs": [],
   "source": [
    "pipeline = Pipeline([\n",
    "    ('bow', CountVectorizer(stop_words='english', max_df=0.2, min_df=1, ngram_range=(1,1))),\n",
    "    ('tfidf', TfidfTransformer(norm='l2')),\n",
    "    ('bayes_model', LogisticRegression(C=0.5))\n",
    "])\n",
    "pipeline.fit(X_train, y_train)"
   ]
  },
  {
   "cell_type": "code",
   "execution_count": null,
   "metadata": {
    "collapsed": true,
    "deletable": true,
    "editable": true
   },
   "outputs": [],
   "source": [
    "y_predicted = pipeline.predict(X_test)"
   ]
  },
  {
   "cell_type": "markdown",
   "metadata": {
    "deletable": true,
    "editable": true
   },
   "source": [
    "#### Confusion matrix\n",
    "By definition a confusion matrix :math:`C` is such that :math:`C_{i, j}`\n",
    "is equal to the number of observations known to be in group :math:`i` but\n",
    "predicted to be in group :math:`j`."
   ]
  },
  {
   "cell_type": "code",
   "execution_count": null,
   "metadata": {
    "collapsed": false,
    "deletable": true,
    "editable": true
   },
   "outputs": [],
   "source": [
    "cm = confusion_matrix(y_test, y_predicted)"
   ]
  },
  {
   "cell_type": "code",
   "execution_count": null,
   "metadata": {
    "collapsed": false,
    "deletable": true,
    "editable": true
   },
   "outputs": [],
   "source": [
    "sns.heatmap(cm, cmap='magma', annot=True)"
   ]
  },
  {
   "cell_type": "code",
   "execution_count": null,
   "metadata": {
    "collapsed": false,
    "deletable": true,
    "editable": true
   },
   "outputs": [],
   "source": [
    "cr = classification_report(y_test, y_predicted)\n",
    "print(cr)"
   ]
  }
 ],
 "metadata": {
  "kernelspec": {
   "display_name": "Python 3",
   "language": "python",
   "name": "python3"
  },
  "language_info": {
   "codemirror_mode": {
    "name": "ipython",
    "version": 3
   },
   "file_extension": ".py",
   "mimetype": "text/x-python",
   "name": "python",
   "nbconvert_exporter": "python",
   "pygments_lexer": "ipython3",
   "version": "3.6.0"
  }
 },
 "nbformat": 4,
 "nbformat_minor": 2
}
