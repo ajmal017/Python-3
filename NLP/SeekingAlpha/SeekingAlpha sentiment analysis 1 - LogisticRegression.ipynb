{
 "cells": [
  {
   "cell_type": "code",
   "execution_count": 1,
   "metadata": {
    "collapsed": true,
    "deletable": true,
    "editable": true
   },
   "outputs": [],
   "source": [
    "from sklearn.feature_extraction.text import CountVectorizer, TfidfTransformer\n",
    "from sklearn.model_selection import train_test_split\n",
    "from sklearn.pipeline import Pipeline\n",
    "from sklearn.linear_model import LogisticRegression\n",
    "from sklearn.naive_bayes import MultinomialNB\n",
    "from sklearn.model_selection import GridSearchCV\n",
    "from sklearn.metrics import classification_report, confusion_matrix, precision_score"
   ]
  },
  {
   "cell_type": "code",
   "execution_count": 2,
   "metadata": {
    "collapsed": true,
    "deletable": true,
    "editable": true
   },
   "outputs": [],
   "source": [
    "import pandas as pd\n",
    "import numpy as np\n",
    "import matplotlib.pyplot as plt\n",
    "import seaborn as sns\n",
    "%matplotlib inline"
   ]
  },
  {
   "cell_type": "code",
   "execution_count": 3,
   "metadata": {
    "collapsed": true
   },
   "outputs": [],
   "source": [
    "from pymongo import MongoClient\n",
    "import ystockquote"
   ]
  },
  {
   "cell_type": "code",
   "execution_count": 4,
   "metadata": {
    "collapsed": true,
    "deletable": true,
    "editable": true
   },
   "outputs": [],
   "source": [
    "from datetime import datetime\n",
    "import math"
   ]
  },
  {
   "cell_type": "markdown",
   "metadata": {
    "deletable": true,
    "editable": true
   },
   "source": [
    "# Load transcripts"
   ]
  },
  {
   "cell_type": "code",
   "execution_count": 5,
   "metadata": {
    "collapsed": false,
    "deletable": true,
    "editable": true
   },
   "outputs": [],
   "source": [
    "client = MongoClient('localhost', 27017)\n",
    "earnings_transcript_collection = client.python_import.earnings_transcript"
   ]
  },
  {
   "cell_type": "code",
   "execution_count": 6,
   "metadata": {
    "collapsed": false,
    "deletable": true,
    "editable": true
   },
   "outputs": [],
   "source": [
    "earnings_transcript = pd.DataFrame(list(earnings_transcript_collection.find({'tradingSymbol':'AAPL'})))\n",
    "earnings_transcript.drop('_id', axis=1, inplace=True)"
   ]
  },
  {
   "cell_type": "code",
   "execution_count": 7,
   "metadata": {
    "collapsed": false
   },
   "outputs": [
    {
     "data": {
      "text/html": [
       "<div>\n",
       "<table border=\"1\" class=\"dataframe\">\n",
       "  <thead>\n",
       "    <tr style=\"text-align: right;\">\n",
       "      <th></th>\n",
       "      <th>publishDate</th>\n",
       "      <th>qAndAText</th>\n",
       "      <th>rawText</th>\n",
       "      <th>tradingSymbol</th>\n",
       "      <th>url</th>\n",
       "      <th>publishDate_str</th>\n",
       "    </tr>\n",
       "  </thead>\n",
       "  <tbody>\n",
       "    <tr>\n",
       "      <th>0</th>\n",
       "      <td>2016-07-27T01:01:38Z</td>\n",
       "      <td>Operator Your first question will come from Sh...</td>\n",
       "      <td>Apple, Inc. (NASDAQ: AAPL ) Q3 2016 Earnings C...</td>\n",
       "      <td>AAPL</td>\n",
       "      <td>https://seekingalpha.com/article/3991811-apple...</td>\n",
       "      <td>2016-07-27</td>\n",
       "    </tr>\n",
       "  </tbody>\n",
       "</table>\n",
       "</div>"
      ],
      "text/plain": [
       "            publishDate                                          qAndAText  \\\n",
       "0  2016-07-27T01:01:38Z  Operator Your first question will come from Sh...   \n",
       "\n",
       "                                             rawText tradingSymbol  \\\n",
       "0  Apple, Inc. (NASDAQ: AAPL ) Q3 2016 Earnings C...          AAPL   \n",
       "\n",
       "                                                 url publishDate_str  \n",
       "0  https://seekingalpha.com/article/3991811-apple...      2016-07-27  "
      ]
     },
     "execution_count": 7,
     "metadata": {},
     "output_type": "execute_result"
    }
   ],
   "source": [
    "earnings_transcript['publishDate_str'] = earnings_transcript.apply(\n",
    "    lambda row: str(datetime.strptime(row['publishDate'], '%Y-%m-%dT%H:%M:%SZ').date()), \n",
    "    axis=1)\n",
    "earnings_transcript.head(1)"
   ]
  },
  {
   "cell_type": "code",
   "execution_count": 8,
   "metadata": {
    "collapsed": false
   },
   "outputs": [
    {
     "data": {
      "text/html": [
       "<div>\n",
       "<table border=\"1\" class=\"dataframe\">\n",
       "  <thead>\n",
       "    <tr style=\"text-align: right;\">\n",
       "      <th></th>\n",
       "      <th></th>\n",
       "      <th>publishDate</th>\n",
       "      <th>qAndAText</th>\n",
       "      <th>rawText</th>\n",
       "      <th>url</th>\n",
       "    </tr>\n",
       "    <tr>\n",
       "      <th>tradingSymbol</th>\n",
       "      <th>publishDate_str</th>\n",
       "      <th></th>\n",
       "      <th></th>\n",
       "      <th></th>\n",
       "      <th></th>\n",
       "    </tr>\n",
       "  </thead>\n",
       "  <tbody>\n",
       "    <tr>\n",
       "      <th rowspan=\"2\" valign=\"top\">AAPL</th>\n",
       "      <th>2016-07-27</th>\n",
       "      <td>2016-07-27T01:01:38Z</td>\n",
       "      <td>Operator Your first question will come from Sh...</td>\n",
       "      <td>Apple, Inc. (NASDAQ: AAPL ) Q3 2016 Earnings C...</td>\n",
       "      <td>https://seekingalpha.com/article/3991811-apple...</td>\n",
       "    </tr>\n",
       "    <tr>\n",
       "      <th>2012-10-26</th>\n",
       "      <td>2012-10-26T01:33:03Z</td>\n",
       "      <td>Operator (Operator Instructions) Your first qu...</td>\n",
       "      <td>Apple Inc. (NASDAQ: AAPL ) F4Q12 Earnings Call...</td>\n",
       "      <td>https://seekingalpha.com/article/952971-apples...</td>\n",
       "    </tr>\n",
       "  </tbody>\n",
       "</table>\n",
       "</div>"
      ],
      "text/plain": [
       "                                        publishDate  \\\n",
       "tradingSymbol publishDate_str                         \n",
       "AAPL          2016-07-27       2016-07-27T01:01:38Z   \n",
       "              2012-10-26       2012-10-26T01:33:03Z   \n",
       "\n",
       "                                                                       qAndAText  \\\n",
       "tradingSymbol publishDate_str                                                      \n",
       "AAPL          2016-07-27       Operator Your first question will come from Sh...   \n",
       "              2012-10-26       Operator (Operator Instructions) Your first qu...   \n",
       "\n",
       "                                                                         rawText  \\\n",
       "tradingSymbol publishDate_str                                                      \n",
       "AAPL          2016-07-27       Apple, Inc. (NASDAQ: AAPL ) Q3 2016 Earnings C...   \n",
       "              2012-10-26       Apple Inc. (NASDAQ: AAPL ) F4Q12 Earnings Call...   \n",
       "\n",
       "                                                                             url  \n",
       "tradingSymbol publishDate_str                                                     \n",
       "AAPL          2016-07-27       https://seekingalpha.com/article/3991811-apple...  \n",
       "              2012-10-26       https://seekingalpha.com/article/952971-apples...  "
      ]
     },
     "execution_count": 8,
     "metadata": {},
     "output_type": "execute_result"
    }
   ],
   "source": [
    "earnings_transcript.set_index(['tradingSymbol', 'publishDate_str'], inplace=True)\n",
    "earnings_transcript.head(2)"
   ]
  },
  {
   "cell_type": "code",
   "execution_count": 9,
   "metadata": {
    "collapsed": false
   },
   "outputs": [
    {
     "data": {
      "text/html": [
       "<div>\n",
       "<table border=\"1\" class=\"dataframe\">\n",
       "  <thead>\n",
       "    <tr style=\"text-align: right;\">\n",
       "      <th></th>\n",
       "      <th></th>\n",
       "      <th>publishDate</th>\n",
       "      <th>qAndAText</th>\n",
       "      <th>rawText</th>\n",
       "      <th>url</th>\n",
       "    </tr>\n",
       "    <tr>\n",
       "      <th>tradingSymbol</th>\n",
       "      <th>publishDate_str</th>\n",
       "      <th></th>\n",
       "      <th></th>\n",
       "      <th></th>\n",
       "      <th></th>\n",
       "    </tr>\n",
       "  </thead>\n",
       "  <tbody>\n",
       "    <tr>\n",
       "      <th rowspan=\"2\" valign=\"top\">AAPL</th>\n",
       "      <th>2007-10-23</th>\n",
       "      <td>2007-10-23T00:30:44Z</td>\n",
       "      <td></td>\n",
       "      <td>Apple Inc. (NASDAQ: AAPL ) F4Q07 Earnings Call...</td>\n",
       "      <td>https://seekingalpha.com/article/50846-apple-f...</td>\n",
       "    </tr>\n",
       "    <tr>\n",
       "      <th>2008-01-23</th>\n",
       "      <td>2008-01-23T02:17:14Z</td>\n",
       "      <td>Operator (Operator Instructions) Our first que...</td>\n",
       "      <td>Apple Inc. (NASDAQ: AAPL ) F1Q08 Earnings Call...</td>\n",
       "      <td>https://seekingalpha.com/article/61117-apple-f...</td>\n",
       "    </tr>\n",
       "  </tbody>\n",
       "</table>\n",
       "</div>"
      ],
      "text/plain": [
       "                                        publishDate  \\\n",
       "tradingSymbol publishDate_str                         \n",
       "AAPL          2007-10-23       2007-10-23T00:30:44Z   \n",
       "              2008-01-23       2008-01-23T02:17:14Z   \n",
       "\n",
       "                                                                       qAndAText  \\\n",
       "tradingSymbol publishDate_str                                                      \n",
       "AAPL          2007-10-23                                                           \n",
       "              2008-01-23       Operator (Operator Instructions) Our first que...   \n",
       "\n",
       "                                                                         rawText  \\\n",
       "tradingSymbol publishDate_str                                                      \n",
       "AAPL          2007-10-23       Apple Inc. (NASDAQ: AAPL ) F4Q07 Earnings Call...   \n",
       "              2008-01-23       Apple Inc. (NASDAQ: AAPL ) F1Q08 Earnings Call...   \n",
       "\n",
       "                                                                             url  \n",
       "tradingSymbol publishDate_str                                                     \n",
       "AAPL          2007-10-23       https://seekingalpha.com/article/50846-apple-f...  \n",
       "              2008-01-23       https://seekingalpha.com/article/61117-apple-f...  "
      ]
     },
     "execution_count": 9,
     "metadata": {},
     "output_type": "execute_result"
    }
   ],
   "source": [
    "earnings_transcript.tail(2)"
   ]
  },
  {
   "cell_type": "markdown",
   "metadata": {},
   "source": [
    "### Load all ticker data for transcripts"
   ]
  },
  {
   "cell_type": "code",
   "execution_count": 10,
   "metadata": {
    "collapsed": false
   },
   "outputs": [
    {
     "data": {
      "text/plain": [
       "Index(['AAPL'], dtype='object', name='tradingSymbol')"
      ]
     },
     "execution_count": 10,
     "metadata": {},
     "output_type": "execute_result"
    }
   ],
   "source": [
    "earnings_transcript.index.levels[0]"
   ]
  },
  {
   "cell_type": "code",
   "execution_count": 11,
   "metadata": {
    "collapsed": true
   },
   "outputs": [],
   "source": [
    "class Applyer:\n",
    "    \n",
    "    label = ''\n",
    "    label_to_check_against = None\n",
    "    \n",
    "    @staticmethod\n",
    "    def label_calc(row):\n",
    "        \n",
    "        val_to_check = 0\n",
    "        if Applyer.label_to_check_against is not None:\n",
    "            val_to_check = row[Applyer.label_to_check_against]\n",
    "        \n",
    "        if math.isnan(row[Applyer.label]) or math.isnan(val_to_check):\n",
    "            return 0\n",
    "\n",
    "        if abs(row[Applyer.label]) >= val_to_check:\n",
    "            if row[Applyer.label] <= 0:\n",
    "                return -1\n",
    "            else:\n",
    "                return 1\n",
    "        else:\n",
    "            return 0\n",
    "    \n",
    "    @staticmethod\n",
    "    def all_label_calc(df):\n",
    "        df['Std Dev'] = pd.Series(data=df['Close']).rolling(window=20,center=False).std()\n",
    "\n",
    "        df['1day return'] = df['Close'].shift(-1) - df['Close']\n",
    "        df['5day return'] = df['Close'].shift(-5) - df['Close']\n",
    "\n",
    "        Applyer.label_to_check_against = None\n",
    "\n",
    "        Applyer.label = '1day return'\n",
    "        df['1day label'] = df.apply(Applyer.label_calc, axis=1)\n",
    "        Applyer.label = '5day return'\n",
    "        df['5day label'] = df.apply(Applyer.label_calc, axis=1)\n",
    "\n",
    "        Applyer.label_to_check_against = 'Std Dev'\n",
    "\n",
    "        Applyer.label = '1day return'\n",
    "        df['1day significant label'] = df.apply(Applyer.label_calc, axis=1)\n",
    "        Applyer.label = '5day return'\n",
    "        df['5day significant label'] = df.apply(Applyer.label_calc, axis=1)"
   ]
  },
  {
   "cell_type": "code",
   "execution_count": 12,
   "metadata": {
    "collapsed": false
   },
   "outputs": [
    {
     "name": "stdout",
     "output_type": "stream",
     "text": [
      "AAPL ticker has 4340 long list\n"
     ]
    }
   ],
   "source": [
    "tickers = earnings_transcript.index.levels[0]\n",
    "all_stocks = None\n",
    "for ticker in tickers:\n",
    "    stocks = ystockquote.get_historical_prices(ticker, '2000-01-01', '2017-12-31')\n",
    "    print('{} ticker has {} long list'.format(ticker, len(stocks)))\n",
    "    df = pd.DataFrame(stocks).transpose()\n",
    "    if 'Adj Close' in df.columns:\n",
    "        df['Close'] = pd.to_numeric(df['Adj Close'], errors='ignore')\n",
    "    elif 'Close' in df.columns:\n",
    "        df['Close'] = pd.to_numeric(df['Close'], errors='ignore')\n",
    "    else:\n",
    "        print('{} is not available'.format(ticker))\n",
    "        continue\n",
    "    df.drop(axis=1, labels=[col for col in df.columns if col not in ['Close']], inplace=True)\n",
    "    indexes = pd.MultiIndex.from_product([[ticker], df.index.values.tolist()], names=['tradingSymbol', 'publishDate_str'])\n",
    "    df.set_index(indexes, inplace=True)\n",
    "    \n",
    "    Applyer.all_label_calc(df)\n",
    "    df.dropna(inplace=True)\n",
    "    \n",
    "    if all_stocks is None:\n",
    "        all_stocks = df\n",
    "    else:\n",
    "        all_stocks = all_stocks.append(df)"
   ]
  },
  {
   "cell_type": "code",
   "execution_count": 13,
   "metadata": {
    "collapsed": false
   },
   "outputs": [
    {
     "data": {
      "text/plain": [
       "4316"
      ]
     },
     "execution_count": 13,
     "metadata": {},
     "output_type": "execute_result"
    }
   ],
   "source": [
    "len(all_stocks)"
   ]
  },
  {
   "cell_type": "code",
   "execution_count": 14,
   "metadata": {
    "collapsed": false
   },
   "outputs": [
    {
     "data": {
      "text/html": [
       "<div>\n",
       "<table border=\"1\" class=\"dataframe\">\n",
       "  <thead>\n",
       "    <tr style=\"text-align: right;\">\n",
       "      <th></th>\n",
       "      <th></th>\n",
       "      <th>Close</th>\n",
       "      <th>Std Dev</th>\n",
       "      <th>1day return</th>\n",
       "      <th>5day return</th>\n",
       "      <th>1day label</th>\n",
       "      <th>5day label</th>\n",
       "      <th>1day significant label</th>\n",
       "      <th>5day significant label</th>\n",
       "    </tr>\n",
       "    <tr>\n",
       "      <th>tradingSymbol</th>\n",
       "      <th>publishDate_str</th>\n",
       "      <th></th>\n",
       "      <th></th>\n",
       "      <th></th>\n",
       "      <th></th>\n",
       "      <th></th>\n",
       "      <th></th>\n",
       "      <th></th>\n",
       "      <th></th>\n",
       "    </tr>\n",
       "  </thead>\n",
       "  <tbody>\n",
       "    <tr>\n",
       "      <th rowspan=\"20\" valign=\"top\">AAPL</th>\n",
       "      <th>2009-07-08</th>\n",
       "      <td>17.778162</td>\n",
       "      <td>0.349223</td>\n",
       "      <td>-0.111422</td>\n",
       "      <td>1.251544</td>\n",
       "      <td>-1</td>\n",
       "      <td>1</td>\n",
       "      <td>0</td>\n",
       "      <td>1</td>\n",
       "    </tr>\n",
       "    <tr>\n",
       "      <th>2016-09-02</th>\n",
       "      <td>106.717038</td>\n",
       "      <td>1.074390</td>\n",
       "      <td>-0.029724</td>\n",
       "      <td>-2.268468</td>\n",
       "      <td>-1</td>\n",
       "      <td>-1</td>\n",
       "      <td>0</td>\n",
       "      <td>-1</td>\n",
       "    </tr>\n",
       "    <tr>\n",
       "      <th>2014-06-17</th>\n",
       "      <td>87.369207</td>\n",
       "      <td>2.292806</td>\n",
       "      <td>0.094883</td>\n",
       "      <td>-1.707915</td>\n",
       "      <td>1</td>\n",
       "      <td>-1</td>\n",
       "      <td>0</td>\n",
       "      <td>0</td>\n",
       "    </tr>\n",
       "    <tr>\n",
       "      <th>2001-09-10</th>\n",
       "      <td>1.125225</td>\n",
       "      <td>0.031751</td>\n",
       "      <td>-0.024617</td>\n",
       "      <td>-0.106239</td>\n",
       "      <td>-1</td>\n",
       "      <td>-1</td>\n",
       "      <td>0</td>\n",
       "      <td>-1</td>\n",
       "    </tr>\n",
       "    <tr>\n",
       "      <th>2008-10-29</th>\n",
       "      <td>13.545451</td>\n",
       "      <td>0.705335</td>\n",
       "      <td>0.840841</td>\n",
       "      <td>-0.161949</td>\n",
       "      <td>1</td>\n",
       "      <td>-1</td>\n",
       "      <td>1</td>\n",
       "      <td>0</td>\n",
       "    </tr>\n",
       "    <tr>\n",
       "      <th>2000-07-19</th>\n",
       "      <td>3.413084</td>\n",
       "      <td>0.163354</td>\n",
       "      <td>0.157901</td>\n",
       "      <td>-0.170046</td>\n",
       "      <td>1</td>\n",
       "      <td>-1</td>\n",
       "      <td>0</td>\n",
       "      <td>-1</td>\n",
       "    </tr>\n",
       "    <tr>\n",
       "      <th>2011-02-17</th>\n",
       "      <td>46.421188</td>\n",
       "      <td>1.261757</td>\n",
       "      <td>-1.002790</td>\n",
       "      <td>-1.313733</td>\n",
       "      <td>-1</td>\n",
       "      <td>-1</td>\n",
       "      <td>0</td>\n",
       "      <td>-1</td>\n",
       "    </tr>\n",
       "    <tr>\n",
       "      <th>2003-08-04</th>\n",
       "      <td>1.373979</td>\n",
       "      <td>0.036364</td>\n",
       "      <td>-0.053767</td>\n",
       "      <td>-0.100409</td>\n",
       "      <td>-1</td>\n",
       "      <td>-1</td>\n",
       "      <td>-1</td>\n",
       "      <td>-1</td>\n",
       "    </tr>\n",
       "    <tr>\n",
       "      <th>2012-12-17</th>\n",
       "      <td>67.816318</td>\n",
       "      <td>3.367331</td>\n",
       "      <td>1.969806</td>\n",
       "      <td>0.175152</td>\n",
       "      <td>1</td>\n",
       "      <td>1</td>\n",
       "      <td>0</td>\n",
       "      <td>0</td>\n",
       "    </tr>\n",
       "    <tr>\n",
       "      <th>2012-07-30</th>\n",
       "      <td>77.091821</td>\n",
       "      <td>1.445573</td>\n",
       "      <td>2.037969</td>\n",
       "      <td>3.565478</td>\n",
       "      <td>1</td>\n",
       "      <td>1</td>\n",
       "      <td>1</td>\n",
       "      <td>1</td>\n",
       "    </tr>\n",
       "    <tr>\n",
       "      <th>2013-09-27</th>\n",
       "      <td>64.309979</td>\n",
       "      <td>2.063974</td>\n",
       "      <td>-0.799300</td>\n",
       "      <td>0.037301</td>\n",
       "      <td>-1</td>\n",
       "      <td>1</td>\n",
       "      <td>0</td>\n",
       "      <td>0</td>\n",
       "    </tr>\n",
       "    <tr>\n",
       "      <th>2006-06-02</th>\n",
       "      <td>7.988642</td>\n",
       "      <td>0.478237</td>\n",
       "      <td>-0.215069</td>\n",
       "      <td>-0.313534</td>\n",
       "      <td>-1</td>\n",
       "      <td>-1</td>\n",
       "      <td>0</td>\n",
       "      <td>0</td>\n",
       "    </tr>\n",
       "    <tr>\n",
       "      <th>2003-03-20</th>\n",
       "      <td>0.965867</td>\n",
       "      <td>0.016876</td>\n",
       "      <td>0.005830</td>\n",
       "      <td>-0.027208</td>\n",
       "      <td>1</td>\n",
       "      <td>-1</td>\n",
       "      <td>0</td>\n",
       "      <td>-1</td>\n",
       "    </tr>\n",
       "    <tr>\n",
       "      <th>2005-09-09</th>\n",
       "      <td>6.647700</td>\n",
       "      <td>0.200632</td>\n",
       "      <td>0.011661</td>\n",
       "      <td>-0.012955</td>\n",
       "      <td>1</td>\n",
       "      <td>-1</td>\n",
       "      <td>0</td>\n",
       "      <td>0</td>\n",
       "    </tr>\n",
       "    <tr>\n",
       "      <th>2009-01-06</th>\n",
       "      <td>12.051629</td>\n",
       "      <td>0.675632</td>\n",
       "      <td>-0.260414</td>\n",
       "      <td>-0.687961</td>\n",
       "      <td>-1</td>\n",
       "      <td>-1</td>\n",
       "      <td>0</td>\n",
       "      <td>-1</td>\n",
       "    </tr>\n",
       "    <tr>\n",
       "      <th>2015-04-30</th>\n",
       "      <td>120.328503</td>\n",
       "      <td>1.973581</td>\n",
       "      <td>3.653597</td>\n",
       "      <td>0.608827</td>\n",
       "      <td>1</td>\n",
       "      <td>1</td>\n",
       "      <td>1</td>\n",
       "      <td>0</td>\n",
       "    </tr>\n",
       "    <tr>\n",
       "      <th>2011-10-20</th>\n",
       "      <td>51.216187</td>\n",
       "      <td>2.088299</td>\n",
       "      <td>-0.316125</td>\n",
       "      <td>1.215269</td>\n",
       "      <td>-1</td>\n",
       "      <td>1</td>\n",
       "      <td>0</td>\n",
       "      <td>0</td>\n",
       "    </tr>\n",
       "    <tr>\n",
       "      <th>2003-12-31</th>\n",
       "      <td>1.384344</td>\n",
       "      <td>0.036222</td>\n",
       "      <td>-0.005830</td>\n",
       "      <td>0.128912</td>\n",
       "      <td>-1</td>\n",
       "      <td>1</td>\n",
       "      <td>0</td>\n",
       "      <td>1</td>\n",
       "    </tr>\n",
       "    <tr>\n",
       "      <th>2017-01-30</th>\n",
       "      <td>121.104937</td>\n",
       "      <td>1.927247</td>\n",
       "      <td>-0.278790</td>\n",
       "      <td>8.622612</td>\n",
       "      <td>-1</td>\n",
       "      <td>1</td>\n",
       "      <td>0</td>\n",
       "      <td>1</td>\n",
       "    </tr>\n",
       "    <tr>\n",
       "      <th>2001-02-09</th>\n",
       "      <td>1.238913</td>\n",
       "      <td>0.097142</td>\n",
       "      <td>0.036439</td>\n",
       "      <td>-0.008097</td>\n",
       "      <td>1</td>\n",
       "      <td>-1</td>\n",
       "      <td>0</td>\n",
       "      <td>0</td>\n",
       "    </tr>\n",
       "  </tbody>\n",
       "</table>\n",
       "</div>"
      ],
      "text/plain": [
       "                                    Close   Std Dev  1day return  5day return  \\\n",
       "tradingSymbol publishDate_str                                                   \n",
       "AAPL          2009-07-08        17.778162  0.349223    -0.111422     1.251544   \n",
       "              2016-09-02       106.717038  1.074390    -0.029724    -2.268468   \n",
       "              2014-06-17        87.369207  2.292806     0.094883    -1.707915   \n",
       "              2001-09-10         1.125225  0.031751    -0.024617    -0.106239   \n",
       "              2008-10-29        13.545451  0.705335     0.840841    -0.161949   \n",
       "              2000-07-19         3.413084  0.163354     0.157901    -0.170046   \n",
       "              2011-02-17        46.421188  1.261757    -1.002790    -1.313733   \n",
       "              2003-08-04         1.373979  0.036364    -0.053767    -0.100409   \n",
       "              2012-12-17        67.816318  3.367331     1.969806     0.175152   \n",
       "              2012-07-30        77.091821  1.445573     2.037969     3.565478   \n",
       "              2013-09-27        64.309979  2.063974    -0.799300     0.037301   \n",
       "              2006-06-02         7.988642  0.478237    -0.215069    -0.313534   \n",
       "              2003-03-20         0.965867  0.016876     0.005830    -0.027208   \n",
       "              2005-09-09         6.647700  0.200632     0.011661    -0.012955   \n",
       "              2009-01-06        12.051629  0.675632    -0.260414    -0.687961   \n",
       "              2015-04-30       120.328503  1.973581     3.653597     0.608827   \n",
       "              2011-10-20        51.216187  2.088299    -0.316125     1.215269   \n",
       "              2003-12-31         1.384344  0.036222    -0.005830     0.128912   \n",
       "              2017-01-30       121.104937  1.927247    -0.278790     8.622612   \n",
       "              2001-02-09         1.238913  0.097142     0.036439    -0.008097   \n",
       "\n",
       "                               1day label  5day label  1day significant label  \\\n",
       "tradingSymbol publishDate_str                                                   \n",
       "AAPL          2009-07-08               -1           1                       0   \n",
       "              2016-09-02               -1          -1                       0   \n",
       "              2014-06-17                1          -1                       0   \n",
       "              2001-09-10               -1          -1                       0   \n",
       "              2008-10-29                1          -1                       1   \n",
       "              2000-07-19                1          -1                       0   \n",
       "              2011-02-17               -1          -1                       0   \n",
       "              2003-08-04               -1          -1                      -1   \n",
       "              2012-12-17                1           1                       0   \n",
       "              2012-07-30                1           1                       1   \n",
       "              2013-09-27               -1           1                       0   \n",
       "              2006-06-02               -1          -1                       0   \n",
       "              2003-03-20                1          -1                       0   \n",
       "              2005-09-09                1          -1                       0   \n",
       "              2009-01-06               -1          -1                       0   \n",
       "              2015-04-30                1           1                       1   \n",
       "              2011-10-20               -1           1                       0   \n",
       "              2003-12-31               -1           1                       0   \n",
       "              2017-01-30               -1           1                       0   \n",
       "              2001-02-09                1          -1                       0   \n",
       "\n",
       "                               5day significant label  \n",
       "tradingSymbol publishDate_str                          \n",
       "AAPL          2009-07-08                            1  \n",
       "              2016-09-02                           -1  \n",
       "              2014-06-17                            0  \n",
       "              2001-09-10                           -1  \n",
       "              2008-10-29                            0  \n",
       "              2000-07-19                           -1  \n",
       "              2011-02-17                           -1  \n",
       "              2003-08-04                           -1  \n",
       "              2012-12-17                            0  \n",
       "              2012-07-30                            1  \n",
       "              2013-09-27                            0  \n",
       "              2006-06-02                            0  \n",
       "              2003-03-20                           -1  \n",
       "              2005-09-09                            0  \n",
       "              2009-01-06                           -1  \n",
       "              2015-04-30                            0  \n",
       "              2011-10-20                            0  \n",
       "              2003-12-31                            1  \n",
       "              2017-01-30                            1  \n",
       "              2001-02-09                            0  "
      ]
     },
     "execution_count": 14,
     "metadata": {},
     "output_type": "execute_result"
    }
   ],
   "source": [
    "all_stocks.sample(20)"
   ]
  },
  {
   "cell_type": "markdown",
   "metadata": {
    "deletable": true,
    "editable": true
   },
   "source": [
    "# Merge transcripts with stock data"
   ]
  },
  {
   "cell_type": "code",
   "execution_count": 15,
   "metadata": {
    "collapsed": false,
    "deletable": true,
    "editable": true
   },
   "outputs": [],
   "source": [
    "earnings_transcript = earnings_transcript.merge(all_stocks, left_index=True, right_index=True)"
   ]
  },
  {
   "cell_type": "code",
   "execution_count": 16,
   "metadata": {
    "collapsed": false
   },
   "outputs": [
    {
     "data": {
      "text/html": [
       "<div>\n",
       "<table border=\"1\" class=\"dataframe\">\n",
       "  <thead>\n",
       "    <tr style=\"text-align: right;\">\n",
       "      <th></th>\n",
       "      <th></th>\n",
       "      <th>publishDate</th>\n",
       "      <th>qAndAText</th>\n",
       "      <th>rawText</th>\n",
       "      <th>url</th>\n",
       "      <th>Close</th>\n",
       "      <th>Std Dev</th>\n",
       "      <th>1day return</th>\n",
       "      <th>5day return</th>\n",
       "      <th>1day label</th>\n",
       "      <th>5day label</th>\n",
       "      <th>1day significant label</th>\n",
       "      <th>5day significant label</th>\n",
       "    </tr>\n",
       "    <tr>\n",
       "      <th>tradingSymbol</th>\n",
       "      <th>publishDate_str</th>\n",
       "      <th></th>\n",
       "      <th></th>\n",
       "      <th></th>\n",
       "      <th></th>\n",
       "      <th></th>\n",
       "      <th></th>\n",
       "      <th></th>\n",
       "      <th></th>\n",
       "      <th></th>\n",
       "      <th></th>\n",
       "      <th></th>\n",
       "      <th></th>\n",
       "    </tr>\n",
       "  </thead>\n",
       "  <tbody>\n",
       "    <tr>\n",
       "      <th rowspan=\"5\" valign=\"top\">AAPL</th>\n",
       "      <th>2011-10-19</th>\n",
       "      <td>2011-10-19T02:10:11Z</td>\n",
       "      <td>Operator From Goldman Sachs, we'll go to Bill ...</td>\n",
       "      <td>Apple (NASDAQ: AAPL ) Q4 2011 Earnings Call Oc...</td>\n",
       "      <td>https://seekingalpha.com/article/300433-apples...</td>\n",
       "      <td>51.645027</td>\n",
       "      <td>2.096822</td>\n",
       "      <td>-0.428840</td>\n",
       "      <td>0.256530</td>\n",
       "      <td>-1</td>\n",
       "      <td>1</td>\n",
       "      <td>0</td>\n",
       "      <td>0</td>\n",
       "    </tr>\n",
       "    <tr>\n",
       "      <th>2014-07-23</th>\n",
       "      <td>2014-07-23T02:26:03Z</td>\n",
       "      <td></td>\n",
       "      <td>Apple Inc. (NASDAQ: AAPL ) Q3 2014 Earnings Co...</td>\n",
       "      <td>https://seekingalpha.com/article/2331715-apple...</td>\n",
       "      <td>92.217781</td>\n",
       "      <td>1.658080</td>\n",
       "      <td>-0.151817</td>\n",
       "      <td>0.910886</td>\n",
       "      <td>-1</td>\n",
       "      <td>1</td>\n",
       "      <td>0</td>\n",
       "      <td>0</td>\n",
       "    </tr>\n",
       "    <tr>\n",
       "      <th>2006-07-20</th>\n",
       "      <td>2006-07-20T00:48:42Z</td>\n",
       "      <td>Operator   Thank you.  (Operator Instructions)...</td>\n",
       "      <td>Apple Computer, Inc. (NASDAQ: AAPL ) F3Q06 Ear...</td>\n",
       "      <td>https://seekingalpha.com/article/13884-apple-f...</td>\n",
       "      <td>7.838353</td>\n",
       "      <td>0.360292</td>\n",
       "      <td>0.028503</td>\n",
       "      <td>0.375723</td>\n",
       "      <td>1</td>\n",
       "      <td>1</td>\n",
       "      <td>0</td>\n",
       "      <td>1</td>\n",
       "    </tr>\n",
       "    <tr>\n",
       "      <th>2006-10-19</th>\n",
       "      <td>2006-10-19T04:56:21Z</td>\n",
       "      <td>Operator (Operator Instructions) We'll take ou...</td>\n",
       "      <td>Apple Computer Inc. (NASDAQ: AAPL ) F4Q06 Earn...</td>\n",
       "      <td>https://seekingalpha.com/article/18756-apple-f...</td>\n",
       "      <td>10.233909</td>\n",
       "      <td>0.195203</td>\n",
       "      <td>0.124377</td>\n",
       "      <td>0.414590</td>\n",
       "      <td>1</td>\n",
       "      <td>1</td>\n",
       "      <td>0</td>\n",
       "      <td>1</td>\n",
       "    </tr>\n",
       "    <tr>\n",
       "      <th>2009-07-21</th>\n",
       "      <td>2009-07-21T23:41:32Z</td>\n",
       "      <td>Operator (Operator Instructions) We’ll take ou...</td>\n",
       "      <td>Apple Inc. (NASDAQ: AAPL ) F3Q09 Earnings Call...</td>\n",
       "      <td>https://seekingalpha.com/article/150291-apple-...</td>\n",
       "      <td>19.629567</td>\n",
       "      <td>0.720489</td>\n",
       "      <td>0.677596</td>\n",
       "      <td>1.099962</td>\n",
       "      <td>1</td>\n",
       "      <td>1</td>\n",
       "      <td>0</td>\n",
       "      <td>1</td>\n",
       "    </tr>\n",
       "  </tbody>\n",
       "</table>\n",
       "</div>"
      ],
      "text/plain": [
       "                                        publishDate  \\\n",
       "tradingSymbol publishDate_str                         \n",
       "AAPL          2011-10-19       2011-10-19T02:10:11Z   \n",
       "              2014-07-23       2014-07-23T02:26:03Z   \n",
       "              2006-07-20       2006-07-20T00:48:42Z   \n",
       "              2006-10-19       2006-10-19T04:56:21Z   \n",
       "              2009-07-21       2009-07-21T23:41:32Z   \n",
       "\n",
       "                                                                       qAndAText  \\\n",
       "tradingSymbol publishDate_str                                                      \n",
       "AAPL          2011-10-19       Operator From Goldman Sachs, we'll go to Bill ...   \n",
       "              2014-07-23                                                           \n",
       "              2006-07-20       Operator   Thank you.  (Operator Instructions)...   \n",
       "              2006-10-19       Operator (Operator Instructions) We'll take ou...   \n",
       "              2009-07-21       Operator (Operator Instructions) We’ll take ou...   \n",
       "\n",
       "                                                                         rawText  \\\n",
       "tradingSymbol publishDate_str                                                      \n",
       "AAPL          2011-10-19       Apple (NASDAQ: AAPL ) Q4 2011 Earnings Call Oc...   \n",
       "              2014-07-23       Apple Inc. (NASDAQ: AAPL ) Q3 2014 Earnings Co...   \n",
       "              2006-07-20       Apple Computer, Inc. (NASDAQ: AAPL ) F3Q06 Ear...   \n",
       "              2006-10-19       Apple Computer Inc. (NASDAQ: AAPL ) F4Q06 Earn...   \n",
       "              2009-07-21       Apple Inc. (NASDAQ: AAPL ) F3Q09 Earnings Call...   \n",
       "\n",
       "                                                                             url  \\\n",
       "tradingSymbol publishDate_str                                                      \n",
       "AAPL          2011-10-19       https://seekingalpha.com/article/300433-apples...   \n",
       "              2014-07-23       https://seekingalpha.com/article/2331715-apple...   \n",
       "              2006-07-20       https://seekingalpha.com/article/13884-apple-f...   \n",
       "              2006-10-19       https://seekingalpha.com/article/18756-apple-f...   \n",
       "              2009-07-21       https://seekingalpha.com/article/150291-apple-...   \n",
       "\n",
       "                                   Close   Std Dev  1day return  5day return  \\\n",
       "tradingSymbol publishDate_str                                                  \n",
       "AAPL          2011-10-19       51.645027  2.096822    -0.428840     0.256530   \n",
       "              2014-07-23       92.217781  1.658080    -0.151817     0.910886   \n",
       "              2006-07-20        7.838353  0.360292     0.028503     0.375723   \n",
       "              2006-10-19       10.233909  0.195203     0.124377     0.414590   \n",
       "              2009-07-21       19.629567  0.720489     0.677596     1.099962   \n",
       "\n",
       "                               1day label  5day label  1day significant label  \\\n",
       "tradingSymbol publishDate_str                                                   \n",
       "AAPL          2011-10-19               -1           1                       0   \n",
       "              2014-07-23               -1           1                       0   \n",
       "              2006-07-20                1           1                       0   \n",
       "              2006-10-19                1           1                       0   \n",
       "              2009-07-21                1           1                       0   \n",
       "\n",
       "                               5day significant label  \n",
       "tradingSymbol publishDate_str                          \n",
       "AAPL          2011-10-19                            0  \n",
       "              2014-07-23                            0  \n",
       "              2006-07-20                            1  \n",
       "              2006-10-19                            1  \n",
       "              2009-07-21                            1  "
      ]
     },
     "execution_count": 16,
     "metadata": {},
     "output_type": "execute_result"
    }
   ],
   "source": [
    "earnings_transcript.sample(5)"
   ]
  },
  {
   "cell_type": "code",
   "execution_count": 17,
   "metadata": {
    "collapsed": false
   },
   "outputs": [],
   "source": [
    "shorts = earnings_transcript[earnings_transcript['rawText'].apply(len) < 5000]"
   ]
  },
  {
   "cell_type": "code",
   "execution_count": 18,
   "metadata": {
    "collapsed": false
   },
   "outputs": [
    {
     "data": {
      "text/plain": [
       "0"
      ]
     },
     "execution_count": 18,
     "metadata": {},
     "output_type": "execute_result"
    }
   ],
   "source": [
    "len(shorts)"
   ]
  },
  {
   "cell_type": "code",
   "execution_count": 19,
   "metadata": {
    "collapsed": true
   },
   "outputs": [],
   "source": [
    "earnings_transcript = earnings_transcript[earnings_transcript['rawText'].apply(len) > 5000]"
   ]
  },
  {
   "cell_type": "markdown",
   "metadata": {
    "deletable": true,
    "editable": true
   },
   "source": [
    "# Create train data and test data"
   ]
  },
  {
   "cell_type": "code",
   "execution_count": 20,
   "metadata": {
    "collapsed": false,
    "deletable": true,
    "editable": true
   },
   "outputs": [],
   "source": [
    "X = earnings_transcript['rawText']\n",
    "y = earnings_transcript['5day significant label']"
   ]
  },
  {
   "cell_type": "code",
   "execution_count": 21,
   "metadata": {
    "collapsed": true,
    "deletable": true,
    "editable": true
   },
   "outputs": [],
   "source": [
    "X_train, X_test, y_train, y_test = train_test_split(X, y, test_size=0.3)"
   ]
  },
  {
   "cell_type": "markdown",
   "metadata": {
    "deletable": true,
    "editable": true
   },
   "source": [
    "# Tf-Idf and LogisticRegression model"
   ]
  },
  {
   "cell_type": "code",
   "execution_count": 32,
   "metadata": {
    "collapsed": false,
    "deletable": true,
    "editable": true
   },
   "outputs": [
    {
     "data": {
      "text/plain": [
       "Pipeline(steps=[('bow', CountVectorizer(analyzer='word', binary=False, decode_error='strict',\n",
       "        dtype=<class 'numpy.int64'>, encoding='utf-8', input='content',\n",
       "        lowercase=True, max_df=0.1, max_features=None, min_df=1,\n",
       "        ngram_range=(1, 3), preprocessor=None, stop_words='english',\n",
       "        s...ear_tf=False, use_idf=True)), ('model', MultinomialNB(alpha=1.0, class_prior=None, fit_prior=True))])"
      ]
     },
     "execution_count": 32,
     "metadata": {},
     "output_type": "execute_result"
    }
   ],
   "source": [
    "pipeline = Pipeline([\n",
    "    ('bow', CountVectorizer(stop_words='english', max_df=0.1, min_df=1, ngram_range=(1,3))),\n",
    "    ('tfidf', TfidfTransformer(norm='l2')),\n",
    "    ('model', MultinomialNB())\n",
    "])\n",
    "pipeline.fit(X_train, y_train)"
   ]
  },
  {
   "cell_type": "code",
   "execution_count": 33,
   "metadata": {
    "collapsed": true,
    "deletable": true,
    "editable": true
   },
   "outputs": [],
   "source": [
    "y_predicted = pipeline.predict(X_test)"
   ]
  },
  {
   "cell_type": "markdown",
   "metadata": {
    "deletable": true,
    "editable": true
   },
   "source": [
    "#### Confusion matrix\n",
    "By definition a confusion matrix :math:`C` is such that :math:`C_{i, j}`\n",
    "is equal to the number of observations known to be in group :math:`i` but\n",
    "predicted to be in group :math:`j`."
   ]
  },
  {
   "cell_type": "code",
   "execution_count": 34,
   "metadata": {
    "collapsed": false,
    "deletable": true,
    "editable": true
   },
   "outputs": [],
   "source": [
    "cm = confusion_matrix(y_test, y_predicted)"
   ]
  },
  {
   "cell_type": "code",
   "execution_count": 35,
   "metadata": {
    "collapsed": false,
    "deletable": true,
    "editable": true
   },
   "outputs": [
    {
     "data": {
      "text/plain": [
       "<matplotlib.axes._subplots.AxesSubplot at 0x259c715e390>"
      ]
     },
     "execution_count": 35,
     "metadata": {},
     "output_type": "execute_result"
    },
    {
     "data": {
      "image/png": "[encoded data removed]",
      "text/plain": [
       "<matplotlib.figure.Figure at 0x259c8cba438>"
      ]
     },
     "metadata": {},
     "output_type": "display_data"
    }
   ],
   "source": [
    "sns.heatmap(cm, cmap='magma', annot=True)"
   ]
  },
  {
   "cell_type": "code",
   "execution_count": 36,
   "metadata": {
    "collapsed": false,
    "deletable": true,
    "editable": true
   },
   "outputs": [
    {
     "name": "stdout",
     "output_type": "stream",
     "text": [
      "             precision    recall  f1-score   support\n",
      "\n",
      "         -1       0.00      0.00      0.00         5\n",
      "          0       0.40      1.00      0.57         6\n",
      "          1       0.00      0.00      0.00         4\n",
      "\n",
      "avg / total       0.16      0.40      0.23        15\n",
      "\n"
     ]
    },
    {
     "name": "stderr",
     "output_type": "stream",
     "text": [
      "C:\\ProgramData\\Anaconda3\\lib\\site-packages\\sklearn\\metrics\\classification.py:1113: UndefinedMetricWarning: Precision and F-score are ill-defined and being set to 0.0 in labels with no predicted samples.\n",
      "  'precision', 'predicted', average, warn_for)\n"
     ]
    }
   ],
   "source": [
    "cr = classification_report(y_test, y_predicted)\n",
    "print(cr)"
   ]
  }
 ],
 "metadata": {
  "kernelspec": {
   "display_name": "Python 3",
   "language": "python",
   "name": "python3"
  },
  "language_info": {
   "codemirror_mode": {
    "name": "ipython",
    "version": 3
   },
   "file_extension": ".py",
   "mimetype": "text/x-python",
   "name": "python",
   "nbconvert_exporter": "python",
   "pygments_lexer": "ipython3",
   "version": "3.6.0"
  }
 },
 "nbformat": 4,
 "nbformat_minor": 2
}
