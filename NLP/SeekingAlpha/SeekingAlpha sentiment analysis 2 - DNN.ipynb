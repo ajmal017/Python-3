{
 "cells": [
  {
   "cell_type": "code",
   "execution_count": 1,
   "metadata": {
    "collapsed": false,
    "deletable": true,
    "editable": true
   },
   "outputs": [],
   "source": [
    "from sklearn.feature_extraction.text import TfidfVectorizer\n",
    "from sklearn.linear_model import LogisticRegression\n",
    "from sklearn.model_selection import train_test_split\n",
    "import tensorflow as tf\n",
    "import tensorflow.contrib.learn as learn\n",
    "from sklearn.metrics import classification_report, confusion_matrix, precision_score, accuracy_score"
   ]
  },
  {
   "cell_type": "code",
   "execution_count": 2,
   "metadata": {
    "collapsed": true,
    "deletable": true,
    "editable": true
   },
   "outputs": [],
   "source": [
    "import pandas as pd\n",
    "import numpy as np\n",
    "import matplotlib.pyplot as plt\n",
    "import seaborn as sns\n",
    "%matplotlib inline"
   ]
  },
  {
   "cell_type": "code",
   "execution_count": 3,
   "metadata": {
    "collapsed": false,
    "deletable": true,
    "editable": true
   },
   "outputs": [],
   "source": [
    "from pymongo import MongoClient\n",
    "import ystockquote"
   ]
  },
  {
   "cell_type": "code",
   "execution_count": 4,
   "metadata": {
    "collapsed": true,
    "deletable": true,
    "editable": true
   },
   "outputs": [],
   "source": [
    "from datetime import datetime, timedelta, timezone\n",
    "import pytz\n",
    "import math"
   ]
  },
  {
   "cell_type": "markdown",
   "metadata": {
    "deletable": true,
    "editable": true
   },
   "source": [
    "# Load transcripts"
   ]
  },
  {
   "cell_type": "code",
   "execution_count": 5,
   "metadata": {
    "collapsed": true
   },
   "outputs": [],
   "source": [
    "est_tz = pytz.timezone('US/Eastern')\n",
    "def utc_to_est(utc_dt):\n",
    "    local_dt = utc_dt.replace(tzinfo=pytz.utc).astimezone(est_tz)\n",
    "    return est_tz.normalize(local_dt)"
   ]
  },
  {
   "cell_type": "code",
   "execution_count": 6,
   "metadata": {
    "collapsed": true
   },
   "outputs": [],
   "source": [
    "def shift_time_according_to_closing_time(dt):\n",
    "    if dt.hour >= 16:\n",
    "        return dt + timedelta(days=1)\n",
    "    return dt"
   ]
  },
  {
   "cell_type": "code",
   "execution_count": 7,
   "metadata": {
    "collapsed": false,
    "deletable": true,
    "editable": true
   },
   "outputs": [],
   "source": [
    "def load_and_clean_transcripts():\n",
    "    client = MongoClient('localhost', 27017)\n",
    "    earnings_transcript_collection = client.python_import.earnings_transcript\n",
    "    \n",
    "    earnings_transcript = pd.DataFrame(list(earnings_transcript_collection.find()))\n",
    "    earnings_transcript.drop('_id', axis=1, inplace=True)\n",
    "    earnings_transcript['shifted_publishDate'] = earnings_transcript.apply(\n",
    "        lambda row: datetime.strptime(row['publishDate'], '%Y-%m-%dT%H:%M:%SZ'), axis=1\n",
    "    )\n",
    "    earnings_transcript['shifted_publishDate'] = earnings_transcript.apply(\n",
    "        lambda row: utc_to_est(row['shifted_publishDate']), axis=1\n",
    "    )\n",
    "    earnings_transcript['shifted_publishDate'] = earnings_transcript.apply(\n",
    "        lambda row: shift_time_according_to_closing_time(row['shifted_publishDate']), axis=1\n",
    "    )\n",
    "    earnings_transcript['publishDate_str'] = earnings_transcript.apply(\n",
    "        lambda row: str(row['shifted_publishDate'].date()), axis=1\n",
    "    )\n",
    "    earnings_transcript.set_index(['tradingSymbol', 'publishDate_str'], inplace=True)\n",
    "    \n",
    "    return earnings_transcript"
   ]
  },
  {
   "cell_type": "code",
   "execution_count": 8,
   "metadata": {
    "collapsed": false,
    "deletable": true,
    "editable": true
   },
   "outputs": [],
   "source": [
    "earnings_transcript = load_and_clean_transcripts()"
   ]
  },
  {
   "cell_type": "code",
   "execution_count": 9,
   "metadata": {
    "collapsed": false,
    "deletable": true,
    "editable": true
   },
   "outputs": [
    {
     "data": {
      "text/html": [
       "<div>\n",
       "<table border=\"1\" class=\"dataframe\">\n",
       "  <thead>\n",
       "    <tr style=\"text-align: right;\">\n",
       "      <th></th>\n",
       "      <th></th>\n",
       "      <th>publishDate</th>\n",
       "      <th>qAndAText</th>\n",
       "      <th>rawText</th>\n",
       "      <th>url</th>\n",
       "      <th>shifted_publishDate</th>\n",
       "    </tr>\n",
       "    <tr>\n",
       "      <th>tradingSymbol</th>\n",
       "      <th>publishDate_str</th>\n",
       "      <th></th>\n",
       "      <th></th>\n",
       "      <th></th>\n",
       "      <th></th>\n",
       "      <th></th>\n",
       "    </tr>\n",
       "  </thead>\n",
       "  <tbody>\n",
       "    <tr>\n",
       "      <th>A</th>\n",
       "      <th>2014-11-18</th>\n",
       "      <td>2014-11-17T22:25:00Z</td>\n",
       "      <td></td>\n",
       "      <td>The following audio is from a conference call ...</td>\n",
       "      <td>https://seekingalpha.com/article/2675895-agile...</td>\n",
       "      <td>2014-11-18 17:25:00-05:00</td>\n",
       "    </tr>\n",
       "    <tr>\n",
       "      <th>AA</th>\n",
       "      <th>2014-10-09</th>\n",
       "      <td>2014-10-09T01:18:03Z</td>\n",
       "      <td>Operator [Operator instructions.] Our first qu...</td>\n",
       "      <td>Alcoa (NYSE: AA ) Q3 2014 Results Earnings Con...</td>\n",
       "      <td>https://seekingalpha.com/article/2549515-alcoa...</td>\n",
       "      <td>2014-10-09 21:18:03-04:00</td>\n",
       "    </tr>\n",
       "  </tbody>\n",
       "</table>\n",
       "</div>"
      ],
      "text/plain": [
       "                                        publishDate  \\\n",
       "tradingSymbol publishDate_str                         \n",
       "A             2014-11-18       2014-11-17T22:25:00Z   \n",
       "AA            2014-10-09       2014-10-09T01:18:03Z   \n",
       "\n",
       "                                                                       qAndAText  \\\n",
       "tradingSymbol publishDate_str                                                      \n",
       "A             2014-11-18                                                           \n",
       "AA            2014-10-09       Operator [Operator instructions.] Our first qu...   \n",
       "\n",
       "                                                                         rawText  \\\n",
       "tradingSymbol publishDate_str                                                      \n",
       "A             2014-11-18       The following audio is from a conference call ...   \n",
       "AA            2014-10-09       Alcoa (NYSE: AA ) Q3 2014 Results Earnings Con...   \n",
       "\n",
       "                                                                             url  \\\n",
       "tradingSymbol publishDate_str                                                      \n",
       "A             2014-11-18       https://seekingalpha.com/article/2675895-agile...   \n",
       "AA            2014-10-09       https://seekingalpha.com/article/2549515-alcoa...   \n",
       "\n",
       "                                    shifted_publishDate  \n",
       "tradingSymbol publishDate_str                            \n",
       "A             2014-11-18      2014-11-18 17:25:00-05:00  \n",
       "AA            2014-10-09      2014-10-09 21:18:03-04:00  "
      ]
     },
     "execution_count": 9,
     "metadata": {},
     "output_type": "execute_result"
    }
   ],
   "source": [
    "earnings_transcript.head(2)"
   ]
  },
  {
   "cell_type": "code",
   "execution_count": 10,
   "metadata": {
    "collapsed": false,
    "deletable": true,
    "editable": true
   },
   "outputs": [
    {
     "data": {
      "text/html": [
       "<div>\n",
       "<table border=\"1\" class=\"dataframe\">\n",
       "  <thead>\n",
       "    <tr style=\"text-align: right;\">\n",
       "      <th></th>\n",
       "      <th></th>\n",
       "      <th>publishDate</th>\n",
       "      <th>qAndAText</th>\n",
       "      <th>rawText</th>\n",
       "      <th>url</th>\n",
       "      <th>shifted_publishDate</th>\n",
       "    </tr>\n",
       "    <tr>\n",
       "      <th>tradingSymbol</th>\n",
       "      <th>publishDate_str</th>\n",
       "      <th></th>\n",
       "      <th></th>\n",
       "      <th></th>\n",
       "      <th></th>\n",
       "      <th></th>\n",
       "    </tr>\n",
       "  </thead>\n",
       "  <tbody>\n",
       "    <tr>\n",
       "      <th rowspan=\"2\" valign=\"top\">AGCO</th>\n",
       "      <th>2008-07-30</th>\n",
       "      <td>2008-07-29T22:55:28Z</td>\n",
       "      <td></td>\n",
       "      <td>AGCO Corp. (NYSE: AG ) Q2 FY08 Earnings Call J...</td>\n",
       "      <td>https://seekingalpha.com/article/87808-agco-co...</td>\n",
       "      <td>2008-07-30 18:55:28-04:00</td>\n",
       "    </tr>\n",
       "    <tr>\n",
       "      <th>2008-10-30</th>\n",
       "      <td>2008-10-30T00:49:12Z</td>\n",
       "      <td></td>\n",
       "      <td>AGCO Corp. (NYSE: AG ) Q3 FY08 Earnings Call O...</td>\n",
       "      <td>https://seekingalpha.com/article/102828-agco-c...</td>\n",
       "      <td>2008-10-30 20:49:12-04:00</td>\n",
       "    </tr>\n",
       "  </tbody>\n",
       "</table>\n",
       "</div>"
      ],
      "text/plain": [
       "                                        publishDate qAndAText  \\\n",
       "tradingSymbol publishDate_str                                   \n",
       "AGCO          2008-07-30       2008-07-29T22:55:28Z             \n",
       "              2008-10-30       2008-10-30T00:49:12Z             \n",
       "\n",
       "                                                                         rawText  \\\n",
       "tradingSymbol publishDate_str                                                      \n",
       "AGCO          2008-07-30       AGCO Corp. (NYSE: AG ) Q2 FY08 Earnings Call J...   \n",
       "              2008-10-30       AGCO Corp. (NYSE: AG ) Q3 FY08 Earnings Call O...   \n",
       "\n",
       "                                                                             url  \\\n",
       "tradingSymbol publishDate_str                                                      \n",
       "AGCO          2008-07-30       https://seekingalpha.com/article/87808-agco-co...   \n",
       "              2008-10-30       https://seekingalpha.com/article/102828-agco-c...   \n",
       "\n",
       "                                    shifted_publishDate  \n",
       "tradingSymbol publishDate_str                            \n",
       "AGCO          2008-07-30      2008-07-30 18:55:28-04:00  \n",
       "              2008-10-30      2008-10-30 20:49:12-04:00  "
      ]
     },
     "execution_count": 10,
     "metadata": {},
     "output_type": "execute_result"
    }
   ],
   "source": [
    "earnings_transcript.tail(2)"
   ]
  },
  {
   "cell_type": "markdown",
   "metadata": {
    "deletable": true,
    "editable": true
   },
   "source": [
    "### Load all ticker data for transcripts"
   ]
  },
  {
   "cell_type": "code",
   "execution_count": 11,
   "metadata": {
    "collapsed": false,
    "deletable": true,
    "editable": true
   },
   "outputs": [
    {
     "data": {
      "text/plain": [
       "Index(['A', 'AA', 'AAN', 'AAON', 'AAP', 'AAPL', 'AAT', 'AAWW', 'ABAX', 'ABBV',\n",
       "       'ABC', 'ABCB', 'ABG', 'ABM', 'ABT', 'ACAT', 'ACC', 'ACE', 'ACET',\n",
       "       'ACIW', 'ACM', 'ACN', 'ACOR', 'ACT', 'ACXM', 'ADBE', 'ADC', 'ADI',\n",
       "       'ADM', 'ADNT', 'ADP', 'ADPT', 'ADS', 'ADSK', 'ADTN', 'AEE', 'AEGN',\n",
       "       'AEIS', 'AEL', 'AEO', 'AEP', 'AES', 'AET', 'AF', 'AFAM', 'AFG', 'AFL',\n",
       "       'AGCO'],\n",
       "      dtype='object', name='tradingSymbol')"
      ]
     },
     "execution_count": 11,
     "metadata": {},
     "output_type": "execute_result"
    }
   ],
   "source": [
    "earnings_transcript.index.levels[0]"
   ]
  },
  {
   "cell_type": "code",
   "execution_count": 12,
   "metadata": {
    "collapsed": true,
    "deletable": true,
    "editable": true
   },
   "outputs": [],
   "source": [
    "class Applyer:\n",
    "    \n",
    "    label = ''\n",
    "    label_to_check_against = None\n",
    "    \n",
    "    @staticmethod\n",
    "    def label_calc(row):\n",
    "        \n",
    "        val_to_check = 0\n",
    "        if Applyer.label_to_check_against is not None:\n",
    "            val_to_check = row[Applyer.label_to_check_against]\n",
    "        \n",
    "        if math.isnan(row[Applyer.label]) or math.isnan(val_to_check):\n",
    "            return 0\n",
    "\n",
    "        if abs(row[Applyer.label]) >= val_to_check:\n",
    "            if row[Applyer.label] <= 0:\n",
    "                return -1\n",
    "            else:\n",
    "                return 1\n",
    "        else:\n",
    "            return 0\n",
    "    \n",
    "    @staticmethod\n",
    "    def all_label_calc(df):\n",
    "        df['Std Dev'] = pd.Series(data=df['Close']).rolling(window=20,center=False).std()\n",
    "\n",
    "        df['1day return'] = df['Close'].shift(-1) - df['Close']\n",
    "        df['5day return'] = df['Close'].shift(-5) - df['Close']\n",
    "\n",
    "        Applyer.label_to_check_against = None\n",
    "\n",
    "        Applyer.label = '1day return'\n",
    "        df['1day label'] = df.apply(Applyer.label_calc, axis=1)\n",
    "        Applyer.label = '5day return'\n",
    "        df['5day label'] = df.apply(Applyer.label_calc, axis=1)\n",
    "\n",
    "        Applyer.label_to_check_against = 'Std Dev'\n",
    "\n",
    "        Applyer.label = '1day return'\n",
    "        df['1day significant label'] = df.apply(Applyer.label_calc, axis=1)\n",
    "        Applyer.label = '5day return'\n",
    "        df['5day significant label'] = df.apply(Applyer.label_calc, axis=1)"
   ]
  },
  {
   "cell_type": "code",
   "execution_count": 13,
   "metadata": {
    "collapsed": false,
    "deletable": true,
    "editable": true
   },
   "outputs": [
    {
     "name": "stdout",
     "output_type": "stream",
     "text": [
      "Downloading missing stock data\n",
      "ACE is not available on Yahoo\n",
      "ACT is not available on Yahoo\n"
     ]
    }
   ],
   "source": [
    "tickers = earnings_transcript.index.levels[0]\n",
    "all_stocks = None\n",
    "try:\n",
    "    all_stocks = pd.read_pickle('all_stocks.pkl')\n",
    "except:\n",
    "    pass\n",
    "\n",
    "print('Downloading missing stock data')\n",
    "\n",
    "for ticker in tickers:\n",
    "    if (all_stocks is not None) and (ticker in all_stocks.index):\n",
    "        continue\n",
    "    stock = []\n",
    "    try:\n",
    "        stocks = ystockquote.get_historical_prices(ticker, '2000-01-01', '2017-12-31')\n",
    "    except:\n",
    "        print('{} is not available on Yahoo'.format(ticker))\n",
    "        continue\n",
    "    print('{} ticker has {} long list'.format(ticker, len(stocks)))\n",
    "    df = pd.DataFrame(stocks).transpose()\n",
    "    if 'Adj Close' in df.columns:\n",
    "        df['Close'] = pd.to_numeric(df['Adj Close'], errors='ignore')\n",
    "    elif 'Close' in df.columns:\n",
    "        df['Close'] = pd.to_numeric(df['Close'], errors='ignore')\n",
    "    else:\n",
    "        print('{} does not have close prices'.format(ticker))\n",
    "        continue\n",
    "    df.drop(axis=1, labels=[col for col in df.columns if col not in ['Close']], inplace=True)\n",
    "    indexes = pd.MultiIndex.from_product([[ticker], df.index.values.tolist()], names=['tradingSymbol', 'publishDate_str'])\n",
    "    df.set_index(indexes, inplace=True)\n",
    "    \n",
    "    Applyer.all_label_calc(df)\n",
    "    df.dropna(inplace=True)\n",
    "    \n",
    "    if all_stocks is None:\n",
    "        all_stocks = df\n",
    "    else:\n",
    "        all_stocks = all_stocks.append(df)\n",
    "        \n",
    "all_stocks.to_pickle('all_stocks.pkl')"
   ]
  },
  {
   "cell_type": "code",
   "execution_count": 14,
   "metadata": {
    "collapsed": false,
    "deletable": true,
    "editable": true
   },
   "outputs": [
    {
     "data": {
      "text/html": [
       "<div>\n",
       "<table border=\"1\" class=\"dataframe\">\n",
       "  <thead>\n",
       "    <tr style=\"text-align: right;\">\n",
       "      <th></th>\n",
       "      <th></th>\n",
       "      <th>Close</th>\n",
       "      <th>Std Dev</th>\n",
       "      <th>1day return</th>\n",
       "      <th>5day return</th>\n",
       "      <th>1day label</th>\n",
       "      <th>5day label</th>\n",
       "      <th>1day significant label</th>\n",
       "      <th>5day significant label</th>\n",
       "    </tr>\n",
       "    <tr>\n",
       "      <th>tradingSymbol</th>\n",
       "      <th>publishDate_str</th>\n",
       "      <th></th>\n",
       "      <th></th>\n",
       "      <th></th>\n",
       "      <th></th>\n",
       "      <th></th>\n",
       "      <th></th>\n",
       "      <th></th>\n",
       "      <th></th>\n",
       "    </tr>\n",
       "  </thead>\n",
       "  <tbody>\n",
       "    <tr>\n",
       "      <th>AAPL</th>\n",
       "      <th>2006-12-22</th>\n",
       "      <td>10.649795</td>\n",
       "      <td>0.380534</td>\n",
       "      <td>-0.089396</td>\n",
       "      <td>0.207296</td>\n",
       "      <td>-1</td>\n",
       "      <td>1</td>\n",
       "      <td>0</td>\n",
       "      <td>0</td>\n",
       "    </tr>\n",
       "    <tr>\n",
       "      <th>AET</th>\n",
       "      <th>2002-04-12</th>\n",
       "      <td>9.556619</td>\n",
       "      <td>0.303223</td>\n",
       "      <td>-0.057501</td>\n",
       "      <td>0.660108</td>\n",
       "      <td>-1</td>\n",
       "      <td>1</td>\n",
       "      <td>0</td>\n",
       "      <td>1</td>\n",
       "    </tr>\n",
       "    <tr>\n",
       "      <th>ACAT</th>\n",
       "      <th>2003-11-03</th>\n",
       "      <td>20.314257</td>\n",
       "      <td>0.671018</td>\n",
       "      <td>-0.755962</td>\n",
       "      <td>-0.491281</td>\n",
       "      <td>-1</td>\n",
       "      <td>-1</td>\n",
       "      <td>-1</td>\n",
       "      <td>0</td>\n",
       "    </tr>\n",
       "    <tr>\n",
       "      <th>ACIW</th>\n",
       "      <th>2015-10-13</th>\n",
       "      <td>22.650000</td>\n",
       "      <td>0.587233</td>\n",
       "      <td>-0.300000</td>\n",
       "      <td>0.409999</td>\n",
       "      <td>-1</td>\n",
       "      <td>1</td>\n",
       "      <td>0</td>\n",
       "      <td>0</td>\n",
       "    </tr>\n",
       "    <tr>\n",
       "      <th>AA</th>\n",
       "      <th>2003-02-14</th>\n",
       "      <td>38.027550</td>\n",
       "      <td>1.327289</td>\n",
       "      <td>1.706973</td>\n",
       "      <td>-0.189663</td>\n",
       "      <td>1</td>\n",
       "      <td>-1</td>\n",
       "      <td>1</td>\n",
       "      <td>0</td>\n",
       "    </tr>\n",
       "    <tr>\n",
       "      <th>AF</th>\n",
       "      <th>2006-07-03</th>\n",
       "      <td>22.383395</td>\n",
       "      <td>0.347857</td>\n",
       "      <td>-0.331713</td>\n",
       "      <td>-0.367768</td>\n",
       "      <td>-1</td>\n",
       "      <td>-1</td>\n",
       "      <td>0</td>\n",
       "      <td>-1</td>\n",
       "    </tr>\n",
       "    <tr>\n",
       "      <th>AEO</th>\n",
       "      <th>2016-05-04</th>\n",
       "      <td>14.158899</td>\n",
       "      <td>0.557185</td>\n",
       "      <td>-0.261484</td>\n",
       "      <td>-0.726345</td>\n",
       "      <td>-1</td>\n",
       "      <td>-1</td>\n",
       "      <td>0</td>\n",
       "      <td>-1</td>\n",
       "    </tr>\n",
       "    <tr>\n",
       "      <th>AEE</th>\n",
       "      <th>2007-06-20</th>\n",
       "      <td>30.037144</td>\n",
       "      <td>0.768539</td>\n",
       "      <td>0.129366</td>\n",
       "      <td>0.258730</td>\n",
       "      <td>1</td>\n",
       "      <td>1</td>\n",
       "      <td>0</td>\n",
       "      <td>0</td>\n",
       "    </tr>\n",
       "    <tr>\n",
       "      <th>ACC</th>\n",
       "      <th>2005-02-07</th>\n",
       "      <td>13.008562</td>\n",
       "      <td>0.420417</td>\n",
       "      <td>-0.023387</td>\n",
       "      <td>-0.040926</td>\n",
       "      <td>-1</td>\n",
       "      <td>-1</td>\n",
       "      <td>0</td>\n",
       "      <td>0</td>\n",
       "    </tr>\n",
       "    <tr>\n",
       "      <th>ABT</th>\n",
       "      <th>2005-11-02</th>\n",
       "      <td>15.125597</td>\n",
       "      <td>0.163947</td>\n",
       "      <td>0.053210</td>\n",
       "      <td>0.021284</td>\n",
       "      <td>1</td>\n",
       "      <td>1</td>\n",
       "      <td>0</td>\n",
       "      <td>0</td>\n",
       "    </tr>\n",
       "    <tr>\n",
       "      <th>AEGN</th>\n",
       "      <th>2012-02-07</th>\n",
       "      <td>17.980000</td>\n",
       "      <td>0.439405</td>\n",
       "      <td>0.630001</td>\n",
       "      <td>0.000000</td>\n",
       "      <td>1</td>\n",
       "      <td>-1</td>\n",
       "      <td>1</td>\n",
       "      <td>0</td>\n",
       "    </tr>\n",
       "    <tr>\n",
       "      <th>ADS</th>\n",
       "      <th>2013-09-20</th>\n",
       "      <td>208.737369</td>\n",
       "      <td>5.249206</td>\n",
       "      <td>-0.905610</td>\n",
       "      <td>-0.467732</td>\n",
       "      <td>-1</td>\n",
       "      <td>-1</td>\n",
       "      <td>0</td>\n",
       "      <td>0</td>\n",
       "    </tr>\n",
       "    <tr>\n",
       "      <th>AEO</th>\n",
       "      <th>2013-10-21</th>\n",
       "      <td>12.345745</td>\n",
       "      <td>0.291027</td>\n",
       "      <td>0.115464</td>\n",
       "      <td>1.003647</td>\n",
       "      <td>1</td>\n",
       "      <td>1</td>\n",
       "      <td>0</td>\n",
       "      <td>1</td>\n",
       "    </tr>\n",
       "    <tr>\n",
       "      <th>AAPL</th>\n",
       "      <th>2010-11-15</th>\n",
       "      <td>39.779965</td>\n",
       "      <td>0.667954</td>\n",
       "      <td>-0.706100</td>\n",
       "      <td>0.818814</td>\n",
       "      <td>-1</td>\n",
       "      <td>1</td>\n",
       "      <td>-1</td>\n",
       "      <td>1</td>\n",
       "    </tr>\n",
       "    <tr>\n",
       "      <th>AES</th>\n",
       "      <th>2011-04-25</th>\n",
       "      <td>11.501941</td>\n",
       "      <td>0.201750</td>\n",
       "      <td>0.008923</td>\n",
       "      <td>0.267694</td>\n",
       "      <td>1</td>\n",
       "      <td>1</td>\n",
       "      <td>0</td>\n",
       "      <td>1</td>\n",
       "    </tr>\n",
       "    <tr>\n",
       "      <th>ACIW</th>\n",
       "      <th>2017-03-07</th>\n",
       "      <td>21.780001</td>\n",
       "      <td>1.027423</td>\n",
       "      <td>0.029998</td>\n",
       "      <td>0.389999</td>\n",
       "      <td>1</td>\n",
       "      <td>1</td>\n",
       "      <td>0</td>\n",
       "      <td>0</td>\n",
       "    </tr>\n",
       "    <tr>\n",
       "      <th>AFL</th>\n",
       "      <th>2009-11-17</th>\n",
       "      <td>37.638223</td>\n",
       "      <td>1.342672</td>\n",
       "      <td>-0.249593</td>\n",
       "      <td>-0.599017</td>\n",
       "      <td>-1</td>\n",
       "      <td>-1</td>\n",
       "      <td>0</td>\n",
       "      <td>0</td>\n",
       "    </tr>\n",
       "    <tr>\n",
       "      <th>ACM</th>\n",
       "      <th>2014-04-14</th>\n",
       "      <td>32.320000</td>\n",
       "      <td>0.511874</td>\n",
       "      <td>0.139999</td>\n",
       "      <td>0.880001</td>\n",
       "      <td>1</td>\n",
       "      <td>1</td>\n",
       "      <td>0</td>\n",
       "      <td>1</td>\n",
       "    </tr>\n",
       "    <tr>\n",
       "      <th>AAN</th>\n",
       "      <th>2004-09-13</th>\n",
       "      <td>12.285315</td>\n",
       "      <td>0.473417</td>\n",
       "      <td>0.257288</td>\n",
       "      <td>0.334473</td>\n",
       "      <td>1</td>\n",
       "      <td>1</td>\n",
       "      <td>0</td>\n",
       "      <td>0</td>\n",
       "    </tr>\n",
       "    <tr>\n",
       "      <th>ABAX</th>\n",
       "      <th>2015-01-23</th>\n",
       "      <td>58.630564</td>\n",
       "      <td>1.048437</td>\n",
       "      <td>-0.215339</td>\n",
       "      <td>1.546514</td>\n",
       "      <td>-1</td>\n",
       "      <td>1</td>\n",
       "      <td>0</td>\n",
       "      <td>1</td>\n",
       "    </tr>\n",
       "  </tbody>\n",
       "</table>\n",
       "</div>"
      ],
      "text/plain": [
       "                                    Close   Std Dev  1day return  5day return  \\\n",
       "tradingSymbol publishDate_str                                                   \n",
       "AAPL          2006-12-22        10.649795  0.380534    -0.089396     0.207296   \n",
       "AET           2002-04-12         9.556619  0.303223    -0.057501     0.660108   \n",
       "ACAT          2003-11-03        20.314257  0.671018    -0.755962    -0.491281   \n",
       "ACIW          2015-10-13        22.650000  0.587233    -0.300000     0.409999   \n",
       "AA            2003-02-14        38.027550  1.327289     1.706973    -0.189663   \n",
       "AF            2006-07-03        22.383395  0.347857    -0.331713    -0.367768   \n",
       "AEO           2016-05-04        14.158899  0.557185    -0.261484    -0.726345   \n",
       "AEE           2007-06-20        30.037144  0.768539     0.129366     0.258730   \n",
       "ACC           2005-02-07        13.008562  0.420417    -0.023387    -0.040926   \n",
       "ABT           2005-11-02        15.125597  0.163947     0.053210     0.021284   \n",
       "AEGN          2012-02-07        17.980000  0.439405     0.630001     0.000000   \n",
       "ADS           2013-09-20       208.737369  5.249206    -0.905610    -0.467732   \n",
       "AEO           2013-10-21        12.345745  0.291027     0.115464     1.003647   \n",
       "AAPL          2010-11-15        39.779965  0.667954    -0.706100     0.818814   \n",
       "AES           2011-04-25        11.501941  0.201750     0.008923     0.267694   \n",
       "ACIW          2017-03-07        21.780001  1.027423     0.029998     0.389999   \n",
       "AFL           2009-11-17        37.638223  1.342672    -0.249593    -0.599017   \n",
       "ACM           2014-04-14        32.320000  0.511874     0.139999     0.880001   \n",
       "AAN           2004-09-13        12.285315  0.473417     0.257288     0.334473   \n",
       "ABAX          2015-01-23        58.630564  1.048437    -0.215339     1.546514   \n",
       "\n",
       "                               1day label  5day label  1day significant label  \\\n",
       "tradingSymbol publishDate_str                                                   \n",
       "AAPL          2006-12-22               -1           1                       0   \n",
       "AET           2002-04-12               -1           1                       0   \n",
       "ACAT          2003-11-03               -1          -1                      -1   \n",
       "ACIW          2015-10-13               -1           1                       0   \n",
       "AA            2003-02-14                1          -1                       1   \n",
       "AF            2006-07-03               -1          -1                       0   \n",
       "AEO           2016-05-04               -1          -1                       0   \n",
       "AEE           2007-06-20                1           1                       0   \n",
       "ACC           2005-02-07               -1          -1                       0   \n",
       "ABT           2005-11-02                1           1                       0   \n",
       "AEGN          2012-02-07                1          -1                       1   \n",
       "ADS           2013-09-20               -1          -1                       0   \n",
       "AEO           2013-10-21                1           1                       0   \n",
       "AAPL          2010-11-15               -1           1                      -1   \n",
       "AES           2011-04-25                1           1                       0   \n",
       "ACIW          2017-03-07                1           1                       0   \n",
       "AFL           2009-11-17               -1          -1                       0   \n",
       "ACM           2014-04-14                1           1                       0   \n",
       "AAN           2004-09-13                1           1                       0   \n",
       "ABAX          2015-01-23               -1           1                       0   \n",
       "\n",
       "                               5day significant label  \n",
       "tradingSymbol publishDate_str                          \n",
       "AAPL          2006-12-22                            0  \n",
       "AET           2002-04-12                            1  \n",
       "ACAT          2003-11-03                            0  \n",
       "ACIW          2015-10-13                            0  \n",
       "AA            2003-02-14                            0  \n",
       "AF            2006-07-03                           -1  \n",
       "AEO           2016-05-04                           -1  \n",
       "AEE           2007-06-20                            0  \n",
       "ACC           2005-02-07                            0  \n",
       "ABT           2005-11-02                            0  \n",
       "AEGN          2012-02-07                            0  \n",
       "ADS           2013-09-20                            0  \n",
       "AEO           2013-10-21                            1  \n",
       "AAPL          2010-11-15                            1  \n",
       "AES           2011-04-25                            1  \n",
       "ACIW          2017-03-07                            0  \n",
       "AFL           2009-11-17                            0  \n",
       "ACM           2014-04-14                            1  \n",
       "AAN           2004-09-13                            0  \n",
       "ABAX          2015-01-23                            1  "
      ]
     },
     "execution_count": 14,
     "metadata": {},
     "output_type": "execute_result"
    }
   ],
   "source": [
    "all_stocks.sample(20)"
   ]
  },
  {
   "cell_type": "markdown",
   "metadata": {
    "deletable": true,
    "editable": true
   },
   "source": [
    "# Merge transcripts with stock data"
   ]
  },
  {
   "cell_type": "code",
   "execution_count": 15,
   "metadata": {
    "collapsed": false,
    "deletable": true,
    "editable": true
   },
   "outputs": [],
   "source": [
    "merged_data = earnings_transcript.merge(all_stocks, left_index=True, right_index=True)"
   ]
  },
  {
   "cell_type": "code",
   "execution_count": 16,
   "metadata": {
    "collapsed": false,
    "deletable": true,
    "editable": true
   },
   "outputs": [
    {
     "data": {
      "text/html": [
       "<div>\n",
       "<table border=\"1\" class=\"dataframe\">\n",
       "  <thead>\n",
       "    <tr style=\"text-align: right;\">\n",
       "      <th></th>\n",
       "      <th></th>\n",
       "      <th>publishDate</th>\n",
       "      <th>qAndAText</th>\n",
       "      <th>rawText</th>\n",
       "      <th>url</th>\n",
       "      <th>shifted_publishDate</th>\n",
       "      <th>Close</th>\n",
       "      <th>Std Dev</th>\n",
       "      <th>1day return</th>\n",
       "      <th>5day return</th>\n",
       "      <th>1day label</th>\n",
       "      <th>5day label</th>\n",
       "      <th>1day significant label</th>\n",
       "      <th>5day significant label</th>\n",
       "    </tr>\n",
       "    <tr>\n",
       "      <th>tradingSymbol</th>\n",
       "      <th>publishDate_str</th>\n",
       "      <th></th>\n",
       "      <th></th>\n",
       "      <th></th>\n",
       "      <th></th>\n",
       "      <th></th>\n",
       "      <th></th>\n",
       "      <th></th>\n",
       "      <th></th>\n",
       "      <th></th>\n",
       "      <th></th>\n",
       "      <th></th>\n",
       "      <th></th>\n",
       "      <th></th>\n",
       "    </tr>\n",
       "  </thead>\n",
       "  <tbody>\n",
       "    <tr>\n",
       "      <th>ACXM</th>\n",
       "      <th>2009-10-29</th>\n",
       "      <td>2009-10-29T02:50:22Z</td>\n",
       "      <td>Operator (Operator instructions) We’ll go firs...</td>\n",
       "      <td>Acxiom Corporation (NASDAQ: ACXM ) F2Q10 (Qtr ...</td>\n",
       "      <td>https://seekingalpha.com/article/169696-acxiom...</td>\n",
       "      <td>2009-10-29 22:50:22-04:00</td>\n",
       "      <td>11.260000</td>\n",
       "      <td>0.424735</td>\n",
       "      <td>0.220000</td>\n",
       "      <td>0.500000</td>\n",
       "      <td>1</td>\n",
       "      <td>1</td>\n",
       "      <td>0</td>\n",
       "      <td>1</td>\n",
       "    </tr>\n",
       "    <tr>\n",
       "      <th>AEE</th>\n",
       "      <th>2013-03-15</th>\n",
       "      <td>2013-03-14T23:30:07Z</td>\n",
       "      <td>Operator [Operator Instructions] Our first que...</td>\n",
       "      <td>Ameren Corporation (NYSE: AEE ) March 14, 2013...</td>\n",
       "      <td>https://seekingalpha.com/article/1275651-amere...</td>\n",
       "      <td>2013-03-15 19:30:07-04:00</td>\n",
       "      <td>29.333119</td>\n",
       "      <td>0.433630</td>\n",
       "      <td>-0.204707</td>\n",
       "      <td>-0.102353</td>\n",
       "      <td>-1</td>\n",
       "      <td>-1</td>\n",
       "      <td>0</td>\n",
       "      <td>0</td>\n",
       "    </tr>\n",
       "    <tr>\n",
       "      <th>AA</th>\n",
       "      <th>2016-07-12</th>\n",
       "      <td>2016-07-11T20:29:59Z</td>\n",
       "      <td></td>\n",
       "      <td>The following slide deck was published by Alco...</td>\n",
       "      <td>https://seekingalpha.com/article/3987662-alcoa...</td>\n",
       "      <td>2016-07-12 16:29:59-04:00</td>\n",
       "      <td>25.513140</td>\n",
       "      <td>1.007782</td>\n",
       "      <td>0.047733</td>\n",
       "      <td>-0.143198</td>\n",
       "      <td>1</td>\n",
       "      <td>-1</td>\n",
       "      <td>0</td>\n",
       "      <td>0</td>\n",
       "    </tr>\n",
       "    <tr>\n",
       "      <th>ACC</th>\n",
       "      <th>2017-02-22</th>\n",
       "      <td>2017-02-22T17:27:13Z</td>\n",
       "      <td></td>\n",
       "      <td>The following slide deck was published by Amer...</td>\n",
       "      <td>https://seekingalpha.com/article/4048359-ameri...</td>\n",
       "      <td>2017-02-22 12:27:13-05:00</td>\n",
       "      <td>49.990002</td>\n",
       "      <td>0.748034</td>\n",
       "      <td>0.739998</td>\n",
       "      <td>0.509998</td>\n",
       "      <td>1</td>\n",
       "      <td>1</td>\n",
       "      <td>0</td>\n",
       "      <td>0</td>\n",
       "    </tr>\n",
       "    <tr>\n",
       "      <th>ADM</th>\n",
       "      <th>2013-10-29</th>\n",
       "      <td>2013-10-29T17:10:06Z</td>\n",
       "      <td>Operator [Operator Instructions] Your first qu...</td>\n",
       "      <td>Archer Daniels Midland (NYSE: ADM ) Q3 2013 Ea...</td>\n",
       "      <td>https://seekingalpha.com/article/1782722-arche...</td>\n",
       "      <td>2013-10-29 13:10:06-04:00</td>\n",
       "      <td>37.284223</td>\n",
       "      <td>1.293891</td>\n",
       "      <td>0.247159</td>\n",
       "      <td>1.144250</td>\n",
       "      <td>1</td>\n",
       "      <td>1</td>\n",
       "      <td>0</td>\n",
       "      <td>0</td>\n",
       "    </tr>\n",
       "  </tbody>\n",
       "</table>\n",
       "</div>"
      ],
      "text/plain": [
       "                                        publishDate  \\\n",
       "tradingSymbol publishDate_str                         \n",
       "ACXM          2009-10-29       2009-10-29T02:50:22Z   \n",
       "AEE           2013-03-15       2013-03-14T23:30:07Z   \n",
       "AA            2016-07-12       2016-07-11T20:29:59Z   \n",
       "ACC           2017-02-22       2017-02-22T17:27:13Z   \n",
       "ADM           2013-10-29       2013-10-29T17:10:06Z   \n",
       "\n",
       "                                                                       qAndAText  \\\n",
       "tradingSymbol publishDate_str                                                      \n",
       "ACXM          2009-10-29       Operator (Operator instructions) We’ll go firs...   \n",
       "AEE           2013-03-15       Operator [Operator Instructions] Our first que...   \n",
       "AA            2016-07-12                                                           \n",
       "ACC           2017-02-22                                                           \n",
       "ADM           2013-10-29       Operator [Operator Instructions] Your first qu...   \n",
       "\n",
       "                                                                         rawText  \\\n",
       "tradingSymbol publishDate_str                                                      \n",
       "ACXM          2009-10-29       Acxiom Corporation (NASDAQ: ACXM ) F2Q10 (Qtr ...   \n",
       "AEE           2013-03-15       Ameren Corporation (NYSE: AEE ) March 14, 2013...   \n",
       "AA            2016-07-12       The following slide deck was published by Alco...   \n",
       "ACC           2017-02-22       The following slide deck was published by Amer...   \n",
       "ADM           2013-10-29       Archer Daniels Midland (NYSE: ADM ) Q3 2013 Ea...   \n",
       "\n",
       "                                                                             url  \\\n",
       "tradingSymbol publishDate_str                                                      \n",
       "ACXM          2009-10-29       https://seekingalpha.com/article/169696-acxiom...   \n",
       "AEE           2013-03-15       https://seekingalpha.com/article/1275651-amere...   \n",
       "AA            2016-07-12       https://seekingalpha.com/article/3987662-alcoa...   \n",
       "ACC           2017-02-22       https://seekingalpha.com/article/4048359-ameri...   \n",
       "ADM           2013-10-29       https://seekingalpha.com/article/1782722-arche...   \n",
       "\n",
       "                                    shifted_publishDate      Close   Std Dev  \\\n",
       "tradingSymbol publishDate_str                                                  \n",
       "ACXM          2009-10-29      2009-10-29 22:50:22-04:00  11.260000  0.424735   \n",
       "AEE           2013-03-15      2013-03-15 19:30:07-04:00  29.333119  0.433630   \n",
       "AA            2016-07-12      2016-07-12 16:29:59-04:00  25.513140  1.007782   \n",
       "ACC           2017-02-22      2017-02-22 12:27:13-05:00  49.990002  0.748034   \n",
       "ADM           2013-10-29      2013-10-29 13:10:06-04:00  37.284223  1.293891   \n",
       "\n",
       "                               1day return  5day return  1day label  \\\n",
       "tradingSymbol publishDate_str                                         \n",
       "ACXM          2009-10-29          0.220000     0.500000           1   \n",
       "AEE           2013-03-15         -0.204707    -0.102353          -1   \n",
       "AA            2016-07-12          0.047733    -0.143198           1   \n",
       "ACC           2017-02-22          0.739998     0.509998           1   \n",
       "ADM           2013-10-29          0.247159     1.144250           1   \n",
       "\n",
       "                               5day label  1day significant label  \\\n",
       "tradingSymbol publishDate_str                                       \n",
       "ACXM          2009-10-29                1                       0   \n",
       "AEE           2013-03-15               -1                       0   \n",
       "AA            2016-07-12               -1                       0   \n",
       "ACC           2017-02-22                1                       0   \n",
       "ADM           2013-10-29                1                       0   \n",
       "\n",
       "                               5day significant label  \n",
       "tradingSymbol publishDate_str                          \n",
       "ACXM          2009-10-29                            1  \n",
       "AEE           2013-03-15                            0  \n",
       "AA            2016-07-12                            0  \n",
       "ACC           2017-02-22                            0  \n",
       "ADM           2013-10-29                            0  "
      ]
     },
     "execution_count": 16,
     "metadata": {},
     "output_type": "execute_result"
    }
   ],
   "source": [
    "merged_data.sample(5)"
   ]
  },
  {
   "cell_type": "code",
   "execution_count": 17,
   "metadata": {
    "collapsed": true,
    "deletable": true,
    "editable": true
   },
   "outputs": [],
   "source": [
    "merged_data = merged_data[merged_data['rawText'].apply(len) > 5000]"
   ]
  },
  {
   "cell_type": "markdown",
   "metadata": {
    "deletable": true,
    "editable": true
   },
   "source": [
    "# Create train data and test data"
   ]
  },
  {
   "cell_type": "code",
   "execution_count": 18,
   "metadata": {
    "collapsed": false
   },
   "outputs": [
    {
     "data": {
      "text/plain": [
       "<matplotlib.axes._subplots.AxesSubplot at 0x219518e5588>"
      ]
     },
     "execution_count": 18,
     "metadata": {},
     "output_type": "execute_result"
    },
    {
     "data": {
      "image/png": "[encoded data removed]",
      "text/plain": [
       "<matplotlib.figure.Figure at 0x21951859400>"
      ]
     },
     "metadata": {},
     "output_type": "display_data"
    }
   ],
   "source": [
    "f, (ax1, ax2) = plt.subplots(2, sharex=True, figsize=(10, 10))\n",
    "sns.distplot(merged_data['5day significant label'], ax=ax1)\n",
    "sns.distplot(merged_data['1day significant label'], ax=ax2)"
   ]
  },
  {
   "cell_type": "code",
   "execution_count": 19,
   "metadata": {
    "collapsed": false
   },
   "outputs": [
    {
     "data": {
      "text/plain": [
       " 0    758\n",
       " 1    359\n",
       "-1    267\n",
       "Name: 5day significant label, dtype: int64"
      ]
     },
     "execution_count": 19,
     "metadata": {},
     "output_type": "execute_result"
    }
   ],
   "source": [
    "merged_data['5day significant label'].value_counts()"
   ]
  },
  {
   "cell_type": "code",
   "execution_count": 20,
   "metadata": {
    "collapsed": false,
    "deletable": true,
    "editable": true
   },
   "outputs": [],
   "source": [
    "X = merged_data['rawText']\n",
    "y = merged_data['5day significant label'] + 1"
   ]
  },
  {
   "cell_type": "code",
   "execution_count": 21,
   "metadata": {
    "collapsed": true,
    "deletable": true,
    "editable": true
   },
   "outputs": [],
   "source": [
    "X_train, X_test, y_train, y_test = train_test_split(X, y, test_size=0.3)"
   ]
  },
  {
   "cell_type": "markdown",
   "metadata": {
    "deletable": true,
    "editable": true
   },
   "source": [
    "# Tf-Idf and DNN model"
   ]
  },
  {
   "cell_type": "code",
   "execution_count": 22,
   "metadata": {
    "collapsed": true,
    "deletable": true,
    "editable": true
   },
   "outputs": [],
   "source": [
    "tfidf = TfidfVectorizer(max_df=0.35, min_df=2, ngram_range=(1,3), stop_words='english')"
   ]
  },
  {
   "cell_type": "code",
   "execution_count": 23,
   "metadata": {
    "collapsed": true,
    "deletable": true,
    "editable": true
   },
   "outputs": [],
   "source": [
    "tfidf_vectors = tfidf.fit_transform(X_train)"
   ]
  },
  {
   "cell_type": "code",
   "execution_count": null,
   "metadata": {
    "collapsed": false,
    "deletable": true,
    "editable": true
   },
   "outputs": [
    {
     "name": "stdout",
     "output_type": "stream",
     "text": [
      "WARNING:tensorflow:Using temporary folder as model directory: C:\\Users\\neural\\AppData\\Local\\Temp\\tmpyh_akjze\n",
      "INFO:tensorflow:Using default config.\n",
      "INFO:tensorflow:Using config: {'_master': '', '_keep_checkpoint_every_n_hours': 10000, '_save_summary_steps': 100, '_evaluation_master': '', '_num_ps_replicas': 0, '_task_id': 0, '_tf_random_seed': None, '_tf_config': gpu_options {\n",
      "  per_process_gpu_memory_fraction: 1\n",
      "}\n",
      ", '_task_type': None, '_cluster_spec': <tensorflow.python.training.server_lib.ClusterSpec object at 0x0000021951850C88>, '_keep_checkpoint_max': 5, '_is_chief': True, '_save_checkpoints_steps': None, '_environment': 'local', '_save_checkpoints_secs': 600}\n"
     ]
    }
   ],
   "source": [
    "classifier = learn.DNNClassifier(hidden_units=[60, 40, 20], n_classes=3, \n",
    "                                 feature_columns=[tf.contrib.layers.real_valued_column(\"\", dimension=tfidf_vectors.shape[1])])"
   ]
  },
  {
   "cell_type": "code",
   "execution_count": null,
   "metadata": {
    "collapsed": false,
    "deletable": true,
    "editable": true
   },
   "outputs": [
    {
     "name": "stdout",
     "output_type": "stream",
     "text": [
      "WARNING:tensorflow:From <ipython-input-25-117eb421c7ea>:1: calling BaseEstimator.fit (from tensorflow.contrib.learn.python.learn.estimators.estimator) with x is deprecated and will be removed after 2016-12-01.\n",
      "Instructions for updating:\n",
      "Estimator is decoupled from Scikit Learn interface by moving into\n",
      "separate class SKCompat. Arguments x, y and batch_size are only\n",
      "available in the SKCompat class, Estimator will only accept input_fn.\n",
      "Example conversion:\n",
      "  est = Estimator(...) -> est = SKCompat(Estimator(...))\n",
      "WARNING:tensorflow:From <ipython-input-25-117eb421c7ea>:1: calling BaseEstimator.fit (from tensorflow.contrib.learn.python.learn.estimators.estimator) with y is deprecated and will be removed after 2016-12-01.\n",
      "Instructions for updating:\n",
      "Estimator is decoupled from Scikit Learn interface by moving into\n",
      "separate class SKCompat. Arguments x, y and batch_size are only\n",
      "available in the SKCompat class, Estimator will only accept input_fn.\n",
      "Example conversion:\n",
      "  est = Estimator(...) -> est = SKCompat(Estimator(...))\n",
      "WARNING:tensorflow:From <ipython-input-25-117eb421c7ea>:1: calling BaseEstimator.fit (from tensorflow.contrib.learn.python.learn.estimators.estimator) with batch_size is deprecated and will be removed after 2016-12-01.\n",
      "Instructions for updating:\n",
      "Estimator is decoupled from Scikit Learn interface by moving into\n",
      "separate class SKCompat. Arguments x, y and batch_size are only\n",
      "available in the SKCompat class, Estimator will only accept input_fn.\n",
      "Example conversion:\n",
      "  est = Estimator(...) -> est = SKCompat(Estimator(...))\n",
      "WARNING:tensorflow:float64 is not supported by many models, consider casting to float32.\n"
     ]
    },
    {
     "name": "stderr",
     "output_type": "stream",
     "text": [
      "C:\\ProgramData\\Anaconda3\\envs\\tensorflow\\lib\\site-packages\\tensorflow\\python\\util\\deprecation.py:247: FutureWarning: comparison to `None` will result in an elementwise object comparison in the future.\n",
      "  equality = a == b\n"
     ]
    },
    {
     "name": "stdout",
     "output_type": "stream",
     "text": [
      "WARNING:tensorflow:From C:\\ProgramData\\Anaconda3\\envs\\tensorflow\\lib\\site-packages\\tensorflow\\contrib\\learn\\python\\learn\\estimators\\head.py:1362: scalar_summary (from tensorflow.python.ops.logging_ops) is deprecated and will be removed after 2016-11-30.\n",
      "Instructions for updating:\n",
      "Please switch to tf.summary.scalar. Note that tf.summary.scalar uses the node name instead of the tag. This means that TensorFlow will automatically de-duplicate summary names based on the scope they are created in. Also, passing a tensor or list of tags to a scalar summary op is no longer supported.\n",
      "INFO:tensorflow:Create CheckpointSaverHook.\n",
      "INFO:tensorflow:Saving checkpoints for 1 into C:\\Users\\neural\\AppData\\Local\\Temp\\tmpyh_akjze\\model.ckpt.\n",
      "INFO:tensorflow:step = 1, loss = 1.09857\n",
      "INFO:tensorflow:global_step/sec: 0.659473\n",
      "INFO:tensorflow:step = 101, loss = 1.03015\n",
      "INFO:tensorflow:global_step/sec: 0.875084\n",
      "INFO:tensorflow:step = 201, loss = 1.08727\n"
     ]
    }
   ],
   "source": [
    "classifier.fit(tfidf_vectors.todense(), y_train, batch_size=20, steps=600)"
   ]
  },
  {
   "cell_type": "code",
   "execution_count": null,
   "metadata": {
    "collapsed": false,
    "deletable": true,
    "editable": true
   },
   "outputs": [],
   "source": [
    "y_predicted = list(classifier.predict(tfidf.transform(X_test).todense()))"
   ]
  },
  {
   "cell_type": "markdown",
   "metadata": {
    "deletable": true,
    "editable": true
   },
   "source": [
    "#### Confusion matrix\n",
    "By definition a confusion matrix :math:`C` is such that :math:`C_{i, j}`\n",
    "is equal to the number of observations known to be in group :math:`i` but\n",
    "predicted to be in group :math:`j`."
   ]
  },
  {
   "cell_type": "code",
   "execution_count": null,
   "metadata": {
    "collapsed": false,
    "deletable": true,
    "editable": true
   },
   "outputs": [],
   "source": [
    "cm = confusion_matrix(y_test, y_predicted)"
   ]
  },
  {
   "cell_type": "code",
   "execution_count": null,
   "metadata": {
    "collapsed": false,
    "deletable": true,
    "editable": true
   },
   "outputs": [],
   "source": [
    "sns.heatmap(cm, cmap='magma', annot=True, xticklabels=['-1', '0', '1'], yticklabels=['-1', '0', '1'])"
   ]
  },
  {
   "cell_type": "code",
   "execution_count": null,
   "metadata": {
    "collapsed": false,
    "deletable": true,
    "editable": true
   },
   "outputs": [],
   "source": [
    "cr = classification_report(y_test, y_predicted)\n",
    "print(cr)"
   ]
  },
  {
   "cell_type": "code",
   "execution_count": null,
   "metadata": {},
   "outputs": [],
   "source": [
    "accuracy_score(y_test, y_predicted)"
   ]
  },
  {
   "cell_type": "markdown",
   "metadata": {},
   "source": [
    "# Playground"
   ]
  },
  {
   "cell_type": "code",
   "execution_count": null,
   "metadata": {
    "collapsed": false
   },
   "outputs": [],
   "source": [
    "indices = np.argsort(tfidf.idf_)[::-1]\n",
    "features = tfidf.get_feature_names()\n",
    "top_n = 10\n",
    "top_features = [features[i] for i in indices[:top_n]]\n",
    "print(top_features)"
   ]
  }
 ],
 "metadata": {
  "kernelspec": {
   "display_name": "Python 3",
   "language": "python",
   "name": "python3"
  },
  "language_info": {
   "codemirror_mode": {
    "name": "ipython",
    "version": 3
   },
   "file_extension": ".py",
   "mimetype": "text/x-python",
   "name": "python",
   "nbconvert_exporter": "python",
   "pygments_lexer": "ipython3",
   "version": "3.5.3"
  }
 },
 "nbformat": 4,
 "nbformat_minor": 2
}
