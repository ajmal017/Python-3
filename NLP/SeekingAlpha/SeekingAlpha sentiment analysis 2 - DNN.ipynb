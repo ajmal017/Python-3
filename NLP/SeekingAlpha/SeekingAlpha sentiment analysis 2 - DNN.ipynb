{
 "cells": [
  {
   "cell_type": "code",
   "execution_count": 1,
   "metadata": {
    "collapsed": false,
    "deletable": true,
    "editable": true
   },
   "outputs": [],
   "source": [
    "from sklearn.feature_extraction.text import TfidfVectorizer\n",
    "from sklearn.linear_model import LogisticRegression\n",
    "from sklearn.model_selection import train_test_split\n",
    "import tensorflow as tf\n",
    "import tensorflow.contrib.learn as learn\n",
    "from sklearn.metrics import classification_report, confusion_matrix, precision_score, accuracy_score"
   ]
  },
  {
   "cell_type": "code",
   "execution_count": 2,
   "metadata": {
    "collapsed": true,
    "deletable": true,
    "editable": true
   },
   "outputs": [],
   "source": [
    "import pandas as pd\n",
    "import numpy as np\n",
    "import matplotlib.pyplot as plt\n",
    "import seaborn as sns\n",
    "%matplotlib inline"
   ]
  },
  {
   "cell_type": "code",
   "execution_count": 3,
   "metadata": {
    "collapsed": false,
    "deletable": true,
    "editable": true
   },
   "outputs": [],
   "source": [
    "from pymongo import MongoClient\n",
    "import ystockquote"
   ]
  },
  {
   "cell_type": "code",
   "execution_count": 4,
   "metadata": {
    "collapsed": true,
    "deletable": true,
    "editable": true
   },
   "outputs": [],
   "source": [
    "from datetime import datetime, timedelta, timezone\n",
    "import pytz\n",
    "import math"
   ]
  },
  {
   "cell_type": "markdown",
   "metadata": {
    "deletable": true,
    "editable": true
   },
   "source": [
    "# Load transcripts"
   ]
  },
  {
   "cell_type": "code",
   "execution_count": 5,
   "metadata": {
    "collapsed": true
   },
   "outputs": [],
   "source": [
    "est_tz = pytz.timezone('US/Eastern')\n",
    "def utc_to_est(utc_dt):\n",
    "    local_dt = utc_dt.replace(tzinfo=pytz.utc).astimezone(est_tz)\n",
    "    return est_tz.normalize(local_dt)"
   ]
  },
  {
   "cell_type": "code",
   "execution_count": 6,
   "metadata": {
    "collapsed": true
   },
   "outputs": [],
   "source": [
    "def shift_time_according_to_closing_time(dt):\n",
    "    if dt.hour >= 16:\n",
    "        return dt + timedelta(days=1)\n",
    "    return dt"
   ]
  },
  {
   "cell_type": "code",
   "execution_count": 7,
   "metadata": {
    "collapsed": false,
    "deletable": true,
    "editable": true
   },
   "outputs": [],
   "source": [
    "def load_and_clean_transcripts():\n",
    "    client = MongoClient('localhost', 27017)\n",
    "    earnings_transcript_collection = client.python_import.earnings_transcript\n",
    "    \n",
    "    earnings_transcript = pd.DataFrame(list(earnings_transcript_collection.find()))\n",
    "    earnings_transcript.drop('_id', axis=1, inplace=True)\n",
    "    earnings_transcript['shifted_publishDate'] = earnings_transcript.apply(\n",
    "        lambda row: datetime.strptime(row['publishDate'], '%Y-%m-%dT%H:%M:%SZ'), axis=1\n",
    "    )\n",
    "    earnings_transcript['shifted_publishDate'] = earnings_transcript.apply(\n",
    "        lambda row: utc_to_est(row['shifted_publishDate']), axis=1\n",
    "    )\n",
    "    earnings_transcript['shifted_publishDate'] = earnings_transcript.apply(\n",
    "        lambda row: shift_time_according_to_closing_time(row['shifted_publishDate']), axis=1\n",
    "    )\n",
    "    earnings_transcript['publishDate_str'] = earnings_transcript.apply(\n",
    "        lambda row: str(row['shifted_publishDate'].date()), axis=1\n",
    "    )\n",
    "    earnings_transcript.set_index(['tradingSymbol', 'publishDate_str'], inplace=True)\n",
    "    \n",
    "    return earnings_transcript"
   ]
  },
  {
   "cell_type": "code",
   "execution_count": 8,
   "metadata": {
    "collapsed": false,
    "deletable": true,
    "editable": true
   },
   "outputs": [],
   "source": [
    "earnings_transcript = load_and_clean_transcripts()"
   ]
  },
  {
   "cell_type": "code",
   "execution_count": 9,
   "metadata": {
    "collapsed": false,
    "deletable": true,
    "editable": true
   },
   "outputs": [
    {
     "data": {
      "text/html": [
       "<div>\n",
       "<table border=\"1\" class=\"dataframe\">\n",
       "  <thead>\n",
       "    <tr style=\"text-align: right;\">\n",
       "      <th></th>\n",
       "      <th></th>\n",
       "      <th>publishDate</th>\n",
       "      <th>qAndAText</th>\n",
       "      <th>rawText</th>\n",
       "      <th>url</th>\n",
       "      <th>shifted_publishDate</th>\n",
       "    </tr>\n",
       "    <tr>\n",
       "      <th>tradingSymbol</th>\n",
       "      <th>publishDate_str</th>\n",
       "      <th></th>\n",
       "      <th></th>\n",
       "      <th></th>\n",
       "      <th></th>\n",
       "      <th></th>\n",
       "    </tr>\n",
       "  </thead>\n",
       "  <tbody>\n",
       "    <tr>\n",
       "      <th>A</th>\n",
       "      <th>2014-11-18</th>\n",
       "      <td>2014-11-17T22:25:00Z</td>\n",
       "      <td></td>\n",
       "      <td>The following audio is from a conference call ...</td>\n",
       "      <td>https://seekingalpha.com/article/2675895-agile...</td>\n",
       "      <td>2014-11-18 17:25:00-05:00</td>\n",
       "    </tr>\n",
       "    <tr>\n",
       "      <th>AA</th>\n",
       "      <th>2014-10-09</th>\n",
       "      <td>2014-10-09T01:18:03Z</td>\n",
       "      <td>Operator [Operator instructions.] Our first qu...</td>\n",
       "      <td>Alcoa (NYSE: AA ) Q3 2014 Results Earnings Con...</td>\n",
       "      <td>https://seekingalpha.com/article/2549515-alcoa...</td>\n",
       "      <td>2014-10-09 21:18:03-04:00</td>\n",
       "    </tr>\n",
       "  </tbody>\n",
       "</table>\n",
       "</div>"
      ],
      "text/plain": [
       "                                        publishDate  \\\n",
       "tradingSymbol publishDate_str                         \n",
       "A             2014-11-18       2014-11-17T22:25:00Z   \n",
       "AA            2014-10-09       2014-10-09T01:18:03Z   \n",
       "\n",
       "                                                                       qAndAText  \\\n",
       "tradingSymbol publishDate_str                                                      \n",
       "A             2014-11-18                                                           \n",
       "AA            2014-10-09       Operator [Operator instructions.] Our first qu...   \n",
       "\n",
       "                                                                         rawText  \\\n",
       "tradingSymbol publishDate_str                                                      \n",
       "A             2014-11-18       The following audio is from a conference call ...   \n",
       "AA            2014-10-09       Alcoa (NYSE: AA ) Q3 2014 Results Earnings Con...   \n",
       "\n",
       "                                                                             url  \\\n",
       "tradingSymbol publishDate_str                                                      \n",
       "A             2014-11-18       https://seekingalpha.com/article/2675895-agile...   \n",
       "AA            2014-10-09       https://seekingalpha.com/article/2549515-alcoa...   \n",
       "\n",
       "                                    shifted_publishDate  \n",
       "tradingSymbol publishDate_str                            \n",
       "A             2014-11-18      2014-11-18 17:25:00-05:00  \n",
       "AA            2014-10-09      2014-10-09 21:18:03-04:00  "
      ]
     },
     "execution_count": 9,
     "metadata": {},
     "output_type": "execute_result"
    }
   ],
   "source": [
    "earnings_transcript.head(2)"
   ]
  },
  {
   "cell_type": "code",
   "execution_count": 10,
   "metadata": {
    "collapsed": false,
    "deletable": true,
    "editable": true
   },
   "outputs": [
    {
     "data": {
      "text/html": [
       "<div>\n",
       "<table border=\"1\" class=\"dataframe\">\n",
       "  <thead>\n",
       "    <tr style=\"text-align: right;\">\n",
       "      <th></th>\n",
       "      <th></th>\n",
       "      <th>publishDate</th>\n",
       "      <th>qAndAText</th>\n",
       "      <th>rawText</th>\n",
       "      <th>url</th>\n",
       "      <th>shifted_publishDate</th>\n",
       "    </tr>\n",
       "    <tr>\n",
       "      <th>tradingSymbol</th>\n",
       "      <th>publishDate_str</th>\n",
       "      <th></th>\n",
       "      <th></th>\n",
       "      <th></th>\n",
       "      <th></th>\n",
       "      <th></th>\n",
       "    </tr>\n",
       "  </thead>\n",
       "  <tbody>\n",
       "    <tr>\n",
       "      <th rowspan=\"2\" valign=\"top\">DISCA</th>\n",
       "      <th>2011-02-11</th>\n",
       "      <td>2011-02-11T18:34:47Z</td>\n",
       "      <td></td>\n",
       "      <td>Discovery Holding Co. CI A (NASDAQ: DISCA ) Q4...</td>\n",
       "      <td>https://seekingalpha.com/article/252356-discov...</td>\n",
       "      <td>2011-02-11 13:34:47-05:00</td>\n",
       "    </tr>\n",
       "    <tr>\n",
       "      <th>2011-04-29</th>\n",
       "      <td>2011-04-28T21:00:00Z</td>\n",
       "      <td>Operator [Operator Instructions] And our first...</td>\n",
       "      <td>Discovery Communications (NASDAQ: DISCA ) Q1 2...</td>\n",
       "      <td>https://seekingalpha.com/article/280417-discov...</td>\n",
       "      <td>2011-04-29 17:00:00-04:00</td>\n",
       "    </tr>\n",
       "  </tbody>\n",
       "</table>\n",
       "</div>"
      ],
      "text/plain": [
       "                                        publishDate  \\\n",
       "tradingSymbol publishDate_str                         \n",
       "DISCA         2011-02-11       2011-02-11T18:34:47Z   \n",
       "              2011-04-29       2011-04-28T21:00:00Z   \n",
       "\n",
       "                                                                       qAndAText  \\\n",
       "tradingSymbol publishDate_str                                                      \n",
       "DISCA         2011-02-11                                                           \n",
       "              2011-04-29       Operator [Operator Instructions] And our first...   \n",
       "\n",
       "                                                                         rawText  \\\n",
       "tradingSymbol publishDate_str                                                      \n",
       "DISCA         2011-02-11       Discovery Holding Co. CI A (NASDAQ: DISCA ) Q4...   \n",
       "              2011-04-29       Discovery Communications (NASDAQ: DISCA ) Q1 2...   \n",
       "\n",
       "                                                                             url  \\\n",
       "tradingSymbol publishDate_str                                                      \n",
       "DISCA         2011-02-11       https://seekingalpha.com/article/252356-discov...   \n",
       "              2011-04-29       https://seekingalpha.com/article/280417-discov...   \n",
       "\n",
       "                                    shifted_publishDate  \n",
       "tradingSymbol publishDate_str                            \n",
       "DISCA         2011-02-11      2011-02-11 13:34:47-05:00  \n",
       "              2011-04-29      2011-04-29 17:00:00-04:00  "
      ]
     },
     "execution_count": 10,
     "metadata": {},
     "output_type": "execute_result"
    }
   ],
   "source": [
    "earnings_transcript.tail(2)"
   ]
  },
  {
   "cell_type": "markdown",
   "metadata": {
    "deletable": true,
    "editable": true
   },
   "source": [
    "### Load all ticker data for transcripts"
   ]
  },
  {
   "cell_type": "code",
   "execution_count": 11,
   "metadata": {
    "collapsed": false,
    "deletable": true,
    "editable": true
   },
   "outputs": [
    {
     "data": {
      "text/plain": [
       "Index(['A', 'AA', 'AAN', 'AAON', 'AAP', 'AAPL', 'AAT', 'AAWW', 'ABAX', 'ABBV',\n",
       "       ...\n",
       "       'DG', 'DGII', 'DGX', 'DHI', 'DHR', 'DHX', 'DIN', 'DIOD', 'DIS',\n",
       "       'DISCA'],\n",
       "      dtype='object', name='tradingSymbol', length=198)"
      ]
     },
     "execution_count": 11,
     "metadata": {},
     "output_type": "execute_result"
    }
   ],
   "source": [
    "earnings_transcript.index.levels[0]"
   ]
  },
  {
   "cell_type": "code",
   "execution_count": 12,
   "metadata": {
    "collapsed": true,
    "deletable": true,
    "editable": true
   },
   "outputs": [],
   "source": [
    "class Applyer:\n",
    "    \n",
    "    label = ''\n",
    "    label_to_check_against = None\n",
    "    \n",
    "    @staticmethod\n",
    "    def label_calc(row):\n",
    "        \n",
    "        val_to_check = 0\n",
    "        if Applyer.label_to_check_against is not None:\n",
    "            val_to_check = row[Applyer.label_to_check_against]\n",
    "        \n",
    "        if math.isnan(row[Applyer.label]) or math.isnan(val_to_check):\n",
    "            return 0\n",
    "\n",
    "        if abs(row[Applyer.label]) >= val_to_check:\n",
    "            if row[Applyer.label] <= 0:\n",
    "                return -1\n",
    "            else:\n",
    "                return 1\n",
    "        else:\n",
    "            return 0\n",
    "    \n",
    "    @staticmethod\n",
    "    def all_label_calc(df):\n",
    "        df['Std Dev'] = pd.Series(data=df['Close']).rolling(window=20,center=False).std()\n",
    "\n",
    "        df['1day return'] = df['Close'].shift(-1) - df['Close']\n",
    "        df['5day return'] = df['Close'].shift(-5) - df['Close']\n",
    "\n",
    "        Applyer.label_to_check_against = None\n",
    "\n",
    "        Applyer.label = '1day return'\n",
    "        df['1day label'] = df.apply(Applyer.label_calc, axis=1)\n",
    "        Applyer.label = '5day return'\n",
    "        df['5day label'] = df.apply(Applyer.label_calc, axis=1)\n",
    "\n",
    "        Applyer.label_to_check_against = 'Std Dev'\n",
    "\n",
    "        Applyer.label = '1day return'\n",
    "        df['1day significant label'] = df.apply(Applyer.label_calc, axis=1)\n",
    "        Applyer.label = '5day return'\n",
    "        df['5day significant label'] = df.apply(Applyer.label_calc, axis=1)"
   ]
  },
  {
   "cell_type": "code",
   "execution_count": 13,
   "metadata": {
    "collapsed": false,
    "deletable": true,
    "editable": true
   },
   "outputs": [
    {
     "name": "stdout",
     "output_type": "stream",
     "text": [
      "Downloading missing stock data\n",
      "ACE is not available on Yahoo\n",
      "ACT is not available on Yahoo\n",
      "AGYS ticker has 4344 long list\n",
      "AHL ticker has 3358 long list\n",
      "AHS ticker has 3767 long list\n",
      "AIG ticker has 4344 long list\n",
      "AIN ticker has 4344 long list\n",
      "AIR ticker has 4344 long list\n",
      "AIRM ticker has 4344 long list\n",
      "AIT ticker has 4344 long list\n",
      "AIV ticker has 4344 long list\n",
      "AIZ ticker has 3317 long list\n",
      "AJG ticker has 4344 long list\n",
      "AJRD ticker has 4344 long list\n",
      "AKAM ticker has 4344 long list\n",
      "AKR ticker has 4344 long list\n",
      "AKRX ticker has 3697 long list\n",
      "AKS ticker has 4344 long list\n",
      "ALB ticker has 4344 long list\n",
      "ALE ticker has 4344 long list\n",
      "ALEX ticker has 1212 long list\n",
      "ALG ticker has 4344 long list\n",
      "ALGN ticker has 4073 long list\n",
      "ALGT ticker has 2600 long list\n",
      "ALK ticker has 4344 long list\n",
      "ALL ticker has 4344 long list\n",
      "ALLE ticker has 853 long list\n",
      "ALOG ticker has 4344 long list\n",
      "ALTR is not available on Yahoo\n",
      "ALXN ticker has 4344 long list\n",
      "AMAG ticker has 4344 long list\n",
      "AMAT ticker has 4344 long list\n",
      "AMCX ticker has 1463 long list\n",
      "AMD ticker has 4344 long list\n",
      "AME ticker has 4344 long list\n",
      "AMED ticker has 4344 long list\n",
      "AMGN ticker has 4344 long list\n",
      "AMP ticker has 2911 long list\n",
      "AMPH ticker has 703 long list\n",
      "AMRI ticker has 4344 long list\n",
      "AMSF ticker has 2865 long list\n",
      "AMSG ticker has 4257 long list\n",
      "AMT ticker has 4344 long list\n",
      "AMWD ticker has 4344 long list\n",
      "AMZN ticker has 4344 long list\n",
      "AN ticker has 4344 long list\n",
      "ANDE ticker has 4344 long list\n",
      "ANF ticker has 4344 long list\n",
      "ANGO ticker has 3237 long list\n",
      "ANIK ticker has 4344 long list\n",
      "ANIP ticker has 4258 long list\n",
      "ANSS ticker has 4344 long list\n",
      "AON ticker has 4344 long list\n",
      "AOS ticker has 4344 long list\n",
      "APA ticker has 4344 long list\n",
      "APC ticker has 4344 long list\n",
      "APD ticker has 4344 long list\n",
      "APEI ticker has 2369 long list\n",
      "APH ticker has 4344 long list\n",
      "APOG ticker has 4344 long list\n",
      "APOL ticker has 4298 long list\n",
      "ARCB ticker has 4344 long list\n",
      "ARE ticker has 4344 long list\n",
      "AROC ticker has 2426 long list\n",
      "ARRS ticker has 4344 long list\n",
      "ARW ticker has 4344 long list\n",
      "ASB ticker has 4344 long list\n",
      "ASGN ticker has 4344 long list\n",
      "ASH ticker has 4344 long list\n",
      "ASNA ticker has 4344 long list\n",
      "ASTE ticker has 4344 long list\n",
      "ATI ticker has 4344 long list\n",
      "ATNI ticker has 4344 long list\n",
      "ATO ticker has 4344 long list\n",
      "ATR ticker has 4344 long list\n",
      "ATU ticker has 4204 long list\n",
      "ATVI ticker has 4344 long list\n",
      "ATW ticker has 4344 long list\n",
      "AVA ticker has 4344 long list\n",
      "AVAV ticker has 2572 long list\n",
      "AVB ticker has 4344 long list\n",
      "AVD ticker has 4344 long list\n",
      "AVP ticker has 4344 long list\n",
      "AVT ticker has 4344 long list\n",
      "AVY ticker has 4344 long list\n",
      "AWK ticker has 2257 long list\n",
      "CRL ticker has 4224 long list\n",
      "CRM ticker has 3222 long list\n",
      "CROX ticker has 2811 long list\n",
      "CRR ticker has 4344 long list\n",
      "CRS ticker has 4344 long list\n",
      "CRUS ticker has 4344 long list\n",
      "CRVL ticker has 4344 long list\n",
      "CRY ticker has 4344 long list\n",
      "CRZO ticker has 4344 long list\n",
      "CSAL ticker has 468 long list\n",
      "CSCO ticker has 4344 long list\n",
      "CSGS ticker has 4344 long list\n",
      "CSL ticker has 4344 long list\n",
      "CSRA ticker has 351 long list\n",
      "CST ticker has 1003 long list\n",
      "CSX ticker has 4344 long list\n",
      "CTAS ticker has 4344 long list\n",
      "CTL ticker has 4344 long list\n",
      "CTLT ticker has 678 long list\n",
      "CTRE ticker has 722 long list\n",
      "CTS ticker has 4344 long list\n",
      "CTSH ticker has 4344 long list\n",
      "CTXS ticker has 4344 long list\n",
      "CUB ticker has 4344 long list\n",
      "CUBI ticker has 1276 long list\n",
      "CUZ ticker has 4344 long list\n",
      "CVBF ticker has 4344 long list\n",
      "CVCO ticker has 3468 long list\n",
      "CVG ticker has 4344 long list\n",
      "CVLT ticker has 2654 long list\n",
      "CVS ticker has 4344 long list\n",
      "CVX ticker has 4344 long list\n",
      "CW ticker has 4344 long list\n",
      "CWT ticker has 4344 long list\n",
      "CXO ticker has 2438 long list\n",
      "CXW ticker has 4344 long list\n",
      "CY ticker has 4344 long list\n",
      "CYH ticker has 4234 long list\n",
      "CYNO ticker has 2839 long list\n",
      "D ticker has 4344 long list\n",
      "DAKT ticker has 4344 long list\n",
      "DAL ticker has 2502 long list\n",
      "DAN ticker has 2334 long list\n",
      "DAR ticker has 4344 long list\n",
      "DBD ticker has 4344 long list\n",
      "DCI ticker has 4344 long list\n",
      "DCT ticker has 2597 long list\n",
      "DD ticker has 4344 long list\n",
      "DDD ticker has 4344 long list\n",
      "DE ticker has 4344 long list\n",
      "DECK ticker has 4344 long list\n",
      "DEI ticker has 2631 long list\n",
      "DEL ticker has 4344 long list\n",
      "DEPO ticker has 4344 long list\n",
      "DF ticker has 4344 long list\n",
      "DFS ticker has 2473 long list\n",
      "DG ticker has 1862 long list\n",
      "DGII ticker has 4344 long list\n",
      "DGX ticker has 4344 long list\n",
      "DHI ticker has 4344 long list\n",
      "DHR ticker has 4344 long list\n",
      "DHX ticker has 2444 long list\n",
      "DIN ticker has 4344 long list\n",
      "DIOD ticker has 4344 long list\n",
      "DIS ticker has 4344 long list\n",
      "DISCA ticker has 2959 long list\n"
     ]
    }
   ],
   "source": [
    "tickers = earnings_transcript.index.levels[0]\n",
    "all_stocks = None\n",
    "try:\n",
    "    all_stocks = pd.read_pickle('all_stocks.pkl')\n",
    "except:\n",
    "    pass\n",
    "\n",
    "print('Downloading missing stock data')\n",
    "\n",
    "for ticker in tickers:\n",
    "    if (all_stocks is not None) and (ticker in all_stocks.index):\n",
    "        continue\n",
    "    stock = []\n",
    "    try:\n",
    "        stocks = ystockquote.get_historical_prices(ticker, '2000-01-01', '2017-12-31')\n",
    "    except:\n",
    "        print('{} is not available on Yahoo'.format(ticker))\n",
    "        continue\n",
    "    print('{} ticker has {} long list'.format(ticker, len(stocks)))\n",
    "    df = pd.DataFrame(stocks).transpose()\n",
    "    if 'Adj Close' in df.columns:\n",
    "        df['Close'] = pd.to_numeric(df['Adj Close'], errors='ignore')\n",
    "    elif 'Close' in df.columns:\n",
    "        df['Close'] = pd.to_numeric(df['Close'], errors='ignore')\n",
    "    else:\n",
    "        print('{} does not have close prices'.format(ticker))\n",
    "        continue\n",
    "    df.drop(axis=1, labels=[col for col in df.columns if col not in ['Close']], inplace=True)\n",
    "    indexes = pd.MultiIndex.from_product([[ticker], df.index.values.tolist()], names=['tradingSymbol', 'publishDate_str'])\n",
    "    df.set_index(indexes, inplace=True)\n",
    "    \n",
    "    Applyer.all_label_calc(df)\n",
    "    df.dropna(inplace=True)\n",
    "    \n",
    "    if all_stocks is None:\n",
    "        all_stocks = df\n",
    "    else:\n",
    "        all_stocks = all_stocks.append(df)\n",
    "        \n",
    "all_stocks.to_pickle('all_stocks.pkl')"
   ]
  },
  {
   "cell_type": "code",
   "execution_count": 14,
   "metadata": {
    "collapsed": false,
    "deletable": true,
    "editable": true
   },
   "outputs": [
    {
     "data": {
      "text/html": [
       "<div>\n",
       "<table border=\"1\" class=\"dataframe\">\n",
       "  <thead>\n",
       "    <tr style=\"text-align: right;\">\n",
       "      <th></th>\n",
       "      <th></th>\n",
       "      <th>Close</th>\n",
       "      <th>Std Dev</th>\n",
       "      <th>1day return</th>\n",
       "      <th>5day return</th>\n",
       "      <th>1day label</th>\n",
       "      <th>5day label</th>\n",
       "      <th>1day significant label</th>\n",
       "      <th>5day significant label</th>\n",
       "    </tr>\n",
       "    <tr>\n",
       "      <th>tradingSymbol</th>\n",
       "      <th>publishDate_str</th>\n",
       "      <th></th>\n",
       "      <th></th>\n",
       "      <th></th>\n",
       "      <th></th>\n",
       "      <th></th>\n",
       "      <th></th>\n",
       "      <th></th>\n",
       "      <th></th>\n",
       "    </tr>\n",
       "  </thead>\n",
       "  <tbody>\n",
       "    <tr>\n",
       "      <th>ALL</th>\n",
       "      <th>2015-01-20</th>\n",
       "      <td>67.412337</td>\n",
       "      <td>0.702408</td>\n",
       "      <td>-0.057484</td>\n",
       "      <td>1.034757</td>\n",
       "      <td>-1</td>\n",
       "      <td>1</td>\n",
       "      <td>0</td>\n",
       "      <td>1</td>\n",
       "    </tr>\n",
       "    <tr>\n",
       "      <th>CROX</th>\n",
       "      <th>2015-07-27</th>\n",
       "      <td>13.590000</td>\n",
       "      <td>0.369644</td>\n",
       "      <td>0.350000</td>\n",
       "      <td>1.440000</td>\n",
       "      <td>1</td>\n",
       "      <td>1</td>\n",
       "      <td>0</td>\n",
       "      <td>1</td>\n",
       "    </tr>\n",
       "    <tr>\n",
       "      <th>AFAM</th>\n",
       "      <th>2016-01-15</th>\n",
       "      <td>38.509998</td>\n",
       "      <td>0.860832</td>\n",
       "      <td>-0.369999</td>\n",
       "      <td>-0.299999</td>\n",
       "      <td>-1</td>\n",
       "      <td>-1</td>\n",
       "      <td>0</td>\n",
       "      <td>0</td>\n",
       "    </tr>\n",
       "    <tr>\n",
       "      <th>AWK</th>\n",
       "      <th>2011-02-03</th>\n",
       "      <td>22.670157</td>\n",
       "      <td>0.289156</td>\n",
       "      <td>0.076589</td>\n",
       "      <td>-0.153177</td>\n",
       "      <td>1</td>\n",
       "      <td>-1</td>\n",
       "      <td>0</td>\n",
       "      <td>0</td>\n",
       "    </tr>\n",
       "    <tr>\n",
       "      <th>AMRI</th>\n",
       "      <th>2005-11-25</th>\n",
       "      <td>12.410000</td>\n",
       "      <td>0.517458</td>\n",
       "      <td>-0.360000</td>\n",
       "      <td>0.550000</td>\n",
       "      <td>-1</td>\n",
       "      <td>1</td>\n",
       "      <td>0</td>\n",
       "      <td>1</td>\n",
       "    </tr>\n",
       "    <tr>\n",
       "      <th>AIZ</th>\n",
       "      <th>2014-12-11</th>\n",
       "      <td>64.732254</td>\n",
       "      <td>0.534548</td>\n",
       "      <td>-1.713748</td>\n",
       "      <td>-0.266582</td>\n",
       "      <td>-1</td>\n",
       "      <td>-1</td>\n",
       "      <td>-1</td>\n",
       "      <td>0</td>\n",
       "    </tr>\n",
       "    <tr>\n",
       "      <th>CRZO</th>\n",
       "      <th>2002-10-22</th>\n",
       "      <td>4.650000</td>\n",
       "      <td>0.228611</td>\n",
       "      <td>0.250000</td>\n",
       "      <td>0.210000</td>\n",
       "      <td>1</td>\n",
       "      <td>1</td>\n",
       "      <td>1</td>\n",
       "      <td>0</td>\n",
       "    </tr>\n",
       "    <tr>\n",
       "      <th>ABAX</th>\n",
       "      <th>2011-06-17</th>\n",
       "      <td>26.045612</td>\n",
       "      <td>1.096509</td>\n",
       "      <td>0.075769</td>\n",
       "      <td>0.265192</td>\n",
       "      <td>1</td>\n",
       "      <td>1</td>\n",
       "      <td>0</td>\n",
       "      <td>0</td>\n",
       "    </tr>\n",
       "    <tr>\n",
       "      <th>CUB</th>\n",
       "      <th>2013-02-20</th>\n",
       "      <td>42.901234</td>\n",
       "      <td>1.290892</td>\n",
       "      <td>-0.469293</td>\n",
       "      <td>-2.023828</td>\n",
       "      <td>-1</td>\n",
       "      <td>-1</td>\n",
       "      <td>0</td>\n",
       "      <td>-1</td>\n",
       "    </tr>\n",
       "    <tr>\n",
       "      <th>AN</th>\n",
       "      <th>2007-10-29</th>\n",
       "      <td>17.299999</td>\n",
       "      <td>0.431022</td>\n",
       "      <td>-0.099998</td>\n",
       "      <td>-0.479999</td>\n",
       "      <td>-1</td>\n",
       "      <td>-1</td>\n",
       "      <td>0</td>\n",
       "      <td>-1</td>\n",
       "    </tr>\n",
       "    <tr>\n",
       "      <th>DISCA</th>\n",
       "      <th>2011-03-03</th>\n",
       "      <td>21.844660</td>\n",
       "      <td>0.398759</td>\n",
       "      <td>-0.413898</td>\n",
       "      <td>-1.144609</td>\n",
       "      <td>-1</td>\n",
       "      <td>-1</td>\n",
       "      <td>-1</td>\n",
       "      <td>-1</td>\n",
       "    </tr>\n",
       "    <tr>\n",
       "      <th>AIN</th>\n",
       "      <th>2012-11-20</th>\n",
       "      <td>19.493407</td>\n",
       "      <td>0.455156</td>\n",
       "      <td>0.046106</td>\n",
       "      <td>0.396507</td>\n",
       "      <td>1</td>\n",
       "      <td>1</td>\n",
       "      <td>0</td>\n",
       "      <td>0</td>\n",
       "    </tr>\n",
       "    <tr>\n",
       "      <th>AIT</th>\n",
       "      <th>2008-05-05</th>\n",
       "      <td>20.307576</td>\n",
       "      <td>2.249177</td>\n",
       "      <td>-0.056544</td>\n",
       "      <td>1.445926</td>\n",
       "      <td>-1</td>\n",
       "      <td>1</td>\n",
       "      <td>0</td>\n",
       "      <td>0</td>\n",
       "    </tr>\n",
       "    <tr>\n",
       "      <th>AMT</th>\n",
       "      <th>2008-05-13</th>\n",
       "      <td>41.251179</td>\n",
       "      <td>1.330556</td>\n",
       "      <td>0.524730</td>\n",
       "      <td>0.138085</td>\n",
       "      <td>1</td>\n",
       "      <td>1</td>\n",
       "      <td>0</td>\n",
       "      <td>0</td>\n",
       "    </tr>\n",
       "    <tr>\n",
       "      <th>AES</th>\n",
       "      <th>2008-06-13</th>\n",
       "      <td>17.953379</td>\n",
       "      <td>0.313863</td>\n",
       "      <td>0.000000</td>\n",
       "      <td>-0.499697</td>\n",
       "      <td>-1</td>\n",
       "      <td>-1</td>\n",
       "      <td>0</td>\n",
       "      <td>-1</td>\n",
       "    </tr>\n",
       "    <tr>\n",
       "      <th>APA</th>\n",
       "      <th>2002-03-20</th>\n",
       "      <td>23.837250</td>\n",
       "      <td>0.753007</td>\n",
       "      <td>0.024992</td>\n",
       "      <td>0.137451</td>\n",
       "      <td>1</td>\n",
       "      <td>1</td>\n",
       "      <td>0</td>\n",
       "      <td>0</td>\n",
       "    </tr>\n",
       "    <tr>\n",
       "      <th>APOL</th>\n",
       "      <th>2008-12-05</th>\n",
       "      <td>75.870003</td>\n",
       "      <td>3.448342</td>\n",
       "      <td>0.089996</td>\n",
       "      <td>-1.890000</td>\n",
       "      <td>1</td>\n",
       "      <td>-1</td>\n",
       "      <td>0</td>\n",
       "      <td>0</td>\n",
       "    </tr>\n",
       "    <tr>\n",
       "      <th>AMED</th>\n",
       "      <th>2014-10-01</th>\n",
       "      <td>19.570000</td>\n",
       "      <td>0.337144</td>\n",
       "      <td>0.550001</td>\n",
       "      <td>0.920000</td>\n",
       "      <td>1</td>\n",
       "      <td>1</td>\n",
       "      <td>1</td>\n",
       "      <td>1</td>\n",
       "    </tr>\n",
       "    <tr>\n",
       "      <th>ACAT</th>\n",
       "      <th>2002-10-18</th>\n",
       "      <td>12.595742</td>\n",
       "      <td>0.368252</td>\n",
       "      <td>-0.069350</td>\n",
       "      <td>-0.199382</td>\n",
       "      <td>-1</td>\n",
       "      <td>-1</td>\n",
       "      <td>0</td>\n",
       "      <td>0</td>\n",
       "    </tr>\n",
       "    <tr>\n",
       "      <th>ALG</th>\n",
       "      <th>2000-06-19</th>\n",
       "      <td>10.278763</td>\n",
       "      <td>0.337877</td>\n",
       "      <td>0.000000</td>\n",
       "      <td>0.205575</td>\n",
       "      <td>-1</td>\n",
       "      <td>1</td>\n",
       "      <td>0</td>\n",
       "      <td>0</td>\n",
       "    </tr>\n",
       "  </tbody>\n",
       "</table>\n",
       "</div>"
      ],
      "text/plain": [
       "                                   Close   Std Dev  1day return  5day return  \\\n",
       "tradingSymbol publishDate_str                                                  \n",
       "ALL           2015-01-20       67.412337  0.702408    -0.057484     1.034757   \n",
       "CROX          2015-07-27       13.590000  0.369644     0.350000     1.440000   \n",
       "AFAM          2016-01-15       38.509998  0.860832    -0.369999    -0.299999   \n",
       "AWK           2011-02-03       22.670157  0.289156     0.076589    -0.153177   \n",
       "AMRI          2005-11-25       12.410000  0.517458    -0.360000     0.550000   \n",
       "AIZ           2014-12-11       64.732254  0.534548    -1.713748    -0.266582   \n",
       "CRZO          2002-10-22        4.650000  0.228611     0.250000     0.210000   \n",
       "ABAX          2011-06-17       26.045612  1.096509     0.075769     0.265192   \n",
       "CUB           2013-02-20       42.901234  1.290892    -0.469293    -2.023828   \n",
       "AN            2007-10-29       17.299999  0.431022    -0.099998    -0.479999   \n",
       "DISCA         2011-03-03       21.844660  0.398759    -0.413898    -1.144609   \n",
       "AIN           2012-11-20       19.493407  0.455156     0.046106     0.396507   \n",
       "AIT           2008-05-05       20.307576  2.249177    -0.056544     1.445926   \n",
       "AMT           2008-05-13       41.251179  1.330556     0.524730     0.138085   \n",
       "AES           2008-06-13       17.953379  0.313863     0.000000    -0.499697   \n",
       "APA           2002-03-20       23.837250  0.753007     0.024992     0.137451   \n",
       "APOL          2008-12-05       75.870003  3.448342     0.089996    -1.890000   \n",
       "AMED          2014-10-01       19.570000  0.337144     0.550001     0.920000   \n",
       "ACAT          2002-10-18       12.595742  0.368252    -0.069350    -0.199382   \n",
       "ALG           2000-06-19       10.278763  0.337877     0.000000     0.205575   \n",
       "\n",
       "                               1day label  5day label  1day significant label  \\\n",
       "tradingSymbol publishDate_str                                                   \n",
       "ALL           2015-01-20               -1           1                       0   \n",
       "CROX          2015-07-27                1           1                       0   \n",
       "AFAM          2016-01-15               -1          -1                       0   \n",
       "AWK           2011-02-03                1          -1                       0   \n",
       "AMRI          2005-11-25               -1           1                       0   \n",
       "AIZ           2014-12-11               -1          -1                      -1   \n",
       "CRZO          2002-10-22                1           1                       1   \n",
       "ABAX          2011-06-17                1           1                       0   \n",
       "CUB           2013-02-20               -1          -1                       0   \n",
       "AN            2007-10-29               -1          -1                       0   \n",
       "DISCA         2011-03-03               -1          -1                      -1   \n",
       "AIN           2012-11-20                1           1                       0   \n",
       "AIT           2008-05-05               -1           1                       0   \n",
       "AMT           2008-05-13                1           1                       0   \n",
       "AES           2008-06-13               -1          -1                       0   \n",
       "APA           2002-03-20                1           1                       0   \n",
       "APOL          2008-12-05                1          -1                       0   \n",
       "AMED          2014-10-01                1           1                       1   \n",
       "ACAT          2002-10-18               -1          -1                       0   \n",
       "ALG           2000-06-19               -1           1                       0   \n",
       "\n",
       "                               5day significant label  \n",
       "tradingSymbol publishDate_str                          \n",
       "ALL           2015-01-20                            1  \n",
       "CROX          2015-07-27                            1  \n",
       "AFAM          2016-01-15                            0  \n",
       "AWK           2011-02-03                            0  \n",
       "AMRI          2005-11-25                            1  \n",
       "AIZ           2014-12-11                            0  \n",
       "CRZO          2002-10-22                            0  \n",
       "ABAX          2011-06-17                            0  \n",
       "CUB           2013-02-20                           -1  \n",
       "AN            2007-10-29                           -1  \n",
       "DISCA         2011-03-03                           -1  \n",
       "AIN           2012-11-20                            0  \n",
       "AIT           2008-05-05                            0  \n",
       "AMT           2008-05-13                            0  \n",
       "AES           2008-06-13                           -1  \n",
       "APA           2002-03-20                            0  \n",
       "APOL          2008-12-05                            0  \n",
       "AMED          2014-10-01                            1  \n",
       "ACAT          2002-10-18                            0  \n",
       "ALG           2000-06-19                            0  "
      ]
     },
     "execution_count": 14,
     "metadata": {},
     "output_type": "execute_result"
    }
   ],
   "source": [
    "all_stocks.sample(20)"
   ]
  },
  {
   "cell_type": "markdown",
   "metadata": {
    "deletable": true,
    "editable": true
   },
   "source": [
    "# Merge transcripts with stock data"
   ]
  },
  {
   "cell_type": "code",
   "execution_count": 15,
   "metadata": {
    "collapsed": false,
    "deletable": true,
    "editable": true
   },
   "outputs": [],
   "source": [
    "merged_data = earnings_transcript.merge(all_stocks, left_index=True, right_index=True)"
   ]
  },
  {
   "cell_type": "code",
   "execution_count": 16,
   "metadata": {
    "collapsed": false,
    "deletable": true,
    "editable": true
   },
   "outputs": [
    {
     "data": {
      "text/html": [
       "<div>\n",
       "<table border=\"1\" class=\"dataframe\">\n",
       "  <thead>\n",
       "    <tr style=\"text-align: right;\">\n",
       "      <th></th>\n",
       "      <th></th>\n",
       "      <th>publishDate</th>\n",
       "      <th>qAndAText</th>\n",
       "      <th>rawText</th>\n",
       "      <th>url</th>\n",
       "      <th>shifted_publishDate</th>\n",
       "      <th>Close</th>\n",
       "      <th>Std Dev</th>\n",
       "      <th>1day return</th>\n",
       "      <th>5day return</th>\n",
       "      <th>1day label</th>\n",
       "      <th>5day label</th>\n",
       "      <th>1day significant label</th>\n",
       "      <th>5day significant label</th>\n",
       "    </tr>\n",
       "    <tr>\n",
       "      <th>tradingSymbol</th>\n",
       "      <th>publishDate_str</th>\n",
       "      <th></th>\n",
       "      <th></th>\n",
       "      <th></th>\n",
       "      <th></th>\n",
       "      <th></th>\n",
       "      <th></th>\n",
       "      <th></th>\n",
       "      <th></th>\n",
       "      <th></th>\n",
       "      <th></th>\n",
       "      <th></th>\n",
       "      <th></th>\n",
       "      <th></th>\n",
       "    </tr>\n",
       "  </thead>\n",
       "  <tbody>\n",
       "    <tr>\n",
       "      <th>ARW</th>\n",
       "      <th>2013-07-25</th>\n",
       "      <td>2013-07-24T20:01:15Z</td>\n",
       "      <td>Operator [Operator Instructions] Okay, we do h...</td>\n",
       "      <td>Arrow Electronics (NYSE: ARW ) Q2 2013 Earning...</td>\n",
       "      <td>https://seekingalpha.com/article/1568972-arrow...</td>\n",
       "      <td>2013-07-25 16:01:15-04:00</td>\n",
       "      <td>45.709999</td>\n",
       "      <td>1.676276</td>\n",
       "      <td>-0.259998</td>\n",
       "      <td>1.900002</td>\n",
       "      <td>-1</td>\n",
       "      <td>1</td>\n",
       "      <td>0</td>\n",
       "      <td>1</td>\n",
       "    </tr>\n",
       "    <tr>\n",
       "      <th>CVS</th>\n",
       "      <th>2014-06-18</th>\n",
       "      <td>2014-06-18T18:03:07Z</td>\n",
       "      <td>Peter Costa - Wells Fargo Okay. We have time f...</td>\n",
       "      <td>CVS Caremark Corporation (NYSE: CVS ) Wells Fa...</td>\n",
       "      <td>https://seekingalpha.com/article/2275193-cvs-c...</td>\n",
       "      <td>2014-06-18 14:03:07-04:00</td>\n",
       "      <td>73.996454</td>\n",
       "      <td>0.877508</td>\n",
       "      <td>0.086083</td>\n",
       "      <td>-1.817391</td>\n",
       "      <td>1</td>\n",
       "      <td>-1</td>\n",
       "      <td>0</td>\n",
       "      <td>-1</td>\n",
       "    </tr>\n",
       "    <tr>\n",
       "      <th>DBD</th>\n",
       "      <th>2010-10-28</th>\n",
       "      <td>2010-10-28T19:49:23Z</td>\n",
       "      <td>Operator (Operator Instructions)  Our first qu...</td>\n",
       "      <td>Diebold, Inc. (NYSE: DBD ) Q3 2010 Earnings Ca...</td>\n",
       "      <td>https://seekingalpha.com/article/233085-diebol...</td>\n",
       "      <td>2010-10-28 15:49:23-04:00</td>\n",
       "      <td>24.669609</td>\n",
       "      <td>0.404048</td>\n",
       "      <td>-0.136075</td>\n",
       "      <td>1.256693</td>\n",
       "      <td>-1</td>\n",
       "      <td>1</td>\n",
       "      <td>0</td>\n",
       "      <td>1</td>\n",
       "    </tr>\n",
       "    <tr>\n",
       "      <th rowspan=\"2\" valign=\"top\">DGX</th>\n",
       "      <th>2015-10-22</th>\n",
       "      <td>2015-10-22T12:25:00Z</td>\n",
       "      <td></td>\n",
       "      <td>The following audio is from a conference call ...</td>\n",
       "      <td>https://seekingalpha.com/article/3588966-quest...</td>\n",
       "      <td>2015-10-22 08:25:00-04:00</td>\n",
       "      <td>60.430711</td>\n",
       "      <td>1.590948</td>\n",
       "      <td>2.473881</td>\n",
       "      <td>4.394783</td>\n",
       "      <td>1</td>\n",
       "      <td>1</td>\n",
       "      <td>1</td>\n",
       "      <td>1</td>\n",
       "    </tr>\n",
       "    <tr>\n",
       "      <th>2012-10-17</th>\n",
       "      <td>2012-10-17T15:40:14Z</td>\n",
       "      <td>Operator [Operator Instructions] Our first que...</td>\n",
       "      <td>Quest Diagnostics (NYSE: DGX ) Q3 2012 Earning...</td>\n",
       "      <td>https://seekingalpha.com/article/929761-quest-...</td>\n",
       "      <td>2012-10-17 11:40:14-04:00</td>\n",
       "      <td>54.388866</td>\n",
       "      <td>0.941993</td>\n",
       "      <td>0.719117</td>\n",
       "      <td>-1.201561</td>\n",
       "      <td>1</td>\n",
       "      <td>-1</td>\n",
       "      <td>0</td>\n",
       "      <td>-1</td>\n",
       "    </tr>\n",
       "  </tbody>\n",
       "</table>\n",
       "</div>"
      ],
      "text/plain": [
       "                                        publishDate  \\\n",
       "tradingSymbol publishDate_str                         \n",
       "ARW           2013-07-25       2013-07-24T20:01:15Z   \n",
       "CVS           2014-06-18       2014-06-18T18:03:07Z   \n",
       "DBD           2010-10-28       2010-10-28T19:49:23Z   \n",
       "DGX           2015-10-22       2015-10-22T12:25:00Z   \n",
       "              2012-10-17       2012-10-17T15:40:14Z   \n",
       "\n",
       "                                                                       qAndAText  \\\n",
       "tradingSymbol publishDate_str                                                      \n",
       "ARW           2013-07-25       Operator [Operator Instructions] Okay, we do h...   \n",
       "CVS           2014-06-18       Peter Costa - Wells Fargo Okay. We have time f...   \n",
       "DBD           2010-10-28       Operator (Operator Instructions)  Our first qu...   \n",
       "DGX           2015-10-22                                                           \n",
       "              2012-10-17       Operator [Operator Instructions] Our first que...   \n",
       "\n",
       "                                                                         rawText  \\\n",
       "tradingSymbol publishDate_str                                                      \n",
       "ARW           2013-07-25       Arrow Electronics (NYSE: ARW ) Q2 2013 Earning...   \n",
       "CVS           2014-06-18       CVS Caremark Corporation (NYSE: CVS ) Wells Fa...   \n",
       "DBD           2010-10-28       Diebold, Inc. (NYSE: DBD ) Q3 2010 Earnings Ca...   \n",
       "DGX           2015-10-22       The following audio is from a conference call ...   \n",
       "              2012-10-17       Quest Diagnostics (NYSE: DGX ) Q3 2012 Earning...   \n",
       "\n",
       "                                                                             url  \\\n",
       "tradingSymbol publishDate_str                                                      \n",
       "ARW           2013-07-25       https://seekingalpha.com/article/1568972-arrow...   \n",
       "CVS           2014-06-18       https://seekingalpha.com/article/2275193-cvs-c...   \n",
       "DBD           2010-10-28       https://seekingalpha.com/article/233085-diebol...   \n",
       "DGX           2015-10-22       https://seekingalpha.com/article/3588966-quest...   \n",
       "              2012-10-17       https://seekingalpha.com/article/929761-quest-...   \n",
       "\n",
       "                                    shifted_publishDate      Close   Std Dev  \\\n",
       "tradingSymbol publishDate_str                                                  \n",
       "ARW           2013-07-25      2013-07-25 16:01:15-04:00  45.709999  1.676276   \n",
       "CVS           2014-06-18      2014-06-18 14:03:07-04:00  73.996454  0.877508   \n",
       "DBD           2010-10-28      2010-10-28 15:49:23-04:00  24.669609  0.404048   \n",
       "DGX           2015-10-22      2015-10-22 08:25:00-04:00  60.430711  1.590948   \n",
       "              2012-10-17      2012-10-17 11:40:14-04:00  54.388866  0.941993   \n",
       "\n",
       "                               1day return  5day return  1day label  \\\n",
       "tradingSymbol publishDate_str                                         \n",
       "ARW           2013-07-25         -0.259998     1.900002          -1   \n",
       "CVS           2014-06-18          0.086083    -1.817391           1   \n",
       "DBD           2010-10-28         -0.136075     1.256693          -1   \n",
       "DGX           2015-10-22          2.473881     4.394783           1   \n",
       "              2012-10-17          0.719117    -1.201561           1   \n",
       "\n",
       "                               5day label  1day significant label  \\\n",
       "tradingSymbol publishDate_str                                       \n",
       "ARW           2013-07-25                1                       0   \n",
       "CVS           2014-06-18               -1                       0   \n",
       "DBD           2010-10-28                1                       0   \n",
       "DGX           2015-10-22                1                       1   \n",
       "              2012-10-17               -1                       0   \n",
       "\n",
       "                               5day significant label  \n",
       "tradingSymbol publishDate_str                          \n",
       "ARW           2013-07-25                            1  \n",
       "CVS           2014-06-18                           -1  \n",
       "DBD           2010-10-28                            1  \n",
       "DGX           2015-10-22                            1  \n",
       "              2012-10-17                           -1  "
      ]
     },
     "execution_count": 16,
     "metadata": {},
     "output_type": "execute_result"
    }
   ],
   "source": [
    "merged_data.sample(5)"
   ]
  },
  {
   "cell_type": "code",
   "execution_count": 17,
   "metadata": {
    "collapsed": true,
    "deletable": true,
    "editable": true
   },
   "outputs": [],
   "source": [
    "merged_data = merged_data[merged_data['rawText'].apply(len) > 5000]"
   ]
  },
  {
   "cell_type": "markdown",
   "metadata": {
    "deletable": true,
    "editable": true
   },
   "source": [
    "# Create train data and test data"
   ]
  },
  {
   "cell_type": "code",
   "execution_count": 18,
   "metadata": {
    "collapsed": false
   },
   "outputs": [
    {
     "data": {
      "text/plain": [
       "<matplotlib.axes._subplots.AxesSubplot at 0x29e58d3f940>"
      ]
     },
     "execution_count": 18,
     "metadata": {},
     "output_type": "execute_result"
    },
    {
     "data": {
      "image/png": "[encoded data removed]",
      "text/plain": [
       "<matplotlib.figure.Figure at 0x29e589e1470>"
      ]
     },
     "metadata": {},
     "output_type": "display_data"
    }
   ],
   "source": [
    "f, (ax1, ax2) = plt.subplots(2, sharex=True, figsize=(10, 10))\n",
    "sns.distplot(merged_data['5day significant label'], ax=ax1)\n",
    "sns.distplot(merged_data['1day significant label'], ax=ax2)"
   ]
  },
  {
   "cell_type": "code",
   "execution_count": 19,
   "metadata": {
    "collapsed": false
   },
   "outputs": [
    {
     "data": {
      "text/plain": [
       " 0    3287\n",
       " 1    1347\n",
       "-1    1213\n",
       "Name: 5day significant label, dtype: int64"
      ]
     },
     "execution_count": 19,
     "metadata": {},
     "output_type": "execute_result"
    }
   ],
   "source": [
    "merged_data['5day significant label'].value_counts()"
   ]
  },
  {
   "cell_type": "code",
   "execution_count": 20,
   "metadata": {
    "collapsed": false,
    "deletable": true,
    "editable": true
   },
   "outputs": [],
   "source": [
    "X = merged_data['rawText']\n",
    "y = merged_data['5day significant label'] + 1"
   ]
  },
  {
   "cell_type": "code",
   "execution_count": 21,
   "metadata": {
    "collapsed": true,
    "deletable": true,
    "editable": true
   },
   "outputs": [],
   "source": [
    "X_train, X_test, y_train, y_test = train_test_split(X, y, test_size=0.3)"
   ]
  },
  {
   "cell_type": "markdown",
   "metadata": {
    "deletable": true,
    "editable": true
   },
   "source": [
    "# Tf-Idf and DNN model"
   ]
  },
  {
   "cell_type": "code",
   "execution_count": null,
   "metadata": {},
   "outputs": [],
   "source": [
    "tfidf = TfidfVectorizer(max_df=0.3, min_df=5, ngram_range=(1,3), stop_words='english')"
   ]
  },
  {
   "cell_type": "code",
   "execution_count": 29,
   "metadata": {
    "collapsed": true,
    "deletable": true,
    "editable": true
   },
   "outputs": [],
   "source": [
    "tfidf_vectors = tfidf.fit_transform(X_train)"
   ]
  },
  {
   "cell_type": "code",
   "execution_count": 30,
   "metadata": {
    "collapsed": false,
    "deletable": true,
    "editable": true
   },
   "outputs": [
    {
     "name": "stdout",
     "output_type": "stream",
     "text": [
      "WARNING:tensorflow:Using temporary folder as model directory: C:\\Users\\neural\\AppData\\Local\\Temp\\tmpgl1li22v\n",
      "INFO:tensorflow:Using default config.\n",
      "INFO:tensorflow:Using config: {'_keep_checkpoint_max': 5, '_master': '', '_save_checkpoints_steps': None, '_num_ps_replicas': 0, '_is_chief': True, '_evaluation_master': '', '_keep_checkpoint_every_n_hours': 10000, '_environment': 'local', '_tf_random_seed': None, '_save_checkpoints_secs': 600, '_task_type': None, '_tf_config': gpu_options {\n",
      "  per_process_gpu_memory_fraction: 1\n",
      "}\n",
      ", '_task_id': 0, '_save_summary_steps': 100, '_cluster_spec': <tensorflow.python.training.server_lib.ClusterSpec object at 0x0000029E24953470>}\n"
     ]
    }
   ],
   "source": [
    "classifier = learn.DNNClassifier(hidden_units=[20, 40, 20], n_classes=3, \n",
    "                                 feature_columns=[tf.contrib.layers.real_valued_column(\"\", dimension=tfidf_vectors.shape[1])])"
   ]
  },
  {
   "cell_type": "code",
   "execution_count": 31,
   "metadata": {
    "collapsed": false,
    "deletable": true,
    "editable": true
   },
   "outputs": [
    {
     "ename": "MemoryError",
     "evalue": "",
     "output_type": "error",
     "traceback": [
      "\u001b[1;31m---------------------------------------------------------------------------\u001b[0m",
      "\u001b[1;31mMemoryError\u001b[0m                               Traceback (most recent call last)",
      "\u001b[1;32m<ipython-input-31-117eb421c7ea>\u001b[0m in \u001b[0;36m<module>\u001b[1;34m()\u001b[0m\n\u001b[1;32m----> 1\u001b[1;33m \u001b[0mclassifier\u001b[0m\u001b[1;33m.\u001b[0m\u001b[0mfit\u001b[0m\u001b[1;33m(\u001b[0m\u001b[0mtfidf_vectors\u001b[0m\u001b[1;33m.\u001b[0m\u001b[0mtodense\u001b[0m\u001b[1;33m(\u001b[0m\u001b[1;33m)\u001b[0m\u001b[1;33m,\u001b[0m \u001b[0my_train\u001b[0m\u001b[1;33m,\u001b[0m \u001b[0mbatch_size\u001b[0m\u001b[1;33m=\u001b[0m\u001b[1;36m20\u001b[0m\u001b[1;33m,\u001b[0m \u001b[0msteps\u001b[0m\u001b[1;33m=\u001b[0m\u001b[1;36m600\u001b[0m\u001b[1;33m)\u001b[0m\u001b[1;33m\u001b[0m\u001b[0m\n\u001b[0m",
      "\u001b[1;32mC:\\ProgramData\\Anaconda3\\envs\\tensorflow\\lib\\site-packages\\scipy\\sparse\\base.py\u001b[0m in \u001b[0;36mtodense\u001b[1;34m(self, order, out)\u001b[0m\n\u001b[0;32m    719\u001b[0m             \u001b[0;31m`\u001b[0m\u001b[0mnumpy\u001b[0m\u001b[1;33m.\u001b[0m\u001b[0mmatrix\u001b[0m\u001b[0;31m`\u001b[0m \u001b[0mobject\u001b[0m \u001b[0mthat\u001b[0m \u001b[0mshares\u001b[0m \u001b[0mthe\u001b[0m \u001b[0msame\u001b[0m \u001b[0mmemory\u001b[0m\u001b[1;33m.\u001b[0m\u001b[1;33m\u001b[0m\u001b[0m\n\u001b[0;32m    720\u001b[0m         \"\"\"\n\u001b[1;32m--> 721\u001b[1;33m         \u001b[1;32mreturn\u001b[0m \u001b[0mnp\u001b[0m\u001b[1;33m.\u001b[0m\u001b[0masmatrix\u001b[0m\u001b[1;33m(\u001b[0m\u001b[0mself\u001b[0m\u001b[1;33m.\u001b[0m\u001b[0mtoarray\u001b[0m\u001b[1;33m(\u001b[0m\u001b[0morder\u001b[0m\u001b[1;33m=\u001b[0m\u001b[0morder\u001b[0m\u001b[1;33m,\u001b[0m \u001b[0mout\u001b[0m\u001b[1;33m=\u001b[0m\u001b[0mout\u001b[0m\u001b[1;33m)\u001b[0m\u001b[1;33m)\u001b[0m\u001b[1;33m\u001b[0m\u001b[0m\n\u001b[0m\u001b[0;32m    722\u001b[0m \u001b[1;33m\u001b[0m\u001b[0m\n\u001b[0;32m    723\u001b[0m     \u001b[1;32mdef\u001b[0m \u001b[0mtoarray\u001b[0m\u001b[1;33m(\u001b[0m\u001b[0mself\u001b[0m\u001b[1;33m,\u001b[0m \u001b[0morder\u001b[0m\u001b[1;33m=\u001b[0m\u001b[1;32mNone\u001b[0m\u001b[1;33m,\u001b[0m \u001b[0mout\u001b[0m\u001b[1;33m=\u001b[0m\u001b[1;32mNone\u001b[0m\u001b[1;33m)\u001b[0m\u001b[1;33m:\u001b[0m\u001b[1;33m\u001b[0m\u001b[0m\n",
      "\u001b[1;32mC:\\ProgramData\\Anaconda3\\envs\\tensorflow\\lib\\site-packages\\scipy\\sparse\\compressed.py\u001b[0m in \u001b[0;36mtoarray\u001b[1;34m(self, order, out)\u001b[0m\n\u001b[0;32m    962\u001b[0m     \u001b[1;32mdef\u001b[0m \u001b[0mtoarray\u001b[0m\u001b[1;33m(\u001b[0m\u001b[0mself\u001b[0m\u001b[1;33m,\u001b[0m \u001b[0morder\u001b[0m\u001b[1;33m=\u001b[0m\u001b[1;32mNone\u001b[0m\u001b[1;33m,\u001b[0m \u001b[0mout\u001b[0m\u001b[1;33m=\u001b[0m\u001b[1;32mNone\u001b[0m\u001b[1;33m)\u001b[0m\u001b[1;33m:\u001b[0m\u001b[1;33m\u001b[0m\u001b[0m\n\u001b[0;32m    963\u001b[0m         \u001b[1;34m\"\"\"See the docstring for `spmatrix.toarray`.\"\"\"\u001b[0m\u001b[1;33m\u001b[0m\u001b[0m\n\u001b[1;32m--> 964\u001b[1;33m         \u001b[1;32mreturn\u001b[0m \u001b[0mself\u001b[0m\u001b[1;33m.\u001b[0m\u001b[0mtocoo\u001b[0m\u001b[1;33m(\u001b[0m\u001b[0mcopy\u001b[0m\u001b[1;33m=\u001b[0m\u001b[1;32mFalse\u001b[0m\u001b[1;33m)\u001b[0m\u001b[1;33m.\u001b[0m\u001b[0mtoarray\u001b[0m\u001b[1;33m(\u001b[0m\u001b[0morder\u001b[0m\u001b[1;33m=\u001b[0m\u001b[0morder\u001b[0m\u001b[1;33m,\u001b[0m \u001b[0mout\u001b[0m\u001b[1;33m=\u001b[0m\u001b[0mout\u001b[0m\u001b[1;33m)\u001b[0m\u001b[1;33m\u001b[0m\u001b[0m\n\u001b[0m\u001b[0;32m    965\u001b[0m \u001b[1;33m\u001b[0m\u001b[0m\n\u001b[0;32m    966\u001b[0m     \u001b[1;31m##############################################################\u001b[0m\u001b[1;33m\u001b[0m\u001b[1;33m\u001b[0m\u001b[0m\n",
      "\u001b[1;32mC:\\ProgramData\\Anaconda3\\envs\\tensorflow\\lib\\site-packages\\scipy\\sparse\\coo.py\u001b[0m in \u001b[0;36mtoarray\u001b[1;34m(self, order, out)\u001b[0m\n\u001b[0;32m    250\u001b[0m     \u001b[1;32mdef\u001b[0m \u001b[0mtoarray\u001b[0m\u001b[1;33m(\u001b[0m\u001b[0mself\u001b[0m\u001b[1;33m,\u001b[0m \u001b[0morder\u001b[0m\u001b[1;33m=\u001b[0m\u001b[1;32mNone\u001b[0m\u001b[1;33m,\u001b[0m \u001b[0mout\u001b[0m\u001b[1;33m=\u001b[0m\u001b[1;32mNone\u001b[0m\u001b[1;33m)\u001b[0m\u001b[1;33m:\u001b[0m\u001b[1;33m\u001b[0m\u001b[0m\n\u001b[0;32m    251\u001b[0m         \u001b[1;34m\"\"\"See the docstring for `spmatrix.toarray`.\"\"\"\u001b[0m\u001b[1;33m\u001b[0m\u001b[0m\n\u001b[1;32m--> 252\u001b[1;33m         \u001b[0mB\u001b[0m \u001b[1;33m=\u001b[0m \u001b[0mself\u001b[0m\u001b[1;33m.\u001b[0m\u001b[0m_process_toarray_args\u001b[0m\u001b[1;33m(\u001b[0m\u001b[0morder\u001b[0m\u001b[1;33m,\u001b[0m \u001b[0mout\u001b[0m\u001b[1;33m)\u001b[0m\u001b[1;33m\u001b[0m\u001b[0m\n\u001b[0m\u001b[0;32m    253\u001b[0m         \u001b[0mfortran\u001b[0m \u001b[1;33m=\u001b[0m \u001b[0mint\u001b[0m\u001b[1;33m(\u001b[0m\u001b[0mB\u001b[0m\u001b[1;33m.\u001b[0m\u001b[0mflags\u001b[0m\u001b[1;33m.\u001b[0m\u001b[0mf_contiguous\u001b[0m\u001b[1;33m)\u001b[0m\u001b[1;33m\u001b[0m\u001b[0m\n\u001b[0;32m    254\u001b[0m         \u001b[1;32mif\u001b[0m \u001b[1;32mnot\u001b[0m \u001b[0mfortran\u001b[0m \u001b[1;32mand\u001b[0m \u001b[1;32mnot\u001b[0m \u001b[0mB\u001b[0m\u001b[1;33m.\u001b[0m\u001b[0mflags\u001b[0m\u001b[1;33m.\u001b[0m\u001b[0mc_contiguous\u001b[0m\u001b[1;33m:\u001b[0m\u001b[1;33m\u001b[0m\u001b[0m\n",
      "\u001b[1;32mC:\\ProgramData\\Anaconda3\\envs\\tensorflow\\lib\\site-packages\\scipy\\sparse\\base.py\u001b[0m in \u001b[0;36m_process_toarray_args\u001b[1;34m(self, order, out)\u001b[0m\n\u001b[0;32m   1037\u001b[0m             \u001b[1;32mreturn\u001b[0m \u001b[0mout\u001b[0m\u001b[1;33m\u001b[0m\u001b[0m\n\u001b[0;32m   1038\u001b[0m         \u001b[1;32melse\u001b[0m\u001b[1;33m:\u001b[0m\u001b[1;33m\u001b[0m\u001b[0m\n\u001b[1;32m-> 1039\u001b[1;33m             \u001b[1;32mreturn\u001b[0m \u001b[0mnp\u001b[0m\u001b[1;33m.\u001b[0m\u001b[0mzeros\u001b[0m\u001b[1;33m(\u001b[0m\u001b[0mself\u001b[0m\u001b[1;33m.\u001b[0m\u001b[0mshape\u001b[0m\u001b[1;33m,\u001b[0m \u001b[0mdtype\u001b[0m\u001b[1;33m=\u001b[0m\u001b[0mself\u001b[0m\u001b[1;33m.\u001b[0m\u001b[0mdtype\u001b[0m\u001b[1;33m,\u001b[0m \u001b[0morder\u001b[0m\u001b[1;33m=\u001b[0m\u001b[0morder\u001b[0m\u001b[1;33m)\u001b[0m\u001b[1;33m\u001b[0m\u001b[0m\n\u001b[0m\u001b[0;32m   1040\u001b[0m \u001b[1;33m\u001b[0m\u001b[0m\n\u001b[0;32m   1041\u001b[0m     \u001b[1;32mdef\u001b[0m \u001b[0m__numpy_ufunc__\u001b[0m\u001b[1;33m(\u001b[0m\u001b[0mself\u001b[0m\u001b[1;33m,\u001b[0m \u001b[0mfunc\u001b[0m\u001b[1;33m,\u001b[0m \u001b[0mmethod\u001b[0m\u001b[1;33m,\u001b[0m \u001b[0mpos\u001b[0m\u001b[1;33m,\u001b[0m \u001b[0minputs\u001b[0m\u001b[1;33m,\u001b[0m \u001b[1;33m**\u001b[0m\u001b[0mkwargs\u001b[0m\u001b[1;33m)\u001b[0m\u001b[1;33m:\u001b[0m\u001b[1;33m\u001b[0m\u001b[0m\n",
      "\u001b[1;31mMemoryError\u001b[0m: "
     ]
    }
   ],
   "source": [
    "classifier.fit(tfidf_vectors.todense(), y_train, batch_size=20, steps=600)"
   ]
  },
  {
   "cell_type": "code",
   "execution_count": null,
   "metadata": {
    "collapsed": false,
    "deletable": true,
    "editable": true
   },
   "outputs": [],
   "source": [
    "y_predicted = list(classifier.predict(tfidf.transform(X_test).todense()))"
   ]
  },
  {
   "cell_type": "markdown",
   "metadata": {
    "deletable": true,
    "editable": true
   },
   "source": [
    "#### Confusion matrix\n",
    "By definition a confusion matrix :math:`C` is such that :math:`C_{i, j}`\n",
    "is equal to the number of observations known to be in group :math:`i` but\n",
    "predicted to be in group :math:`j`."
   ]
  },
  {
   "cell_type": "code",
   "execution_count": null,
   "metadata": {
    "collapsed": false,
    "deletable": true,
    "editable": true
   },
   "outputs": [],
   "source": [
    "cm = confusion_matrix(y_test, y_predicted)"
   ]
  },
  {
   "cell_type": "code",
   "execution_count": null,
   "metadata": {
    "collapsed": false,
    "deletable": true,
    "editable": true
   },
   "outputs": [],
   "source": [
    "sns.heatmap(cm, cmap='magma', annot=True, xticklabels=['-1', '0', '1'], yticklabels=['-1', '0', '1'])"
   ]
  },
  {
   "cell_type": "code",
   "execution_count": null,
   "metadata": {
    "collapsed": false,
    "deletable": true,
    "editable": true
   },
   "outputs": [],
   "source": [
    "cr = classification_report(y_test, y_predicted)\n",
    "print(cr)"
   ]
  },
  {
   "cell_type": "code",
   "execution_count": null,
   "metadata": {},
   "outputs": [],
   "source": [
    "accuracy_score(y_test, y_predicted)"
   ]
  },
  {
   "cell_type": "markdown",
   "metadata": {},
   "source": [
    "# Playground"
   ]
  },
  {
   "cell_type": "code",
   "execution_count": null,
   "metadata": {
    "collapsed": false
   },
   "outputs": [],
   "source": [
    "indices = np.argsort(tfidf.idf_)[::-1]\n",
    "features = tfidf.get_feature_names()\n",
    "top_n = 10\n",
    "top_features = [features[i] for i in indices[:top_n]]\n",
    "print(top_features)"
   ]
  }
 ],
 "metadata": {
  "kernelspec": {
   "display_name": "Python 3",
   "language": "python",
   "name": "python3"
  },
  "language_info": {
   "codemirror_mode": {
    "name": "ipython",
    "version": 3
   },
   "file_extension": ".py",
   "mimetype": "text/x-python",
   "name": "python",
   "nbconvert_exporter": "python",
   "pygments_lexer": "ipython3",
   "version": "3.5.3"
  }
 },
 "nbformat": 4,
 "nbformat_minor": 2
}
