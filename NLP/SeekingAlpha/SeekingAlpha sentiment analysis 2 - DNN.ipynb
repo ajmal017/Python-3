{
 "cells": [
  {
   "cell_type": "code",
   "execution_count": 1,
   "metadata": {
    "collapsed": false,
    "deletable": true,
    "editable": true
   },
   "outputs": [],
   "source": [
    "from sklearn.feature_extraction.text import CountVectorizer, TfidfTransformer\n",
    "from sklearn.model_selection import train_test_split\n",
    "from sklearn.pipeline import Pipeline\n",
    "from sklearn.preprocessing import FunctionTransformer\n",
    "import tensorflow as tf\n",
    "import tensorflow.contrib.learn as learn\n",
    "from sklearn.metrics import classification_report, confusion_matrix, precision_score"
   ]
  },
  {
   "cell_type": "code",
   "execution_count": 2,
   "metadata": {
    "collapsed": true,
    "deletable": true,
    "editable": true
   },
   "outputs": [],
   "source": [
    "import pandas as pd\n",
    "import numpy as np\n",
    "import matplotlib.pyplot as plt\n",
    "import seaborn as sns\n",
    "%matplotlib inline"
   ]
  },
  {
   "cell_type": "code",
   "execution_count": 3,
   "metadata": {
    "collapsed": false,
    "deletable": true,
    "editable": true
   },
   "outputs": [],
   "source": [
    "from pymongo import MongoClient\n",
    "import ystockquote"
   ]
  },
  {
   "cell_type": "code",
   "execution_count": 4,
   "metadata": {
    "collapsed": true,
    "deletable": true,
    "editable": true
   },
   "outputs": [],
   "source": [
    "from datetime import datetime, timedelta, timezone\n",
    "import pytz\n",
    "import math"
   ]
  },
  {
   "cell_type": "markdown",
   "metadata": {
    "deletable": true,
    "editable": true
   },
   "source": [
    "# Load transcripts"
   ]
  },
  {
   "cell_type": "code",
   "execution_count": 5,
   "metadata": {
    "collapsed": false,
    "deletable": true,
    "editable": true
   },
   "outputs": [],
   "source": [
    "client = MongoClient('localhost', 27017)\n",
    "earnings_transcript_collection = client.python_import.earnings_transcript"
   ]
  },
  {
   "cell_type": "code",
   "execution_count": 6,
   "metadata": {
    "collapsed": false,
    "deletable": true,
    "editable": true
   },
   "outputs": [],
   "source": [
    "earnings_transcript = pd.DataFrame(list(earnings_transcript_collection.find()))\n",
    "earnings_transcript.drop('_id', axis=1, inplace=True)"
   ]
  },
  {
   "cell_type": "code",
   "execution_count": 7,
   "metadata": {
    "collapsed": true,
    "deletable": true,
    "editable": true
   },
   "outputs": [],
   "source": [
    "earnings_transcript['shifted_publishDate'] = earnings_transcript.apply(\n",
    "    lambda row: datetime.strptime(row['publishDate'], '%Y-%m-%dT%H:%M:%SZ'), axis=1\n",
    ")"
   ]
  },
  {
   "cell_type": "code",
   "execution_count": 8,
   "metadata": {
    "collapsed": true,
    "deletable": true,
    "editable": true
   },
   "outputs": [],
   "source": [
    "local_tz = pytz.timezone('US/Eastern')\n",
    "def utc_to_local(utc_dt):\n",
    "    local_dt = utc_dt.replace(tzinfo=pytz.utc).astimezone(local_tz)\n",
    "    return local_tz.normalize(local_dt)"
   ]
  },
  {
   "cell_type": "code",
   "execution_count": 9,
   "metadata": {
    "collapsed": false,
    "deletable": true,
    "editable": true
   },
   "outputs": [],
   "source": [
    "earnings_transcript['shifted_publishDate'] = earnings_transcript.apply(\n",
    "    lambda row: utc_to_local(row['shifted_publishDate']), axis=1\n",
    ")"
   ]
  },
  {
   "cell_type": "code",
   "execution_count": 10,
   "metadata": {
    "collapsed": true
   },
   "outputs": [],
   "source": [
    "def shift_time_according_to_closing_time(dt):\n",
    "    if dt.hour >= 16:\n",
    "        return dt + timedelta(days=1)\n",
    "    return dt"
   ]
  },
  {
   "cell_type": "code",
   "execution_count": 11,
   "metadata": {
    "collapsed": true
   },
   "outputs": [],
   "source": [
    "earnings_transcript['shifted_publishDate'] = earnings_transcript.apply(\n",
    "    lambda row: shift_time_according_to_closing_time(row['shifted_publishDate']), axis=1\n",
    ")"
   ]
  },
  {
   "cell_type": "code",
   "execution_count": 12,
   "metadata": {
    "collapsed": false,
    "deletable": true,
    "editable": true
   },
   "outputs": [
    {
     "data": {
      "text/html": [
       "<div>\n",
       "<table border=\"1\" class=\"dataframe\">\n",
       "  <thead>\n",
       "    <tr style=\"text-align: right;\">\n",
       "      <th></th>\n",
       "      <th>publishDate</th>\n",
       "      <th>qAndAText</th>\n",
       "      <th>rawText</th>\n",
       "      <th>tradingSymbol</th>\n",
       "      <th>url</th>\n",
       "      <th>shifted_publishDate</th>\n",
       "      <th>publishDate_str</th>\n",
       "    </tr>\n",
       "  </thead>\n",
       "  <tbody>\n",
       "    <tr>\n",
       "      <th>0</th>\n",
       "      <td>2016-07-27T01:01:38Z</td>\n",
       "      <td>Operator Your first question will come from Sh...</td>\n",
       "      <td>Apple, Inc. (NASDAQ: AAPL ) Q3 2016 Earnings C...</td>\n",
       "      <td>AAPL</td>\n",
       "      <td>https://seekingalpha.com/article/3991811-apple...</td>\n",
       "      <td>2016-07-27 21:01:38-04:00</td>\n",
       "      <td>2016-07-27</td>\n",
       "    </tr>\n",
       "  </tbody>\n",
       "</table>\n",
       "</div>"
      ],
      "text/plain": [
       "            publishDate                                          qAndAText  \\\n",
       "0  2016-07-27T01:01:38Z  Operator Your first question will come from Sh...   \n",
       "\n",
       "                                             rawText tradingSymbol  \\\n",
       "0  Apple, Inc. (NASDAQ: AAPL ) Q3 2016 Earnings C...          AAPL   \n",
       "\n",
       "                                                 url  \\\n",
       "0  https://seekingalpha.com/article/3991811-apple...   \n",
       "\n",
       "        shifted_publishDate publishDate_str  \n",
       "0 2016-07-27 21:01:38-04:00      2016-07-27  "
      ]
     },
     "execution_count": 12,
     "metadata": {},
     "output_type": "execute_result"
    }
   ],
   "source": [
    "earnings_transcript['publishDate_str'] = earnings_transcript.apply(\n",
    "    lambda row: str(row['shifted_publishDate'].date()), \n",
    "    axis=1)\n",
    "earnings_transcript.head(1)"
   ]
  },
  {
   "cell_type": "code",
   "execution_count": 13,
   "metadata": {
    "collapsed": false,
    "deletable": true,
    "editable": true
   },
   "outputs": [
    {
     "data": {
      "text/html": [
       "<div>\n",
       "<table border=\"1\" class=\"dataframe\">\n",
       "  <thead>\n",
       "    <tr style=\"text-align: right;\">\n",
       "      <th></th>\n",
       "      <th></th>\n",
       "      <th>publishDate</th>\n",
       "      <th>qAndAText</th>\n",
       "      <th>rawText</th>\n",
       "      <th>url</th>\n",
       "      <th>shifted_publishDate</th>\n",
       "    </tr>\n",
       "    <tr>\n",
       "      <th>tradingSymbol</th>\n",
       "      <th>publishDate_str</th>\n",
       "      <th></th>\n",
       "      <th></th>\n",
       "      <th></th>\n",
       "      <th></th>\n",
       "      <th></th>\n",
       "    </tr>\n",
       "  </thead>\n",
       "  <tbody>\n",
       "    <tr>\n",
       "      <th rowspan=\"2\" valign=\"top\">AAPL</th>\n",
       "      <th>2016-07-27</th>\n",
       "      <td>2016-07-27T01:01:38Z</td>\n",
       "      <td>Operator Your first question will come from Sh...</td>\n",
       "      <td>Apple, Inc. (NASDAQ: AAPL ) Q3 2016 Earnings C...</td>\n",
       "      <td>https://seekingalpha.com/article/3991811-apple...</td>\n",
       "      <td>2016-07-27 21:01:38-04:00</td>\n",
       "    </tr>\n",
       "    <tr>\n",
       "      <th>2012-10-26</th>\n",
       "      <td>2012-10-26T01:33:03Z</td>\n",
       "      <td>Operator (Operator Instructions) Your first qu...</td>\n",
       "      <td>Apple Inc. (NASDAQ: AAPL ) F4Q12 Earnings Call...</td>\n",
       "      <td>https://seekingalpha.com/article/952971-apples...</td>\n",
       "      <td>2012-10-26 21:33:03-04:00</td>\n",
       "    </tr>\n",
       "  </tbody>\n",
       "</table>\n",
       "</div>"
      ],
      "text/plain": [
       "                                        publishDate  \\\n",
       "tradingSymbol publishDate_str                         \n",
       "AAPL          2016-07-27       2016-07-27T01:01:38Z   \n",
       "              2012-10-26       2012-10-26T01:33:03Z   \n",
       "\n",
       "                                                                       qAndAText  \\\n",
       "tradingSymbol publishDate_str                                                      \n",
       "AAPL          2016-07-27       Operator Your first question will come from Sh...   \n",
       "              2012-10-26       Operator (Operator Instructions) Your first qu...   \n",
       "\n",
       "                                                                         rawText  \\\n",
       "tradingSymbol publishDate_str                                                      \n",
       "AAPL          2016-07-27       Apple, Inc. (NASDAQ: AAPL ) Q3 2016 Earnings C...   \n",
       "              2012-10-26       Apple Inc. (NASDAQ: AAPL ) F4Q12 Earnings Call...   \n",
       "\n",
       "                                                                             url  \\\n",
       "tradingSymbol publishDate_str                                                      \n",
       "AAPL          2016-07-27       https://seekingalpha.com/article/3991811-apple...   \n",
       "              2012-10-26       https://seekingalpha.com/article/952971-apples...   \n",
       "\n",
       "                                    shifted_publishDate  \n",
       "tradingSymbol publishDate_str                            \n",
       "AAPL          2016-07-27      2016-07-27 21:01:38-04:00  \n",
       "              2012-10-26      2012-10-26 21:33:03-04:00  "
      ]
     },
     "execution_count": 13,
     "metadata": {},
     "output_type": "execute_result"
    }
   ],
   "source": [
    "earnings_transcript.set_index(['tradingSymbol', 'publishDate_str'], inplace=True)\n",
    "earnings_transcript.head(2)"
   ]
  },
  {
   "cell_type": "code",
   "execution_count": 14,
   "metadata": {
    "collapsed": false,
    "deletable": true,
    "editable": true
   },
   "outputs": [
    {
     "data": {
      "text/html": [
       "<div>\n",
       "<table border=\"1\" class=\"dataframe\">\n",
       "  <thead>\n",
       "    <tr style=\"text-align: right;\">\n",
       "      <th></th>\n",
       "      <th></th>\n",
       "      <th>publishDate</th>\n",
       "      <th>qAndAText</th>\n",
       "      <th>rawText</th>\n",
       "      <th>url</th>\n",
       "      <th>shifted_publishDate</th>\n",
       "    </tr>\n",
       "    <tr>\n",
       "      <th>tradingSymbol</th>\n",
       "      <th>publishDate_str</th>\n",
       "      <th></th>\n",
       "      <th></th>\n",
       "      <th></th>\n",
       "      <th></th>\n",
       "      <th></th>\n",
       "    </tr>\n",
       "  </thead>\n",
       "  <tbody>\n",
       "    <tr>\n",
       "      <th rowspan=\"2\" valign=\"top\">VRML</th>\n",
       "      <th>2013-05-16</th>\n",
       "      <td>2013-05-15T22:20:04Z</td>\n",
       "      <td>Operator [Operator Instructions] Our first que...</td>\n",
       "      <td>Vermillion (NASDAQ: VRML ) Q1 2013 Earnings Ca...</td>\n",
       "      <td>https://seekingalpha.com/article/1438321-vermi...</td>\n",
       "      <td>2013-05-16 18:20:04-04:00</td>\n",
       "    </tr>\n",
       "    <tr>\n",
       "      <th>2013-08-15</th>\n",
       "      <td>2013-08-14T20:26:56Z</td>\n",
       "      <td></td>\n",
       "      <td>The following audio is from an earnings confer...</td>\n",
       "      <td>https://seekingalpha.com/article/1634312-vermi...</td>\n",
       "      <td>2013-08-15 16:26:56-04:00</td>\n",
       "    </tr>\n",
       "  </tbody>\n",
       "</table>\n",
       "</div>"
      ],
      "text/plain": [
       "                                        publishDate  \\\n",
       "tradingSymbol publishDate_str                         \n",
       "VRML          2013-05-16       2013-05-15T22:20:04Z   \n",
       "              2013-08-15       2013-08-14T20:26:56Z   \n",
       "\n",
       "                                                                       qAndAText  \\\n",
       "tradingSymbol publishDate_str                                                      \n",
       "VRML          2013-05-16       Operator [Operator Instructions] Our first que...   \n",
       "              2013-08-15                                                           \n",
       "\n",
       "                                                                         rawText  \\\n",
       "tradingSymbol publishDate_str                                                      \n",
       "VRML          2013-05-16       Vermillion (NASDAQ: VRML ) Q1 2013 Earnings Ca...   \n",
       "              2013-08-15       The following audio is from an earnings confer...   \n",
       "\n",
       "                                                                             url  \\\n",
       "tradingSymbol publishDate_str                                                      \n",
       "VRML          2013-05-16       https://seekingalpha.com/article/1438321-vermi...   \n",
       "              2013-08-15       https://seekingalpha.com/article/1634312-vermi...   \n",
       "\n",
       "                                    shifted_publishDate  \n",
       "tradingSymbol publishDate_str                            \n",
       "VRML          2013-05-16      2013-05-16 18:20:04-04:00  \n",
       "              2013-08-15      2013-08-15 16:26:56-04:00  "
      ]
     },
     "execution_count": 14,
     "metadata": {},
     "output_type": "execute_result"
    }
   ],
   "source": [
    "earnings_transcript.tail(2)"
   ]
  },
  {
   "cell_type": "markdown",
   "metadata": {
    "deletable": true,
    "editable": true
   },
   "source": [
    "### Load all ticker data for transcripts"
   ]
  },
  {
   "cell_type": "code",
   "execution_count": 15,
   "metadata": {
    "collapsed": false,
    "deletable": true,
    "editable": true
   },
   "outputs": [
    {
     "data": {
      "text/plain": [
       "Index(['AAPL', 'ADBE', 'AMD', 'BLDP', 'GOOG', 'VRML'], dtype='object', name='tradingSymbol')"
      ]
     },
     "execution_count": 15,
     "metadata": {},
     "output_type": "execute_result"
    }
   ],
   "source": [
    "earnings_transcript.index.levels[0]"
   ]
  },
  {
   "cell_type": "code",
   "execution_count": 16,
   "metadata": {
    "collapsed": true,
    "deletable": true,
    "editable": true
   },
   "outputs": [],
   "source": [
    "class Applyer:\n",
    "    \n",
    "    label = ''\n",
    "    label_to_check_against = None\n",
    "    \n",
    "    @staticmethod\n",
    "    def label_calc(row):\n",
    "        \n",
    "        val_to_check = 0\n",
    "        if Applyer.label_to_check_against is not None:\n",
    "            val_to_check = row[Applyer.label_to_check_against]\n",
    "        \n",
    "        if math.isnan(row[Applyer.label]) or math.isnan(val_to_check):\n",
    "            return 0\n",
    "\n",
    "        if abs(row[Applyer.label]) >= val_to_check:\n",
    "            if row[Applyer.label] <= 0:\n",
    "                return -1\n",
    "            else:\n",
    "                return 1\n",
    "        else:\n",
    "            return 0\n",
    "    \n",
    "    @staticmethod\n",
    "    def all_label_calc(df):\n",
    "        df['Std Dev'] = pd.Series(data=df['Close']).rolling(window=20,center=False).std()\n",
    "\n",
    "        df['1day return'] = df['Close'].shift(-1) - df['Close']\n",
    "        df['5day return'] = df['Close'].shift(-5) - df['Close']\n",
    "\n",
    "        Applyer.label_to_check_against = None\n",
    "\n",
    "        Applyer.label = '1day return'\n",
    "        df['1day label'] = df.apply(Applyer.label_calc, axis=1)\n",
    "        Applyer.label = '5day return'\n",
    "        df['5day label'] = df.apply(Applyer.label_calc, axis=1)\n",
    "\n",
    "        Applyer.label_to_check_against = 'Std Dev'\n",
    "\n",
    "        Applyer.label = '1day return'\n",
    "        df['1day significant label'] = df.apply(Applyer.label_calc, axis=1)\n",
    "        Applyer.label = '5day return'\n",
    "        df['5day significant label'] = df.apply(Applyer.label_calc, axis=1)"
   ]
  },
  {
   "cell_type": "code",
   "execution_count": 17,
   "metadata": {
    "collapsed": false,
    "deletable": true,
    "editable": true
   },
   "outputs": [
    {
     "name": "stdout",
     "output_type": "stream",
     "text": [
      "AAPL ticker has 4341 long list\n",
      "ADBE ticker has 4341 long list\n",
      "AMD ticker has 4341 long list\n",
      "BLDP ticker has 4341 long list\n",
      "GOOG ticker has 3179 long list\n",
      "VRML ticker has 4152 long list\n"
     ]
    }
   ],
   "source": [
    "tickers = earnings_transcript.index.levels[0]\n",
    "all_stocks = None\n",
    "for ticker in tickers:\n",
    "    stocks = ystockquote.get_historical_prices(ticker, '2000-01-01', '2017-12-31')\n",
    "    print('{} ticker has {} long list'.format(ticker, len(stocks)))\n",
    "    df = pd.DataFrame(stocks).transpose()\n",
    "    if 'Adj Close' in df.columns:\n",
    "        df['Close'] = pd.to_numeric(df['Adj Close'], errors='ignore')\n",
    "    elif 'Close' in df.columns:\n",
    "        df['Close'] = pd.to_numeric(df['Close'], errors='ignore')\n",
    "    else:\n",
    "        print('{} is not available'.format(ticker))\n",
    "        continue\n",
    "    df.drop(axis=1, labels=[col for col in df.columns if col not in ['Close']], inplace=True)\n",
    "    indexes = pd.MultiIndex.from_product([[ticker], df.index.values.tolist()], names=['tradingSymbol', 'publishDate_str'])\n",
    "    df.set_index(indexes, inplace=True)\n",
    "    \n",
    "    Applyer.all_label_calc(df)\n",
    "    df.dropna(inplace=True)\n",
    "    \n",
    "    if all_stocks is None:\n",
    "        all_stocks = df\n",
    "    else:\n",
    "        all_stocks = all_stocks.append(df)"
   ]
  },
  {
   "cell_type": "code",
   "execution_count": 18,
   "metadata": {
    "collapsed": false,
    "deletable": true,
    "editable": true
   },
   "outputs": [
    {
     "data": {
      "text/plain": [
       "24551"
      ]
     },
     "execution_count": 18,
     "metadata": {},
     "output_type": "execute_result"
    }
   ],
   "source": [
    "len(all_stocks)"
   ]
  },
  {
   "cell_type": "code",
   "execution_count": 19,
   "metadata": {
    "collapsed": false,
    "deletable": true,
    "editable": true
   },
   "outputs": [
    {
     "data": {
      "text/html": [
       "<div>\n",
       "<table border=\"1\" class=\"dataframe\">\n",
       "  <thead>\n",
       "    <tr style=\"text-align: right;\">\n",
       "      <th></th>\n",
       "      <th></th>\n",
       "      <th>Close</th>\n",
       "      <th>Std Dev</th>\n",
       "      <th>1day return</th>\n",
       "      <th>5day return</th>\n",
       "      <th>1day label</th>\n",
       "      <th>5day label</th>\n",
       "      <th>1day significant label</th>\n",
       "      <th>5day significant label</th>\n",
       "    </tr>\n",
       "    <tr>\n",
       "      <th>tradingSymbol</th>\n",
       "      <th>publishDate_str</th>\n",
       "      <th></th>\n",
       "      <th></th>\n",
       "      <th></th>\n",
       "      <th></th>\n",
       "      <th></th>\n",
       "      <th></th>\n",
       "      <th></th>\n",
       "      <th></th>\n",
       "    </tr>\n",
       "  </thead>\n",
       "  <tbody>\n",
       "    <tr>\n",
       "      <th>ADBE</th>\n",
       "      <th>2008-09-08</th>\n",
       "      <td>41.610001</td>\n",
       "      <td>1.387527</td>\n",
       "      <td>-0.820000</td>\n",
       "      <td>-3.529999</td>\n",
       "      <td>-1</td>\n",
       "      <td>-1</td>\n",
       "      <td>0</td>\n",
       "      <td>-1</td>\n",
       "    </tr>\n",
       "    <tr>\n",
       "      <th rowspan=\"2\" valign=\"top\">AMD</th>\n",
       "      <th>2010-01-04</th>\n",
       "      <td>9.700000</td>\n",
       "      <td>0.571801</td>\n",
       "      <td>0.010000</td>\n",
       "      <td>-0.560000</td>\n",
       "      <td>1</td>\n",
       "      <td>-1</td>\n",
       "      <td>0</td>\n",
       "      <td>0</td>\n",
       "    </tr>\n",
       "    <tr>\n",
       "      <th>2010-01-06</th>\n",
       "      <td>9.570000</td>\n",
       "      <td>0.470994</td>\n",
       "      <td>-0.100000</td>\n",
       "      <td>-0.420000</td>\n",
       "      <td>-1</td>\n",
       "      <td>-1</td>\n",
       "      <td>0</td>\n",
       "      <td>0</td>\n",
       "    </tr>\n",
       "    <tr>\n",
       "      <th>VRML</th>\n",
       "      <th>2013-01-31</th>\n",
       "      <td>1.270000</td>\n",
       "      <td>0.046439</td>\n",
       "      <td>-0.010000</td>\n",
       "      <td>-0.020000</td>\n",
       "      <td>-1</td>\n",
       "      <td>-1</td>\n",
       "      <td>0</td>\n",
       "      <td>0</td>\n",
       "    </tr>\n",
       "    <tr>\n",
       "      <th>BLDP</th>\n",
       "      <th>2003-10-10</th>\n",
       "      <td>14.880000</td>\n",
       "      <td>0.715876</td>\n",
       "      <td>-0.480000</td>\n",
       "      <td>-0.720000</td>\n",
       "      <td>-1</td>\n",
       "      <td>-1</td>\n",
       "      <td>0</td>\n",
       "      <td>-1</td>\n",
       "    </tr>\n",
       "    <tr>\n",
       "      <th>AMD</th>\n",
       "      <th>2007-08-30</th>\n",
       "      <td>12.420000</td>\n",
       "      <td>0.498597</td>\n",
       "      <td>0.580000</td>\n",
       "      <td>0.190000</td>\n",
       "      <td>1</td>\n",
       "      <td>1</td>\n",
       "      <td>1</td>\n",
       "      <td>0</td>\n",
       "    </tr>\n",
       "    <tr>\n",
       "      <th>GOOG</th>\n",
       "      <th>2008-08-26</th>\n",
       "      <td>236.843566</td>\n",
       "      <td>6.404768</td>\n",
       "      <td>-2.787223</td>\n",
       "      <td>-4.870139</td>\n",
       "      <td>-1</td>\n",
       "      <td>-1</td>\n",
       "      <td>0</td>\n",
       "      <td>0</td>\n",
       "    </tr>\n",
       "    <tr>\n",
       "      <th>ADBE</th>\n",
       "      <th>2011-11-08</th>\n",
       "      <td>30.420000</td>\n",
       "      <td>1.561126</td>\n",
       "      <td>-2.340000</td>\n",
       "      <td>-1.950001</td>\n",
       "      <td>-1</td>\n",
       "      <td>-1</td>\n",
       "      <td>-1</td>\n",
       "      <td>-1</td>\n",
       "    </tr>\n",
       "    <tr>\n",
       "      <th>VRML</th>\n",
       "      <th>2015-02-05</th>\n",
       "      <td>1.850000</td>\n",
       "      <td>0.097844</td>\n",
       "      <td>0.000000</td>\n",
       "      <td>0.110000</td>\n",
       "      <td>-1</td>\n",
       "      <td>1</td>\n",
       "      <td>0</td>\n",
       "      <td>1</td>\n",
       "    </tr>\n",
       "    <tr>\n",
       "      <th>AAPL</th>\n",
       "      <th>2001-11-09</th>\n",
       "      <td>1.212030</td>\n",
       "      <td>0.045376</td>\n",
       "      <td>0.002591</td>\n",
       "      <td>0.016842</td>\n",
       "      <td>1</td>\n",
       "      <td>1</td>\n",
       "      <td>0</td>\n",
       "      <td>0</td>\n",
       "    </tr>\n",
       "    <tr>\n",
       "      <th>GOOG</th>\n",
       "      <th>2007-09-12</th>\n",
       "      <td>261.064388</td>\n",
       "      <td>4.950450</td>\n",
       "      <td>1.063919</td>\n",
       "      <td>12.087927</td>\n",
       "      <td>1</td>\n",
       "      <td>1</td>\n",
       "      <td>0</td>\n",
       "      <td>1</td>\n",
       "    </tr>\n",
       "    <tr>\n",
       "      <th>AAPL</th>\n",
       "      <th>2011-12-06</th>\n",
       "      <td>50.651305</td>\n",
       "      <td>1.356701</td>\n",
       "      <td>-0.240979</td>\n",
       "      <td>-0.277257</td>\n",
       "      <td>-1</td>\n",
       "      <td>-1</td>\n",
       "      <td>0</td>\n",
       "      <td>0</td>\n",
       "    </tr>\n",
       "    <tr>\n",
       "      <th>AMD</th>\n",
       "      <th>2002-08-30</th>\n",
       "      <td>8.850000</td>\n",
       "      <td>0.815586</td>\n",
       "      <td>-0.590000</td>\n",
       "      <td>-0.880000</td>\n",
       "      <td>-1</td>\n",
       "      <td>-1</td>\n",
       "      <td>0</td>\n",
       "      <td>-1</td>\n",
       "    </tr>\n",
       "    <tr>\n",
       "      <th>BLDP</th>\n",
       "      <th>2010-06-14</th>\n",
       "      <td>1.780000</td>\n",
       "      <td>0.133081</td>\n",
       "      <td>0.060000</td>\n",
       "      <td>0.020000</td>\n",
       "      <td>1</td>\n",
       "      <td>1</td>\n",
       "      <td>0</td>\n",
       "      <td>0</td>\n",
       "    </tr>\n",
       "    <tr>\n",
       "      <th>ADBE</th>\n",
       "      <th>2016-01-27</th>\n",
       "      <td>84.849998</td>\n",
       "      <td>2.779155</td>\n",
       "      <td>-0.330001</td>\n",
       "      <td>3.140000</td>\n",
       "      <td>-1</td>\n",
       "      <td>1</td>\n",
       "      <td>0</td>\n",
       "      <td>1</td>\n",
       "    </tr>\n",
       "    <tr>\n",
       "      <th>AMD</th>\n",
       "      <th>2010-09-07</th>\n",
       "      <td>5.950000</td>\n",
       "      <td>0.347214</td>\n",
       "      <td>-0.120000</td>\n",
       "      <td>0.320000</td>\n",
       "      <td>-1</td>\n",
       "      <td>1</td>\n",
       "      <td>0</td>\n",
       "      <td>0</td>\n",
       "    </tr>\n",
       "    <tr>\n",
       "      <th>AAPL</th>\n",
       "      <th>2000-08-17</th>\n",
       "      <td>3.332110</td>\n",
       "      <td>0.124041</td>\n",
       "      <td>-0.093121</td>\n",
       "      <td>0.302638</td>\n",
       "      <td>-1</td>\n",
       "      <td>1</td>\n",
       "      <td>0</td>\n",
       "      <td>1</td>\n",
       "    </tr>\n",
       "    <tr>\n",
       "      <th>AMD</th>\n",
       "      <th>2011-08-23</th>\n",
       "      <td>6.500000</td>\n",
       "      <td>0.564866</td>\n",
       "      <td>-0.160000</td>\n",
       "      <td>0.340000</td>\n",
       "      <td>-1</td>\n",
       "      <td>1</td>\n",
       "      <td>0</td>\n",
       "      <td>0</td>\n",
       "    </tr>\n",
       "    <tr>\n",
       "      <th>AAPL</th>\n",
       "      <th>2002-06-27</th>\n",
       "      <td>1.105143</td>\n",
       "      <td>0.153203</td>\n",
       "      <td>0.042755</td>\n",
       "      <td>0.108830</td>\n",
       "      <td>1</td>\n",
       "      <td>1</td>\n",
       "      <td>0</td>\n",
       "      <td>0</td>\n",
       "    </tr>\n",
       "    <tr>\n",
       "      <th>GOOG</th>\n",
       "      <th>2010-09-16</th>\n",
       "      <td>240.290127</td>\n",
       "      <td>5.469842</td>\n",
       "      <td>4.540469</td>\n",
       "      <td>16.193826</td>\n",
       "      <td>1</td>\n",
       "      <td>1</td>\n",
       "      <td>0</td>\n",
       "      <td>1</td>\n",
       "    </tr>\n",
       "  </tbody>\n",
       "</table>\n",
       "</div>"
      ],
      "text/plain": [
       "                                    Close   Std Dev  1day return  5day return  \\\n",
       "tradingSymbol publishDate_str                                                   \n",
       "ADBE          2008-09-08        41.610001  1.387527    -0.820000    -3.529999   \n",
       "AMD           2010-01-04         9.700000  0.571801     0.010000    -0.560000   \n",
       "              2010-01-06         9.570000  0.470994    -0.100000    -0.420000   \n",
       "VRML          2013-01-31         1.270000  0.046439    -0.010000    -0.020000   \n",
       "BLDP          2003-10-10        14.880000  0.715876    -0.480000    -0.720000   \n",
       "AMD           2007-08-30        12.420000  0.498597     0.580000     0.190000   \n",
       "GOOG          2008-08-26       236.843566  6.404768    -2.787223    -4.870139   \n",
       "ADBE          2011-11-08        30.420000  1.561126    -2.340000    -1.950001   \n",
       "VRML          2015-02-05         1.850000  0.097844     0.000000     0.110000   \n",
       "AAPL          2001-11-09         1.212030  0.045376     0.002591     0.016842   \n",
       "GOOG          2007-09-12       261.064388  4.950450     1.063919    12.087927   \n",
       "AAPL          2011-12-06        50.651305  1.356701    -0.240979    -0.277257   \n",
       "AMD           2002-08-30         8.850000  0.815586    -0.590000    -0.880000   \n",
       "BLDP          2010-06-14         1.780000  0.133081     0.060000     0.020000   \n",
       "ADBE          2016-01-27        84.849998  2.779155    -0.330001     3.140000   \n",
       "AMD           2010-09-07         5.950000  0.347214    -0.120000     0.320000   \n",
       "AAPL          2000-08-17         3.332110  0.124041    -0.093121     0.302638   \n",
       "AMD           2011-08-23         6.500000  0.564866    -0.160000     0.340000   \n",
       "AAPL          2002-06-27         1.105143  0.153203     0.042755     0.108830   \n",
       "GOOG          2010-09-16       240.290127  5.469842     4.540469    16.193826   \n",
       "\n",
       "                               1day label  5day label  1day significant label  \\\n",
       "tradingSymbol publishDate_str                                                   \n",
       "ADBE          2008-09-08               -1          -1                       0   \n",
       "AMD           2010-01-04                1          -1                       0   \n",
       "              2010-01-06               -1          -1                       0   \n",
       "VRML          2013-01-31               -1          -1                       0   \n",
       "BLDP          2003-10-10               -1          -1                       0   \n",
       "AMD           2007-08-30                1           1                       1   \n",
       "GOOG          2008-08-26               -1          -1                       0   \n",
       "ADBE          2011-11-08               -1          -1                      -1   \n",
       "VRML          2015-02-05               -1           1                       0   \n",
       "AAPL          2001-11-09                1           1                       0   \n",
       "GOOG          2007-09-12                1           1                       0   \n",
       "AAPL          2011-12-06               -1          -1                       0   \n",
       "AMD           2002-08-30               -1          -1                       0   \n",
       "BLDP          2010-06-14                1           1                       0   \n",
       "ADBE          2016-01-27               -1           1                       0   \n",
       "AMD           2010-09-07               -1           1                       0   \n",
       "AAPL          2000-08-17               -1           1                       0   \n",
       "AMD           2011-08-23               -1           1                       0   \n",
       "AAPL          2002-06-27                1           1                       0   \n",
       "GOOG          2010-09-16                1           1                       0   \n",
       "\n",
       "                               5day significant label  \n",
       "tradingSymbol publishDate_str                          \n",
       "ADBE          2008-09-08                           -1  \n",
       "AMD           2010-01-04                            0  \n",
       "              2010-01-06                            0  \n",
       "VRML          2013-01-31                            0  \n",
       "BLDP          2003-10-10                           -1  \n",
       "AMD           2007-08-30                            0  \n",
       "GOOG          2008-08-26                            0  \n",
       "ADBE          2011-11-08                           -1  \n",
       "VRML          2015-02-05                            1  \n",
       "AAPL          2001-11-09                            0  \n",
       "GOOG          2007-09-12                            1  \n",
       "AAPL          2011-12-06                            0  \n",
       "AMD           2002-08-30                           -1  \n",
       "BLDP          2010-06-14                            0  \n",
       "ADBE          2016-01-27                            1  \n",
       "AMD           2010-09-07                            0  \n",
       "AAPL          2000-08-17                            1  \n",
       "AMD           2011-08-23                            0  \n",
       "AAPL          2002-06-27                            0  \n",
       "GOOG          2010-09-16                            1  "
      ]
     },
     "execution_count": 19,
     "metadata": {},
     "output_type": "execute_result"
    }
   ],
   "source": [
    "all_stocks.sample(20)"
   ]
  },
  {
   "cell_type": "markdown",
   "metadata": {
    "deletable": true,
    "editable": true
   },
   "source": [
    "# Merge transcripts with stock data"
   ]
  },
  {
   "cell_type": "code",
   "execution_count": 20,
   "metadata": {
    "collapsed": false,
    "deletable": true,
    "editable": true
   },
   "outputs": [],
   "source": [
    "earnings_transcript = earnings_transcript.merge(all_stocks, left_index=True, right_index=True)"
   ]
  },
  {
   "cell_type": "code",
   "execution_count": 21,
   "metadata": {
    "collapsed": false,
    "deletable": true,
    "editable": true
   },
   "outputs": [
    {
     "data": {
      "text/html": [
       "<div>\n",
       "<table border=\"1\" class=\"dataframe\">\n",
       "  <thead>\n",
       "    <tr style=\"text-align: right;\">\n",
       "      <th></th>\n",
       "      <th></th>\n",
       "      <th>publishDate</th>\n",
       "      <th>qAndAText</th>\n",
       "      <th>rawText</th>\n",
       "      <th>url</th>\n",
       "      <th>shifted_publishDate</th>\n",
       "      <th>Close</th>\n",
       "      <th>Std Dev</th>\n",
       "      <th>1day return</th>\n",
       "      <th>5day return</th>\n",
       "      <th>1day label</th>\n",
       "      <th>5day label</th>\n",
       "      <th>1day significant label</th>\n",
       "      <th>5day significant label</th>\n",
       "    </tr>\n",
       "    <tr>\n",
       "      <th>tradingSymbol</th>\n",
       "      <th>publishDate_str</th>\n",
       "      <th></th>\n",
       "      <th></th>\n",
       "      <th></th>\n",
       "      <th></th>\n",
       "      <th></th>\n",
       "      <th></th>\n",
       "      <th></th>\n",
       "      <th></th>\n",
       "      <th></th>\n",
       "      <th></th>\n",
       "      <th></th>\n",
       "      <th></th>\n",
       "      <th></th>\n",
       "    </tr>\n",
       "  </thead>\n",
       "  <tbody>\n",
       "    <tr>\n",
       "      <th>AMD</th>\n",
       "      <th>2010-04-16</th>\n",
       "      <td>2010-04-16T01:48:10Z</td>\n",
       "      <td>Operator (Operator Instructions) Your first qu...</td>\n",
       "      <td>Advanced Micro Devices, Inc. (NASDAQ: AMD ) Q1...</td>\n",
       "      <td>https://seekingalpha.com/article/199031-advanc...</td>\n",
       "      <td>2010-04-16 21:48:10-04:00</td>\n",
       "      <td>9.810000</td>\n",
       "      <td>0.292831</td>\n",
       "      <td>-0.230000</td>\n",
       "      <td>-0.050000</td>\n",
       "      <td>-1</td>\n",
       "      <td>-1</td>\n",
       "      <td>0</td>\n",
       "      <td>0</td>\n",
       "    </tr>\n",
       "    <tr>\n",
       "      <th>AAPL</th>\n",
       "      <th>2008-04-24</th>\n",
       "      <td>2008-04-24T01:28:07Z</td>\n",
       "      <td>Operator (Operator Instructions)  Our first qu...</td>\n",
       "      <td>Apple Inc. (NASDAQ: AAPL ) F2Q08 Earnings Call...</td>\n",
       "      <td>https://seekingalpha.com/article/73697-apple-f...</td>\n",
       "      <td>2008-04-24 21:28:07-04:00</td>\n",
       "      <td>21.887790</td>\n",
       "      <td>0.948898</td>\n",
       "      <td>0.102353</td>\n",
       "      <td>1.432928</td>\n",
       "      <td>1</td>\n",
       "      <td>1</td>\n",
       "      <td>0</td>\n",
       "      <td>1</td>\n",
       "    </tr>\n",
       "    <tr>\n",
       "      <th>ADBE</th>\n",
       "      <th>2005-12-20</th>\n",
       "      <td>2005-12-20T17:53:04Z</td>\n",
       "      <td></td>\n",
       "      <td>Here’s the entire text of the prepared remarks...</td>\n",
       "      <td>https://seekingalpha.com/article/5219-full-tra...</td>\n",
       "      <td>2005-12-20 12:53:04-05:00</td>\n",
       "      <td>38.070000</td>\n",
       "      <td>1.856582</td>\n",
       "      <td>-0.619999</td>\n",
       "      <td>-1.200001</td>\n",
       "      <td>-1</td>\n",
       "      <td>-1</td>\n",
       "      <td>0</td>\n",
       "      <td>0</td>\n",
       "    </tr>\n",
       "    <tr>\n",
       "      <th>AMD</th>\n",
       "      <th>2009-07-22</th>\n",
       "      <td>2009-07-22T04:05:35Z</td>\n",
       "      <td></td>\n",
       "      <td>Advanced Micro Devices Inc. (NASDAQ: AMD ) Q2 ...</td>\n",
       "      <td>https://seekingalpha.com/article/150310-advanc...</td>\n",
       "      <td>2009-07-22 00:05:35-04:00</td>\n",
       "      <td>3.550000</td>\n",
       "      <td>0.227897</td>\n",
       "      <td>0.040000</td>\n",
       "      <td>0.160000</td>\n",
       "      <td>1</td>\n",
       "      <td>1</td>\n",
       "      <td>0</td>\n",
       "      <td>0</td>\n",
       "    </tr>\n",
       "    <tr>\n",
       "      <th>GOOG</th>\n",
       "      <th>2011-07-29</th>\n",
       "      <td>2011-07-29T03:42:48Z</td>\n",
       "      <td>Operator Certainly, the floor is now open for ...</td>\n",
       "      <td>Motorola Mobility Holdings Inc. (NYSE: MMI ) Q...</td>\n",
       "      <td>https://seekingalpha.com/article/282967-motoro...</td>\n",
       "      <td>2011-07-29 23:42:48-04:00</td>\n",
       "      <td>301.543972</td>\n",
       "      <td>19.402912</td>\n",
       "      <td>1.538456</td>\n",
       "      <td>-12.312694</td>\n",
       "      <td>1</td>\n",
       "      <td>-1</td>\n",
       "      <td>0</td>\n",
       "      <td>0</td>\n",
       "    </tr>\n",
       "  </tbody>\n",
       "</table>\n",
       "</div>"
      ],
      "text/plain": [
       "                                        publishDate  \\\n",
       "tradingSymbol publishDate_str                         \n",
       "AMD           2010-04-16       2010-04-16T01:48:10Z   \n",
       "AAPL          2008-04-24       2008-04-24T01:28:07Z   \n",
       "ADBE          2005-12-20       2005-12-20T17:53:04Z   \n",
       "AMD           2009-07-22       2009-07-22T04:05:35Z   \n",
       "GOOG          2011-07-29       2011-07-29T03:42:48Z   \n",
       "\n",
       "                                                                       qAndAText  \\\n",
       "tradingSymbol publishDate_str                                                      \n",
       "AMD           2010-04-16       Operator (Operator Instructions) Your first qu...   \n",
       "AAPL          2008-04-24       Operator (Operator Instructions)  Our first qu...   \n",
       "ADBE          2005-12-20                                                           \n",
       "AMD           2009-07-22                                                           \n",
       "GOOG          2011-07-29       Operator Certainly, the floor is now open for ...   \n",
       "\n",
       "                                                                         rawText  \\\n",
       "tradingSymbol publishDate_str                                                      \n",
       "AMD           2010-04-16       Advanced Micro Devices, Inc. (NASDAQ: AMD ) Q1...   \n",
       "AAPL          2008-04-24       Apple Inc. (NASDAQ: AAPL ) F2Q08 Earnings Call...   \n",
       "ADBE          2005-12-20       Here’s the entire text of the prepared remarks...   \n",
       "AMD           2009-07-22       Advanced Micro Devices Inc. (NASDAQ: AMD ) Q2 ...   \n",
       "GOOG          2011-07-29       Motorola Mobility Holdings Inc. (NYSE: MMI ) Q...   \n",
       "\n",
       "                                                                             url  \\\n",
       "tradingSymbol publishDate_str                                                      \n",
       "AMD           2010-04-16       https://seekingalpha.com/article/199031-advanc...   \n",
       "AAPL          2008-04-24       https://seekingalpha.com/article/73697-apple-f...   \n",
       "ADBE          2005-12-20       https://seekingalpha.com/article/5219-full-tra...   \n",
       "AMD           2009-07-22       https://seekingalpha.com/article/150310-advanc...   \n",
       "GOOG          2011-07-29       https://seekingalpha.com/article/282967-motoro...   \n",
       "\n",
       "                                    shifted_publishDate       Close  \\\n",
       "tradingSymbol publishDate_str                                         \n",
       "AMD           2010-04-16      2010-04-16 21:48:10-04:00    9.810000   \n",
       "AAPL          2008-04-24      2008-04-24 21:28:07-04:00   21.887790   \n",
       "ADBE          2005-12-20      2005-12-20 12:53:04-05:00   38.070000   \n",
       "AMD           2009-07-22      2009-07-22 00:05:35-04:00    3.550000   \n",
       "GOOG          2011-07-29      2011-07-29 23:42:48-04:00  301.543972   \n",
       "\n",
       "                                 Std Dev  1day return  5day return  \\\n",
       "tradingSymbol publishDate_str                                        \n",
       "AMD           2010-04-16        0.292831    -0.230000    -0.050000   \n",
       "AAPL          2008-04-24        0.948898     0.102353     1.432928   \n",
       "ADBE          2005-12-20        1.856582    -0.619999    -1.200001   \n",
       "AMD           2009-07-22        0.227897     0.040000     0.160000   \n",
       "GOOG          2011-07-29       19.402912     1.538456   -12.312694   \n",
       "\n",
       "                               1day label  5day label  1day significant label  \\\n",
       "tradingSymbol publishDate_str                                                   \n",
       "AMD           2010-04-16               -1          -1                       0   \n",
       "AAPL          2008-04-24                1           1                       0   \n",
       "ADBE          2005-12-20               -1          -1                       0   \n",
       "AMD           2009-07-22                1           1                       0   \n",
       "GOOG          2011-07-29                1          -1                       0   \n",
       "\n",
       "                               5day significant label  \n",
       "tradingSymbol publishDate_str                          \n",
       "AMD           2010-04-16                            0  \n",
       "AAPL          2008-04-24                            1  \n",
       "ADBE          2005-12-20                            0  \n",
       "AMD           2009-07-22                            0  \n",
       "GOOG          2011-07-29                            0  "
      ]
     },
     "execution_count": 21,
     "metadata": {},
     "output_type": "execute_result"
    }
   ],
   "source": [
    "earnings_transcript.sample(5)"
   ]
  },
  {
   "cell_type": "code",
   "execution_count": 22,
   "metadata": {
    "collapsed": false,
    "deletable": true,
    "editable": true
   },
   "outputs": [],
   "source": [
    "shorts = earnings_transcript[earnings_transcript['rawText'].apply(len) < 5000]"
   ]
  },
  {
   "cell_type": "code",
   "execution_count": 23,
   "metadata": {
    "collapsed": false,
    "deletable": true,
    "editable": true
   },
   "outputs": [
    {
     "data": {
      "text/plain": [
       "21"
      ]
     },
     "execution_count": 23,
     "metadata": {},
     "output_type": "execute_result"
    }
   ],
   "source": [
    "len(shorts)"
   ]
  },
  {
   "cell_type": "code",
   "execution_count": 24,
   "metadata": {
    "collapsed": true,
    "deletable": true,
    "editable": true
   },
   "outputs": [],
   "source": [
    "earnings_transcript = earnings_transcript[earnings_transcript['rawText'].apply(len) > 5000]"
   ]
  },
  {
   "cell_type": "markdown",
   "metadata": {
    "deletable": true,
    "editable": true
   },
   "source": [
    "# Create train data and test data"
   ]
  },
  {
   "cell_type": "code",
   "execution_count": 25,
   "metadata": {
    "collapsed": false,
    "deletable": true,
    "editable": true
   },
   "outputs": [],
   "source": [
    "X = earnings_transcript['rawText']\n",
    "y = earnings_transcript['5day significant label'] + 1"
   ]
  },
  {
   "cell_type": "code",
   "execution_count": 26,
   "metadata": {
    "collapsed": true,
    "deletable": true,
    "editable": true
   },
   "outputs": [],
   "source": [
    "X_train, X_test, y_train, y_test = train_test_split(X, y, test_size=0.3)"
   ]
  },
  {
   "cell_type": "markdown",
   "metadata": {
    "deletable": true,
    "editable": true
   },
   "source": [
    "# Tf-Idf and DNN model"
   ]
  },
  {
   "cell_type": "code",
   "execution_count": 27,
   "metadata": {
    "collapsed": true,
    "deletable": true,
    "editable": true
   },
   "outputs": [],
   "source": [
    "cv = CountVectorizer(stop_words='english', max_df=0.3, min_df=3, ngram_range=(1,3))\n",
    "tfidf = TfidfTransformer(norm='l2')"
   ]
  },
  {
   "cell_type": "code",
   "execution_count": 28,
   "metadata": {
    "collapsed": true,
    "deletable": true,
    "editable": true
   },
   "outputs": [],
   "source": [
    "vectors = cv.fit_transform(X_train)\n",
    "tfidf_vectors = tfidf.fit_transform(vectors)"
   ]
  },
  {
   "cell_type": "code",
   "execution_count": 29,
   "metadata": {
    "collapsed": false,
    "deletable": true,
    "editable": true
   },
   "outputs": [
    {
     "name": "stdout",
     "output_type": "stream",
     "text": [
      "WARNING:tensorflow:Using temporary folder as model directory: C:\\Users\\neural\\AppData\\Local\\Temp\\tmpkiphjjly\n",
      "INFO:tensorflow:Using default config.\n",
      "INFO:tensorflow:Using config: {'_keep_checkpoint_max': 5, '_tf_random_seed': None, '_save_summary_steps': 100, '_num_ps_replicas': 0, '_evaluation_master': '', '_environment': 'local', '_save_checkpoints_steps': None, '_master': '', '_cluster_spec': <tensorflow.python.training.server_lib.ClusterSpec object at 0x00000180DDF92128>, '_keep_checkpoint_every_n_hours': 10000, '_task_id': 0, '_save_checkpoints_secs': 600, '_task_type': None, '_is_chief': True, '_tf_config': gpu_options {\n",
      "  per_process_gpu_memory_fraction: 1\n",
      "}\n",
      "}\n"
     ]
    }
   ],
   "source": [
    "classifier = learn.DNNClassifier(hidden_units=[50,70,20], n_classes=3, \n",
    "                                 feature_columns=[tf.contrib.layers.real_valued_column(\"\", dimension=tfidf_vectors.shape[1])])"
   ]
  },
  {
   "cell_type": "code",
   "execution_count": 30,
   "metadata": {
    "collapsed": false,
    "deletable": true,
    "editable": true
   },
   "outputs": [
    {
     "name": "stdout",
     "output_type": "stream",
     "text": [
      "WARNING:tensorflow:From <ipython-input-30-1e6c3e81e8fb>:1: calling BaseEstimator.fit (from tensorflow.contrib.learn.python.learn.estimators.estimator) with y is deprecated and will be removed after 2016-12-01.\n",
      "Instructions for updating:\n",
      "Estimator is decoupled from Scikit Learn interface by moving into\n",
      "separate class SKCompat. Arguments x, y and batch_size are only\n",
      "available in the SKCompat class, Estimator will only accept input_fn.\n",
      "Example conversion:\n",
      "  est = Estimator(...) -> est = SKCompat(Estimator(...))\n",
      "WARNING:tensorflow:From <ipython-input-30-1e6c3e81e8fb>:1: calling BaseEstimator.fit (from tensorflow.contrib.learn.python.learn.estimators.estimator) with x is deprecated and will be removed after 2016-12-01.\n",
      "Instructions for updating:\n",
      "Estimator is decoupled from Scikit Learn interface by moving into\n",
      "separate class SKCompat. Arguments x, y and batch_size are only\n",
      "available in the SKCompat class, Estimator will only accept input_fn.\n",
      "Example conversion:\n",
      "  est = Estimator(...) -> est = SKCompat(Estimator(...))\n",
      "WARNING:tensorflow:From <ipython-input-30-1e6c3e81e8fb>:1: calling BaseEstimator.fit (from tensorflow.contrib.learn.python.learn.estimators.estimator) with batch_size is deprecated and will be removed after 2016-12-01.\n",
      "Instructions for updating:\n",
      "Estimator is decoupled from Scikit Learn interface by moving into\n",
      "separate class SKCompat. Arguments x, y and batch_size are only\n",
      "available in the SKCompat class, Estimator will only accept input_fn.\n",
      "Example conversion:\n",
      "  est = Estimator(...) -> est = SKCompat(Estimator(...))\n",
      "WARNING:tensorflow:float64 is not supported by many models, consider casting to float32.\n",
      "WARNING:tensorflow:From C:\\ProgramData\\Anaconda3\\envs\\tensorflow\\lib\\site-packages\\tensorflow\\contrib\\learn\\python\\learn\\estimators\\head.py:1362: scalar_summary (from tensorflow.python.ops.logging_ops) is deprecated and will be removed after 2016-11-30.\n",
      "Instructions for updating:\n",
      "Please switch to tf.summary.scalar. Note that tf.summary.scalar uses the node name instead of the tag. This means that TensorFlow will automatically de-duplicate summary names based on the scope they are created in. Also, passing a tensor or list of tags to a scalar summary op is no longer supported.\n"
     ]
    },
    {
     "name": "stderr",
     "output_type": "stream",
     "text": [
      "C:\\ProgramData\\Anaconda3\\envs\\tensorflow\\lib\\site-packages\\tensorflow\\python\\util\\deprecation.py:247: FutureWarning: comparison to `None` will result in an elementwise object comparison in the future.\n",
      "  equality = a == b\n"
     ]
    },
    {
     "name": "stdout",
     "output_type": "stream",
     "text": [
      "INFO:tensorflow:Create CheckpointSaverHook.\n",
      "INFO:tensorflow:Saving checkpoints for 1 into C:\\Users\\neural\\AppData\\Local\\Temp\\tmpkiphjjly\\model.ckpt.\n",
      "INFO:tensorflow:step = 1, loss = 1.09877\n",
      "INFO:tensorflow:global_step/sec: 39.6059\n",
      "INFO:tensorflow:step = 101, loss = 1.15338\n",
      "INFO:tensorflow:global_step/sec: 36.0053\n",
      "INFO:tensorflow:step = 201, loss = 0.39196\n",
      "INFO:tensorflow:global_step/sec: 39.0129\n",
      "INFO:tensorflow:step = 301, loss = 0.502917\n",
      "INFO:tensorflow:global_step/sec: 38.2351\n",
      "INFO:tensorflow:step = 401, loss = 0.261811\n",
      "INFO:tensorflow:global_step/sec: 41.0349\n",
      "INFO:tensorflow:step = 501, loss = 0.0735244\n",
      "INFO:tensorflow:global_step/sec: 41.1728\n",
      "INFO:tensorflow:step = 601, loss = 0.0237442\n",
      "INFO:tensorflow:global_step/sec: 41.3935\n",
      "INFO:tensorflow:step = 701, loss = 0.00837275\n",
      "INFO:tensorflow:global_step/sec: 41.2279\n",
      "INFO:tensorflow:step = 801, loss = 0.00379302\n",
      "INFO:tensorflow:global_step/sec: 41.1893\n",
      "INFO:tensorflow:step = 901, loss = 0.00288564\n",
      "INFO:tensorflow:Saving checkpoints for 1000 into C:\\Users\\neural\\AppData\\Local\\Temp\\tmpkiphjjly\\model.ckpt.\n",
      "INFO:tensorflow:Loss for final step: 0.00277191.\n"
     ]
    },
    {
     "data": {
      "text/plain": [
       "DNNClassifier(params={'embedding_lr_multipliers': None, 'optimizer': None, 'gradient_clip_norm': None, 'activation_fn': <function relu at 0x00000180DADB7C80>, 'dropout': None, 'feature_columns': (_RealValuedColumn(column_name='', dimension=69412, default_value=None, dtype=tf.float32, normalizer=None),), 'head': <tensorflow.contrib.learn.python.learn.estimators.head._MultiClassHead object at 0x00000180E5D99898>, 'input_layer_min_slice_size': None, 'hidden_units': [50, 70, 20]})"
      ]
     },
     "execution_count": 30,
     "metadata": {},
     "output_type": "execute_result"
    }
   ],
   "source": [
    "classifier.fit(tfidf_vectors.toarray(), y_train, batch_size=5, steps=1000)"
   ]
  },
  {
   "cell_type": "code",
   "execution_count": 31,
   "metadata": {
    "collapsed": false,
    "deletable": true,
    "editable": true
   },
   "outputs": [
    {
     "name": "stdout",
     "output_type": "stream",
     "text": [
      "WARNING:tensorflow:From C:\\ProgramData\\Anaconda3\\envs\\tensorflow\\lib\\site-packages\\tensorflow\\contrib\\learn\\python\\learn\\estimators\\dnn.py:374: calling BaseEstimator.predict (from tensorflow.contrib.learn.python.learn.estimators.estimator) with x is deprecated and will be removed after 2016-12-01.\n",
      "Instructions for updating:\n",
      "Estimator is decoupled from Scikit Learn interface by moving into\n",
      "separate class SKCompat. Arguments x, y and batch_size are only\n",
      "available in the SKCompat class, Estimator will only accept input_fn.\n",
      "Example conversion:\n",
      "  est = Estimator(...) -> est = SKCompat(Estimator(...))\n",
      "WARNING:tensorflow:float64 is not supported by many models, consider casting to float32.\n"
     ]
    },
    {
     "name": "stderr",
     "output_type": "stream",
     "text": [
      "C:\\ProgramData\\Anaconda3\\envs\\tensorflow\\lib\\site-packages\\tensorflow\\python\\util\\deprecation.py:247: FutureWarning: comparison to `None` will result in an elementwise object comparison in the future.\n",
      "  equality = a == b\n"
     ]
    }
   ],
   "source": [
    "y_predicted = list(classifier.predict(tfidf.transform(cv.transform(X_test)).toarray()))"
   ]
  },
  {
   "cell_type": "markdown",
   "metadata": {
    "deletable": true,
    "editable": true
   },
   "source": [
    "#### Confusion matrix\n",
    "By definition a confusion matrix :math:`C` is such that :math:`C_{i, j}`\n",
    "is equal to the number of observations known to be in group :math:`i` but\n",
    "predicted to be in group :math:`j`."
   ]
  },
  {
   "cell_type": "code",
   "execution_count": 32,
   "metadata": {
    "collapsed": false,
    "deletable": true,
    "editable": true
   },
   "outputs": [],
   "source": [
    "cm = confusion_matrix(y_test, y_predicted)"
   ]
  },
  {
   "cell_type": "code",
   "execution_count": 33,
   "metadata": {
    "collapsed": false,
    "deletable": true,
    "editable": true
   },
   "outputs": [
    {
     "data": {
      "text/plain": [
       "<matplotlib.axes._subplots.AxesSubplot at 0x180e5e68400>"
      ]
     },
     "execution_count": 33,
     "metadata": {},
     "output_type": "execute_result"
    },
    {
     "data": {
      "image/png": "[encoded data removed]",
      "text/plain": [
       "<matplotlib.figure.Figure at 0x180de438fd0>"
      ]
     },
     "metadata": {},
     "output_type": "display_data"
    }
   ],
   "source": [
    "sns.heatmap(cm, cmap='magma', annot=True)"
   ]
  },
  {
   "cell_type": "code",
   "execution_count": 34,
   "metadata": {
    "collapsed": false,
    "deletable": true,
    "editable": true
   },
   "outputs": [
    {
     "name": "stdout",
     "output_type": "stream",
     "text": [
      "             precision    recall  f1-score   support\n",
      "\n",
      "          0       0.43      0.12      0.19        24\n",
      "          1       0.57      0.73      0.64        48\n",
      "          2       0.28      0.36      0.31        14\n",
      "\n",
      "avg / total       0.49      0.50      0.46        86\n",
      "\n"
     ]
    }
   ],
   "source": [
    "cr = classification_report(y_test, y_predicted)\n",
    "print(cr)"
   ]
  }
 ],
 "metadata": {
  "kernelspec": {
   "display_name": "Python 3",
   "language": "python",
   "name": "python3"
  },
  "language_info": {
   "codemirror_mode": {
    "name": "ipython",
    "version": 3
   },
   "file_extension": ".py",
   "mimetype": "text/x-python",
   "name": "python",
   "nbconvert_exporter": "python",
   "pygments_lexer": "ipython3",
   "version": "3.5.3"
  }
 },
 "nbformat": 4,
 "nbformat_minor": 2
}
