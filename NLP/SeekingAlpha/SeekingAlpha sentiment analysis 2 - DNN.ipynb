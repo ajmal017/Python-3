{
 "cells": [
  {
   "cell_type": "code",
   "execution_count": 1,
   "metadata": {
    "collapsed": false,
    "deletable": true,
    "editable": true
   },
   "outputs": [],
   "source": [
    "from sklearn.feature_extraction.text import CountVectorizer, TfidfTransformer\n",
    "from sklearn.feature_extraction.text import TfidfVectorizer\n",
    "from sklearn.linear_model import LogisticRegression\n",
    "from sklearn.model_selection import train_test_split\n",
    "from sklearn.pipeline import Pipeline\n",
    "from sklearn.preprocessing import FunctionTransformer\n",
    "import tensorflow as tf\n",
    "import tensorflow.contrib.learn as learn\n",
    "from sklearn.metrics import classification_report, confusion_matrix, precision_score"
   ]
  },
  {
   "cell_type": "code",
   "execution_count": 2,
   "metadata": {
    "collapsed": true,
    "deletable": true,
    "editable": true
   },
   "outputs": [],
   "source": [
    "import pandas as pd\n",
    "import numpy as np\n",
    "import matplotlib.pyplot as plt\n",
    "import seaborn as sns\n",
    "%matplotlib inline"
   ]
  },
  {
   "cell_type": "code",
   "execution_count": 3,
   "metadata": {
    "collapsed": false,
    "deletable": true,
    "editable": true
   },
   "outputs": [],
   "source": [
    "from pymongo import MongoClient\n",
    "import ystockquote"
   ]
  },
  {
   "cell_type": "code",
   "execution_count": 4,
   "metadata": {
    "collapsed": true,
    "deletable": true,
    "editable": true
   },
   "outputs": [],
   "source": [
    "from datetime import datetime, timedelta, timezone\n",
    "import pytz\n",
    "import math"
   ]
  },
  {
   "cell_type": "markdown",
   "metadata": {
    "deletable": true,
    "editable": true
   },
   "source": [
    "# Load transcripts"
   ]
  },
  {
   "cell_type": "code",
   "execution_count": 5,
   "metadata": {
    "collapsed": true
   },
   "outputs": [],
   "source": [
    "est_tz = pytz.timezone('US/Eastern')\n",
    "def utc_to_est(utc_dt):\n",
    "    local_dt = utc_dt.replace(tzinfo=pytz.utc).astimezone(est_tz)\n",
    "    return est_tz.normalize(local_dt)"
   ]
  },
  {
   "cell_type": "code",
   "execution_count": 6,
   "metadata": {
    "collapsed": true
   },
   "outputs": [],
   "source": [
    "def shift_time_according_to_closing_time(dt):\n",
    "    if dt.hour >= 16:\n",
    "        return dt + timedelta(days=1)\n",
    "    return dt"
   ]
  },
  {
   "cell_type": "code",
   "execution_count": 7,
   "metadata": {
    "collapsed": false,
    "deletable": true,
    "editable": true
   },
   "outputs": [],
   "source": [
    "def load_and_clean_transcripts():\n",
    "    client = MongoClient('localhost', 27017)\n",
    "    earnings_transcript_collection = client.python_import.earnings_transcript\n",
    "    \n",
    "    earnings_transcript = pd.DataFrame(list(earnings_transcript_collection.find()))\n",
    "    earnings_transcript.drop('_id', axis=1, inplace=True)\n",
    "    earnings_transcript['shifted_publishDate'] = earnings_transcript.apply(\n",
    "        lambda row: datetime.strptime(row['publishDate'], '%Y-%m-%dT%H:%M:%SZ'), axis=1\n",
    "    )\n",
    "    earnings_transcript['shifted_publishDate'] = earnings_transcript.apply(\n",
    "        lambda row: utc_to_est(row['shifted_publishDate']), axis=1\n",
    "    )\n",
    "    earnings_transcript['shifted_publishDate'] = earnings_transcript.apply(\n",
    "        lambda row: shift_time_according_to_closing_time(row['shifted_publishDate']), axis=1\n",
    "    )\n",
    "    earnings_transcript['publishDate_str'] = earnings_transcript.apply(\n",
    "        lambda row: str(row['shifted_publishDate'].date()), axis=1\n",
    "    )\n",
    "    earnings_transcript.set_index(['tradingSymbol', 'publishDate_str'], inplace=True)\n",
    "    \n",
    "    return earnings_transcript"
   ]
  },
  {
   "cell_type": "code",
   "execution_count": 8,
   "metadata": {
    "collapsed": false,
    "deletable": true,
    "editable": true
   },
   "outputs": [],
   "source": [
    "earnings_transcript = load_and_clean_transcripts()"
   ]
  },
  {
   "cell_type": "code",
   "execution_count": 9,
   "metadata": {
    "collapsed": false,
    "deletable": true,
    "editable": true
   },
   "outputs": [
    {
     "data": {
      "text/html": [
       "<div>\n",
       "<table border=\"1\" class=\"dataframe\">\n",
       "  <thead>\n",
       "    <tr style=\"text-align: right;\">\n",
       "      <th></th>\n",
       "      <th></th>\n",
       "      <th>publishDate</th>\n",
       "      <th>qAndAText</th>\n",
       "      <th>rawText</th>\n",
       "      <th>url</th>\n",
       "      <th>shifted_publishDate</th>\n",
       "    </tr>\n",
       "    <tr>\n",
       "      <th>tradingSymbol</th>\n",
       "      <th>publishDate_str</th>\n",
       "      <th></th>\n",
       "      <th></th>\n",
       "      <th></th>\n",
       "      <th></th>\n",
       "      <th></th>\n",
       "    </tr>\n",
       "  </thead>\n",
       "  <tbody>\n",
       "    <tr>\n",
       "      <th>A</th>\n",
       "      <th>2014-11-18</th>\n",
       "      <td>2014-11-17T22:25:00Z</td>\n",
       "      <td></td>\n",
       "      <td>The following audio is from a conference call ...</td>\n",
       "      <td>https://seekingalpha.com/article/2675895-agile...</td>\n",
       "      <td>2014-11-18 17:25:00-05:00</td>\n",
       "    </tr>\n",
       "    <tr>\n",
       "      <th>AA</th>\n",
       "      <th>2014-10-09</th>\n",
       "      <td>2014-10-09T01:18:03Z</td>\n",
       "      <td>Operator [Operator instructions.] Our first qu...</td>\n",
       "      <td>Alcoa (NYSE: AA ) Q3 2014 Results Earnings Con...</td>\n",
       "      <td>https://seekingalpha.com/article/2549515-alcoa...</td>\n",
       "      <td>2014-10-09 21:18:03-04:00</td>\n",
       "    </tr>\n",
       "  </tbody>\n",
       "</table>\n",
       "</div>"
      ],
      "text/plain": [
       "                                        publishDate  \\\n",
       "tradingSymbol publishDate_str                         \n",
       "A             2014-11-18       2014-11-17T22:25:00Z   \n",
       "AA            2014-10-09       2014-10-09T01:18:03Z   \n",
       "\n",
       "                                                                       qAndAText  \\\n",
       "tradingSymbol publishDate_str                                                      \n",
       "A             2014-11-18                                                           \n",
       "AA            2014-10-09       Operator [Operator instructions.] Our first qu...   \n",
       "\n",
       "                                                                         rawText  \\\n",
       "tradingSymbol publishDate_str                                                      \n",
       "A             2014-11-18       The following audio is from a conference call ...   \n",
       "AA            2014-10-09       Alcoa (NYSE: AA ) Q3 2014 Results Earnings Con...   \n",
       "\n",
       "                                                                             url  \\\n",
       "tradingSymbol publishDate_str                                                      \n",
       "A             2014-11-18       https://seekingalpha.com/article/2675895-agile...   \n",
       "AA            2014-10-09       https://seekingalpha.com/article/2549515-alcoa...   \n",
       "\n",
       "                                    shifted_publishDate  \n",
       "tradingSymbol publishDate_str                            \n",
       "A             2014-11-18      2014-11-18 17:25:00-05:00  \n",
       "AA            2014-10-09      2014-10-09 21:18:03-04:00  "
      ]
     },
     "execution_count": 9,
     "metadata": {},
     "output_type": "execute_result"
    }
   ],
   "source": [
    "earnings_transcript.head(2)"
   ]
  },
  {
   "cell_type": "code",
   "execution_count": 10,
   "metadata": {
    "collapsed": false,
    "deletable": true,
    "editable": true
   },
   "outputs": [
    {
     "data": {
      "text/html": [
       "<div>\n",
       "<table border=\"1\" class=\"dataframe\">\n",
       "  <thead>\n",
       "    <tr style=\"text-align: right;\">\n",
       "      <th></th>\n",
       "      <th></th>\n",
       "      <th>publishDate</th>\n",
       "      <th>qAndAText</th>\n",
       "      <th>rawText</th>\n",
       "      <th>url</th>\n",
       "      <th>shifted_publishDate</th>\n",
       "    </tr>\n",
       "    <tr>\n",
       "      <th>tradingSymbol</th>\n",
       "      <th>publishDate_str</th>\n",
       "      <th></th>\n",
       "      <th></th>\n",
       "      <th></th>\n",
       "      <th></th>\n",
       "      <th></th>\n",
       "    </tr>\n",
       "  </thead>\n",
       "  <tbody>\n",
       "    <tr>\n",
       "      <th rowspan=\"2\" valign=\"top\">ABG</th>\n",
       "      <th>2016-02-04</th>\n",
       "      <td>2016-02-04T19:43:07Z</td>\n",
       "      <td>Operator Thank you. And we will take our first...</td>\n",
       "      <td>Asbury Automotive Group, Inc. (NYSE: ABG ) Q4 ...</td>\n",
       "      <td>https://seekingalpha.com/article/3866076-asbur...</td>\n",
       "      <td>2016-02-04 14:43:07-05:00</td>\n",
       "    </tr>\n",
       "    <tr>\n",
       "      <th>2016-04-26</th>\n",
       "      <td>2016-04-26T13:55:00Z</td>\n",
       "      <td></td>\n",
       "      <td>Earnings Conference Call Start time: April 26,...</td>\n",
       "      <td>https://seekingalpha.com/article/3967725-asbur...</td>\n",
       "      <td>2016-04-26 09:55:00-04:00</td>\n",
       "    </tr>\n",
       "  </tbody>\n",
       "</table>\n",
       "</div>"
      ],
      "text/plain": [
       "                                        publishDate  \\\n",
       "tradingSymbol publishDate_str                         \n",
       "ABG           2016-02-04       2016-02-04T19:43:07Z   \n",
       "              2016-04-26       2016-04-26T13:55:00Z   \n",
       "\n",
       "                                                                       qAndAText  \\\n",
       "tradingSymbol publishDate_str                                                      \n",
       "ABG           2016-02-04       Operator Thank you. And we will take our first...   \n",
       "              2016-04-26                                                           \n",
       "\n",
       "                                                                         rawText  \\\n",
       "tradingSymbol publishDate_str                                                      \n",
       "ABG           2016-02-04       Asbury Automotive Group, Inc. (NYSE: ABG ) Q4 ...   \n",
       "              2016-04-26       Earnings Conference Call Start time: April 26,...   \n",
       "\n",
       "                                                                             url  \\\n",
       "tradingSymbol publishDate_str                                                      \n",
       "ABG           2016-02-04       https://seekingalpha.com/article/3866076-asbur...   \n",
       "              2016-04-26       https://seekingalpha.com/article/3967725-asbur...   \n",
       "\n",
       "                                    shifted_publishDate  \n",
       "tradingSymbol publishDate_str                            \n",
       "ABG           2016-02-04      2016-02-04 14:43:07-05:00  \n",
       "              2016-04-26      2016-04-26 09:55:00-04:00  "
      ]
     },
     "execution_count": 10,
     "metadata": {},
     "output_type": "execute_result"
    }
   ],
   "source": [
    "earnings_transcript.tail(2)"
   ]
  },
  {
   "cell_type": "markdown",
   "metadata": {
    "deletable": true,
    "editable": true
   },
   "source": [
    "### Load all ticker data for transcripts"
   ]
  },
  {
   "cell_type": "code",
   "execution_count": 11,
   "metadata": {
    "collapsed": false,
    "deletable": true,
    "editable": true
   },
   "outputs": [
    {
     "data": {
      "text/plain": [
       "Index(['A', 'AA', 'AAN', 'AAON', 'AAP', 'AAPL', 'AAT', 'AAWW', 'ABAX', 'ABBV',\n",
       "       'ABC', 'ABCB', 'ABG', 'ABM'],\n",
       "      dtype='object', name='tradingSymbol')"
      ]
     },
     "execution_count": 11,
     "metadata": {},
     "output_type": "execute_result"
    }
   ],
   "source": [
    "earnings_transcript.index.levels[0]"
   ]
  },
  {
   "cell_type": "code",
   "execution_count": 12,
   "metadata": {
    "collapsed": true,
    "deletable": true,
    "editable": true
   },
   "outputs": [],
   "source": [
    "class Applyer:\n",
    "    \n",
    "    label = ''\n",
    "    label_to_check_against = None\n",
    "    \n",
    "    @staticmethod\n",
    "    def label_calc(row):\n",
    "        \n",
    "        val_to_check = 0\n",
    "        if Applyer.label_to_check_against is not None:\n",
    "            val_to_check = row[Applyer.label_to_check_against]\n",
    "        \n",
    "        if math.isnan(row[Applyer.label]) or math.isnan(val_to_check):\n",
    "            return 0\n",
    "\n",
    "        if abs(row[Applyer.label]) >= val_to_check:\n",
    "            if row[Applyer.label] <= 0:\n",
    "                return -1\n",
    "            else:\n",
    "                return 1\n",
    "        else:\n",
    "            return 0\n",
    "    \n",
    "    @staticmethod\n",
    "    def all_label_calc(df):\n",
    "        df['Std Dev'] = pd.Series(data=df['Close']).rolling(window=20,center=False).std()\n",
    "\n",
    "        df['1day return'] = df['Close'].shift(-1) - df['Close']\n",
    "        df['5day return'] = df['Close'].shift(-5) - df['Close']\n",
    "\n",
    "        Applyer.label_to_check_against = None\n",
    "\n",
    "        Applyer.label = '1day return'\n",
    "        df['1day label'] = df.apply(Applyer.label_calc, axis=1)\n",
    "        Applyer.label = '5day return'\n",
    "        df['5day label'] = df.apply(Applyer.label_calc, axis=1)\n",
    "\n",
    "        Applyer.label_to_check_against = 'Std Dev'\n",
    "\n",
    "        Applyer.label = '1day return'\n",
    "        df['1day significant label'] = df.apply(Applyer.label_calc, axis=1)\n",
    "        Applyer.label = '5day return'\n",
    "        df['5day significant label'] = df.apply(Applyer.label_calc, axis=1)"
   ]
  },
  {
   "cell_type": "code",
   "execution_count": 13,
   "metadata": {
    "collapsed": false,
    "deletable": true,
    "editable": true
   },
   "outputs": [
    {
     "name": "stdout",
     "output_type": "stream",
     "text": [
      "A ticker has 4341 long list\n",
      "AA ticker has 4341 long list\n",
      "AAN ticker has 4341 long list\n",
      "AAON ticker has 4341 long list\n",
      "AAP ticker has 3863 long list\n",
      "AAPL ticker has 4341 long list\n",
      "AAT ticker has 1566 long list\n",
      "AAWW ticker has 2869 long list\n",
      "ABAX ticker has 4341 long list\n",
      "ABBV ticker has 1072 long list\n",
      "ABC ticker has 4341 long list\n",
      "ABCB ticker has 4341 long list\n",
      "ABG ticker has 3787 long list\n",
      "ABM ticker has 4341 long list\n"
     ]
    }
   ],
   "source": [
    "tickers = earnings_transcript.index.levels[0]\n",
    "all_stocks = None\n",
    "for ticker in tickers:\n",
    "    stocks = ystockquote.get_historical_prices(ticker, '2000-01-01', '2017-12-31')\n",
    "    print('{} ticker has {} long list'.format(ticker, len(stocks)))\n",
    "    df = pd.DataFrame(stocks).transpose()\n",
    "    if 'Adj Close' in df.columns:\n",
    "        df['Close'] = pd.to_numeric(df['Adj Close'], errors='ignore')\n",
    "    elif 'Close' in df.columns:\n",
    "        df['Close'] = pd.to_numeric(df['Close'], errors='ignore')\n",
    "    else:\n",
    "        print('{} is not available'.format(ticker))\n",
    "        continue\n",
    "    df.drop(axis=1, labels=[col for col in df.columns if col not in ['Close']], inplace=True)\n",
    "    indexes = pd.MultiIndex.from_product([[ticker], df.index.values.tolist()], names=['tradingSymbol', 'publishDate_str'])\n",
    "    df.set_index(indexes, inplace=True)\n",
    "    \n",
    "    Applyer.all_label_calc(df)\n",
    "    df.dropna(inplace=True)\n",
    "    \n",
    "    if all_stocks is None:\n",
    "        all_stocks = df\n",
    "    else:\n",
    "        all_stocks = all_stocks.append(df)"
   ]
  },
  {
   "cell_type": "code",
   "execution_count": 14,
   "metadata": {
    "collapsed": false,
    "deletable": true,
    "editable": true
   },
   "outputs": [
    {
     "data": {
      "text/html": [
       "<div>\n",
       "<table border=\"1\" class=\"dataframe\">\n",
       "  <thead>\n",
       "    <tr style=\"text-align: right;\">\n",
       "      <th></th>\n",
       "      <th></th>\n",
       "      <th>Close</th>\n",
       "      <th>Std Dev</th>\n",
       "      <th>1day return</th>\n",
       "      <th>5day return</th>\n",
       "      <th>1day label</th>\n",
       "      <th>5day label</th>\n",
       "      <th>1day significant label</th>\n",
       "      <th>5day significant label</th>\n",
       "    </tr>\n",
       "    <tr>\n",
       "      <th>tradingSymbol</th>\n",
       "      <th>publishDate_str</th>\n",
       "      <th></th>\n",
       "      <th></th>\n",
       "      <th></th>\n",
       "      <th></th>\n",
       "      <th></th>\n",
       "      <th></th>\n",
       "      <th></th>\n",
       "      <th></th>\n",
       "    </tr>\n",
       "  </thead>\n",
       "  <tbody>\n",
       "    <tr>\n",
       "      <th>ABG</th>\n",
       "      <th>2010-04-07</th>\n",
       "      <td>13.990000</td>\n",
       "      <td>0.279301</td>\n",
       "      <td>-0.390000</td>\n",
       "      <td>-0.130000</td>\n",
       "      <td>-1</td>\n",
       "      <td>-1</td>\n",
       "      <td>-1</td>\n",
       "      <td>0</td>\n",
       "    </tr>\n",
       "    <tr>\n",
       "      <th>AAON</th>\n",
       "      <th>2011-08-24</th>\n",
       "      <td>7.042169</td>\n",
       "      <td>0.960690</td>\n",
       "      <td>-0.353367</td>\n",
       "      <td>0.323921</td>\n",
       "      <td>-1</td>\n",
       "      <td>1</td>\n",
       "      <td>0</td>\n",
       "      <td>0</td>\n",
       "    </tr>\n",
       "    <tr>\n",
       "      <th>AAPL</th>\n",
       "      <th>2008-06-18</th>\n",
       "      <td>23.158770</td>\n",
       "      <td>0.649334</td>\n",
       "      <td>0.278553</td>\n",
       "      <td>-0.176201</td>\n",
       "      <td>1</td>\n",
       "      <td>-1</td>\n",
       "      <td>0</td>\n",
       "      <td>0</td>\n",
       "    </tr>\n",
       "    <tr>\n",
       "      <th>ABG</th>\n",
       "      <th>2007-06-22</th>\n",
       "      <td>24.081673</td>\n",
       "      <td>1.093052</td>\n",
       "      <td>-0.168011</td>\n",
       "      <td>-0.793388</td>\n",
       "      <td>-1</td>\n",
       "      <td>-1</td>\n",
       "      <td>0</td>\n",
       "      <td>0</td>\n",
       "    </tr>\n",
       "    <tr>\n",
       "      <th>A</th>\n",
       "      <th>2013-06-11</th>\n",
       "      <td>30.489041</td>\n",
       "      <td>0.500545</td>\n",
       "      <td>-0.329611</td>\n",
       "      <td>0.274676</td>\n",
       "      <td>-1</td>\n",
       "      <td>1</td>\n",
       "      <td>0</td>\n",
       "      <td>0</td>\n",
       "    </tr>\n",
       "    <tr>\n",
       "      <th rowspan=\"2\" valign=\"top\">ABC</th>\n",
       "      <th>2011-07-01</th>\n",
       "      <td>38.747282</td>\n",
       "      <td>0.395096</td>\n",
       "      <td>0.147188</td>\n",
       "      <td>0.174788</td>\n",
       "      <td>1</td>\n",
       "      <td>1</td>\n",
       "      <td>0</td>\n",
       "      <td>0</td>\n",
       "    </tr>\n",
       "    <tr>\n",
       "      <th>2010-01-22</th>\n",
       "      <td>24.112070</td>\n",
       "      <td>0.378604</td>\n",
       "      <td>0.406993</td>\n",
       "      <td>0.542657</td>\n",
       "      <td>1</td>\n",
       "      <td>1</td>\n",
       "      <td>1</td>\n",
       "      <td>1</td>\n",
       "    </tr>\n",
       "    <tr>\n",
       "      <th>AAP</th>\n",
       "      <th>2016-04-22</th>\n",
       "      <td>158.155755</td>\n",
       "      <td>2.431890</td>\n",
       "      <td>-1.008437</td>\n",
       "      <td>-2.296441</td>\n",
       "      <td>-1</td>\n",
       "      <td>-1</td>\n",
       "      <td>0</td>\n",
       "      <td>0</td>\n",
       "    </tr>\n",
       "    <tr>\n",
       "      <th>ABAX</th>\n",
       "      <th>2007-05-17</th>\n",
       "      <td>19.520003</td>\n",
       "      <td>1.383506</td>\n",
       "      <td>0.161009</td>\n",
       "      <td>1.231246</td>\n",
       "      <td>1</td>\n",
       "      <td>1</td>\n",
       "      <td>0</td>\n",
       "      <td>0</td>\n",
       "    </tr>\n",
       "    <tr>\n",
       "      <th>ABG</th>\n",
       "      <th>2013-04-16</th>\n",
       "      <td>35.599998</td>\n",
       "      <td>0.939949</td>\n",
       "      <td>-0.750000</td>\n",
       "      <td>-0.049999</td>\n",
       "      <td>-1</td>\n",
       "      <td>-1</td>\n",
       "      <td>0</td>\n",
       "      <td>0</td>\n",
       "    </tr>\n",
       "    <tr>\n",
       "      <th>AAPL</th>\n",
       "      <th>2017-01-31</th>\n",
       "      <td>120.826147</td>\n",
       "      <td>1.796004</td>\n",
       "      <td>7.368056</td>\n",
       "      <td>10.136054</td>\n",
       "      <td>1</td>\n",
       "      <td>1</td>\n",
       "      <td>1</td>\n",
       "      <td>1</td>\n",
       "    </tr>\n",
       "    <tr>\n",
       "      <th>ABBV</th>\n",
       "      <th>2016-10-13</th>\n",
       "      <td>60.539169</td>\n",
       "      <td>0.906034</td>\n",
       "      <td>-0.970214</td>\n",
       "      <td>0.603904</td>\n",
       "      <td>-1</td>\n",
       "      <td>1</td>\n",
       "      <td>-1</td>\n",
       "      <td>0</td>\n",
       "    </tr>\n",
       "    <tr>\n",
       "      <th>AAON</th>\n",
       "      <th>2014-01-31</th>\n",
       "      <td>19.282987</td>\n",
       "      <td>0.676010</td>\n",
       "      <td>-1.066217</td>\n",
       "      <td>-1.183242</td>\n",
       "      <td>-1</td>\n",
       "      <td>-1</td>\n",
       "      <td>-1</td>\n",
       "      <td>-1</td>\n",
       "    </tr>\n",
       "    <tr>\n",
       "      <th>ABCB</th>\n",
       "      <th>2009-12-23</th>\n",
       "      <td>6.465827</td>\n",
       "      <td>0.118668</td>\n",
       "      <td>0.028690</td>\n",
       "      <td>0.435261</td>\n",
       "      <td>1</td>\n",
       "      <td>1</td>\n",
       "      <td>0</td>\n",
       "      <td>1</td>\n",
       "    </tr>\n",
       "    <tr>\n",
       "      <th>AAON</th>\n",
       "      <th>2000-05-18</th>\n",
       "      <td>1.655030</td>\n",
       "      <td>0.041910</td>\n",
       "      <td>-0.023852</td>\n",
       "      <td>0.033388</td>\n",
       "      <td>-1</td>\n",
       "      <td>1</td>\n",
       "      <td>0</td>\n",
       "      <td>0</td>\n",
       "    </tr>\n",
       "    <tr>\n",
       "      <th>ABG</th>\n",
       "      <th>2009-01-21</th>\n",
       "      <td>3.540000</td>\n",
       "      <td>0.548780</td>\n",
       "      <td>-0.040000</td>\n",
       "      <td>0.590000</td>\n",
       "      <td>-1</td>\n",
       "      <td>1</td>\n",
       "      <td>0</td>\n",
       "      <td>1</td>\n",
       "    </tr>\n",
       "    <tr>\n",
       "      <th>AAN</th>\n",
       "      <th>2005-04-19</th>\n",
       "      <td>10.433433</td>\n",
       "      <td>0.569399</td>\n",
       "      <td>0.019321</td>\n",
       "      <td>-0.083728</td>\n",
       "      <td>1</td>\n",
       "      <td>-1</td>\n",
       "      <td>0</td>\n",
       "      <td>0</td>\n",
       "    </tr>\n",
       "    <tr>\n",
       "      <th>A</th>\n",
       "      <th>2008-06-19</th>\n",
       "      <td>25.694412</td>\n",
       "      <td>0.355612</td>\n",
       "      <td>-0.223725</td>\n",
       "      <td>-1.491497</td>\n",
       "      <td>-1</td>\n",
       "      <td>-1</td>\n",
       "      <td>0</td>\n",
       "      <td>-1</td>\n",
       "    </tr>\n",
       "    <tr>\n",
       "      <th>ABM</th>\n",
       "      <th>2010-08-18</th>\n",
       "      <td>17.766574</td>\n",
       "      <td>0.570670</td>\n",
       "      <td>-1.077280</td>\n",
       "      <td>-1.196979</td>\n",
       "      <td>-1</td>\n",
       "      <td>-1</td>\n",
       "      <td>-1</td>\n",
       "      <td>-1</td>\n",
       "    </tr>\n",
       "    <tr>\n",
       "      <th>ABG</th>\n",
       "      <th>2010-03-26</th>\n",
       "      <td>13.960000</td>\n",
       "      <td>0.712401</td>\n",
       "      <td>-0.280000</td>\n",
       "      <td>-0.130000</td>\n",
       "      <td>-1</td>\n",
       "      <td>-1</td>\n",
       "      <td>0</td>\n",
       "      <td>0</td>\n",
       "    </tr>\n",
       "  </tbody>\n",
       "</table>\n",
       "</div>"
      ],
      "text/plain": [
       "                                    Close   Std Dev  1day return  5day return  \\\n",
       "tradingSymbol publishDate_str                                                   \n",
       "ABG           2010-04-07        13.990000  0.279301    -0.390000    -0.130000   \n",
       "AAON          2011-08-24         7.042169  0.960690    -0.353367     0.323921   \n",
       "AAPL          2008-06-18        23.158770  0.649334     0.278553    -0.176201   \n",
       "ABG           2007-06-22        24.081673  1.093052    -0.168011    -0.793388   \n",
       "A             2013-06-11        30.489041  0.500545    -0.329611     0.274676   \n",
       "ABC           2011-07-01        38.747282  0.395096     0.147188     0.174788   \n",
       "              2010-01-22        24.112070  0.378604     0.406993     0.542657   \n",
       "AAP           2016-04-22       158.155755  2.431890    -1.008437    -2.296441   \n",
       "ABAX          2007-05-17        19.520003  1.383506     0.161009     1.231246   \n",
       "ABG           2013-04-16        35.599998  0.939949    -0.750000    -0.049999   \n",
       "AAPL          2017-01-31       120.826147  1.796004     7.368056    10.136054   \n",
       "ABBV          2016-10-13        60.539169  0.906034    -0.970214     0.603904   \n",
       "AAON          2014-01-31        19.282987  0.676010    -1.066217    -1.183242   \n",
       "ABCB          2009-12-23         6.465827  0.118668     0.028690     0.435261   \n",
       "AAON          2000-05-18         1.655030  0.041910    -0.023852     0.033388   \n",
       "ABG           2009-01-21         3.540000  0.548780    -0.040000     0.590000   \n",
       "AAN           2005-04-19        10.433433  0.569399     0.019321    -0.083728   \n",
       "A             2008-06-19        25.694412  0.355612    -0.223725    -1.491497   \n",
       "ABM           2010-08-18        17.766574  0.570670    -1.077280    -1.196979   \n",
       "ABG           2010-03-26        13.960000  0.712401    -0.280000    -0.130000   \n",
       "\n",
       "                               1day label  5day label  1day significant label  \\\n",
       "tradingSymbol publishDate_str                                                   \n",
       "ABG           2010-04-07               -1          -1                      -1   \n",
       "AAON          2011-08-24               -1           1                       0   \n",
       "AAPL          2008-06-18                1          -1                       0   \n",
       "ABG           2007-06-22               -1          -1                       0   \n",
       "A             2013-06-11               -1           1                       0   \n",
       "ABC           2011-07-01                1           1                       0   \n",
       "              2010-01-22                1           1                       1   \n",
       "AAP           2016-04-22               -1          -1                       0   \n",
       "ABAX          2007-05-17                1           1                       0   \n",
       "ABG           2013-04-16               -1          -1                       0   \n",
       "AAPL          2017-01-31                1           1                       1   \n",
       "ABBV          2016-10-13               -1           1                      -1   \n",
       "AAON          2014-01-31               -1          -1                      -1   \n",
       "ABCB          2009-12-23                1           1                       0   \n",
       "AAON          2000-05-18               -1           1                       0   \n",
       "ABG           2009-01-21               -1           1                       0   \n",
       "AAN           2005-04-19                1          -1                       0   \n",
       "A             2008-06-19               -1          -1                       0   \n",
       "ABM           2010-08-18               -1          -1                      -1   \n",
       "ABG           2010-03-26               -1          -1                       0   \n",
       "\n",
       "                               5day significant label  \n",
       "tradingSymbol publishDate_str                          \n",
       "ABG           2010-04-07                            0  \n",
       "AAON          2011-08-24                            0  \n",
       "AAPL          2008-06-18                            0  \n",
       "ABG           2007-06-22                            0  \n",
       "A             2013-06-11                            0  \n",
       "ABC           2011-07-01                            0  \n",
       "              2010-01-22                            1  \n",
       "AAP           2016-04-22                            0  \n",
       "ABAX          2007-05-17                            0  \n",
       "ABG           2013-04-16                            0  \n",
       "AAPL          2017-01-31                            1  \n",
       "ABBV          2016-10-13                            0  \n",
       "AAON          2014-01-31                           -1  \n",
       "ABCB          2009-12-23                            1  \n",
       "AAON          2000-05-18                            0  \n",
       "ABG           2009-01-21                            1  \n",
       "AAN           2005-04-19                            0  \n",
       "A             2008-06-19                           -1  \n",
       "ABM           2010-08-18                           -1  \n",
       "ABG           2010-03-26                            0  "
      ]
     },
     "execution_count": 14,
     "metadata": {},
     "output_type": "execute_result"
    }
   ],
   "source": [
    "all_stocks.sample(20)"
   ]
  },
  {
   "cell_type": "markdown",
   "metadata": {
    "deletable": true,
    "editable": true
   },
   "source": [
    "# Merge transcripts with stock data"
   ]
  },
  {
   "cell_type": "code",
   "execution_count": 15,
   "metadata": {
    "collapsed": false,
    "deletable": true,
    "editable": true
   },
   "outputs": [],
   "source": [
    "merged_data = earnings_transcript.merge(all_stocks, left_index=True, right_index=True)"
   ]
  },
  {
   "cell_type": "code",
   "execution_count": 16,
   "metadata": {
    "collapsed": false,
    "deletable": true,
    "editable": true
   },
   "outputs": [
    {
     "data": {
      "text/html": [
       "<div>\n",
       "<table border=\"1\" class=\"dataframe\">\n",
       "  <thead>\n",
       "    <tr style=\"text-align: right;\">\n",
       "      <th></th>\n",
       "      <th></th>\n",
       "      <th>publishDate</th>\n",
       "      <th>qAndAText</th>\n",
       "      <th>rawText</th>\n",
       "      <th>url</th>\n",
       "      <th>shifted_publishDate</th>\n",
       "      <th>Close</th>\n",
       "      <th>Std Dev</th>\n",
       "      <th>1day return</th>\n",
       "      <th>5day return</th>\n",
       "      <th>1day label</th>\n",
       "      <th>5day label</th>\n",
       "      <th>1day significant label</th>\n",
       "      <th>5day significant label</th>\n",
       "    </tr>\n",
       "    <tr>\n",
       "      <th>tradingSymbol</th>\n",
       "      <th>publishDate_str</th>\n",
       "      <th></th>\n",
       "      <th></th>\n",
       "      <th></th>\n",
       "      <th></th>\n",
       "      <th></th>\n",
       "      <th></th>\n",
       "      <th></th>\n",
       "      <th></th>\n",
       "      <th></th>\n",
       "      <th></th>\n",
       "      <th></th>\n",
       "      <th></th>\n",
       "      <th></th>\n",
       "    </tr>\n",
       "  </thead>\n",
       "  <tbody>\n",
       "    <tr>\n",
       "      <th>A</th>\n",
       "      <th>2009-05-15</th>\n",
       "      <td>2009-05-15T03:50:33Z</td>\n",
       "      <td>Operator Certainly. (Operator Instructions) Yo...</td>\n",
       "      <td>Agilent Technologies Inc. (NYSE: A ) F2Q09 Ear...</td>\n",
       "      <td>https://seekingalpha.com/article/137791-agilen...</td>\n",
       "      <td>2009-05-15 23:50:33-04:00</td>\n",
       "      <td>11.965868</td>\n",
       "      <td>0.711619</td>\n",
       "      <td>0.149149</td>\n",
       "      <td>0.027118</td>\n",
       "      <td>1</td>\n",
       "      <td>1</td>\n",
       "      <td>0</td>\n",
       "      <td>0</td>\n",
       "    </tr>\n",
       "    <tr>\n",
       "      <th>AAPL</th>\n",
       "      <th>2013-04-24</th>\n",
       "      <td>2013-04-23T22:46:07Z</td>\n",
       "      <td>Operator (Operator Instructions) First we’ll g...</td>\n",
       "      <td>Apple Inc. (NASDAQ: AAPL ) F2Q13 Earnings Conf...</td>\n",
       "      <td>https://seekingalpha.com/article/1364041-apple...</td>\n",
       "      <td>2013-04-24 18:46:07-04:00</td>\n",
       "      <td>53.306587</td>\n",
       "      <td>2.208446</td>\n",
       "      <td>0.383900</td>\n",
       "      <td>4.447696</td>\n",
       "      <td>1</td>\n",
       "      <td>1</td>\n",
       "      <td>0</td>\n",
       "      <td>1</td>\n",
       "    </tr>\n",
       "    <tr>\n",
       "      <th>AAP</th>\n",
       "      <th>2016-05-19</th>\n",
       "      <td>2016-05-19T18:27:09Z</td>\n",
       "      <td>Operator Thank you. We will now begin the ques...</td>\n",
       "      <td>Advance Auto Parts, Inc. (NYSE: AAP ) Q1 2016 ...</td>\n",
       "      <td>https://seekingalpha.com/article/3976413-advan...</td>\n",
       "      <td>2016-05-19 14:27:09-04:00</td>\n",
       "      <td>143.318667</td>\n",
       "      <td>5.256864</td>\n",
       "      <td>2.845612</td>\n",
       "      <td>13.099781</td>\n",
       "      <td>1</td>\n",
       "      <td>1</td>\n",
       "      <td>0</td>\n",
       "      <td>1</td>\n",
       "    </tr>\n",
       "    <tr>\n",
       "      <th>ABC</th>\n",
       "      <th>2014-10-31</th>\n",
       "      <td>2014-10-30T20:10:10Z</td>\n",
       "      <td>Operator [Operator Instructions] We'll go to t...</td>\n",
       "      <td>AmerisourceBergen (NYSE: ABC ) Q4 2014 Earning...</td>\n",
       "      <td>https://seekingalpha.com/article/2619685-ameri...</td>\n",
       "      <td>2014-10-31 16:10:10-04:00</td>\n",
       "      <td>82.397020</td>\n",
       "      <td>2.695341</td>\n",
       "      <td>1.437435</td>\n",
       "      <td>1.273434</td>\n",
       "      <td>1</td>\n",
       "      <td>1</td>\n",
       "      <td>0</td>\n",
       "      <td>0</td>\n",
       "    </tr>\n",
       "    <tr>\n",
       "      <th>AAP</th>\n",
       "      <th>2016-08-16</th>\n",
       "      <td>2016-08-16T18:47:28Z</td>\n",
       "      <td>Operator  [Operator Instructions]. The first q...</td>\n",
       "      <td>Advance Auto Parts, Inc. (NYSE: AAP ) Q2 2016 ...</td>\n",
       "      <td>https://seekingalpha.com/article/4000006-advan...</td>\n",
       "      <td>2016-08-16 14:47:28-04:00</td>\n",
       "      <td>160.215656</td>\n",
       "      <td>2.527540</td>\n",
       "      <td>-2.347290</td>\n",
       "      <td>-2.457164</td>\n",
       "      <td>-1</td>\n",
       "      <td>-1</td>\n",
       "      <td>0</td>\n",
       "      <td>0</td>\n",
       "    </tr>\n",
       "  </tbody>\n",
       "</table>\n",
       "</div>"
      ],
      "text/plain": [
       "                                        publishDate  \\\n",
       "tradingSymbol publishDate_str                         \n",
       "A             2009-05-15       2009-05-15T03:50:33Z   \n",
       "AAPL          2013-04-24       2013-04-23T22:46:07Z   \n",
       "AAP           2016-05-19       2016-05-19T18:27:09Z   \n",
       "ABC           2014-10-31       2014-10-30T20:10:10Z   \n",
       "AAP           2016-08-16       2016-08-16T18:47:28Z   \n",
       "\n",
       "                                                                       qAndAText  \\\n",
       "tradingSymbol publishDate_str                                                      \n",
       "A             2009-05-15       Operator Certainly. (Operator Instructions) Yo...   \n",
       "AAPL          2013-04-24       Operator (Operator Instructions) First we’ll g...   \n",
       "AAP           2016-05-19       Operator Thank you. We will now begin the ques...   \n",
       "ABC           2014-10-31       Operator [Operator Instructions] We'll go to t...   \n",
       "AAP           2016-08-16       Operator  [Operator Instructions]. The first q...   \n",
       "\n",
       "                                                                         rawText  \\\n",
       "tradingSymbol publishDate_str                                                      \n",
       "A             2009-05-15       Agilent Technologies Inc. (NYSE: A ) F2Q09 Ear...   \n",
       "AAPL          2013-04-24       Apple Inc. (NASDAQ: AAPL ) F2Q13 Earnings Conf...   \n",
       "AAP           2016-05-19       Advance Auto Parts, Inc. (NYSE: AAP ) Q1 2016 ...   \n",
       "ABC           2014-10-31       AmerisourceBergen (NYSE: ABC ) Q4 2014 Earning...   \n",
       "AAP           2016-08-16       Advance Auto Parts, Inc. (NYSE: AAP ) Q2 2016 ...   \n",
       "\n",
       "                                                                             url  \\\n",
       "tradingSymbol publishDate_str                                                      \n",
       "A             2009-05-15       https://seekingalpha.com/article/137791-agilen...   \n",
       "AAPL          2013-04-24       https://seekingalpha.com/article/1364041-apple...   \n",
       "AAP           2016-05-19       https://seekingalpha.com/article/3976413-advan...   \n",
       "ABC           2014-10-31       https://seekingalpha.com/article/2619685-ameri...   \n",
       "AAP           2016-08-16       https://seekingalpha.com/article/4000006-advan...   \n",
       "\n",
       "                                    shifted_publishDate       Close   Std Dev  \\\n",
       "tradingSymbol publishDate_str                                                   \n",
       "A             2009-05-15      2009-05-15 23:50:33-04:00   11.965868  0.711619   \n",
       "AAPL          2013-04-24      2013-04-24 18:46:07-04:00   53.306587  2.208446   \n",
       "AAP           2016-05-19      2016-05-19 14:27:09-04:00  143.318667  5.256864   \n",
       "ABC           2014-10-31      2014-10-31 16:10:10-04:00   82.397020  2.695341   \n",
       "AAP           2016-08-16      2016-08-16 14:47:28-04:00  160.215656  2.527540   \n",
       "\n",
       "                               1day return  5day return  1day label  \\\n",
       "tradingSymbol publishDate_str                                         \n",
       "A             2009-05-15          0.149149     0.027118           1   \n",
       "AAPL          2013-04-24          0.383900     4.447696           1   \n",
       "AAP           2016-05-19          2.845612    13.099781           1   \n",
       "ABC           2014-10-31          1.437435     1.273434           1   \n",
       "AAP           2016-08-16         -2.347290    -2.457164          -1   \n",
       "\n",
       "                               5day label  1day significant label  \\\n",
       "tradingSymbol publishDate_str                                       \n",
       "A             2009-05-15                1                       0   \n",
       "AAPL          2013-04-24                1                       0   \n",
       "AAP           2016-05-19                1                       0   \n",
       "ABC           2014-10-31                1                       0   \n",
       "AAP           2016-08-16               -1                       0   \n",
       "\n",
       "                               5day significant label  \n",
       "tradingSymbol publishDate_str                          \n",
       "A             2009-05-15                            0  \n",
       "AAPL          2013-04-24                            1  \n",
       "AAP           2016-05-19                            1  \n",
       "ABC           2014-10-31                            0  \n",
       "AAP           2016-08-16                            0  "
      ]
     },
     "execution_count": 16,
     "metadata": {},
     "output_type": "execute_result"
    }
   ],
   "source": [
    "merged_data.sample(5)"
   ]
  },
  {
   "cell_type": "code",
   "execution_count": 17,
   "metadata": {
    "collapsed": false,
    "deletable": true,
    "editable": true
   },
   "outputs": [],
   "source": [
    "shorts = merged_data[merged_data['rawText'].apply(len) < 5000]"
   ]
  },
  {
   "cell_type": "code",
   "execution_count": 18,
   "metadata": {
    "collapsed": false,
    "deletable": true,
    "editable": true
   },
   "outputs": [
    {
     "data": {
      "text/plain": [
       "78"
      ]
     },
     "execution_count": 18,
     "metadata": {},
     "output_type": "execute_result"
    }
   ],
   "source": [
    "len(shorts)"
   ]
  },
  {
   "cell_type": "code",
   "execution_count": 19,
   "metadata": {
    "collapsed": true,
    "deletable": true,
    "editable": true
   },
   "outputs": [],
   "source": [
    "merged_data = merged_data[merged_data['rawText'].apply(len) > 5000]"
   ]
  },
  {
   "cell_type": "markdown",
   "metadata": {
    "deletable": true,
    "editable": true
   },
   "source": [
    "# Create train data and test data"
   ]
  },
  {
   "cell_type": "code",
   "execution_count": 20,
   "metadata": {
    "collapsed": false
   },
   "outputs": [
    {
     "data": {
      "text/plain": [
       "<matplotlib.axes._subplots.AxesSubplot at 0x19a0d073e10>"
      ]
     },
     "execution_count": 20,
     "metadata": {},
     "output_type": "execute_result"
    },
    {
     "data": {
      "image/png": "[encoded data removed]",
      "text/plain": [
       "<matplotlib.figure.Figure at 0x19a0cc61e10>"
      ]
     },
     "metadata": {},
     "output_type": "display_data"
    }
   ],
   "source": [
    "f, (ax1, ax2) = plt.subplots(2, sharex=True, figsize=(10, 10))\n",
    "sns.distplot(merged_data['5day significant label'], ax=ax1)\n",
    "sns.distplot(merged_data['1day significant label'], ax=ax2)"
   ]
  },
  {
   "cell_type": "code",
   "execution_count": 21,
   "metadata": {
    "collapsed": false
   },
   "outputs": [
    {
     "data": {
      "text/plain": [
       " 0    215\n",
       " 1    110\n",
       "-1     57\n",
       "Name: 5day significant label, dtype: int64"
      ]
     },
     "execution_count": 21,
     "metadata": {},
     "output_type": "execute_result"
    }
   ],
   "source": [
    "merged_data['5day significant label'].value_counts()"
   ]
  },
  {
   "cell_type": "code",
   "execution_count": 22,
   "metadata": {
    "collapsed": false,
    "deletable": true,
    "editable": true
   },
   "outputs": [],
   "source": [
    "X = merged_data['rawText']\n",
    "y = merged_data['5day significant label'] + 1"
   ]
  },
  {
   "cell_type": "code",
   "execution_count": 23,
   "metadata": {
    "collapsed": true,
    "deletable": true,
    "editable": true
   },
   "outputs": [],
   "source": [
    "X_train, X_test, y_train, y_test = train_test_split(X, y, test_size=0.3)"
   ]
  },
  {
   "cell_type": "markdown",
   "metadata": {
    "deletable": true,
    "editable": true
   },
   "source": [
    "# Tf-Idf and DNN model"
   ]
  },
  {
   "cell_type": "code",
   "execution_count": 24,
   "metadata": {
    "collapsed": true,
    "deletable": true,
    "editable": true
   },
   "outputs": [],
   "source": [
    "tfidf = TfidfVectorizer(max_df=0.35, min_df=2, ngram_range=(1,3), stop_words='english')"
   ]
  },
  {
   "cell_type": "code",
   "execution_count": 25,
   "metadata": {
    "collapsed": true,
    "deletable": true,
    "editable": true
   },
   "outputs": [],
   "source": [
    "tfidf_vectors = tfidf.fit_transform(X_train)"
   ]
  },
  {
   "cell_type": "code",
   "execution_count": 26,
   "metadata": {
    "collapsed": false,
    "deletable": true,
    "editable": true
   },
   "outputs": [
    {
     "name": "stdout",
     "output_type": "stream",
     "text": [
      "WARNING:tensorflow:Using temporary folder as model directory: C:\\Users\\neural\\AppData\\Local\\Temp\\tmp5ojc8i8b\n",
      "INFO:tensorflow:Using default config.\n",
      "INFO:tensorflow:Using config: {'_task_type': None, '_save_checkpoints_steps': None, '_tf_random_seed': None, '_cluster_spec': <tensorflow.python.training.server_lib.ClusterSpec object at 0x0000019A0CB95C50>, '_save_checkpoints_secs': 600, '_task_id': 0, '_keep_checkpoint_every_n_hours': 10000, '_keep_checkpoint_max': 5, '_master': '', '_tf_config': gpu_options {\n",
      "  per_process_gpu_memory_fraction: 1\n",
      "}\n",
      ", '_save_summary_steps': 100, '_num_ps_replicas': 0, '_is_chief': True, '_environment': 'local', '_evaluation_master': ''}\n"
     ]
    }
   ],
   "source": [
    "classifier = learn.DNNClassifier(hidden_units=[200,300,200], n_classes=3, \n",
    "                                 feature_columns=[tf.contrib.layers.real_valued_column(\"\", dimension=tfidf_vectors.shape[1])])"
   ]
  },
  {
   "cell_type": "code",
   "execution_count": 27,
   "metadata": {
    "collapsed": false,
    "deletable": true,
    "editable": true
   },
   "outputs": [
    {
     "name": "stdout",
     "output_type": "stream",
     "text": [
      "WARNING:tensorflow:From <ipython-input-27-117eb421c7ea>:1: calling BaseEstimator.fit (from tensorflow.contrib.learn.python.learn.estimators.estimator) with y is deprecated and will be removed after 2016-12-01.\n",
      "Instructions for updating:\n",
      "Estimator is decoupled from Scikit Learn interface by moving into\n",
      "separate class SKCompat. Arguments x, y and batch_size are only\n",
      "available in the SKCompat class, Estimator will only accept input_fn.\n",
      "Example conversion:\n",
      "  est = Estimator(...) -> est = SKCompat(Estimator(...))\n",
      "WARNING:tensorflow:From <ipython-input-27-117eb421c7ea>:1: calling BaseEstimator.fit (from tensorflow.contrib.learn.python.learn.estimators.estimator) with x is deprecated and will be removed after 2016-12-01.\n",
      "Instructions for updating:\n",
      "Estimator is decoupled from Scikit Learn interface by moving into\n",
      "separate class SKCompat. Arguments x, y and batch_size are only\n",
      "available in the SKCompat class, Estimator will only accept input_fn.\n",
      "Example conversion:\n",
      "  est = Estimator(...) -> est = SKCompat(Estimator(...))\n",
      "WARNING:tensorflow:From <ipython-input-27-117eb421c7ea>:1: calling BaseEstimator.fit (from tensorflow.contrib.learn.python.learn.estimators.estimator) with batch_size is deprecated and will be removed after 2016-12-01.\n",
      "Instructions for updating:\n",
      "Estimator is decoupled from Scikit Learn interface by moving into\n",
      "separate class SKCompat. Arguments x, y and batch_size are only\n",
      "available in the SKCompat class, Estimator will only accept input_fn.\n",
      "Example conversion:\n",
      "  est = Estimator(...) -> est = SKCompat(Estimator(...))\n",
      "WARNING:tensorflow:float64 is not supported by many models, consider casting to float32.\n"
     ]
    },
    {
     "name": "stderr",
     "output_type": "stream",
     "text": [
      "C:\\ProgramData\\Anaconda3\\envs\\tensorflow\\lib\\site-packages\\tensorflow\\python\\util\\deprecation.py:247: FutureWarning: comparison to `None` will result in an elementwise object comparison in the future.\n",
      "  equality = a == b\n"
     ]
    },
    {
     "name": "stdout",
     "output_type": "stream",
     "text": [
      "WARNING:tensorflow:From C:\\ProgramData\\Anaconda3\\envs\\tensorflow\\lib\\site-packages\\tensorflow\\contrib\\learn\\python\\learn\\estimators\\head.py:1362: scalar_summary (from tensorflow.python.ops.logging_ops) is deprecated and will be removed after 2016-11-30.\n",
      "Instructions for updating:\n",
      "Please switch to tf.summary.scalar. Note that tf.summary.scalar uses the node name instead of the tag. This means that TensorFlow will automatically de-duplicate summary names based on the scope they are created in. Also, passing a tensor or list of tags to a scalar summary op is no longer supported.\n",
      "INFO:tensorflow:Create CheckpointSaverHook.\n",
      "INFO:tensorflow:Saving checkpoints for 1 into C:\\Users\\neural\\AppData\\Local\\Temp\\tmp5ojc8i8b\\model.ckpt.\n",
      "INFO:tensorflow:loss = 1.09886, step = 1\n",
      "INFO:tensorflow:global_step/sec: 3.36363\n",
      "INFO:tensorflow:loss = 0.79263, step = 101\n",
      "INFO:tensorflow:global_step/sec: 3.13058\n",
      "INFO:tensorflow:loss = 0.662582, step = 201\n",
      "INFO:tensorflow:global_step/sec: 3.01616\n",
      "INFO:tensorflow:loss = 0.324865, step = 301\n",
      "INFO:tensorflow:global_step/sec: 2.94625\n",
      "INFO:tensorflow:loss = 0.0714979, step = 401\n",
      "INFO:tensorflow:global_step/sec: 3.07125\n",
      "INFO:tensorflow:loss = 0.00994844, step = 501\n",
      "INFO:tensorflow:Saving checkpoints for 600 into C:\\Users\\neural\\AppData\\Local\\Temp\\tmp5ojc8i8b\\model.ckpt.\n",
      "INFO:tensorflow:Loss for final step: 0.00451479.\n"
     ]
    },
    {
     "data": {
      "text/plain": [
       "DNNClassifier(params={'gradient_clip_norm': None, 'input_layer_min_slice_size': None, 'dropout': None, 'activation_fn': <function relu at 0x0000019A09B730D0>, 'embedding_lr_multipliers': None, 'hidden_units': [200, 300, 200], 'head': <tensorflow.contrib.learn.python.learn.estimators.head._MultiClassHead object at 0x0000019A19C7B198>, 'optimizer': None, 'feature_columns': (_RealValuedColumn(column_name='', dimension=198209, default_value=None, dtype=tf.float32, normalizer=None),)})"
      ]
     },
     "execution_count": 27,
     "metadata": {},
     "output_type": "execute_result"
    }
   ],
   "source": [
    "classifier.fit(tfidf_vectors.todense(), y_train, batch_size=20, steps=600)"
   ]
  },
  {
   "cell_type": "code",
   "execution_count": 28,
   "metadata": {
    "collapsed": false,
    "deletable": true,
    "editable": true
   },
   "outputs": [
    {
     "name": "stdout",
     "output_type": "stream",
     "text": [
      "WARNING:tensorflow:From C:\\ProgramData\\Anaconda3\\envs\\tensorflow\\lib\\site-packages\\tensorflow\\contrib\\learn\\python\\learn\\estimators\\dnn.py:374: calling BaseEstimator.predict (from tensorflow.contrib.learn.python.learn.estimators.estimator) with x is deprecated and will be removed after 2016-12-01.\n",
      "Instructions for updating:\n",
      "Estimator is decoupled from Scikit Learn interface by moving into\n",
      "separate class SKCompat. Arguments x, y and batch_size are only\n",
      "available in the SKCompat class, Estimator will only accept input_fn.\n",
      "Example conversion:\n",
      "  est = Estimator(...) -> est = SKCompat(Estimator(...))\n",
      "WARNING:tensorflow:float64 is not supported by many models, consider casting to float32.\n"
     ]
    },
    {
     "name": "stderr",
     "output_type": "stream",
     "text": [
      "C:\\ProgramData\\Anaconda3\\envs\\tensorflow\\lib\\site-packages\\tensorflow\\python\\util\\deprecation.py:247: FutureWarning: comparison to `None` will result in an elementwise object comparison in the future.\n",
      "  equality = a == b\n"
     ]
    }
   ],
   "source": [
    "y_predicted = list(classifier.predict(tfidf.transform(X_test).todense()))"
   ]
  },
  {
   "cell_type": "markdown",
   "metadata": {
    "deletable": true,
    "editable": true
   },
   "source": [
    "#### Confusion matrix\n",
    "By definition a confusion matrix :math:`C` is such that :math:`C_{i, j}`\n",
    "is equal to the number of observations known to be in group :math:`i` but\n",
    "predicted to be in group :math:`j`."
   ]
  },
  {
   "cell_type": "code",
   "execution_count": 29,
   "metadata": {
    "collapsed": false,
    "deletable": true,
    "editable": true
   },
   "outputs": [],
   "source": [
    "cm = confusion_matrix(y_test, y_predicted)"
   ]
  },
  {
   "cell_type": "code",
   "execution_count": 36,
   "metadata": {
    "collapsed": false,
    "deletable": true,
    "editable": true
   },
   "outputs": [
    {
     "data": {
      "text/plain": [
       "<matplotlib.axes._subplots.AxesSubplot at 0x19a13c469b0>"
      ]
     },
     "execution_count": 36,
     "metadata": {},
     "output_type": "execute_result"
    },
    {
     "data": {
      "image/png": "[encoded data removed]",
      "text/plain": [
       "<matplotlib.figure.Figure at 0x19a1cce0f60>"
      ]
     },
     "metadata": {},
     "output_type": "display_data"
    }
   ],
   "source": [
    "sns.heatmap(cm, cmap='magma', annot=True, xticklabels=['-1', '0', '1'], yticklabels=['-1', '0', '1'])"
   ]
  },
  {
   "cell_type": "code",
   "execution_count": 31,
   "metadata": {
    "collapsed": false,
    "deletable": true,
    "editable": true
   },
   "outputs": [
    {
     "name": "stdout",
     "output_type": "stream",
     "text": [
      "             precision    recall  f1-score   support\n",
      "\n",
      "          0       0.00      0.00      0.00        17\n",
      "          1       0.44      0.78      0.57        51\n",
      "          2       0.50      0.19      0.28        47\n",
      "\n",
      "avg / total       0.40      0.43      0.36       115\n",
      "\n"
     ]
    }
   ],
   "source": [
    "cr = classification_report(y_test, y_predicted)\n",
    "print(cr)"
   ]
  },
  {
   "cell_type": "markdown",
   "metadata": {},
   "source": [
    "# Playground"
   ]
  },
  {
   "cell_type": "code",
   "execution_count": 33,
   "metadata": {
    "collapsed": false
   },
   "outputs": [
    {
     "name": "stdout",
     "output_type": "stream",
     "text": [
      "['zyprexa generics', 'operating businesses', 'operating capacities', 'discipline investing key', 'discipline investing', 'discipline focus', 'discipline continue', 'operating cash generation', 'discipline comes', 'operating changes']\n"
     ]
    }
   ],
   "source": [
    "indices = np.argsort(tfidf.idf_)[::-1]\n",
    "features = tfidf.get_feature_names()\n",
    "top_n = 10\n",
    "top_features = [features[i] for i in indices[:top_n]]\n",
    "print(top_features)"
   ]
  },
  {
   "cell_type": "markdown",
   "metadata": {},
   "source": [
    "### LogReg backtest"
   ]
  },
  {
   "cell_type": "code",
   "execution_count": 34,
   "metadata": {
    "collapsed": false
   },
   "outputs": [
    {
     "data": {
      "text/plain": [
       "<matplotlib.axes._subplots.AxesSubplot at 0x19a148b59e8>"
      ]
     },
     "execution_count": 34,
     "metadata": {},
     "output_type": "execute_result"
    },
    {
     "data": {
      "image/png": "[encoded data removed]",
      "text/plain": [
       "<matplotlib.figure.Figure at 0x19a162874a8>"
      ]
     },
     "metadata": {},
     "output_type": "display_data"
    }
   ],
   "source": [
    "classifier2 = LogisticRegression()\n",
    "classifier2.fit(tfidf_vectors, y_train)\n",
    "y_predicted2 = classifier2.predict(tfidf.transform(X_test))\n",
    "sns.heatmap(confusion_matrix(y_test, y_predicted2), cmap='magma', annot=True)"
   ]
  }
 ],
 "metadata": {
  "kernelspec": {
   "display_name": "Python 3",
   "language": "python",
   "name": "python3"
  },
  "language_info": {
   "codemirror_mode": {
    "name": "ipython",
    "version": 3
   },
   "file_extension": ".py",
   "mimetype": "text/x-python",
   "name": "python",
   "nbconvert_exporter": "python",
   "pygments_lexer": "ipython3",
   "version": "3.5.3"
  }
 },
 "nbformat": 4,
 "nbformat_minor": 2
}
