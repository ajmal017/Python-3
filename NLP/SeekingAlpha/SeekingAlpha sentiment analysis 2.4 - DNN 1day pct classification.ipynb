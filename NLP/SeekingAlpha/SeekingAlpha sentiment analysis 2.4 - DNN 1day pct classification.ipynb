{
 "cells": [
  {
   "cell_type": "code",
   "execution_count": 1,
   "metadata": {},
   "outputs": [
    {
     "name": "stderr",
     "output_type": "stream",
     "text": [
      "Using TensorFlow backend.\n"
     ]
    }
   ],
   "source": [
    "import numpy as np\n",
    "import pandas as pd\n",
    "import keras\n",
    "from keras.models import Sequential\n",
    "from keras.layers import Dense\n",
    "from keras.wrappers.scikit_learn import KerasClassifier\n",
    "from sklearn.model_selection import cross_val_score\n",
    "from sklearn.model_selection import KFold\n",
    "from sklearn.preprocessing import StandardScaler\n",
    "from sklearn.pipeline import Pipeline"
   ]
  },
  {
   "cell_type": "code",
   "execution_count": 2,
   "metadata": {
    "collapsed": false,
    "deletable": true,
    "editable": true
   },
   "outputs": [],
   "source": [
    "from sklearn.feature_extraction.text import TfidfVectorizer\n",
    "from sklearn.decomposition import TruncatedSVD\n",
    "from sklearn.pipeline import make_pipeline\n",
    "from sklearn.preprocessing import Normalizer\n",
    "from sklearn.metrics import classification_report, accuracy_score, confusion_matrix\n",
    "from sklearn.model_selection import train_test_split"
   ]
  },
  {
   "cell_type": "code",
   "execution_count": 3,
   "metadata": {},
   "outputs": [],
   "source": [
    "from sklearn.externals import joblib"
   ]
  },
  {
   "cell_type": "code",
   "execution_count": 4,
   "metadata": {},
   "outputs": [],
   "source": [
    "import nltk\n",
    "from nltk import word_tokenize\n",
    "from nltk.stem import WordNetLemmatizer"
   ]
  },
  {
   "cell_type": "code",
   "execution_count": 5,
   "metadata": {
    "collapsed": true,
    "deletable": true,
    "editable": true
   },
   "outputs": [],
   "source": [
    "import matplotlib.pyplot as plt\n",
    "import seaborn as sns\n",
    "%matplotlib inline"
   ]
  },
  {
   "cell_type": "markdown",
   "metadata": {},
   "source": [
    "# Load data from file"
   ]
  },
  {
   "cell_type": "code",
   "execution_count": 6,
   "metadata": {},
   "outputs": [],
   "source": [
    "merged_data = pd.read_pickle('merged_data_pct_change.pkl')"
   ]
  },
  {
   "cell_type": "code",
   "execution_count": 7,
   "metadata": {},
   "outputs": [],
   "source": [
    "filtered_merged_data = merged_data[merged_data['1day relative pct change'].abs() > 3.]"
   ]
  },
  {
   "cell_type": "code",
   "execution_count": 8,
   "metadata": {},
   "outputs": [
    {
     "data": {
      "text/plain": [
       "<matplotlib.axes._subplots.AxesSubplot at 0x1f8eaf62a20>"
      ]
     },
     "execution_count": 8,
     "metadata": {},
     "output_type": "execute_result"
    },
    {
     "data": {
      "image/png": "[encoded data removed]",
      "text/plain": [
       "<matplotlib.figure.Figure at 0x1f8eaf62d30>"
      ]
     },
     "metadata": {},
     "output_type": "display_data"
    }
   ],
   "source": [
    "plt.figure(figsize=(20,10))\n",
    "sns.distplot(filtered_merged_data['1day relative pct change'], bins=50, rug=True)"
   ]
  },
  {
   "cell_type": "code",
   "execution_count": 9,
   "metadata": {},
   "outputs": [
    {
     "data": {
      "text/plain": [
       "869"
      ]
     },
     "execution_count": 9,
     "metadata": {},
     "output_type": "execute_result"
    }
   ],
   "source": [
    "len(filtered_merged_data)"
   ]
  },
  {
   "cell_type": "markdown",
   "metadata": {
    "deletable": true,
    "editable": true
   },
   "source": [
    "# Create train data and test data"
   ]
  },
  {
   "cell_type": "code",
   "execution_count": 10,
   "metadata": {
    "collapsed": false,
    "deletable": true,
    "editable": true
   },
   "outputs": [],
   "source": [
    "X = filtered_merged_data['rawText']\n",
    "y = filtered_merged_data['1day relative pct change'] > 0"
   ]
  },
  {
   "cell_type": "code",
   "execution_count": 11,
   "metadata": {
    "collapsed": true,
    "deletable": true,
    "editable": true
   },
   "outputs": [],
   "source": [
    "X_train, X_test, y_train, y_test = train_test_split(X, y, test_size=0.2)"
   ]
  },
  {
   "cell_type": "markdown",
   "metadata": {
    "deletable": true,
    "editable": true
   },
   "source": [
    "# Tf-Idf"
   ]
  },
  {
   "cell_type": "markdown",
   "metadata": {},
   "source": [
    "### Load from file"
   ]
  },
  {
   "cell_type": "code",
   "execution_count": 12,
   "metadata": {},
   "outputs": [],
   "source": [
    "#tfidf = joblib.load('tfidf_lemmatokenizer__maxdf0_4__mindf300.pkl')"
   ]
  },
  {
   "cell_type": "code",
   "execution_count": 13,
   "metadata": {},
   "outputs": [],
   "source": [
    "#tfidf_vectors = tfidf.transform(X_train)"
   ]
  },
  {
   "cell_type": "markdown",
   "metadata": {},
   "source": [
    "### Recreate vectorizer from scratch"
   ]
  },
  {
   "cell_type": "code",
   "execution_count": 14,
   "metadata": {},
   "outputs": [],
   "source": [
    "class LemmaTokenizer(object):\n",
    "    def __init__(self):\n",
    "        self.wnl = WordNetLemmatizer()\n",
    "    def __call__(self, doc):\n",
    "        return [self.wnl.lemmatize(t.lower(), 'v') for t in word_tokenize(doc)]"
   ]
  },
  {
   "cell_type": "code",
   "execution_count": 15,
   "metadata": {},
   "outputs": [],
   "source": [
    "tfidf = TfidfVectorizer(max_df=0.5, min_df=5, ngram_range=(1,2),tokenizer=LemmaTokenizer(), stop_words='english')\n",
    "svd = TruncatedSVD(300)\n",
    "lsa = make_pipeline(tfidf, svd)\n",
    "\n",
    "# Run SVD on the training data, then project the training data.\n",
    "lsa_vectors = lsa.fit_transform(X_train)"
   ]
  },
  {
   "cell_type": "code",
   "execution_count": 16,
   "metadata": {},
   "outputs": [
    {
     "data": {
      "text/plain": [
       "(695, 300)"
      ]
     },
     "execution_count": 16,
     "metadata": {},
     "output_type": "execute_result"
    }
   ],
   "source": [
    "lsa_vectors.shape"
   ]
  },
  {
   "cell_type": "code",
   "execution_count": 17,
   "metadata": {},
   "outputs": [],
   "source": [
    "#joblib.dump(tfidf, 'tfidf_lemmatokenizer__maxdf0_4__mindf300.pkl')"
   ]
  },
  {
   "cell_type": "markdown",
   "metadata": {},
   "source": [
    "# DNN model"
   ]
  },
  {
   "cell_type": "code",
   "execution_count": 27,
   "metadata": {},
   "outputs": [],
   "source": [
    "# define base model\n",
    "def baseline_model():\n",
    "    model = Sequential()\n",
    "    model.add(Dense(50, input_dim=lsa_vectors.shape[1], kernel_initializer='normal', activation='relu'))\n",
    "    model.add(Dense(10, kernel_initializer='normal', activation='relu'))\n",
    "    model.add(Dense(10, kernel_initializer='normal', activation='relu'))\n",
    "    model.add(Dense(1, activation='sigmoid'))\n",
    "    model.compile(optimizer='rmsprop',\n",
    "                  loss='binary_crossentropy',\n",
    "                  metrics=['accuracy'])\n",
    "    return model"
   ]
  },
  {
   "cell_type": "code",
   "execution_count": 28,
   "metadata": {},
   "outputs": [],
   "source": [
    "estimator = KerasClassifier(build_fn=baseline_model, epochs=50, batch_size=5, verbose=2)"
   ]
  },
  {
   "cell_type": "code",
   "execution_count": 29,
   "metadata": {},
   "outputs": [
    {
     "name": "stdout",
     "output_type": "stream",
     "text": [
      "Epoch 1/50\n",
      "1s - loss: 0.6934 - acc: 0.4921\n",
      "Epoch 2/50\n",
      "0s - loss: 0.6933 - acc: 0.4849\n",
      "Epoch 3/50\n",
      "0s - loss: 0.6888 - acc: 0.5525\n",
      "Epoch 4/50\n",
      "0s - loss: 0.6588 - acc: 0.6849\n",
      "Epoch 5/50\n",
      "0s - loss: 0.5871 - acc: 0.7482\n",
      "Epoch 6/50\n",
      "0s - loss: 0.5128 - acc: 0.7914\n",
      "Epoch 7/50\n",
      "0s - loss: 0.4556 - acc: 0.8158\n",
      "Epoch 8/50\n",
      "0s - loss: 0.4132 - acc: 0.8230\n",
      "Epoch 9/50\n",
      "0s - loss: 0.3792 - acc: 0.8489\n",
      "Epoch 10/50\n",
      "0s - loss: 0.3514 - acc: 0.8561\n",
      "Epoch 11/50\n",
      "0s - loss: 0.3213 - acc: 0.8676\n",
      "Epoch 12/50\n",
      "0s - loss: 0.2957 - acc: 0.8849\n",
      "Epoch 13/50\n",
      "0s - loss: 0.2736 - acc: 0.8993\n",
      "Epoch 14/50\n",
      "0s - loss: 0.2451 - acc: 0.9108\n",
      "Epoch 15/50\n",
      "0s - loss: 0.2146 - acc: 0.9353\n",
      "Epoch 16/50\n",
      "0s - loss: 0.2069 - acc: 0.9194\n",
      "Epoch 17/50\n",
      "0s - loss: 0.1854 - acc: 0.9266\n",
      "Epoch 18/50\n",
      "0s - loss: 0.1637 - acc: 0.9453\n",
      "Epoch 19/50\n",
      "0s - loss: 0.1501 - acc: 0.9468\n",
      "Epoch 20/50\n",
      "0s - loss: 0.1320 - acc: 0.9496\n",
      "Epoch 21/50\n",
      "0s - loss: 0.1208 - acc: 0.9554\n",
      "Epoch 22/50\n",
      "0s - loss: 0.0958 - acc: 0.9640\n",
      "Epoch 23/50\n",
      "0s - loss: 0.0906 - acc: 0.9655\n",
      "Epoch 24/50\n",
      "0s - loss: 0.0767 - acc: 0.9770\n",
      "Epoch 25/50\n",
      "0s - loss: 0.0773 - acc: 0.9712\n",
      "Epoch 26/50\n",
      "0s - loss: 0.0649 - acc: 0.9755\n",
      "Epoch 27/50\n",
      "0s - loss: 0.0601 - acc: 0.9799\n",
      "Epoch 28/50\n",
      "0s - loss: 0.0557 - acc: 0.9813\n",
      "Epoch 29/50\n",
      "0s - loss: 0.0503 - acc: 0.9827\n",
      "Epoch 30/50\n",
      "0s - loss: 0.0447 - acc: 0.9827\n",
      "Epoch 31/50\n",
      "0s - loss: 0.0397 - acc: 0.9813\n",
      "Epoch 32/50\n",
      "0s - loss: 0.0377 - acc: 0.9842\n",
      "Epoch 33/50\n",
      "0s - loss: 0.0280 - acc: 0.9914\n",
      "Epoch 34/50\n",
      "0s - loss: 0.0324 - acc: 0.9871\n",
      "Epoch 35/50\n",
      "0s - loss: 0.0275 - acc: 0.9899\n",
      "Epoch 36/50\n",
      "0s - loss: 0.0240 - acc: 0.9914\n",
      "Epoch 37/50\n",
      "0s - loss: 0.0174 - acc: 0.9957\n",
      "Epoch 38/50\n",
      "0s - loss: 0.0223 - acc: 0.9942\n",
      "Epoch 39/50\n",
      "0s - loss: 0.0221 - acc: 0.9957\n",
      "Epoch 40/50\n",
      "0s - loss: 0.0227 - acc: 0.9914\n",
      "Epoch 41/50\n",
      "0s - loss: 0.0216 - acc: 0.9899\n",
      "Epoch 42/50\n",
      "0s - loss: 0.0124 - acc: 0.9957\n",
      "Epoch 43/50\n",
      "0s - loss: 0.0158 - acc: 0.9971\n",
      "Epoch 44/50\n",
      "0s - loss: 0.0147 - acc: 0.9928\n",
      "Epoch 45/50\n",
      "0s - loss: 0.0154 - acc: 0.9914\n",
      "Epoch 46/50\n",
      "0s - loss: 0.0146 - acc: 0.9957\n",
      "Epoch 47/50\n",
      "0s - loss: 0.0097 - acc: 0.9971\n",
      "Epoch 48/50\n",
      "0s - loss: 0.0062 - acc: 0.9986\n",
      "Epoch 49/50\n",
      "0s - loss: 0.0162 - acc: 0.9942\n",
      "Epoch 50/50\n",
      "0s - loss: 0.0122 - acc: 0.9942\n"
     ]
    },
    {
     "data": {
      "text/plain": [
       "<keras.callbacks.History at 0x1f8a70a4b00>"
      ]
     },
     "execution_count": 29,
     "metadata": {},
     "output_type": "execute_result"
    }
   ],
   "source": [
    "estimator.fit(lsa_vectors, y_train)"
   ]
  },
  {
   "cell_type": "code",
   "execution_count": 30,
   "metadata": {},
   "outputs": [],
   "source": [
    "test_vectors = lsa.transform(X_test)"
   ]
  },
  {
   "cell_type": "code",
   "execution_count": 31,
   "metadata": {},
   "outputs": [
    {
     "data": {
      "text/plain": [
       "(174, 300)"
      ]
     },
     "execution_count": 31,
     "metadata": {},
     "output_type": "execute_result"
    }
   ],
   "source": [
    "test_vectors.shape"
   ]
  },
  {
   "cell_type": "code",
   "execution_count": 32,
   "metadata": {
    "collapsed": false,
    "deletable": true,
    "editable": true
   },
   "outputs": [],
   "source": [
    "y_predicted = estimator.predict(test_vectors)"
   ]
  },
  {
   "cell_type": "code",
   "execution_count": 33,
   "metadata": {},
   "outputs": [
    {
     "name": "stdout",
     "output_type": "stream",
     "text": [
      "             precision    recall  f1-score   support\n",
      "\n",
      "      False       0.54      0.57      0.55        92\n",
      "       True       0.49      0.46      0.48        82\n",
      "\n",
      "avg / total       0.52      0.52      0.52       174\n",
      "\n"
     ]
    }
   ],
   "source": [
    "print(classification_report(y_test, y_predicted))"
   ]
  },
  {
   "cell_type": "code",
   "execution_count": 34,
   "metadata": {},
   "outputs": [],
   "source": [
    "cm = confusion_matrix(y_test, y_predicted)"
   ]
  },
  {
   "cell_type": "code",
   "execution_count": 35,
   "metadata": {},
   "outputs": [
    {
     "data": {
      "text/plain": [
       "<matplotlib.axes._subplots.AxesSubplot at 0x1f8a6fed400>"
      ]
     },
     "execution_count": 35,
     "metadata": {},
     "output_type": "execute_result"
    },
    {
     "data": {
      "image/png": "[encoded data removed]",
      "text/plain": [
       "<matplotlib.figure.Figure at 0x1f8a7091be0>"
      ]
     },
     "metadata": {},
     "output_type": "display_data"
    }
   ],
   "source": [
    "sns.heatmap(cm, annot=True)"
   ]
  }
 ],
 "metadata": {
  "kernelspec": {
   "display_name": "Python 3",
   "language": "python",
   "name": "python3"
  },
  "language_info": {
   "codemirror_mode": {
    "name": "ipython",
    "version": 3
   },
   "file_extension": ".py",
   "mimetype": "text/x-python",
   "name": "python",
   "nbconvert_exporter": "python",
   "pygments_lexer": "ipython3",
   "version": "3.5.3"
  }
 },
 "nbformat": 4,
 "nbformat_minor": 2
}
