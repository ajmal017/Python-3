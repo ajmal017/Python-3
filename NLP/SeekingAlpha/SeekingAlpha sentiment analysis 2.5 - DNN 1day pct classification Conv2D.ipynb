{
 "cells": [
  {
   "cell_type": "code",
   "execution_count": 1,
   "metadata": {},
   "outputs": [
    {
     "name": "stderr",
     "output_type": "stream",
     "text": [
      "Using TensorFlow backend.\n"
     ]
    }
   ],
   "source": [
    "import numpy as np\n",
    "import pandas as pd\n",
    "import keras\n",
    "from keras.models import Sequential\n",
    "from keras.layers import Conv2D, MaxPooling2D, GlobalMaxPooling2D, GlobalAveragePooling2D\n",
    "from keras.layers import Dense, Dropout, Activation, Embedding, Flatten, Reshape\n",
    "from keras.utils import np_utils\n",
    "from keras.wrappers.scikit_learn import KerasClassifier\n",
    "from sklearn.model_selection import cross_val_score\n",
    "from sklearn.model_selection import KFold\n",
    "from sklearn.pipeline import Pipeline"
   ]
  },
  {
   "cell_type": "code",
   "execution_count": 29,
   "metadata": {
    "collapsed": false,
    "deletable": true,
    "editable": true
   },
   "outputs": [],
   "source": [
    "from sklearn.feature_extraction.text import TfidfVectorizer\n",
    "from sklearn.decomposition import TruncatedSVD\n",
    "from sklearn.pipeline import make_pipeline\n",
    "from sklearn.preprocessing import Normalizer, StandardScaler, LabelEncoder\n",
    "from sklearn.metrics import classification_report, accuracy_score, confusion_matrix\n",
    "from sklearn.model_selection import train_test_split"
   ]
  },
  {
   "cell_type": "code",
   "execution_count": 3,
   "metadata": {},
   "outputs": [],
   "source": [
    "import nltk\n",
    "from nltk import word_tokenize\n",
    "from nltk.stem import WordNetLemmatizer"
   ]
  },
  {
   "cell_type": "code",
   "execution_count": 4,
   "metadata": {
    "collapsed": true,
    "deletable": true,
    "editable": true
   },
   "outputs": [],
   "source": [
    "import matplotlib.pyplot as plt\n",
    "import seaborn as sns\n",
    "%matplotlib inline"
   ]
  },
  {
   "cell_type": "markdown",
   "metadata": {},
   "source": [
    "# Load data from file"
   ]
  },
  {
   "cell_type": "code",
   "execution_count": 5,
   "metadata": {},
   "outputs": [],
   "source": [
    "merged_data = pd.read_pickle('merged_data_pct_change.pkl')"
   ]
  },
  {
   "cell_type": "code",
   "execution_count": 6,
   "metadata": {},
   "outputs": [],
   "source": [
    "filtered_merged_data = merged_data[merged_data['1day pct change'].abs() > 3.]"
   ]
  },
  {
   "cell_type": "code",
   "execution_count": 7,
   "metadata": {},
   "outputs": [
    {
     "data": {
      "text/plain": [
       "1093"
      ]
     },
     "execution_count": 7,
     "metadata": {},
     "output_type": "execute_result"
    }
   ],
   "source": [
    "len(filtered_merged_data)"
   ]
  },
  {
   "cell_type": "markdown",
   "metadata": {
    "deletable": true,
    "editable": true
   },
   "source": [
    "# Create train data and test data"
   ]
  },
  {
   "cell_type": "code",
   "execution_count": 8,
   "metadata": {
    "collapsed": false,
    "deletable": true,
    "editable": true
   },
   "outputs": [],
   "source": [
    "X = filtered_merged_data['rawText']\n",
    "y = filtered_merged_data['1day pct change'] > 0\n",
    "y = np_utils.to_categorical(y, 2)"
   ]
  },
  {
   "cell_type": "code",
   "execution_count": 9,
   "metadata": {
    "collapsed": true,
    "deletable": true,
    "editable": true
   },
   "outputs": [],
   "source": [
    "X_train, X_test, y_train, y_test = train_test_split(X, y, test_size=0.2)"
   ]
  },
  {
   "cell_type": "markdown",
   "metadata": {
    "deletable": true,
    "editable": true
   },
   "source": [
    "# Tf-Idf"
   ]
  },
  {
   "cell_type": "code",
   "execution_count": 10,
   "metadata": {},
   "outputs": [],
   "source": [
    "# not used\n",
    "class LemmaTokenizer(object):\n",
    "    def __init__(self):\n",
    "        self.wnl = WordNetLemmatizer()\n",
    "    def __call__(self, doc):\n",
    "        return [self.wnl.lemmatize(t.lower(), 'v') for t in word_tokenize(doc)]"
   ]
  },
  {
   "cell_type": "code",
   "execution_count": 11,
   "metadata": {},
   "outputs": [],
   "source": [
    "tfidf = TfidfVectorizer(max_df=0.5, min_df=50, ngram_range=(1,2), stop_words='english')\n",
    "svd = TruncatedSVD(2000)\n",
    "#lsa = make_pipeline(tfidf, svd)\n",
    "lsa = make_pipeline(tfidf)\n",
    "\n",
    "# Run SVD on the training data, then project the training data.\n",
    "train_vectors = lsa.fit_transform(X_train)\n",
    "test_vectors = lsa.transform(X_test)"
   ]
  },
  {
   "cell_type": "code",
   "execution_count": 12,
   "metadata": {},
   "outputs": [
    {
     "data": {
      "text/plain": [
       "(874, 6116)"
      ]
     },
     "execution_count": 12,
     "metadata": {},
     "output_type": "execute_result"
    }
   ],
   "source": [
    "train_vectors.shape"
   ]
  },
  {
   "cell_type": "code",
   "execution_count": 13,
   "metadata": {},
   "outputs": [],
   "source": [
    "train_vectors = train_vectors.toarray().reshape((train_vectors.shape[0], 1, train_vectors.shape[1], 1))\n",
    "test_vectors = test_vectors.toarray().reshape((test_vectors.shape[0], 1, test_vectors.shape[1], 1))"
   ]
  },
  {
   "cell_type": "code",
   "execution_count": 14,
   "metadata": {},
   "outputs": [
    {
     "data": {
      "text/plain": [
       "(874, 1, 6116, 1)"
      ]
     },
     "execution_count": 14,
     "metadata": {},
     "output_type": "execute_result"
    }
   ],
   "source": [
    "train_vectors.shape"
   ]
  },
  {
   "cell_type": "code",
   "execution_count": 15,
   "metadata": {},
   "outputs": [
    {
     "data": {
      "text/plain": [
       "(874, 2)"
      ]
     },
     "execution_count": 15,
     "metadata": {},
     "output_type": "execute_result"
    }
   ],
   "source": [
    "y_train.shape"
   ]
  },
  {
   "cell_type": "markdown",
   "metadata": {},
   "source": [
    "# Model"
   ]
  },
  {
   "cell_type": "code",
   "execution_count": null,
   "metadata": {},
   "outputs": [
    {
     "name": "stdout",
     "output_type": "stream",
     "text": [
      "Epoch 1/40\n",
      "7s - loss: 0.6942 - acc: 0.4943\n",
      "Epoch 2/40\n",
      "4s - loss: 0.6933 - acc: 0.4977\n",
      "Epoch 3/40\n",
      "4s - loss: 0.6934 - acc: 0.5046\n",
      "Epoch 4/40\n",
      "4s - loss: 0.6932 - acc: 0.5046\n",
      "Epoch 5/40\n",
      "4s - loss: 0.6932 - acc: 0.5046\n",
      "Epoch 6/40\n",
      "4s - loss: 0.6934 - acc: 0.5046\n",
      "Epoch 7/40\n",
      "4s - loss: 0.6932 - acc: 0.5046\n",
      "Epoch 8/40\n",
      "4s - loss: 0.6932 - acc: 0.5046\n",
      "Epoch 9/40\n",
      "4s - loss: 0.6935 - acc: 0.4634\n",
      "Epoch 10/40\n",
      "4s - loss: 0.6932 - acc: 0.4748\n",
      "Epoch 11/40\n",
      "4s - loss: 0.6932 - acc: 0.5046\n",
      "Epoch 12/40\n",
      "4s - loss: 0.6933 - acc: 0.5046\n",
      "Epoch 13/40\n",
      "4s - loss: 0.6932 - acc: 0.5046\n",
      "Epoch 14/40\n",
      "4s - loss: 0.6932 - acc: 0.5046\n",
      "Epoch 15/40\n",
      "4s - loss: 0.6931 - acc: 0.5046\n",
      "Epoch 16/40\n",
      "4s - loss: 0.6931 - acc: 0.5046\n",
      "Epoch 17/40\n",
      "4s - loss: 0.6932 - acc: 0.5046\n",
      "Epoch 18/40\n",
      "4s - loss: 0.6931 - acc: 0.5046\n",
      "Epoch 19/40\n",
      "4s - loss: 0.6930 - acc: 0.5046\n",
      "Epoch 20/40\n",
      "4s - loss: 0.6937 - acc: 0.5046\n",
      "Epoch 21/40\n",
      "4s - loss: 0.6929 - acc: 0.5069\n",
      "Epoch 22/40\n",
      "4s - loss: 0.6903 - acc: 0.5481\n",
      "Epoch 23/40\n",
      "4s - loss: 0.6614 - acc: 0.5961\n",
      "Epoch 24/40\n",
      "4s - loss: 0.6175 - acc: 0.6545\n",
      "Epoch 25/40\n",
      "4s - loss: 0.5170 - acc: 0.7288\n",
      "Epoch 26/40\n",
      "4s - loss: 0.3497 - acc: 0.8501\n",
      "Epoch 27/40\n",
      "4s - loss: 0.1841 - acc: 0.9371\n",
      "Epoch 28/40\n",
      "4s - loss: 0.0893 - acc: 0.9668\n",
      "Epoch 29/40\n",
      "4s - loss: 0.0504 - acc: 0.9897\n",
      "Epoch 30/40\n",
      "4s - loss: 0.0144 - acc: 0.9943\n",
      "Epoch 31/40\n",
      "4s - loss: 0.0057 - acc: 0.9989\n",
      "Epoch 32/40\n",
      "4s - loss: 0.0019 - acc: 1.0000\n",
      "Epoch 33/40\n",
      "4s - loss: 0.0011 - acc: 1.0000\n",
      "Epoch 34/40\n",
      "4s - loss: 6.0804e-04 - acc: 1.0000\n",
      "Epoch 35/40\n"
     ]
    }
   ],
   "source": [
    "cnn = Sequential()\n",
    "cnn.add(Conv2D(16, (4, 1), padding=\"same\", activation=\"relu\", input_shape=(1, train_vectors.shape[2], 1)))\n",
    "#cnn.add(Conv2D(64, (10, 1), padding=\"same\", activation=\"relu\"))\n",
    "cnn.add(MaxPooling2D(pool_size=(1,4)))\n",
    "\n",
    "#cnn.add(Conv2D(128, (8, 1), padding=\"same\", activation=\"relu\"))\n",
    "#cnn.add(Conv2D(128, (8, 1), padding=\"same\", activation=\"relu\"))\n",
    "#cnn.add(Conv2D(128, (8, 1), padding=\"same\", activation=\"relu\"))\n",
    "#cnn.add(MaxPooling2D(pool_size=(1,5)))\n",
    "    \n",
    "cnn.add(Conv2D(16, (4, 1), padding=\"same\", activation=\"relu\"))\n",
    "cnn.add(Conv2D(32, (4, 1), padding=\"same\", activation=\"relu\"))\n",
    "cnn.add(Conv2D(64, (4, 1), padding=\"same\", activation=\"relu\"))\n",
    "cnn.add(MaxPooling2D(pool_size=(1,8)))\n",
    "    \n",
    "cnn.add(Flatten())\n",
    "cnn.add(Dense(512, activation='relu'))\n",
    "cnn.add(Dense(2, activation='softmax'))\n",
    "\n",
    "cnn.compile(loss='binary_crossentropy', optimizer='adam', metrics=['accuracy'])\n",
    "cnn.fit(train_vectors, y_train, epochs=40, verbose=2)"
   ]
  },
  {
   "cell_type": "markdown",
   "metadata": {},
   "source": [
    "# Prediction"
   ]
  },
  {
   "cell_type": "code",
   "execution_count": 23,
   "metadata": {},
   "outputs": [
    {
     "name": "stdout",
     "output_type": "stream",
     "text": [
      "\r",
      " 32/219 [===>..........................] - ETA: 0s\b\b\b\b\b\b\b\b\b\b\b\b\b\b\b\b\b\b\b\b\b\b\b\b\b\b\b\b\b\b\b\b\b\b\b\b\b\b\b\b\b\b\b\b\b\b\b\b\b\b\r",
      " 96/219 [============>.................] - ETA: 0s\b\b\b\b\b\b\b\b\b\b\b\b\b\b\b\b\b\b\b\b\b\b\b\b\b\b\b\b\b\b\b\b\b\b\b\b\b\b\b\b\b\b\b\b\b\b\b\b\b\b\r",
      "160/219 [====================>.........] - ETA: 0s"
     ]
    }
   ],
   "source": [
    "y_predicted = cnn.predict_classes(test_vectors)"
   ]
  },
  {
   "cell_type": "code",
   "execution_count": 36,
   "metadata": {},
   "outputs": [],
   "source": [
    "y_test = y_test[:,1].astype(int)"
   ]
  },
  {
   "cell_type": "code",
   "execution_count": 37,
   "metadata": {},
   "outputs": [
    {
     "name": "stdout",
     "output_type": "stream",
     "text": [
      "             precision    recall  f1-score   support\n",
      "\n",
      "          0       0.52      0.50      0.51       121\n",
      "          1       0.41      0.42      0.41        98\n",
      "\n",
      "avg / total       0.47      0.47      0.47       219\n",
      "\n"
     ]
    }
   ],
   "source": [
    "print(classification_report(y_test, y_predicted))"
   ]
  }
 ],
 "metadata": {
  "kernelspec": {
   "display_name": "Python 3",
   "language": "python",
   "name": "python3"
  },
  "language_info": {
   "codemirror_mode": {
    "name": "ipython",
    "version": 3
   },
   "file_extension": ".py",
   "mimetype": "text/x-python",
   "name": "python",
   "nbconvert_exporter": "python",
   "pygments_lexer": "ipython3",
   "version": "3.5.3"
  }
 },
 "nbformat": 4,
 "nbformat_minor": 2
}
