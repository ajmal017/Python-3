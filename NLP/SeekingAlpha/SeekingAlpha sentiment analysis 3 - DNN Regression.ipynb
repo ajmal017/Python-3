{
 "cells": [
  {
   "cell_type": "code",
   "execution_count": 31,
   "metadata": {
    "collapsed": false,
    "deletable": true,
    "editable": true
   },
   "outputs": [],
   "source": [
    "from sklearn.feature_extraction.text import TfidfVectorizer\n",
    "from sklearn.model_selection import train_test_split\n",
    "from sklearn.pipeline import Pipeline\n",
    "import tensorflow as tf\n",
    "import tensorflow.contrib.learn as learn\n",
    "from sklearn.metrics import mean_squared_error"
   ]
  },
  {
   "cell_type": "code",
   "execution_count": 2,
   "metadata": {
    "collapsed": true,
    "deletable": true,
    "editable": true
   },
   "outputs": [],
   "source": [
    "import pandas as pd\n",
    "import numpy as np\n",
    "import matplotlib.pyplot as plt\n",
    "import seaborn as sns\n",
    "%matplotlib inline"
   ]
  },
  {
   "cell_type": "code",
   "execution_count": 3,
   "metadata": {
    "collapsed": false,
    "deletable": true,
    "editable": true
   },
   "outputs": [],
   "source": [
    "from pymongo import MongoClient\n",
    "import ystockquote"
   ]
  },
  {
   "cell_type": "code",
   "execution_count": 4,
   "metadata": {
    "collapsed": true,
    "deletable": true,
    "editable": true
   },
   "outputs": [],
   "source": [
    "from datetime import datetime, timedelta, timezone\n",
    "import pytz\n",
    "import math"
   ]
  },
  {
   "cell_type": "markdown",
   "metadata": {
    "deletable": true,
    "editable": true
   },
   "source": [
    "# Load transcripts"
   ]
  },
  {
   "cell_type": "code",
   "execution_count": 5,
   "metadata": {
    "collapsed": true
   },
   "outputs": [],
   "source": [
    "est_tz = pytz.timezone('US/Eastern')\n",
    "def utc_to_est(utc_dt):\n",
    "    local_dt = utc_dt.replace(tzinfo=pytz.utc).astimezone(est_tz)\n",
    "    return est_tz.normalize(local_dt)"
   ]
  },
  {
   "cell_type": "code",
   "execution_count": 6,
   "metadata": {
    "collapsed": true
   },
   "outputs": [],
   "source": [
    "def shift_time_according_to_closing_time(dt):\n",
    "    if dt.hour >= 16:\n",
    "        return dt + timedelta(days=1)\n",
    "    return dt"
   ]
  },
  {
   "cell_type": "code",
   "execution_count": 7,
   "metadata": {
    "collapsed": false,
    "deletable": true,
    "editable": true
   },
   "outputs": [],
   "source": [
    "def load_and_clean_transcripts():\n",
    "    client = MongoClient('localhost', 27017)\n",
    "    earnings_transcript_collection = client.python_import.earnings_transcript\n",
    "    \n",
    "    earnings_transcript = pd.DataFrame(list(earnings_transcript_collection.find()))\n",
    "    earnings_transcript.drop('_id', axis=1, inplace=True)\n",
    "    earnings_transcript['shifted_publishDate'] = earnings_transcript.apply(\n",
    "        lambda row: datetime.strptime(row['publishDate'], '%Y-%m-%dT%H:%M:%SZ'), axis=1\n",
    "    )\n",
    "    earnings_transcript['shifted_publishDate'] = earnings_transcript.apply(\n",
    "        lambda row: utc_to_est(row['shifted_publishDate']), axis=1\n",
    "    )\n",
    "    earnings_transcript['shifted_publishDate'] = earnings_transcript.apply(\n",
    "        lambda row: shift_time_according_to_closing_time(row['shifted_publishDate']), axis=1\n",
    "    )\n",
    "    earnings_transcript['publishDate_str'] = earnings_transcript.apply(\n",
    "        lambda row: str(row['shifted_publishDate'].date()), axis=1\n",
    "    )\n",
    "    earnings_transcript.set_index(['tradingSymbol', 'publishDate_str'], inplace=True)\n",
    "    \n",
    "    return earnings_transcript"
   ]
  },
  {
   "cell_type": "code",
   "execution_count": 8,
   "metadata": {
    "collapsed": false,
    "deletable": true,
    "editable": true
   },
   "outputs": [],
   "source": [
    "earnings_transcript = load_and_clean_transcripts()"
   ]
  },
  {
   "cell_type": "code",
   "execution_count": 9,
   "metadata": {
    "collapsed": false,
    "deletable": true,
    "editable": true
   },
   "outputs": [
    {
     "data": {
      "text/html": [
       "<div>\n",
       "<table border=\"1\" class=\"dataframe\">\n",
       "  <thead>\n",
       "    <tr style=\"text-align: right;\">\n",
       "      <th></th>\n",
       "      <th></th>\n",
       "      <th>publishDate</th>\n",
       "      <th>qAndAText</th>\n",
       "      <th>rawText</th>\n",
       "      <th>url</th>\n",
       "      <th>shifted_publishDate</th>\n",
       "    </tr>\n",
       "    <tr>\n",
       "      <th>tradingSymbol</th>\n",
       "      <th>publishDate_str</th>\n",
       "      <th></th>\n",
       "      <th></th>\n",
       "      <th></th>\n",
       "      <th></th>\n",
       "      <th></th>\n",
       "    </tr>\n",
       "  </thead>\n",
       "  <tbody>\n",
       "    <tr>\n",
       "      <th>A</th>\n",
       "      <th>2014-11-18</th>\n",
       "      <td>2014-11-17T22:25:00Z</td>\n",
       "      <td></td>\n",
       "      <td>The following audio is from a conference call ...</td>\n",
       "      <td>https://seekingalpha.com/article/2675895-agile...</td>\n",
       "      <td>2014-11-18 17:25:00-05:00</td>\n",
       "    </tr>\n",
       "    <tr>\n",
       "      <th>AA</th>\n",
       "      <th>2014-10-09</th>\n",
       "      <td>2014-10-09T01:18:03Z</td>\n",
       "      <td>Operator [Operator instructions.] Our first qu...</td>\n",
       "      <td>Alcoa (NYSE: AA ) Q3 2014 Results Earnings Con...</td>\n",
       "      <td>https://seekingalpha.com/article/2549515-alcoa...</td>\n",
       "      <td>2014-10-09 21:18:03-04:00</td>\n",
       "    </tr>\n",
       "  </tbody>\n",
       "</table>\n",
       "</div>"
      ],
      "text/plain": [
       "                                        publishDate  \\\n",
       "tradingSymbol publishDate_str                         \n",
       "A             2014-11-18       2014-11-17T22:25:00Z   \n",
       "AA            2014-10-09       2014-10-09T01:18:03Z   \n",
       "\n",
       "                                                                       qAndAText  \\\n",
       "tradingSymbol publishDate_str                                                      \n",
       "A             2014-11-18                                                           \n",
       "AA            2014-10-09       Operator [Operator instructions.] Our first qu...   \n",
       "\n",
       "                                                                         rawText  \\\n",
       "tradingSymbol publishDate_str                                                      \n",
       "A             2014-11-18       The following audio is from a conference call ...   \n",
       "AA            2014-10-09       Alcoa (NYSE: AA ) Q3 2014 Results Earnings Con...   \n",
       "\n",
       "                                                                             url  \\\n",
       "tradingSymbol publishDate_str                                                      \n",
       "A             2014-11-18       https://seekingalpha.com/article/2675895-agile...   \n",
       "AA            2014-10-09       https://seekingalpha.com/article/2549515-alcoa...   \n",
       "\n",
       "                                    shifted_publishDate  \n",
       "tradingSymbol publishDate_str                            \n",
       "A             2014-11-18      2014-11-18 17:25:00-05:00  \n",
       "AA            2014-10-09      2014-10-09 21:18:03-04:00  "
      ]
     },
     "execution_count": 9,
     "metadata": {},
     "output_type": "execute_result"
    }
   ],
   "source": [
    "earnings_transcript.head(2)"
   ]
  },
  {
   "cell_type": "code",
   "execution_count": 10,
   "metadata": {
    "collapsed": false,
    "deletable": true,
    "editable": true
   },
   "outputs": [
    {
     "data": {
      "text/html": [
       "<div>\n",
       "<table border=\"1\" class=\"dataframe\">\n",
       "  <thead>\n",
       "    <tr style=\"text-align: right;\">\n",
       "      <th></th>\n",
       "      <th></th>\n",
       "      <th>publishDate</th>\n",
       "      <th>qAndAText</th>\n",
       "      <th>rawText</th>\n",
       "      <th>url</th>\n",
       "      <th>shifted_publishDate</th>\n",
       "    </tr>\n",
       "    <tr>\n",
       "      <th>tradingSymbol</th>\n",
       "      <th>publishDate_str</th>\n",
       "      <th></th>\n",
       "      <th></th>\n",
       "      <th></th>\n",
       "      <th></th>\n",
       "      <th></th>\n",
       "    </tr>\n",
       "  </thead>\n",
       "  <tbody>\n",
       "    <tr>\n",
       "      <th rowspan=\"2\" valign=\"top\">AET</th>\n",
       "      <th>2008-11-11</th>\n",
       "      <td>2008-11-11T03:27:16Z</td>\n",
       "      <td></td>\n",
       "      <td>Coventry Health Care, Inc. (CVH) Q3 FY08 Earni...</td>\n",
       "      <td>https://seekingalpha.com/article/105221-covent...</td>\n",
       "      <td>2008-11-11 22:27:16-05:00</td>\n",
       "    </tr>\n",
       "    <tr>\n",
       "      <th>2009-02-10</th>\n",
       "      <td>2009-02-10T20:01:09Z</td>\n",
       "      <td>Operator (Operator instructions)  Our first qu...</td>\n",
       "      <td>Coventry Health Care, Inc., (CVH) Q4 2008 Earn...</td>\n",
       "      <td>https://seekingalpha.com/article/119714-covent...</td>\n",
       "      <td>2009-02-10 15:01:09-05:00</td>\n",
       "    </tr>\n",
       "  </tbody>\n",
       "</table>\n",
       "</div>"
      ],
      "text/plain": [
       "                                        publishDate  \\\n",
       "tradingSymbol publishDate_str                         \n",
       "AET           2008-11-11       2008-11-11T03:27:16Z   \n",
       "              2009-02-10       2009-02-10T20:01:09Z   \n",
       "\n",
       "                                                                       qAndAText  \\\n",
       "tradingSymbol publishDate_str                                                      \n",
       "AET           2008-11-11                                                           \n",
       "              2009-02-10       Operator (Operator instructions)  Our first qu...   \n",
       "\n",
       "                                                                         rawText  \\\n",
       "tradingSymbol publishDate_str                                                      \n",
       "AET           2008-11-11       Coventry Health Care, Inc. (CVH) Q3 FY08 Earni...   \n",
       "              2009-02-10       Coventry Health Care, Inc., (CVH) Q4 2008 Earn...   \n",
       "\n",
       "                                                                             url  \\\n",
       "tradingSymbol publishDate_str                                                      \n",
       "AET           2008-11-11       https://seekingalpha.com/article/105221-covent...   \n",
       "              2009-02-10       https://seekingalpha.com/article/119714-covent...   \n",
       "\n",
       "                                    shifted_publishDate  \n",
       "tradingSymbol publishDate_str                            \n",
       "AET           2008-11-11      2008-11-11 22:27:16-05:00  \n",
       "              2009-02-10      2009-02-10 15:01:09-05:00  "
      ]
     },
     "execution_count": 10,
     "metadata": {},
     "output_type": "execute_result"
    }
   ],
   "source": [
    "earnings_transcript.tail(2)"
   ]
  },
  {
   "cell_type": "markdown",
   "metadata": {
    "deletable": true,
    "editable": true
   },
   "source": [
    "### Load all ticker data for transcripts"
   ]
  },
  {
   "cell_type": "code",
   "execution_count": 11,
   "metadata": {
    "collapsed": false,
    "deletable": true,
    "editable": true
   },
   "outputs": [
    {
     "data": {
      "text/plain": [
       "Index(['A', 'AA', 'AAN', 'AAON', 'AAP', 'AAPL', 'AAT', 'AAWW', 'ABAX', 'ABBV',\n",
       "       'ABC', 'ABCB', 'ABG', 'ABM', 'ABT', 'ACAT', 'ACC', 'ACE', 'ACET',\n",
       "       'ACIW', 'ACM', 'ACN', 'ACOR', 'ACT', 'ACXM', 'ADBE', 'ADC', 'ADI',\n",
       "       'ADM', 'ADNT', 'ADP', 'ADPT', 'ADS', 'ADSK', 'ADTN', 'AEE', 'AEGN',\n",
       "       'AEIS', 'AEL', 'AEO', 'AEP', 'AES', 'AET'],\n",
       "      dtype='object', name='tradingSymbol')"
      ]
     },
     "execution_count": 11,
     "metadata": {},
     "output_type": "execute_result"
    }
   ],
   "source": [
    "earnings_transcript.index.levels[0]"
   ]
  },
  {
   "cell_type": "code",
   "execution_count": 12,
   "metadata": {
    "collapsed": true,
    "deletable": true,
    "editable": true
   },
   "outputs": [],
   "source": [
    "class Applyer:\n",
    "    \n",
    "    label = ''\n",
    "    label_to_check_against = None\n",
    "    \n",
    "    @staticmethod\n",
    "    def label_calc(row):\n",
    "        \n",
    "        val_to_check = 0\n",
    "        if Applyer.label_to_check_against is not None:\n",
    "            val_to_check = row[Applyer.label_to_check_against]\n",
    "        \n",
    "        if math.isnan(row[Applyer.label]) or math.isnan(val_to_check):\n",
    "            return 0\n",
    "\n",
    "        if abs(row[Applyer.label]) >= val_to_check:\n",
    "            if row[Applyer.label] <= 0:\n",
    "                return -1\n",
    "            else:\n",
    "                return 1\n",
    "        else:\n",
    "            return 0\n",
    "    \n",
    "    @staticmethod\n",
    "    def all_label_calc(df):\n",
    "        df['Std Dev'] = pd.Series(data=df['Close']).rolling(window=20,center=False).std()\n",
    "\n",
    "        df['1day return'] = df['Close'].shift(-1) - df['Close']\n",
    "        df['5day return'] = df['Close'].shift(-5) - df['Close']\n",
    "\n",
    "        df['1day return normalized'] = df['1day return'] / df['Close']\n",
    "        df['5day return normalized'] = df['5day return'] / df['Close']"
   ]
  },
  {
   "cell_type": "code",
   "execution_count": 13,
   "metadata": {
    "collapsed": false,
    "deletable": true,
    "editable": true
   },
   "outputs": [
    {
     "name": "stdout",
     "output_type": "stream",
     "text": [
      "A ticker has 4342 long list\n",
      "AA ticker has 4342 long list\n",
      "AAN ticker has 4342 long list\n",
      "AAON ticker has 4342 long list\n",
      "AAP ticker has 3864 long list\n",
      "AAPL ticker has 4342 long list\n",
      "AAT ticker has 1567 long list\n",
      "AAWW ticker has 2870 long list\n",
      "ABAX ticker has 4342 long list\n",
      "ABBV ticker has 1073 long list\n",
      "ABC ticker has 4342 long list\n",
      "ABCB ticker has 4342 long list\n",
      "ABG ticker has 3788 long list\n",
      "ABM ticker has 4342 long list\n",
      "ABT ticker has 4342 long list\n",
      "ACAT ticker has 4320 long list\n",
      "ACC ticker has 3183 long list\n",
      "ACE is not available on Yahoo\n",
      "ACET ticker has 4342 long list\n",
      "ACIW ticker has 4342 long list\n",
      "ACM ticker has 2495 long list\n",
      "ACN ticker has 3953 long list\n",
      "ACOR ticker has 2807 long list\n",
      "ACT is not available on Yahoo\n",
      "ACXM ticker has 4342 long list\n",
      "ADBE ticker has 4342 long list\n",
      "ADC ticker has 4342 long list\n",
      "ADI ticker has 4342 long list\n",
      "ADM ticker has 4342 long list\n",
      "ADNT ticker has 117 long list\n",
      "ADP ticker has 4342 long list\n",
      "ADPT ticker has 701 long list\n",
      "ADS ticker has 3976 long list\n",
      "ADSK ticker has 4342 long list\n",
      "ADTN ticker has 4342 long list\n",
      "AEE ticker has 4342 long list\n",
      "AEGN ticker has 4342 long list\n",
      "AEIS ticker has 4342 long list\n",
      "AEL ticker has 3357 long list\n",
      "AEO ticker has 4342 long list\n",
      "AEP ticker has 4342 long list\n",
      "AES ticker has 4342 long list\n",
      "AET ticker has 4342 long list\n"
     ]
    }
   ],
   "source": [
    "tickers = earnings_transcript.index.levels[0]\n",
    "all_stocks = None\n",
    "for ticker in tickers:\n",
    "    stock = []\n",
    "    try:\n",
    "        stocks = ystockquote.get_historical_prices(ticker, '2000-01-01', '2017-12-31')\n",
    "    except:\n",
    "        print('{} is not available on Yahoo'.format(ticker))\n",
    "        continue\n",
    "    print('{} ticker has {} long list'.format(ticker, len(stocks)))\n",
    "    df = pd.DataFrame(stocks).transpose()\n",
    "    if 'Adj Close' in df.columns:\n",
    "        df['Close'] = pd.to_numeric(df['Adj Close'], errors='ignore')\n",
    "    elif 'Close' in df.columns:\n",
    "        df['Close'] = pd.to_numeric(df['Close'], errors='ignore')\n",
    "    else:\n",
    "        print('{} does not have close prices'.format(ticker))\n",
    "        continue\n",
    "    df.drop(axis=1, labels=[col for col in df.columns if col not in ['Close']], inplace=True)\n",
    "    indexes = pd.MultiIndex.from_product([[ticker], df.index.values.tolist()], names=['tradingSymbol', 'publishDate_str'])\n",
    "    df.set_index(indexes, inplace=True)\n",
    "    \n",
    "    Applyer.all_label_calc(df)\n",
    "    df.dropna(inplace=True)\n",
    "    \n",
    "    if all_stocks is None:\n",
    "        all_stocks = df\n",
    "    else:\n",
    "        all_stocks = all_stocks.append(df)"
   ]
  },
  {
   "cell_type": "code",
   "execution_count": 14,
   "metadata": {
    "collapsed": false,
    "deletable": true,
    "editable": true
   },
   "outputs": [
    {
     "data": {
      "text/html": [
       "<div>\n",
       "<table border=\"1\" class=\"dataframe\">\n",
       "  <thead>\n",
       "    <tr style=\"text-align: right;\">\n",
       "      <th></th>\n",
       "      <th></th>\n",
       "      <th>Close</th>\n",
       "      <th>Std Dev</th>\n",
       "      <th>1day return</th>\n",
       "      <th>5day return</th>\n",
       "      <th>1day return normalized</th>\n",
       "      <th>5day return normalized</th>\n",
       "    </tr>\n",
       "    <tr>\n",
       "      <th>tradingSymbol</th>\n",
       "      <th>publishDate_str</th>\n",
       "      <th></th>\n",
       "      <th></th>\n",
       "      <th></th>\n",
       "      <th></th>\n",
       "      <th></th>\n",
       "      <th></th>\n",
       "    </tr>\n",
       "  </thead>\n",
       "  <tbody>\n",
       "    <tr>\n",
       "      <th>ABG</th>\n",
       "      <th>2010-11-01</th>\n",
       "      <td>14.570000</td>\n",
       "      <td>0.227903</td>\n",
       "      <td>0.330000</td>\n",
       "      <td>1.440000</td>\n",
       "      <td>0.022649</td>\n",
       "      <td>0.098833</td>\n",
       "    </tr>\n",
       "    <tr>\n",
       "      <th>AEL</th>\n",
       "      <th>2011-05-06</th>\n",
       "      <td>12.053184</td>\n",
       "      <td>0.249481</td>\n",
       "      <td>-0.065967</td>\n",
       "      <td>0.141358</td>\n",
       "      <td>-0.005473</td>\n",
       "      <td>0.011728</td>\n",
       "    </tr>\n",
       "    <tr>\n",
       "      <th>ACXM</th>\n",
       "      <th>2010-02-04</th>\n",
       "      <td>15.960000</td>\n",
       "      <td>0.798315</td>\n",
       "      <td>0.060000</td>\n",
       "      <td>-0.240000</td>\n",
       "      <td>0.003759</td>\n",
       "      <td>-0.015038</td>\n",
       "    </tr>\n",
       "    <tr>\n",
       "      <th>ACC</th>\n",
       "      <th>2012-10-25</th>\n",
       "      <td>37.727686</td>\n",
       "      <td>0.488196</td>\n",
       "      <td>0.647977</td>\n",
       "      <td>1.790465</td>\n",
       "      <td>0.017175</td>\n",
       "      <td>0.047458</td>\n",
       "    </tr>\n",
       "    <tr>\n",
       "      <th>ADS</th>\n",
       "      <th>2015-02-03</th>\n",
       "      <td>293.854447</td>\n",
       "      <td>6.241829</td>\n",
       "      <td>-2.945701</td>\n",
       "      <td>-15.763524</td>\n",
       "      <td>-0.010024</td>\n",
       "      <td>-0.053644</td>\n",
       "    </tr>\n",
       "    <tr>\n",
       "      <th>AAWW</th>\n",
       "      <th>2013-10-08</th>\n",
       "      <td>43.240002</td>\n",
       "      <td>1.259700</td>\n",
       "      <td>-0.040001</td>\n",
       "      <td>0.789997</td>\n",
       "      <td>-0.000925</td>\n",
       "      <td>0.018270</td>\n",
       "    </tr>\n",
       "    <tr>\n",
       "      <th>ACC</th>\n",
       "      <th>2007-06-27</th>\n",
       "      <td>18.771702</td>\n",
       "      <td>0.444209</td>\n",
       "      <td>0.020077</td>\n",
       "      <td>0.803068</td>\n",
       "      <td>0.001070</td>\n",
       "      <td>0.042781</td>\n",
       "    </tr>\n",
       "    <tr>\n",
       "      <th>ABAX</th>\n",
       "      <th>2007-10-01</th>\n",
       "      <td>21.556296</td>\n",
       "      <td>0.870829</td>\n",
       "      <td>1.013410</td>\n",
       "      <td>2.415137</td>\n",
       "      <td>0.047012</td>\n",
       "      <td>0.112039</td>\n",
       "    </tr>\n",
       "    <tr>\n",
       "      <th>ADC</th>\n",
       "      <th>2006-03-03</th>\n",
       "      <td>14.423627</td>\n",
       "      <td>0.335771</td>\n",
       "      <td>-0.107639</td>\n",
       "      <td>-0.065520</td>\n",
       "      <td>-0.007463</td>\n",
       "      <td>-0.004543</td>\n",
       "    </tr>\n",
       "    <tr>\n",
       "      <th>ADSK</th>\n",
       "      <th>2000-02-14</th>\n",
       "      <td>8.990067</td>\n",
       "      <td>0.752577</td>\n",
       "      <td>-0.090656</td>\n",
       "      <td>-0.256859</td>\n",
       "      <td>-0.010084</td>\n",
       "      <td>-0.028571</td>\n",
       "    </tr>\n",
       "    <tr>\n",
       "      <th>AEGN</th>\n",
       "      <th>2001-06-25</th>\n",
       "      <td>33.860001</td>\n",
       "      <td>1.125767</td>\n",
       "      <td>-0.029999</td>\n",
       "      <td>2.340000</td>\n",
       "      <td>-0.000886</td>\n",
       "      <td>0.069108</td>\n",
       "    </tr>\n",
       "    <tr>\n",
       "      <th>ACXM</th>\n",
       "      <th>2008-02-15</th>\n",
       "      <td>12.702845</td>\n",
       "      <td>1.019016</td>\n",
       "      <td>0.019740</td>\n",
       "      <td>0.673024</td>\n",
       "      <td>0.001554</td>\n",
       "      <td>0.052982</td>\n",
       "    </tr>\n",
       "    <tr>\n",
       "      <th>ACIW</th>\n",
       "      <th>2008-02-08</th>\n",
       "      <td>5.076667</td>\n",
       "      <td>0.340128</td>\n",
       "      <td>-0.030000</td>\n",
       "      <td>0.146666</td>\n",
       "      <td>-0.005909</td>\n",
       "      <td>0.028890</td>\n",
       "    </tr>\n",
       "    <tr>\n",
       "      <th>AAPL</th>\n",
       "      <th>2011-09-01</th>\n",
       "      <td>49.366076</td>\n",
       "      <td>1.388533</td>\n",
       "      <td>-0.904326</td>\n",
       "      <td>-0.459938</td>\n",
       "      <td>-0.018319</td>\n",
       "      <td>-0.009317</td>\n",
       "    </tr>\n",
       "    <tr>\n",
       "      <th>AAN</th>\n",
       "      <th>2015-01-14</th>\n",
       "      <td>29.749336</td>\n",
       "      <td>1.008293</td>\n",
       "      <td>-0.793580</td>\n",
       "      <td>2.162504</td>\n",
       "      <td>-0.026676</td>\n",
       "      <td>0.072691</td>\n",
       "    </tr>\n",
       "    <tr>\n",
       "      <th>AEO</th>\n",
       "      <th>2013-08-26</th>\n",
       "      <td>12.995229</td>\n",
       "      <td>1.563137</td>\n",
       "      <td>-0.132066</td>\n",
       "      <td>-0.343371</td>\n",
       "      <td>-0.010163</td>\n",
       "      <td>-0.026423</td>\n",
       "    </tr>\n",
       "    <tr>\n",
       "      <th>ABT</th>\n",
       "      <th>2014-03-12</th>\n",
       "      <td>37.020988</td>\n",
       "      <td>0.467263</td>\n",
       "      <td>-0.401388</td>\n",
       "      <td>-0.196026</td>\n",
       "      <td>-0.010842</td>\n",
       "      <td>-0.005295</td>\n",
       "    </tr>\n",
       "    <tr>\n",
       "      <th>ACC</th>\n",
       "      <th>2014-07-24</th>\n",
       "      <td>36.317437</td>\n",
       "      <td>0.601027</td>\n",
       "      <td>-0.216496</td>\n",
       "      <td>-1.208777</td>\n",
       "      <td>-0.005961</td>\n",
       "      <td>-0.033284</td>\n",
       "    </tr>\n",
       "    <tr>\n",
       "      <th>ADTN</th>\n",
       "      <th>2002-09-03</th>\n",
       "      <td>6.593169</td>\n",
       "      <td>0.365553</td>\n",
       "      <td>0.511940</td>\n",
       "      <td>0.701978</td>\n",
       "      <td>0.077647</td>\n",
       "      <td>0.106470</td>\n",
       "    </tr>\n",
       "    <tr>\n",
       "      <th>ACN</th>\n",
       "      <th>2006-09-28</th>\n",
       "      <td>25.663505</td>\n",
       "      <td>0.559828</td>\n",
       "      <td>0.089334</td>\n",
       "      <td>-0.292369</td>\n",
       "      <td>0.003481</td>\n",
       "      <td>-0.011392</td>\n",
       "    </tr>\n",
       "  </tbody>\n",
       "</table>\n",
       "</div>"
      ],
      "text/plain": [
       "                                    Close   Std Dev  1day return  5day return  \\\n",
       "tradingSymbol publishDate_str                                                   \n",
       "ABG           2010-11-01        14.570000  0.227903     0.330000     1.440000   \n",
       "AEL           2011-05-06        12.053184  0.249481    -0.065967     0.141358   \n",
       "ACXM          2010-02-04        15.960000  0.798315     0.060000    -0.240000   \n",
       "ACC           2012-10-25        37.727686  0.488196     0.647977     1.790465   \n",
       "ADS           2015-02-03       293.854447  6.241829    -2.945701   -15.763524   \n",
       "AAWW          2013-10-08        43.240002  1.259700    -0.040001     0.789997   \n",
       "ACC           2007-06-27        18.771702  0.444209     0.020077     0.803068   \n",
       "ABAX          2007-10-01        21.556296  0.870829     1.013410     2.415137   \n",
       "ADC           2006-03-03        14.423627  0.335771    -0.107639    -0.065520   \n",
       "ADSK          2000-02-14         8.990067  0.752577    -0.090656    -0.256859   \n",
       "AEGN          2001-06-25        33.860001  1.125767    -0.029999     2.340000   \n",
       "ACXM          2008-02-15        12.702845  1.019016     0.019740     0.673024   \n",
       "ACIW          2008-02-08         5.076667  0.340128    -0.030000     0.146666   \n",
       "AAPL          2011-09-01        49.366076  1.388533    -0.904326    -0.459938   \n",
       "AAN           2015-01-14        29.749336  1.008293    -0.793580     2.162504   \n",
       "AEO           2013-08-26        12.995229  1.563137    -0.132066    -0.343371   \n",
       "ABT           2014-03-12        37.020988  0.467263    -0.401388    -0.196026   \n",
       "ACC           2014-07-24        36.317437  0.601027    -0.216496    -1.208777   \n",
       "ADTN          2002-09-03         6.593169  0.365553     0.511940     0.701978   \n",
       "ACN           2006-09-28        25.663505  0.559828     0.089334    -0.292369   \n",
       "\n",
       "                               1day return normalized  5day return normalized  \n",
       "tradingSymbol publishDate_str                                                  \n",
       "ABG           2010-11-01                     0.022649                0.098833  \n",
       "AEL           2011-05-06                    -0.005473                0.011728  \n",
       "ACXM          2010-02-04                     0.003759               -0.015038  \n",
       "ACC           2012-10-25                     0.017175                0.047458  \n",
       "ADS           2015-02-03                    -0.010024               -0.053644  \n",
       "AAWW          2013-10-08                    -0.000925                0.018270  \n",
       "ACC           2007-06-27                     0.001070                0.042781  \n",
       "ABAX          2007-10-01                     0.047012                0.112039  \n",
       "ADC           2006-03-03                    -0.007463               -0.004543  \n",
       "ADSK          2000-02-14                    -0.010084               -0.028571  \n",
       "AEGN          2001-06-25                    -0.000886                0.069108  \n",
       "ACXM          2008-02-15                     0.001554                0.052982  \n",
       "ACIW          2008-02-08                    -0.005909                0.028890  \n",
       "AAPL          2011-09-01                    -0.018319               -0.009317  \n",
       "AAN           2015-01-14                    -0.026676                0.072691  \n",
       "AEO           2013-08-26                    -0.010163               -0.026423  \n",
       "ABT           2014-03-12                    -0.010842               -0.005295  \n",
       "ACC           2014-07-24                    -0.005961               -0.033284  \n",
       "ADTN          2002-09-03                     0.077647                0.106470  \n",
       "ACN           2006-09-28                     0.003481               -0.011392  "
      ]
     },
     "execution_count": 14,
     "metadata": {},
     "output_type": "execute_result"
    }
   ],
   "source": [
    "all_stocks.sample(20)"
   ]
  },
  {
   "cell_type": "markdown",
   "metadata": {
    "deletable": true,
    "editable": true
   },
   "source": [
    "# Merge transcripts with stock data"
   ]
  },
  {
   "cell_type": "code",
   "execution_count": 15,
   "metadata": {
    "collapsed": false,
    "deletable": true,
    "editable": true
   },
   "outputs": [],
   "source": [
    "merged_data = earnings_transcript.merge(all_stocks, left_index=True, right_index=True)"
   ]
  },
  {
   "cell_type": "code",
   "execution_count": 16,
   "metadata": {
    "collapsed": false,
    "deletable": true,
    "editable": true
   },
   "outputs": [
    {
     "data": {
      "text/html": [
       "<div>\n",
       "<table border=\"1\" class=\"dataframe\">\n",
       "  <thead>\n",
       "    <tr style=\"text-align: right;\">\n",
       "      <th></th>\n",
       "      <th></th>\n",
       "      <th>publishDate</th>\n",
       "      <th>qAndAText</th>\n",
       "      <th>rawText</th>\n",
       "      <th>url</th>\n",
       "      <th>shifted_publishDate</th>\n",
       "      <th>Close</th>\n",
       "      <th>Std Dev</th>\n",
       "      <th>1day return</th>\n",
       "      <th>5day return</th>\n",
       "      <th>1day return normalized</th>\n",
       "      <th>5day return normalized</th>\n",
       "    </tr>\n",
       "    <tr>\n",
       "      <th>tradingSymbol</th>\n",
       "      <th>publishDate_str</th>\n",
       "      <th></th>\n",
       "      <th></th>\n",
       "      <th></th>\n",
       "      <th></th>\n",
       "      <th></th>\n",
       "      <th></th>\n",
       "      <th></th>\n",
       "      <th></th>\n",
       "      <th></th>\n",
       "      <th></th>\n",
       "      <th></th>\n",
       "    </tr>\n",
       "  </thead>\n",
       "  <tbody>\n",
       "    <tr>\n",
       "      <th>ADBE</th>\n",
       "      <th>2010-12-21</th>\n",
       "      <td>2010-12-21T07:41:20Z</td>\n",
       "      <td>Operator (Operator instructions) And our first...</td>\n",
       "      <td>Adobe Systems Incorporated (NASDAQ: ADBE ) F4Q...</td>\n",
       "      <td>https://seekingalpha.com/article/242895-adobe-...</td>\n",
       "      <td>2010-12-21 02:41:20-05:00</td>\n",
       "      <td>30.930000</td>\n",
       "      <td>0.714171</td>\n",
       "      <td>-0.280000</td>\n",
       "      <td>0.039999</td>\n",
       "      <td>-0.009053</td>\n",
       "      <td>0.001293</td>\n",
       "    </tr>\n",
       "    <tr>\n",
       "      <th>ABM</th>\n",
       "      <th>2016-03-09</th>\n",
       "      <td>2016-03-09T13:55:00Z</td>\n",
       "      <td></td>\n",
       "      <td>The following audio is from a conference call ...</td>\n",
       "      <td>https://seekingalpha.com/article/3951546-abm-i...</td>\n",
       "      <td>2016-03-09 08:55:00-05:00</td>\n",
       "      <td>31.154969</td>\n",
       "      <td>0.626213</td>\n",
       "      <td>-0.762980</td>\n",
       "      <td>-0.567344</td>\n",
       "      <td>-0.024490</td>\n",
       "      <td>-0.018210</td>\n",
       "    </tr>\n",
       "    <tr>\n",
       "      <th>ADP</th>\n",
       "      <th>2016-07-29</th>\n",
       "      <td>2016-07-29T05:45:19Z</td>\n",
       "      <td>Operator [Operator Instructions]. We will take...</td>\n",
       "      <td>Automatic Data Processing, Inc. (NASDAQ: ADP )...</td>\n",
       "      <td>https://seekingalpha.com/article/3993064-autom...</td>\n",
       "      <td>2016-07-29 01:45:19-04:00</td>\n",
       "      <td>87.419824</td>\n",
       "      <td>1.597839</td>\n",
       "      <td>-0.275182</td>\n",
       "      <td>0.707616</td>\n",
       "      <td>-0.003148</td>\n",
       "      <td>0.008094</td>\n",
       "    </tr>\n",
       "    <tr>\n",
       "      <th>ACIW</th>\n",
       "      <th>2014-05-01</th>\n",
       "      <td>2014-05-01T19:30:00Z</td>\n",
       "      <td>Operator [Operator Instructions] Your first qu...</td>\n",
       "      <td>ACI Worldwide (NASDAQ: ACIW ) Q1 2014 Earnings...</td>\n",
       "      <td>https://seekingalpha.com/article/2189493-aci-w...</td>\n",
       "      <td>2014-05-01 15:30:00-04:00</td>\n",
       "      <td>18.670000</td>\n",
       "      <td>0.377937</td>\n",
       "      <td>-0.020000</td>\n",
       "      <td>-1.053333</td>\n",
       "      <td>-0.001071</td>\n",
       "      <td>-0.056418</td>\n",
       "    </tr>\n",
       "    <tr>\n",
       "      <th>ACOR</th>\n",
       "      <th>2016-04-28</th>\n",
       "      <td>2016-04-28T16:27:25Z</td>\n",
       "      <td>Operator  [Operator Instructions] Our first qu...</td>\n",
       "      <td>Acorda Therapeutics Inc (NASDAQ: ACOR ) Q1 201...</td>\n",
       "      <td>https://seekingalpha.com/article/3968839-acord...</td>\n",
       "      <td>2016-04-28 12:27:25-04:00</td>\n",
       "      <td>27.340000</td>\n",
       "      <td>1.116439</td>\n",
       "      <td>-1.490000</td>\n",
       "      <td>-1.700001</td>\n",
       "      <td>-0.054499</td>\n",
       "      <td>-0.062180</td>\n",
       "    </tr>\n",
       "  </tbody>\n",
       "</table>\n",
       "</div>"
      ],
      "text/plain": [
       "                                        publishDate  \\\n",
       "tradingSymbol publishDate_str                         \n",
       "ADBE          2010-12-21       2010-12-21T07:41:20Z   \n",
       "ABM           2016-03-09       2016-03-09T13:55:00Z   \n",
       "ADP           2016-07-29       2016-07-29T05:45:19Z   \n",
       "ACIW          2014-05-01       2014-05-01T19:30:00Z   \n",
       "ACOR          2016-04-28       2016-04-28T16:27:25Z   \n",
       "\n",
       "                                                                       qAndAText  \\\n",
       "tradingSymbol publishDate_str                                                      \n",
       "ADBE          2010-12-21       Operator (Operator instructions) And our first...   \n",
       "ABM           2016-03-09                                                           \n",
       "ADP           2016-07-29       Operator [Operator Instructions]. We will take...   \n",
       "ACIW          2014-05-01       Operator [Operator Instructions] Your first qu...   \n",
       "ACOR          2016-04-28       Operator  [Operator Instructions] Our first qu...   \n",
       "\n",
       "                                                                         rawText  \\\n",
       "tradingSymbol publishDate_str                                                      \n",
       "ADBE          2010-12-21       Adobe Systems Incorporated (NASDAQ: ADBE ) F4Q...   \n",
       "ABM           2016-03-09       The following audio is from a conference call ...   \n",
       "ADP           2016-07-29       Automatic Data Processing, Inc. (NASDAQ: ADP )...   \n",
       "ACIW          2014-05-01       ACI Worldwide (NASDAQ: ACIW ) Q1 2014 Earnings...   \n",
       "ACOR          2016-04-28       Acorda Therapeutics Inc (NASDAQ: ACOR ) Q1 201...   \n",
       "\n",
       "                                                                             url  \\\n",
       "tradingSymbol publishDate_str                                                      \n",
       "ADBE          2010-12-21       https://seekingalpha.com/article/242895-adobe-...   \n",
       "ABM           2016-03-09       https://seekingalpha.com/article/3951546-abm-i...   \n",
       "ADP           2016-07-29       https://seekingalpha.com/article/3993064-autom...   \n",
       "ACIW          2014-05-01       https://seekingalpha.com/article/2189493-aci-w...   \n",
       "ACOR          2016-04-28       https://seekingalpha.com/article/3968839-acord...   \n",
       "\n",
       "                                    shifted_publishDate      Close   Std Dev  \\\n",
       "tradingSymbol publishDate_str                                                  \n",
       "ADBE          2010-12-21      2010-12-21 02:41:20-05:00  30.930000  0.714171   \n",
       "ABM           2016-03-09      2016-03-09 08:55:00-05:00  31.154969  0.626213   \n",
       "ADP           2016-07-29      2016-07-29 01:45:19-04:00  87.419824  1.597839   \n",
       "ACIW          2014-05-01      2014-05-01 15:30:00-04:00  18.670000  0.377937   \n",
       "ACOR          2016-04-28      2016-04-28 12:27:25-04:00  27.340000  1.116439   \n",
       "\n",
       "                               1day return  5day return  \\\n",
       "tradingSymbol publishDate_str                             \n",
       "ADBE          2010-12-21         -0.280000     0.039999   \n",
       "ABM           2016-03-09         -0.762980    -0.567344   \n",
       "ADP           2016-07-29         -0.275182     0.707616   \n",
       "ACIW          2014-05-01         -0.020000    -1.053333   \n",
       "ACOR          2016-04-28         -1.490000    -1.700001   \n",
       "\n",
       "                               1day return normalized  5day return normalized  \n",
       "tradingSymbol publishDate_str                                                  \n",
       "ADBE          2010-12-21                    -0.009053                0.001293  \n",
       "ABM           2016-03-09                    -0.024490               -0.018210  \n",
       "ADP           2016-07-29                    -0.003148                0.008094  \n",
       "ACIW          2014-05-01                    -0.001071               -0.056418  \n",
       "ACOR          2016-04-28                    -0.054499               -0.062180  "
      ]
     },
     "execution_count": 16,
     "metadata": {},
     "output_type": "execute_result"
    }
   ],
   "source": [
    "merged_data.sample(5)"
   ]
  },
  {
   "cell_type": "code",
   "execution_count": 17,
   "metadata": {
    "collapsed": true,
    "deletable": true,
    "editable": true
   },
   "outputs": [],
   "source": [
    "merged_data = merged_data[merged_data['rawText'].apply(len) > 5000]"
   ]
  },
  {
   "cell_type": "markdown",
   "metadata": {
    "deletable": true,
    "editable": true
   },
   "source": [
    "# Create train data and test data"
   ]
  },
  {
   "cell_type": "code",
   "execution_count": 18,
   "metadata": {
    "collapsed": false,
    "deletable": true,
    "editable": true
   },
   "outputs": [],
   "source": [
    "X = merged_data['rawText']\n",
    "y = merged_data['5day return normalized'] * 100"
   ]
  },
  {
   "cell_type": "code",
   "execution_count": 19,
   "metadata": {
    "collapsed": true,
    "deletable": true,
    "editable": true
   },
   "outputs": [],
   "source": [
    "X_train, X_test, y_train, y_test = train_test_split(X, y, test_size=0.3)"
   ]
  },
  {
   "cell_type": "markdown",
   "metadata": {
    "deletable": true,
    "editable": true
   },
   "source": [
    "# Tf-Idf and DNN model"
   ]
  },
  {
   "cell_type": "code",
   "execution_count": 20,
   "metadata": {
    "collapsed": true,
    "deletable": true,
    "editable": true
   },
   "outputs": [],
   "source": [
    "tfidf = TfidfVectorizer(max_df=0.33, min_df=3, ngram_range=(1,3), stop_words='english')"
   ]
  },
  {
   "cell_type": "code",
   "execution_count": 21,
   "metadata": {
    "collapsed": true,
    "deletable": true,
    "editable": true
   },
   "outputs": [],
   "source": [
    "tfidf_vectors = tfidf.fit_transform(X_train)"
   ]
  },
  {
   "cell_type": "code",
   "execution_count": 22,
   "metadata": {
    "collapsed": false,
    "deletable": true,
    "editable": true
   },
   "outputs": [
    {
     "name": "stdout",
     "output_type": "stream",
     "text": [
      "WARNING:tensorflow:Using temporary folder as model directory: C:\\Users\\neural\\AppData\\Local\\Temp\\tmpdiji7z2i\n",
      "INFO:tensorflow:Using default config.\n",
      "INFO:tensorflow:Using config: {'_save_checkpoints_steps': None, '_environment': 'local', '_save_summary_steps': 100, '_keep_checkpoint_max': 5, '_is_chief': True, '_keep_checkpoint_every_n_hours': 10000, '_evaluation_master': '', '_cluster_spec': <tensorflow.python.training.server_lib.ClusterSpec object at 0x0000023B4DC97C50>, '_task_type': None, '_tf_random_seed': None, '_master': '', '_save_checkpoints_secs': 600, '_tf_config': gpu_options {\n",
      "  per_process_gpu_memory_fraction: 1\n",
      "}\n",
      ", '_num_ps_replicas': 0, '_task_id': 0}\n"
     ]
    }
   ],
   "source": [
    "classifier = learn.(hidden_units=[80, 40, 40],\n",
    "                                feature_columns=[tf.contrib.layers.real_valued_column(\"\", dimension=tfidf_vectors.shape[1])]\n",
    "                               )"
   ]
  },
  {
   "cell_type": "code",
   "execution_count": 23,
   "metadata": {
    "collapsed": false,
    "deletable": true,
    "editable": true
   },
   "outputs": [
    {
     "name": "stdout",
     "output_type": "stream",
     "text": [
      "WARNING:tensorflow:From <ipython-input-23-983f75aff1e7>:1: calling BaseEstimator.fit (from tensorflow.contrib.learn.python.learn.estimators.estimator) with y is deprecated and will be removed after 2016-12-01.\n",
      "Instructions for updating:\n",
      "Estimator is decoupled from Scikit Learn interface by moving into\n",
      "separate class SKCompat. Arguments x, y and batch_size are only\n",
      "available in the SKCompat class, Estimator will only accept input_fn.\n",
      "Example conversion:\n",
      "  est = Estimator(...) -> est = SKCompat(Estimator(...))\n",
      "WARNING:tensorflow:From <ipython-input-23-983f75aff1e7>:1: calling BaseEstimator.fit (from tensorflow.contrib.learn.python.learn.estimators.estimator) with x is deprecated and will be removed after 2016-12-01.\n",
      "Instructions for updating:\n",
      "Estimator is decoupled from Scikit Learn interface by moving into\n",
      "separate class SKCompat. Arguments x, y and batch_size are only\n",
      "available in the SKCompat class, Estimator will only accept input_fn.\n",
      "Example conversion:\n",
      "  est = Estimator(...) -> est = SKCompat(Estimator(...))\n",
      "WARNING:tensorflow:From <ipython-input-23-983f75aff1e7>:1: calling BaseEstimator.fit (from tensorflow.contrib.learn.python.learn.estimators.estimator) with batch_size is deprecated and will be removed after 2016-12-01.\n",
      "Instructions for updating:\n",
      "Estimator is decoupled from Scikit Learn interface by moving into\n",
      "separate class SKCompat. Arguments x, y and batch_size are only\n",
      "available in the SKCompat class, Estimator will only accept input_fn.\n",
      "Example conversion:\n",
      "  est = Estimator(...) -> est = SKCompat(Estimator(...))\n",
      "WARNING:tensorflow:float64 is not supported by many models, consider casting to float32.\n",
      "WARNING:tensorflow:float64 is not supported by many models, consider casting to float32.\n",
      "WARNING:tensorflow:From C:\\ProgramData\\Anaconda3\\envs\\tensorflow\\lib\\site-packages\\tensorflow\\contrib\\learn\\python\\learn\\estimators\\head.py:1362: scalar_summary (from tensorflow.python.ops.logging_ops) is deprecated and will be removed after 2016-11-30.\n",
      "Instructions for updating:\n",
      "Please switch to tf.summary.scalar. Note that tf.summary.scalar uses the node name instead of the tag. This means that TensorFlow will automatically de-duplicate summary names based on the scope they are created in. Also, passing a tensor or list of tags to a scalar summary op is no longer supported.\n"
     ]
    },
    {
     "name": "stderr",
     "output_type": "stream",
     "text": [
      "C:\\ProgramData\\Anaconda3\\envs\\tensorflow\\lib\\site-packages\\tensorflow\\python\\util\\deprecation.py:247: FutureWarning: comparison to `None` will result in an elementwise object comparison in the future.\n",
      "  equality = a == b\n"
     ]
    },
    {
     "name": "stdout",
     "output_type": "stream",
     "text": [
      "INFO:tensorflow:Create CheckpointSaverHook.\n",
      "INFO:tensorflow:Saving checkpoints for 1 into C:\\Users\\neural\\AppData\\Local\\Temp\\tmpdiji7z2i\\model.ckpt.\n",
      "INFO:tensorflow:loss = 34.012, step = 1\n",
      "INFO:tensorflow:global_step/sec: 3.60005\n",
      "INFO:tensorflow:loss = 13.745, step = 101\n",
      "INFO:tensorflow:global_step/sec: 3.76887\n",
      "INFO:tensorflow:loss = 14.758, step = 201\n",
      "INFO:tensorflow:global_step/sec: 3.86349\n",
      "INFO:tensorflow:loss = 2.62698, step = 301\n",
      "INFO:tensorflow:global_step/sec: 3.82987\n",
      "INFO:tensorflow:loss = 0.294491, step = 401\n",
      "INFO:tensorflow:Saving checkpoints for 500 into C:\\Users\\neural\\AppData\\Local\\Temp\\tmpdiji7z2i\\model.ckpt.\n",
      "INFO:tensorflow:Loss for final step: 0.00785149.\n"
     ]
    },
    {
     "data": {
      "text/plain": [
       "DNNRegressor(params={'hidden_units': [80, 40, 40], 'input_layer_min_slice_size': None, 'gradient_clip_norm': None, 'activation_fn': <function relu at 0x0000023B4A323840>, 'head': <tensorflow.contrib.learn.python.learn.estimators.head._RegressionHead object at 0x0000023B5C16F710>, 'embedding_lr_multipliers': None, 'feature_columns': (_RealValuedColumn(column_name='', dimension=318390, default_value=None, dtype=tf.float32, normalizer=None),), 'optimizer': None, 'dropout': None})"
      ]
     },
     "execution_count": 23,
     "metadata": {},
     "output_type": "execute_result"
    }
   ],
   "source": [
    "classifier.fit(tfidf_vectors.todense(), y_train, batch_size=20, steps=500)"
   ]
  },
  {
   "cell_type": "code",
   "execution_count": 24,
   "metadata": {
    "collapsed": false,
    "deletable": true,
    "editable": true
   },
   "outputs": [
    {
     "name": "stdout",
     "output_type": "stream",
     "text": [
      "WARNING:tensorflow:From C:\\ProgramData\\Anaconda3\\envs\\tensorflow\\lib\\site-packages\\tensorflow\\contrib\\learn\\python\\learn\\estimators\\dnn.py:692: calling BaseEstimator.predict (from tensorflow.contrib.learn.python.learn.estimators.estimator) with x is deprecated and will be removed after 2016-12-01.\n",
      "Instructions for updating:\n",
      "Estimator is decoupled from Scikit Learn interface by moving into\n",
      "separate class SKCompat. Arguments x, y and batch_size are only\n",
      "available in the SKCompat class, Estimator will only accept input_fn.\n",
      "Example conversion:\n",
      "  est = Estimator(...) -> est = SKCompat(Estimator(...))\n",
      "WARNING:tensorflow:float64 is not supported by many models, consider casting to float32.\n"
     ]
    },
    {
     "name": "stderr",
     "output_type": "stream",
     "text": [
      "C:\\ProgramData\\Anaconda3\\envs\\tensorflow\\lib\\site-packages\\tensorflow\\python\\util\\deprecation.py:247: FutureWarning: comparison to `None` will result in an elementwise object comparison in the future.\n",
      "  equality = a == b\n"
     ]
    }
   ],
   "source": [
    "y_predicted = list(classifier.predict(tfidf.transform(X_test).todense()))"
   ]
  },
  {
   "cell_type": "code",
   "execution_count": 25,
   "metadata": {},
   "outputs": [],
   "source": [
    "error = y_predicted - y_test"
   ]
  },
  {
   "cell_type": "code",
   "execution_count": 26,
   "metadata": {},
   "outputs": [
    {
     "data": {
      "text/plain": [
       "<matplotlib.axes._subplots.AxesSubplot at 0x23b73ea8da0>"
      ]
     },
     "execution_count": 26,
     "metadata": {},
     "output_type": "execute_result"
    },
    {
     "data": {
      "image/png": "[encoded data removed]",
      "text/plain": [
       "<matplotlib.figure.Figure at 0x23b73ea8e80>"
      ]
     },
     "metadata": {},
     "output_type": "display_data"
    }
   ],
   "source": [
    "plt.figure(figsize=(20,10))\n",
    "sns.tsplot(y_predicted[70:110], color='r')\n",
    "sns.tsplot(y_test[70:110], alpha=0.5)\n",
    "#sns.tsplot(error, alpha=0.2, color='g')"
   ]
  },
  {
   "cell_type": "code",
   "execution_count": 27,
   "metadata": {},
   "outputs": [],
   "source": [
    "opposite = y_predicted * y_test"
   ]
  },
  {
   "cell_type": "code",
   "execution_count": 28,
   "metadata": {},
   "outputs": [],
   "source": [
    "total_fail = opposite[opposite < 0]\n",
    "total_success = opposite[opposite > 0]"
   ]
  },
  {
   "cell_type": "code",
   "execution_count": 29,
   "metadata": {},
   "outputs": [
    {
     "data": {
      "text/plain": [
       "181"
      ]
     },
     "execution_count": 29,
     "metadata": {},
     "output_type": "execute_result"
    }
   ],
   "source": [
    "len(total_fail)"
   ]
  },
  {
   "cell_type": "code",
   "execution_count": 30,
   "metadata": {},
   "outputs": [
    {
     "data": {
      "text/plain": [
       "199"
      ]
     },
     "execution_count": 30,
     "metadata": {},
     "output_type": "execute_result"
    }
   ],
   "source": [
    "len(total_success)"
   ]
  },
  {
   "cell_type": "code",
   "execution_count": 33,
   "metadata": {},
   "outputs": [
    {
     "data": {
      "text/plain": [
       "0.36006484047171311"
      ]
     },
     "execution_count": 33,
     "metadata": {},
     "output_type": "execute_result"
    }
   ],
   "source": [
    "mean_squared_error(y_test, y_predicted)/100"
   ]
  },
  {
   "cell_type": "code",
   "execution_count": null,
   "metadata": {},
   "outputs": [],
   "source": []
  }
 ],
 "metadata": {
  "kernelspec": {
   "display_name": "Python 3",
   "language": "python",
   "name": "python3"
  },
  "language_info": {
   "codemirror_mode": {
    "name": "ipython",
    "version": 3
   },
   "file_extension": ".py",
   "mimetype": "text/x-python",
   "name": "python",
   "nbconvert_exporter": "python",
   "pygments_lexer": "ipython3",
   "version": "3.5.3"
  }
 },
 "nbformat": 4,
 "nbformat_minor": 2
}
