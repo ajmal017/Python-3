{
 "cells": [
  {
   "cell_type": "code",
   "execution_count": 1,
   "metadata": {
    "collapsed": true
   },
   "outputs": [],
   "source": [
    "import spacy\n",
    "nlp = spacy.load('en')"
   ]
  },
  {
   "cell_type": "code",
   "execution_count": 2,
   "metadata": {
    "collapsed": true
   },
   "outputs": [],
   "source": [
    "import pymongo\n",
    "from pymongo import MongoClient"
   ]
  },
  {
   "cell_type": "code",
   "execution_count": 3,
   "metadata": {
    "collapsed": true
   },
   "outputs": [],
   "source": [
    "client = MongoClient('localhost', 27017)\n",
    "db = client.python_import"
   ]
  },
  {
   "cell_type": "code",
   "execution_count": 5,
   "metadata": {
    "collapsed": true
   },
   "outputs": [],
   "source": [
    "collection = db.earnings_transcript"
   ]
  },
  {
   "cell_type": "code",
   "execution_count": 6,
   "metadata": {
    "collapsed": true
   },
   "outputs": [],
   "source": [
    "transcript = collection.find_one()"
   ]
  },
  {
   "cell_type": "code",
   "execution_count": 7,
   "metadata": {
    "collapsed": false
   },
   "outputs": [
    {
     "data": {
      "text/plain": [
       "{'_id': ObjectId('58e57a773740f515244494fa'),\n",
       " 'date_number': 1141117,\n",
       " 'h_tone': {'negativeCount': 0, 'positiveCount': 0},\n",
       " 'publishDate': '2014-11-17T22:25:00Z',\n",
       " 'qAndAText': '',\n",
       " 'q_and_a_h_tone': {'negativeCount': 0, 'positiveCount': 0},\n",
       " 'q_and_a_wordSize': 0,\n",
       " 'rawText': 'The following audio is from a conference call that will begin on November 17, 2014 at 17:30 PM ET. The audio will stream live while the call is active, and can be replayed upon its completion.',\n",
       " 'time_number': 222500,\n",
       " 'tradingSymbol': 'A',\n",
       " 'url': 'https://seekingalpha.com/article/2675895-agilent-technologies-a-q1-2014-results-earnings-call-webcast',\n",
       " 'wordSize': 40}"
      ]
     },
     "execution_count": 7,
     "metadata": {},
     "output_type": "execute_result"
    }
   ],
   "source": [
    "transcript"
   ]
  },
  {
   "cell_type": "code",
   "execution_count": 12,
   "metadata": {
    "collapsed": false
   },
   "outputs": [],
   "source": [
    "doc = nlp(transcript['rawText'])"
   ]
  },
  {
   "cell_type": "code",
   "execution_count": 16,
   "metadata": {},
   "outputs": [
    {
     "data": {
      "text/plain": [
       "['the',\n",
       " 'follow',\n",
       " 'audio',\n",
       " 'be',\n",
       " 'from',\n",
       " 'a',\n",
       " 'conference',\n",
       " 'call',\n",
       " 'that',\n",
       " 'will',\n",
       " 'begin',\n",
       " 'on',\n",
       " 'november',\n",
       " '17',\n",
       " ',',\n",
       " '2014',\n",
       " 'at',\n",
       " '17:30',\n",
       " 'pm',\n",
       " 'et',\n",
       " '.',\n",
       " 'the',\n",
       " 'audio',\n",
       " 'will',\n",
       " 'stream',\n",
       " 'live',\n",
       " 'while',\n",
       " 'the',\n",
       " 'call',\n",
       " 'be',\n",
       " 'active',\n",
       " ',',\n",
       " 'and',\n",
       " 'can',\n",
       " 'be',\n",
       " 'replay',\n",
       " 'upon',\n",
       " '-PRON-',\n",
       " 'completion',\n",
       " '.']"
      ]
     },
     "execution_count": 16,
     "metadata": {},
     "output_type": "execute_result"
    }
   ],
   "source": [
    "[str(word.lemma_) for word in doc]"
   ]
  },
  {
   "cell_type": "code",
   "execution_count": 14,
   "metadata": {},
   "outputs": [
    {
     "name": "stdout",
     "output_type": "stream",
     "text": [
      "The\n",
      "following\n",
      "audio\n",
      "is\n",
      "from\n",
      "a\n",
      "conference\n",
      "call\n",
      "that\n",
      "will\n",
      "begin\n",
      "on\n",
      "November\n",
      "17\n",
      ",\n",
      "2014\n",
      "at\n",
      "17:30\n",
      "PM\n",
      "ET\n",
      ".\n",
      "The\n",
      "audio\n",
      "will\n",
      "stream\n",
      "live\n",
      "while\n",
      "the\n",
      "call\n",
      "is\n",
      "active\n",
      ",\n",
      "and\n",
      "can\n",
      "be\n",
      "replayed\n",
      "upon\n",
      "its\n",
      "completion\n",
      ".\n"
     ]
    }
   ],
   "source": [
    "for sent in doc.sents:\n",
    "    for token in sent:\n",
    "        print(token)"
   ]
  },
  {
   "cell_type": "code",
   "execution_count": 9,
   "metadata": {
    "collapsed": false
   },
   "outputs": [
    {
     "name": "stdout",
     "output_type": "stream",
     "text": [
      "=>  The following audio is from a conference call that will begin on November 17, 2014 at 17:30 PM ET.\n",
      "=>  The audio will stream live while the call is active, and can be replayed upon its completion.\n"
     ]
    }
   ],
   "source": [
    "for sent in doc.sents:\n",
    "    print('=> ', sent)"
   ]
  },
  {
   "cell_type": "code",
   "execution_count": 10,
   "metadata": {
    "collapsed": false
   },
   "outputs": [
    {
     "name": "stdout",
     "output_type": "stream",
     "text": [
      "The\n"
     ]
    }
   ],
   "source": [
    "token = doc[0]\n",
    "print(token)"
   ]
  },
  {
   "cell_type": "code",
   "execution_count": 11,
   "metadata": {
    "collapsed": false
   },
   "outputs": [],
   "source": [
    "i = 0\n",
    "for sent in doc.sents:\n",
    "    if i == 3:\n",
    "        for token in sent:\n",
    "            print('{} - {}'.format(token, token.pos_))\n",
    "        break\n",
    "    i+=1"
   ]
  },
  {
   "cell_type": "code",
   "execution_count": 33,
   "metadata": {
    "collapsed": false
   },
   "outputs": [
    {
     "name": "stdout",
     "output_type": "stream",
     "text": [
      "Today --> [Today, recorded]\n",
      "Today - nsubjpass -> recorded - ROOT\n",
      "token probability:  -11.045459747314453\n",
      "==================\n",
      "’s --> [’s, conference, conference, recorded]\n",
      "’s - compound -> conference - nsubjpass -> conference - nsubjpass -> recorded - ROOT\n",
      "token probability:  -17.959850311279297\n",
      "==================\n",
      "conference --> [conference, recorded]\n",
      "conference - nsubjpass -> recorded - ROOT\n",
      "token probability:  -11.2960786819458\n",
      "==================\n",
      "is --> [is, recorded]\n",
      "is - aux -> recorded - ROOT\n",
      "token probability:  -4.457748889923096\n",
      "==================\n",
      "being --> [being, recorded]\n",
      "being - auxpass -> recorded - ROOT\n",
      "token probability:  -6.845808029174805\n",
      "==================\n",
      "recorded --> []\n",
      "\n",
      "token probability:  -11.22569751739502\n",
      "==================\n",
      ". --> [., recorded]\n",
      ". - punct -> recorded - ROOT\n",
      "token probability:  -3.0678977966308594\n",
      "==================\n"
     ]
    }
   ],
   "source": [
    "# Write a function that walks up the syntactic tree of the given token and collects all tokens to the root token (including root token).\n",
    "\n",
    "def tokens_to_root(token):\n",
    "    \"\"\"\n",
    "    Walk up the syntactic tree, collecting tokens to the root of the given `token`.\n",
    "    :param token: Spacy token\n",
    "    :return: list of Spacy tokens\n",
    "    \"\"\"\n",
    "    tokens_to_r = []\n",
    "    while token.head is not token:\n",
    "        tokens_to_r.append(token)\n",
    "        token = token.head\n",
    "        tokens_to_r.append(token)\n",
    "\n",
    "    return tokens_to_r\n",
    "\n",
    "# For every token in document, print it's tokens to the root\n",
    "# Print dependency labels of the tokens\n",
    "i = 0\n",
    "for sent in doc.sents:\n",
    "    if i == 3:\n",
    "        for token in sent:\n",
    "            print('{} --> {}'.format(token, tokens_to_root(token)))\n",
    "            print(' -> '.join(['{} - {}'.format(dependent_token, dependent_token.dep_) for dependent_token in tokens_to_root(token)]))\n",
    "            print('token probability: ', token.prob)\n",
    "            print('==================')\n",
    "        break\n",
    "    i+=1"
   ]
  },
  {
   "cell_type": "code",
   "execution_count": 35,
   "metadata": {
    "collapsed": true
   },
   "outputs": [],
   "source": [
    "import pandas as pd"
   ]
  },
  {
   "cell_type": "code",
   "execution_count": 37,
   "metadata": {
    "collapsed": true
   },
   "outputs": [],
   "source": [
    "henry_words = pd.read_excel('henry_wordlist.xlsx')"
   ]
  },
  {
   "cell_type": "code",
   "execution_count": 49,
   "metadata": {
    "collapsed": false
   },
   "outputs": [
    {
     "data": {
      "text/html": [
       "<div>\n",
       "<table border=\"1\" class=\"dataframe\">\n",
       "  <thead>\n",
       "    <tr style=\"text-align: right;\">\n",
       "      <th></th>\n",
       "      <th>Word</th>\n",
       "      <th>Positive tone</th>\n",
       "      <th>Negative tone</th>\n",
       "    </tr>\n",
       "  </thead>\n",
       "  <tbody>\n",
       "    <tr>\n",
       "      <th>0</th>\n",
       "      <td>Below</td>\n",
       "      <td>NaN</td>\n",
       "      <td>1.0</td>\n",
       "    </tr>\n",
       "    <tr>\n",
       "      <th>1</th>\n",
       "      <td>Challenge</td>\n",
       "      <td>NaN</td>\n",
       "      <td>1.0</td>\n",
       "    </tr>\n",
       "    <tr>\n",
       "      <th>2</th>\n",
       "      <td>Challenged</td>\n",
       "      <td>NaN</td>\n",
       "      <td>1.0</td>\n",
       "    </tr>\n",
       "    <tr>\n",
       "      <th>3</th>\n",
       "      <td>Challenges</td>\n",
       "      <td>NaN</td>\n",
       "      <td>1.0</td>\n",
       "    </tr>\n",
       "    <tr>\n",
       "      <th>4</th>\n",
       "      <td>Challenging</td>\n",
       "      <td>NaN</td>\n",
       "      <td>1.0</td>\n",
       "    </tr>\n",
       "  </tbody>\n",
       "</table>\n",
       "</div>"
      ],
      "text/plain": [
       "          Word  Positive tone  Negative tone\n",
       "0        Below            NaN            1.0\n",
       "1    Challenge            NaN            1.0\n",
       "2   Challenged            NaN            1.0\n",
       "3   Challenges            NaN            1.0\n",
       "4  Challenging            NaN            1.0"
      ]
     },
     "execution_count": 49,
     "metadata": {},
     "output_type": "execute_result"
    }
   ],
   "source": [
    "henry_words.head()"
   ]
  },
  {
   "cell_type": "code",
   "execution_count": 50,
   "metadata": {
    "collapsed": false
   },
   "outputs": [
    {
     "data": {
      "text/plain": [
       "<pymongo.results.InsertManyResult at 0x20079cc9f30>"
      ]
     },
     "execution_count": 50,
     "metadata": {},
     "output_type": "execute_result"
    }
   ],
   "source": [
    "db.henry_words.insert_many(henry_words.to_dict('records'))"
   ]
  },
  {
   "cell_type": "code",
   "execution_count": 57,
   "metadata": {
    "collapsed": false
   },
   "outputs": [],
   "source": [
    "henry_words_db = pd.DataFrame(list(db.henry_words.find()))"
   ]
  },
  {
   "cell_type": "code",
   "execution_count": 60,
   "metadata": {
    "collapsed": false
   },
   "outputs": [
    {
     "data": {
      "text/html": [
       "<div>\n",
       "<table border=\"1\" class=\"dataframe\">\n",
       "  <thead>\n",
       "    <tr style=\"text-align: right;\">\n",
       "      <th></th>\n",
       "      <th>Negative tone</th>\n",
       "      <th>Positive tone</th>\n",
       "      <th>Word</th>\n",
       "      <th>_id</th>\n",
       "    </tr>\n",
       "  </thead>\n",
       "  <tbody>\n",
       "    <tr>\n",
       "      <th>0</th>\n",
       "      <td>1.0</td>\n",
       "      <td>NaN</td>\n",
       "      <td>Below</td>\n",
       "      <td>58aaef9d3740f52d8cddccce</td>\n",
       "    </tr>\n",
       "    <tr>\n",
       "      <th>1</th>\n",
       "      <td>1.0</td>\n",
       "      <td>NaN</td>\n",
       "      <td>Challenge</td>\n",
       "      <td>58aaef9d3740f52d8cddcccf</td>\n",
       "    </tr>\n",
       "    <tr>\n",
       "      <th>2</th>\n",
       "      <td>1.0</td>\n",
       "      <td>NaN</td>\n",
       "      <td>Challenged</td>\n",
       "      <td>58aaef9d3740f52d8cddccd0</td>\n",
       "    </tr>\n",
       "    <tr>\n",
       "      <th>3</th>\n",
       "      <td>1.0</td>\n",
       "      <td>NaN</td>\n",
       "      <td>Challenges</td>\n",
       "      <td>58aaef9d3740f52d8cddccd1</td>\n",
       "    </tr>\n",
       "    <tr>\n",
       "      <th>4</th>\n",
       "      <td>1.0</td>\n",
       "      <td>NaN</td>\n",
       "      <td>Challenging</td>\n",
       "      <td>58aaef9d3740f52d8cddccd2</td>\n",
       "    </tr>\n",
       "  </tbody>\n",
       "</table>\n",
       "</div>"
      ],
      "text/plain": [
       "   Negative tone  Positive tone         Word                       _id\n",
       "0            1.0            NaN        Below  58aaef9d3740f52d8cddccce\n",
       "1            1.0            NaN    Challenge  58aaef9d3740f52d8cddcccf\n",
       "2            1.0            NaN   Challenged  58aaef9d3740f52d8cddccd0\n",
       "3            1.0            NaN   Challenges  58aaef9d3740f52d8cddccd1\n",
       "4            1.0            NaN  Challenging  58aaef9d3740f52d8cddccd2"
      ]
     },
     "execution_count": 60,
     "metadata": {},
     "output_type": "execute_result"
    }
   ],
   "source": [
    "henry_words_db.head()"
   ]
  },
  {
   "cell_type": "code",
   "execution_count": 79,
   "metadata": {
    "collapsed": false
   },
   "outputs": [],
   "source": [
    "henry_words_db['Lower word'] = henry_words_db.apply(lambda x: x['Word'].lower(), axis=1)"
   ]
  },
  {
   "cell_type": "code",
   "execution_count": 81,
   "metadata": {
    "collapsed": false
   },
   "outputs": [
    {
     "data": {
      "text/html": [
       "<div>\n",
       "<table border=\"1\" class=\"dataframe\">\n",
       "  <thead>\n",
       "    <tr style=\"text-align: right;\">\n",
       "      <th></th>\n",
       "      <th>Negative tone</th>\n",
       "      <th>Positive tone</th>\n",
       "      <th>Word</th>\n",
       "      <th>_id</th>\n",
       "      <th>Lower word</th>\n",
       "    </tr>\n",
       "  </thead>\n",
       "  <tbody>\n",
       "    <tr>\n",
       "      <th>0</th>\n",
       "      <td>1.0</td>\n",
       "      <td>NaN</td>\n",
       "      <td>Below</td>\n",
       "      <td>58aaef9d3740f52d8cddccce</td>\n",
       "      <td>below</td>\n",
       "    </tr>\n",
       "    <tr>\n",
       "      <th>1</th>\n",
       "      <td>1.0</td>\n",
       "      <td>NaN</td>\n",
       "      <td>Challenge</td>\n",
       "      <td>58aaef9d3740f52d8cddcccf</td>\n",
       "      <td>challenge</td>\n",
       "    </tr>\n",
       "    <tr>\n",
       "      <th>2</th>\n",
       "      <td>1.0</td>\n",
       "      <td>NaN</td>\n",
       "      <td>Challenged</td>\n",
       "      <td>58aaef9d3740f52d8cddccd0</td>\n",
       "      <td>challenged</td>\n",
       "    </tr>\n",
       "    <tr>\n",
       "      <th>3</th>\n",
       "      <td>1.0</td>\n",
       "      <td>NaN</td>\n",
       "      <td>Challenges</td>\n",
       "      <td>58aaef9d3740f52d8cddccd1</td>\n",
       "      <td>challenges</td>\n",
       "    </tr>\n",
       "    <tr>\n",
       "      <th>4</th>\n",
       "      <td>1.0</td>\n",
       "      <td>NaN</td>\n",
       "      <td>Challenging</td>\n",
       "      <td>58aaef9d3740f52d8cddccd2</td>\n",
       "      <td>challenging</td>\n",
       "    </tr>\n",
       "  </tbody>\n",
       "</table>\n",
       "</div>"
      ],
      "text/plain": [
       "   Negative tone  Positive tone         Word                       _id  \\\n",
       "0            1.0            NaN        Below  58aaef9d3740f52d8cddccce   \n",
       "1            1.0            NaN    Challenge  58aaef9d3740f52d8cddcccf   \n",
       "2            1.0            NaN   Challenged  58aaef9d3740f52d8cddccd0   \n",
       "3            1.0            NaN   Challenges  58aaef9d3740f52d8cddccd1   \n",
       "4            1.0            NaN  Challenging  58aaef9d3740f52d8cddccd2   \n",
       "\n",
       "    Lower word  \n",
       "0        below  \n",
       "1    challenge  \n",
       "2   challenged  \n",
       "3   challenges  \n",
       "4  challenging  "
      ]
     },
     "execution_count": 81,
     "metadata": {},
     "output_type": "execute_result"
    }
   ],
   "source": [
    "henry_words_db.head()"
   ]
  },
  {
   "cell_type": "code",
   "execution_count": 88,
   "metadata": {
    "collapsed": false
   },
   "outputs": [
    {
     "data": {
      "text/plain": [
       "True"
      ]
     },
     "execution_count": 88,
     "metadata": {},
     "output_type": "execute_result"
    }
   ],
   "source": [
    "((henry_words_db['Lower word'] == 'below') & (henry_words_db['Negative tone'] == 1.0)).any()"
   ]
  },
  {
   "cell_type": "code",
   "execution_count": 90,
   "metadata": {
    "collapsed": false
   },
   "outputs": [
    {
     "data": {
      "text/plain": [
       "False"
      ]
     },
     "execution_count": 90,
     "metadata": {},
     "output_type": "execute_result"
    }
   ],
   "source": [
    "((henry_words_db['Lower word'] == 'below') & (henry_words_db['Positive tone'] == 1.0)).any()"
   ]
  },
  {
   "cell_type": "code",
   "execution_count": 98,
   "metadata": {
    "collapsed": false
   },
   "outputs": [],
   "source": [
    "def get_words(transcript):\n",
    "    doc = nlp(transcript['rawText'])\n",
    "    return [str(word).lower() for word in doc]\n",
    "\n",
    "def get_words_q_and_a(transcript):\n",
    "    doc = nlp(transcript['qAndAText'])\n",
    "    return [str(word).lower() for word in doc]\n",
    "\n",
    "def process_words(words):\n",
    "    pos_count, neg_count = 0, 0\n",
    "    for word in words:\n",
    "        if ((henry_words_db['Lower word'] == word) & (henry_words_db['Negative tone'] == 1.0)).any():\n",
    "            neg_count += 1\n",
    "        elif ((henry_words_db['Lower word'] == word) & (henry_words_db['Positive tone'] == 1.0)).any():\n",
    "            pos_count += 1\n",
    "    return {'positiveCount' : pos_count, 'negativeCount' : neg_count}\n",
    "\n",
    "for transcript in collection.find():\n",
    "    words = get_words(transcript)\n",
    "    q_and_a_words = get_words_q_and_a(transcript)\n",
    "    \n",
    "    h_tone = process_words(words)\n",
    "    q_and_a_h_tone = process_words(q_and_a_words)\n",
    "    collection.update_one({'_id': transcript['_id']}, {'$set': {'h_tone': h_tone, 'q_and_a_h_tone' : q_and_a_h_tone}})"
   ]
  },
  {
   "cell_type": "code",
   "execution_count": null,
   "metadata": {
    "collapsed": true
   },
   "outputs": [],
   "source": []
  }
 ],
 "metadata": {
  "kernelspec": {
   "display_name": "Python 3",
   "language": "python",
   "name": "python3"
  },
  "language_info": {
   "codemirror_mode": {
    "name": "ipython",
    "version": 3
   },
   "file_extension": ".py",
   "mimetype": "text/x-python",
   "name": "python",
   "nbconvert_exporter": "python",
   "pygments_lexer": "ipython3",
   "version": "3.6.0"
  }
 },
 "nbformat": 4,
 "nbformat_minor": 2
}
