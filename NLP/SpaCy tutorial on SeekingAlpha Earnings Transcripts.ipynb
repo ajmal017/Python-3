{
 "cells": [
  {
   "cell_type": "code",
   "execution_count": 1,
   "metadata": {
    "collapsed": true
   },
   "outputs": [],
   "source": [
    "import spacy\n",
    "nlp = spacy.load('en')"
   ]
  },
  {
   "cell_type": "code",
   "execution_count": 2,
   "metadata": {
    "collapsed": true
   },
   "outputs": [],
   "source": [
    "import pymongo\n",
    "from pymongo import MongoClient"
   ]
  },
  {
   "cell_type": "code",
   "execution_count": 3,
   "metadata": {
    "collapsed": true
   },
   "outputs": [],
   "source": [
    "client = MongoClient('localhost', 27017)\n",
    "db = client.python_import"
   ]
  },
  {
   "cell_type": "code",
   "execution_count": 4,
   "metadata": {
    "collapsed": true
   },
   "outputs": [],
   "source": [
    "collection = db.earnings_transcript_sample"
   ]
  },
  {
   "cell_type": "code",
   "execution_count": 5,
   "metadata": {
    "collapsed": true
   },
   "outputs": [],
   "source": [
    "transcript = collection.find_one({'url':'http://seekingalpha.com/article/4023347-adcare-health-systems-adk-ceo-bill-mcbride-q3-2016-results-earnings-call-transcript'})\n",
    "if transcript is None:\n",
    "    transcript = collection.find_one()"
   ]
  },
  {
   "cell_type": "code",
   "execution_count": 6,
   "metadata": {
    "collapsed": false
   },
   "outputs": [
    {
     "data": {
      "text/plain": [
       "{'_id': ObjectId('58a706a93740f5262c86d46a'),\n",
       " 'publishDate': '2016-11-15T02:20:04Z',\n",
       " 'qAndAText': \"Operator Thank you. [Operator Instructions] Our first question will come from David Rothchild with Raymond James. David Rothchild I am pretty new to your company, I am a retail broker. You guys currently -- is it 38 facilities after selling those Arkansas ones is that correct? Bill McBride Correct. David Rothchild How many different tenants are they leased out to then? How many different companies? Bill McBride There is about six, so strategy that we used in leasing out the properties was, use smaller regionally focused operators to do that. We don’t have any one facility deals because we wanted to put each one in sort of cross-collateralize cross-defaulted package. The smallest operators we have has two properties, that’s our two properties in Oklahoma and the rest are kind of distributed among the remaining operators. David Rothchild Okay and I understand before you guys actually operated some of the facilities now you are going to be strictly into owning and leasing them out to operators is that -- so that’s the trend you trying going then? Bill McBride Yes, it’s not so much a trend is that, the company was an owner and operator of properties some leased some owned and operated all of those properties for many years. And 2014 Board made a determination to get out of basically the operations business, and brought me and Allan ultimately in because of our backgrounds in healthcare REITs and since to complete that process. That process was a lengthy process, it took longer than I think anybody had anticipated. There was issues with license transfer, HUD transfer, approval for HUD et cetera, et cetera. So that process was completed by the end of last year and then that's when the company than began sort of looking at strategic alternative, now that we completed sort of that phase and we were now strictly an owner of all these properties with long-term leases with various operators what made sense on a go forward basis and as I commented on the call as a result to that process we've now have some key initiatives to focus on as that were an owner of the properties in order to continue to increase shareholder value.  David Rothchild I'm assuming that with this cash from the sales of this Arkansas you’re going to look to try to buy other properties and triple that lease amount is that correct understanding? Bill McBride Well, I think the proceeds of this properties, what we want to do is build shareholder value, what we don’t want to do is strictly go out and buy properties. That’s not -- that said, that's not saying on a selective basis that we may not make some acquisitions, we will, we’re already looking at some right now. But I think when you look at that, at the direction of the board, you look at those proceeds and you say where can we build shareholder value and so that's why we believe a combination of things is in the best interest to shareholders at this point in time, that combination being purchases of common and preferred stock, some reinvestments in our existing properties, although not large in dollars, significant in the terms of both the immediate rent we would get from that as well as the improved coverage ratios which drives value for us. And then finally some selective acquisitions, we would not be looking to just go and do a one-off in some state. It would be really to backfill with our existing operators or to take some other relationships that we have and build the package of facilities that again would be cross collateralized and cross defaulted as the group. David Rothchild Okay, thanks for the background. Operator Our next question will come from John Davis with Bravo Reality.  John Davis Hey, guys I've got three questions. First of all when you look at the Arkansas sale just looking through the financial statements based on the amount of rental income that we were be receiving end of sales price it looks like the cap rate was below 9% is that accurate? Bill McBride I believe so yes. That's what we quoted [multiple speakers]. John Davis Excellent [multiple speakers]. Bill McBride When you look at the performance of those facilities, at the time, that was a very attractive cap rate to get on those particular properties. I don’t or we don’t like Arkansas in general as a long-term state for a variety of reasons. That's where almost all of our professional liability lawsuits have come out of, when we were operating those facilities. We don’t like the values there and the --. So that cap rates for those particular assets, particularly given the way they were performing was a very attractive cap rate and we were not very leveraged there as you can see, there is really only about $30 million worth of debt on the $55 million of the properties, not very levered. And the reason it wasn’t very levered was because the operating performance wouldn’t allow a higher leverage. So we think redeploying that net cash proceeds from Arkansas in the variety of ways that I laid out would actually give us a better return on that capital than we were getting those Arkansas properties. John Davis No, I couldn’t agree more and congratulate you guys on executing that transaction. Anytime you can sell a sniff for a sub 9% cap rates it’s a cause for celebration, so congratulations. Question number two, I’ve noticed in the past that your financials, you have noted when you had covenant violations on some of your loans, do you have any -- but I noticed it seems like with the sale of Arkansas deal some of those were eliminated. Do you have any loans or do you have any covenant violations currently? Bill McBride I'll let Clinton report on those because he’s really happy to make an announcement on that. But I can tell you what, when I came in at the end of the '14, other than head debt every single particular piece of bank debt had multiple covenant violation and Clinton, where are we today? Allan Rimland Sure Clinton is walking over and he’s smiling, so we appreciate the question. This is Allan, a part of upcoming here and thinking about the overall businesses top building the balance sheet. Clinton has been here five years and he tells me that this is the first quarter that there has been no covenant violations. And I think that’s in part to -- due to one, size in the loans and restructuring the loans, so they make sense for both AdCare as well as the lenders. And performance of the facilities which has improved as Bill talked about over the portfolio. In addition to the first time in four years with no covenant compliance we’ve also taken -- I think taking the right approach in terms of reducing the rollover risk of mortgage debt over the next 12 to 18 months as well, whether that’s the refinance with HUD debt or refinancing with conventional debt and trying to lower the average cost of our mortgage portfolio as well. John Davis Along those lines it appears that the most expensive debt you have maybe bond deal, are those bonds callable can you refinance those or how does that work? Allan Rimland We look at all of our mortgage debt structure, at this point we have 15 owned facilities, so we are evaluating every piece of mortgage debt in our portfolio for refinancing opportunities, those to extract cash out of the property, essentially we’ve called the cash out refinancing, extend maturities or lower interest rates. So the instrument that you mentioned on the [indiscernible] is something that we are considering as well additional pieces of debt in our capital structure. It would be mindful that as performance in our underlying portfolio improves it’s that your refinance debt get to little easier and easier, but we would expect some refinancing in 2017. John Davis Thank you and the final question, are you in compliance with the NYSE compliance plan that was approved earlier this year? Allan Rimland The plan that was approved early this year gave us till October of 2017 and that is a plan that we are working on it. It's been approved by the New York Stock Exchange and will be -- I guess interacting with shareholders the next couple of months in terms of how that plan would work. So as of today no, but there is a plan in place, it's been accepted that we will be in compliance. John Davis Fantastic, thank you so much. Bill McBride Let me make one other comment on that. Allan mentioned the underlying performance improvements in the property, that’s really -- that is driving a number of things. One, Allan briefly mentioned the refinancing and our ability to refinance for example both higher bond, I believe you’re probably refereeing maybe to the Eaglewood out funds that we have in one of our Properties in Ohio. We’re looking at that all the time and working with the operator to try to get the coverage's in the place where we can do a refinancing that would make sense. And as soon as we can do that we will absolutely be on that, we look at that every month. But as far as coverage ratios, when you listen to all the other healthcare REITs announce their quarterly earnings, they talk quite a bit about coverage ratios and they talk about rural and urban facilities and kind of what's going on in the whole Medicare reimbursement structure that's changing a little bit. We’re really pleased we've been talking about this that we believe this regional operators were the right ones to operate these facilities we knew it would take a little bit of time as they got into these facilities and come up with their operating strategy, sometimes changing out these administrator, sometimes changing the name of the building, the director of nursing, reestablishing relationships with hospitals et cetera, et cetera. That it would take some time. But we did expect that we would start to see these coverage ratios improve, and we have. And we expect with particularly with the Medicare rate increase that’s coming in October 1, further improvement as we go forward. Why does that matter so much for AdCare? Well it matters because when somebody looks at our portfolio of assets and tries to put a value on one of the first things they look for is coverage ratios and as you mentioned about selling Arkansas at a sub 9 cap rates being great, they really -- what drives those cap rates is coverage ratios. So to the extent we can get our facilities more in line and they’re getting a lot closer and very quickly with what you sees, the healthcare REITs underwriting their deals at, you will see cap rates go down and for us, as of the leverage a 0.5 change in cap rates. So in other words if you went from 8.5 to 9 or 9.5 to 9 or whatever a 0.5 change in cap rate is about $0.50 per share at AdCare in this common stock valuation. So it's significant to us because of the leverage and it's critical for us to be able to build shareholder value to help assist those operators get those cap rates up. Operator Our next question will come from Chris Doucet from Doucet Asset Management. Chris Doucet  Bill you just answered one of my questions, a good answer on the rent coverage. I just kind of wanted to continue with that theme and you mentioned Medicare increases October 1st was that just one state or is that Ohio or what states expect to have Medicaid increases in 2017? Bill McBride So for Medicaid our Ohio properties got a nice rate increase on July 1. The Medicare the federal program increased, its national increase. So that would impact all of our facilities on October 1. Georgia which is our next largest state or largest state depending on how you calculate it, if you do it by revenue or by beds, but Georgia they did a rate increase on July 1, but it's been delayed as far as cash payment to the facilities until January 1 whether expect a lump-sum. So I think you are going to see the Georgia facility ramp up, if not in the fourth quarter they’ll ramp up some in the fourth quarter as a result of the Medicare rate increase, but they'll jump up even more on January 1 when the Georgia state Medicaid rate increase passes through. We are working diligently and hope to have in place by early by the first quarter, an implementation of a program on our two part performing facility which are two Oklahoma facilities, to put them in the upper [indiscernible] program limit which will allow them a significantly higher increased rate. They’re basically going to joint venture with a local hospital there. I’ve been working with the operator there quite extensively in order to get -- assist them. We have to agree to allow them to do it because it’s actually a license change, it will be a joint license with a nursing home operator and the local hospital in order to significantly up both their Medicaid and Medicare rate. That’s a type of thing that we need to do to help them, when you -- they are our partners and when they do well on these building, we do good. So in a lot of cases it doesn’t take a lot of money necessarily to make a significant difference in their ability to market those facilities to private pay or the Medicare pensions. Chris Doucet Have you Allan done any kind of analysis or a spreadsheet to show that if occupancy were the same and that sort of thing, what kind of leased coverage you would have assuming everything stayed the same with these Medicare and Medicaid increases? Bill McBride We haven’t only because you don’t really know -- they’re obviously going to spend a little bit of that in terms of giving some wage rate increases to some of the employees. So we don’t know until they -- we ultimately see the monthly financials as to what sort of pass-through, you’re ultimately going to get to the bottom line. Typically it's not dollar for dollar, everybody in the industry knows those rate increases are coming including the workers. So you tend to give a little bit of it out, but we saw significant increases in our Ohio properties as a result of their last Medicaid rate increase that they got on July 1. Chris Doucet Just two more question and I'll step back in queue. But what type of cap rates are you seeing in your pipeline of potential properties to purchase? Bill McBride We are looking -- the lease rates that you see out there. I am coming to least rate rather than cap rates first, but least rates we see in the 9% to 10% range is what you see most of that and I am talking about cash rents. That you will be seeing it’s a been about our 0.5 escalation in the interest rate that you are getting on leases as a result of a lot of the healthcare REITs really -- particularly as I mentioned in these urban markets where they’re looking at doing -- Medicare is looking at doing some bundling of services. So a lot of these operators that are selling their facilities or have been operating their facilities in these urban markets. There are some significant concerns about where those rates ultimately go under the bundling. EMS is looking to make changes there, they’ve got proposed changes that require nursing homes to have certain ratings in order to get certain reimbursement. Our facilities luckily are almost exclusively with the exception of those two Oklahoma properties, more suburban marketplaces and won’t really be impacted by that. So Allan do you want to comment a little bit about cap rate? Allan Rimland I think that pairs of the 9% to 10% least cap rate I just do want to emphasize Chris that that is an initial cash rent. One of the hallmarks that we like to look at facility is profit improvement potential and that’s why we think we can above or above market escalators. So when you look at on a straight line benches, you’re probably I think 50 basis points shall we say the straight line rent cap rate. Chris Doucet Okay, and last question, I'll step back in the queue. Bill you guys didn’t update us on the how many PL, GL suites you have outstanding. I know you probably will do that in the queue. Can you talk a little bit about that? Bill McBride Yes, I mean that’s something we’re still got a little bit of work ahead of us on we have I think its 31 or 32 now, PL law suits against the company. Primarily as I mentioned earlier in Arkansas. We’re working aggressively to defend them, obviously it would be nice to be able to settle them, but only if it makes sense for the company if not we’ll do what we need to do. We think we’ve got adequate defenses against those, but we’re going to try to resolve them if possible. Chris Doucet Okay, thanks I'll step back in queue.  Operator [Operator Instructions] Our next question will from Steven Silver, a Private Investor. Steven Silver The share buyback preclude you an Allan from buying shares and if not do you and Alan and other senior management plans to purchase shares yourselves? Bill McBride So the short answer to that is, yes, we plan on it and no it doesn’t preclude it. Although we can't do it at the same time. Allan Rimland Steve its Allan, I will concur with Bill’s perspective on it. Steven Silver And do you guys plan to be aggressively going in the marketplace and buying back stock immediately? I mean are we going to see some bids very soon? Bill McBride Yes, I really don’t -- our plan is, yes in general to buy. I don’t want to really comment just on that. I would rather do our filings after.  Steven Silver Okay, thanks. Operator This does conclude our question-and-answer session for today. And at this time I would like to turn the conference back over to management for additional or closing remarks. Bill McBride Well, thank you everyone for joining --. Allan Rimland I think there is another call. Bill McBride Yes, okay another question. Go ahead.  Operator It looks like we did have a follow question from Chris Doucet from Doucet Asset management. Chris Doucet  Yes, just two quick follow up. Allan you mentioned that those $8.7 million gain on the Arkansas properties I assume the NOL is going to offset that? Allan Rimland Yes, it over an $8 million gain, we are doing our final accounting. But yes that would be essentially used against the NOL. So there is no cash tax on that.  Chris Doucet Okay, and Bill you mentioned a recertification I believe of 3 Georgia projects and Peach Tree is going to take over those properties after they’re recertified. Is that -- do they start operating January 1st or April the 1st or do you have date set for continued operation on those properties yet? Bill McBride Yes, thanks for that question. Chris actually I'm very happy where the progress that the Peach has had on those facilities. The state -- the fire marshal was in last week in the Jefferson, -- first off they took over three facilities. Through were the three former New Beginning's facilities, when New Beginning filed bankruptcy. We immediately brought Peach in, two of those during the New Beginning bankruptcy, they had gotten decertified, one was still certified, Savannah Beach. They took over that facility right away and have done a good job on Savannah Beach. The other two and the reason we selected Peach besides that they are a good operators, is Peach has had experience in Georgia recertifying fine facilities very successfully. So that's why they were selected. The second facility was Jeffersonville, Jeffersonville the improvements in the assets have been made, fire marshal was in last week. We expect to have to follow up just weak on their one thing, it’s a minor thing that they came up with, they always have to find something. And the certification would begin before thanksgiving. We’ll be recertified and start putting -- bringing in our -- you’ve to bring in four residents and then they do a follow up survey. We have a waiting list on that building of over 80 residents waiting to get back in that building. So we expect that fill up would occur very quickly over the months of December and January into the February. It will start paying rents early next year, we have a graduated rent structure and expect them to be on full rent by the middle of the year. The third building is Ocean side. Ocean side, the good news is -- well the bad news, it got a little bit delayed a couple of week because of the hurricane. The good news is we got a new roof and a bunch of others stuff done on the building that we were going to otherwise have to do as part of property insurance coverage. But we still with that building expect that will be certified by the first of the year and start admitting residents, and there is a long waiting list for people that want to get back out, untie the island, fill that facility rapidly as well. The total amount of rent for those buildings -- with those two building will be about $1.4 million a year which we’re not receiving now, but once they’re online in total we’ll be getting that revenue by the middle of next year. So that would have meant a recertification in about six to seven months which is extremely fast in the industry. So I am very pleased with the results that we’ve got with our partner on Peach Healthcare on those two facilities in Georgia. Brett Maas There are no any calls in the queue. Bill McBride Okay everybody, thanks for being involved in the call. Look forward to updating the slide presentation, the investor slide presentation we’ll have that out there and then of course the annual meeting in early December. Allan Rimland Thank you very much. Operator That does conclude our conference for today. Thank you for your participation. Copyright policy:  All transcripts on this site are the copyright of Seeking Alpha. However, we view them as an important resource for bloggers and journalists, and are excited to contribute to the democratization of financial information on the Internet. (Until now investors have had to pay thousands of dollars in subscription fees for transcripts.) So our reproduction policy is as follows:  You may quote up to 400 words of any transcript on the condition that you attribute the transcript to Seeking Alpha and either link to the original transcript or to www.SeekingAlpha.com. All other use is prohibited. THE INFORMATION CONTAINED HERE IS A TEXTUAL REPRESENTATION OF THE APPLICABLE COMPANY'S CONFERENCE CALL, CONFERENCE PRESENTATION OR OTHER AUDIO PRESENTATION, AND WHILE EFFORTS ARE MADE TO PROVIDE AN ACCURATE TRANSCRIPTION, THERE MAY BE MATERIAL ERRORS, OMISSIONS, OR INACCURACIES IN THE REPORTING OF THE SUBSTANCE OF THE AUDIO PRESENTATIONS. IN NO WAY DOES SEEKING ALPHA ASSUME ANY RESPONSIBILITY FOR ANY INVESTMENT OR OTHER DECISIONS MADE BASED UPON THE INFORMATION PROVIDED ON THIS WEB SITE OR IN ANY TRANSCRIPT. USERS ARE ADVISED TO REVIEW THE APPLICABLE COMPANY'S AUDIO PRESENTATION ITSELF AND THE APPLICABLE COMPANY'S SEC FILINGS BEFORE MAKING ANY INVESTMENT OR OTHER DECISIONS. If you have any additional questions about our online transcripts, please contact us at:  transcripts@seekingalpha.com . Thank you!\",\n",
       " 'rawText': \"AdCare Health Systems, Inc. (NYSEMKT: ADK ) Q3 2016 Earnings Conference Call November 14, 2016 04:30 PM ET Executives Brett Maas - Hayden IR Bill McBride - CEO Allan Rimland - CFO Clinton Cain - CAO Analysts David Rothchild - Raymond James John Davis - Bravo Reality Chris Doucet - Doucet Asset Management Steven Silver - Private Investor Operator Good day and welcome to the AdCare Health Systems Incorporated Third Quarter 2016 Earnings Call. Today’s conference is being recorded. At this time, I would like to turn the conference over to Brett Maas of Hayden IR. Please go ahead, sir. Brett Maas Thank you and good day. Joining me on the call today are Bill McBride, AdCare’s Chairman and Chief Executive Officer; Allan Rimland, AdCare’s President and Chief Financial Officer; and Clinton Cain, AdCare’s Senior Vice President and Chief Accounting Officer. I would also like to mention this call is being simulcast on the company’s website at www.adcarehealth.com. Let me now read the Forward-looking statements. Any forward-looking statements made today are based on management’s current expectations, assumptions and beliefs about AdCare’s business and the environment in which the company operates. These statements are subject to risks and uncertainties that could cause actual results to materially differ from those expressed or implied on this call. Listeners should not place undue reliance on forward-looking statements and are encouraged to review AdCare’s SEC filings for a more complete discussion of factors that could impact AdCare’s results. Except as required by Federal Securities Laws, AdCare does not undertake to publicly update or revise any forward-looking statements, where changes arise as a result of new information, future events, changing circumstances or for any other reason. After management concludes their remarks, they will respond to questions. Now, I’d like to turn the call over to Chairman and Chief Executive Officer of AdCare, Bill McBride. Bill, please go ahead. Bill McBride Thanks, Brett. Good afternoon and thanks to everyone for joining us today. When our transition from an owner operator to a healthcare property holding and leasing company completed at the end of the year. Our Board determined that it was an appropriate time to evaluate strategic alternatives. We engaged Stifel, as our financial advisor and the Board began this process in earlier. Today I'm reporting that we have concluded that process. The Board has conducted an all-encompassing review of a number of possible alternatives including an all right sale of the company, mergers and joint ventures. We reached out to a number of potentially interested parties and received several proposals. In fact the process took somewhat longer than expected because of the large number of parties contacted. However in the end the Board determined that such proposals were not in the best interest of shareholders due to a number of reasons, primarily valuation. After a thorough and exhaustive review of our options the Board concluded the best path to increasing shareholder value would be to execute on a number of initiatives. These initiatives are both the continuation of the strategy outlined in august 2014 as part of our transition from an operating company to a healthcare property holding and leasing company as well as other initiatives in response to feedback by potentially interested parties during the Board’s review of strategic alternative. Let me breakdown these initiatives now. First we will continue to work with our existing operator, including making investments in certain of our facility, to immediately increase rent and to help improve the credit profile of our facility, specifically rent coverage ratio. These projects such as laundry and bed addition serve two objective. First they improve the rent coverage ratios, a key factor in valuation. Second, these investments provide attractive returns on capital in the form of higher rents. In addition we are working closely with our new tenant Peach Healthcare Group on the recertification plans for two of our Georgia facility. We anticipate that these facilities will be recertified by the end of this year and begin paying rent again by early next year. As I mentioned on our last conference call and previous calls we are now beginning to observe the operational strategies of our local and retail operator tenants are taking hold of dividends by noticeable improvements in the overall credit profile of our portfolio. Rent coverage before management fees improved sequentially from 1.3 times in the second quarter to 1.5 times in the third quarter, and rent coverage after management fees improved sequentially from 0.9 times in the second quarter to 1.2 times in the third quarter. Although controlled directly by the operator’s performance, we anticipate continued improvement in rent coverage ratios because of the outstanding operational clinical and financial focus of our tenants combined with both Medicaid and Medicare rent increases. Improved rent coverage's overtime translate into lower cap rates and ultimately significantly improved shareholder value. This was discussed and reviewed significantly during our strategic review process. Second, we are thinking to redeploy the net cash proceeds from the recent sales of our nine Arkansas facility to maximize shareholder value. These would include the potential re-purchase of common and preferred stock, repayment of outstanding, convertible debt and selective acquisitions. We believe buying our own covenant preferred stock at current valuation is one of the best usages of capital currently available to us. The Board has approved a 1 million share common stock buyback program and a 100,000 share preferred stock buyback program. In addition to the share re-purchase programs we are evaluating the refinancing of mortgage debt and the repayment of our 10% convertible supported netted debt due next year. As it relates to potential acquisition we began identifying potential acquisitions for some time, in general we would look for acquisition that have similar economic and structure to the Florida transaction which we considered nearly a year ago. One of the best possible strategies of acquisitions is buying in our leases that we currently have in place with land lords. As you know we currently lease 11 facilities pursuant to long-term leases that are sub leased to third party operators. Of these 11 leases nine are subject to a right of first refusal purchase. During the strategic review it became clear that the valuations -- our interested parties have signed for our lease hold interest were significantly discounted. We believe that would make sense for us to allocate a portion of the net cash proceeds from the Arkansas potentially and acquired some of these facilities.  Finally, we need to continue to reduce our overhead cost. Again as I mentioned on the last call you've seen continued steady reductions in G&A, due to planned headcount reductions and lower other expenses related primarily legal and account. During the third quarter we reduced our overhead from 2.1 million to 1.6 million, a 25% reduction. We believe they is still some additional room in lowering our G&A burden as we continue to wind down our discontinued operations business. Another key initiative is our continued work to resolve if possible the remaining professional liabilities resulting from our discontinued operations. Reasonable settlements are not obtained however the company is prepared to a vigorously defend these outstanding losses. We anticipate that our focused efforts on all of these initiatives will increased shareholder value and allow the board to further consider its strategic alternatives in the future.  In addition to our review of strategic alternatives we've been busy over the last few months. As previously announced we've completed the sale of nine properties to affiliate the Skyline Healthcare, the current operator of the facilities for a total purchase of $55 million. Total purchase price was comprised at $52 million in cash and a $3 million promissory notes. Portion of the proceeds was used to repay a mortgage debt associated with the properties, the net proceeds to add care after the repayment of associated mortgage debt was approximately $23 million. Based on the prior operator’s annual cash rent we sold the properties at an 8.7% lease cap rates, which we believe is very attractive in this marketplace. Also we will book approximately $8 million gain on sale testament to the underlying value of our real estate portfolio.  In addition, Allan will discuss the hybrid financing of our Georgetown facility and the anticipated head closing very shortly on our Stamford facility.  Finally, I wanted to make a few overall comments on the skill nursing industry. We've seen a pronounce shift by the public markets away from the skilled nursing sector as both operators and large healthcare REITs have moved in that direction. Many national large operator are having operating difficulties due in part to put integration of acquisitions or facing Medicare, Medicaid reimbursement pressures. Similarly many large healthcare REITs are finding that lease structure years ago are simply unsustainable from rent coverage perspectives. We are seeing operator and large healthcare reach setting operations in properties respectively or spinning off such assets like Ventos and HCP.  The valuation have weakened slightly over the last several months, which undoubtedly impact our review of strategic alternative. We believe however this is more of a temporary problem as a fundamental to the industry remained intact particularly for our regional and local operators. We believe this is evidenced by the improved performance of our tenant operators as we previously discussed. With that I'll now turn the call over Allan Rimland, our President and CFO. Allan Rimland Thank you, Bill and good afternoon everyone. Before reviewing our financial results, I wanted to review some of the operating metrics of our portfolio for the quarter. As Bill mentioned for the three months ending September 30, our portfolio occupancy rate was approximately 82.6%. The skilled mix was 12.1% and our rent coverage before and after management fee was 1.5 times and 1.2 times respectively. These metrics exclude the nine Arkansas facilities which are under contract for sale at 930 and three Georgia facilities, previously operated by affiliates of New Beginnings Care and now operated by Peach Health Group. As a reminder the presentation of our third quarter and year-to-date financial results includes the requalification of our operating results and facilities that were transferred to discontinued operations in the prior year's period. Comparative results are not indicative of our financial performance given our change in business model. Revenues in the third quarter were $7.2 million. We recognized our revenues in accordance with GAAP, which for most leases is on a straight line rent accrual basis. However, rent revenues for nine facilities in Arkansas are recorded on a cash basis due to the pending sale of the facilities to Skyline that was completed after the end of the quarter. And rental revenue was not recognized for two facilities in Georgia due to the pending recertification of these facilities. We began recognizing rental revenue for our Savannah Beach facility in July, when Peach began operating the facility and expect to recognize rental revenue for our Jeffersonville and Oceanside facilities when the facilities are recertified by CMS in the next few months. We expect revenue to decline in the fourth quarter as we no longer will earn rental revenues from our nine Arkansas facilities. Please refer to our 8-K dated October 11, which presents pro forma financial statements in connection with the Skyline sale. General and administrative expenses were $1.6 million for the third quarter of 2016, inclusive of $169,000 in stock-based compensation and approximately $150,000 in non-recurring expenses principally accounting in legal. I would also note that G&A includes approximately $200,000 in expenses related to our facility management services business. G&A declined 25% sequentially and 24% compared to the third quarter of 2015. The decrease in G&A was primarily driven by planned headcount reduction. To give you some additional insights into the drivers we’re taking behind our G&A reductions, our total headcount has been reduced from 21 at the end of 2015 to 13 currently, excluding six professionals dedicated to our facility management business. Our core headcount is expected to be nine professionals for our ongoing business, and we expect to achieve this objective in the next few months. In addition, we continue to expect additional reductions in G&A in the next three months from the lower other related expenses. Depreciation and amortization declined in the third quarter of 2016 to $1.1 million compared to $1.9 million in the year ago quarter, and $1.3 million in the prior quarter. This decrease was due primarily to the Arkansas facilities being classified as assets held sale. Interest expense stayed relatively flat at $1.8 million. Interest expense is respective to decline in the fourth quarter due to the Skyline sale. Our loss from discontinued operations net of tax was $2.2 million for the current quarter as compared to $3.1 million for the prior year period. The loss was primarily due to bad debt expense related to relate to legacy patient accounts receivable. Net loss attributed to AdCare common stockholders for the third quarter of 2016 was $3.6 million compared to $6.3 million for the third quarter of 2015, or a loss of $0.19 and $0.32 per basic and diluted share respectively. Now, for a view of our year to date financial results. Revenues for the first 9 months of 2016 were $21.4 million compared to $12 million in the year ago period. The increase in revenues is driven by an increase in rental revenues, reflecting our transition to a healthcare property holding and leasing company. G&A expenses were $6.3 million for the first nine months of 2016, inclusive of $890,000 in stock-based compensation. G&A declined 22% or $1.7 million compared to the first 9 months of 2015. Interest expense decreased from $6.6 million in the first nine months of 2015 to $5.4 million in the first nine month s of 2016. Net loss attributable to AdCare common stockholders for the first 9 months of 2016 was $14.4 million, compared to $18.5 million for the first 9 months of 2015 or a loss of $0.72 and $0.94 per basic and diluted shares respectfully. Turning to a review of our balance sheet. Cash and cash equivalents at September 30th totaled $1.5 million dollars compared to $2.7 million at December 31st. This cash balance at the end of the third quarter of 2016 does not include approximately $23 million in net proceeds we received just days after the end of the quarter as a result of the sale of our nine properties located in Arkansas. Again please refer to our 8-K filed on October 11th for a pro forma balance sheet. Total debt outstanding at September 30th was $115.5 million compared to $122.8 million at year December 31st, including liabilities of the disposal group held for sale of $32 million and $958,000 and net of $2.3 million and $2.7 million of deferred financing cost respectively. During the quarter we refinanced bank debt on our Georgetown facility with $3.7 million of debt guarantee by HUD. The HUD debt has a 30 year term and an interest of 2.98% exclusive of mortgage insurance premiums. We expect to complete the refinancing of our [Indiscernible] facility with HUD debt in the fourth quarter in the 3.25 interest rate range. These two HUD financing's refinanced bank debt that we were paying 4.71% as of now 930 [ph]. On a pro forma basis getting effect to the Skyline sale and depending [Indiscernible], HUD refinancing we will have 3.2 million of mortgage debt and $9.9 million of convertible debt due over the next 12 months. Bill noted earlier that we will ear mark funds to pay off the convertible debts. Also you will see further progress in reducing our operating working capital accounts namely AR, prepays and accounts payable. We expect further reductions in such accounts over the next few months. Our operational progress is again reflected in our financial results, with G&A expensive lower in the quarter, and positive cash flow from operations. Legally there are still addition improvements to be captured as we progress throughout the remainder of the year.  I will now turn the call back over to Bill. Bill McBride Thanks Allan. With the strategic review concluded we have a clear set of initiatives to focus on, which we believe we will continue to increase shareholder value and allow the board to consider strategic alternatives in the future. Many of these initiatives have already been underway and we are making progress towards completion. We look forward to updating you on our progress as it continues and the results as we achieved them. We expect to update the investor presentation slide as presented on the company's website shortly. This will reflect sale of the Arkansas assets and expected redeployment of the proceeds. Our annual meeting is schedules for December 8, 2016 at 10 am, in Duluth, Georgia which is near our new offices in Suwanee, Georgia. I hope to see many of you there. With that I would like to turn the call over to the operator again for questions. Question-and-Answer Session Operator Thank you. [Operator Instructions] Our first question will come from David Rothchild with Raymond James. David Rothchild I am pretty new to your company, I am a retail broker. You guys currently -- is it 38 facilities after selling those Arkansas ones is that correct? Bill McBride Correct. David Rothchild How many different tenants are they leased out to then? How many different companies? Bill McBride There is about six, so strategy that we used in leasing out the properties was, use smaller regionally focused operators to do that. We don’t have any one facility deals because we wanted to put each one in sort of cross-collateralize cross-defaulted package. The smallest operators we have has two properties, that’s our two properties in Oklahoma and the rest are kind of distributed among the remaining operators. David Rothchild Okay and I understand before you guys actually operated some of the facilities now you are going to be strictly into owning and leasing them out to operators is that -- so that’s the trend you trying going then? Bill McBride Yes, it’s not so much a trend is that, the company was an owner and operator of properties some leased some owned and operated all of those properties for many years. And 2014 Board made a determination to get out of basically the operations business, and brought me and Allan ultimately in because of our backgrounds in healthcare REITs and since to complete that process. That process was a lengthy process, it took longer than I think anybody had anticipated. There was issues with license transfer, HUD transfer, approval for HUD et cetera, et cetera. So that process was completed by the end of last year and then that's when the company than began sort of looking at strategic alternative, now that we completed sort of that phase and we were now strictly an owner of all these properties with long-term leases with various operators what made sense on a go forward basis and as I commented on the call as a result to that process we've now have some key initiatives to focus on as that were an owner of the properties in order to continue to increase shareholder value.  David Rothchild I'm assuming that with this cash from the sales of this Arkansas you’re going to look to try to buy other properties and triple that lease amount is that correct understanding? Bill McBride Well, I think the proceeds of this properties, what we want to do is build shareholder value, what we don’t want to do is strictly go out and buy properties. That’s not -- that said, that's not saying on a selective basis that we may not make some acquisitions, we will, we’re already looking at some right now. But I think when you look at that, at the direction of the board, you look at those proceeds and you say where can we build shareholder value and so that's why we believe a combination of things is in the best interest to shareholders at this point in time, that combination being purchases of common and preferred stock, some reinvestments in our existing properties, although not large in dollars, significant in the terms of both the immediate rent we would get from that as well as the improved coverage ratios which drives value for us. And then finally some selective acquisitions, we would not be looking to just go and do a one-off in some state. It would be really to backfill with our existing operators or to take some other relationships that we have and build the package of facilities that again would be cross collateralized and cross defaulted as the group. David Rothchild Okay, thanks for the background. Operator Our next question will come from John Davis with Bravo Reality.  John Davis Hey, guys I've got three questions. First of all when you look at the Arkansas sale just looking through the financial statements based on the amount of rental income that we were be receiving end of sales price it looks like the cap rate was below 9% is that accurate? Bill McBride I believe so yes. That's what we quoted [multiple speakers]. John Davis Excellent [multiple speakers]. Bill McBride When you look at the performance of those facilities, at the time, that was a very attractive cap rate to get on those particular properties. I don’t or we don’t like Arkansas in general as a long-term state for a variety of reasons. That's where almost all of our professional liability lawsuits have come out of, when we were operating those facilities. We don’t like the values there and the --. So that cap rates for those particular assets, particularly given the way they were performing was a very attractive cap rate and we were not very leveraged there as you can see, there is really only about $30 million worth of debt on the $55 million of the properties, not very levered. And the reason it wasn’t very levered was because the operating performance wouldn’t allow a higher leverage. So we think redeploying that net cash proceeds from Arkansas in the variety of ways that I laid out would actually give us a better return on that capital than we were getting those Arkansas properties. John Davis No, I couldn’t agree more and congratulate you guys on executing that transaction. Anytime you can sell a sniff for a sub 9% cap rates it’s a cause for celebration, so congratulations. Question number two, I’ve noticed in the past that your financials, you have noted when you had covenant violations on some of your loans, do you have any -- but I noticed it seems like with the sale of Arkansas deal some of those were eliminated. Do you have any loans or do you have any covenant violations currently? Bill McBride I'll let Clinton report on those because he’s really happy to make an announcement on that. But I can tell you what, when I came in at the end of the '14, other than head debt every single particular piece of bank debt had multiple covenant violation and Clinton, where are we today? Allan Rimland Sure Clinton is walking over and he’s smiling, so we appreciate the question. This is Allan, a part of upcoming here and thinking about the overall businesses top building the balance sheet. Clinton has been here five years and he tells me that this is the first quarter that there has been no covenant violations. And I think that’s in part to -- due to one, size in the loans and restructuring the loans, so they make sense for both AdCare as well as the lenders. And performance of the facilities which has improved as Bill talked about over the portfolio. In addition to the first time in four years with no covenant compliance we’ve also taken -- I think taking the right approach in terms of reducing the rollover risk of mortgage debt over the next 12 to 18 months as well, whether that’s the refinance with HUD debt or refinancing with conventional debt and trying to lower the average cost of our mortgage portfolio as well. John Davis Along those lines it appears that the most expensive debt you have maybe bond deal, are those bonds callable can you refinance those or how does that work? Allan Rimland We look at all of our mortgage debt structure, at this point we have 15 owned facilities, so we are evaluating every piece of mortgage debt in our portfolio for refinancing opportunities, those to extract cash out of the property, essentially we’ve called the cash out refinancing, extend maturities or lower interest rates. So the instrument that you mentioned on the [indiscernible] is something that we are considering as well additional pieces of debt in our capital structure. It would be mindful that as performance in our underlying portfolio improves it’s that your refinance debt get to little easier and easier, but we would expect some refinancing in 2017. John Davis Thank you and the final question, are you in compliance with the NYSE compliance plan that was approved earlier this year? Allan Rimland The plan that was approved early this year gave us till October of 2017 and that is a plan that we are working on it. It's been approved by the New York Stock Exchange and will be -- I guess interacting with shareholders the next couple of months in terms of how that plan would work. So as of today no, but there is a plan in place, it's been accepted that we will be in compliance. John Davis Fantastic, thank you so much. Bill McBride Let me make one other comment on that. Allan mentioned the underlying performance improvements in the property, that’s really -- that is driving a number of things. One, Allan briefly mentioned the refinancing and our ability to refinance for example both higher bond, I believe you’re probably refereeing maybe to the Eaglewood out funds that we have in one of our Properties in Ohio. We’re looking at that all the time and working with the operator to try to get the coverage's in the place where we can do a refinancing that would make sense. And as soon as we can do that we will absolutely be on that, we look at that every month. But as far as coverage ratios, when you listen to all the other healthcare REITs announce their quarterly earnings, they talk quite a bit about coverage ratios and they talk about rural and urban facilities and kind of what's going on in the whole Medicare reimbursement structure that's changing a little bit. We’re really pleased we've been talking about this that we believe this regional operators were the right ones to operate these facilities we knew it would take a little bit of time as they got into these facilities and come up with their operating strategy, sometimes changing out these administrator, sometimes changing the name of the building, the director of nursing, reestablishing relationships with hospitals et cetera, et cetera. That it would take some time. But we did expect that we would start to see these coverage ratios improve, and we have. And we expect with particularly with the Medicare rate increase that’s coming in October 1, further improvement as we go forward. Why does that matter so much for AdCare? Well it matters because when somebody looks at our portfolio of assets and tries to put a value on one of the first things they look for is coverage ratios and as you mentioned about selling Arkansas at a sub 9 cap rates being great, they really -- what drives those cap rates is coverage ratios. So to the extent we can get our facilities more in line and they’re getting a lot closer and very quickly with what you sees, the healthcare REITs underwriting their deals at, you will see cap rates go down and for us, as of the leverage a 0.5 change in cap rates. So in other words if you went from 8.5 to 9 or 9.5 to 9 or whatever a 0.5 change in cap rate is about $0.50 per share at AdCare in this common stock valuation. So it's significant to us because of the leverage and it's critical for us to be able to build shareholder value to help assist those operators get those cap rates up. Operator Our next question will come from Chris Doucet from Doucet Asset Management. Chris Doucet  Bill you just answered one of my questions, a good answer on the rent coverage. I just kind of wanted to continue with that theme and you mentioned Medicare increases October 1st was that just one state or is that Ohio or what states expect to have Medicaid increases in 2017? Bill McBride So for Medicaid our Ohio properties got a nice rate increase on July 1. The Medicare the federal program increased, its national increase. So that would impact all of our facilities on October 1. Georgia which is our next largest state or largest state depending on how you calculate it, if you do it by revenue or by beds, but Georgia they did a rate increase on July 1, but it's been delayed as far as cash payment to the facilities until January 1 whether expect a lump-sum. So I think you are going to see the Georgia facility ramp up, if not in the fourth quarter they’ll ramp up some in the fourth quarter as a result of the Medicare rate increase, but they'll jump up even more on January 1 when the Georgia state Medicaid rate increase passes through. We are working diligently and hope to have in place by early by the first quarter, an implementation of a program on our two part performing facility which are two Oklahoma facilities, to put them in the upper [indiscernible] program limit which will allow them a significantly higher increased rate. They’re basically going to joint venture with a local hospital there. I’ve been working with the operator there quite extensively in order to get -- assist them. We have to agree to allow them to do it because it’s actually a license change, it will be a joint license with a nursing home operator and the local hospital in order to significantly up both their Medicaid and Medicare rate. That’s a type of thing that we need to do to help them, when you -- they are our partners and when they do well on these building, we do good. So in a lot of cases it doesn’t take a lot of money necessarily to make a significant difference in their ability to market those facilities to private pay or the Medicare pensions. Chris Doucet Have you Allan done any kind of analysis or a spreadsheet to show that if occupancy were the same and that sort of thing, what kind of leased coverage you would have assuming everything stayed the same with these Medicare and Medicaid increases? Bill McBride We haven’t only because you don’t really know -- they’re obviously going to spend a little bit of that in terms of giving some wage rate increases to some of the employees. So we don’t know until they -- we ultimately see the monthly financials as to what sort of pass-through, you’re ultimately going to get to the bottom line. Typically it's not dollar for dollar, everybody in the industry knows those rate increases are coming including the workers. So you tend to give a little bit of it out, but we saw significant increases in our Ohio properties as a result of their last Medicaid rate increase that they got on July 1. Chris Doucet Just two more question and I'll step back in queue. But what type of cap rates are you seeing in your pipeline of potential properties to purchase? Bill McBride We are looking -- the lease rates that you see out there. I am coming to least rate rather than cap rates first, but least rates we see in the 9% to 10% range is what you see most of that and I am talking about cash rents. That you will be seeing it’s a been about our 0.5 escalation in the interest rate that you are getting on leases as a result of a lot of the healthcare REITs really -- particularly as I mentioned in these urban markets where they’re looking at doing -- Medicare is looking at doing some bundling of services. So a lot of these operators that are selling their facilities or have been operating their facilities in these urban markets. There are some significant concerns about where those rates ultimately go under the bundling. EMS is looking to make changes there, they’ve got proposed changes that require nursing homes to have certain ratings in order to get certain reimbursement. Our facilities luckily are almost exclusively with the exception of those two Oklahoma properties, more suburban marketplaces and won’t really be impacted by that. So Allan do you want to comment a little bit about cap rate? Allan Rimland I think that pairs of the 9% to 10% least cap rate I just do want to emphasize Chris that that is an initial cash rent. One of the hallmarks that we like to look at facility is profit improvement potential and that’s why we think we can above or above market escalators. So when you look at on a straight line benches, you’re probably I think 50 basis points shall we say the straight line rent cap rate. Chris Doucet Okay, and last question, I'll step back in the queue. Bill you guys didn’t update us on the how many PL, GL suites you have outstanding. I know you probably will do that in the queue. Can you talk a little bit about that? Bill McBride Yes, I mean that’s something we’re still got a little bit of work ahead of us on we have I think its 31 or 32 now, PL law suits against the company. Primarily as I mentioned earlier in Arkansas. We’re working aggressively to defend them, obviously it would be nice to be able to settle them, but only if it makes sense for the company if not we’ll do what we need to do. We think we’ve got adequate defenses against those, but we’re going to try to resolve them if possible. Chris Doucet Okay, thanks I'll step back in queue.  Operator [Operator Instructions] Our next question will from Steven Silver, a Private Investor. Steven Silver The share buyback preclude you an Allan from buying shares and if not do you and Alan and other senior management plans to purchase shares yourselves? Bill McBride So the short answer to that is, yes, we plan on it and no it doesn’t preclude it. Although we can't do it at the same time. Allan Rimland Steve its Allan, I will concur with Bill’s perspective on it. Steven Silver And do you guys plan to be aggressively going in the marketplace and buying back stock immediately? I mean are we going to see some bids very soon? Bill McBride Yes, I really don’t -- our plan is, yes in general to buy. I don’t want to really comment just on that. I would rather do our filings after.  Steven Silver Okay, thanks. Operator This does conclude our question-and-answer session for today. And at this time I would like to turn the conference back over to management for additional or closing remarks. Bill McBride Well, thank you everyone for joining --. Allan Rimland I think there is another call. Bill McBride Yes, okay another question. Go ahead.  Operator It looks like we did have a follow question from Chris Doucet from Doucet Asset management. Chris Doucet  Yes, just two quick follow up. Allan you mentioned that those $8.7 million gain on the Arkansas properties I assume the NOL is going to offset that? Allan Rimland Yes, it over an $8 million gain, we are doing our final accounting. But yes that would be essentially used against the NOL. So there is no cash tax on that.  Chris Doucet Okay, and Bill you mentioned a recertification I believe of 3 Georgia projects and Peach Tree is going to take over those properties after they’re recertified. Is that -- do they start operating January 1st or April the 1st or do you have date set for continued operation on those properties yet? Bill McBride Yes, thanks for that question. Chris actually I'm very happy where the progress that the Peach has had on those facilities. The state -- the fire marshal was in last week in the Jefferson, -- first off they took over three facilities. Through were the three former New Beginning's facilities, when New Beginning filed bankruptcy. We immediately brought Peach in, two of those during the New Beginning bankruptcy, they had gotten decertified, one was still certified, Savannah Beach. They took over that facility right away and have done a good job on Savannah Beach. The other two and the reason we selected Peach besides that they are a good operators, is Peach has had experience in Georgia recertifying fine facilities very successfully. So that's why they were selected. The second facility was Jeffersonville, Jeffersonville the improvements in the assets have been made, fire marshal was in last week. We expect to have to follow up just weak on their one thing, it’s a minor thing that they came up with, they always have to find something. And the certification would begin before thanksgiving. We’ll be recertified and start putting -- bringing in our -- you’ve to bring in four residents and then they do a follow up survey. We have a waiting list on that building of over 80 residents waiting to get back in that building. So we expect that fill up would occur very quickly over the months of December and January into the February. It will start paying rents early next year, we have a graduated rent structure and expect them to be on full rent by the middle of the year. The third building is Ocean side. Ocean side, the good news is -- well the bad news, it got a little bit delayed a couple of week because of the hurricane. The good news is we got a new roof and a bunch of others stuff done on the building that we were going to otherwise have to do as part of property insurance coverage. But we still with that building expect that will be certified by the first of the year and start admitting residents, and there is a long waiting list for people that want to get back out, untie the island, fill that facility rapidly as well. The total amount of rent for those buildings -- with those two building will be about $1.4 million a year which we’re not receiving now, but once they’re online in total we’ll be getting that revenue by the middle of next year. So that would have meant a recertification in about six to seven months which is extremely fast in the industry. So I am very pleased with the results that we’ve got with our partner on Peach Healthcare on those two facilities in Georgia. Brett Maas There are no any calls in the queue. Bill McBride Okay everybody, thanks for being involved in the call. Look forward to updating the slide presentation, the investor slide presentation we’ll have that out there and then of course the annual meeting in early December. Allan Rimland Thank you very much. Operator That does conclude our conference for today. Thank you for your participation. Copyright policy:  All transcripts on this site are the copyright of Seeking Alpha. However, we view them as an important resource for bloggers and journalists, and are excited to contribute to the democratization of financial information on the Internet. (Until now investors have had to pay thousands of dollars in subscription fees for transcripts.) So our reproduction policy is as follows:  You may quote up to 400 words of any transcript on the condition that you attribute the transcript to Seeking Alpha and either link to the original transcript or to www.SeekingAlpha.com. All other use is prohibited. THE INFORMATION CONTAINED HERE IS A TEXTUAL REPRESENTATION OF THE APPLICABLE COMPANY'S CONFERENCE CALL, CONFERENCE PRESENTATION OR OTHER AUDIO PRESENTATION, AND WHILE EFFORTS ARE MADE TO PROVIDE AN ACCURATE TRANSCRIPTION, THERE MAY BE MATERIAL ERRORS, OMISSIONS, OR INACCURACIES IN THE REPORTING OF THE SUBSTANCE OF THE AUDIO PRESENTATIONS. IN NO WAY DOES SEEKING ALPHA ASSUME ANY RESPONSIBILITY FOR ANY INVESTMENT OR OTHER DECISIONS MADE BASED UPON THE INFORMATION PROVIDED ON THIS WEB SITE OR IN ANY TRANSCRIPT. USERS ARE ADVISED TO REVIEW THE APPLICABLE COMPANY'S AUDIO PRESENTATION ITSELF AND THE APPLICABLE COMPANY'S SEC FILINGS BEFORE MAKING ANY INVESTMENT OR OTHER DECISIONS. If you have any additional questions about our online transcripts, please contact us at:  transcripts@seekingalpha.com . Thank you!\",\n",
       " 'tradingSymbol': 'ADK',\n",
       " 'url': 'http://seekingalpha.com/article/4023347-adcare-health-systems-adk-ceo-bill-mcbride-q3-2016-results-earnings-call-transcript'}"
      ]
     },
     "execution_count": 6,
     "metadata": {},
     "output_type": "execute_result"
    }
   ],
   "source": [
    "transcript"
   ]
  },
  {
   "cell_type": "code",
   "execution_count": 7,
   "metadata": {
    "collapsed": false
   },
   "outputs": [],
   "source": [
    "doc = nlp(transcript['rawText'])"
   ]
  },
  {
   "cell_type": "code",
   "execution_count": 8,
   "metadata": {
    "collapsed": false
   },
   "outputs": [
    {
     "name": "stdout",
     "output_type": "stream",
     "text": [
      "=>  AdCare Health Systems, Inc.\n",
      "=>  (NYSEMKT: ADK ) Q3 2016 Earnings Conference Call November 14, 2016\n",
      "=>  04:30 PM ET Executives Brett Maas - Hayden IR Bill McBride - CEO Allan Rimland - CFO Clinton Cain - CAO Analysts David Rothchild - Raymond James John Davis - Bravo Reality Chris Doucet - Doucet Asset Management Steven Silver - Private Investor Operator Good day and welcome to the AdCare Health Systems Incorporated Third Quarter 2016 Earnings Call.\n",
      "=>  Today’s conference is being recorded.\n",
      "=>  At this time, I would like to turn the conference over to Brett Maas of Hayden IR.\n",
      "=>  Please go ahead, sir.\n",
      "=>  Brett Maas Thank you and good day.\n",
      "=>  Joining me on the call today are Bill McBride, AdCare’s Chairman and Chief Executive Officer; Allan Rimland, AdCare’s President and Chief Financial Officer; and Clinton Cain, AdCare’s Senior Vice President and Chief Accounting Officer.\n",
      "=>  I would also like to mention this call is being simulcast on the company’s website at www.adcarehealth.com.\n",
      "=>  Let me now read the Forward-looking statements.\n",
      "=>  Any forward-looking statements made today are based on management’s current expectations, assumptions and beliefs about AdCare’s business and the environment in which the company operates.\n",
      "=>  These statements are subject to risks and uncertainties that could cause actual results to materially differ from those expressed or implied on this call.\n",
      "=>  Listeners should not place undue reliance on forward-looking statements and are encouraged to review AdCare’s SEC filings for a more complete discussion of factors that could impact AdCare’s results.\n",
      "=>  Except as required by Federal Securities Laws, AdCare does not undertake to publicly update or revise any forward-looking statements, where changes arise as a result of new information, future events, changing circumstances or for any other reason.\n",
      "=>  After management concludes their remarks, they will respond to questions.\n",
      "=>  Now, I’d like to turn the call over to Chairman and Chief Executive Officer of AdCare, Bill McBride.\n",
      "=>  Bill, please go ahead.\n",
      "=>  Bill McBride Thanks, Brett.\n",
      "=>  Good afternoon and thanks to everyone for joining us today.\n",
      "=>  When our transition from an owner operator to a healthcare property holding and leasing company completed at the end of the year.\n",
      "=>  Our Board determined that it was an appropriate time to evaluate strategic alternatives.\n",
      "=>  We engaged Stifel, as our financial advisor and the Board began this process in earlier.\n",
      "=>  Today I'm reporting that we have concluded that process.\n",
      "=>  The Board has conducted an all-encompassing review of a number of possible alternatives including an all right sale of the company, mergers and joint ventures.\n",
      "=>  We reached out to a number of potentially interested parties and received several proposals.\n",
      "=>  In fact the process took somewhat longer than expected because of the large number of parties contacted.\n",
      "=>  However in the end the Board determined that such proposals were not in the best interest of shareholders due to a number of reasons, primarily valuation.\n",
      "=>  After a thorough and exhaustive review of our options the Board concluded the best path to increasing shareholder value would be to execute on a number of initiatives.\n",
      "=>  These initiatives are both the continuation of the strategy outlined in august 2014 as part of our transition from an operating company to a healthcare property holding and leasing company as well as other initiatives in response to feedback by potentially interested parties during the Board’s review of strategic alternative.\n",
      "=>  Let me breakdown these initiatives now.\n",
      "=>  First we will continue to work with our existing operator, including making investments in certain of our facility, to immediately increase rent and to help improve the credit profile of our facility, specifically rent coverage ratio.\n",
      "=>  These projects such as laundry and bed addition serve two objective.\n",
      "=>  First they improve the rent coverage ratios, a key factor in valuation.\n",
      "=>  Second, these investments provide attractive returns on capital in the form of higher rents.\n",
      "=>  In addition we are working closely with our new tenant Peach Healthcare Group on the recertification plans for two of our Georgia facility.\n",
      "=>  We anticipate that these facilities will be recertified by the end of this year and begin paying rent again by early next year.\n",
      "=>  As I mentioned on our last conference call and previous calls we are now beginning to observe the operational strategies of our local and retail operator tenants are taking hold of dividends by noticeable improvements in the overall credit profile of our portfolio.\n",
      "=>  Rent coverage before management fees improved sequentially from 1.3 times in the second quarter to 1.5 times in the third quarter, and rent coverage after management fees improved sequentially from 0.9 times in the second quarter to 1.2 times in the third quarter.\n",
      "=>  Although controlled directly by the operator’s performance, we anticipate continued improvement in rent coverage ratios because of the outstanding operational clinical and financial focus of our tenants combined with both Medicaid and Medicare rent increases.\n",
      "=>  Improved rent coverage's overtime translate into lower cap rates and ultimately significantly improved shareholder value.\n",
      "=>  This was discussed and reviewed significantly during our strategic review process.\n",
      "=>  Second, we are thinking to redeploy the net cash proceeds from the recent sales of our nine Arkansas facility to maximize shareholder value.\n",
      "=>  These would include the potential re-purchase of common and preferred stock, repayment of outstanding, convertible debt and selective acquisitions.\n",
      "=>  We believe buying our own covenant preferred stock at current valuation is one of the best usages of capital currently available to us.\n",
      "=>  The Board has approved a 1 million share common stock buyback program and a 100,000 share preferred stock buyback program.\n",
      "=>  In addition to the share re-purchase programs we are evaluating the refinancing of mortgage debt and the repayment of our 10% convertible supported netted debt due next year.\n",
      "=>  As it relates to potential acquisition we began identifying potential acquisitions for some time, in general we would look for acquisition that have similar economic and structure to the Florida transaction which we considered nearly a year ago.\n",
      "=>  One of the best possible strategies of acquisitions is buying in our leases that we currently have in place with land lords.\n",
      "=>  As you know we currently lease 11 facilities pursuant to long-term leases that are sub leased to third party operators.\n",
      "=>  Of these 11 leases nine are subject to a right of first refusal purchase.\n",
      "=>  During the strategic review it became clear that the valuations -- our interested parties have signed for our lease hold interest were significantly discounted.\n",
      "=>  We believe that would make sense for us to allocate a portion of the net cash proceeds from the Arkansas potentially and acquired some of these facilities.  \n",
      "=>  Finally, we need to continue to reduce our overhead cost.\n",
      "=>  Again as I mentioned on the last call you've seen continued steady reductions in G&A, due to planned headcount reductions and lower other expenses related primarily legal and account.\n",
      "=>  During the third quarter we reduced our overhead from 2.1 million to 1.6 million, a 25% reduction.\n",
      "=>  We believe they is still some additional room in lowering our G&A burden as we continue to wind down our discontinued operations business.\n",
      "=>  Another key initiative is our continued work to resolve if possible the remaining professional liabilities resulting from our discontinued operations.\n",
      "=>  Reasonable settlements are not obtained however the company is prepared to a vigorously defend these outstanding losses.\n",
      "=>  We anticipate that our focused efforts on all of these initiatives will increased shareholder value and allow the board to further consider its strategic alternatives in the future.  \n",
      "=>  In addition to our review of strategic alternatives we've been busy over the last few months.\n",
      "=>  As previously announced we've completed the sale of nine properties to affiliate the Skyline Healthcare, the current operator of the facilities for a total purchase of $55 million.\n",
      "=>  Total purchase price was comprised at $52 million in cash and a $3 million promissory notes.\n",
      "=>  Portion of the proceeds was used to repay a mortgage debt associated with the properties, the net proceeds to add care after the repayment of associated mortgage debt was approximately $23 million.\n",
      "=>  Based on the prior operator’s annual cash rent we sold the properties at an 8.7% lease cap rates, which we believe is very attractive in this marketplace.\n",
      "=>  Also we will book approximately $8 million gain on sale testament to the underlying value of our real estate portfolio.  \n",
      "=>  In addition, Allan will discuss the hybrid financing of our Georgetown facility and the anticipated head closing very shortly on our Stamford facility.  \n",
      "=>  Finally, I wanted to make a few overall comments on the skill nursing industry.\n",
      "=>  We've seen a pronounce shift by the public markets away from the skilled nursing sector as both operators and large healthcare REITs have moved in that direction.\n",
      "=>  Many national large operator are having operating difficulties due in part to put integration of acquisitions or facing Medicare, Medicaid reimbursement pressures.\n",
      "=>  Similarly many large healthcare REITs are finding that lease structure years ago are simply unsustainable from rent coverage perspectives.\n",
      "=>  We are seeing operator and large healthcare reach setting operations in properties respectively or spinning off such assets like Ventos and HCP.  \n",
      "=>  The valuation have weakened slightly over the last several months, which undoubtedly impact our review of strategic alternative.\n",
      "=>  We believe however this is more of a temporary problem as a fundamental to the industry remained intact particularly for our regional and local operators.\n",
      "=>  We believe this is evidenced by the improved performance of our tenant operators as we previously discussed.\n",
      "=>  With that I'll now turn the call over Allan Rimland, our President and CFO.\n",
      "=>  Allan Rimland Thank you, Bill and good afternoon everyone.\n",
      "=>  Before reviewing our financial results, I wanted to review some of the operating metrics of our portfolio for the quarter.\n",
      "=>  As Bill mentioned for the three months ending September 30, our portfolio occupancy rate was approximately 82.6%.\n",
      "=>  The skilled mix was 12.1% and our rent coverage before and after management fee was 1.5 times and 1.2 times respectively.\n",
      "=>  These metrics exclude the nine Arkansas facilities which are under contract for sale at 930 and three Georgia facilities, previously operated by affiliates of New Beginnings Care and now operated by Peach Health Group.\n",
      "=>  As a reminder the presentation of our third quarter and year-to-date financial results includes the requalification of our operating results and facilities that were transferred to discontinued operations in the prior year's period.\n",
      "=>  Comparative results are not indicative of our financial performance given our change in business model.\n",
      "=>  Revenues in the third quarter were $7.2 million.\n",
      "=>  We recognized our revenues in accordance with GAAP, which for most leases is on a straight line rent accrual basis.\n",
      "=>  However, rent revenues for nine facilities in Arkansas are recorded on a cash basis due to the pending sale of the facilities to Skyline that was completed after the end of the quarter.\n",
      "=>  And rental revenue was not recognized for two facilities in Georgia due to the pending recertification of these facilities.\n",
      "=>  We began recognizing rental revenue for our Savannah Beach facility in July, when Peach began operating the facility and expect to recognize rental revenue for our Jeffersonville and Oceanside facilities when the facilities are recertified by CMS in the next few months.\n",
      "=>  We expect revenue to decline in the fourth quarter as we no longer will earn rental revenues from our nine Arkansas facilities.\n",
      "=>  Please refer to our 8-K dated October 11, which presents pro forma financial statements in connection with the Skyline sale.\n",
      "=>  General and administrative expenses were $1.6 million for the third quarter of 2016, inclusive of $169,000 in stock-based compensation and approximately $150,000 in non-recurring expenses principally accounting in legal.\n",
      "=>  I would also note that G&A includes approximately $200,000 in expenses related to our facility management services business.\n",
      "=>  G&A declined 25% sequentially and 24% compared to the third quarter of 2015.\n",
      "=>  The decrease in G&A was primarily driven by planned headcount reduction.\n",
      "=>  To give you some additional insights into the drivers we’re taking behind our G&A reductions, our total headcount has been reduced from 21 at the end of 2015 to 13 currently, excluding six professionals dedicated to our facility management business.\n",
      "=>  Our core headcount is expected to be nine professionals for our ongoing business, and we expect to achieve this objective in the next few months.\n",
      "=>  In addition, we continue to expect additional reductions in G&A in the next three months from the lower other related expenses.\n",
      "=>  Depreciation and amortization declined in the third quarter of 2016 to $1.1 million compared to $1.9 million in the year ago quarter, and $1.3 million in the prior quarter.\n",
      "=>  This decrease was due primarily to the Arkansas facilities being classified as assets held sale.\n",
      "=>  Interest expense stayed relatively flat at $1.8 million.\n",
      "=>  Interest expense is respective to decline in the fourth quarter due to the Skyline sale.\n",
      "=>  Our loss from discontinued operations net of tax was $2.2 million for the current quarter as compared to $3.1 million for the prior year period.\n",
      "=>  The loss was primarily due to bad debt expense related to relate to legacy patient accounts receivable.\n",
      "=>  Net loss attributed to AdCare common stockholders for the third quarter of 2016 was $3.6 million compared to $6.3 million for the third quarter of 2015, or a loss of $0.19 and $0.32 per basic and diluted share respectively.\n",
      "=>  Now, for a view of our year to date financial results.\n",
      "=>  Revenues for the first 9 months of 2016 were $21.4 million compared to $12 million in the year ago period.\n",
      "=>  The increase in revenues is driven by an increase in rental revenues, reflecting our transition to a healthcare property holding and leasing company.\n",
      "=>  G&A expenses were $6.3 million for the first nine months of 2016, inclusive of $890,000 in stock-based compensation.\n",
      "=>  G&A declined 22% or $1.7 million compared to the first 9 months of 2015.\n",
      "=>  Interest expense decreased from $6.6 million in the first nine months of 2015 to $5.4 million in the first nine month s of 2016.\n",
      "=>  Net loss attributable to AdCare common stockholders for the first 9 months of 2016 was $14.4 million, compared to $18.5 million for the first 9 months of 2015 or a loss of $0.72 and $0.94 per basic and diluted shares respectfully.\n",
      "=>  Turning to a review of our balance sheet.\n",
      "=>  Cash and cash equivalents at September 30th totaled $1.5 million dollars compared to $2.7 million at December 31st.\n",
      "=>  This cash balance at the end of the third quarter of 2016 does not include approximately $23 million in net proceeds we received just days after the end of the quarter as a result of the sale of our nine properties located in Arkansas.\n",
      "=>  Again please refer to our 8-K filed on October 11th for a pro forma balance sheet.\n",
      "=>  Total debt outstanding at September 30th was $115.5 million compared to $122.8 million at year December 31st, including liabilities of the disposal group held for sale of $32 million and $958,000 and net of $2.3 million and $2.7 million of deferred financing cost respectively.\n",
      "=>  During the quarter we refinanced bank debt on our Georgetown facility with $3.7 million of debt guarantee by HUD.\n",
      "=>  The HUD debt has a 30 year term and an interest of 2.98% exclusive of mortgage insurance premiums.\n",
      "=>  We expect to complete the refinancing of our [Indiscernible] facility with HUD debt in the fourth quarter in the 3.25 interest rate range.\n",
      "=>  These two HUD financing's refinanced bank debt that we were paying 4.71% as of now 930 [ph].\n",
      "=>  On a pro forma basis getting effect to the Skyline sale and depending [Indiscernible], HUD refinancing we will have 3.2 million of mortgage debt and $9.9 million of convertible debt due over the next 12 months.\n",
      "=>  Bill noted earlier that we will ear mark funds to pay off the convertible debts.\n",
      "=>  Also you will see further progress in reducing our operating working capital accounts namely AR, prepays and accounts payable.\n",
      "=>  We expect further reductions in such accounts over the next few months.\n",
      "=>  Our operational progress is again reflected in our financial results, with G&A expensive lower in the quarter, and positive cash flow from operations.\n",
      "=>  Legally there are still addition improvements to be captured as we progress throughout the remainder of the year.  \n",
      "=>  I will now turn the call back over to Bill.\n",
      "=>  Bill McBride Thanks Allan.\n",
      "=>  With the strategic review concluded we have a clear set of initiatives to focus on, which we believe we will continue to increase shareholder value and allow the board to consider strategic alternatives in the future.\n",
      "=>  Many of these initiatives have already been underway and we are making progress towards completion.\n",
      "=>  We look forward to updating you on our progress as it continues and the results as we achieved them.\n",
      "=>  We expect to update the investor presentation slide as presented on the company's website shortly.\n",
      "=>  This will reflect sale of the Arkansas assets and expected redeployment of the proceeds.\n",
      "=>  Our annual meeting is schedules for December 8, 2016 at 10 am, in Duluth, Georgia which is near our new offices in Suwanee, Georgia.\n",
      "=>  I hope to see many of you there.\n",
      "=>  With that I would like to turn the call over to the operator again for questions.\n",
      "=>  Question-and-Answer Session Operator Thank you.\n",
      "=>  [Operator Instructions]\n",
      "=>  Our first question will come from David Rothchild with Raymond James.\n",
      "=>  David Rothchild I am pretty new to your company, I am a retail broker.\n",
      "=>  You guys currently -- is it 38 facilities after selling those Arkansas ones is that correct?\n",
      "=>  Bill McBride Correct.\n",
      "=>  David Rothchild\n",
      "=>  How many different tenants are they leased out to then?\n",
      "=>  How many different companies?\n",
      "=>  Bill McBride\n",
      "=>  There is about six, so strategy that we used in leasing out the properties was, use smaller regionally focused operators to do that.\n",
      "=>  We don’t have any one facility deals because we wanted to put each one in sort of cross-collateralize cross-defaulted package.\n",
      "=>  The smallest operators we have has two properties, that’s our two properties in Oklahoma and the rest are kind of distributed among the remaining operators.\n",
      "=>  David Rothchild\n",
      "=>  Okay\n",
      "=>  and I understand before you guys actually operated some of the facilities now you are going to be strictly into owning and leasing them out to operators is that -- so that’s the trend you trying going then?\n",
      "=>  Bill McBride\n",
      "=>  Yes, it’s not so much\n",
      "=>  a trend is that, the company was an owner and operator of properties some leased some owned and operated all of those properties for many years.\n",
      "=>  And 2014 Board made a determination to get out of basically the operations business, and brought me and Allan ultimately in because of our backgrounds in healthcare REITs and since to complete that process.\n",
      "=>  That process was a lengthy process, it took longer than I think anybody had anticipated.\n",
      "=>  There was issues with license transfer, HUD transfer, approval for HUD et cetera, et cetera.\n",
      "=>  So that process was completed by the end of last year and then that's when the company than began sort of looking at strategic alternative, now that we completed sort of that phase and we were now strictly an owner of all these properties with long-term leases with various operators what made sense on a go forward basis and as I commented on the call as a result to that process we've now have some key initiatives to focus on as that were an owner of the properties in order to continue to increase shareholder value.  \n",
      "=>  David Rothchild I'm assuming that with this cash from the sales of this Arkansas you’re going to look to try to buy other properties and triple that lease amount is that correct understanding?\n",
      "=>  Bill McBride\n",
      "=>  Well, I think the proceeds of this properties, what we want to do is build shareholder value, what we don’t want to do is strictly go out and buy properties.\n",
      "=>  That’s not -- that said, that's not saying on a selective basis that we may not make some acquisitions\n",
      "=>  , we will, we’re already looking at some right now.\n",
      "=>  But I think when you look at that, at the direction of the board, you look at those proceeds and you say where can we build shareholder value and so that's why we believe a combination of things is in the best interest to shareholders at this point in time, that combination being purchases of common and preferred stock, some reinvestments in our existing properties, although not large in dollars, significant in the terms of both the immediate rent we would get from that as well as the improved coverage ratios which drives value for us.\n",
      "=>  And then finally some selective acquisitions, we would not be looking to just go and do a one-off in some state.\n",
      "=>  It would be really to backfill with our existing operators or to take some other relationships that we have and build the package of facilities that again would be cross collateralized and cross defaulted as the group.\n",
      "=>  David Rothchild\n",
      "=>  Okay, thanks for the background.\n",
      "=>  Operator\n",
      "=>  Our next question will come from John Davis with Bravo Reality.  \n",
      "=>  John Davis\n",
      "=>  Hey, guys I've got three questions.\n",
      "=>  First of all when you look at the Arkansas sale just looking through the financial statements based on the amount of rental income that we were be receiving end of sales price it looks like the cap rate was below 9% is that accurate?\n",
      "=>  Bill McBride I believe so yes.\n",
      "=>  That's what we quoted [multiple speakers].\n",
      "=>  John Davis Excellent [multiple speakers].\n",
      "=>  Bill McBride When you look at the performance of those facilities, at the time, that was a very attractive cap rate to get on those particular properties.\n",
      "=>  I don’t or we don’t like Arkansas in general as a long-term state for a variety of reasons.\n",
      "=>  That's where almost all of our professional liability lawsuits have come out of, when we were operating those facilities.\n",
      "=>  We don’t like the values there and the --.\n",
      "=>  So that cap rates for those particular assets, particularly given the way they were performing was a very attractive cap rate and we were not very leveraged there as you can see, there is really only about $30 million worth of debt on the $55 million of the properties, not very levered.\n",
      "=>  And the reason it wasn’t very levered was because the operating performance wouldn’t allow a higher leverage.\n",
      "=>  So we think redeploying that net cash proceeds from Arkansas in the variety of ways that I laid out would actually give us a better return on that capital than we were getting those Arkansas properties.\n",
      "=>  John Davis\n",
      "=>  No, I couldn’t agree more and congratulate you guys on executing that transaction.\n",
      "=>  Anytime you can sell a sniff for a sub 9% cap rates it’s a cause for celebration, so congratulations.\n",
      "=>  Question number two, I’ve noticed in the past that your financials, you have noted when you had covenant violations on some of your loans, do you have any -- but I noticed it seems like with the sale of Arkansas deal some of those were eliminated.\n",
      "=>  Do you have any loans or do you have any covenant violations currently?\n",
      "=>  Bill McBride I'll let Clinton report on those because he’s really happy to make an announcement on that.\n",
      "=>  But I can tell you what, when I came in at the end of the '14, other than head debt every single particular piece of bank debt had multiple covenant violation and Clinton, where are we today?\n",
      "=>  Allan Rimland Sure Clinton is walking over and he’s smiling, so we appreciate the question.\n",
      "=>  This is Allan, a part of upcoming here and thinking about the overall businesses top building the balance sheet.\n",
      "=>  Clinton has been here five years and he tells me that this is the first quarter that there has been no covenant violations.\n",
      "=>  And I think that’s in part to -- due to one, size in the loans and restructuring the loans, so they make sense for both AdCare as well as the lenders.\n",
      "=>  And performance of the facilities which has improved as Bill talked about over the portfolio.\n",
      "=>  In addition to the first time in four years with no covenant compliance we’ve also taken -- I think taking the right approach in terms of reducing the rollover risk of mortgage debt over the next 12 to 18 months as well, whether that’s the refinance with HUD debt or refinancing with conventional debt and trying to lower the average cost of our mortgage portfolio as well.\n",
      "=>  John Davis Along those lines it appears that the most expensive debt you have maybe bond deal, are those bonds callable can you refinance those or how does that work?\n",
      "=>  Allan Rimland We look at all of our mortgage debt structure, at this point we have 15 owned facilities, so we are evaluating every piece of mortgage debt in our portfolio for refinancing opportunities, those to extract cash out of the property, essentially we’ve called the cash out refinancing, extend maturities or lower interest rates.\n",
      "=>  So the instrument that you mentioned on the [indiscernible] is something that we are considering as well additional pieces of debt in our capital structure.\n",
      "=>  It would be mindful that as performance in our underlying portfolio improves it’s that your refinance debt get to little easier and easier, but we would expect some refinancing in 2017.\n",
      "=>  John Davis Thank you and the final question, are you in compliance with the NYSE compliance plan that was approved earlier this year?\n",
      "=>  Allan Rimland\n",
      "=>  The plan that was approved early this year gave us till October of 2017 and that is a plan that we are working on it.\n",
      "=>  It's been approved by the New York Stock Exchange and will be -- I guess interacting with shareholders the next couple of months in terms of how that plan would work.\n",
      "=>  So as of today no, but there is a plan in place, it's been accepted that we will be in compliance.\n",
      "=>  John Davis Fantastic, thank you so much.\n",
      "=>  Bill McBride Let me make one other comment on that.\n",
      "=>  Allan mentioned the underlying performance improvements in the property, that’s really -- that is driving a number of things.\n",
      "=>  One, Allan briefly mentioned the refinancing and our ability to refinance for example both higher bond, I believe you’re probably refereeing maybe to the Eaglewood out funds that we have in one of our Properties in Ohio.\n",
      "=>  We’re looking at that all the time and working with the operator to try to get the coverage's in the place where we can do a refinancing that would make sense.\n",
      "=>  And as soon as we can do that we will absolutely be on that, we look at that every month.\n",
      "=>  But as far as coverage ratios, when you listen to all the other healthcare REITs announce their quarterly earnings, they talk quite a bit about coverage ratios and they talk about rural and urban facilities and kind of what's going on in the whole Medicare reimbursement structure that's changing a little bit.\n",
      "=>  We’re really pleased we've been talking about this that we believe this regional operators were the right ones to operate these facilities we knew it would take a little bit of time as they got into these facilities and come up with their operating strategy, sometimes changing out these administrator, sometimes changing the name of the building, the director of nursing, reestablishing relationships with hospitals et cetera, et cetera.\n",
      "=>  That it would take some time.\n",
      "=>  But we did expect that we would start to see these coverage ratios improve, and we have.\n",
      "=>  And we expect with particularly with the Medicare rate increase that’s coming in October 1, further improvement as we go forward.\n",
      "=>  Why does that matter so much for AdCare?\n",
      "=>  Well it matters because when somebody looks at our portfolio of assets and tries to put a value on one of the first things they look for is coverage ratios and as you mentioned about selling Arkansas at a sub 9 cap rates being great, they really -- what drives those cap rates is coverage ratios.\n",
      "=>  So to the extent we can get our facilities more in line and they’re getting a lot closer and very quickly with what you sees, the healthcare REITs underwriting their deals at, you will see cap rates go down and for us, as of the leverage a 0.5 change in cap rates.\n",
      "=>  So in other words if you went from 8.5 to 9 or 9.5 to 9 or whatever a 0.5 change in cap rate is about $0.50 per share at AdCare in this common stock valuation.\n",
      "=>  So it's significant to us because of the leverage and it's critical for us to be able to build shareholder value to help assist those operators get those cap rates up.\n",
      "=>  Operator\n",
      "=>  Our next question will come from Chris Doucet from Doucet Asset Management.\n",
      "=>  Chris Doucet  Bill you just answered one of my questions, a good answer on the rent coverage.\n",
      "=>  I just kind of wanted to continue with that theme and you mentioned Medicare increases\n",
      "=>  October 1st was that just one state or is that Ohio or what states expect to have Medicaid increases in 2017?\n",
      "=>  Bill McBride So for Medicaid our Ohio properties got a nice rate increase on July 1.\n",
      "=>  The Medicare the federal program increased, its national increase.\n",
      "=>  So that would impact all of our facilities on October 1.\n",
      "=>  Georgia which is our next largest state or largest state depending on how you calculate it, if you do it by revenue or by beds, but Georgia\n",
      "=>  they did a rate increase on July 1, but it's been delayed as far as cash payment to the facilities until January 1 whether expect a lump-sum.\n",
      "=>  So I think you are going to see the Georgia facility ramp up, if not in the fourth quarter they’ll ramp up some in the fourth quarter as a result of the Medicare rate increase, but they'll jump up even more on January 1 when the Georgia state Medicaid rate increase passes through.\n",
      "=>  We are working diligently and hope to have in place by early by the first quarter, an implementation of a program on our two part performing facility which are two Oklahoma facilities, to put them in the upper [indiscernible] program limit which will allow them a significantly higher increased rate.\n",
      "=>  They’re basically going to joint venture with a local hospital there.\n",
      "=>  I’ve been working with the operator there quite extensively in order to get -- assist them.\n",
      "=>  We have to agree to allow them to do it because it’s actually a license change, it will be a joint license with a nursing home operator and the local hospital in order to significantly up both their Medicaid and Medicare rate.\n",
      "=>  That’s a type of thing that we need to do to help them, when you -- they are our partners and when they do well on these building, we do good.\n",
      "=>  So in a lot of cases it doesn’t take a lot of money necessarily to make a significant difference in their ability to market those facilities to private pay or the Medicare pensions.\n",
      "=>  Chris Doucet Have you Allan done any kind of analysis or a spreadsheet to show that if occupancy were the same and that sort of thing, what kind of leased coverage you would have assuming everything stayed the same with these Medicare and Medicaid increases?\n",
      "=>  Bill McBride\n",
      "=>  We haven’t only because you don’t really know -- they’re obviously going to spend a little bit of that in terms of giving some wage rate increases to some of the employees.\n",
      "=>  So we don’t know until they -- we ultimately see the monthly financials as to what sort of pass-through, you’re ultimately going to get to the bottom line.\n",
      "=>  Typically it's not dollar for dollar, everybody in the industry knows those rate increases are coming including the workers.\n",
      "=>  So you tend to give a little bit of it out, but we saw significant increases in our Ohio properties as a result of their last Medicaid rate increase that they got on July 1.\n",
      "=>  Chris Doucet\n",
      "=>  Just two more question and I'll step back in queue.\n",
      "=>  But what type of cap rates are you seeing in your pipeline of potential properties to purchase?\n",
      "=>  Bill McBride We are looking -- the lease rates that you see out there.\n",
      "=>  I am coming to least rate rather than cap rates first, but least rates we see in the 9% to 10% range is what you see most of that and I am talking about cash rents.\n",
      "=>  That you will be seeing it’s a been about our 0.5 escalation in the interest rate that you are getting on leases as a result of a lot of the healthcare REITs really -- particularly as I mentioned in these urban markets where they’re looking at doing -- Medicare is looking at doing some bundling of services.\n",
      "=>  So a lot of these operators that are selling their facilities or have been operating their facilities in these urban markets.\n",
      "=>  There are some significant concerns about where those rates ultimately go under the bundling.\n",
      "=>  EMS is looking to make changes there, they’ve got proposed changes that require nursing homes to have certain ratings in order to get certain reimbursement.\n",
      "=>  Our facilities luckily are almost exclusively with the exception of those two Oklahoma properties, more suburban marketplaces and won’t really be impacted by that.\n",
      "=>  So Allan do you want to comment a little bit about cap rate?\n",
      "=>  Allan Rimland I think that pairs of the 9% to 10% least cap rate I just do want to emphasize Chris that that is an initial cash rent.\n",
      "=>  One of the hallmarks that we like to look at facility is profit improvement potential and that’s why we think we can above or above market escalators.\n",
      "=>  So when you look at on a straight line benches, you’re probably I think 50 basis points shall we say the straight line rent cap rate.\n",
      "=>  Chris Doucet\n",
      "=>  Okay, and last question, I'll step back in the queue.\n",
      "=>  Bill you guys didn’t update us on the how many PL, GL suites you have outstanding.\n",
      "=>  I know you probably will do that in the queue.\n",
      "=>  Can you talk a little bit about that?\n",
      "=>  Bill McBride\n",
      "=>  Yes, I mean that’s something we’re still got a little bit of work ahead of us on we have I think its 31 or 32 now, PL law suits against the company.\n",
      "=>  Primarily as I mentioned earlier in Arkansas.\n",
      "=>  We’re working aggressively to defend them, obviously it would be nice to be able to settle them, but only if it makes sense for the company if not we’ll do what we need to do.\n",
      "=>  We think we’ve got adequate defenses against those, but we’re going to try to resolve them if possible.\n",
      "=>  Chris Doucet\n",
      "=>  Okay, thanks I'll step back in queue.  \n",
      "=>  Operator [Operator Instructions]\n",
      "=>  Our next question will from Steven Silver, a Private Investor.\n",
      "=>  Steven Silver\n",
      "=>  The share buyback preclude you an Allan from buying shares and if not do you and Alan and other senior management plans to purchase shares yourselves?\n",
      "=>  Bill McBride\n",
      "=>  So the short answer to that is, yes, we plan on it and no it doesn’t preclude it.\n",
      "=>  Although we can't do it at the same time.\n",
      "=>  Allan Rimland Steve its Allan, I will concur with Bill’s perspective on it.\n",
      "=>  Steven Silver\n",
      "=>  And do you guys plan to be aggressively going in the marketplace and buying back stock immediately?\n",
      "=>  I mean are we going to see some bids very soon?\n",
      "=>  Bill McBride\n",
      "=>  Yes, I really don’t -- our plan is, yes in general to buy.\n",
      "=>  I don’t want to really comment just on that.\n",
      "=>  I would rather do our filings after.  \n",
      "=>  Steven Silver\n",
      "=>  Okay, thanks.\n",
      "=>  Operator\n",
      "=>  This does conclude our question-and-answer session for today.\n",
      "=>  And at this time I would like to turn the conference back over to management for additional or closing remarks.\n",
      "=>  Bill McBride\n",
      "=>  Well, thank you everyone for joining --.\n",
      "=>  Allan Rimland I think there is another call.\n",
      "=>  Bill McBride\n",
      "=>  Yes, okay another question.\n",
      "=>  Go ahead.  \n",
      "=>  Operator It looks like we did have a follow question from Chris Doucet from Doucet Asset management.\n",
      "=>  Chris Doucet  \n",
      "=>  Yes, just two quick follow up.\n",
      "=>  Allan you mentioned that those $8.7 million gain on the Arkansas properties I assume the NOL is going to offset that?\n",
      "=>  Allan Rimland\n",
      "=>  Yes, it over an $8 million gain, we are doing our final accounting.\n",
      "=>  But yes that would be essentially used against the NOL.\n",
      "=>  So there is no cash tax on that.  \n",
      "=>  Chris Doucet\n",
      "=>  Okay, and Bill you mentioned a recertification I believe of 3 Georgia projects and Peach Tree is going to take over those properties after they’re recertified.\n",
      "=>  Is that -- do they start operating January 1st or April the 1st or do you have date set for continued operation on those properties yet?\n",
      "=>  Bill McBride\n",
      "=>  Yes, thanks for that question.\n",
      "=>  Chris actually I'm very happy where the progress that the Peach has had on those facilities.\n",
      "=>  The state -- the fire marshal was in last week in the Jefferson, -- first off they took over three facilities.\n",
      "=>  Through were the three former New Beginning's facilities, when New Beginning filed bankruptcy.\n",
      "=>  We immediately brought Peach in, two of those during the New Beginning bankruptcy, they had gotten decertified, one was still certified, Savannah Beach.\n",
      "=>  They took over that facility right away and have done a good job on Savannah Beach.\n",
      "=>  The other two and the reason we selected Peach besides that they are a good operators, is Peach has had experience in Georgia recertifying fine facilities very successfully.\n",
      "=>  So that's why they were selected.\n",
      "=>  The second facility was Jeffersonville, Jeffersonville the improvements in the assets have been made, fire marshal was in last week.\n",
      "=>  We expect to have to follow up just weak on their one thing, it’s a minor thing that they came up with, they always have to find something.\n",
      "=>  And the certification would begin before thanksgiving.\n",
      "=>  We’ll be recertified and start putting -- bringing in our -- you’ve to bring in four residents and then they do a follow up survey.\n",
      "=>  We have a waiting list on that building of over 80 residents waiting to get back in that building.\n",
      "=>  So we expect that fill up would occur very quickly over the months of December and January into the February.\n",
      "=>  It will start paying rents early next year, we have a graduated rent structure and expect them to be on full rent by the middle of the year.\n",
      "=>  The third building is Ocean side.\n",
      "=>  Ocean side, the good news is -- well the bad news, it got a little bit delayed a couple of week because of the hurricane.\n",
      "=>  The good news is we got a new roof and a bunch of others stuff done on the building that we were going to otherwise have to do as part of property insurance coverage.\n",
      "=>  But we still with that building expect that will be certified by the first of the year and start admitting residents, and there is a long waiting list for people that want to get back out, untie the island, fill that facility rapidly as well.\n",
      "=>  The total amount of rent for those buildings -- with those two building will be about $1.4 million a year which we’re not receiving now, but once they’re online in total we’ll be getting that revenue by the middle of next year.\n",
      "=>  So that would have meant a recertification in about six to seven months which is extremely fast in the industry.\n",
      "=>  So I am very pleased with the results that we’ve got with our partner on Peach Healthcare on those two facilities in Georgia.\n",
      "=>  Brett Maas\n",
      "=>  There are no any calls in the queue.\n",
      "=>  Bill McBride\n",
      "=>  Okay everybody, thanks for being involved in the call.\n",
      "=>  Look forward to updating the slide presentation, the investor slide presentation we’ll have that out there and then of course the annual meeting in early December.\n",
      "=>  Allan Rimland Thank you very much.\n",
      "=>  Operator That does conclude our conference for today.\n",
      "=>  Thank you for your participation.\n",
      "=>  Copyright policy:  \n",
      "=>  All transcripts on this site are the copyright of Seeking Alpha.\n",
      "=>  However, we view them as an important resource for bloggers and journalists, and are excited to contribute to the democratization of financial information on the Internet.\n",
      "=>  (Until now investors have had to pay thousands of dollars in subscription fees for transcripts.)\n",
      "=>  So our reproduction policy is as follows:  You may quote up to 400 words of any transcript on the condition that you attribute the transcript to Seeking Alpha and either link to the original transcript or to www.SeekingAlpha.com. All other use is prohibited.\n",
      "=>  THE INFORMATION CONTAINED\n",
      "=>  HERE IS A TEXTUAL REPRESENTATION OF THE APPLICABLE COMPANY'S CONFERENCE CALL, CONFERENCE PRESENTATION OR OTHER AUDIO PRESENTATION, AND WHILE EFFORTS ARE MADE TO PROVIDE AN ACCURATE TRANSCRIPTION, THERE MAY BE MATERIAL ERRORS, OMISSIONS, OR INACCURACIES IN THE REPORTING OF THE SUBSTANCE OF THE AUDIO PRESENTATIONS.\n",
      "=>  IN NO WAY DOES SEEKING ALPHA ASSUME ANY RESPONSIBILITY FOR ANY INVESTMENT OR OTHER DECISIONS MADE BASED UPON\n",
      "=>  THE INFORMATION PROVIDED\n",
      "=>  ON THIS WEB SITE OR IN ANY TRANSCRIPT.\n",
      "=>  USERS ARE ADVISED TO REVIEW\n",
      "=>  THE APPLICABLE COMPANY'S AUDIO PRESENTATION ITSELF AND THE APPLICABLE COMPANY'S SEC FILINGS BEFORE MAKING ANY INVESTMENT OR OTHER DECISIONS.\n",
      "=>  If you have any additional questions about our online transcripts, please contact us at:  transcripts@seekingalpha.com .\n",
      "=>  Thank you!\n"
     ]
    }
   ],
   "source": [
    "for sent in doc.sents:\n",
    "    print('=> ', sent)"
   ]
  },
  {
   "cell_type": "code",
   "execution_count": 9,
   "metadata": {
    "collapsed": false
   },
   "outputs": [
    {
     "name": "stdout",
     "output_type": "stream",
     "text": [
      "AdCare\n"
     ]
    }
   ],
   "source": [
    "token = doc[0]\n",
    "print(token)"
   ]
  },
  {
   "cell_type": "code",
   "execution_count": 21,
   "metadata": {
    "collapsed": false
   },
   "outputs": [
    {
     "name": "stdout",
     "output_type": "stream",
     "text": [
      "Today - NOUN\n",
      "’s - PROPN\n",
      "conference - NOUN\n",
      "is - VERB\n",
      "being - VERB\n",
      "recorded - VERB\n",
      ". - PUNCT\n"
     ]
    }
   ],
   "source": [
    "i = 0\n",
    "for sent in doc.sents:\n",
    "    if i == 3:\n",
    "        for token in sent:\n",
    "            print('{} - {}'.format(token, token.pos_))\n",
    "        break\n",
    "    i+=1"
   ]
  },
  {
   "cell_type": "code",
   "execution_count": 33,
   "metadata": {
    "collapsed": false
   },
   "outputs": [
    {
     "name": "stdout",
     "output_type": "stream",
     "text": [
      "Today --> [Today, recorded]\n",
      "Today - nsubjpass -> recorded - ROOT\n",
      "token probability:  -11.045459747314453\n",
      "==================\n",
      "’s --> [’s, conference, conference, recorded]\n",
      "’s - compound -> conference - nsubjpass -> conference - nsubjpass -> recorded - ROOT\n",
      "token probability:  -17.959850311279297\n",
      "==================\n",
      "conference --> [conference, recorded]\n",
      "conference - nsubjpass -> recorded - ROOT\n",
      "token probability:  -11.2960786819458\n",
      "==================\n",
      "is --> [is, recorded]\n",
      "is - aux -> recorded - ROOT\n",
      "token probability:  -4.457748889923096\n",
      "==================\n",
      "being --> [being, recorded]\n",
      "being - auxpass -> recorded - ROOT\n",
      "token probability:  -6.845808029174805\n",
      "==================\n",
      "recorded --> []\n",
      "\n",
      "token probability:  -11.22569751739502\n",
      "==================\n",
      ". --> [., recorded]\n",
      ". - punct -> recorded - ROOT\n",
      "token probability:  -3.0678977966308594\n",
      "==================\n"
     ]
    }
   ],
   "source": [
    "# Write a function that walks up the syntactic tree of the given token and collects all tokens to the root token (including root token).\n",
    "\n",
    "def tokens_to_root(token):\n",
    "    \"\"\"\n",
    "    Walk up the syntactic tree, collecting tokens to the root of the given `token`.\n",
    "    :param token: Spacy token\n",
    "    :return: list of Spacy tokens\n",
    "    \"\"\"\n",
    "    tokens_to_r = []\n",
    "    while token.head is not token:\n",
    "        tokens_to_r.append(token)\n",
    "        token = token.head\n",
    "        tokens_to_r.append(token)\n",
    "\n",
    "    return tokens_to_r\n",
    "\n",
    "# For every token in document, print it's tokens to the root\n",
    "# Print dependency labels of the tokens\n",
    "i = 0\n",
    "for sent in doc.sents:\n",
    "    if i == 3:\n",
    "        for token in sent:\n",
    "            print('{} --> {}'.format(token, tokens_to_root(token)))\n",
    "            print(' -> '.join(['{} - {}'.format(dependent_token, dependent_token.dep_) for dependent_token in tokens_to_root(token)]))\n",
    "            print('token probability: ', token.prob)\n",
    "            print('==================')\n",
    "        break\n",
    "    i+=1"
   ]
  },
  {
   "cell_type": "code",
   "execution_count": 35,
   "metadata": {
    "collapsed": true
   },
   "outputs": [],
   "source": [
    "import pandas as pd"
   ]
  },
  {
   "cell_type": "code",
   "execution_count": 37,
   "metadata": {
    "collapsed": true
   },
   "outputs": [],
   "source": [
    "henry_words = pd.read_excel('henry_wordlist.xlsx')"
   ]
  },
  {
   "cell_type": "code",
   "execution_count": 49,
   "metadata": {
    "collapsed": false
   },
   "outputs": [
    {
     "data": {
      "text/html": [
       "<div>\n",
       "<table border=\"1\" class=\"dataframe\">\n",
       "  <thead>\n",
       "    <tr style=\"text-align: right;\">\n",
       "      <th></th>\n",
       "      <th>Word</th>\n",
       "      <th>Positive tone</th>\n",
       "      <th>Negative tone</th>\n",
       "    </tr>\n",
       "  </thead>\n",
       "  <tbody>\n",
       "    <tr>\n",
       "      <th>0</th>\n",
       "      <td>Below</td>\n",
       "      <td>NaN</td>\n",
       "      <td>1.0</td>\n",
       "    </tr>\n",
       "    <tr>\n",
       "      <th>1</th>\n",
       "      <td>Challenge</td>\n",
       "      <td>NaN</td>\n",
       "      <td>1.0</td>\n",
       "    </tr>\n",
       "    <tr>\n",
       "      <th>2</th>\n",
       "      <td>Challenged</td>\n",
       "      <td>NaN</td>\n",
       "      <td>1.0</td>\n",
       "    </tr>\n",
       "    <tr>\n",
       "      <th>3</th>\n",
       "      <td>Challenges</td>\n",
       "      <td>NaN</td>\n",
       "      <td>1.0</td>\n",
       "    </tr>\n",
       "    <tr>\n",
       "      <th>4</th>\n",
       "      <td>Challenging</td>\n",
       "      <td>NaN</td>\n",
       "      <td>1.0</td>\n",
       "    </tr>\n",
       "  </tbody>\n",
       "</table>\n",
       "</div>"
      ],
      "text/plain": [
       "          Word  Positive tone  Negative tone\n",
       "0        Below            NaN            1.0\n",
       "1    Challenge            NaN            1.0\n",
       "2   Challenged            NaN            1.0\n",
       "3   Challenges            NaN            1.0\n",
       "4  Challenging            NaN            1.0"
      ]
     },
     "execution_count": 49,
     "metadata": {},
     "output_type": "execute_result"
    }
   ],
   "source": [
    "henry_words.head()"
   ]
  },
  {
   "cell_type": "code",
   "execution_count": 50,
   "metadata": {
    "collapsed": false
   },
   "outputs": [
    {
     "data": {
      "text/plain": [
       "<pymongo.results.InsertManyResult at 0x20079cc9f30>"
      ]
     },
     "execution_count": 50,
     "metadata": {},
     "output_type": "execute_result"
    }
   ],
   "source": [
    "db.henry_words.insert_many(henry_words.to_dict('records'))"
   ]
  },
  {
   "cell_type": "code",
   "execution_count": 57,
   "metadata": {
    "collapsed": false
   },
   "outputs": [],
   "source": [
    "henry_words_db = pd.DataFrame(list(db.henry_words.find()))"
   ]
  },
  {
   "cell_type": "code",
   "execution_count": 60,
   "metadata": {
    "collapsed": false
   },
   "outputs": [
    {
     "data": {
      "text/html": [
       "<div>\n",
       "<table border=\"1\" class=\"dataframe\">\n",
       "  <thead>\n",
       "    <tr style=\"text-align: right;\">\n",
       "      <th></th>\n",
       "      <th>Negative tone</th>\n",
       "      <th>Positive tone</th>\n",
       "      <th>Word</th>\n",
       "      <th>_id</th>\n",
       "    </tr>\n",
       "  </thead>\n",
       "  <tbody>\n",
       "    <tr>\n",
       "      <th>0</th>\n",
       "      <td>1.0</td>\n",
       "      <td>NaN</td>\n",
       "      <td>Below</td>\n",
       "      <td>58aaef9d3740f52d8cddccce</td>\n",
       "    </tr>\n",
       "    <tr>\n",
       "      <th>1</th>\n",
       "      <td>1.0</td>\n",
       "      <td>NaN</td>\n",
       "      <td>Challenge</td>\n",
       "      <td>58aaef9d3740f52d8cddcccf</td>\n",
       "    </tr>\n",
       "    <tr>\n",
       "      <th>2</th>\n",
       "      <td>1.0</td>\n",
       "      <td>NaN</td>\n",
       "      <td>Challenged</td>\n",
       "      <td>58aaef9d3740f52d8cddccd0</td>\n",
       "    </tr>\n",
       "    <tr>\n",
       "      <th>3</th>\n",
       "      <td>1.0</td>\n",
       "      <td>NaN</td>\n",
       "      <td>Challenges</td>\n",
       "      <td>58aaef9d3740f52d8cddccd1</td>\n",
       "    </tr>\n",
       "    <tr>\n",
       "      <th>4</th>\n",
       "      <td>1.0</td>\n",
       "      <td>NaN</td>\n",
       "      <td>Challenging</td>\n",
       "      <td>58aaef9d3740f52d8cddccd2</td>\n",
       "    </tr>\n",
       "  </tbody>\n",
       "</table>\n",
       "</div>"
      ],
      "text/plain": [
       "   Negative tone  Positive tone         Word                       _id\n",
       "0            1.0            NaN        Below  58aaef9d3740f52d8cddccce\n",
       "1            1.0            NaN    Challenge  58aaef9d3740f52d8cddcccf\n",
       "2            1.0            NaN   Challenged  58aaef9d3740f52d8cddccd0\n",
       "3            1.0            NaN   Challenges  58aaef9d3740f52d8cddccd1\n",
       "4            1.0            NaN  Challenging  58aaef9d3740f52d8cddccd2"
      ]
     },
     "execution_count": 60,
     "metadata": {},
     "output_type": "execute_result"
    }
   ],
   "source": [
    "henry_words_db.head()"
   ]
  },
  {
   "cell_type": "code",
   "execution_count": 79,
   "metadata": {
    "collapsed": false
   },
   "outputs": [],
   "source": [
    "henry_words_db['Lower word'] = henry_words_db.apply(lambda x: x['Word'].lower(), axis=1)"
   ]
  },
  {
   "cell_type": "code",
   "execution_count": 81,
   "metadata": {
    "collapsed": false
   },
   "outputs": [
    {
     "data": {
      "text/html": [
       "<div>\n",
       "<table border=\"1\" class=\"dataframe\">\n",
       "  <thead>\n",
       "    <tr style=\"text-align: right;\">\n",
       "      <th></th>\n",
       "      <th>Negative tone</th>\n",
       "      <th>Positive tone</th>\n",
       "      <th>Word</th>\n",
       "      <th>_id</th>\n",
       "      <th>Lower word</th>\n",
       "    </tr>\n",
       "  </thead>\n",
       "  <tbody>\n",
       "    <tr>\n",
       "      <th>0</th>\n",
       "      <td>1.0</td>\n",
       "      <td>NaN</td>\n",
       "      <td>Below</td>\n",
       "      <td>58aaef9d3740f52d8cddccce</td>\n",
       "      <td>below</td>\n",
       "    </tr>\n",
       "    <tr>\n",
       "      <th>1</th>\n",
       "      <td>1.0</td>\n",
       "      <td>NaN</td>\n",
       "      <td>Challenge</td>\n",
       "      <td>58aaef9d3740f52d8cddcccf</td>\n",
       "      <td>challenge</td>\n",
       "    </tr>\n",
       "    <tr>\n",
       "      <th>2</th>\n",
       "      <td>1.0</td>\n",
       "      <td>NaN</td>\n",
       "      <td>Challenged</td>\n",
       "      <td>58aaef9d3740f52d8cddccd0</td>\n",
       "      <td>challenged</td>\n",
       "    </tr>\n",
       "    <tr>\n",
       "      <th>3</th>\n",
       "      <td>1.0</td>\n",
       "      <td>NaN</td>\n",
       "      <td>Challenges</td>\n",
       "      <td>58aaef9d3740f52d8cddccd1</td>\n",
       "      <td>challenges</td>\n",
       "    </tr>\n",
       "    <tr>\n",
       "      <th>4</th>\n",
       "      <td>1.0</td>\n",
       "      <td>NaN</td>\n",
       "      <td>Challenging</td>\n",
       "      <td>58aaef9d3740f52d8cddccd2</td>\n",
       "      <td>challenging</td>\n",
       "    </tr>\n",
       "  </tbody>\n",
       "</table>\n",
       "</div>"
      ],
      "text/plain": [
       "   Negative tone  Positive tone         Word                       _id  \\\n",
       "0            1.0            NaN        Below  58aaef9d3740f52d8cddccce   \n",
       "1            1.0            NaN    Challenge  58aaef9d3740f52d8cddcccf   \n",
       "2            1.0            NaN   Challenged  58aaef9d3740f52d8cddccd0   \n",
       "3            1.0            NaN   Challenges  58aaef9d3740f52d8cddccd1   \n",
       "4            1.0            NaN  Challenging  58aaef9d3740f52d8cddccd2   \n",
       "\n",
       "    Lower word  \n",
       "0        below  \n",
       "1    challenge  \n",
       "2   challenged  \n",
       "3   challenges  \n",
       "4  challenging  "
      ]
     },
     "execution_count": 81,
     "metadata": {},
     "output_type": "execute_result"
    }
   ],
   "source": [
    "henry_words_db.head()"
   ]
  },
  {
   "cell_type": "code",
   "execution_count": 88,
   "metadata": {
    "collapsed": false
   },
   "outputs": [
    {
     "data": {
      "text/plain": [
       "True"
      ]
     },
     "execution_count": 88,
     "metadata": {},
     "output_type": "execute_result"
    }
   ],
   "source": [
    "((henry_words_db['Lower word'] == 'below') & (henry_words_db['Negative tone'] == 1.0)).any()"
   ]
  },
  {
   "cell_type": "code",
   "execution_count": 90,
   "metadata": {
    "collapsed": false
   },
   "outputs": [
    {
     "data": {
      "text/plain": [
       "False"
      ]
     },
     "execution_count": 90,
     "metadata": {},
     "output_type": "execute_result"
    }
   ],
   "source": [
    "((henry_words_db['Lower word'] == 'below') & (henry_words_db['Positive tone'] == 1.0)).any()"
   ]
  },
  {
   "cell_type": "code",
   "execution_count": 98,
   "metadata": {
    "collapsed": false
   },
   "outputs": [],
   "source": [
    "def get_words(transcript):\n",
    "    doc = nlp(transcript['rawText'])\n",
    "    return [str(word).lower() for word in doc]\n",
    "\n",
    "def get_words_q_and_a(transcript):\n",
    "    doc = nlp(transcript['qAndAText'])\n",
    "    return [str(word).lower() for word in doc]\n",
    "\n",
    "def process_words(words):\n",
    "    pos_count, neg_count = 0, 0\n",
    "    for word in words:\n",
    "        if ((henry_words_db['Lower word'] == word) & (henry_words_db['Negative tone'] == 1.0)).any():\n",
    "            neg_count += 1\n",
    "        elif ((henry_words_db['Lower word'] == word) & (henry_words_db['Positive tone'] == 1.0)).any():\n",
    "            pos_count += 1\n",
    "    return {'positiveCount' : pos_count, 'negativeCount' : neg_count}\n",
    "\n",
    "for transcript in collection.find():\n",
    "    words = get_words(transcript)\n",
    "    q_and_a_words = get_words_q_and_a(transcript)\n",
    "    \n",
    "    h_tone = process_words(words)\n",
    "    q_and_a_h_tone = process_words(q_and_a_words)\n",
    "    collection.update_one({'_id': transcript['_id']}, {'$set': {'h_tone': h_tone, 'q_and_a_h_tone' : q_and_a_h_tone}})"
   ]
  },
  {
   "cell_type": "code",
   "execution_count": null,
   "metadata": {
    "collapsed": true
   },
   "outputs": [],
   "source": []
  }
 ],
 "metadata": {
  "kernelspec": {
   "display_name": "Python 3",
   "language": "python",
   "name": "python3"
  },
  "language_info": {
   "codemirror_mode": {
    "name": "ipython",
    "version": 3
   },
   "file_extension": ".py",
   "mimetype": "text/x-python",
   "name": "python",
   "nbconvert_exporter": "python",
   "pygments_lexer": "ipython3",
   "version": "3.6.0"
  }
 },
 "nbformat": 4,
 "nbformat_minor": 2
}
