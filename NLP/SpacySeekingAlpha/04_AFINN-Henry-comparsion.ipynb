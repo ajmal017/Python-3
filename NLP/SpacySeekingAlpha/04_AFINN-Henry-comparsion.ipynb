{
 "cells": [
  {
   "cell_type": "code",
   "execution_count": 1,
   "metadata": {},
   "outputs": [],
   "source": [
    "import pandas as pd\n",
    "import numpy as np\n",
    "import matplotlib.pyplot as plt\n",
    "import seaborn as sns\n",
    "%matplotlib inline"
   ]
  },
  {
   "cell_type": "code",
   "execution_count": 2,
   "metadata": {},
   "outputs": [],
   "source": [
    "from pymongo import MongoClient\n",
    "from spacy.en import English"
   ]
  },
  {
   "cell_type": "code",
   "execution_count": 3,
   "metadata": {},
   "outputs": [],
   "source": [
    "client = MongoClient('localhost', 27017)\n",
    "db = client.python_import\n",
    "collection = db.earnings_transcript"
   ]
  },
  {
   "cell_type": "code",
   "execution_count": 4,
   "metadata": {},
   "outputs": [],
   "source": [
    "transcripts = pd.DataFrame(list(collection.find().limit(20)))"
   ]
  },
  {
   "cell_type": "code",
   "execution_count": 5,
   "metadata": {},
   "outputs": [
    {
     "data": {
      "text/html": [
       "<div>\n",
       "<style>\n",
       "    .dataframe thead tr:only-child th {\n",
       "        text-align: right;\n",
       "    }\n",
       "\n",
       "    .dataframe thead th {\n",
       "        text-align: left;\n",
       "    }\n",
       "\n",
       "    .dataframe tbody tr th {\n",
       "        vertical-align: top;\n",
       "    }\n",
       "</style>\n",
       "<table border=\"1\" class=\"dataframe\">\n",
       "  <thead>\n",
       "    <tr style=\"text-align: right;\">\n",
       "      <th></th>\n",
       "      <th>_id</th>\n",
       "      <th>date_number</th>\n",
       "      <th>h_tone</th>\n",
       "      <th>publishDate</th>\n",
       "      <th>qAndAText</th>\n",
       "      <th>q_and_a_h_tone</th>\n",
       "      <th>q_and_a_wordSize</th>\n",
       "      <th>rawText</th>\n",
       "      <th>time_number</th>\n",
       "      <th>tradingSymbol</th>\n",
       "      <th>url</th>\n",
       "      <th>wordSize</th>\n",
       "    </tr>\n",
       "  </thead>\n",
       "  <tbody>\n",
       "    <tr>\n",
       "      <th>0</th>\n",
       "      <td>5937dba3082789410c746a1e</td>\n",
       "      <td>1130423</td>\n",
       "      <td>{'positiveCount': 203, 'negativeCount': 75}</td>\n",
       "      <td>2013-04-23 21:30:07</td>\n",
       "      <td>Operator [Operator Instructions] We'll go firs...</td>\n",
       "      <td>{'positiveCount': 117, 'negativeCount': 46}</td>\n",
       "      <td>7493</td>\n",
       "      <td>US Airways Group ( LCC ) Q1 2013 Earnings Call...</td>\n",
       "      <td>213007</td>\n",
       "      <td>AAL</td>\n",
       "      <td>https://seekingalpha.com/article/1363811-us-ai...</td>\n",
       "      <td>11310</td>\n",
       "    </tr>\n",
       "  </tbody>\n",
       "</table>\n",
       "</div>"
      ],
      "text/plain": [
       "                        _id  date_number  \\\n",
       "0  5937dba3082789410c746a1e      1130423   \n",
       "\n",
       "                                        h_tone         publishDate  \\\n",
       "0  {'positiveCount': 203, 'negativeCount': 75} 2013-04-23 21:30:07   \n",
       "\n",
       "                                           qAndAText  \\\n",
       "0  Operator [Operator Instructions] We'll go firs...   \n",
       "\n",
       "                                q_and_a_h_tone  q_and_a_wordSize  \\\n",
       "0  {'positiveCount': 117, 'negativeCount': 46}              7493   \n",
       "\n",
       "                                             rawText  time_number  \\\n",
       "0  US Airways Group ( LCC ) Q1 2013 Earnings Call...       213007   \n",
       "\n",
       "  tradingSymbol                                                url  wordSize  \n",
       "0           AAL  https://seekingalpha.com/article/1363811-us-ai...     11310  "
      ]
     },
     "execution_count": 5,
     "metadata": {},
     "output_type": "execute_result"
    }
   ],
   "source": [
    "transcripts.head(1)"
   ]
  },
  {
   "cell_type": "code",
   "execution_count": 6,
   "metadata": {},
   "outputs": [],
   "source": [
    "nlp = English()"
   ]
  },
  {
   "cell_type": "code",
   "execution_count": 7,
   "metadata": {},
   "outputs": [],
   "source": [
    "def tokenize(sent):\n",
    "    return [tok.lemma_ for tok in sent if tok.pos_ in [\"NOUN\", \"PROPN\", \"ADJ\", \"VERB\"] and not tok.lemma_ == '-PRON-']"
   ]
  },
  {
   "cell_type": "code",
   "execution_count": 8,
   "metadata": {},
   "outputs": [],
   "source": [
    "#def tokenize(sent):\n",
    "#    return [tok.lemma_ for tok in sent]"
   ]
  },
  {
   "cell_type": "markdown",
   "metadata": {},
   "source": [
    "# Load Henry Tone"
   ]
  },
  {
   "cell_type": "code",
   "execution_count": 9,
   "metadata": {},
   "outputs": [
    {
     "data": {
      "text/html": [
       "<div>\n",
       "<style>\n",
       "    .dataframe thead tr:only-child th {\n",
       "        text-align: right;\n",
       "    }\n",
       "\n",
       "    .dataframe thead th {\n",
       "        text-align: left;\n",
       "    }\n",
       "\n",
       "    .dataframe tbody tr th {\n",
       "        vertical-align: top;\n",
       "    }\n",
       "</style>\n",
       "<table border=\"1\" class=\"dataframe\">\n",
       "  <thead>\n",
       "    <tr style=\"text-align: right;\">\n",
       "      <th></th>\n",
       "      <th>Word</th>\n",
       "      <th>Score</th>\n",
       "    </tr>\n",
       "  </thead>\n",
       "  <tbody>\n",
       "    <tr>\n",
       "      <th>0</th>\n",
       "      <td>below</td>\n",
       "      <td>-1</td>\n",
       "    </tr>\n",
       "    <tr>\n",
       "      <th>1</th>\n",
       "      <td>challenge</td>\n",
       "      <td>-1</td>\n",
       "    </tr>\n",
       "    <tr>\n",
       "      <th>2</th>\n",
       "      <td>challenged</td>\n",
       "      <td>-1</td>\n",
       "    </tr>\n",
       "    <tr>\n",
       "      <th>3</th>\n",
       "      <td>challenges</td>\n",
       "      <td>-1</td>\n",
       "    </tr>\n",
       "    <tr>\n",
       "      <th>4</th>\n",
       "      <td>challenging</td>\n",
       "      <td>-1</td>\n",
       "    </tr>\n",
       "  </tbody>\n",
       "</table>\n",
       "</div>"
      ],
      "text/plain": [
       "          Word  Score\n",
       "0        below     -1\n",
       "1    challenge     -1\n",
       "2   challenged     -1\n",
       "3   challenges     -1\n",
       "4  challenging     -1"
      ]
     },
     "execution_count": 9,
     "metadata": {},
     "output_type": "execute_result"
    }
   ],
   "source": [
    "henry = pd.read_excel('henry_wordlist.xlsx')\n",
    "henry['Word'] = henry['Word'].str.lower()\n",
    "henry.reset_index()\n",
    "henry.head(5)"
   ]
  },
  {
   "cell_type": "code",
   "execution_count": 10,
   "metadata": {},
   "outputs": [],
   "source": [
    "def get_first_value(dic, word):\n",
    "    ser = dic[dic['Word'] == word]['Score']\n",
    "    if len(ser) > 0:\n",
    "        return ser.iloc[0]\n",
    "    return 0"
   ]
  },
  {
   "cell_type": "code",
   "execution_count": 11,
   "metadata": {},
   "outputs": [
    {
     "data": {
      "text/plain": [
       "1"
      ]
     },
     "execution_count": 11,
     "metadata": {},
     "output_type": "execute_result"
    }
   ],
   "source": [
    "get_first_value(henry, 'good')"
   ]
  },
  {
   "cell_type": "code",
   "execution_count": 31,
   "metadata": {},
   "outputs": [
    {
     "data": {
      "text/plain": [
       "-1"
      ]
     },
     "execution_count": 31,
     "metadata": {},
     "output_type": "execute_result"
    }
   ],
   "source": [
    "get_first_value(henry, 'worse')"
   ]
  },
  {
   "cell_type": "markdown",
   "metadata": {},
   "source": [
    "# Load AFINN-111"
   ]
  },
  {
   "cell_type": "code",
   "execution_count": 12,
   "metadata": {},
   "outputs": [],
   "source": [
    "afinn = pd.read_csv(filepath_or_buffer='AFINN-111.txt', sep='\\t', header=None)"
   ]
  },
  {
   "cell_type": "code",
   "execution_count": 13,
   "metadata": {},
   "outputs": [],
   "source": [
    "afinn.rename(index=str, columns={0: \"Word\", 1: \"Score\"}, inplace=True)"
   ]
  },
  {
   "cell_type": "code",
   "execution_count": 14,
   "metadata": {},
   "outputs": [
    {
     "data": {
      "text/html": [
       "<div>\n",
       "<style>\n",
       "    .dataframe thead tr:only-child th {\n",
       "        text-align: right;\n",
       "    }\n",
       "\n",
       "    .dataframe thead th {\n",
       "        text-align: left;\n",
       "    }\n",
       "\n",
       "    .dataframe tbody tr th {\n",
       "        vertical-align: top;\n",
       "    }\n",
       "</style>\n",
       "<table border=\"1\" class=\"dataframe\">\n",
       "  <thead>\n",
       "    <tr style=\"text-align: right;\">\n",
       "      <th></th>\n",
       "      <th>Word</th>\n",
       "      <th>Score</th>\n",
       "    </tr>\n",
       "  </thead>\n",
       "  <tbody>\n",
       "    <tr>\n",
       "      <th>2472</th>\n",
       "      <td>yucky</td>\n",
       "      <td>-2</td>\n",
       "    </tr>\n",
       "    <tr>\n",
       "      <th>2473</th>\n",
       "      <td>yummy</td>\n",
       "      <td>3</td>\n",
       "    </tr>\n",
       "    <tr>\n",
       "      <th>2474</th>\n",
       "      <td>zealot</td>\n",
       "      <td>-2</td>\n",
       "    </tr>\n",
       "    <tr>\n",
       "      <th>2475</th>\n",
       "      <td>zealots</td>\n",
       "      <td>-2</td>\n",
       "    </tr>\n",
       "    <tr>\n",
       "      <th>2476</th>\n",
       "      <td>zealous</td>\n",
       "      <td>2</td>\n",
       "    </tr>\n",
       "  </tbody>\n",
       "</table>\n",
       "</div>"
      ],
      "text/plain": [
       "         Word  Score\n",
       "2472    yucky     -2\n",
       "2473    yummy      3\n",
       "2474   zealot     -2\n",
       "2475  zealots     -2\n",
       "2476  zealous      2"
      ]
     },
     "execution_count": 14,
     "metadata": {},
     "output_type": "execute_result"
    }
   ],
   "source": [
    "afinn.tail(5)"
   ]
  },
  {
   "cell_type": "code",
   "execution_count": 15,
   "metadata": {},
   "outputs": [
    {
     "data": {
      "text/plain": [
       "-4"
      ]
     },
     "execution_count": 15,
     "metadata": {},
     "output_type": "execute_result"
    }
   ],
   "source": [
    "get_first_value(afinn, 'shit')"
   ]
  },
  {
   "cell_type": "code",
   "execution_count": 16,
   "metadata": {},
   "outputs": [],
   "source": [
    "transcripts['NLP'] = transcripts['rawText'].apply(lambda val: nlp(val))"
   ]
  },
  {
   "cell_type": "code",
   "execution_count": 17,
   "metadata": {},
   "outputs": [],
   "source": [
    "transcripts['tokens'] = transcripts['NLP'].apply(lambda val: tokenize(val))"
   ]
  },
  {
   "cell_type": "code",
   "execution_count": 18,
   "metadata": {},
   "outputs": [],
   "source": [
    "from scipy.stats import itemfreq"
   ]
  },
  {
   "cell_type": "code",
   "execution_count": 19,
   "metadata": {},
   "outputs": [],
   "source": [
    "def build_score_for_tokens(tokens, dictionary):\n",
    "    score_pos, score_neg = 0, 0\n",
    "    token_pos, token_neg = [], []\n",
    "    for token in tokens:\n",
    "        temp_score = get_first_value(dictionary, token)\n",
    "        if temp_score > 0:\n",
    "            score_pos += temp_score\n",
    "            token_pos.append(token)\n",
    "        elif temp_score < 0:\n",
    "            score_neg += temp_score\n",
    "            token_neg.append(token)\n",
    "    return (score_pos, score_neg, score_pos + score_neg, itemfreq(token_pos), itemfreq(token_neg))"
   ]
  },
  {
   "cell_type": "code",
   "execution_count": 20,
   "metadata": {},
   "outputs": [],
   "source": [
    "transcripts['Sentiment Score'] = transcripts['tokens'].apply(lambda val: build_score_for_tokens(val, afinn))"
   ]
  },
  {
   "cell_type": "code",
   "execution_count": 21,
   "metadata": {},
   "outputs": [],
   "source": [
    "transcripts['Henry Tone'] = transcripts['tokens'].apply(lambda val: build_score_for_tokens(val, henry))"
   ]
  },
  {
   "cell_type": "code",
   "execution_count": 22,
   "metadata": {},
   "outputs": [],
   "source": [
    "transcripts['SS Ratio'] = transcripts['Sentiment Score'].apply(lambda row: row[0]/(-row[1]))"
   ]
  },
  {
   "cell_type": "code",
   "execution_count": 23,
   "metadata": {},
   "outputs": [],
   "source": [
    "transcripts['HTone Ratio'] = transcripts['Henry Tone'].apply(lambda row: row[0]/(-row[1]))"
   ]
  },
  {
   "cell_type": "code",
   "execution_count": 24,
   "metadata": {},
   "outputs": [
    {
     "data": {
      "text/html": [
       "<div>\n",
       "<style>\n",
       "    .dataframe thead tr:only-child th {\n",
       "        text-align: right;\n",
       "    }\n",
       "\n",
       "    .dataframe thead th {\n",
       "        text-align: left;\n",
       "    }\n",
       "\n",
       "    .dataframe tbody tr th {\n",
       "        vertical-align: top;\n",
       "    }\n",
       "</style>\n",
       "<table border=\"1\" class=\"dataframe\">\n",
       "  <thead>\n",
       "    <tr style=\"text-align: right;\">\n",
       "      <th></th>\n",
       "      <th>url</th>\n",
       "      <th>Sentiment Score</th>\n",
       "      <th>Henry Tone</th>\n",
       "      <th>h_tone</th>\n",
       "      <th>SS Ratio</th>\n",
       "      <th>HTone Ratio</th>\n",
       "    </tr>\n",
       "  </thead>\n",
       "  <tbody>\n",
       "    <tr>\n",
       "      <th>0</th>\n",
       "      <td>https://seekingalpha.com/article/1363811-us-ai...</td>\n",
       "      <td>(548, -182, 366, [[ability, 1], [agree, 1], [a...</td>\n",
       "      <td>(196, -69, 127, [[achieve, 2], [better, 2], [c...</td>\n",
       "      <td>{'positiveCount': 203, 'negativeCount': 75}</td>\n",
       "      <td>3.010989</td>\n",
       "      <td>2.840580</td>\n",
       "    </tr>\n",
       "    <tr>\n",
       "      <th>1</th>\n",
       "      <td>https://seekingalpha.com/article/1129431-apple...</td>\n",
       "      <td>(697, -113, 584, [[ability, 1], [accomplish, 2...</td>\n",
       "      <td>(234, -32, 202, [[accomplish, 2], [achieve, 10...</td>\n",
       "      <td>{'positiveCount': 236, 'negativeCount': 30}</td>\n",
       "      <td>6.168142</td>\n",
       "      <td>7.312500</td>\n",
       "    </tr>\n",
       "    <tr>\n",
       "      <th>2</th>\n",
       "      <td>https://seekingalpha.com/article/1287941-adobe...</td>\n",
       "      <td>(661, -45, 616, [[adopt, 1], [advanced, 1], [a...</td>\n",
       "      <td>(174, -18, 156, [[above, 1], [achieve, 12], [b...</td>\n",
       "      <td>{'positiveCount': 170, 'negativeCount': 16}</td>\n",
       "      <td>14.688889</td>\n",
       "      <td>9.666667</td>\n",
       "    </tr>\n",
       "    <tr>\n",
       "      <th>3</th>\n",
       "      <td>https://seekingalpha.com/article/2711985-analo...</td>\n",
       "      <td>(671, -113, 558, [[ability, 2], [active, 3], [...</td>\n",
       "      <td>(256, -66, 190, [[above, 2], [better, 1], [cer...</td>\n",
       "      <td>{'positiveCount': 248, 'negativeCount': 62}</td>\n",
       "      <td>5.938053</td>\n",
       "      <td>3.878788</td>\n",
       "    </tr>\n",
       "    <tr>\n",
       "      <th>4</th>\n",
       "      <td>https://seekingalpha.com/article/2885106-autom...</td>\n",
       "      <td>(1244, -152, 1092, [[ability, 7], [advanced, 1...</td>\n",
       "      <td>(406, -57, 349, [[above, 1], [achieve, 3], [be...</td>\n",
       "      <td>{'positiveCount': 411, 'negativeCount': 59}</td>\n",
       "      <td>8.184211</td>\n",
       "      <td>7.122807</td>\n",
       "    </tr>\n",
       "    <tr>\n",
       "      <th>5</th>\n",
       "      <td>https://seekingalpha.com/article/2425545-autod...</td>\n",
       "      <td>(683, -72, 611, [[ability, 1], [accept, 1], [a...</td>\n",
       "      <td>(202, -25, 177, [[above, 1], [accomplish, 1], ...</td>\n",
       "      <td>{'positiveCount': 196, 'negativeCount': 23}</td>\n",
       "      <td>9.486111</td>\n",
       "      <td>8.080000</td>\n",
       "    </tr>\n",
       "    <tr>\n",
       "      <th>6</th>\n",
       "      <td>https://seekingalpha.com/article/2700495-autod...</td>\n",
       "      <td>(593, -65, 528, [[aboard, 1], [accept, 1], [ac...</td>\n",
       "      <td>(195, -29, 166, [[best, 1], [better, 1], [cert...</td>\n",
       "      <td>{'positiveCount': 202, 'negativeCount': 29}</td>\n",
       "      <td>9.123077</td>\n",
       "      <td>6.724138</td>\n",
       "    </tr>\n",
       "    <tr>\n",
       "      <th>7</th>\n",
       "      <td>https://seekingalpha.com/article/2957556-autod...</td>\n",
       "      <td>(775, -68, 707, [[ability, 1], [accept, 1], [a...</td>\n",
       "      <td>(233, -27, 206, [[beat, 1], [better, 2], [cert...</td>\n",
       "      <td>{'positiveCount': 238, 'negativeCount': 30}</td>\n",
       "      <td>11.397059</td>\n",
       "      <td>8.629630</td>\n",
       "    </tr>\n",
       "    <tr>\n",
       "      <th>8</th>\n",
       "      <td>https://seekingalpha.com/article/3197526-autod...</td>\n",
       "      <td>(731, -90, 641, [[accept, 1], [adopt, 3], [all...</td>\n",
       "      <td>(193, -39, 154, [[above, 2], [achieve, 1], [be...</td>\n",
       "      <td>{'positiveCount': 191, 'negativeCount': 38}</td>\n",
       "      <td>8.122222</td>\n",
       "      <td>4.948718</td>\n",
       "    </tr>\n",
       "    <tr>\n",
       "      <th>9</th>\n",
       "      <td>https://seekingalpha.com/article/3473396-autod...</td>\n",
       "      <td>(755, -120, 635, [[accept, 1], [active, 1], [a...</td>\n",
       "      <td>(196, -31, 165, [[achieve, 1], [better, 1], [c...</td>\n",
       "      <td>{'positiveCount': 198, 'negativeCount': 31}</td>\n",
       "      <td>6.291667</td>\n",
       "      <td>6.322581</td>\n",
       "    </tr>\n",
       "    <tr>\n",
       "      <th>10</th>\n",
       "      <td>https://seekingalpha.com/article/3700786-autod...</td>\n",
       "      <td>(749, -70, 679, [[accept, 2], [active, 1], [ad...</td>\n",
       "      <td>(204, -48, 156, [[achieve, 1], [best, 1], [cer...</td>\n",
       "      <td>{'positiveCount': 207, 'negativeCount': 50}</td>\n",
       "      <td>10.700000</td>\n",
       "      <td>4.250000</td>\n",
       "    </tr>\n",
       "    <tr>\n",
       "      <th>11</th>\n",
       "      <td>https://seekingalpha.com/article/3933036-autod...</td>\n",
       "      <td>(922, -131, 791, [[ability, 5], [accept, 1], [...</td>\n",
       "      <td>(302, -55, 247, [[above, 2], [accomplish, 1], ...</td>\n",
       "      <td>{'positiveCount': 299, 'negativeCount': 53}</td>\n",
       "      <td>7.038168</td>\n",
       "      <td>5.490909</td>\n",
       "    </tr>\n",
       "    <tr>\n",
       "      <th>12</th>\n",
       "      <td>https://seekingalpha.com/article/3976697-autod...</td>\n",
       "      <td>(615, -58, 557, [[ability, 1], [accepted, 1], ...</td>\n",
       "      <td>(200, -46, 154, [[above, 1], [accomplish, 1], ...</td>\n",
       "      <td>{'positiveCount': 199, 'negativeCount': 47}</td>\n",
       "      <td>10.603448</td>\n",
       "      <td>4.347826</td>\n",
       "    </tr>\n",
       "    <tr>\n",
       "      <th>13</th>\n",
       "      <td>https://seekingalpha.com/article/4002268-autod...</td>\n",
       "      <td>(696, -72, 624, [[ability, 1], [accept, 1], [a...</td>\n",
       "      <td>(247, -56, 191, [[accomplish, 1], [better, 2],...</td>\n",
       "      <td>{'positiveCount': 237, 'negativeCount': 52}</td>\n",
       "      <td>9.666667</td>\n",
       "      <td>4.410714</td>\n",
       "    </tr>\n",
       "    <tr>\n",
       "      <th>14</th>\n",
       "      <td>https://seekingalpha.com/article/1935441-bed-b...</td>\n",
       "      <td>(226, -27, 199, [[advantage, 1], [allow, 3], [...</td>\n",
       "      <td>(82, -19, 63, [[achieve, 1], [better, 1], [goo...</td>\n",
       "      <td>{'positiveCount': 82, 'negativeCount': 18}</td>\n",
       "      <td>8.370370</td>\n",
       "      <td>4.315789</td>\n",
       "    </tr>\n",
       "    <tr>\n",
       "      <th>15</th>\n",
       "      <td>https://seekingalpha.com/article/80219-ross-st...</td>\n",
       "      <td>(71, -22, 49, [[ability, 5], [attract, 1], [ba...</td>\n",
       "      <td>(30, -10, 20, [[achieve, 1], [best, 1], [deliv...</td>\n",
       "      <td>{'positiveCount': 27, 'negativeCount': 9}</td>\n",
       "      <td>3.227273</td>\n",
       "      <td>3.000000</td>\n",
       "    </tr>\n",
       "    <tr>\n",
       "      <th>16</th>\n",
       "      <td>https://seekingalpha.com/article/4027140-autod...</td>\n",
       "      <td>(628, -42, 586, [[ability, 3], [accept, 1], [a...</td>\n",
       "      <td>(215, -42, 173, [[above, 1], [accomplish, 1], ...</td>\n",
       "      <td>{'positiveCount': 220, 'negativeCount': 42}</td>\n",
       "      <td>14.952381</td>\n",
       "      <td>5.119048</td>\n",
       "    </tr>\n",
       "    <tr>\n",
       "      <th>17</th>\n",
       "      <td>https://seekingalpha.com/article/4051716-autod...</td>\n",
       "      <td>(830, -83, 747, [[ability, 3], [accept, 1], [a...</td>\n",
       "      <td>(283, -31, 252, [[above, 1], [accomplish, 3], ...</td>\n",
       "      <td>{'positiveCount': 284, 'negativeCount': 33}</td>\n",
       "      <td>10.000000</td>\n",
       "      <td>9.129032</td>\n",
       "    </tr>\n",
       "    <tr>\n",
       "      <th>18</th>\n",
       "      <td>https://seekingalpha.com/article/4074589-autod...</td>\n",
       "      <td>(783, -56, 727, [[ability, 5], [accept, 1], [a...</td>\n",
       "      <td>(264, -44, 220, [[above, 2], [accomplish, 1], ...</td>\n",
       "      <td>{'positiveCount': 259, 'negativeCount': 52}</td>\n",
       "      <td>13.982143</td>\n",
       "      <td>6.000000</td>\n",
       "    </tr>\n",
       "    <tr>\n",
       "      <th>19</th>\n",
       "      <td>https://seekingalpha.com/article/3123336-autom...</td>\n",
       "      <td>(1169, -132, 1037, [[ability, 1], [accept, 1],...</td>\n",
       "      <td>(371, -52, 319, [[above, 1], [accomplish, 1], ...</td>\n",
       "      <td>{'positiveCount': 367, 'negativeCount': 51}</td>\n",
       "      <td>8.856061</td>\n",
       "      <td>7.134615</td>\n",
       "    </tr>\n",
       "  </tbody>\n",
       "</table>\n",
       "</div>"
      ],
      "text/plain": [
       "                                                  url  \\\n",
       "0   https://seekingalpha.com/article/1363811-us-ai...   \n",
       "1   https://seekingalpha.com/article/1129431-apple...   \n",
       "2   https://seekingalpha.com/article/1287941-adobe...   \n",
       "3   https://seekingalpha.com/article/2711985-analo...   \n",
       "4   https://seekingalpha.com/article/2885106-autom...   \n",
       "5   https://seekingalpha.com/article/2425545-autod...   \n",
       "6   https://seekingalpha.com/article/2700495-autod...   \n",
       "7   https://seekingalpha.com/article/2957556-autod...   \n",
       "8   https://seekingalpha.com/article/3197526-autod...   \n",
       "9   https://seekingalpha.com/article/3473396-autod...   \n",
       "10  https://seekingalpha.com/article/3700786-autod...   \n",
       "11  https://seekingalpha.com/article/3933036-autod...   \n",
       "12  https://seekingalpha.com/article/3976697-autod...   \n",
       "13  https://seekingalpha.com/article/4002268-autod...   \n",
       "14  https://seekingalpha.com/article/1935441-bed-b...   \n",
       "15  https://seekingalpha.com/article/80219-ross-st...   \n",
       "16  https://seekingalpha.com/article/4027140-autod...   \n",
       "17  https://seekingalpha.com/article/4051716-autod...   \n",
       "18  https://seekingalpha.com/article/4074589-autod...   \n",
       "19  https://seekingalpha.com/article/3123336-autom...   \n",
       "\n",
       "                                      Sentiment Score  \\\n",
       "0   (548, -182, 366, [[ability, 1], [agree, 1], [a...   \n",
       "1   (697, -113, 584, [[ability, 1], [accomplish, 2...   \n",
       "2   (661, -45, 616, [[adopt, 1], [advanced, 1], [a...   \n",
       "3   (671, -113, 558, [[ability, 2], [active, 3], [...   \n",
       "4   (1244, -152, 1092, [[ability, 7], [advanced, 1...   \n",
       "5   (683, -72, 611, [[ability, 1], [accept, 1], [a...   \n",
       "6   (593, -65, 528, [[aboard, 1], [accept, 1], [ac...   \n",
       "7   (775, -68, 707, [[ability, 1], [accept, 1], [a...   \n",
       "8   (731, -90, 641, [[accept, 1], [adopt, 3], [all...   \n",
       "9   (755, -120, 635, [[accept, 1], [active, 1], [a...   \n",
       "10  (749, -70, 679, [[accept, 2], [active, 1], [ad...   \n",
       "11  (922, -131, 791, [[ability, 5], [accept, 1], [...   \n",
       "12  (615, -58, 557, [[ability, 1], [accepted, 1], ...   \n",
       "13  (696, -72, 624, [[ability, 1], [accept, 1], [a...   \n",
       "14  (226, -27, 199, [[advantage, 1], [allow, 3], [...   \n",
       "15  (71, -22, 49, [[ability, 5], [attract, 1], [ba...   \n",
       "16  (628, -42, 586, [[ability, 3], [accept, 1], [a...   \n",
       "17  (830, -83, 747, [[ability, 3], [accept, 1], [a...   \n",
       "18  (783, -56, 727, [[ability, 5], [accept, 1], [a...   \n",
       "19  (1169, -132, 1037, [[ability, 1], [accept, 1],...   \n",
       "\n",
       "                                           Henry Tone  \\\n",
       "0   (196, -69, 127, [[achieve, 2], [better, 2], [c...   \n",
       "1   (234, -32, 202, [[accomplish, 2], [achieve, 10...   \n",
       "2   (174, -18, 156, [[above, 1], [achieve, 12], [b...   \n",
       "3   (256, -66, 190, [[above, 2], [better, 1], [cer...   \n",
       "4   (406, -57, 349, [[above, 1], [achieve, 3], [be...   \n",
       "5   (202, -25, 177, [[above, 1], [accomplish, 1], ...   \n",
       "6   (195, -29, 166, [[best, 1], [better, 1], [cert...   \n",
       "7   (233, -27, 206, [[beat, 1], [better, 2], [cert...   \n",
       "8   (193, -39, 154, [[above, 2], [achieve, 1], [be...   \n",
       "9   (196, -31, 165, [[achieve, 1], [better, 1], [c...   \n",
       "10  (204, -48, 156, [[achieve, 1], [best, 1], [cer...   \n",
       "11  (302, -55, 247, [[above, 2], [accomplish, 1], ...   \n",
       "12  (200, -46, 154, [[above, 1], [accomplish, 1], ...   \n",
       "13  (247, -56, 191, [[accomplish, 1], [better, 2],...   \n",
       "14  (82, -19, 63, [[achieve, 1], [better, 1], [goo...   \n",
       "15  (30, -10, 20, [[achieve, 1], [best, 1], [deliv...   \n",
       "16  (215, -42, 173, [[above, 1], [accomplish, 1], ...   \n",
       "17  (283, -31, 252, [[above, 1], [accomplish, 3], ...   \n",
       "18  (264, -44, 220, [[above, 2], [accomplish, 1], ...   \n",
       "19  (371, -52, 319, [[above, 1], [accomplish, 1], ...   \n",
       "\n",
       "                                         h_tone   SS Ratio  HTone Ratio  \n",
       "0   {'positiveCount': 203, 'negativeCount': 75}   3.010989     2.840580  \n",
       "1   {'positiveCount': 236, 'negativeCount': 30}   6.168142     7.312500  \n",
       "2   {'positiveCount': 170, 'negativeCount': 16}  14.688889     9.666667  \n",
       "3   {'positiveCount': 248, 'negativeCount': 62}   5.938053     3.878788  \n",
       "4   {'positiveCount': 411, 'negativeCount': 59}   8.184211     7.122807  \n",
       "5   {'positiveCount': 196, 'negativeCount': 23}   9.486111     8.080000  \n",
       "6   {'positiveCount': 202, 'negativeCount': 29}   9.123077     6.724138  \n",
       "7   {'positiveCount': 238, 'negativeCount': 30}  11.397059     8.629630  \n",
       "8   {'positiveCount': 191, 'negativeCount': 38}   8.122222     4.948718  \n",
       "9   {'positiveCount': 198, 'negativeCount': 31}   6.291667     6.322581  \n",
       "10  {'positiveCount': 207, 'negativeCount': 50}  10.700000     4.250000  \n",
       "11  {'positiveCount': 299, 'negativeCount': 53}   7.038168     5.490909  \n",
       "12  {'positiveCount': 199, 'negativeCount': 47}  10.603448     4.347826  \n",
       "13  {'positiveCount': 237, 'negativeCount': 52}   9.666667     4.410714  \n",
       "14   {'positiveCount': 82, 'negativeCount': 18}   8.370370     4.315789  \n",
       "15    {'positiveCount': 27, 'negativeCount': 9}   3.227273     3.000000  \n",
       "16  {'positiveCount': 220, 'negativeCount': 42}  14.952381     5.119048  \n",
       "17  {'positiveCount': 284, 'negativeCount': 33}  10.000000     9.129032  \n",
       "18  {'positiveCount': 259, 'negativeCount': 52}  13.982143     6.000000  \n",
       "19  {'positiveCount': 367, 'negativeCount': 51}   8.856061     7.134615  "
      ]
     },
     "execution_count": 24,
     "metadata": {},
     "output_type": "execute_result"
    }
   ],
   "source": [
    "transcripts[['url', 'Sentiment Score', 'Henry Tone', 'h_tone', 'SS Ratio', 'HTone Ratio']]"
   ]
  },
  {
   "cell_type": "markdown",
   "metadata": {},
   "source": [
    "### Smaller sentiment score ratio"
   ]
  },
  {
   "cell_type": "code",
   "execution_count": 25,
   "metadata": {},
   "outputs": [
    {
     "data": {
      "text/plain": [
       "1    https://seekingalpha.com/article/1129431-apple...\n",
       "9    https://seekingalpha.com/article/3473396-autod...\n",
       "Name: url, dtype: object"
      ]
     },
     "execution_count": 25,
     "metadata": {},
     "output_type": "execute_result"
    }
   ],
   "source": [
    "transcripts[transcripts['SS Ratio'] < transcripts['HTone Ratio']]['url']"
   ]
  },
  {
   "cell_type": "markdown",
   "metadata": {},
   "source": [
    "### Much bigger sentiment score ratio"
   ]
  },
  {
   "cell_type": "code",
   "execution_count": 33,
   "metadata": {},
   "outputs": [
    {
     "data": {
      "text/plain": [
       "10    https://seekingalpha.com/article/3700786-autod...\n",
       "12    https://seekingalpha.com/article/3976697-autod...\n",
       "13    https://seekingalpha.com/article/4002268-autod...\n",
       "16    https://seekingalpha.com/article/4027140-autod...\n",
       "18    https://seekingalpha.com/article/4074589-autod...\n",
       "Name: url, dtype: object"
      ]
     },
     "execution_count": 33,
     "metadata": {},
     "output_type": "execute_result"
    }
   ],
   "source": [
    "transcripts[(transcripts['SS Ratio'] / transcripts['HTone Ratio']) > 2]['url']"
   ]
  },
  {
   "cell_type": "markdown",
   "metadata": {},
   "source": [
    "### Outlier discovery"
   ]
  },
  {
   "cell_type": "code",
   "execution_count": 28,
   "metadata": {},
   "outputs": [],
   "source": [
    "def discovery(id_):\n",
    "    positive_histo = transcripts.loc[id_]['Sentiment Score'][3]\n",
    "    negative_histo = transcripts.loc[id_]['Sentiment Score'][4]\n",
    "    print('========================\\nSentiment positive words with counts:\\n')\n",
    "    print(np.array(sorted(positive_histo, key=lambda var: int(var[1]), reverse=True)))\n",
    "    print('========================\\nSentiment negative words with counts:\\n')\n",
    "    print(np.array(sorted(negative_histo, key=lambda var: int(var[1]), reverse=True)))\n",
    "    \n",
    "    positive_histo = transcripts.loc[id_]['Henry Tone'][3]\n",
    "    negative_histo = transcripts.loc[id_]['Henry Tone'][4]\n",
    "    print('========================\\nHenry positive words with counts:\\n')\n",
    "    print(np.array(sorted(positive_histo, key=lambda var: int(var[1]), reverse=True)))\n",
    "    print('========================\\nHenry negative words with counts:\\n')\n",
    "    print(np.array(sorted(negative_histo, key=lambda var: int(var[1]), reverse=True)))"
   ]
  },
  {
   "cell_type": "code",
   "execution_count": 30,
   "metadata": {},
   "outputs": [
    {
     "name": "stdout",
     "output_type": "stream",
     "text": [
      "========================\n",
      "Sentiment positive words with counts:\n",
      "\n",
      "[['like' '36']\n",
      " ['increase' '28']\n",
      " ['thank' '27']\n",
      " ['good' '19']\n",
      " ['yes' '14']\n",
      " ['kind' '13']\n",
      " ['growth' '12']\n",
      " ['important' '11']\n",
      " ['big' '10']\n",
      " ['strong' '10']\n",
      " ['reach' '8']\n",
      " ['significant' '8']\n",
      " ['great' '7']\n",
      " ['positive' '7']\n",
      " ['prepared' '7']\n",
      " ['expand' '6']\n",
      " ['extend' '6']\n",
      " ['fair' '6']\n",
      " ['pleased' '5']\n",
      " ['want' '5']\n",
      " ['attract' '4']\n",
      " ['benefit' '4']\n",
      " ['free' '4']\n",
      " ['help' '4']\n",
      " ['mature' '4']\n",
      " ['share' '4']\n",
      " ['worth' '4']\n",
      " ['ability' '3']\n",
      " ['agreement' '3']\n",
      " ['highlight' '3']\n",
      " ['interested' '3']\n",
      " ['natural' '3']\n",
      " ['please' '3']\n",
      " ['pretty' '3']\n",
      " ['success' '3']\n",
      " ['active' '2']\n",
      " ['certain' '2']\n",
      " ['commit' '2']\n",
      " ['confidence' '2']\n",
      " ['confident' '2']\n",
      " ['excited' '2']\n",
      " ['focused' '2']\n",
      " ['healthy' '2']\n",
      " ['helpful' '2']\n",
      " ['hopefully' '2']\n",
      " ['matter' '2']\n",
      " ['meaningful' '2']\n",
      " ['motivate' '2']\n",
      " ['nice' '2']\n",
      " ['opportunity' '2']\n",
      " ['perfect' '2']\n",
      " ['progress' '2']\n",
      " ['responsible' '2']\n",
      " ['accept' '1']\n",
      " ['accomplish' '1']\n",
      " ['adopt' '1']\n",
      " ['advanced' '1']\n",
      " ['advantage' '1']\n",
      " ['agree' '1']\n",
      " ['beautiful' '1']\n",
      " ['carefully' '1']\n",
      " ['chance' '1']\n",
      " ['clear' '1']\n",
      " ['curious' '1']\n",
      " ['encourage' '1']\n",
      " ['engage' '1']\n",
      " ['fantastic' '1']\n",
      " ['favor' '1']\n",
      " ['fit' '1']\n",
      " ['importance' '1']\n",
      " ['improvement' '1']\n",
      " ['interesting' '1']\n",
      " ['join' '1']\n",
      " ['love' '1']\n",
      " ['solid' '1']\n",
      " ['solution' '1']\n",
      " ['straight' '1']\n",
      " ['substantially' '1']\n",
      " ['support' '1']\n",
      " ['top' '1']\n",
      " ['vision' '1']\n",
      " ['welcome' '1']\n",
      " ['willingness' '1']]\n",
      "========================\n",
      "Sentiment negative words with counts:\n",
      "\n",
      "[['pay' '7']\n",
      " ['demand' '5']\n",
      " ['no' '3']\n",
      " ['risk' '3']\n",
      " ['cut' '2']\n",
      " ['aggressive' '1']\n",
      " ['apologize' '1']\n",
      " ['challenge' '1']\n",
      " ['confusing' '1']\n",
      " ['difficult' '1']\n",
      " ['errors' '1']\n",
      " ['exaggerate' '1']\n",
      " ['exclude' '1']\n",
      " ['hard' '1']\n",
      " ['leave' '1']\n",
      " ['negative' '1']\n",
      " ['problem' '1']\n",
      " ['uncertain' '1']]\n",
      "========================\n",
      "Henry positive words with counts:\n",
      "\n",
      "[['more' '48']\n",
      " ['increase' '28']\n",
      " ['up' '23']\n",
      " ['good' '19']\n",
      " ['grow' '14']\n",
      " ['growth' '12']\n",
      " ['most' '11']\n",
      " ['strong' '10']\n",
      " ['high' '8']\n",
      " ['positive' '7']\n",
      " ['expand' '6']\n",
      " ['pleased' '5']\n",
      " ['achieve' '3']\n",
      " ['record' '3']\n",
      " ['success' '3']\n",
      " ['certain' '2']\n",
      " ['expansion' '2']\n",
      " ['opportunity' '2']\n",
      " ['progress' '2']\n",
      " ['above' '1']\n",
      " ['accomplish' '1']\n",
      " ['certainty' '1']\n",
      " ['deliver' '1']\n",
      " ['improvement' '1']\n",
      " ['leader' '1']\n",
      " ['solid' '1']]\n",
      "========================\n",
      "Henry negative words with counts:\n",
      "\n",
      "[['decline' '9']\n",
      " ['less' '9']\n",
      " ['down' '7']\n",
      " ['low' '3']\n",
      " ['risk' '3']\n",
      " ['decrease' '2']\n",
      " ['difficulty' '2']\n",
      " ['lower' '2']\n",
      " ['challenge' '1']\n",
      " ['difficult' '1']\n",
      " ['negative' '1']\n",
      " ['uncertain' '1']\n",
      " ['under' '1']]\n"
     ]
    }
   ],
   "source": [
    "discovery(16)"
   ]
  }
 ],
 "metadata": {
  "kernelspec": {
   "display_name": "Python 3",
   "language": "python",
   "name": "python3"
  },
  "language_info": {
   "codemirror_mode": {
    "name": "ipython",
    "version": 3
   },
   "file_extension": ".py",
   "mimetype": "text/x-python",
   "name": "python",
   "nbconvert_exporter": "python",
   "pygments_lexer": "ipython3",
   "version": "3.6.1"
  }
 },
 "nbformat": 4,
 "nbformat_minor": 2
}
