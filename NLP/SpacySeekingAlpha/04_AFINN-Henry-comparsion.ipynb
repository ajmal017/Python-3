{
 "cells": [
  {
   "cell_type": "code",
   "execution_count": 1,
   "metadata": {},
   "outputs": [],
   "source": [
    "import pandas as pd\n",
    "import numpy as np\n",
    "import matplotlib.pyplot as plt\n",
    "import seaborn as sns\n",
    "%matplotlib inline"
   ]
  },
  {
   "cell_type": "code",
   "execution_count": 2,
   "metadata": {},
   "outputs": [],
   "source": [
    "from pymongo import MongoClient\n",
    "from spacy.en import English"
   ]
  },
  {
   "cell_type": "code",
   "execution_count": 3,
   "metadata": {},
   "outputs": [],
   "source": [
    "client = MongoClient('localhost', 27017)\n",
    "db = client.python_import\n",
    "collection = db.earnings_transcript"
   ]
  },
  {
   "cell_type": "code",
   "execution_count": 4,
   "metadata": {},
   "outputs": [],
   "source": [
    "transcripts = pd.DataFrame(list(collection.find().limit(20)))"
   ]
  },
  {
   "cell_type": "code",
   "execution_count": 5,
   "metadata": {},
   "outputs": [
    {
     "data": {
      "text/html": [
       "<div>\n",
       "<style>\n",
       "    .dataframe thead tr:only-child th {\n",
       "        text-align: right;\n",
       "    }\n",
       "\n",
       "    .dataframe thead th {\n",
       "        text-align: left;\n",
       "    }\n",
       "\n",
       "    .dataframe tbody tr th {\n",
       "        vertical-align: top;\n",
       "    }\n",
       "</style>\n",
       "<table border=\"1\" class=\"dataframe\">\n",
       "  <thead>\n",
       "    <tr style=\"text-align: right;\">\n",
       "      <th></th>\n",
       "      <th>_id</th>\n",
       "      <th>date_number</th>\n",
       "      <th>h_tone</th>\n",
       "      <th>publishDate</th>\n",
       "      <th>qAndAText</th>\n",
       "      <th>q_and_a_h_tone</th>\n",
       "      <th>q_and_a_wordSize</th>\n",
       "      <th>rawText</th>\n",
       "      <th>time_number</th>\n",
       "      <th>tradingSymbol</th>\n",
       "      <th>url</th>\n",
       "      <th>wordSize</th>\n",
       "    </tr>\n",
       "  </thead>\n",
       "  <tbody>\n",
       "    <tr>\n",
       "      <th>0</th>\n",
       "      <td>5937dba3082789410c746a1e</td>\n",
       "      <td>1130423</td>\n",
       "      <td>{'positiveCount': 203, 'negativeCount': 75}</td>\n",
       "      <td>2013-04-23 21:30:07</td>\n",
       "      <td>Operator [Operator Instructions] We'll go firs...</td>\n",
       "      <td>{'positiveCount': 117, 'negativeCount': 46}</td>\n",
       "      <td>7493</td>\n",
       "      <td>US Airways Group ( LCC ) Q1 2013 Earnings Call...</td>\n",
       "      <td>213007</td>\n",
       "      <td>AAL</td>\n",
       "      <td>https://seekingalpha.com/article/1363811-us-ai...</td>\n",
       "      <td>11310</td>\n",
       "    </tr>\n",
       "  </tbody>\n",
       "</table>\n",
       "</div>"
      ],
      "text/plain": [
       "                        _id  date_number  \\\n",
       "0  5937dba3082789410c746a1e      1130423   \n",
       "\n",
       "                                        h_tone         publishDate  \\\n",
       "0  {'positiveCount': 203, 'negativeCount': 75} 2013-04-23 21:30:07   \n",
       "\n",
       "                                           qAndAText  \\\n",
       "0  Operator [Operator Instructions] We'll go firs...   \n",
       "\n",
       "                                q_and_a_h_tone  q_and_a_wordSize  \\\n",
       "0  {'positiveCount': 117, 'negativeCount': 46}              7493   \n",
       "\n",
       "                                             rawText  time_number  \\\n",
       "0  US Airways Group ( LCC ) Q1 2013 Earnings Call...       213007   \n",
       "\n",
       "  tradingSymbol                                                url  wordSize  \n",
       "0           AAL  https://seekingalpha.com/article/1363811-us-ai...     11310  "
      ]
     },
     "execution_count": 5,
     "metadata": {},
     "output_type": "execute_result"
    }
   ],
   "source": [
    "transcripts.head(1)"
   ]
  },
  {
   "cell_type": "code",
   "execution_count": 6,
   "metadata": {},
   "outputs": [],
   "source": [
    "nlp = English()"
   ]
  },
  {
   "cell_type": "code",
   "execution_count": 7,
   "metadata": {},
   "outputs": [],
   "source": [
    "def tokenize(sent):\n",
    "    return [tok.lemma_ for tok in sent if tok.pos_ in [\"NOUN\", \"PROPN\", \"ADJ\", \"VERB\"] and not tok.lemma_ == '-PRON-']"
   ]
  },
  {
   "cell_type": "code",
   "execution_count": 8,
   "metadata": {},
   "outputs": [],
   "source": [
    "#def tokenize(sent):\n",
    "#    return [tok.lemma_ for tok in sent]"
   ]
  },
  {
   "cell_type": "markdown",
   "metadata": {},
   "source": [
    "# Load Henry Tone"
   ]
  },
  {
   "cell_type": "code",
   "execution_count": 9,
   "metadata": {},
   "outputs": [
    {
     "data": {
      "text/html": [
       "<div>\n",
       "<style>\n",
       "    .dataframe thead tr:only-child th {\n",
       "        text-align: right;\n",
       "    }\n",
       "\n",
       "    .dataframe thead th {\n",
       "        text-align: left;\n",
       "    }\n",
       "\n",
       "    .dataframe tbody tr th {\n",
       "        vertical-align: top;\n",
       "    }\n",
       "</style>\n",
       "<table border=\"1\" class=\"dataframe\">\n",
       "  <thead>\n",
       "    <tr style=\"text-align: right;\">\n",
       "      <th></th>\n",
       "      <th>Word</th>\n",
       "      <th>Score</th>\n",
       "    </tr>\n",
       "  </thead>\n",
       "  <tbody>\n",
       "    <tr>\n",
       "      <th>0</th>\n",
       "      <td>below</td>\n",
       "      <td>-1</td>\n",
       "    </tr>\n",
       "    <tr>\n",
       "      <th>1</th>\n",
       "      <td>challenge</td>\n",
       "      <td>-1</td>\n",
       "    </tr>\n",
       "    <tr>\n",
       "      <th>2</th>\n",
       "      <td>challenged</td>\n",
       "      <td>-1</td>\n",
       "    </tr>\n",
       "    <tr>\n",
       "      <th>3</th>\n",
       "      <td>challenges</td>\n",
       "      <td>-1</td>\n",
       "    </tr>\n",
       "    <tr>\n",
       "      <th>4</th>\n",
       "      <td>challenging</td>\n",
       "      <td>-1</td>\n",
       "    </tr>\n",
       "  </tbody>\n",
       "</table>\n",
       "</div>"
      ],
      "text/plain": [
       "          Word  Score\n",
       "0        below     -1\n",
       "1    challenge     -1\n",
       "2   challenged     -1\n",
       "3   challenges     -1\n",
       "4  challenging     -1"
      ]
     },
     "execution_count": 9,
     "metadata": {},
     "output_type": "execute_result"
    }
   ],
   "source": [
    "henry = pd.read_excel('henry_wordlist.xlsx')\n",
    "henry['Word'] = henry['Word'].str.lower()\n",
    "henry.reset_index()\n",
    "henry.head(5)"
   ]
  },
  {
   "cell_type": "code",
   "execution_count": 10,
   "metadata": {},
   "outputs": [],
   "source": [
    "def get_first_value(dic, word):\n",
    "    ser = dic[dic['Word'] == word]['Score']\n",
    "    if len(ser) > 0:\n",
    "        return ser.iloc[0]\n",
    "    return 0"
   ]
  },
  {
   "cell_type": "code",
   "execution_count": 11,
   "metadata": {},
   "outputs": [
    {
     "data": {
      "text/plain": [
       "1"
      ]
     },
     "execution_count": 11,
     "metadata": {},
     "output_type": "execute_result"
    }
   ],
   "source": [
    "get_first_value(henry, 'good')"
   ]
  },
  {
   "cell_type": "code",
   "execution_count": 12,
   "metadata": {},
   "outputs": [
    {
     "data": {
      "text/plain": [
       "-1"
      ]
     },
     "execution_count": 12,
     "metadata": {},
     "output_type": "execute_result"
    }
   ],
   "source": [
    "get_first_value(henry, 'worse')"
   ]
  },
  {
   "cell_type": "markdown",
   "metadata": {},
   "source": [
    "# Load AFINN-111"
   ]
  },
  {
   "cell_type": "code",
   "execution_count": 13,
   "metadata": {},
   "outputs": [],
   "source": [
    "afinn = pd.read_csv(filepath_or_buffer='AFINN-111.txt', sep='\\t', header=None)"
   ]
  },
  {
   "cell_type": "code",
   "execution_count": 14,
   "metadata": {},
   "outputs": [],
   "source": [
    "afinn.rename(index=str, columns={0: \"Word\", 1: \"Score\"}, inplace=True)"
   ]
  },
  {
   "cell_type": "code",
   "execution_count": 15,
   "metadata": {},
   "outputs": [
    {
     "data": {
      "text/html": [
       "<div>\n",
       "<style>\n",
       "    .dataframe thead tr:only-child th {\n",
       "        text-align: right;\n",
       "    }\n",
       "\n",
       "    .dataframe thead th {\n",
       "        text-align: left;\n",
       "    }\n",
       "\n",
       "    .dataframe tbody tr th {\n",
       "        vertical-align: top;\n",
       "    }\n",
       "</style>\n",
       "<table border=\"1\" class=\"dataframe\">\n",
       "  <thead>\n",
       "    <tr style=\"text-align: right;\">\n",
       "      <th></th>\n",
       "      <th>Word</th>\n",
       "      <th>Score</th>\n",
       "    </tr>\n",
       "  </thead>\n",
       "  <tbody>\n",
       "    <tr>\n",
       "      <th>2472</th>\n",
       "      <td>yucky</td>\n",
       "      <td>-2</td>\n",
       "    </tr>\n",
       "    <tr>\n",
       "      <th>2473</th>\n",
       "      <td>yummy</td>\n",
       "      <td>3</td>\n",
       "    </tr>\n",
       "    <tr>\n",
       "      <th>2474</th>\n",
       "      <td>zealot</td>\n",
       "      <td>-2</td>\n",
       "    </tr>\n",
       "    <tr>\n",
       "      <th>2475</th>\n",
       "      <td>zealots</td>\n",
       "      <td>-2</td>\n",
       "    </tr>\n",
       "    <tr>\n",
       "      <th>2476</th>\n",
       "      <td>zealous</td>\n",
       "      <td>2</td>\n",
       "    </tr>\n",
       "  </tbody>\n",
       "</table>\n",
       "</div>"
      ],
      "text/plain": [
       "         Word  Score\n",
       "2472    yucky     -2\n",
       "2473    yummy      3\n",
       "2474   zealot     -2\n",
       "2475  zealots     -2\n",
       "2476  zealous      2"
      ]
     },
     "execution_count": 15,
     "metadata": {},
     "output_type": "execute_result"
    }
   ],
   "source": [
    "afinn.tail(5)"
   ]
  },
  {
   "cell_type": "code",
   "execution_count": 16,
   "metadata": {},
   "outputs": [
    {
     "data": {
      "text/plain": [
       "-4"
      ]
     },
     "execution_count": 16,
     "metadata": {},
     "output_type": "execute_result"
    }
   ],
   "source": [
    "get_first_value(afinn, 'shit')"
   ]
  },
  {
   "cell_type": "code",
   "execution_count": 17,
   "metadata": {},
   "outputs": [],
   "source": [
    "transcripts['NLP'] = transcripts['rawText'].apply(lambda val: nlp(val))"
   ]
  },
  {
   "cell_type": "code",
   "execution_count": 18,
   "metadata": {},
   "outputs": [],
   "source": [
    "transcripts['tokens'] = transcripts['NLP'].apply(lambda val: tokenize(val))"
   ]
  },
  {
   "cell_type": "code",
   "execution_count": 19,
   "metadata": {},
   "outputs": [],
   "source": [
    "from scipy.stats import itemfreq"
   ]
  },
  {
   "cell_type": "code",
   "execution_count": 20,
   "metadata": {},
   "outputs": [],
   "source": [
    "def build_score_for_tokens(tokens, dictionary):\n",
    "    score_pos, score_neg = 0, 0\n",
    "    token_pos, token_neg = [], []\n",
    "    for token in tokens:\n",
    "        temp_score = get_first_value(dictionary, token)\n",
    "        if temp_score > 0:\n",
    "            score_pos += temp_score\n",
    "            token_pos.append(token)\n",
    "        elif temp_score < 0:\n",
    "            score_neg += temp_score\n",
    "            token_neg.append(token)\n",
    "    return (score_pos, score_neg, score_pos + score_neg, itemfreq(token_pos), itemfreq(token_neg))"
   ]
  },
  {
   "cell_type": "code",
   "execution_count": 21,
   "metadata": {},
   "outputs": [],
   "source": [
    "transcripts['Sentiment Score'] = transcripts['tokens'].apply(lambda val: build_score_for_tokens(val, afinn))"
   ]
  },
  {
   "cell_type": "code",
   "execution_count": 22,
   "metadata": {},
   "outputs": [],
   "source": [
    "transcripts['Henry Tone'] = transcripts['tokens'].apply(lambda val: build_score_for_tokens(val, henry))"
   ]
  },
  {
   "cell_type": "code",
   "execution_count": 23,
   "metadata": {},
   "outputs": [],
   "source": [
    "transcripts['SS Ratio'] = transcripts['Sentiment Score'].apply(lambda row: row[0]/(-row[1]))"
   ]
  },
  {
   "cell_type": "code",
   "execution_count": 24,
   "metadata": {},
   "outputs": [],
   "source": [
    "transcripts['HTone Ratio'] = transcripts['Henry Tone'].apply(lambda row: row[0]/(-row[1]))"
   ]
  },
  {
   "cell_type": "code",
   "execution_count": 25,
   "metadata": {},
   "outputs": [
    {
     "data": {
      "text/html": [
       "<div>\n",
       "<style>\n",
       "    .dataframe thead tr:only-child th {\n",
       "        text-align: right;\n",
       "    }\n",
       "\n",
       "    .dataframe thead th {\n",
       "        text-align: left;\n",
       "    }\n",
       "\n",
       "    .dataframe tbody tr th {\n",
       "        vertical-align: top;\n",
       "    }\n",
       "</style>\n",
       "<table border=\"1\" class=\"dataframe\">\n",
       "  <thead>\n",
       "    <tr style=\"text-align: right;\">\n",
       "      <th></th>\n",
       "      <th>url</th>\n",
       "      <th>Sentiment Score</th>\n",
       "      <th>Henry Tone</th>\n",
       "      <th>h_tone</th>\n",
       "      <th>SS Ratio</th>\n",
       "      <th>HTone Ratio</th>\n",
       "    </tr>\n",
       "  </thead>\n",
       "  <tbody>\n",
       "    <tr>\n",
       "      <th>0</th>\n",
       "      <td>https://seekingalpha.com/article/1363811-us-ai...</td>\n",
       "      <td>(486, -167, 319, [[ability, 1], [agree, 1], [a...</td>\n",
       "      <td>(135, -44, 91, [[achieve, 2], [certain, 4], [d...</td>\n",
       "      <td>{'positiveCount': 203, 'negativeCount': 75}</td>\n",
       "      <td>2.910180</td>\n",
       "      <td>3.068182</td>\n",
       "    </tr>\n",
       "    <tr>\n",
       "      <th>1</th>\n",
       "      <td>https://seekingalpha.com/article/1129431-apple...</td>\n",
       "      <td>(645, -97, 548, [[ability, 1], [accomplish, 2]...</td>\n",
       "      <td>(203, -20, 183, [[accomplish, 2], [achieve, 10...</td>\n",
       "      <td>{'positiveCount': 236, 'negativeCount': 30}</td>\n",
       "      <td>6.649485</td>\n",
       "      <td>10.150000</td>\n",
       "    </tr>\n",
       "    <tr>\n",
       "      <th>2</th>\n",
       "      <td>https://seekingalpha.com/article/1287941-adobe...</td>\n",
       "      <td>(626, -39, 587, [[adopt, 1], [advanced, 1], [a...</td>\n",
       "      <td>(148, -14, 134, [[achieve, 12], [beat, 2], [ce...</td>\n",
       "      <td>{'positiveCount': 170, 'negativeCount': 16}</td>\n",
       "      <td>16.051282</td>\n",
       "      <td>10.571429</td>\n",
       "    </tr>\n",
       "    <tr>\n",
       "      <th>3</th>\n",
       "      <td>https://seekingalpha.com/article/2711985-analo...</td>\n",
       "      <td>(622, -103, 519, [[ability, 2], [active, 3], [...</td>\n",
       "      <td>(215, -47, 168, [[certain, 4], [deliver, 8], [...</td>\n",
       "      <td>{'positiveCount': 248, 'negativeCount': 62}</td>\n",
       "      <td>6.038835</td>\n",
       "      <td>4.574468</td>\n",
       "    </tr>\n",
       "    <tr>\n",
       "      <th>4</th>\n",
       "      <td>https://seekingalpha.com/article/2885106-autom...</td>\n",
       "      <td>(1149, -135, 1014, [[ability, 7], [advanced, 1...</td>\n",
       "      <td>(347, -50, 297, [[above, 1], [achieve, 3], [ce...</td>\n",
       "      <td>{'positiveCount': 411, 'negativeCount': 59}</td>\n",
       "      <td>8.511111</td>\n",
       "      <td>6.940000</td>\n",
       "    </tr>\n",
       "    <tr>\n",
       "      <th>5</th>\n",
       "      <td>https://seekingalpha.com/article/2425545-autod...</td>\n",
       "      <td>(604, -63, 541, [[ability, 1], [accept, 1], [a...</td>\n",
       "      <td>(162, -15, 147, [[accomplish, 1], [certain, 1]...</td>\n",
       "      <td>{'positiveCount': 196, 'negativeCount': 23}</td>\n",
       "      <td>9.587302</td>\n",
       "      <td>10.800000</td>\n",
       "    </tr>\n",
       "    <tr>\n",
       "      <th>6</th>\n",
       "      <td>https://seekingalpha.com/article/2700495-autod...</td>\n",
       "      <td>(500, -59, 441, [[accept, 1], [active, 2], [ad...</td>\n",
       "      <td>(146, -20, 126, [[best, 1], [certain, 2], [del...</td>\n",
       "      <td>{'positiveCount': 202, 'negativeCount': 29}</td>\n",
       "      <td>8.474576</td>\n",
       "      <td>7.300000</td>\n",
       "    </tr>\n",
       "    <tr>\n",
       "      <th>7</th>\n",
       "      <td>https://seekingalpha.com/article/2957556-autod...</td>\n",
       "      <td>(649, -63, 586, [[ability, 1], [accept, 1], [a...</td>\n",
       "      <td>(182, -19, 163, [[beat, 1], [certain, 3], [del...</td>\n",
       "      <td>{'positiveCount': 238, 'negativeCount': 30}</td>\n",
       "      <td>10.301587</td>\n",
       "      <td>9.578947</td>\n",
       "    </tr>\n",
       "    <tr>\n",
       "      <th>8</th>\n",
       "      <td>https://seekingalpha.com/article/3197526-autod...</td>\n",
       "      <td>(591, -77, 514, [[accept, 1], [adopt, 3], [all...</td>\n",
       "      <td>(147, -23, 124, [[achieve, 1], [beat, 1], [cer...</td>\n",
       "      <td>{'positiveCount': 191, 'negativeCount': 38}</td>\n",
       "      <td>7.675325</td>\n",
       "      <td>6.391304</td>\n",
       "    </tr>\n",
       "    <tr>\n",
       "      <th>9</th>\n",
       "      <td>https://seekingalpha.com/article/3473396-autod...</td>\n",
       "      <td>(618, -95, 523, [[accept, 1], [active, 1], [ad...</td>\n",
       "      <td>(151, -26, 125, [[achieve, 1], [certain, 1], [...</td>\n",
       "      <td>{'positiveCount': 198, 'negativeCount': 31}</td>\n",
       "      <td>6.505263</td>\n",
       "      <td>5.807692</td>\n",
       "    </tr>\n",
       "    <tr>\n",
       "      <th>10</th>\n",
       "      <td>https://seekingalpha.com/article/3700786-autod...</td>\n",
       "      <td>(626, -60, 566, [[accept, 2], [active, 1], [ad...</td>\n",
       "      <td>(158, -31, 127, [[achieve, 1], [certain, 1], [...</td>\n",
       "      <td>{'positiveCount': 207, 'negativeCount': 50}</td>\n",
       "      <td>10.433333</td>\n",
       "      <td>5.096774</td>\n",
       "    </tr>\n",
       "    <tr>\n",
       "      <th>11</th>\n",
       "      <td>https://seekingalpha.com/article/3933036-autod...</td>\n",
       "      <td>(769, -115, 654, [[ability, 5], [accept, 1], [...</td>\n",
       "      <td>(219, -39, 180, [[accomplish, 1], [accomplishm...</td>\n",
       "      <td>{'positiveCount': 299, 'negativeCount': 53}</td>\n",
       "      <td>6.686957</td>\n",
       "      <td>5.615385</td>\n",
       "    </tr>\n",
       "    <tr>\n",
       "      <th>12</th>\n",
       "      <td>https://seekingalpha.com/article/3976697-autod...</td>\n",
       "      <td>(532, -51, 481, [[ability, 1], [accepted, 1], ...</td>\n",
       "      <td>(144, -34, 110, [[accomplish, 1], [deliver, 1]...</td>\n",
       "      <td>{'positiveCount': 199, 'negativeCount': 47}</td>\n",
       "      <td>10.431373</td>\n",
       "      <td>4.235294</td>\n",
       "    </tr>\n",
       "    <tr>\n",
       "      <th>13</th>\n",
       "      <td>https://seekingalpha.com/article/4002268-autod...</td>\n",
       "      <td>(596, -62, 534, [[ability, 1], [accept, 1], [a...</td>\n",
       "      <td>(192, -38, 154, [[accomplish, 1], [certain, 5]...</td>\n",
       "      <td>{'positiveCount': 237, 'negativeCount': 52}</td>\n",
       "      <td>9.612903</td>\n",
       "      <td>5.052632</td>\n",
       "    </tr>\n",
       "    <tr>\n",
       "      <th>14</th>\n",
       "      <td>https://seekingalpha.com/article/1935441-bed-b...</td>\n",
       "      <td>(218, -26, 192, [[advantage, 1], [allow, 3], [...</td>\n",
       "      <td>(76, -14, 62, [[achieve, 1], [good, 4], [grow,...</td>\n",
       "      <td>{'positiveCount': 82, 'negativeCount': 18}</td>\n",
       "      <td>8.384615</td>\n",
       "      <td>5.428571</td>\n",
       "    </tr>\n",
       "    <tr>\n",
       "      <th>15</th>\n",
       "      <td>https://seekingalpha.com/article/80219-ross-st...</td>\n",
       "      <td>(64, -21, 43, [[ability, 5], [attract, 1], [ba...</td>\n",
       "      <td>(26, -8, 18, [[achieve, 1], [deliver, 1], [exc...</td>\n",
       "      <td>{'positiveCount': 27, 'negativeCount': 9}</td>\n",
       "      <td>3.047619</td>\n",
       "      <td>3.250000</td>\n",
       "    </tr>\n",
       "    <tr>\n",
       "      <th>16</th>\n",
       "      <td>https://seekingalpha.com/article/4027140-autod...</td>\n",
       "      <td>(547, -39, 508, [[ability, 3], [accept, 1], [a...</td>\n",
       "      <td>(167, -31, 136, [[accomplish, 1], [achieve, 3]...</td>\n",
       "      <td>{'positiveCount': 220, 'negativeCount': 42}</td>\n",
       "      <td>14.025641</td>\n",
       "      <td>5.387097</td>\n",
       "    </tr>\n",
       "    <tr>\n",
       "      <th>17</th>\n",
       "      <td>https://seekingalpha.com/article/4051716-autod...</td>\n",
       "      <td>(733, -72, 661, [[ability, 3], [accept, 1], [a...</td>\n",
       "      <td>(231, -20, 211, [[accomplish, 3], [achieve, 2]...</td>\n",
       "      <td>{'positiveCount': 284, 'negativeCount': 33}</td>\n",
       "      <td>10.180556</td>\n",
       "      <td>11.550000</td>\n",
       "    </tr>\n",
       "    <tr>\n",
       "      <th>18</th>\n",
       "      <td>https://seekingalpha.com/article/4074589-autod...</td>\n",
       "      <td>(684, -47, 637, [[ability, 5], [accept, 1], [a...</td>\n",
       "      <td>(201, -33, 168, [[accomplish, 1], [achieve, 4]...</td>\n",
       "      <td>{'positiveCount': 259, 'negativeCount': 52}</td>\n",
       "      <td>14.553191</td>\n",
       "      <td>6.090909</td>\n",
       "    </tr>\n",
       "    <tr>\n",
       "      <th>19</th>\n",
       "      <td>https://seekingalpha.com/article/3123336-autom...</td>\n",
       "      <td>(1074, -110, 964, [[ability, 1], [accept, 1], ...</td>\n",
       "      <td>(325, -37, 288, [[accomplish, 1], [achieve, 2]...</td>\n",
       "      <td>{'positiveCount': 367, 'negativeCount': 51}</td>\n",
       "      <td>9.763636</td>\n",
       "      <td>8.783784</td>\n",
       "    </tr>\n",
       "  </tbody>\n",
       "</table>\n",
       "</div>"
      ],
      "text/plain": [
       "                                                  url  \\\n",
       "0   https://seekingalpha.com/article/1363811-us-ai...   \n",
       "1   https://seekingalpha.com/article/1129431-apple...   \n",
       "2   https://seekingalpha.com/article/1287941-adobe...   \n",
       "3   https://seekingalpha.com/article/2711985-analo...   \n",
       "4   https://seekingalpha.com/article/2885106-autom...   \n",
       "5   https://seekingalpha.com/article/2425545-autod...   \n",
       "6   https://seekingalpha.com/article/2700495-autod...   \n",
       "7   https://seekingalpha.com/article/2957556-autod...   \n",
       "8   https://seekingalpha.com/article/3197526-autod...   \n",
       "9   https://seekingalpha.com/article/3473396-autod...   \n",
       "10  https://seekingalpha.com/article/3700786-autod...   \n",
       "11  https://seekingalpha.com/article/3933036-autod...   \n",
       "12  https://seekingalpha.com/article/3976697-autod...   \n",
       "13  https://seekingalpha.com/article/4002268-autod...   \n",
       "14  https://seekingalpha.com/article/1935441-bed-b...   \n",
       "15  https://seekingalpha.com/article/80219-ross-st...   \n",
       "16  https://seekingalpha.com/article/4027140-autod...   \n",
       "17  https://seekingalpha.com/article/4051716-autod...   \n",
       "18  https://seekingalpha.com/article/4074589-autod...   \n",
       "19  https://seekingalpha.com/article/3123336-autom...   \n",
       "\n",
       "                                      Sentiment Score  \\\n",
       "0   (486, -167, 319, [[ability, 1], [agree, 1], [a...   \n",
       "1   (645, -97, 548, [[ability, 1], [accomplish, 2]...   \n",
       "2   (626, -39, 587, [[adopt, 1], [advanced, 1], [a...   \n",
       "3   (622, -103, 519, [[ability, 2], [active, 3], [...   \n",
       "4   (1149, -135, 1014, [[ability, 7], [advanced, 1...   \n",
       "5   (604, -63, 541, [[ability, 1], [accept, 1], [a...   \n",
       "6   (500, -59, 441, [[accept, 1], [active, 2], [ad...   \n",
       "7   (649, -63, 586, [[ability, 1], [accept, 1], [a...   \n",
       "8   (591, -77, 514, [[accept, 1], [adopt, 3], [all...   \n",
       "9   (618, -95, 523, [[accept, 1], [active, 1], [ad...   \n",
       "10  (626, -60, 566, [[accept, 2], [active, 1], [ad...   \n",
       "11  (769, -115, 654, [[ability, 5], [accept, 1], [...   \n",
       "12  (532, -51, 481, [[ability, 1], [accepted, 1], ...   \n",
       "13  (596, -62, 534, [[ability, 1], [accept, 1], [a...   \n",
       "14  (218, -26, 192, [[advantage, 1], [allow, 3], [...   \n",
       "15  (64, -21, 43, [[ability, 5], [attract, 1], [ba...   \n",
       "16  (547, -39, 508, [[ability, 3], [accept, 1], [a...   \n",
       "17  (733, -72, 661, [[ability, 3], [accept, 1], [a...   \n",
       "18  (684, -47, 637, [[ability, 5], [accept, 1], [a...   \n",
       "19  (1074, -110, 964, [[ability, 1], [accept, 1], ...   \n",
       "\n",
       "                                           Henry Tone  \\\n",
       "0   (135, -44, 91, [[achieve, 2], [certain, 4], [d...   \n",
       "1   (203, -20, 183, [[accomplish, 2], [achieve, 10...   \n",
       "2   (148, -14, 134, [[achieve, 12], [beat, 2], [ce...   \n",
       "3   (215, -47, 168, [[certain, 4], [deliver, 8], [...   \n",
       "4   (347, -50, 297, [[above, 1], [achieve, 3], [ce...   \n",
       "5   (162, -15, 147, [[accomplish, 1], [certain, 1]...   \n",
       "6   (146, -20, 126, [[best, 1], [certain, 2], [del...   \n",
       "7   (182, -19, 163, [[beat, 1], [certain, 3], [del...   \n",
       "8   (147, -23, 124, [[achieve, 1], [beat, 1], [cer...   \n",
       "9   (151, -26, 125, [[achieve, 1], [certain, 1], [...   \n",
       "10  (158, -31, 127, [[achieve, 1], [certain, 1], [...   \n",
       "11  (219, -39, 180, [[accomplish, 1], [accomplishm...   \n",
       "12  (144, -34, 110, [[accomplish, 1], [deliver, 1]...   \n",
       "13  (192, -38, 154, [[accomplish, 1], [certain, 5]...   \n",
       "14  (76, -14, 62, [[achieve, 1], [good, 4], [grow,...   \n",
       "15  (26, -8, 18, [[achieve, 1], [deliver, 1], [exc...   \n",
       "16  (167, -31, 136, [[accomplish, 1], [achieve, 3]...   \n",
       "17  (231, -20, 211, [[accomplish, 3], [achieve, 2]...   \n",
       "18  (201, -33, 168, [[accomplish, 1], [achieve, 4]...   \n",
       "19  (325, -37, 288, [[accomplish, 1], [achieve, 2]...   \n",
       "\n",
       "                                         h_tone   SS Ratio  HTone Ratio  \n",
       "0   {'positiveCount': 203, 'negativeCount': 75}   2.910180     3.068182  \n",
       "1   {'positiveCount': 236, 'negativeCount': 30}   6.649485    10.150000  \n",
       "2   {'positiveCount': 170, 'negativeCount': 16}  16.051282    10.571429  \n",
       "3   {'positiveCount': 248, 'negativeCount': 62}   6.038835     4.574468  \n",
       "4   {'positiveCount': 411, 'negativeCount': 59}   8.511111     6.940000  \n",
       "5   {'positiveCount': 196, 'negativeCount': 23}   9.587302    10.800000  \n",
       "6   {'positiveCount': 202, 'negativeCount': 29}   8.474576     7.300000  \n",
       "7   {'positiveCount': 238, 'negativeCount': 30}  10.301587     9.578947  \n",
       "8   {'positiveCount': 191, 'negativeCount': 38}   7.675325     6.391304  \n",
       "9   {'positiveCount': 198, 'negativeCount': 31}   6.505263     5.807692  \n",
       "10  {'positiveCount': 207, 'negativeCount': 50}  10.433333     5.096774  \n",
       "11  {'positiveCount': 299, 'negativeCount': 53}   6.686957     5.615385  \n",
       "12  {'positiveCount': 199, 'negativeCount': 47}  10.431373     4.235294  \n",
       "13  {'positiveCount': 237, 'negativeCount': 52}   9.612903     5.052632  \n",
       "14   {'positiveCount': 82, 'negativeCount': 18}   8.384615     5.428571  \n",
       "15    {'positiveCount': 27, 'negativeCount': 9}   3.047619     3.250000  \n",
       "16  {'positiveCount': 220, 'negativeCount': 42}  14.025641     5.387097  \n",
       "17  {'positiveCount': 284, 'negativeCount': 33}  10.180556    11.550000  \n",
       "18  {'positiveCount': 259, 'negativeCount': 52}  14.553191     6.090909  \n",
       "19  {'positiveCount': 367, 'negativeCount': 51}   9.763636     8.783784  "
      ]
     },
     "execution_count": 25,
     "metadata": {},
     "output_type": "execute_result"
    }
   ],
   "source": [
    "transcripts[['url', 'Sentiment Score', 'Henry Tone', 'h_tone', 'SS Ratio', 'HTone Ratio']]"
   ]
  },
  {
   "cell_type": "markdown",
   "metadata": {},
   "source": [
    "### Smaller sentiment score ratio"
   ]
  },
  {
   "cell_type": "code",
   "execution_count": 26,
   "metadata": {},
   "outputs": [
    {
     "data": {
      "text/plain": [
       "0     https://seekingalpha.com/article/1363811-us-ai...\n",
       "1     https://seekingalpha.com/article/1129431-apple...\n",
       "5     https://seekingalpha.com/article/2425545-autod...\n",
       "15    https://seekingalpha.com/article/80219-ross-st...\n",
       "17    https://seekingalpha.com/article/4051716-autod...\n",
       "Name: url, dtype: object"
      ]
     },
     "execution_count": 26,
     "metadata": {},
     "output_type": "execute_result"
    }
   ],
   "source": [
    "transcripts[transcripts['SS Ratio'] < transcripts['HTone Ratio']]['url']"
   ]
  },
  {
   "cell_type": "markdown",
   "metadata": {},
   "source": [
    "### Much bigger sentiment score ratio"
   ]
  },
  {
   "cell_type": "code",
   "execution_count": 27,
   "metadata": {},
   "outputs": [
    {
     "data": {
      "text/plain": [
       "10    https://seekingalpha.com/article/3700786-autod...\n",
       "12    https://seekingalpha.com/article/3976697-autod...\n",
       "16    https://seekingalpha.com/article/4027140-autod...\n",
       "18    https://seekingalpha.com/article/4074589-autod...\n",
       "Name: url, dtype: object"
      ]
     },
     "execution_count": 27,
     "metadata": {},
     "output_type": "execute_result"
    }
   ],
   "source": [
    "transcripts[(transcripts['SS Ratio'] / transcripts['HTone Ratio']) > 2]['url']"
   ]
  },
  {
   "cell_type": "markdown",
   "metadata": {},
   "source": [
    "### Outlier discovery"
   ]
  },
  {
   "cell_type": "code",
   "execution_count": 28,
   "metadata": {},
   "outputs": [],
   "source": [
    "def discovery(id_):\n",
    "    positive_histo = transcripts.loc[id_]['Sentiment Score'][3]\n",
    "    negative_histo = transcripts.loc[id_]['Sentiment Score'][4]\n",
    "    print('========================\\nSentiment positive words with counts:\\n')\n",
    "    print(np.array(sorted(positive_histo, key=lambda var: int(var[1]), reverse=True)))\n",
    "    print('========================\\nSentiment negative words with counts:\\n')\n",
    "    print(np.array(sorted(negative_histo, key=lambda var: int(var[1]), reverse=True)))\n",
    "    \n",
    "    positive_histo = transcripts.loc[id_]['Henry Tone'][3]\n",
    "    negative_histo = transcripts.loc[id_]['Henry Tone'][4]\n",
    "    print('========================\\nHenry positive words with counts:\\n')\n",
    "    print(np.array(sorted(positive_histo, key=lambda var: int(var[1]), reverse=True)))\n",
    "    print('========================\\nHenry negative words with counts:\\n')\n",
    "    print(np.array(sorted(negative_histo, key=lambda var: int(var[1]), reverse=True)))"
   ]
  },
  {
   "cell_type": "code",
   "execution_count": 30,
   "metadata": {},
   "outputs": [
    {
     "name": "stdout",
     "output_type": "stream",
     "text": [
      "========================\n",
      "Sentiment positive words with counts:\n",
      "\n",
      "[['thank' '36']\n",
      " ['increase' '26']\n",
      " ['good' '24']\n",
      " ['want' '19']\n",
      " ['growth' '18']\n",
      " ['strong' '15']\n",
      " ['great' '13']\n",
      " ['opportunity' '12']\n",
      " ['big' '11']\n",
      " ['kind' '8']\n",
      " ['prepared' '8']\n",
      " ['share' '8']\n",
      " ['adopt' '7']\n",
      " ['clear' '6']\n",
      " ['like' '6']\n",
      " ['strength' '6']\n",
      " ['ability' '5']\n",
      " ['expand' '5']\n",
      " ['help' '5']\n",
      " ['positive' '5']\n",
      " ['significant' '5']\n",
      " ['competitive' '4']\n",
      " ['confident' '4']\n",
      " ['grant' '4']\n",
      " ['important' '4']\n",
      " ['progress' '4']\n",
      " ['solution' '4']\n",
      " ['success' '4']\n",
      " ['successful' '4']\n",
      " ['win' '4']\n",
      " ['benefit' '3']\n",
      " ['confidence' '3']\n",
      " ['ensure' '3']\n",
      " ['excellent' '3']\n",
      " ['interesting' '3']\n",
      " ['mature' '3']\n",
      " ['reach' '3']\n",
      " ['true' '3']\n",
      " ['achievable' '2']\n",
      " ['agree' '2']\n",
      " ['boost' '2']\n",
      " ['comfortable' '2']\n",
      " ['committed' '2']\n",
      " ['encourage' '2']\n",
      " ['engage' '2']\n",
      " ['extend' '2']\n",
      " ['highlight' '2']\n",
      " ['huge' '2']\n",
      " ['impressive' '2']\n",
      " ['loyalty' '2']\n",
      " ['meaningful' '2']\n",
      " ['nice' '2']\n",
      " ['perfect' '2']\n",
      " ['pleased' '2']\n",
      " ['yeah' '2']\n",
      " ['accept' '1']\n",
      " ['accomplish' '1']\n",
      " ['active' '1']\n",
      " ['advantage' '1']\n",
      " ['agreement' '1']\n",
      " ['allow' '1']\n",
      " ['clarity' '1']\n",
      " ['commit' '1']\n",
      " ['commitment' '1']\n",
      " ['cool' '1']\n",
      " ['curious' '1']\n",
      " ['effective' '1']\n",
      " ['excited' '1']\n",
      " ['fair' '1']\n",
      " ['focused' '1']\n",
      " ['gain' '1']\n",
      " ['guarantee' '1']\n",
      " ['happy' '1']\n",
      " ['helpful' '1']\n",
      " ['improve' '1']\n",
      " ['improvement' '1']\n",
      " ['interested' '1']\n",
      " ['join' '1']\n",
      " ['love' '1']\n",
      " ['peace' '1']\n",
      " ['protect' '1']\n",
      " ['proud' '1']\n",
      " ['save' '1']\n",
      " ['solid' '1']\n",
      " ['super' '1']\n",
      " ['support' '1']\n",
      " ['top' '1']\n",
      " ['welcome' '1']\n",
      " ['wish' '1']\n",
      " ['worth' '1']]\n",
      "========================\n",
      "Sentiment negative words with counts:\n",
      "\n",
      "[['pay' '7']\n",
      " ['demand' '3']\n",
      " ['pressure' '3']\n",
      " ['defer' '2']\n",
      " ['hard' '2']\n",
      " ['leave' '2']\n",
      " ['sorry' '2']\n",
      " ['aggressive' '1']\n",
      " ['disruptive' '1']\n",
      " ['downside' '1']\n",
      " ['errors' '1']\n",
      " ['exaggerated' '1']\n",
      " ['gross' '1']\n",
      " ['insignificant' '1']\n",
      " ['negative' '1']\n",
      " ['risk' '1']\n",
      " ['skeptical' '1']\n",
      " ['stop' '1']\n",
      " ['weak' '1']\n",
      " ['worried' '1']]\n",
      "========================\n",
      "Henry positive words with counts:\n",
      "\n",
      "[['increase' '26']\n",
      " ['good' '24']\n",
      " ['more' '22']\n",
      " ['growth' '18']\n",
      " ['strong' '15']\n",
      " ['grow' '12']\n",
      " ['opportunity' '12']\n",
      " ['high' '8']\n",
      " ['record' '6']\n",
      " ['strength' '6']\n",
      " ['up' '6']\n",
      " ['expand' '5']\n",
      " ['most' '5']\n",
      " ['positive' '5']\n",
      " ['achieve' '4']\n",
      " ['progress' '4']\n",
      " ['success' '4']\n",
      " ['successful' '4']\n",
      " ['excellent' '3']\n",
      " ['expansion' '3']\n",
      " ['deliver' '2']\n",
      " ['pleased' '2']\n",
      " ['accomplish' '1']\n",
      " ['improve' '1']\n",
      " ['improvement' '1']\n",
      " ['leader' '1']\n",
      " ['solid' '1']]\n",
      "========================\n",
      "Henry negative words with counts:\n",
      "\n",
      "[['decline' '11']\n",
      " ['less' '5']\n",
      " ['low' '5']\n",
      " ['difficulty' '4']\n",
      " ['decrease' '3']\n",
      " ['down' '2']\n",
      " ['negative' '1']\n",
      " ['risk' '1']\n",
      " ['weak' '1']]\n"
     ]
    }
   ],
   "source": [
    "discovery(18)"
   ]
  }
 ],
 "metadata": {
  "kernelspec": {
   "display_name": "Python 3",
   "language": "python",
   "name": "python3"
  },
  "language_info": {
   "codemirror_mode": {
    "name": "ipython",
    "version": 3
   },
   "file_extension": ".py",
   "mimetype": "text/x-python",
   "name": "python",
   "nbconvert_exporter": "python",
   "pygments_lexer": "ipython3",
   "version": "3.6.1"
  }
 },
 "nbformat": 4,
 "nbformat_minor": 2
}
