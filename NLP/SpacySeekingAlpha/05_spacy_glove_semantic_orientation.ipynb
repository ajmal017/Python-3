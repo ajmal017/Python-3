{
 "cells": [
  {
   "cell_type": "code",
   "execution_count": 1,
   "metadata": {},
   "outputs": [],
   "source": [
    "import pandas as pd\n",
    "import numpy as np\n",
    "import matplotlib.pyplot as plt\n",
    "import seaborn as sns\n",
    "%matplotlib inline"
   ]
  },
  {
   "cell_type": "code",
   "execution_count": 2,
   "metadata": {},
   "outputs": [],
   "source": [
    "from pymongo import MongoClient\n",
    "from spacy.en import English\n",
    "import spacy"
   ]
  },
  {
   "cell_type": "code",
   "execution_count": 3,
   "metadata": {},
   "outputs": [],
   "source": [
    "import textacy"
   ]
  },
  {
   "cell_type": "code",
   "execution_count": 4,
   "metadata": {},
   "outputs": [],
   "source": [
    "client = MongoClient('localhost', 27017)\n",
    "db = client.python_import\n",
    "collection = db.earnings_transcript_NAS100"
   ]
  },
  {
   "cell_type": "code",
   "execution_count": 5,
   "metadata": {},
   "outputs": [],
   "source": [
    "transcripts = pd.DataFrame(list(collection.find({'tradingSymbol':'AAPL'})))"
   ]
  },
  {
   "cell_type": "markdown",
   "metadata": {},
   "source": [
    "# Build, save, load corpus"
   ]
  },
  {
   "cell_type": "code",
   "execution_count": 6,
   "metadata": {},
   "outputs": [],
   "source": [
    "corp = textacy.corpus.Corpus(lang='en')"
   ]
  },
  {
   "cell_type": "code",
   "execution_count": 7,
   "metadata": {},
   "outputs": [
    {
     "data": {
      "text/plain": [
       "Corpus(43 docs; 430986 tokens)"
      ]
     },
     "execution_count": 7,
     "metadata": {},
     "output_type": "execute_result"
    }
   ],
   "source": [
    "[corp.add_doc(doc) for doc in transcripts['rawText'].apply(lambda row: textacy.Doc(textacy.preprocess.fix_bad_unicode(row)))]\n",
    "corp"
   ]
  },
  {
   "cell_type": "code",
   "execution_count": 8,
   "metadata": {},
   "outputs": [],
   "source": [
    "corp.save(path='./data', name='apple-corpus', compression=None)"
   ]
  },
  {
   "cell_type": "code",
   "execution_count": 9,
   "metadata": {},
   "outputs": [
    {
     "data": {
      "text/plain": [
       "Corpus(43 docs; 430986 tokens)"
      ]
     },
     "execution_count": 9,
     "metadata": {},
     "output_type": "execute_result"
    }
   ],
   "source": [
    "corp = corp.load(path='./data', name='apple-corpus')\n",
    "corp"
   ]
  },
  {
   "cell_type": "code",
   "execution_count": 10,
   "metadata": {},
   "outputs": [],
   "source": [
    "freqs = corp.word_freqs(as_strings=True)"
   ]
  },
  {
   "cell_type": "code",
   "execution_count": 11,
   "metadata": {},
   "outputs": [],
   "source": [
    "import collections"
   ]
  },
  {
   "cell_type": "code",
   "execution_count": 12,
   "metadata": {},
   "outputs": [
    {
     "data": {
      "text/plain": [
       "[('-PRON-', 30294),\n",
       " ('quarter', 3887),\n",
       " ('year', 2758),\n",
       " ('iphone', 2227),\n",
       " ('$', 1813),\n",
       " ('think', 1589),\n",
       " ('product', 1351),\n",
       " ('apple', 1350),\n",
       " ('thank', 1345),\n",
       " ('million', 1264),\n",
       " ('question', 1260),\n",
       " ('revenue', 1241),\n",
       " ('billion', 1233),\n",
       " ('market', 1229),\n",
       " ('ipad', 1208),\n",
       " ('new', 1187),\n",
       " ('store', 1120),\n",
       " ('sale', 999),\n",
       " ('customer', 999),\n",
       " ('look', 985)]"
      ]
     },
     "execution_count": 12,
     "metadata": {},
     "output_type": "execute_result"
    }
   ],
   "source": [
    "collections.Counter(freqs).most_common(20)"
   ]
  },
  {
   "cell_type": "code",
   "execution_count": 13,
   "metadata": {},
   "outputs": [],
   "source": [
    "dm = textacy.data.load_depechemood(download_if_missing=True)"
   ]
  },
  {
   "cell_type": "code",
   "execution_count": 14,
   "metadata": {},
   "outputs": [
    {
     "data": {
      "text/plain": [
       "[Apple,\n",
       " Inc.,\n",
       " NASDAQ,\n",
       " AAPL,\n",
       " Q4,\n",
       " 2016,\n",
       " Earnings,\n",
       " October,\n",
       " 25,\n",
       " 2016,\n",
       " 5:00,\n",
       " pm,\n",
       " ET,\n",
       " Executives,\n",
       " Nancy,\n",
       " Paxton,\n",
       " Apple,\n",
       " Inc.,\n",
       " Timothy,\n",
       " Donald]"
      ]
     },
     "execution_count": 14,
     "metadata": {},
     "output_type": "execute_result"
    }
   ],
   "source": [
    "words_of_first_doc = list([textacy.extract.words(doc) for doc in corp][1])\n",
    "words_of_first_doc[0:20]"
   ]
  },
  {
   "cell_type": "code",
   "execution_count": 15,
   "metadata": {},
   "outputs": [
    {
     "data": {
      "text/plain": [
       "defaultdict(float,\n",
       "            {'AFRAID': 0.1172795748547371,\n",
       "             'AMUSED': 0.13616051265908996,\n",
       "             'ANGRY': 0.10357801449735822,\n",
       "             'ANNOYED': 0.1165875946666659,\n",
       "             'DONT_CARE': 0.13534531386317208,\n",
       "             'HAPPY': 0.1367107607250905,\n",
       "             'INSPIRED': 0.14145133531040147,\n",
       "             'SAD': 0.11541316142221529})"
      ]
     },
     "execution_count": 15,
     "metadata": {},
     "output_type": "execute_result"
    }
   ],
   "source": [
    "textacy.lexicon_methods.emotional_valence(words_of_first_doc)"
   ]
  },
  {
   "cell_type": "code",
   "execution_count": 16,
   "metadata": {},
   "outputs": [],
   "source": [
    "from sklearn.metrics.pairwise import cosine_similarity"
   ]
  },
  {
   "cell_type": "code",
   "execution_count": 17,
   "metadata": {},
   "outputs": [
    {
     "data": {
      "text/plain": [
       "0.074094095347881986"
      ]
     },
     "execution_count": 17,
     "metadata": {},
     "output_type": "execute_result"
    }
   ],
   "source": [
    "corp[0][0].similarity(corp[0][3])"
   ]
  },
  {
   "cell_type": "code",
   "execution_count": 18,
   "metadata": {},
   "outputs": [
    {
     "data": {
      "text/plain": [
       "(43, 300)"
      ]
     },
     "execution_count": 18,
     "metadata": {},
     "output_type": "execute_result"
    }
   ],
   "source": [
    "corp.vectors.shape"
   ]
  },
  {
   "cell_type": "code",
   "execution_count": 19,
   "metadata": {},
   "outputs": [
    {
     "data": {
      "text/plain": [
       "22"
      ]
     },
     "execution_count": 19,
     "metadata": {},
     "output_type": "execute_result"
    }
   ],
   "source": [
    "corp.word_doc_freqs(as_strings=True)['imply']"
   ]
  },
  {
   "cell_type": "code",
   "execution_count": 20,
   "metadata": {},
   "outputs": [
    {
     "data": {
      "text/plain": [
       "38"
      ]
     },
     "execution_count": 20,
     "metadata": {},
     "output_type": "execute_result"
    }
   ],
   "source": [
    "corp.word_freqs(as_strings=True)['imply']"
   ]
  },
  {
   "cell_type": "code",
   "execution_count": 64,
   "metadata": {},
   "outputs": [
    {
     "data": {
      "text/plain": [
       "['imply',\n",
       " 'metric',\n",
       " 'unique',\n",
       " 'withhold',\n",
       " 'productive',\n",
       " '201',\n",
       " 'appeal',\n",
       " 'discuss',\n",
       " 'remark',\n",
       " 'operator',\n",
       " 'app',\n",
       " 'fresh',\n",
       " 'mix',\n",
       " 'opening',\n",
       " 'momentum',\n",
       " 'fantastic',\n",
       " 'upgrader',\n",
       " 'developer',\n",
       " 'usage',\n",
       " 'radical']"
      ]
     },
     "execution_count": 64,
     "metadata": {},
     "output_type": "execute_result"
    }
   ],
   "source": [
    "[key for key in freqs.keys()][0:20]"
   ]
  },
  {
   "cell_type": "code",
   "execution_count": 77,
   "metadata": {},
   "outputs": [],
   "source": [
    "def most_similar(word: spacy.tokens.Token, top_n=10):\n",
    "    queries = [w for w in corp.spacy_vocab if w.prob >= -15]\n",
    "    by_similarity = sorted(queries, key=lambda w: word.similarity(w), reverse=True)\n",
    "    return [item.lower_ for item in by_similarity[:top_n]]"
   ]
  },
  {
   "cell_type": "code",
   "execution_count": 78,
   "metadata": {},
   "outputs": [
    {
     "data": {
      "text/plain": [
       "['design',\n",
       " 'designs',\n",
       " 'designed',\n",
       " 'designers',\n",
       " 'designer',\n",
       " 'layout',\n",
       " 'architecture',\n",
       " 'graphic',\n",
       " 'style',\n",
       " 'construction',\n",
       " 'concept',\n",
       " 'engineering',\n",
       " 'custom',\n",
       " 'creative',\n",
       " 'unique',\n",
       " 'modern',\n",
       " 'art',\n",
       " 'art',\n",
       " 'development',\n",
       " 'technology',\n",
       " 'logo',\n",
       " 'project',\n",
       " 'project',\n",
       " 'fashion',\n",
       " 'concepts',\n",
       " 'shape',\n",
       " 'projects',\n",
       " 'inspired',\n",
       " 'detail',\n",
       " 'create']"
      ]
     },
     "execution_count": 78,
     "metadata": {},
     "output_type": "execute_result"
    }
   ],
   "source": [
    "most_similar(corp.spacy_vocab['design'], 30)"
   ]
  },
  {
   "cell_type": "code",
   "execution_count": 94,
   "metadata": {},
   "outputs": [],
   "source": [
    "test_corp = textacy.corpus.Corpus(lang='en')"
   ]
  },
  {
   "cell_type": "code",
   "execution_count": 95,
   "metadata": {},
   "outputs": [],
   "source": [
    "test_corp.add_text(\"Best team in the world. It is really great soccer.\")"
   ]
  },
  {
   "cell_type": "code",
   "execution_count": 96,
   "metadata": {},
   "outputs": [],
   "source": [
    "test_corp.add_text(\"Such a great player in a very small team. He should earn more.\")"
   ]
  },
  {
   "cell_type": "code",
   "execution_count": 97,
   "metadata": {},
   "outputs": [],
   "source": [
    "test_corp.add_text(\"It was a good game tonight, every player scored a goal. The stadion was full.\")"
   ]
  },
  {
   "cell_type": "code",
   "execution_count": 98,
   "metadata": {},
   "outputs": [],
   "source": [
    "words = [textacy.extract.words(doc) for doc in test_corp]\n",
    "flat_words = [item for sublist in words for item in sublist]"
   ]
  },
  {
   "cell_type": "code",
   "execution_count": 102,
   "metadata": {},
   "outputs": [],
   "source": [
    "def most_similar_2(word: spacy.tokens.Token, top_n=10):\n",
    "    queries = [w for w in flat_words if w.prob >= -30]\n",
    "    by_similarity = sorted(queries, key=lambda w: word.similarity(w), reverse=True)\n",
    "    return [item.lower_ for item in by_similarity[:top_n]]"
   ]
  },
  {
   "cell_type": "code",
   "execution_count": 103,
   "metadata": {},
   "outputs": [
    {
     "data": {
      "text/plain": [
       "full"
      ]
     },
     "execution_count": 103,
     "metadata": {},
     "output_type": "execute_result"
    }
   ],
   "source": [
    "test_corp[2][16]"
   ]
  },
  {
   "cell_type": "code",
   "execution_count": 109,
   "metadata": {},
   "outputs": [
    {
     "data": {
      "text/plain": [
       "['good',\n",
       " 'great',\n",
       " 'great',\n",
       " 'small',\n",
       " 'best',\n",
       " 'world',\n",
       " 'game',\n",
       " 'team',\n",
       " 'team',\n",
       " 'player',\n",
       " 'player',\n",
       " 'earn',\n",
       " 'tonight',\n",
       " 'goal',\n",
       " 'soccer',\n",
       " 'scored',\n",
       " 'stadion']"
      ]
     },
     "execution_count": 109,
     "metadata": {},
     "output_type": "execute_result"
    }
   ],
   "source": [
    "most_similar_2(test_corp[2][16],50)"
   ]
  },
  {
   "cell_type": "code",
   "execution_count": 86,
   "metadata": {},
   "outputs": [
    {
     "data": {
      "text/plain": [
       "0.53450516123609348"
      ]
     },
     "execution_count": 86,
     "metadata": {},
     "output_type": "execute_result"
    }
   ],
   "source": [
    "nlp=English()\n",
    "nlp('Great soccer and balls').similarity(nlp('The net was protected'))"
   ]
  },
  {
   "cell_type": "code",
   "execution_count": null,
   "metadata": {},
   "outputs": [],
   "source": []
  }
 ],
 "metadata": {
  "kernelspec": {
   "display_name": "Python 3",
   "language": "python",
   "name": "python3"
  },
  "language_info": {
   "codemirror_mode": {
    "name": "ipython",
    "version": 3
   },
   "file_extension": ".py",
   "mimetype": "text/x-python",
   "name": "python",
   "nbconvert_exporter": "python",
   "pygments_lexer": "ipython3",
   "version": "3.6.1"
  }
 },
 "nbformat": 4,
 "nbformat_minor": 2
}
