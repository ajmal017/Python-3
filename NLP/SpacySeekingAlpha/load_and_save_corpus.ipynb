{
 "cells": [
  {
   "cell_type": "code",
   "execution_count": 1,
   "metadata": {},
   "outputs": [],
   "source": [
    "import pandas as pd\n",
    "import numpy as np\n",
    "import matplotlib.pyplot as plt\n",
    "import seaborn as sns\n",
    "%matplotlib inline"
   ]
  },
  {
   "cell_type": "code",
   "execution_count": 2,
   "metadata": {},
   "outputs": [],
   "source": [
    "from pymongo import MongoClient\n",
    "from spacy.en import English"
   ]
  },
  {
   "cell_type": "code",
   "execution_count": 3,
   "metadata": {},
   "outputs": [],
   "source": [
    "import textacy"
   ]
  },
  {
   "cell_type": "code",
   "execution_count": 4,
   "metadata": {},
   "outputs": [],
   "source": [
    "client = MongoClient('localhost', 27017)\n",
    "db = client.python_import\n",
    "collection = db.earnings_transcript_NAS100"
   ]
  },
  {
   "cell_type": "code",
   "execution_count": 5,
   "metadata": {},
   "outputs": [],
   "source": [
    "transcripts = pd.DataFrame(list(collection.find()))"
   ]
  },
  {
   "cell_type": "code",
   "execution_count": 6,
   "metadata": {},
   "outputs": [
    {
     "data": {
      "text/html": [
       "<div>\n",
       "<style>\n",
       "    .dataframe thead tr:only-child th {\n",
       "        text-align: right;\n",
       "    }\n",
       "\n",
       "    .dataframe thead th {\n",
       "        text-align: left;\n",
       "    }\n",
       "\n",
       "    .dataframe tbody tr th {\n",
       "        vertical-align: top;\n",
       "    }\n",
       "</style>\n",
       "<table border=\"1\" class=\"dataframe\">\n",
       "  <thead>\n",
       "    <tr style=\"text-align: right;\">\n",
       "      <th></th>\n",
       "      <th>_id</th>\n",
       "      <th>date_number</th>\n",
       "      <th>h_tone</th>\n",
       "      <th>publishDate</th>\n",
       "      <th>qAndAText</th>\n",
       "      <th>q_and_a_h_tone</th>\n",
       "      <th>q_and_a_wordSize</th>\n",
       "      <th>rawText</th>\n",
       "      <th>time_number</th>\n",
       "      <th>tradingSymbol</th>\n",
       "      <th>url</th>\n",
       "      <th>wordSize</th>\n",
       "      <th>zacksEarningsCallDate</th>\n",
       "    </tr>\n",
       "  </thead>\n",
       "  <tbody>\n",
       "    <tr>\n",
       "      <th>0</th>\n",
       "      <td>589c947d6a0e660f748249d9</td>\n",
       "      <td>1170201</td>\n",
       "      <td>{'positiveCount': 266, 'negativeCount': 32}</td>\n",
       "      <td>2017-02-01 01:27:17</td>\n",
       "      <td>Session Operator Your first question will com...</td>\n",
       "      <td>{'positiveCount': 149, 'negativeCount': 22}</td>\n",
       "      <td>5588</td>\n",
       "      <td>Apple, Inc. (NASDAQ:AAPL) Q1 2017 Earnings Cal...</td>\n",
       "      <td>12717</td>\n",
       "      <td>AAPL</td>\n",
       "      <td>http://seekingalpha.com/article/4041266-apple-...</td>\n",
       "      <td>9452</td>\n",
       "      <td>NaT</td>\n",
       "    </tr>\n",
       "    <tr>\n",
       "      <th>1</th>\n",
       "      <td>589c947d6a0e660f748249da</td>\n",
       "      <td>1161026</td>\n",
       "      <td>{'positiveCount': 222, 'negativeCount': 33}</td>\n",
       "      <td>2016-10-26 01:35:27</td>\n",
       "      <td>Session Operator First we'll hear from Gene M...</td>\n",
       "      <td>{'positiveCount': 129, 'negativeCount': 26}</td>\n",
       "      <td>6674</td>\n",
       "      <td>Apple, Inc. (NASDAQ:AAPL) Q4 2016 Earnings Cal...</td>\n",
       "      <td>13527</td>\n",
       "      <td>AAPL</td>\n",
       "      <td>http://seekingalpha.com/article/4014922-apple-...</td>\n",
       "      <td>10378</td>\n",
       "      <td>NaT</td>\n",
       "    </tr>\n",
       "    <tr>\n",
       "      <th>2</th>\n",
       "      <td>589c947d6a0e660f748249db</td>\n",
       "      <td>1160727</td>\n",
       "      <td>{'positiveCount': 234, 'negativeCount': 46}</td>\n",
       "      <td>2016-07-27 01:01:38</td>\n",
       "      <td>Session Operator Your first question will com...</td>\n",
       "      <td>{'positiveCount': 101, 'negativeCount': 26}</td>\n",
       "      <td>6039</td>\n",
       "      <td>Apple, Inc. (NASDAQ:AAPL) Q3 2016 Earnings Cal...</td>\n",
       "      <td>10138</td>\n",
       "      <td>AAPL</td>\n",
       "      <td>http://seekingalpha.com/article/3991811-apple-...</td>\n",
       "      <td>10328</td>\n",
       "      <td>NaT</td>\n",
       "    </tr>\n",
       "  </tbody>\n",
       "</table>\n",
       "</div>"
      ],
      "text/plain": [
       "                        _id  date_number  \\\n",
       "0  589c947d6a0e660f748249d9      1170201   \n",
       "1  589c947d6a0e660f748249da      1161026   \n",
       "2  589c947d6a0e660f748249db      1160727   \n",
       "\n",
       "                                        h_tone         publishDate  \\\n",
       "0  {'positiveCount': 266, 'negativeCount': 32} 2017-02-01 01:27:17   \n",
       "1  {'positiveCount': 222, 'negativeCount': 33} 2016-10-26 01:35:27   \n",
       "2  {'positiveCount': 234, 'negativeCount': 46} 2016-07-27 01:01:38   \n",
       "\n",
       "                                           qAndAText  \\\n",
       "0   Session Operator Your first question will com...   \n",
       "1   Session Operator First we'll hear from Gene M...   \n",
       "2   Session Operator Your first question will com...   \n",
       "\n",
       "                                q_and_a_h_tone  q_and_a_wordSize  \\\n",
       "0  {'positiveCount': 149, 'negativeCount': 22}              5588   \n",
       "1  {'positiveCount': 129, 'negativeCount': 26}              6674   \n",
       "2  {'positiveCount': 101, 'negativeCount': 26}              6039   \n",
       "\n",
       "                                             rawText  time_number  \\\n",
       "0  Apple, Inc. (NASDAQ:AAPL) Q1 2017 Earnings Cal...        12717   \n",
       "1  Apple, Inc. (NASDAQ:AAPL) Q4 2016 Earnings Cal...        13527   \n",
       "2  Apple, Inc. (NASDAQ:AAPL) Q3 2016 Earnings Cal...        10138   \n",
       "\n",
       "  tradingSymbol                                                url  wordSize  \\\n",
       "0          AAPL  http://seekingalpha.com/article/4041266-apple-...      9452   \n",
       "1          AAPL  http://seekingalpha.com/article/4014922-apple-...     10378   \n",
       "2          AAPL  http://seekingalpha.com/article/3991811-apple-...     10328   \n",
       "\n",
       "  zacksEarningsCallDate  \n",
       "0                   NaT  \n",
       "1                   NaT  \n",
       "2                   NaT  "
      ]
     },
     "execution_count": 6,
     "metadata": {},
     "output_type": "execute_result"
    }
   ],
   "source": [
    "transcripts.head(3)"
   ]
  },
  {
   "cell_type": "code",
   "execution_count": 7,
   "metadata": {},
   "outputs": [],
   "source": [
    "texts = transcripts['rawText'].tolist()\n",
    "metadatas = transcripts['_id'].apply(str).tolist()"
   ]
  },
  {
   "cell_type": "code",
   "execution_count": 8,
   "metadata": {},
   "outputs": [],
   "source": [
    "corpus = textacy.Corpus('en')"
   ]
  },
  {
   "cell_type": "code",
   "execution_count": null,
   "metadata": {},
   "outputs": [
    {
     "name": "stdout",
     "output_type": "stream",
     "text": [
      "0 - 50 added\n",
      "50 - 100 added\n",
      "100 - 150 added\n",
      "150 - 200 added\n",
      "200 - 250 added\n",
      "250 - 300 added\n",
      "300 - 350 added\n",
      "350 - 400 added\n",
      "400 - 450 added\n",
      "450 - 500 added\n",
      "500 - 550 added\n",
      "550 - 600 added\n",
      "600 - 650 added\n",
      "650 - 700 added\n",
      "700 - 750 added\n",
      "750 - 800 added\n",
      "800 - 850 added\n",
      "850 - 900 added\n",
      "900 - 950 added\n",
      "950 - 1000 added\n",
      "1000 - 1050 added\n",
      "1050 - 1100 added\n",
      "1100 - 1150 added\n",
      "1150 - 1200 added\n",
      "1200 - 1250 added\n",
      "1250 - 1300 added\n",
      "1300 - 1350 added\n",
      "1350 - 1400 added\n",
      "1400 - 1450 added\n",
      "1450 - 1500 added\n",
      "1500 - 1550 added\n",
      "1550 - 1600 added\n",
      "1600 - 1650 added\n",
      "1650 - 1700 added\n",
      "1700 - 1750 added\n",
      "1750 - 1800 added\n",
      "1800 - 1850 added\n",
      "1850 - 1900 added\n",
      "1900 - 1950 added\n",
      "1950 - 2000 added\n",
      "2000 - 2050 added\n",
      "2050 - 2100 added\n",
      "2100 - 2150 added\n",
      "2150 - 2200 added\n",
      "2200 - 2250 added\n",
      "2250 - 2300 added\n",
      "2300 - 2350 added\n",
      "2350 - 2400 added\n",
      "2400 - 2450 added\n",
      "2450 - 2500 added\n",
      "2500 - 2550 added\n",
      "2550 - 2600 added\n",
      "2600 - 2650 added\n",
      "2650 - 2700 added\n",
      "2700 - 2750 added\n",
      "2750 - 2800 added\n",
      "2800 - 2850 added\n",
      "2850 - 2900 added\n",
      "2900 - 2950 added\n"
     ]
    }
   ],
   "source": [
    "step = 200\n",
    "for i in range(0, len(texts), step):\n",
    "    corpus.add_texts(texts=texts[i:i+step], metadatas=metadatas[i:i+step])\n",
    "    print('{} - {} added'.format(i, i+step))\n",
    "    corpus.save('./', name='earnings_transcript_NAS100_' + i, compression='gzip')"
   ]
  },
  {
   "cell_type": "code",
   "execution_count": 13,
   "metadata": {},
   "outputs": [],
   "source": [
    "corpus.save('./', name='earnings_transcript_NAS100', compression='gzip')"
   ]
  },
  {
   "cell_type": "code",
   "execution_count": null,
   "metadata": {},
   "outputs": [],
   "source": []
  }
 ],
 "metadata": {
  "kernelspec": {
   "display_name": "Python 3",
   "language": "python",
   "name": "python3"
  },
  "language_info": {
   "codemirror_mode": {
    "name": "ipython",
    "version": 3
   },
   "file_extension": ".py",
   "mimetype": "text/x-python",
   "name": "python",
   "nbconvert_exporter": "python",
   "pygments_lexer": "ipython3",
   "version": "3.6.1"
  }
 },
 "nbformat": 4,
 "nbformat_minor": 2
}
