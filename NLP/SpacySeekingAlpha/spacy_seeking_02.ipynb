{
 "cells": [
  {
   "cell_type": "code",
   "execution_count": 1,
   "metadata": {},
   "outputs": [],
   "source": [
    "import pandas as pd\n",
    "import numpy as np\n",
    "import matplotlib.pyplot as plt\n",
    "import seaborn as sns\n",
    "%matplotlib inline"
   ]
  },
  {
   "cell_type": "code",
   "execution_count": 2,
   "metadata": {},
   "outputs": [],
   "source": [
    "from pymongo import MongoClient\n",
    "from spacy.en import English"
   ]
  },
  {
   "cell_type": "code",
   "execution_count": 3,
   "metadata": {},
   "outputs": [],
   "source": [
    "import textacy"
   ]
  },
  {
   "cell_type": "code",
   "execution_count": 4,
   "metadata": {},
   "outputs": [],
   "source": [
    "client = MongoClient('localhost', 27017)\n",
    "db = client.python_import\n",
    "collection = db.earnings_transcript"
   ]
  },
  {
   "cell_type": "code",
   "execution_count": 44,
   "metadata": {},
   "outputs": [],
   "source": [
    "transcripts = pd.DataFrame(list(collection.find({'tradingSymbol':'AAPL'}).sort('publishDate', -1).limit(200)))"
   ]
  },
  {
   "cell_type": "code",
   "execution_count": 49,
   "metadata": {},
   "outputs": [
    {
     "data": {
      "text/html": [
       "<div>\n",
       "<style>\n",
       "    .dataframe thead tr:only-child th {\n",
       "        text-align: right;\n",
       "    }\n",
       "\n",
       "    .dataframe thead th {\n",
       "        text-align: left;\n",
       "    }\n",
       "\n",
       "    .dataframe tbody tr th {\n",
       "        vertical-align: top;\n",
       "    }\n",
       "</style>\n",
       "<table border=\"1\" class=\"dataframe\">\n",
       "  <thead>\n",
       "    <tr style=\"text-align: right;\">\n",
       "      <th></th>\n",
       "      <th>_id</th>\n",
       "      <th>date_number</th>\n",
       "      <th>h_tone</th>\n",
       "      <th>publishDate</th>\n",
       "      <th>qAndAText</th>\n",
       "      <th>q_and_a_h_tone</th>\n",
       "      <th>q_and_a_wordSize</th>\n",
       "      <th>rawText</th>\n",
       "      <th>time_number</th>\n",
       "      <th>tradingSymbol</th>\n",
       "      <th>url</th>\n",
       "      <th>wordSize</th>\n",
       "    </tr>\n",
       "  </thead>\n",
       "  <tbody>\n",
       "    <tr>\n",
       "      <th>0</th>\n",
       "      <td>5959f6f03740f52944a686e6</td>\n",
       "      <td>1130124</td>\n",
       "      <td>{'positiveCount': 236, 'negativeCount': 30}</td>\n",
       "      <td>2017-07-02 09:49:04.500</td>\n",
       "      <td></td>\n",
       "      <td>{'positiveCount': 0, 'negativeCount': 0}</td>\n",
       "      <td>0</td>\n",
       "      <td>Apple Inc. (NASDAQ: AAPL ) F1Q 2013 Earnings C...</td>\n",
       "      <td>20404</td>\n",
       "      <td>AAPL</td>\n",
       "      <td>https://seekingalpha.com/article/1129431-apple...</td>\n",
       "      <td>10631</td>\n",
       "    </tr>\n",
       "    <tr>\n",
       "      <th>1</th>\n",
       "      <td>5937e53f082789410c746adf</td>\n",
       "      <td>1170503</td>\n",
       "      <td>{'positiveCount': 246, 'negativeCount': 32}</td>\n",
       "      <td>2017-05-03 00:13:31.000</td>\n",
       "      <td>Operator First we'll hear from Katy Huberty wi...</td>\n",
       "      <td>{'positiveCount': 103, 'negativeCount': 22}</td>\n",
       "      <td>5359</td>\n",
       "      <td>Apple, Inc. (NASDAQ: AAPL ) Q2 2017 Earnings C...</td>\n",
       "      <td>1331</td>\n",
       "      <td>AAPL</td>\n",
       "      <td>https://seekingalpha.com/article/4068153-apple...</td>\n",
       "      <td>9418</td>\n",
       "    </tr>\n",
       "    <tr>\n",
       "      <th>2</th>\n",
       "      <td>5937e539082789410c746ade</td>\n",
       "      <td>1170201</td>\n",
       "      <td>{'positiveCount': 266, 'negativeCount': 32}</td>\n",
       "      <td>2017-02-01 01:27:17.000</td>\n",
       "      <td>Operator Your first question will come from Ka...</td>\n",
       "      <td>{'positiveCount': 150, 'negativeCount': 22}</td>\n",
       "      <td>5830</td>\n",
       "      <td>Apple, Inc. (NASDAQ: AAPL ) Q1 2017 Earnings C...</td>\n",
       "      <td>12717</td>\n",
       "      <td>AAPL</td>\n",
       "      <td>https://seekingalpha.com/article/4041266-apple...</td>\n",
       "      <td>9452</td>\n",
       "    </tr>\n",
       "  </tbody>\n",
       "</table>\n",
       "</div>"
      ],
      "text/plain": [
       "                        _id  date_number  \\\n",
       "0  5959f6f03740f52944a686e6      1130124   \n",
       "1  5937e53f082789410c746adf      1170503   \n",
       "2  5937e539082789410c746ade      1170201   \n",
       "\n",
       "                                        h_tone             publishDate  \\\n",
       "0  {'positiveCount': 236, 'negativeCount': 30} 2017-07-02 09:49:04.500   \n",
       "1  {'positiveCount': 246, 'negativeCount': 32} 2017-05-03 00:13:31.000   \n",
       "2  {'positiveCount': 266, 'negativeCount': 32} 2017-02-01 01:27:17.000   \n",
       "\n",
       "                                           qAndAText  \\\n",
       "0                                                      \n",
       "1  Operator First we'll hear from Katy Huberty wi...   \n",
       "2  Operator Your first question will come from Ka...   \n",
       "\n",
       "                                q_and_a_h_tone  q_and_a_wordSize  \\\n",
       "0     {'positiveCount': 0, 'negativeCount': 0}                 0   \n",
       "1  {'positiveCount': 103, 'negativeCount': 22}              5359   \n",
       "2  {'positiveCount': 150, 'negativeCount': 22}              5830   \n",
       "\n",
       "                                             rawText  time_number  \\\n",
       "0  Apple Inc. (NASDAQ: AAPL ) F1Q 2013 Earnings C...        20404   \n",
       "1  Apple, Inc. (NASDAQ: AAPL ) Q2 2017 Earnings C...         1331   \n",
       "2  Apple, Inc. (NASDAQ: AAPL ) Q1 2017 Earnings C...        12717   \n",
       "\n",
       "  tradingSymbol                                                url  wordSize  \n",
       "0          AAPL  https://seekingalpha.com/article/1129431-apple...     10631  \n",
       "1          AAPL  https://seekingalpha.com/article/4068153-apple...      9418  \n",
       "2          AAPL  https://seekingalpha.com/article/4041266-apple...      9452  "
      ]
     },
     "execution_count": 49,
     "metadata": {},
     "output_type": "execute_result"
    }
   ],
   "source": [
    "transcripts.head(3)"
   ]
  },
  {
   "cell_type": "code",
   "execution_count": 50,
   "metadata": {},
   "outputs": [],
   "source": [
    "nlp = English()"
   ]
  },
  {
   "cell_type": "code",
   "execution_count": 51,
   "metadata": {},
   "outputs": [],
   "source": [
    "doc = textacy.Doc(transcripts.iloc[0]['rawText'])"
   ]
  },
  {
   "cell_type": "code",
   "execution_count": 23,
   "metadata": {},
   "outputs": [],
   "source": [
    "def tokenize(doc):\n",
    "    return [tok.lemma_ for tok in doc if tok.is_alpha and not tok.is_stop]"
   ]
  },
  {
   "cell_type": "markdown",
   "metadata": {},
   "source": [
    "# Textacy discovery"
   ]
  },
  {
   "cell_type": "code",
   "execution_count": 65,
   "metadata": {},
   "outputs": [],
   "source": [
    "ngrams = list(textacy.extract.ngrams(doc, 3, filter_stops=True, filter_punct=True, filter_nums=False, min_freq=2))"
   ]
  },
  {
   "cell_type": "code",
   "execution_count": 66,
   "metadata": {},
   "outputs": [],
   "source": [
    "ngrams_str = map(lambda row: str(row), ngrams)"
   ]
  },
  {
   "cell_type": "code",
   "execution_count": 67,
   "metadata": {},
   "outputs": [],
   "source": [
    "from collections import Counter"
   ]
  },
  {
   "cell_type": "code",
   "execution_count": 68,
   "metadata": {},
   "outputs": [],
   "source": [
    "c = Counter(ngrams_str)"
   ]
  },
  {
   "cell_type": "code",
   "execution_count": 69,
   "metadata": {},
   "outputs": [
    {
     "data": {
      "text/plain": [
       "[('year ago quarter', 16),\n",
       " ('Nancy Paxton Thanks', 6),\n",
       " ('Cross Research Group', 5),\n",
       " ('Bank of Montreal', 5),\n",
       " ('ended the quarter', 5),\n",
       " ('Nancy Paxton Thank', 4),\n",
       " ('current year quarter', 4),\n",
       " ('range of guidance', 4),\n",
       " ('Bank of America', 3),\n",
       " ('like to turn', 3),\n",
       " ('based compensation expense', 3),\n",
       " ('new product pipeline', 3),\n",
       " ('iPhone and iPad', 3),\n",
       " ('year quarter compared', 3),\n",
       " ('IDC’s latest', 3),\n",
       " ('’s latest published', 3),\n",
       " ('store per week', 3),\n",
       " ('mix of iPhone', 3),\n",
       " ('stock based compensation', 3),\n",
       " ('Peter Oppenheimer Sure', 3),\n",
       " ('2.6 million units', 3),\n",
       " ('supply demand balance', 3),\n",
       " (\"APPLICABLE COMPANY'S\", 3),\n",
       " ('pleased to report', 2),\n",
       " ('records for iPhone', 2),\n",
       " ('Apple retail stores', 2),\n",
       " ('operations and sales', 2),\n",
       " ('teams to deliver', 2),\n",
       " ('beautifully designed products', 2),\n",
       " ('’re very pleased', 2)]"
      ]
     },
     "execution_count": 69,
     "metadata": {},
     "output_type": "execute_result"
    }
   ],
   "source": [
    "c.most_common(30)"
   ]
  },
  {
   "cell_type": "code",
   "execution_count": 71,
   "metadata": {},
   "outputs": [
    {
     "data": {
      "text/plain": [
       "[Apple Inc.,\n",
       " NASDAQ,\n",
       " AAPL,\n",
       " 2013,\n",
       " 2013,\n",
       " 17:00 ET,\n",
       " Nancy Paxton - Senior,\n",
       " Tim Cook - Chief,\n",
       " Peter Oppenheimer - Chief,\n",
       " Gary Wipfler - Treasurer Analysts]"
      ]
     },
     "execution_count": 71,
     "metadata": {},
     "output_type": "execute_result"
    }
   ],
   "source": [
    "list(textacy.extract.named_entities(doc, drop_determiners=True))[:10]"
   ]
  },
  {
   "cell_type": "code",
   "execution_count": 72,
   "metadata": {},
   "outputs": [],
   "source": [
    "pattern = textacy.constants.POS_REGEX_PATTERNS['en']['NP']"
   ]
  },
  {
   "cell_type": "code",
   "execution_count": 75,
   "metadata": {},
   "outputs": [
    {
     "data": {
      "text/plain": [
       "[today,\n",
       " Apple’s CEO,\n",
       " Tim Cook,\n",
       " CFO,\n",
       " Peter Oppenheimer,\n",
       " Treasurer,\n",
       " Gary Wipfler,\n",
       " the Q&A session,\n",
       " the analysts,\n",
       " the information]"
      ]
     },
     "execution_count": 75,
     "metadata": {},
     "output_type": "execute_result"
    }
   ],
   "source": [
    "list(textacy.extract.pos_regex_matches(doc, pattern))[40:50]"
   ]
  },
  {
   "cell_type": "code",
   "execution_count": 76,
   "metadata": {},
   "outputs": [
    {
     "data": {
      "text/plain": [
       "[('quarter', 0.017455774513649963),\n",
       " ('iphone', 0.012834341420196968),\n",
       " ('product', 0.01155272750229087),\n",
       " ('year', 0.01154287607658789),\n",
       " ('ipad', 0.011526452566039992),\n",
       " ('apple', 0.009111002096329104),\n",
       " ('tim', 0.007418784217395101),\n",
       " ('customer', 0.007243849735931341),\n",
       " ('revenue', 0.007237940167867038),\n",
       " ('sale', 0.007143482403027271)]"
      ]
     },
     "execution_count": 76,
     "metadata": {},
     "output_type": "execute_result"
    }
   ],
   "source": [
    "textacy.keyterms.textrank(doc, n_keyterms=10)"
   ]
  },
  {
   "cell_type": "code",
   "execution_count": 78,
   "metadata": {},
   "outputs": [],
   "source": [
    "ts = textacy.text_stats.TextStats(doc)"
   ]
  },
  {
   "cell_type": "code",
   "execution_count": 79,
   "metadata": {},
   "outputs": [
    {
     "data": {
      "text/plain": [
       "1709"
      ]
     },
     "execution_count": 79,
     "metadata": {},
     "output_type": "execute_result"
    }
   ],
   "source": [
    "ts.n_unique_words"
   ]
  },
  {
   "cell_type": "code",
   "execution_count": 80,
   "metadata": {},
   "outputs": [
    {
     "data": {
      "text/plain": [
       "{'n_chars': 43974,\n",
       " 'n_long_words': 2075,\n",
       " 'n_monosyllable_words': 6921,\n",
       " 'n_polysyllable_words': 881,\n",
       " 'n_sents': 446,\n",
       " 'n_syllables': 13719,\n",
       " 'n_unique_words': 1709,\n",
       " 'n_words': 9690}"
      ]
     },
     "execution_count": 80,
     "metadata": {},
     "output_type": "execute_result"
    }
   ],
   "source": [
    "ts.basic_counts"
   ]
  },
  {
   "cell_type": "code",
   "execution_count": 81,
   "metadata": {},
   "outputs": [
    {
     "data": {
      "text/plain": [
       "{'automated_readability_index': 10.807587832678507,\n",
       " 'coleman_liau_index': 9.52062437915377,\n",
       " 'flesch_kincaid_grade_level': 9.589634175123908,\n",
       " 'flesch_readability_ease': 65.00685626622612,\n",
       " 'gulpease_index': 57.42724458204334,\n",
       " 'gunning_fog_index': 12.327321865730008,\n",
       " 'lix': 43.14028608847363,\n",
       " 'smog_index': 11.158174000464356,\n",
       " 'wiener_sachtextformel': 4.958740044519107}"
      ]
     },
     "execution_count": 81,
     "metadata": {},
     "output_type": "execute_result"
    }
   ],
   "source": [
    "ts.readability_stats"
   ]
  },
  {
   "cell_type": "code",
   "execution_count": 119,
   "metadata": {},
   "outputs": [
    {
     "data": {
      "text/plain": [
       "[('bank of montreal', 5),\n",
       " ('end the quarter', 5),\n",
       " ('million in the year', 5),\n",
       " ('keith bachman - bank', 4),\n",
       " ('mark moskowitz - jpmorgan', 4),\n",
       " ('apple ’s', 4),\n",
       " ('peter oppenheimer', 4),\n",
       " ('current year quarter', 4),\n",
       " ('third', 4),\n",
       " ('toni sacconaghi - sanford bernstein', 4),\n",
       " ('march', 4),\n",
       " ('previous year', 4),\n",
       " ('two', 4),\n",
       " ('last quarter', 4),\n",
       " ('range of guidance', 4),\n",
       " ('2013', 3),\n",
       " ('ben reitzes - barclays', 3),\n",
       " ('steve', 3),\n",
       " ('quarterly', 3),\n",
       " ('13 week', 3)]"
      ]
     },
     "execution_count": 119,
     "metadata": {},
     "output_type": "execute_result"
    }
   ],
   "source": [
    "bot = doc.to_bag_of_terms(ngrams={3, 4}, as_strings=True)\n",
    "sorted(bot.items(), key=lambda x: x[1], reverse=True)[30:50]"
   ]
  },
  {
   "cell_type": "code",
   "execution_count": 88,
   "metadata": {},
   "outputs": [
    {
     "data": {
      "text/plain": [
       "11"
      ]
     },
     "execution_count": 88,
     "metadata": {},
     "output_type": "execute_result"
    }
   ],
   "source": [
    "doc.count('great')"
   ]
  },
  {
   "cell_type": "code",
   "execution_count": 95,
   "metadata": {},
   "outputs": [
    {
     "data": {
      "text/plain": [
       "1"
      ]
     },
     "execution_count": 95,
     "metadata": {},
     "output_type": "execute_result"
    }
   ],
   "source": [
    "doc.count('loss')"
   ]
  },
  {
   "cell_type": "code",
   "execution_count": 100,
   "metadata": {},
   "outputs": [
    {
     "data": {
      "text/plain": [
       "[(I, would like, to turn),\n",
       " (Speaking, are, ’s CEO),\n",
       " (Apple, assumes, obligation),\n",
       " (I, like, to turn),\n",
       " (technology company, reported, kinds),\n",
       " (we, have introduced, products),\n",
       " (one, reflects, dedication),\n",
       " (we, are unwilling, to cut),\n",
       " (commitment, is, reason),\n",
       " (customers, choose, to buy),\n",
       " (this, be, force),\n",
       " (Apple, is, people),\n",
       " (we, are, team),\n",
       " (Part, is, to preserve),\n",
       " (Part, is, drive),\n",
       " (Part, is, remain),\n",
       " (we, remain, company),\n",
       " (Apple, to do, work),\n",
       " (there, is, reward),\n",
       " (customers, love, to use),\n",
       " (We, continue, to believe),\n",
       " (people, will serve, us),\n",
       " (Tomorrow, marks, anniversary),\n",
       " (Steve, introduced, Macintosh),\n",
       " (it, was supposed, to be),\n",
       " (you, have, to touch),\n",
       " (that, brought, Mac),\n",
       " (that, brought, products),\n",
       " (they, are, way),\n",
       " (we, measure, success),\n",
       " (customers, love, product),\n",
       " (We, sold, devices),\n",
       " (We, couldn’t have achieved, milestones),\n",
       " (Everyone, has, eyes),\n",
       " (who, share, purpose),\n",
       " (Peter, will review, highlights),\n",
       " (We, established, records),\n",
       " (quarter, spanned, weeks),\n",
       " (year, spanned, weeks),\n",
       " (quarter, included, week),\n",
       " (4.2 billion, compared, quarter),\n",
       " (Operating, was, billion),\n",
       " (margin, was, billion),\n",
       " (income, was, record),\n",
       " (we, ’re, reorganizing),\n",
       " (we, ’ve established, operating segment),\n",
       " (We, define, China),\n",
       " (We, define, to include),\n",
       " (We, have recast, operating income),\n",
       " (changes, have, impact),\n",
       " (presentation, to provide, visibility),\n",
       " (presentation, provides, grouping),\n",
       " (I, 'd like, to begin),\n",
       " (This, represents, rate),\n",
       " (’s, latest published, forecast),\n",
       " (iPhone sales, grew, 78%),\n",
       " (’s, latest published, projection),\n",
       " (We, experienced, iPhone growth),\n",
       " (We, ended, quarter),\n",
       " (increase, ended, quarter),\n",
       " (increase, ended, basis),\n",
       " (devices, continued, to deliver),\n",
       " (iPhone, continued, to deliver),\n",
       " (systems, continued, to deliver),\n",
       " (iOS, continued, to deliver),\n",
       " (They, provide, secure),\n",
       " (They, provide, trusted),\n",
       " (iPhone, continues, to be embraced),\n",
       " (U.S. government agencies, are issuing, iPhones),\n",
       " (examples, include, NASA),\n",
       " (examples, include, Administration),\n",
       " (Companies, are issuing, iPhones),\n",
       " (Neiman Marcus, are issuing, iPhones),\n",
       " (Skanska, are issuing, iPhones),\n",
       " (Volvo, are issuing, iPhones),\n",
       " (Customers, are loving, generation iPad),\n",
       " (iPad mini, has been, hit),\n",
       " (iPad, continues, to be),\n",
       " (institutions, are deploying, iPad),\n",
       " (institutions, are deploying, to enable),\n",
       " (Barclays roll, has generated, employee engagement),\n",
       " (Barclays roll, has generated, feedback),\n",
       " (State, adopting, iPad),\n",
       " (governments, adopting, iPad),\n",
       " (Court systems, use, iPad),\n",
       " (Court systems, use, to streamline),\n",
       " (Court systems, use, replace),\n",
       " (county inspectors, use, iPad),\n",
       " (county inspectors, use, to streamline),\n",
       " (county inspectors, use, replace),\n",
       " (enforcement agencies, use, iPad),\n",
       " (enforcement agencies, use, to streamline),\n",
       " (enforcement agencies, use, replace),\n",
       " (state legislatures, using, iPads),\n",
       " (state legislatures, using, to give),\n",
       " (That, left, us),\n",
       " (we, sold, units),\n",
       " (IDC, estimates, computer market),\n",
       " (We, introduced, Pro Retina display),\n",
       " (Mac sales, would have been, absent),\n",
       " (we, sold, iPods),\n",
       " (iPod touch, was, item),\n",
       " (data, continued, to be),\n",
       " (iTunes, generated, record results),\n",
       " (We, established, records),\n",
       " (We, expanded, footprint),\n",
       " (That, brings, us),\n",
       " (App Store, had, December quarter),\n",
       " (App Store, offers, apps),\n",
       " (app downloads, surpassed, billion),\n",
       " (app downloads, surpassed, ’re),\n",
       " (iPod, continues, to grow),\n",
       " (iPod, continues, iMessage),\n",
       " (customers, love, iMessage service),\n",
       " (I, like, to turn),\n",
       " (revenue, was, sales),\n",
       " (We, excited, quarter),\n",
       " (that, had outgrown, space),\n",
       " (revenue, was, million),\n",
       " (revenue, was, million),\n",
       " (segment income, was, billion),\n",
       " (We, hosted, visitors),\n",
       " (margin, was, 38.6%),\n",
       " (3.9 billion, included, million),\n",
       " (Inaudible, was, million),\n",
       " (Inaudible, was, was),\n",
       " (tax rate, was, 26%),\n",
       " (securities, totaled, billion),\n",
       " (Cash flow, was, record),\n",
       " (Board, has declared, dividend),\n",
       " (I, would like, to review),\n",
       " (which, includes, types),\n",
       " (we, ’re, changing),\n",
       " (we, provide, guidance),\n",
       " (guidance, reflected, point estimate),\n",
       " (we, have, confidence),\n",
       " (we, plan, to provide),\n",
       " (that, reflects, belief),\n",
       " (we, ’re, providing),\n",
       " (OpEx, to be, billion),\n",
       " (OpEx, to be, billion),\n",
       " (We, expect, income/(expense),\n",
       " (tax rate, to be, 26%),\n",
       " (We, sold, iOS devices),\n",
       " (which, is, number),\n",
       " (We, ’re, producing),\n",
       " (I, ’d like, to open),\n",
       " (you, limit, yourself),\n",
       " (we, have, question),\n",
       " (iPhone, did, sell),\n",
       " (you, characterize, trends),\n",
       " (you, have, price points),\n",
       " (you, have, screen sizes),\n",
       " (which, was, times market),\n",
       " (we, saw, growth),\n",
       " (I, would characterize, it),\n",
       " (you, made, comments),\n",
       " (this, is, something),\n",
       " (we, assess, opportunities),\n",
       " (we, returned, billion),\n",
       " (we, started, buyback program),\n",
       " (we, started, expect),\n",
       " (We, do consider, increasing),\n",
       " (We, do consider, ’ll do),\n",
       " (we, have, question),\n",
       " (there, is, term case),\n",
       " (there, is, variety),\n",
       " (you, know, Retina display),\n",
       " (which, is, display),\n",
       " (It, provides, screen size),\n",
       " (we, put, lot),\n",
       " (we, ’ve picked, one),\n",
       " (you, saw, growth),\n",
       " (you, give, us),\n",
       " (you, give, color),\n",
       " (you, are viewing, demand trends),\n",
       " (you, consider, to be),\n",
       " (you, see, deterioration),\n",
       " (that, would lend, credence),\n",
       " (that, would lend, to),\n",
       " (me, take, half),\n",
       " (I, will hand, it),\n",
       " (we, began, to produce),\n",
       " (’s, helped, sales),\n",
       " (we, told, you),\n",
       " (we, built, units),\n",
       " (which, allowed, us),\n",
       " (me, make, point),\n",
       " (there, has been, lots),\n",
       " (there, has been, let),\n",
       " (me, take, moment),\n",
       " (me, take, to make),\n",
       " (I, don’t want, to comment),\n",
       " (I, would spend, life),\n",
       " (I, would spend, doing),\n",
       " (it, 's, to question),\n",
       " (it, would be, interpret),\n",
       " (we, have, sources),\n",
       " (there, is, list),\n",
       " (we, have, question),\n",
       " (I, wanted, to make),\n",
       " (I, understand, comments),\n",
       " (you, ’re, providing),\n",
       " (you, saying, that),\n",
       " (you, provided, guidance),\n",
       " (We, getting, planning range),\n",
       " (it, 's, Peter),\n",
       " (we, ’ve provided, point estimate),\n",
       " (we, had, confidence),\n",
       " (I, comparing, word),\n",
       " (I, ’m, trying),\n",
       " (you, eclipsed, it),\n",
       " (there, is, likelihood),\n",
       " (I, want, to understand),\n",
       " (we, gave, you),\n",
       " (we, gave, point estimate),\n",
       " (we, had, confidence),\n",
       " (We, providing, you),\n",
       " (We, providing, range),\n",
       " (we, expect, best),\n",
       " (you, satisfy, customers),\n",
       " (backdrop, is, share preservation),\n",
       " (you, held, share),\n",
       " (you, had, product),\n",
       " (market segment, is expected, to grow),\n",
       " (price point, is expected, to grow),\n",
       " (you, have, share),\n",
       " (Tim Cook Toni, is, to make),\n",
       " (that, enrich, customer),\n",
       " (we, could put, Apple brand),\n",
       " (We, want, to make),\n",
       " (we, ’ve had, track record),\n",
       " (I, wouldn’t view, things),\n",
       " (order bit, is, making),\n",
       " (that, enriches, customer),\n",
       " (we, have, question),\n",
       " (you, talk, more),\n",
       " (shortfall, is, billion),\n",
       " (shortfall, is, much),\n",
       " (there, is, billion),\n",
       " (there, is, much),\n",
       " (I, wanted, to talk),\n",
       " (Mac sales, were, million),\n",
       " (year, is, million),\n",
       " (difference, is, million),\n",
       " (me, try, to bridge),\n",
       " (we, announced, iMacs),\n",
       " (we, announced, those),\n",
       " (there, were, weeks),\n",
       " (we, left, quarter),\n",
       " (sales, would have been, exist),\n",
       " (We, tried, to tell),\n",
       " (we, would have, constraints),\n",
       " (I, recognized, this),\n",
       " (we, had, weeks),\n",
       " (We, have, weeks),\n",
       " (we, sold, Macs),\n",
       " (we, didn’t have, was),\n",
       " (you, take, factors),\n",
       " (they, bridge, more),\n",
       " (I, would point, things),\n",
       " (these, are, things),\n",
       " (we, sold, iPads),\n",
       " (we, could have sold, more),\n",
       " (we, could not build, iPad minis),\n",
       " (there, is, cannibalization),\n",
       " (there, was, cannibalization),\n",
       " (there, has been, lot),\n",
       " (you, give, us),\n",
       " (you, give, update),\n",
       " (that, drive, Apple),\n",
       " (I, don’t want, to comment),\n",
       " (we, have made, number),\n",
       " (introduction, will roll, improvements),\n",
       " (we, are going, to keep),\n",
       " (they, include, things),\n",
       " (we, ’re, doing),\n",
       " (we, ’re, blowing),\n",
       " (We, ’ve gained, center),\n",
       " (we, ’ve, apps),\n",
       " (there, is, stuff),\n",
       " (you, can bet, we),\n",
       " (we, have, question),\n",
       " (you, review, comments),\n",
       " (you, expected, to be),\n",
       " (you, expected, comments),\n",
       " (I, ’ll make, comment),\n",
       " (we, could not make, enough),\n",
       " (Customers, love, mini),\n",
       " (we, could have made, more),\n",
       " (we, ended, quarter),\n",
       " (there, are, factors),\n",
       " (that, will benefit, margins),\n",
       " (teams, have made, progress),\n",
       " (they, have been, working),\n",
       " (we, expect, benefit),\n",
       " (we, expect, typical level),\n",
       " (factors, to be, more),\n",
       " (we, expect, to be),\n",
       " (I, will make, comments),\n",
       " (I, will bring, points),\n",
       " (one, was, over),\n",
       " (ASP, was, over),\n",
       " (you, look, to total),\n",
       " (we, saw, results),\n",
       " (I, buy, equipment),\n",
       " (this, gives, Apple),\n",
       " (you, will go, etcetera),\n",
       " (it, ’s, Peter),\n",
       " (We, expect, to spend),\n",
       " (We, expect, to spend),\n",
       " (We, are buying, equipment),\n",
       " (we, get, benefits),\n",
       " (we, have, question),\n",
       " (Cross Research Group, Thank, you),\n",
       " (you, talk, bit),\n",
       " (you, shipped, products),\n",
       " (I, want, to answer),\n",
       " (question, was, percentage),\n",
       " (80%, was, percentage),\n",
       " (I, can tell, you),\n",
       " (we, had, products),\n",
       " (customers, expressed, joy),\n",
       " (you, talk, more),\n",
       " (you, ’ve broken, China revenue),\n",
       " (you, talk, overall),\n",
       " (which, would include, stores),\n",
       " (revenues, were, billion),\n",
       " (’s, comparing, weeks),\n",
       " (We, saw, growth),\n",
       " (we, shipped, iPad),\n",
       " (we, had, stores),\n",
       " (we, have, 11),\n",
       " (We, have, more),\n",
       " (we, increased, iPhone point),\n",
       " (it, ’s, final),\n",
       " (we, are making, progress),\n",
       " (it, ’s, region),\n",
       " (we, have given, you),\n",
       " (we, have given, ’s),\n",
       " (we, have given, clear),\n",
       " (there, is, lot),\n",
       " (we, have, question),\n",
       " (you, made, comments),\n",
       " (Apple, wants, to fix),\n",
       " (we, can take, step),\n",
       " (it, ’s, box),\n",
       " (you, want, to accomplish),\n",
       " (you, asking, me),\n",
       " (you, asking, questions),\n",
       " (I, don’t want, to answer),\n",
       " (I, don’t want, let),\n",
       " (I, can find, comments),\n",
       " (we, sold, more),\n",
       " (we, sold, eclipsing),\n",
       " (there, is, growth),\n",
       " (what, was, niche),\n",
       " (it, is, number),\n",
       " (this, is, area),\n",
       " (I, tend, to believe),\n",
       " (there, is, lot),\n",
       " (that, continue, to pull),\n",
       " (that, continue, see),\n",
       " (we, continue, to pull),\n",
       " (we, continue, see),\n",
       " (it, leads, us),\n",
       " (I, don’t want, to be),\n",
       " (you, gave, margin guidance),\n",
       " (quarter, is, anything),\n",
       " (EPS guidance, is, anything),\n",
       " (parts, might have, nuance),\n",
       " (you, ’re, giving),\n",
       " (method, was, point estimate),\n",
       " (we, ’ll give, guidance),\n",
       " (we, ’re, going),\n",
       " (there, are, possibilities),\n",
       " (we, ’ll report, results),\n",
       " (we, ’ve, question),\n",
       " (that, compared, to say),\n",
       " (I, don’t have, numbers),\n",
       " (we, ’re, selling),\n",
       " (we, ’re, selling),\n",
       " (we, had heard, feedback),\n",
       " (there, was, lot),\n",
       " (this, is, one),\n",
       " (There, are, carriers),\n",
       " (kind, would be, Keith),\n",
       " (amount increase, stay, same),\n",
       " (decrease, stay, same),\n",
       " (I, ’m going, was),\n",
       " (we, can achieve, supply demand balance),\n",
       " (we, would need, units),\n",
       " (that, would be, conclusion),\n",
       " (we, don’t provide, sublevel forecast),\n",
       " (we, expect, to be),\n",
       " (we, had, iPad mini),\n",
       " (we, have, question),\n",
       " (you, discuss, tablet market),\n",
       " (you, talked, being constrained),\n",
       " (you, talked, is),\n",
       " (you, talked, see),\n",
       " (you, see, challenges),\n",
       " (me, take, part),\n",
       " (team, did, job),\n",
       " (We, did have, shortages),\n",
       " (that, persisted, quarter),\n",
       " (we, can achieve, demand balance),\n",
       " (we, are going, increase),\n",
       " (we, will achieve, demand balance),\n",
       " (I, see, cannibalization),\n",
       " (base philosophy, is, to never fear),\n",
       " (somebody, cannibalize, it),\n",
       " (we, never fear, it),\n",
       " (iPhone, has cannibalized, iPod business),\n",
       " (It, doesn’t worry, us),\n",
       " (it, ’s done, that),\n",
       " (iPad, will cannibalize, Macs),\n",
       " (that, doesn’t worry, us),\n",
       " (we, have, mother),\n",
       " (there, is, opportunity),\n",
       " (I, believe, that),\n",
       " (lines, are beginning, to converge),\n",
       " (I, think, thing),\n",
       " (somebody, will buys, iPad mini),\n",
       " (somebody, will buys, iPad),\n",
       " (it, ’s, Apple product),\n",
       " (we, had, experience),\n",
       " (somebody, buys, Apple product),\n",
       " (percentage, windup, buying),\n",
       " (we, had termed, halo effect),\n",
       " (we, are seeing, evidence),\n",
       " (I, see, cannibalization),\n",
       " (Nancy Paxton, Thank, you),\n",
       " (we, have, question),\n",
       " (Question Tim, gave, transparency),\n",
       " (Peter, gave, transparency),\n",
       " (we, have built, units),\n",
       " (we, did, the),\n",
       " (we, did, launch),\n",
       " (sales growth, was, 32.5),\n",
       " (in, was, 35),\n",
       " (we, 'll grow, year),\n",
       " (JPMorgan, has, rollout),\n",
       " (pace, has, rollout),\n",
       " (we, have, carriers),\n",
       " (we, are adding, carriers),\n",
       " (iPhone, supports, networks),\n",
       " (we, have, question),\n",
       " (up, is, benefit),\n",
       " (there, is, benefit),\n",
       " (it, ’s, Peter),\n",
       " (me, give, you),\n",
       " (me, give, things),\n",
       " (range, is, increase),\n",
       " (there, are, factors),\n",
       " (me, point, few),\n",
       " (we, ’ve built, units),\n",
       " (which, allowed, us),\n",
       " (That, increased, revenue),\n",
       " (rollout, has been, fastest),\n",
       " (we, did not achieve, country distribution),\n",
       " (which, included, China),\n",
       " (we, made, decision),\n",
       " (we, saw, reduction),\n",
       " (we, saw, over),\n",
       " (iPad ASPs, to be, bit),\n",
       " (PC market, grew, 4%),\n",
       " (I, wanted, to come),\n",
       " (you, are not fearing, cannibalization),\n",
       " (There, seems, to be),\n",
       " (we, seen, evidence),\n",
       " (Members, can contact, Dowling),\n",
       " (analysts, can contact, Hoover),\n",
       " (analysts, can contact, me),\n",
       " (that, does conclude, presentation),\n",
       " (We, thank, everyone),\n",
       " (transcripts, are, copyright),\n",
       " (we, view, them),\n",
       " (investors, have had, to pay),\n",
       " (You, may quote, SeekingAlpha.com),\n",
       " (you, attribute, transcript),\n",
       " (INFORMATION CONTAINED, IS, TEXTUAL REPRESENTATION),\n",
       " (THERE, MAY BE, ERRORS),\n",
       " (THERE, MAY BE, OMISSIONS),\n",
       " (INFORMATION PROVIDED, SITE, OR),\n",
       " (ON THIS WEB, SITE, OR),\n",
       " (USERS, ARE, REVIEW),\n",
       " (you, have, questions)]"
      ]
     },
     "execution_count": 100,
     "metadata": {},
     "output_type": "execute_result"
    }
   ],
   "source": [
    "list(textacy.extract.subject_verb_object_triples(doc))"
   ]
  },
  {
   "cell_type": "code",
   "execution_count": 105,
   "metadata": {},
   "outputs": [],
   "source": [
    "adjectives = list(textacy.extract.words(doc, include_pos='ADJ', filter_stops=True, filter_punct=True))\n",
    "adjectives_str = map(str, adjectives)"
   ]
  },
  {
   "cell_type": "code",
   "execution_count": 106,
   "metadata": {},
   "outputs": [
    {
     "data": {
      "text/plain": [
       "[('new', 27),\n",
       " ('gross', 12),\n",
       " ('great', 11),\n",
       " ('higher', 10),\n",
       " ('high', 9),\n",
       " ('little', 9),\n",
       " ('best', 8),\n",
       " ('pleased', 7),\n",
       " ('strong', 7),\n",
       " ('clear', 7),\n",
       " ('larger', 7),\n",
       " ('previous', 7),\n",
       " ('second', 6),\n",
       " ('latest', 6),\n",
       " ('average', 6),\n",
       " ('significant', 6),\n",
       " ('single', 6),\n",
       " ('sequential', 6),\n",
       " ('confident', 6),\n",
       " ('good', 5),\n",
       " ('important', 5),\n",
       " ('fiscal', 5),\n",
       " ('current', 5),\n",
       " ('overall', 5),\n",
       " ('tremendous', 5),\n",
       " ('total', 5),\n",
       " ('short', 5),\n",
       " ('reasonable', 5),\n",
       " ('different', 5),\n",
       " ('specific', 5)]"
      ]
     },
     "execution_count": 106,
     "metadata": {},
     "output_type": "execute_result"
    }
   ],
   "source": [
    "c = Counter(adjectives_str)\n",
    "c.most_common(30)"
   ]
  },
  {
   "cell_type": "code",
   "execution_count": 108,
   "metadata": {},
   "outputs": [
    {
     "data": {
      "text/plain": [
       "[sales,\n",
       " technology,\n",
       " company,\n",
       " kinds,\n",
       " results,\n",
       " periods,\n",
       " innovation,\n",
       " products,\n",
       " history,\n",
       " months]"
      ]
     },
     "execution_count": 108,
     "metadata": {},
     "output_type": "execute_result"
    }
   ],
   "source": [
    "list(textacy.extract.words(doc, include_pos='NOUN'))[50:60]"
   ]
  },
  {
   "cell_type": "code",
   "execution_count": 110,
   "metadata": {},
   "outputs": [
    {
     "data": {
      "text/plain": [
       "[serve, coming, marks, introduced, said, supposed, use, touch, come, rely]"
      ]
     },
     "execution_count": 110,
     "metadata": {},
     "output_type": "execute_result"
    }
   ],
   "source": [
    "list(textacy.extract.words(doc, include_pos='VERB'))[50:60]"
   ]
  },
  {
   "cell_type": "code",
   "execution_count": 120,
   "metadata": {},
   "outputs": [
    {
     "data": {
      "text/plain": [
       "[('cross research group', 0.17684877217419395),\n",
       " ('tim cook', 0.10202934484296118),\n",
       " ('current year quarter', 0.08375020000302394),\n",
       " ('peter oppenheimer', 0.04851380757560747),\n",
       " ('nancy paxton', 0.0403578043680476),\n",
       " ('gross margin', 0.033427043249452955),\n",
       " ('good afternoon', 0.02327419821385837),\n",
       " ('new product', 0.021413604457510997),\n",
       " ('nancy paxton thank', 0.020798328274365653),\n",
       " ('december quarter', 0.019487315495107932),\n",
       " ('ipad sale', 0.01860707334354553),\n",
       " ('keith bachman', 0.01802272971618052),\n",
       " ('steve milunovich', 0.017699459739349565),\n",
       " ('chris whitmore', 0.017503291370776733),\n",
       " ('deutsche bank', 0.017178583803285755),\n",
       " ('shannon cross', 0.017119959549262185),\n",
       " ('katy huberty', 0.01710729208050091),\n",
       " ('morgan stanley', 0.01708876749472913),\n",
       " ('march quarter', 0.01589504154019362),\n",
       " ('channel inventory', 0.015844439968861625),\n",
       " ('ipad mini', 0.015683625550617437),\n",
       " ('bill shope', 0.015363309275401848),\n",
       " ('goldman sachs', 0.015361800522869938),\n",
       " ('mark moskowitz', 0.015339307968672137),\n",
       " ('nancy paxton thanks', 0.014918521411223067),\n",
       " ('gene munster', 0.014258015085415828),\n",
       " ('piper jaffray', 0.014218661864230911),\n",
       " ('fiscal year', 0.01416174834153251),\n",
       " ('sanford bernstein', 0.013611941191309969),\n",
       " ('apple ’s', 0.012986331659348097)]"
      ]
     },
     "execution_count": 120,
     "metadata": {},
     "output_type": "execute_result"
    }
   ],
   "source": [
    "list(textacy.keyterms.sgrank(doc, ngrams={2,3}, n_keyterms=30))"
   ]
  },
  {
   "cell_type": "code",
   "execution_count": 113,
   "metadata": {},
   "outputs": [
    {
     "data": {
      "text/plain": [
       "[('quarter fiscal year', 0.05435460795208541),\n",
       " ('current year quarter', 0.053978429056079844),\n",
       " ('week quarter', 0.036488464316690214),\n",
       " ('december quarter', 0.035459552082040664),\n",
       " ('march quarter', 0.03425826182632119),\n",
       " ('iphone market share growth', 0.033604784168682976),\n",
       " ('sequential basis iphone sale', 0.03174332086408786),\n",
       " ('previous quarter', 0.031644633305077226),\n",
       " ('fiscal quarter', 0.031504117394321025),\n",
       " ('year sale', 0.03136525135313889),\n",
       " ('september quarter', 0.03097410454927005),\n",
       " ('year unit growth', 0.030087816842896808),\n",
       " ('quarter', 0.02982483243245281),\n",
       " ('year ’s', 0.029657888496306767),\n",
       " ('increase iphone point', 0.02887852161265135),\n",
       " ('year growth', 0.027606786514304784),\n",
       " ('growth year', 0.027606786514304784),\n",
       " ('experience strong iphone growth', 0.02727208172439098),\n",
       " ('iphone sale', 0.02684952220839724),\n",
       " ('year increase', 0.026849365765950747),\n",
       " ('increase year', 0.026849365765950747),\n",
       " ('large year', 0.026298596798386125),\n",
       " ('year result', 0.02627967536708987),\n",
       " ('iphone question', 0.026215813542505458),\n",
       " ('year basis', 0.026148164748044732),\n",
       " ('total ipad sale', 0.02587497174332031),\n",
       " ('iphone channel inventory', 0.025681814506771327),\n",
       " ('unit year', 0.025331520886356408),\n",
       " ('iphone customer', 0.025222472202011216),\n",
       " ('iphone ’s', 0.025142159351565115)]"
      ]
     },
     "execution_count": 113,
     "metadata": {},
     "output_type": "execute_result"
    }
   ],
   "source": [
    "list(textacy.keyterms.singlerank(doc, n_keyterms=30))"
   ]
  }
 ],
 "metadata": {
  "kernelspec": {
   "display_name": "Python 3",
   "language": "python",
   "name": "python3"
  },
  "language_info": {
   "codemirror_mode": {
    "name": "ipython",
    "version": 3
   },
   "file_extension": ".py",
   "mimetype": "text/x-python",
   "name": "python",
   "nbconvert_exporter": "python",
   "pygments_lexer": "ipython3",
   "version": "3.6.1"
  }
 },
 "nbformat": 4,
 "nbformat_minor": 2
}
