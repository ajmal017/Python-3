{
 "cells": [
  {
   "cell_type": "code",
   "execution_count": 3,
   "metadata": {},
   "outputs": [],
   "source": [
    "import pandas as pd\n",
    "import numpy as np\n",
    "import matplotlib.pyplot as plt\n",
    "import seaborn as sns\n",
    "%matplotlib inline"
   ]
  },
  {
   "cell_type": "code",
   "execution_count": 4,
   "metadata": {},
   "outputs": [],
   "source": [
    "from pymongo import MongoClient\n",
    "from spacy.en import English\n",
    "import spacy"
   ]
  },
  {
   "cell_type": "code",
   "execution_count": 5,
   "metadata": {},
   "outputs": [],
   "source": [
    "import textacy"
   ]
  },
  {
   "cell_type": "code",
   "execution_count": 6,
   "metadata": {},
   "outputs": [],
   "source": [
    "text = \"My favourite team is Barcelona FC. They are great. I love them.\""
   ]
  },
  {
   "cell_type": "code",
   "execution_count": 7,
   "metadata": {},
   "outputs": [],
   "source": [
    "doc = textacy.Doc(text)"
   ]
  },
  {
   "cell_type": "code",
   "execution_count": 8,
   "metadata": {},
   "outputs": [
    {
     "data": {
      "text/plain": [
       "[team]"
      ]
     },
     "execution_count": 8,
     "metadata": {},
     "output_type": "execute_result"
    }
   ],
   "source": [
    "list(textacy.extract.words(doc, include_pos='NOUN'))"
   ]
  },
  {
   "cell_type": "code",
   "execution_count": 15,
   "metadata": {},
   "outputs": [],
   "source": [
    "from nltk import word_tokenize"
   ]
  },
  {
   "cell_type": "code",
   "execution_count": 10,
   "metadata": {},
   "outputs": [],
   "source": [
    "nlp = English()"
   ]
  },
  {
   "cell_type": "code",
   "execution_count": 23,
   "metadata": {},
   "outputs": [],
   "source": [
    "text = 'At eight o\\'clock on Thursday morning Arthur didn\\'t feel very good. This was the worst possibility ever in my life. Let\\'s go to houses. This was hawkish. Good, better, best.'"
   ]
  },
  {
   "cell_type": "code",
   "execution_count": 24,
   "metadata": {},
   "outputs": [
    {
     "name": "stdout",
     "output_type": "stream",
     "text": [
      "--- at\n",
      "--- eight\n",
      "+++ o'clock\n",
      "--- on\n",
      "+++ thursday\n",
      "+++ morning\n",
      "+++ arthur\n",
      "+++ do\n",
      "--- not\n",
      "+++ feel\n",
      "--- very\n",
      "+++ good\n",
      "--- .\n",
      "--- this\n",
      "+++ be\n",
      "--- the\n",
      "+++ bad\n",
      "+++ possibility\n",
      "--- ever\n",
      "--- in\n",
      "--- -PRON-\n",
      "+++ life\n",
      "--- .\n",
      "+++ let\n",
      "--- 's\n",
      "+++ go\n",
      "--- to\n",
      "+++ house\n",
      "--- .\n",
      "--- this\n",
      "+++ be\n",
      "+++ hawkish\n",
      "--- .\n",
      "+++ good\n",
      "--- ,\n",
      "+++ good\n",
      "--- ,\n",
      "+++ good\n",
      "--- .\n"
     ]
    }
   ],
   "source": [
    "for span in nlp(text):\n",
    "    lemma = span.lemma_\n",
    "    if span.pos_ in [\"NOUN\", \"PROPN\", \"ADJ\", \"VERB\"] and not span.lemma_ == '-PRON-':\n",
    "        print('+++ ' + lemma)\n",
    "    else:\n",
    "        print('--- ' + lemma)"
   ]
  },
  {
   "cell_type": "code",
   "execution_count": 25,
   "metadata": {},
   "outputs": [
    {
     "name": "stdout",
     "output_type": "stream",
     "text": [
      "['At',\n",
      " 'eight',\n",
      " \"o'clock\",\n",
      " 'on',\n",
      " 'Thursday',\n",
      " 'morning',\n",
      " 'Arthur',\n",
      " 'did',\n",
      " \"n't\",\n",
      " 'feel',\n",
      " 'very',\n",
      " 'good',\n",
      " '.',\n",
      " 'This',\n",
      " 'was',\n",
      " 'the',\n",
      " 'worst',\n",
      " 'possibility',\n",
      " 'ever',\n",
      " 'in',\n",
      " 'my',\n",
      " 'life',\n",
      " '.',\n",
      " 'Let',\n",
      " \"'s\",\n",
      " 'go',\n",
      " 'to',\n",
      " 'houses',\n",
      " '.',\n",
      " 'This',\n",
      " 'was',\n",
      " 'hawkish',\n",
      " '.',\n",
      " 'Good',\n",
      " ',',\n",
      " 'better',\n",
      " ',',\n",
      " 'best',\n",
      " '.']\n"
     ]
    }
   ],
   "source": [
    "from pprint import pprint\n",
    "pprint(word_tokenize(text))"
   ]
  }
 ],
 "metadata": {
  "kernelspec": {
   "display_name": "Python 3",
   "language": "python",
   "name": "python3"
  },
  "language_info": {
   "codemirror_mode": {
    "name": "ipython",
    "version": 3
   },
   "file_extension": ".py",
   "mimetype": "text/x-python",
   "name": "python",
   "nbconvert_exporter": "python",
   "pygments_lexer": "ipython3",
   "version": "3.6.1"
  }
 },
 "nbformat": 4,
 "nbformat_minor": 2
}
