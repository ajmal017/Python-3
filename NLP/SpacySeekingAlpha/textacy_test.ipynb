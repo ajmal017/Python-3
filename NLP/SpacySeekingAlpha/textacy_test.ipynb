{
 "cells": [
  {
   "cell_type": "code",
   "execution_count": 1,
   "metadata": {},
   "outputs": [],
   "source": [
    "import pandas as pd\n",
    "import numpy as np\n",
    "import matplotlib.pyplot as plt\n",
    "import seaborn as sns\n",
    "%matplotlib inline"
   ]
  },
  {
   "cell_type": "code",
   "execution_count": 2,
   "metadata": {},
   "outputs": [],
   "source": [
    "from pymongo import MongoClient\n",
    "from spacy.en import English\n",
    "import spacy"
   ]
  },
  {
   "cell_type": "code",
   "execution_count": 3,
   "metadata": {},
   "outputs": [],
   "source": [
    "import textacy"
   ]
  },
  {
   "cell_type": "code",
   "execution_count": 7,
   "metadata": {},
   "outputs": [],
   "source": [
    "text = \"My favourite team is Barcelona FC. They are great. I love them. Team is best.\""
   ]
  },
  {
   "cell_type": "code",
   "execution_count": 8,
   "metadata": {},
   "outputs": [],
   "source": [
    "doc = textacy.Doc(text)"
   ]
  },
  {
   "cell_type": "code",
   "execution_count": 9,
   "metadata": {},
   "outputs": [
    {
     "data": {
      "text/plain": [
       "[favourite, team, Barcelona, FC, great, love, Team, best]"
      ]
     },
     "execution_count": 9,
     "metadata": {},
     "output_type": "execute_result"
    }
   ],
   "source": [
    "list(textacy.extract.words(doc))"
   ]
  },
  {
   "cell_type": "code",
   "execution_count": 7,
   "metadata": {},
   "outputs": [],
   "source": [
    "from nltk import word_tokenize"
   ]
  },
  {
   "cell_type": "code",
   "execution_count": 16,
   "metadata": {},
   "outputs": [],
   "source": [
    "nlp = English()"
   ]
  },
  {
   "cell_type": "code",
   "execution_count": 9,
   "metadata": {},
   "outputs": [],
   "source": [
    "text = 'At eight o\\'clock on Thursday morning Arthur didn\\'t feel very good. This was the worst possibility ever in my life. Let\\'s go to houses. This was hawkish. Good, better, best.'"
   ]
  },
  {
   "cell_type": "code",
   "execution_count": 10,
   "metadata": {},
   "outputs": [
    {
     "name": "stdout",
     "output_type": "stream",
     "text": [
      "--- at\n",
      "--- eight\n",
      "+++ o'clock\n",
      "--- on\n",
      "+++ thursday\n",
      "+++ morning\n",
      "+++ arthur\n",
      "+++ do\n",
      "--- not\n",
      "+++ feel\n",
      "--- very\n",
      "+++ good\n",
      "--- .\n",
      "--- this\n",
      "+++ be\n",
      "--- the\n",
      "+++ bad\n",
      "+++ possibility\n",
      "--- ever\n",
      "--- in\n",
      "--- -PRON-\n",
      "+++ life\n",
      "--- .\n",
      "+++ let\n",
      "--- 's\n",
      "+++ go\n",
      "--- to\n",
      "+++ house\n",
      "--- .\n",
      "--- this\n",
      "+++ be\n",
      "+++ hawkish\n",
      "--- .\n",
      "+++ good\n",
      "--- ,\n",
      "+++ good\n",
      "--- ,\n",
      "+++ good\n",
      "--- .\n"
     ]
    }
   ],
   "source": [
    "for span in nlp(text):\n",
    "    lemma = span.lemma_\n",
    "    if span.pos_ in [\"NOUN\", \"PROPN\", \"ADJ\", \"VERB\"] and not span.lemma_ == '-PRON-':\n",
    "        print('+++ ' + lemma)\n",
    "    else:\n",
    "        print('--- ' + lemma)"
   ]
  },
  {
   "cell_type": "code",
   "execution_count": 11,
   "metadata": {},
   "outputs": [
    {
     "name": "stdout",
     "output_type": "stream",
     "text": [
      "['At',\n",
      " 'eight',\n",
      " \"o'clock\",\n",
      " 'on',\n",
      " 'Thursday',\n",
      " 'morning',\n",
      " 'Arthur',\n",
      " 'did',\n",
      " \"n't\",\n",
      " 'feel',\n",
      " 'very',\n",
      " 'good',\n",
      " '.',\n",
      " 'This',\n",
      " 'was',\n",
      " 'the',\n",
      " 'worst',\n",
      " 'possibility',\n",
      " 'ever',\n",
      " 'in',\n",
      " 'my',\n",
      " 'life',\n",
      " '.',\n",
      " 'Let',\n",
      " \"'s\",\n",
      " 'go',\n",
      " 'to',\n",
      " 'houses',\n",
      " '.',\n",
      " 'This',\n",
      " 'was',\n",
      " 'hawkish',\n",
      " '.',\n",
      " 'Good',\n",
      " ',',\n",
      " 'better',\n",
      " ',',\n",
      " 'best',\n",
      " '.']\n"
     ]
    }
   ],
   "source": [
    "from pprint import pprint\n",
    "pprint(word_tokenize(text))"
   ]
  },
  {
   "cell_type": "code",
   "execution_count": 12,
   "metadata": {},
   "outputs": [],
   "source": [
    "client = MongoClient('localhost', 27017)\n",
    "db = client.python_import\n",
    "collection = db.tickers"
   ]
  },
  {
   "cell_type": "code",
   "execution_count": 13,
   "metadata": {},
   "outputs": [],
   "source": [
    "tickers = pd.DataFrame(list(collection.find()))"
   ]
  },
  {
   "cell_type": "code",
   "execution_count": 14,
   "metadata": {},
   "outputs": [
    {
     "data": {
      "text/html": [
       "<div>\n",
       "<style>\n",
       "    .dataframe thead tr:only-child th {\n",
       "        text-align: right;\n",
       "    }\n",
       "\n",
       "    .dataframe thead th {\n",
       "        text-align: left;\n",
       "    }\n",
       "\n",
       "    .dataframe tbody tr th {\n",
       "        vertical-align: top;\n",
       "    }\n",
       "</style>\n",
       "<table border=\"1\" class=\"dataframe\">\n",
       "  <thead>\n",
       "    <tr style=\"text-align: right;\">\n",
       "      <th></th>\n",
       "      <th>_id</th>\n",
       "      <th>group</th>\n",
       "      <th>ticker</th>\n",
       "    </tr>\n",
       "  </thead>\n",
       "  <tbody>\n",
       "    <tr>\n",
       "      <th>0</th>\n",
       "      <td>595a2cde3740f51bc4c76c4e</td>\n",
       "      <td>NASDAQ</td>\n",
       "      <td>AAL</td>\n",
       "    </tr>\n",
       "    <tr>\n",
       "      <th>1</th>\n",
       "      <td>595a2cdf3740f51bc4c76c4f</td>\n",
       "      <td>NASDAQ</td>\n",
       "      <td>AAPL</td>\n",
       "    </tr>\n",
       "    <tr>\n",
       "      <th>2</th>\n",
       "      <td>595a2cdf3740f51bc4c76c50</td>\n",
       "      <td>NASDAQ</td>\n",
       "      <td>ADBE</td>\n",
       "    </tr>\n",
       "    <tr>\n",
       "      <th>3</th>\n",
       "      <td>595a2cdf3740f51bc4c76c51</td>\n",
       "      <td>NASDAQ</td>\n",
       "      <td>ADI</td>\n",
       "    </tr>\n",
       "    <tr>\n",
       "      <th>4</th>\n",
       "      <td>595a2cdf3740f51bc4c76c52</td>\n",
       "      <td>NASDAQ</td>\n",
       "      <td>ADP</td>\n",
       "    </tr>\n",
       "  </tbody>\n",
       "</table>\n",
       "</div>"
      ],
      "text/plain": [
       "                        _id   group ticker\n",
       "0  595a2cde3740f51bc4c76c4e  NASDAQ    AAL\n",
       "1  595a2cdf3740f51bc4c76c4f  NASDAQ   AAPL\n",
       "2  595a2cdf3740f51bc4c76c50  NASDAQ   ADBE\n",
       "3  595a2cdf3740f51bc4c76c51  NASDAQ    ADI\n",
       "4  595a2cdf3740f51bc4c76c52  NASDAQ    ADP"
      ]
     },
     "execution_count": 14,
     "metadata": {},
     "output_type": "execute_result"
    }
   ],
   "source": [
    "tickers.head()"
   ]
  },
  {
   "cell_type": "code",
   "execution_count": 15,
   "metadata": {},
   "outputs": [],
   "source": [
    "tickers['Letter'] = tickers['ticker'].apply(lambda row: row[0])"
   ]
  },
  {
   "cell_type": "code",
   "execution_count": 16,
   "metadata": {},
   "outputs": [
    {
     "data": {
      "text/html": [
       "<div>\n",
       "<style>\n",
       "    .dataframe thead tr:only-child th {\n",
       "        text-align: right;\n",
       "    }\n",
       "\n",
       "    .dataframe thead th {\n",
       "        text-align: left;\n",
       "    }\n",
       "\n",
       "    .dataframe tbody tr th {\n",
       "        vertical-align: top;\n",
       "    }\n",
       "</style>\n",
       "<table border=\"1\" class=\"dataframe\">\n",
       "  <thead>\n",
       "    <tr style=\"text-align: right;\">\n",
       "      <th></th>\n",
       "      <th>_id</th>\n",
       "      <th>group</th>\n",
       "      <th>ticker</th>\n",
       "      <th>Letter</th>\n",
       "    </tr>\n",
       "  </thead>\n",
       "  <tbody>\n",
       "    <tr>\n",
       "      <th>0</th>\n",
       "      <td>595a2cde3740f51bc4c76c4e</td>\n",
       "      <td>NASDAQ</td>\n",
       "      <td>AAL</td>\n",
       "      <td>A</td>\n",
       "    </tr>\n",
       "    <tr>\n",
       "      <th>1</th>\n",
       "      <td>595a2cdf3740f51bc4c76c4f</td>\n",
       "      <td>NASDAQ</td>\n",
       "      <td>AAPL</td>\n",
       "      <td>A</td>\n",
       "    </tr>\n",
       "    <tr>\n",
       "      <th>2</th>\n",
       "      <td>595a2cdf3740f51bc4c76c50</td>\n",
       "      <td>NASDAQ</td>\n",
       "      <td>ADBE</td>\n",
       "      <td>A</td>\n",
       "    </tr>\n",
       "    <tr>\n",
       "      <th>3</th>\n",
       "      <td>595a2cdf3740f51bc4c76c51</td>\n",
       "      <td>NASDAQ</td>\n",
       "      <td>ADI</td>\n",
       "      <td>A</td>\n",
       "    </tr>\n",
       "    <tr>\n",
       "      <th>4</th>\n",
       "      <td>595a2cdf3740f51bc4c76c52</td>\n",
       "      <td>NASDAQ</td>\n",
       "      <td>ADP</td>\n",
       "      <td>A</td>\n",
       "    </tr>\n",
       "  </tbody>\n",
       "</table>\n",
       "</div>"
      ],
      "text/plain": [
       "                        _id   group ticker Letter\n",
       "0  595a2cde3740f51bc4c76c4e  NASDAQ    AAL      A\n",
       "1  595a2cdf3740f51bc4c76c4f  NASDAQ   AAPL      A\n",
       "2  595a2cdf3740f51bc4c76c50  NASDAQ   ADBE      A\n",
       "3  595a2cdf3740f51bc4c76c51  NASDAQ    ADI      A\n",
       "4  595a2cdf3740f51bc4c76c52  NASDAQ    ADP      A"
      ]
     },
     "execution_count": 16,
     "metadata": {},
     "output_type": "execute_result"
    }
   ],
   "source": [
    "tickers.head()"
   ]
  },
  {
   "cell_type": "code",
   "execution_count": 17,
   "metadata": {},
   "outputs": [
    {
     "data": {
      "text/plain": [
       "<matplotlib.axes._subplots.AxesSubplot at 0x1d37619bbe0>"
      ]
     },
     "execution_count": 17,
     "metadata": {},
     "output_type": "execute_result"
    },
    {
     "data": {
      "image/png": "[encoded data removed]",
      "text/plain": [
       "<matplotlib.figure.Figure at 0x1d37618ad30>"
      ]
     },
     "metadata": {},
     "output_type": "display_data"
    }
   ],
   "source": [
    "sns.countplot(tickers['Letter'])"
   ]
  },
  {
   "cell_type": "code",
   "execution_count": 18,
   "metadata": {},
   "outputs": [
    {
     "data": {
      "text/plain": [
       "183"
      ]
     },
     "execution_count": 18,
     "metadata": {},
     "output_type": "execute_result"
    }
   ],
   "source": [
    "len(tickers)"
   ]
  },
  {
   "cell_type": "code",
   "execution_count": 47,
   "metadata": {},
   "outputs": [],
   "source": [
    "a = nlp('My nail on my finger. The finger is on my hand and arm. This nail is made from flesh.')\n",
    "b = nlp('The heavy iron nail is in the wall. The wall is part of the building. This nail is made from iron.')"
   ]
  },
  {
   "cell_type": "code",
   "execution_count": 55,
   "metadata": {},
   "outputs": [
    {
     "data": {
      "text/plain": [
       "0.99999985798866953"
      ]
     },
     "execution_count": 55,
     "metadata": {},
     "output_type": "execute_result"
    }
   ],
   "source": [
    "a[1].similarity(b[3])"
   ]
  },
  {
   "cell_type": "code",
   "execution_count": 56,
   "metadata": {},
   "outputs": [
    {
     "data": {
      "text/plain": [
       "2485"
      ]
     },
     "execution_count": 56,
     "metadata": {},
     "output_type": "execute_result"
    }
   ],
   "source": [
    "a[1].cluster"
   ]
  },
  {
   "cell_type": "code",
   "execution_count": 57,
   "metadata": {},
   "outputs": [
    {
     "data": {
      "text/plain": [
       "2485"
      ]
     },
     "execution_count": 57,
     "metadata": {},
     "output_type": "execute_result"
    }
   ],
   "source": [
    "b[3].cluster"
   ]
  }
 ],
 "metadata": {
  "kernelspec": {
   "display_name": "Python 3",
   "language": "python",
   "name": "python3"
  },
  "language_info": {
   "codemirror_mode": {
    "name": "ipython",
    "version": 3
   },
   "file_extension": ".py",
   "mimetype": "text/x-python",
   "name": "python",
   "nbconvert_exporter": "python",
   "pygments_lexer": "ipython3",
   "version": "3.6.1"
  }
 },
 "nbformat": 4,
 "nbformat_minor": 2
}
