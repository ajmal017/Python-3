{
 "cells": [
  {
   "cell_type": "code",
   "execution_count": 59,
   "metadata": {
    "collapsed": true
   },
   "outputs": [],
   "source": [
    "import os"
   ]
  },
  {
   "cell_type": "code",
   "execution_count": null,
   "metadata": {
    "collapsed": false
   },
   "outputs": [],
   "source": [
    "def rename_file():\n",
    "    # get file names from a folder\n",
    "    file_list = os.listdir(r\"C:\\Users\\win10\\Pictures\\prank\")\n",
    "    print(file_list)\n",
    "    \n",
    "    # for each file rename filename\n",
    "    #for file_name in file_list\n",
    "     #   os.rename(file_name,file_name.strip(\"0123456789\"))"
   ]
  },
  {
   "cell_type": "code",
   "execution_count": null,
   "metadata": {
    "collapsed": false
   },
   "outputs": [],
   "source": [
    "rename_file()"
   ]
  },
  {
   "cell_type": "code",
   "execution_count": 60,
   "metadata": {
    "collapsed": false
   },
   "outputs": [
    {
     "name": "stdout",
     "output_type": "stream",
     "text": [
      "48athen\n"
     ]
    }
   ],
   "source": [
    "file_name = \"48athen\"\n",
    "print(file_name)"
   ]
  },
  {
   "cell_type": "code",
   "execution_count": 61,
   "metadata": {
    "collapsed": false
   },
   "outputs": [
    {
     "name": "stdout",
     "output_type": "stream",
     "text": [
      "athen\n"
     ]
    }
   ],
   "source": [
    "new_file_name = file_name.strip(\"0123456789\")\n",
    "print(new_file_name)"
   ]
  },
  {
   "cell_type": "code",
   "execution_count": 62,
   "metadata": {
    "collapsed": false
   },
   "outputs": [
    {
     "name": "stdout",
     "output_type": "stream",
     "text": [
      "['1erdo.JPG', '2aronerdo.JPG', '3aronapa.JPG', '4hovirag.JPG']\n"
     ]
    }
   ],
   "source": [
    "file_list = os.listdir(r\"C:\\Users\\win10\\Pictures\\prank\")\n",
    "print(file_list)"
   ]
  },
  {
   "cell_type": "code",
   "execution_count": 63,
   "metadata": {
    "collapsed": false
   },
   "outputs": [
    {
     "name": "stdout",
     "output_type": "stream",
     "text": [
      "Current working directory is: C:\\Users\\win10\\Pictures\\prank\n"
     ]
    }
   ],
   "source": [
    "save_path = os.getcwd()\n",
    "print(\"Current working directory is: \"+save_path)"
   ]
  },
  {
   "cell_type": "code",
   "execution_count": 64,
   "metadata": {
    "collapsed": false
   },
   "outputs": [
    {
     "name": "stdout",
     "output_type": "stream",
     "text": [
      "New working directory is: C:\\Users\\win10\\Pictures\\prank\n"
     ]
    }
   ],
   "source": [
    "os.chdir(r\"C:\\Users\\win10\\Pictures\\prank\")\n",
    "new_directory = os.getcwd()\n",
    "print(\"New working directory is: \"+new_directory)"
   ]
  },
  {
   "cell_type": "code",
   "execution_count": 65,
   "metadata": {
    "collapsed": false
   },
   "outputs": [
    {
     "name": "stdout",
     "output_type": "stream",
     "text": [
      "Old name - 1erdo.JPG\n",
      "New name - erdo.JPG\n",
      "Old name - 2aronerdo.JPG\n",
      "New name - aronerdo.JPG\n",
      "Old name - 3aronapa.JPG\n",
      "New name - aronapa.JPG\n",
      "Old name - 4hovirag.JPG\n",
      "New name - hovirag.JPG\n"
     ]
    }
   ],
   "source": [
    "for file_name in file_list:\n",
    "    print(\"Old name - \"+file_name)\n",
    "    print(\"New name - \"+file_name.strip(\"0123456789\"))\n",
    "    os.rename(file_name,file_name.strip(\"0123456789\"))\n",
    "os.chdir(save_path)"
   ]
  },
  {
   "cell_type": "code",
   "execution_count": null,
   "metadata": {
    "collapsed": true
   },
   "outputs": [],
   "source": []
  }
 ],
 "metadata": {
  "anaconda-cloud": {},
  "kernelspec": {
   "display_name": "Python [default]",
   "language": "python",
   "name": "python3"
  },
  "language_info": {
   "codemirror_mode": {
    "name": "ipython",
    "version": 3
   },
   "file_extension": ".py",
   "mimetype": "text/x-python",
   "name": "python",
   "nbconvert_exporter": "python",
   "pygments_lexer": "ipython3",
   "version": "3.5.2"
  }
 },
 "nbformat": 4,
 "nbformat_minor": 1
}
