{
 "cells": [
  {
   "cell_type": "code",
   "execution_count": null,
   "metadata": {
    "collapsed": false
   },
   "outputs": [],
   "source": [
    "from twilio.rest import TwilioRestClient\n",
    "\"\"\"\n",
    "twilio.rest means: Inside \"twilio\", there is a folder called \"rest\" \n",
    "and inside that folder, there is a class called \"TwilioRestClient\"\n",
    "\"\"\"\n",
    "account_sid = \"{{ AC192f197f66c85460de7d934e8cb238dc }}\" # Your Account SID from www.twilio.com/console\n",
    "auth_token  = \"{{ 4ed770d65881fc854ce488e7096c9162 }}\"  # Your Auth Token from www.twilio.com/console\n",
    "\n",
    "client = TwilioRestClient(account_sid, auth_token)\n",
    "\n",
    "message = client.messages.create(body=\"Hello from Python\",\n",
    "    to=\"+36203654049\",    # Replace with your phone number\n",
    "    from_=\"+12052361060\") # Replace with your Twilio number\n",
    "\n",
    "print(message.sid)"
   ]
  },
  {
   "cell_type": "code",
   "execution_count": 2,
   "metadata": {
    "collapsed": false
   },
   "outputs": [
    {
     "ename": "TwilioRestException",
     "evalue": "HTTP 400 error: ",
     "output_type": "error",
     "traceback": [
      "\u001b[0;31m---------------------------------------------------------------------------\u001b[0m",
      "\u001b[0;31mTwilioRestException\u001b[0m                       Traceback (most recent call last)",
      "\u001b[0;32m<ipython-input-2-846ab908907e>\u001b[0m in \u001b[0;36m<module>\u001b[0;34m()\u001b[0m\n\u001b[1;32m     10\u001b[0m message = client.messages.create(body=\"Hello from Python\",\n\u001b[1;32m     11\u001b[0m     \u001b[0mto\u001b[0m\u001b[1;33m=\u001b[0m\u001b[1;34m\"+36203654049\"\u001b[0m\u001b[1;33m,\u001b[0m    \u001b[1;31m# Replace with your phone number\u001b[0m\u001b[1;33m\u001b[0m\u001b[0m\n\u001b[0;32m---> 12\u001b[0;31m     from_=\"+12052361060\") # Replace with your Twilio number\n\u001b[0m\u001b[1;32m     13\u001b[0m \u001b[1;33m\u001b[0m\u001b[0m\n\u001b[1;32m     14\u001b[0m \u001b[0mprint\u001b[0m\u001b[1;33m(\u001b[0m\u001b[0mmessage\u001b[0m\u001b[1;33m.\u001b[0m\u001b[0msid\u001b[0m\u001b[1;33m)\u001b[0m\u001b[1;33m\u001b[0m\u001b[0m\n",
      "\u001b[0;32mC:\\Program Files\\Anaconda3\\lib\\site-packages\\twilio\\rest\\resources\\messages.py\u001b[0m in \u001b[0;36mcreate\u001b[0;34m(self, from_, **kwargs)\u001b[0m\n\u001b[1;32m    120\u001b[0m         \"\"\"\n\u001b[1;32m    121\u001b[0m         \u001b[0mkwargs\u001b[0m\u001b[1;33m[\u001b[0m\u001b[1;34m\"from\"\u001b[0m\u001b[1;33m]\u001b[0m \u001b[1;33m=\u001b[0m \u001b[0mfrom_\u001b[0m\u001b[1;33m\u001b[0m\u001b[0m\n\u001b[0;32m--> 122\u001b[0;31m         \u001b[1;32mreturn\u001b[0m \u001b[0mself\u001b[0m\u001b[1;33m.\u001b[0m\u001b[0mcreate_instance\u001b[0m\u001b[1;33m(\u001b[0m\u001b[0mkwargs\u001b[0m\u001b[1;33m)\u001b[0m\u001b[1;33m\u001b[0m\u001b[0m\n\u001b[0m\u001b[1;32m    123\u001b[0m \u001b[1;33m\u001b[0m\u001b[0m\n\u001b[1;32m    124\u001b[0m     \u001b[1;33m@\u001b[0m\u001b[0mnormalize_dates\u001b[0m\u001b[1;33m\u001b[0m\u001b[0m\n",
      "\u001b[0;32mC:\\Program Files\\Anaconda3\\lib\\site-packages\\twilio\\rest\\resources\\base.py\u001b[0m in \u001b[0;36mcreate_instance\u001b[0;34m(self, body)\u001b[0m\n\u001b[1;32m    363\u001b[0m         \"\"\"\n\u001b[1;32m    364\u001b[0m         resp, instance = self.request(\"POST\", self.uri,\n\u001b[0;32m--> 365\u001b[0;31m                                       data=transform_params(body))\n\u001b[0m\u001b[1;32m    366\u001b[0m \u001b[1;33m\u001b[0m\u001b[0m\n\u001b[1;32m    367\u001b[0m         \u001b[1;32mif\u001b[0m \u001b[0mresp\u001b[0m\u001b[1;33m.\u001b[0m\u001b[0mstatus_code\u001b[0m \u001b[1;32mnot\u001b[0m \u001b[1;32min\u001b[0m \u001b[1;33m(\u001b[0m\u001b[1;36m200\u001b[0m\u001b[1;33m,\u001b[0m \u001b[1;36m201\u001b[0m\u001b[1;33m)\u001b[0m\u001b[1;33m:\u001b[0m\u001b[1;33m\u001b[0m\u001b[0m\n",
      "\u001b[0;32mC:\\Program Files\\Anaconda3\\lib\\site-packages\\twilio\\rest\\resources\\base.py\u001b[0m in \u001b[0;36mrequest\u001b[0;34m(self, method, uri, **kwargs)\u001b[0m\n\u001b[1;32m    198\u001b[0m \u001b[1;33m\u001b[0m\u001b[0m\n\u001b[1;32m    199\u001b[0m         \u001b[0mkwargs\u001b[0m\u001b[1;33m[\u001b[0m\u001b[1;34m'use_json_extension'\u001b[0m\u001b[1;33m]\u001b[0m \u001b[1;33m=\u001b[0m \u001b[0mself\u001b[0m\u001b[1;33m.\u001b[0m\u001b[0muse_json_extension\u001b[0m\u001b[1;33m\u001b[0m\u001b[0m\n\u001b[0;32m--> 200\u001b[0;31m         \u001b[0mresp\u001b[0m \u001b[1;33m=\u001b[0m \u001b[0mmake_twilio_request\u001b[0m\u001b[1;33m(\u001b[0m\u001b[0mmethod\u001b[0m\u001b[1;33m,\u001b[0m \u001b[0muri\u001b[0m\u001b[1;33m,\u001b[0m \u001b[0mauth\u001b[0m\u001b[1;33m=\u001b[0m\u001b[0mself\u001b[0m\u001b[1;33m.\u001b[0m\u001b[0mauth\u001b[0m\u001b[1;33m,\u001b[0m \u001b[1;33m**\u001b[0m\u001b[0mkwargs\u001b[0m\u001b[1;33m)\u001b[0m\u001b[1;33m\u001b[0m\u001b[0m\n\u001b[0m\u001b[1;32m    201\u001b[0m \u001b[1;33m\u001b[0m\u001b[0m\n\u001b[1;32m    202\u001b[0m         \u001b[0mlogger\u001b[0m\u001b[1;33m.\u001b[0m\u001b[0mdebug\u001b[0m\u001b[1;33m(\u001b[0m\u001b[0mresp\u001b[0m\u001b[1;33m.\u001b[0m\u001b[0mcontent\u001b[0m\u001b[1;33m)\u001b[0m\u001b[1;33m\u001b[0m\u001b[0m\n",
      "\u001b[0;32mC:\\Program Files\\Anaconda3\\lib\\site-packages\\twilio\\rest\\resources\\base.py\u001b[0m in \u001b[0;36mmake_twilio_request\u001b[0;34m(method, uri, **kwargs)\u001b[0m\n\u001b[1;32m    162\u001b[0m \u001b[1;33m\u001b[0m\u001b[0m\n\u001b[1;32m    163\u001b[0m         raise TwilioRestException(status=resp.status_code, method=method,\n\u001b[0;32m--> 164\u001b[0;31m                                   uri=resp.url, msg=message, code=code)\n\u001b[0m\u001b[1;32m    165\u001b[0m \u001b[1;33m\u001b[0m\u001b[0m\n\u001b[1;32m    166\u001b[0m     \u001b[1;32mreturn\u001b[0m \u001b[0mresp\u001b[0m\u001b[1;33m\u001b[0m\u001b[0m\n",
      "\u001b[0;31mTwilioRestException\u001b[0m: HTTP 400 error: "
     ]
    }
   ],
   "source": [
    "from twilio import rest\n",
    "\"\"\"\n",
    "a \"TwilioRestClient\" importját igy is elvégezhetnénk\n",
    "\"\"\"\n",
    "account_sid = \"{{ AC192f197f66c85460de7d934e8cb238dc }}\" # Your Account SID from www.twilio.com/console\n",
    "auth_token  = \"{{ 4ed770d65881fc854ce488e7096c9162 }}\"  # Your Auth Token from www.twilio.com/console\n",
    "\n",
    "client = rest.TwilioRestClient(account_sid, auth_token)\n",
    "\n",
    "message = client.messages.create(body=\"Hello from Python\",\n",
    "    to=\"+36203654049\",    # Replace with your phone number\n",
    "    from_=\"+12052361060\") # Replace with your Twilio number\n",
    "\n",
    "print(message.sid)"
   ]
  },
  {
   "cell_type": "code",
   "execution_count": null,
   "metadata": {
    "collapsed": true
   },
   "outputs": [],
   "source": []
  }
 ],
 "metadata": {
  "anaconda-cloud": {},
  "kernelspec": {
   "display_name": "Python [default]",
   "language": "python",
   "name": "python3"
  },
  "language_info": {
   "codemirror_mode": {
    "name": "ipython",
    "version": 3
   },
   "file_extension": ".py",
   "mimetype": "text/x-python",
   "name": "python",
   "nbconvert_exporter": "python",
   "pygments_lexer": "ipython3",
   "version": "3.5.2"
  }
 },
 "nbformat": 4,
 "nbformat_minor": 1
}
