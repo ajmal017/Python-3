{
 "cells": [
  {
   "cell_type": "markdown",
   "metadata": {
    "deletable": true,
    "editable": true
   },
   "source": [
    "# Variable Inspector Widget"
   ]
  },
  {
   "cell_type": "markdown",
   "metadata": {
    "deletable": true,
    "editable": true
   },
   "source": [
    "## A short example implementation"
   ]
  },
  {
   "cell_type": "markdown",
   "metadata": {
    "deletable": true,
    "editable": true
   },
   "source": [
    "This notebook demonstrates how one can use the widgets already built in to IPython to create a working variable inspector much like the ones seen in popular commercial scientific computing environments.\n",
    "\n",
    "http://ipywidgets.readthedocs.io/en/latest/examples/Variable%20Inspector.html"
   ]
  },
  {
   "cell_type": "code",
   "execution_count": 5,
   "metadata": {},
   "outputs": [],
   "source": [
    "import ipywidgets as widgets # Loads the Widget framework.\n",
    "from IPython.core.magics.namespace import NamespaceMagics # Used to query namespace.\n",
    "\n",
    "# For this example, hide these names, just to avoid polluting the namespace further\n",
    "get_ipython().user_ns_hidden['widgets'] = widgets\n",
    "get_ipython().user_ns_hidden['NamespaceMagics'] = NamespaceMagics\n",
    "\n",
    "class VariableInspectorWindow(object):\n",
    "    instance = None\n",
    "\n",
    "    def __init__(self, ipython):\n",
    "        \"\"\"Public constructor.\"\"\"\n",
    "        if VariableInspectorWindow.instance is not None:\n",
    "            raise Exception(\"\"\"Only one instance of the Variable Inspector can exist at a\n",
    "                time.  Call close() on the active instance before creating a new instance.\n",
    "                If you have lost the handle to the active instance, you can re-obtain it\n",
    "                via `VariableInspectorWindow.instance`.\"\"\")\n",
    "\n",
    "        VariableInspectorWindow.instance = self\n",
    "        self.closed = False\n",
    "        self.namespace = NamespaceMagics()\n",
    "        self.namespace.shell = ipython.kernel.shell\n",
    "\n",
    "        self._box = widgets.Box()\n",
    "        self._box.layout.overflow_y = 'scroll'\n",
    "        self._table = widgets.HTML(value = 'Not hooked')\n",
    "        self._box.children = [self._table]\n",
    "\n",
    "        self._ipython = ipython\n",
    "        self._ipython.events.register('post_run_cell', self._fill)\n",
    "\n",
    "    def close(self):\n",
    "        \"\"\"Close and remove hooks.\"\"\"\n",
    "        if not self.closed:\n",
    "            self._ipython.events.unregister('post_run_cell', self._fill)\n",
    "            self._box.close()\n",
    "            self.closed = True\n",
    "            VariableInspectorWindow.instance = None\n",
    "\n",
    "    def _fill(self):\n",
    "        \"\"\"Fill self with variable information.\"\"\"\n",
    "        values = self.namespace.who_ls()\n",
    "        self._table.value = '<div class=\"rendered_html jp-RenderedHTMLCommon\"><table><thead><tr><th>Name</th><th>Type</th><th>Value</th></tr></thead><tr><td>' + \\\n",
    "            '</td></tr><tr><td>'.join(['{0}</td><td>{1}</td><td>{2}'.format(v, type(eval(v)).__name__, str(eval(v))) for v in values]) + \\\n",
    "            '</td></tr></table></div>'\n",
    "\n",
    "    def _ipython_display_(self):\n",
    "        \"\"\"Called when display() or pyout is used to display the Variable\n",
    "        Inspector.\"\"\"\n",
    "        self._box._ipython_display_()"
   ]
  },
  {
   "cell_type": "code",
   "execution_count": 6,
   "metadata": {},
   "outputs": [
    {
     "name": "stderr",
     "output_type": "stream",
     "text": [
      "Widget Javascript not detected.  It may not be installed or enabled properly.\n"
     ]
    },
    {
     "data": {
      "application/vnd.jupyter.widget-view+json": {
       "model_id": "254e78e1a5fe4c62bebf3fc7d045ccea"
      }
     },
     "metadata": {},
     "output_type": "display_data"
    }
   ],
   "source": [
    "inspector = VariableInspectorWindow(get_ipython())\n",
    "inspector"
   ]
  },
  {
   "cell_type": "code",
   "execution_count": 7,
   "metadata": {},
   "outputs": [
    {
     "data": {
      "application/javascript": [
       "$('div.inspector')\n",
       "    .detach()\n",
       "    .prependTo($('body'))\n",
       "    .css({\n",
       "        'z-index': 999, \n",
       "        position: 'fixed',\n",
       "        'box-shadow': '5px 5px 12px -3px black',\n",
       "        opacity: 0.9\n",
       "    })\n",
       "    .draggable();"
      ],
      "text/plain": [
       "<IPython.core.display.Javascript object>"
      ]
     },
     "metadata": {},
     "output_type": "display_data"
    }
   ],
   "source": [
    "%%javascript\n",
    "$('div.inspector')\n",
    "    .detach()\n",
    "    .prependTo($('body'))\n",
    "    .css({\n",
    "        'z-index': 999, \n",
    "        position: 'fixed',\n",
    "        'box-shadow': '5px 5px 12px -3px black',\n",
    "        opacity: 0.9\n",
    "    })\n",
    "    .draggable();"
   ]
  },
  {
   "cell_type": "markdown",
   "metadata": {
    "deletable": true,
    "editable": true
   },
   "source": [
    "# Test"
   ]
  },
  {
   "cell_type": "code",
   "execution_count": 22,
   "metadata": {
    "collapsed": true,
    "deletable": true,
    "editable": true
   },
   "outputs": [],
   "source": [
    "a = 5"
   ]
  },
  {
   "cell_type": "code",
   "execution_count": 23,
   "metadata": {
    "collapsed": true,
    "deletable": true,
    "editable": true
   },
   "outputs": [],
   "source": [
    "b = 3.0"
   ]
  },
  {
   "cell_type": "code",
   "execution_count": 24,
   "metadata": {
    "collapsed": true,
    "deletable": true,
    "editable": true
   },
   "outputs": [],
   "source": [
    "c = a * b"
   ]
  },
  {
   "cell_type": "code",
   "execution_count": 25,
   "metadata": {
    "collapsed": true,
    "deletable": true,
    "editable": true
   },
   "outputs": [],
   "source": [
    "d = \"String\""
   ]
  },
  {
   "cell_type": "code",
   "execution_count": 26,
   "metadata": {
    "collapsed": true,
    "deletable": true,
    "editable": true
   },
   "outputs": [],
   "source": [
    "del b"
   ]
  },
  {
   "cell_type": "code",
   "execution_count": 27,
   "metadata": {
    "collapsed": true,
    "deletable": true,
    "editable": true
   },
   "outputs": [],
   "source": [
    "inspector.close()"
   ]
  }
 ],
 "metadata": {
  "kernelspec": {
   "display_name": "Python 3",
   "language": "python",
   "name": "python3"
  },
  "language_info": {
   "codemirror_mode": {
    "name": "ipython",
    "version": 3
   },
   "file_extension": ".py",
   "mimetype": "text/x-python",
   "name": "python",
   "nbconvert_exporter": "python",
   "pygments_lexer": "ipython3",
   "version": "3.5.3"
  },
  "widgets": {
   "application/vnd.jupyter.widget-state+json": {
    "state": {
     "14bf1674549f4f05bee36570346b2d52": {
      "model_module": "jupyter-js-widgets",
      "model_module_version": "~2.0.30",
      "model_name": "LayoutModel",
      "state": {
       "_model_module_version": "~2.0.30",
       "_view_module_version": "~2.0.30"
      }
     },
     "345eab96119b4378ac5cf90107e42e13": {
      "model_module": "jupyter-js-widgets",
      "model_module_version": "~2.0.30",
      "model_name": "LayoutModel",
      "state": {
       "_model_module_version": "~2.0.30",
       "_view_module_version": "~2.0.30",
       "overflow_y": "scroll"
      }
     },
     "e1b98e2872f9464aa028de776296aeb3": {
      "model_module": "jupyter-js-widgets",
      "model_module_version": "~2.0.30",
      "model_name": "HTMLModel",
      "state": {
       "_model_module_version": "~2.0.30",
       "_view_module_version": "~2.0.30",
       "layout": "IPY_MODEL_14bf1674549f4f05bee36570346b2d52",
       "value": "<div class=\"rendered_html jp-RenderedHTMLCommon\"><table><thead><tr><th>Name</th><th>Type</th><th>Value</th></tr></thead><tr><td>VariableInspectorWindow</td><td>type</td><td><class '__main__.VariableInspectorWindow'></td></tr><tr><td>a</td><td>int</td><td>5</td></tr><tr><td>c</td><td>float</td><td>15.0</td></tr><tr><td>d</td><td>str</td><td>String</td></tr><tr><td>inspector</td><td>VariableInspectorWindow</td><td><__main__.VariableInspectorWindow object at 0x107e6f748></td></tr></table></div>"
      }
     }
    },
    "version_major": 1,
    "version_minor": 0
   }
  }
 },
 "nbformat": 4,
 "nbformat_minor": 2
}
