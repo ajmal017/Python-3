{
 "cells": [
  {
   "cell_type": "code",
   "execution_count": 1,
   "metadata": {
    "collapsed": true
   },
   "outputs": [],
   "source": [
    "import numpy as np\n",
    "import pandas as pd"
   ]
  },
  {
   "cell_type": "code",
   "execution_count": 2,
   "metadata": {
    "collapsed": true
   },
   "outputs": [],
   "source": [
    "s = pd.Series(np.random.randn(5), index=['a', 'b', 'c', 'd', 'e'])"
   ]
  },
  {
   "cell_type": "code",
   "execution_count": 3,
   "metadata": {
    "collapsed": false
   },
   "outputs": [
    {
     "data": {
      "text/plain": [
       "a   -1.366551\n",
       "b    1.325699\n",
       "c    0.913021\n",
       "d    0.180595\n",
       "e   -2.344663\n",
       "dtype: float64"
      ]
     },
     "execution_count": 3,
     "metadata": {},
     "output_type": "execute_result"
    }
   ],
   "source": [
    "s"
   ]
  },
  {
   "cell_type": "code",
   "execution_count": null,
   "metadata": {
    "collapsed": false
   },
   "outputs": [],
   "source": [
    "s+s"
   ]
  },
  {
   "cell_type": "code",
   "execution_count": null,
   "metadata": {
    "collapsed": false,
    "slideshow": "-"
   },
   "outputs": [],
   "source": [
    "df = pd.read_csv('actors_Zene3.csv', sep=',')\n",
    "df.Position = df.Position.astype(float)\n",
    "df.Capability = df.Capability.astype(float)\n",
    "df.Salience = df.Salience/100.0\n",
    "df.head()"
   ]
  },
  {
   "cell_type": "code",
   "execution_count": null,
   "metadata": {
    "collapsed": false
   },
   "outputs": [],
   "source": [
    "# Location of file\n",
    "Location = r'c:\\Dropbox\\Game Theory\\Matlab\\BDM\\Zenekar.xlsx'\n",
    "\n",
    "# Parse a specific sheet\n",
    "#df = pd.read_excel(Location, 1, index_col='StatusDate')\n",
    "df = pd.read_excel(Location, 3)\n",
    "df.dtypes"
   ]
  },
  {
   "cell_type": "code",
   "execution_count": null,
   "metadata": {
    "collapsed": false
   },
   "outputs": [],
   "source": [
    "df"
   ]
  },
  {
   "cell_type": "code",
   "execution_count": 4,
   "metadata": {
    "collapsed": false
   },
   "outputs": [
    {
     "data": {
      "text/plain": [
       "Actor          object\n",
       "Capability    float64\n",
       "Position        int64\n",
       "Salience      float64\n",
       "dtype: object"
      ]
     },
     "execution_count": 4,
     "metadata": {},
     "output_type": "execute_result"
    }
   ],
   "source": [
    "df = pd.read_excel(r'c:\\Dropbox\\Game Theory\\Matlab\\BDM\\Zenekar.xlsx', 3)\n",
    "df.dtypes"
   ]
  },
  {
   "cell_type": "code",
   "execution_count": 5,
   "metadata": {
    "collapsed": false
   },
   "outputs": [
    {
     "data": {
      "text/html": [
       "<div>\n",
       "<table border=\"1\" class=\"dataframe\">\n",
       "  <thead>\n",
       "    <tr style=\"text-align: right;\">\n",
       "      <th></th>\n",
       "      <th>Actor</th>\n",
       "      <th>Capability</th>\n",
       "      <th>Position</th>\n",
       "      <th>Salience</th>\n",
       "    </tr>\n",
       "  </thead>\n",
       "  <tbody>\n",
       "    <tr>\n",
       "      <th>0</th>\n",
       "      <td>Peti</td>\n",
       "      <td>0.15</td>\n",
       "      <td>40</td>\n",
       "      <td>0.4</td>\n",
       "    </tr>\n",
       "    <tr>\n",
       "      <th>1</th>\n",
       "      <td>Timi</td>\n",
       "      <td>0.10</td>\n",
       "      <td>0</td>\n",
       "      <td>0.9</td>\n",
       "    </tr>\n",
       "    <tr>\n",
       "      <th>2</th>\n",
       "      <td>Balazs</td>\n",
       "      <td>0.20</td>\n",
       "      <td>100</td>\n",
       "      <td>0.9</td>\n",
       "    </tr>\n",
       "    <tr>\n",
       "      <th>3</th>\n",
       "      <td>Miri</td>\n",
       "      <td>0.05</td>\n",
       "      <td>50</td>\n",
       "      <td>0.2</td>\n",
       "    </tr>\n",
       "    <tr>\n",
       "      <th>4</th>\n",
       "      <td>Bence</td>\n",
       "      <td>0.15</td>\n",
       "      <td>60</td>\n",
       "      <td>0.8</td>\n",
       "    </tr>\n",
       "    <tr>\n",
       "      <th>5</th>\n",
       "      <td>Viki</td>\n",
       "      <td>0.10</td>\n",
       "      <td>60</td>\n",
       "      <td>0.4</td>\n",
       "    </tr>\n",
       "    <tr>\n",
       "      <th>6</th>\n",
       "      <td>Krisz</td>\n",
       "      <td>0.15</td>\n",
       "      <td>20</td>\n",
       "      <td>0.9</td>\n",
       "    </tr>\n",
       "    <tr>\n",
       "      <th>7</th>\n",
       "      <td>Krisz Barátnője</td>\n",
       "      <td>0.10</td>\n",
       "      <td>20</td>\n",
       "      <td>0.9</td>\n",
       "    </tr>\n",
       "  </tbody>\n",
       "</table>\n",
       "</div>"
      ],
      "text/plain": [
       "             Actor  Capability  Position  Salience\n",
       "0             Peti        0.15        40       0.4\n",
       "1             Timi        0.10         0       0.9\n",
       "2           Balazs        0.20       100       0.9\n",
       "3             Miri        0.05        50       0.2\n",
       "4            Bence        0.15        60       0.8\n",
       "5             Viki        0.10        60       0.4\n",
       "6            Krisz        0.15        20       0.9\n",
       "7  Krisz Barátnője        0.10        20       0.9"
      ]
     },
     "execution_count": 5,
     "metadata": {},
     "output_type": "execute_result"
    }
   ],
   "source": [
    "df"
   ]
  },
  {
   "cell_type": "code",
   "execution_count": 13,
   "metadata": {
    "collapsed": true
   },
   "outputs": [],
   "source": [
    "import pandas as pd\n",
    "import numpy as np\n",
    "import itertools\n",
    "\n",
    "Q = 1.0\n",
    "T = 1.0\n",
    "\n",
    "class Game(object):\n",
    "    def __init__(self,df):\n",
    "        self.df = df                                                 # df = dataframe\n",
    "        self.df_capability = df.Capability.to_dict()    \n",
    "        self.df_position = df.Position.to_dict()    \n",
    "        self.df_salience = df.Salience.to_dict()    \n",
    "        self.max_pos = df.Position.max()\n",
    "        self.min_pos = df.Position.min()\n",
    "\n",
    "    def weighted_median(self):                                       # Median Voter Calculation\n",
    "        self.df['w'] = self.df.Capability*self.df.Salience           # power \n",
    "        self.df['w'] = self.df['w'] / self.df['w'].sum()\n",
    "        self.df['w'] = self.df['w'].cumsum()\n",
    "        return float(self.df[self.df['w']>=0.5].head(1).Position)\n",
    "\n",
    "    def mean(self):\n",
    "        return (self.df.Capability*self.df.Position*self.df.Salience).sum() / \\\n",
    "               (self.df.Capability*self.df.Salience).sum()\n",
    "\n",
    "    def Usi_i(self,i,j,ri=1.):                                       # Utility of Success\n",
    "        tmp1 = self.df_position[i]-self.df_position[j]\n",
    "        tmp2 = self.max_pos-self.min_pos\n",
    "        return 2. - 4.0 * ( (0.5-0.5*np.abs(float(tmp1)/tmp2) )**ri)\n",
    "\n",
    "    def Ufi_i(self,i,j,ri=1.):                                       # Utility of Failure\n",
    "        tmp1 = self.df_position[i]-self.df_position[j]\n",
    "        tmp2 = self.df.Position.max()-self.df.Position.min()\n",
    "        return 2. - 4.0 * ( (0.5+0.5*np.abs(float(tmp1)/tmp2) )**ri )\n",
    "\n",
    "    def Usq_i(self,i,ri=1.):                                         # Utility of Status Quo\n",
    "        return 2.-(4.*(0.5**ri))\n",
    "\n",
    "    def Ui_ij(self,i,j):                                             # ez mi?\n",
    "        tmp1 = self.df_position[i] - self.df_position[j]\n",
    "        tmp2 = self.max_pos-self.min_pos\n",
    "        return 1. - 2.*np.abs(float(tmp1) / tmp2) \n",
    "\n",
    "    def v(self,i,j,k):\n",
    "        return self.df_capability[i]*self.df_salience[i]*(self.Ui_ij(i,j)-self.Ui_ij(i,k)) \n",
    "\n",
    "    def Pi(self,i):\n",
    "        l = np.array([[i,j,k] for (j,k) in itertools.combinations(range(len(self.df)), 2 ) if i!=j and i!=k])\n",
    "        #U_filter = np.array(map(lambda i,j,k: self.Ui_ij(j,i)>self.Ui_ij(i,k), l))\n",
    "        U_filter = [self.Ui_ij(j,i)>self.Ui_ij(i,k) for i, j, k in l]\n",
    "        lpos = l[U_filter]\n",
    "        #tmp1 = np.sum(map(lambda i,j,k: self.v(j,i,k), lpos))\n",
    "        #tmp2 = np.sum(map(lambda i,j,k: self.v(j,i,k), l))\n",
    "        tmp1 = np.sum([self.v(j,i,k) for i, j, k in lpos])\n",
    "        tmp2 = np.sum([self.v(j,i,k) for i, j, k in l])\n",
    "        #print('P: ',i,float(tmp1)/tmp2)\n",
    "        return float(tmp1)/tmp2\n",
    "\n",
    "    def Ubi_i(self,i,j,ri=1):                                                 # Utility of Changing for Better\n",
    "        tmp1 = np.abs(self.df_position[i] - self.weighted_median()) + \\\n",
    "               np.abs(self.df_position[i] - self.df_position[j])\n",
    "        tmp2 = np.abs(self.max_pos-self.min_pos)\n",
    "        return 2. - (4. * (0.5 - (0.25 * float(tmp1) / tmp2))**ri)\n",
    "\n",
    "    def Uwi_i(self,i,j,ri=1):                                                 # Utility of Changing for Worse\n",
    "        tmp1 = np.abs(self.df_position[i] - self.weighted_median()) + \\\n",
    "               np.abs(self.df_position[i] - self.df_position[j])\n",
    "        tmp2 = np.abs(self.max_pos-self.min_pos)\n",
    "        return 2. - (4. * (0.5 + (0.25 * float(tmp1) / tmp2))**ri)\n",
    "\n",
    "    def EU_i(self,i,j,r=1):\n",
    "        term1 = self.df_salience[j] * \\\n",
    "                ( self.Pi(i)*self.Usi_i(i,j,r) + ( 1.-self.Pi(i) )*self.Ufi_i(i,j,r) )\n",
    "        term2 = (1-self.df_salience[j])*self.Usi_i(i,j,r)\n",
    "        #term3 = -self.Qij(j,i)*self.Usq_i(i,r)\n",
    "        #term4 = -(1.-self.Qij(j,i))*( T*self.Ubi_i(i,j,r) + (1.-T)*self.Uwi_i(i,j,r) )\n",
    "        term3 = -Q*self.Usq_i(i,r)\n",
    "        term4 = -(1.-Q)*( T*self.Ubi_i(i,j,r) + (1.-T)*self.Uwi_i(i,j,r) )\n",
    "        return term1+term2+term3+term4\n",
    "\n",
    "    def EU_j(self,i,j,r=1):\n",
    "        return self.EU_i(j,i,r)\n",
    "\n",
    "    def Ri(self,i):\n",
    "        # get all j's except i\n",
    "        l = [x for x in range(len(self.df)) if x!= i]\n",
    "        #tmp = np.array(list(map(lambda x: self.EU_j(i,x), l)))\n",
    "        tmp = np.array([self.EU_j(i,x) for x in l])\n",
    "        numterm1 = 2 * np.sum(tmp)\n",
    "        numterm2 = (len(self.df)-1)*np.max(tmp)\n",
    "        numterm3 = (len(self.df)-1)*np.min(tmp)\n",
    "        return float(numterm1-numterm2-numterm3) / (numterm2-numterm3)\n",
    "\n",
    "    def ri(self,i):\n",
    "        Ri_tmp = self.Ri(i)\n",
    "        return (1-Ri_tmp/3.) / (1+Ri_tmp/3.)\n",
    "\n",
    "    def Qij(self,i,j):\n",
    "        l = np.array([k for k in range(len(self.df))])\n",
    "        res = map(lambda x: self.Pi(k)+(1-self.df_salience[k]),l)     #To convert all the State values to upper case we will use the upper() function and the dataframe's apply attribute. The lambda function simply will apply the upper function to each value in the State column.\n",
    "        return np.product(res)\n",
    "\n",
    "    def calc_offer(self, x):\n",
    "        if len(x)>0:\n",
    "            return x[np.argmin(np.abs(x))]\n",
    "        return 0\n",
    "\n",
    "    def do_round(self,df):\n",
    "        self.df = df; df_new = self.df.copy()        \n",
    "        # reinit\n",
    "        self.df_capability = self.df.Capability.to_dict()    \n",
    "        self.df_position = self.df.Position.to_dict()    \n",
    "        self.df_salience = self.df.Salience.to_dict()    \n",
    "        self.max_pos = self.df.Position.max()\n",
    "        self.min_pos = self.df.Position.min()\n",
    "\n",
    "        offers = [list() for i in range(len(self.df))]\n",
    "        ris = [self.ri(i) for i in range(len(self.df))]\n",
    "        for (i,j) in itertools.combinations(range(len(self.df)), 2 ):           # combinations('ABCD', 2) --> AB AC AD BC BD CD\n",
    "            eui = self.EU_i(i,j,r=ris[i])\n",
    "            euj = self.EU_j(i,j,r=ris[j])\n",
    "            if eui > 0 and euj > 0:\n",
    "                # conflict\n",
    "                mid_step = (self.df_position[i]-self.df_position[j])/2.\n",
    "                print(i,j,eui,euj,'conflict, both step', mid_step, -mid_step)\n",
    "                offers[j].append(mid_step)                                      # append a new item with value x to the end of the array.\n",
    "                offers[i].append(-mid_step)\n",
    "            elif eui > 0 and euj < 0 and np.abs(eui) > np.abs(euj):\n",
    "                # compromise - actor i has the upper hand\n",
    "                print(i,j,eui,euj,'compromise', i, 'upper hand')\n",
    "                xhat = (self.df_position[i]-self.df_position[j]) * np.abs(euj/eui)\n",
    "                offers[j].append(xhat)\n",
    "            elif eui < 0 and euj > 0 and np.abs(eui) < np.abs(euj):\n",
    "                # compromise - actor j has the upper hand\n",
    "                print(i,j,eui,euj,'compromise', j, 'upper hand')\n",
    "                xhat = (self.df_position[j]-self.df_position[i]) * np.abs(eui/euj)\n",
    "                offers[i].append(xhat)\n",
    "            elif eui > 0 and euj < 0 and np.abs(eui) < np.abs(euj):\n",
    "                # capinulation - actor i has upper hand\n",
    "                j_moves = self.df_position[i]-self.df_position[j]\n",
    "                print(i,j,eui,euj,'capitulate', i, 'wins', j, 'moves',j_moves)\n",
    "                offers[j].append(j_moves)\n",
    "            elif eui < 0 and euj > 0 and np.abs(eui) > np.abs(euj):\n",
    "                # capitulation - actor j has upper hand\n",
    "                i_moves = self.df_position[j]-self.df_position[i]\n",
    "                print(i,j,eui,euj,'capitulate', j, 'wins', i, 'moves',i_moves)\n",
    "                offers[i].append(i_moves)\n",
    "            else:\n",
    "                print(i,j,eui,euj,'nothing')"
   ]
  },
  {
   "cell_type": "code",
   "execution_count": 15,
   "metadata": {
    "collapsed": false
   },
   "outputs": [
    {
     "ename": "AttributeError",
     "evalue": "'DataFrame' object has no attribute 'df_salience'",
     "output_type": "error",
     "traceback": [
      "\u001b[0;31m---------------------------------------------------------------------------\u001b[0m",
      "\u001b[0;31mAttributeError\u001b[0m                            Traceback (most recent call last)",
      "\u001b[0;32m<ipython-input-15-c3120de13430>\u001b[0m in \u001b[0;36m<module>\u001b[0;34m()\u001b[0m\n\u001b[0;32m----> 1\u001b[0;31m \u001b[0mprint\u001b[0m\u001b[1;33m(\u001b[0m\u001b[0mEU_i\u001b[0m\u001b[1;33m(\u001b[0m\u001b[0mdf\u001b[0m\u001b[1;33m,\u001b[0m\u001b[1;36m1\u001b[0m\u001b[1;33m,\u001b[0m\u001b[1;36m2\u001b[0m\u001b[1;33m,\u001b[0m\u001b[1;36m1\u001b[0m\u001b[1;33m)\u001b[0m\u001b[1;33m)\u001b[0m\u001b[1;33m\u001b[0m\u001b[0m\n\u001b[0m",
      "\u001b[0;32m<ipython-input-6-04d158e57740>\u001b[0m in \u001b[0;36mEU_i\u001b[0;34m(self, i, j, r)\u001b[0m\n\u001b[1;32m      1\u001b[0m \u001b[1;32mdef\u001b[0m \u001b[0mEU_i\u001b[0m\u001b[1;33m(\u001b[0m\u001b[0mself\u001b[0m\u001b[1;33m,\u001b[0m\u001b[0mi\u001b[0m\u001b[1;33m,\u001b[0m\u001b[0mj\u001b[0m\u001b[1;33m,\u001b[0m\u001b[0mr\u001b[0m\u001b[1;33m=\u001b[0m\u001b[1;36m1\u001b[0m\u001b[1;33m)\u001b[0m\u001b[1;33m:\u001b[0m\u001b[1;33m\u001b[0m\u001b[0m\n\u001b[0;32m----> 2\u001b[0;31m     \u001b[0mterm1\u001b[0m \u001b[1;33m=\u001b[0m \u001b[0mself\u001b[0m\u001b[1;33m.\u001b[0m\u001b[0mdf_salience\u001b[0m\u001b[1;33m[\u001b[0m\u001b[0mj\u001b[0m\u001b[1;33m]\u001b[0m \u001b[1;33m*\u001b[0m             \u001b[1;33m(\u001b[0m \u001b[0mself\u001b[0m\u001b[1;33m.\u001b[0m\u001b[0mPi\u001b[0m\u001b[1;33m(\u001b[0m\u001b[0mi\u001b[0m\u001b[1;33m)\u001b[0m\u001b[1;33m*\u001b[0m\u001b[0mself\u001b[0m\u001b[1;33m.\u001b[0m\u001b[0mUsi_i\u001b[0m\u001b[1;33m(\u001b[0m\u001b[0mi\u001b[0m\u001b[1;33m,\u001b[0m\u001b[0mj\u001b[0m\u001b[1;33m,\u001b[0m\u001b[0mr\u001b[0m\u001b[1;33m)\u001b[0m \u001b[1;33m+\u001b[0m \u001b[1;33m(\u001b[0m \u001b[1;36m1.\u001b[0m\u001b[1;33m-\u001b[0m\u001b[0mself\u001b[0m\u001b[1;33m.\u001b[0m\u001b[0mPi\u001b[0m\u001b[1;33m(\u001b[0m\u001b[0mi\u001b[0m\u001b[1;33m)\u001b[0m \u001b[1;33m)\u001b[0m\u001b[1;33m*\u001b[0m\u001b[0mself\u001b[0m\u001b[1;33m.\u001b[0m\u001b[0mUfi_i\u001b[0m\u001b[1;33m(\u001b[0m\u001b[0mi\u001b[0m\u001b[1;33m,\u001b[0m\u001b[0mj\u001b[0m\u001b[1;33m,\u001b[0m\u001b[0mr\u001b[0m\u001b[1;33m)\u001b[0m \u001b[1;33m)\u001b[0m\u001b[1;33m\u001b[0m\u001b[0m\n\u001b[0m\u001b[1;32m      3\u001b[0m     \u001b[0mterm2\u001b[0m \u001b[1;33m=\u001b[0m \u001b[1;33m(\u001b[0m\u001b[1;36m1\u001b[0m\u001b[1;33m-\u001b[0m\u001b[0mself\u001b[0m\u001b[1;33m.\u001b[0m\u001b[0mdf_salience\u001b[0m\u001b[1;33m[\u001b[0m\u001b[0mj\u001b[0m\u001b[1;33m]\u001b[0m\u001b[1;33m)\u001b[0m\u001b[1;33m*\u001b[0m\u001b[0mself\u001b[0m\u001b[1;33m.\u001b[0m\u001b[0mUsi_i\u001b[0m\u001b[1;33m(\u001b[0m\u001b[0mi\u001b[0m\u001b[1;33m,\u001b[0m\u001b[0mj\u001b[0m\u001b[1;33m,\u001b[0m\u001b[0mr\u001b[0m\u001b[1;33m)\u001b[0m\u001b[1;33m\u001b[0m\u001b[0m\n\u001b[1;32m      4\u001b[0m     \u001b[1;31m#term3 = -self.Qij(j,i)*self.Usq_i(i,r)\u001b[0m\u001b[1;33m\u001b[0m\u001b[1;33m\u001b[0m\u001b[0m\n\u001b[1;32m      5\u001b[0m     \u001b[1;31m#term4 = -(1.-self.Qij(j,i))*( T*self.Ubi_i(i,j,r) + (1.-T)*self.Uwi_i(i,j,r) )\u001b[0m\u001b[1;33m\u001b[0m\u001b[1;33m\u001b[0m\u001b[0m\n",
      "\u001b[0;32mC:\\ProgramData\\Anaconda3\\lib\\site-packages\\pandas\\core\\generic.py\u001b[0m in \u001b[0;36m__getattr__\u001b[0;34m(self, name)\u001b[0m\n\u001b[1;32m   2742\u001b[0m             \u001b[1;32mif\u001b[0m \u001b[0mname\u001b[0m \u001b[1;32min\u001b[0m \u001b[0mself\u001b[0m\u001b[1;33m.\u001b[0m\u001b[0m_info_axis\u001b[0m\u001b[1;33m:\u001b[0m\u001b[1;33m\u001b[0m\u001b[0m\n\u001b[1;32m   2743\u001b[0m                 \u001b[1;32mreturn\u001b[0m \u001b[0mself\u001b[0m\u001b[1;33m[\u001b[0m\u001b[0mname\u001b[0m\u001b[1;33m]\u001b[0m\u001b[1;33m\u001b[0m\u001b[0m\n\u001b[0;32m-> 2744\u001b[0;31m             \u001b[1;32mreturn\u001b[0m \u001b[0mobject\u001b[0m\u001b[1;33m.\u001b[0m\u001b[0m__getattribute__\u001b[0m\u001b[1;33m(\u001b[0m\u001b[0mself\u001b[0m\u001b[1;33m,\u001b[0m \u001b[0mname\u001b[0m\u001b[1;33m)\u001b[0m\u001b[1;33m\u001b[0m\u001b[0m\n\u001b[0m\u001b[1;32m   2745\u001b[0m \u001b[1;33m\u001b[0m\u001b[0m\n\u001b[1;32m   2746\u001b[0m     \u001b[1;32mdef\u001b[0m \u001b[0m__setattr__\u001b[0m\u001b[1;33m(\u001b[0m\u001b[0mself\u001b[0m\u001b[1;33m,\u001b[0m \u001b[0mname\u001b[0m\u001b[1;33m,\u001b[0m \u001b[0mvalue\u001b[0m\u001b[1;33m)\u001b[0m\u001b[1;33m:\u001b[0m\u001b[1;33m\u001b[0m\u001b[0m\n",
      "\u001b[0;31mAttributeError\u001b[0m: 'DataFrame' object has no attribute 'df_salience'"
     ]
    }
   ],
   "source": [
    "print(EU_i(df,1,2,1))"
   ]
  },
  {
   "cell_type": "code",
   "execution_count": null,
   "metadata": {
    "collapsed": true
   },
   "outputs": [],
   "source": []
  }
 ],
 "metadata": {
  "kernelspec": {
   "display_name": "Python 3",
   "language": "python",
   "name": "python3"
  },
  "language_info": {
   "codemirror_mode": {
    "name": "ipython",
    "version": 3
   },
   "file_extension": ".py",
   "mimetype": "text/x-python",
   "name": "python",
   "nbconvert_exporter": "python",
   "pygments_lexer": "ipython3",
   "version": "3.6.0"
  }
 },
 "nbformat": 4,
 "nbformat_minor": 2
}
