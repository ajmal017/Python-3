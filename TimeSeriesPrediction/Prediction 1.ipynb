{
 "cells": [
  {
   "cell_type": "code",
   "execution_count": 28,
   "metadata": {},
   "outputs": [],
   "source": [
    "import pandas as pd\n",
    "import numpy as np\n",
    "import matplotlib.pyplot as plt\n",
    "import seaborn as sns\n",
    "%matplotlib inline"
   ]
  },
  {
   "cell_type": "code",
   "execution_count": 29,
   "metadata": {},
   "outputs": [],
   "source": [
    "from pandas import Series"
   ]
  },
  {
   "cell_type": "code",
   "execution_count": 30,
   "metadata": {},
   "outputs": [],
   "source": [
    "import ystockquote"
   ]
  },
  {
   "cell_type": "code",
   "execution_count": 31,
   "metadata": {},
   "outputs": [],
   "source": [
    "from datetime import datetime, timedelta, timezone"
   ]
  },
  {
   "cell_type": "code",
   "execution_count": 32,
   "metadata": {},
   "outputs": [],
   "source": [
    "from sklearn.model_selection import train_test_split\n",
    "from sklearn.metrics import mean_squared_error\n",
    "from sklearn.preprocessing import MinMaxScaler"
   ]
  },
  {
   "cell_type": "code",
   "execution_count": 33,
   "metadata": {},
   "outputs": [],
   "source": [
    "from keras.preprocessing import sequence\n",
    "from keras.models import Sequential\n",
    "from keras.layers import Dense, Embedding\n",
    "from keras.layers import LSTM"
   ]
  },
  {
   "cell_type": "code",
   "execution_count": 34,
   "metadata": {},
   "outputs": [],
   "source": [
    "AAPL_data = ystockquote.get_historical_prices('IBM', '2010-01-01', '2017-12-31')"
   ]
  },
  {
   "cell_type": "code",
   "execution_count": 35,
   "metadata": {},
   "outputs": [],
   "source": [
    "df = pd.DataFrame(AAPL_data).transpose()"
   ]
  },
  {
   "cell_type": "code",
   "execution_count": 36,
   "metadata": {},
   "outputs": [
    {
     "data": {
      "text/html": [
       "<div>\n",
       "<table border=\"1\" class=\"dataframe\">\n",
       "  <thead>\n",
       "    <tr style=\"text-align: right;\">\n",
       "      <th></th>\n",
       "      <th>Adj Close</th>\n",
       "      <th>Close</th>\n",
       "      <th>High</th>\n",
       "      <th>Low</th>\n",
       "      <th>Open</th>\n",
       "      <th>Volume</th>\n",
       "    </tr>\n",
       "  </thead>\n",
       "  <tbody>\n",
       "    <tr>\n",
       "      <th>2010-01-04</th>\n",
       "      <td>111.405</td>\n",
       "      <td>132.449997</td>\n",
       "      <td>132.970001</td>\n",
       "      <td>130.850006</td>\n",
       "      <td>131.179993</td>\n",
       "      <td>6155300</td>\n",
       "    </tr>\n",
       "    <tr>\n",
       "      <th>2010-01-05</th>\n",
       "      <td>110.059232</td>\n",
       "      <td>130.850006</td>\n",
       "      <td>131.850006</td>\n",
       "      <td>130.100006</td>\n",
       "      <td>131.679993</td>\n",
       "      <td>6841400</td>\n",
       "    </tr>\n",
       "    <tr>\n",
       "      <th>2010-01-06</th>\n",
       "      <td>109.344283</td>\n",
       "      <td>130.00</td>\n",
       "      <td>131.490005</td>\n",
       "      <td>129.809998</td>\n",
       "      <td>130.679993</td>\n",
       "      <td>5605300</td>\n",
       "    </tr>\n",
       "    <tr>\n",
       "      <th>2010-01-07</th>\n",
       "      <td>108.965786</td>\n",
       "      <td>129.550003</td>\n",
       "      <td>130.25</td>\n",
       "      <td>128.910004</td>\n",
       "      <td>129.869995</td>\n",
       "      <td>5840600</td>\n",
       "    </tr>\n",
       "    <tr>\n",
       "      <th>2010-01-08</th>\n",
       "      <td>110.059232</td>\n",
       "      <td>130.850006</td>\n",
       "      <td>130.919998</td>\n",
       "      <td>129.050003</td>\n",
       "      <td>129.070007</td>\n",
       "      <td>4197200</td>\n",
       "    </tr>\n",
       "  </tbody>\n",
       "</table>\n",
       "</div>"
      ],
      "text/plain": [
       "             Adj Close       Close        High         Low        Open  \\\n",
       "2010-01-04     111.405  132.449997  132.970001  130.850006  131.179993   \n",
       "2010-01-05  110.059232  130.850006  131.850006  130.100006  131.679993   \n",
       "2010-01-06  109.344283      130.00  131.490005  129.809998  130.679993   \n",
       "2010-01-07  108.965786  129.550003      130.25  128.910004  129.869995   \n",
       "2010-01-08  110.059232  130.850006  130.919998  129.050003  129.070007   \n",
       "\n",
       "             Volume  \n",
       "2010-01-04  6155300  \n",
       "2010-01-05  6841400  \n",
       "2010-01-06  5605300  \n",
       "2010-01-07  5840600  \n",
       "2010-01-08  4197200  "
      ]
     },
     "execution_count": 36,
     "metadata": {},
     "output_type": "execute_result"
    }
   ],
   "source": [
    "df.head()"
   ]
  },
  {
   "cell_type": "code",
   "execution_count": 37,
   "metadata": {},
   "outputs": [],
   "source": [
    "df['Date'] = df.apply(lambda row: datetime.strptime(row.name, '%Y-%m-%d'),\n",
    "                      axis=1)"
   ]
  },
  {
   "cell_type": "code",
   "execution_count": 38,
   "metadata": {},
   "outputs": [],
   "source": [
    "df['Close'] = pd.to_numeric(df['Close'], errors='ignore')"
   ]
  },
  {
   "cell_type": "code",
   "execution_count": 39,
   "metadata": {},
   "outputs": [],
   "source": [
    "df.drop(axis=1, labels=[col for col in df.columns if col not in ['Close', 'Date']], inplace=True)"
   ]
  },
  {
   "cell_type": "code",
   "execution_count": 40,
   "metadata": {},
   "outputs": [
    {
     "data": {
      "text/html": [
       "<div>\n",
       "<table border=\"1\" class=\"dataframe\">\n",
       "  <thead>\n",
       "    <tr style=\"text-align: right;\">\n",
       "      <th></th>\n",
       "      <th>Close</th>\n",
       "    </tr>\n",
       "    <tr>\n",
       "      <th>Date</th>\n",
       "      <th></th>\n",
       "    </tr>\n",
       "  </thead>\n",
       "  <tbody>\n",
       "    <tr>\n",
       "      <th>2010-01-04</th>\n",
       "      <td>132.449997</td>\n",
       "    </tr>\n",
       "    <tr>\n",
       "      <th>2010-01-05</th>\n",
       "      <td>130.850006</td>\n",
       "    </tr>\n",
       "    <tr>\n",
       "      <th>2010-01-06</th>\n",
       "      <td>130.000000</td>\n",
       "    </tr>\n",
       "  </tbody>\n",
       "</table>\n",
       "</div>"
      ],
      "text/plain": [
       "                 Close\n",
       "Date                  \n",
       "2010-01-04  132.449997\n",
       "2010-01-05  130.850006\n",
       "2010-01-06  130.000000"
      ]
     },
     "execution_count": 40,
     "metadata": {},
     "output_type": "execute_result"
    }
   ],
   "source": [
    "df.set_index('Date', inplace=True)\n",
    "df.head(3)"
   ]
  },
  {
   "cell_type": "code",
   "execution_count": 41,
   "metadata": {},
   "outputs": [
    {
     "data": {
      "text/plain": [
       "<matplotlib.axes._subplots.AxesSubplot at 0x1f700855780>"
      ]
     },
     "execution_count": 41,
     "metadata": {},
     "output_type": "execute_result"
    },
    {
     "data": {
      "image/png": "[encoded data removed]",
      "text/plain": [
       "<matplotlib.figure.Figure at 0x1f7005809e8>"
      ]
     },
     "metadata": {},
     "output_type": "display_data"
    }
   ],
   "source": [
    "df.plot(figsize=(10,5))"
   ]
  },
  {
   "cell_type": "markdown",
   "metadata": {},
   "source": [
    "## A rolling forecast scenario will be used, also called walk-forward model validation."
   ]
  },
  {
   "cell_type": "code",
   "execution_count": 42,
   "metadata": {},
   "outputs": [],
   "source": [
    "df['Close 1'] = df['Close'].shift(1)"
   ]
  },
  {
   "cell_type": "code",
   "execution_count": 43,
   "metadata": {},
   "outputs": [],
   "source": [
    "df['Close -1'] = df['Close'].shift(-1)"
   ]
  },
  {
   "cell_type": "code",
   "execution_count": 44,
   "metadata": {},
   "outputs": [],
   "source": [
    "df.fillna(0, inplace=True)"
   ]
  },
  {
   "cell_type": "code",
   "execution_count": 45,
   "metadata": {},
   "outputs": [],
   "source": [
    "df['Difference'] = df['Close -1'] - df['Close']"
   ]
  },
  {
   "cell_type": "code",
   "execution_count": 46,
   "metadata": {},
   "outputs": [
    {
     "data": {
      "text/html": [
       "<div>\n",
       "<table border=\"1\" class=\"dataframe\">\n",
       "  <thead>\n",
       "    <tr style=\"text-align: right;\">\n",
       "      <th></th>\n",
       "      <th>Close</th>\n",
       "      <th>Close 1</th>\n",
       "      <th>Close -1</th>\n",
       "      <th>Difference</th>\n",
       "    </tr>\n",
       "    <tr>\n",
       "      <th>Date</th>\n",
       "      <th></th>\n",
       "      <th></th>\n",
       "      <th></th>\n",
       "      <th></th>\n",
       "    </tr>\n",
       "  </thead>\n",
       "  <tbody>\n",
       "    <tr>\n",
       "      <th>2010-01-04</th>\n",
       "      <td>132.449997</td>\n",
       "      <td>0.000000</td>\n",
       "      <td>130.850006</td>\n",
       "      <td>-1.599991</td>\n",
       "    </tr>\n",
       "    <tr>\n",
       "      <th>2010-01-05</th>\n",
       "      <td>130.850006</td>\n",
       "      <td>132.449997</td>\n",
       "      <td>130.000000</td>\n",
       "      <td>-0.850006</td>\n",
       "    </tr>\n",
       "    <tr>\n",
       "      <th>2010-01-06</th>\n",
       "      <td>130.000000</td>\n",
       "      <td>130.850006</td>\n",
       "      <td>129.550003</td>\n",
       "      <td>-0.449997</td>\n",
       "    </tr>\n",
       "    <tr>\n",
       "      <th>2010-01-07</th>\n",
       "      <td>129.550003</td>\n",
       "      <td>130.000000</td>\n",
       "      <td>130.850006</td>\n",
       "      <td>1.300003</td>\n",
       "    </tr>\n",
       "    <tr>\n",
       "      <th>2010-01-08</th>\n",
       "      <td>130.850006</td>\n",
       "      <td>129.550003</td>\n",
       "      <td>129.479996</td>\n",
       "      <td>-1.370010</td>\n",
       "    </tr>\n",
       "  </tbody>\n",
       "</table>\n",
       "</div>"
      ],
      "text/plain": [
       "                 Close     Close 1    Close -1  Difference\n",
       "Date                                                      \n",
       "2010-01-04  132.449997    0.000000  130.850006   -1.599991\n",
       "2010-01-05  130.850006  132.449997  130.000000   -0.850006\n",
       "2010-01-06  130.000000  130.850006  129.550003   -0.449997\n",
       "2010-01-07  129.550003  130.000000  130.850006    1.300003\n",
       "2010-01-08  130.850006  129.550003  129.479996   -1.370010"
      ]
     },
     "execution_count": 46,
     "metadata": {},
     "output_type": "execute_result"
    }
   ],
   "source": [
    "df.head()"
   ]
  },
  {
   "cell_type": "code",
   "execution_count": 47,
   "metadata": {},
   "outputs": [],
   "source": [
    "scaler = MinMaxScaler(feature_range=(-1, 1))\n",
    "scaled_X = scaler.fit_transform(df['Difference'].values.reshape(-1, 1))"
   ]
  },
  {
   "cell_type": "code",
   "execution_count": 48,
   "metadata": {},
   "outputs": [],
   "source": [
    "# split data into train and test\n",
    "length_of_df = len(df)\n",
    "train_size = 0.75\n",
    "\n",
    "to_idx = int(length_of_df*train_size)\n",
    "train, test = scaled_X[0:to_idx], scaled_X[to_idx:]"
   ]
  },
  {
   "cell_type": "code",
   "execution_count": 49,
   "metadata": {},
   "outputs": [
    {
     "name": "stdout",
     "output_type": "stream",
     "text": [
      "(1383, 1)\n",
      "(462, 1)\n"
     ]
    }
   ],
   "source": [
    "print(train.shape)\n",
    "print(test.shape)"
   ]
  },
  {
   "cell_type": "code",
   "execution_count": 50,
   "metadata": {},
   "outputs": [],
   "source": [
    "def create_trainable_data(from_data, sequence_length=100):\n",
    "    result = []\n",
    "    y_result = []\n",
    "    for index in range(len(from_data) - sequence_length):\n",
    "        result.append(from_data[index: index + sequence_length, 0])\n",
    "        y_result.append(from_data[index + sequence_length, 0])\n",
    "    result = np.array(result)\n",
    "    y_result = np.array(y_result)\n",
    "    return result, y_result"
   ]
  },
  {
   "cell_type": "code",
   "execution_count": 51,
   "metadata": {},
   "outputs": [
    {
     "name": "stdout",
     "output_type": "stream",
     "text": [
      "X train shape:  (1283, 100)\n",
      "y train shape:  (1283,)\n"
     ]
    }
   ],
   "source": [
    "X_train, y_train = create_trainable_data(train)\n",
    "X_test, y_test = create_trainable_data(test)\n",
    "print('X train shape: ', X_train.shape)\n",
    "print('y train shape: ', y_train.shape)"
   ]
  },
  {
   "cell_type": "code",
   "execution_count": 52,
   "metadata": {},
   "outputs": [
    {
     "data": {
      "text/plain": [
       "0.86913560807017354"
      ]
     },
     "execution_count": 52,
     "metadata": {},
     "output_type": "execute_result"
    }
   ],
   "source": [
    "# the second row's last item...\n",
    "X_train[1, 99]"
   ]
  },
  {
   "cell_type": "code",
   "execution_count": 53,
   "metadata": {},
   "outputs": [
    {
     "data": {
      "text/plain": [
       "0.86913560807017354"
      ]
     },
     "execution_count": 53,
     "metadata": {},
     "output_type": "execute_result"
    }
   ],
   "source": [
    "# ...should be the first predicted value\n",
    "y_train[0]"
   ]
  },
  {
   "cell_type": "code",
   "execution_count": 58,
   "metadata": {},
   "outputs": [
    {
     "name": "stdout",
     "output_type": "stream",
     "text": [
      "Train on 1283 samples, validate on 362 samples\n",
      "Epoch 1/10\n",
      "22s - loss: 0.6622 - acc: 7.7942e-04 - val_loss: 0.3718 - val_acc: 0.0000e+00\n",
      "Epoch 2/10\n",
      "22s - loss: 0.3643 - acc: 7.7942e-04 - val_loss: 0.3716 - val_acc: 0.0000e+00\n",
      "Epoch 3/10\n",
      "23s - loss: 0.3631 - acc: 7.7942e-04 - val_loss: 0.3711 - val_acc: 0.0000e+00\n",
      "Epoch 4/10\n",
      "21s - loss: 0.3626 - acc: 7.7942e-04 - val_loss: 0.3710 - val_acc: 0.0000e+00\n",
      "Epoch 5/10\n",
      "22s - loss: 0.3623 - acc: 7.7942e-04 - val_loss: 0.3710 - val_acc: 0.0000e+00\n",
      "Epoch 6/10\n",
      "22s - loss: 0.3619 - acc: 7.7942e-04 - val_loss: 0.3720 - val_acc: 0.0000e+00\n",
      "Epoch 7/10\n",
      "21s - loss: 0.3621 - acc: 7.7942e-04 - val_loss: 0.3710 - val_acc: 0.0000e+00\n",
      "Epoch 8/10\n",
      "22s - loss: 0.3621 - acc: 7.7942e-04 - val_loss: 0.3711 - val_acc: 0.0000e+00\n",
      "Epoch 9/10\n",
      "21s - loss: 0.3617 - acc: 7.7942e-04 - val_loss: 0.3717 - val_acc: 0.0000e+00\n",
      "Epoch 10/10\n",
      "21s - loss: 0.3617 - acc: 7.7942e-04 - val_loss: 0.3722 - val_acc: 0.0000e+00\n"
     ]
    },
    {
     "data": {
      "text/plain": [
       "<keras.callbacks.History at 0x1f792885f28>"
      ]
     },
     "execution_count": 58,
     "metadata": {},
     "output_type": "execute_result"
    }
   ],
   "source": [
    "features = X_train.shape[1]\n",
    "model = Sequential()\n",
    "model.add(Embedding(300, features))\n",
    "model.add(LSTM(features, dropout=0.2, recurrent_dropout=0.2))\n",
    "model.add(Dense(1, activation='tanh'))\n",
    "\n",
    "# try using different optimizers and different optimizer configs\n",
    "model.compile(loss='binary_crossentropy',\n",
    "              optimizer='adam',\n",
    "              metrics=['accuracy'])\n",
    "\n",
    "model.fit(X_train, y_train,\n",
    "          batch_size=8,\n",
    "          epochs=10,\n",
    "          validation_data=(X_test, y_test),\n",
    "          verbose=2)"
   ]
  },
  {
   "cell_type": "code",
   "execution_count": 59,
   "metadata": {},
   "outputs": [
    {
     "name": "stdout",
     "output_type": "stream",
     "text": [
      "Test score: 0.37223765007\n",
      "Test accuracy: 0.0\n"
     ]
    }
   ],
   "source": [
    "score, acc = model.evaluate(X_test, y_test,\n",
    "                            batch_size=8, verbose=2)\n",
    "print('Test score:', score)\n",
    "print('Test accuracy:', acc)"
   ]
  }
 ],
 "metadata": {
  "kernelspec": {
   "display_name": "Python 3",
   "language": "python",
   "name": "python3"
  },
  "language_info": {
   "codemirror_mode": {
    "name": "ipython",
    "version": 3
   },
   "file_extension": ".py",
   "mimetype": "text/x-python",
   "name": "python",
   "nbconvert_exporter": "python",
   "pygments_lexer": "ipython3",
   "version": "3.5.3"
  }
 },
 "nbformat": 4,
 "nbformat_minor": 2
}
